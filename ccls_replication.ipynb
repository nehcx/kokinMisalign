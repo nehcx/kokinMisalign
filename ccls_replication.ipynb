{
  "nbformat": 4,
  "nbformat_minor": 0,
  "metadata": {
    "colab": {
      "provenance": [],
      "toc_visible": true,
      "authorship_tag": "ABX9TyPYoNvGc53ILhrRfxQGEWty",
      "include_colab_link": true
    },
    "kernelspec": {
      "name": "python3",
      "display_name": "Python 3"
    },
    "language_info": {
      "name": "python"
    }
  },
  "cells": [
    {
      "cell_type": "markdown",
      "metadata": {
        "id": "view-in-github",
        "colab_type": "text"
      },
      "source": [
        "<a href=\"https://colab.research.google.com/github/nehcx/misalignVis/blob/master/ccls_replication.ipynb\" target=\"_parent\"><img src=\"https://colab.research.google.com/assets/colab-badge.svg\" alt=\"Open In Colab\"/></a>"
      ]
    },
    {
      "cell_type": "markdown",
      "source": [
        "# 1 | Requirements"
      ],
      "metadata": {
        "id": "qolxmfu1OP2o"
      }
    },
    {
      "cell_type": "code",
      "execution_count": 1,
      "metadata": {
        "colab": {
          "base_uri": "https://localhost:8080/"
        },
        "id": "gjn5Yi2hR-zV",
        "outputId": "62ea1e3b-d7c4-4c46-b168-b1a798fa115b"
      },
      "outputs": [
        {
          "output_type": "stream",
          "name": "stdout",
          "text": [
            "Cloning into 'misalignVis'...\n",
            "remote: Enumerating objects: 57, done.\u001b[K\n",
            "remote: Counting objects: 100% (57/57), done.\u001b[K\n",
            "remote: Compressing objects: 100% (49/49), done.\u001b[K\n",
            "remote: Total 57 (delta 5), reused 37 (delta 2), pack-reused 0\u001b[K\n",
            "Unpacking objects: 100% (57/57), 23.49 MiB | 2.74 MiB/s, done.\n",
            "Updating files: 100% (48/48), done.\n",
            "Submodule 'data/hachidaishu' (https://github.com/yamagen/hachidaishu) registered for path 'data/hachidaishu'\n",
            "Cloning into '/content/misalignVis/data/hachidaishu'...\n",
            "remote: Enumerating objects: 64, done.        \n",
            "remote: Counting objects: 100% (64/64), done.        \n",
            "remote: Compressing objects: 100% (53/53), done.        \n",
            "remote: Total 64 (delta 17), reused 52 (delta 10), pack-reused 0        \n",
            "Submodule path 'data/hachidaishu': checked out 'a0aaf7e0a42689db7ad2a78ab2eef9d5ac22341c'\n"
          ]
        }
      ],
      "source": [
        "!git clone -b master --depth=1 --recursive https://github.com/nehcx/misalignVis"
      ]
    },
    {
      "cell_type": "code",
      "source": [
        "import os\n",
        "os.chdir('/content/misalignVis')\n",
        "print(os.getcwd())"
      ],
      "metadata": {
        "colab": {
          "base_uri": "https://localhost:8080/"
        },
        "id": "To7HbyARVhiX",
        "outputId": "6d1887a4-568c-411a-de84-106851f179cb"
      },
      "execution_count": 8,
      "outputs": [
        {
          "output_type": "stream",
          "name": "stdout",
          "text": [
            "/content/misalignVis\n"
          ]
        }
      ]
    },
    {
      "cell_type": "code",
      "source": [
        "# !apt-get install -y python-igraph \n",
        "!pip install -r requirements.txt"
      ],
      "metadata": {
        "id": "5dOLzuh7WbRN",
        "colab": {
          "base_uri": "https://localhost:8080/"
        },
        "outputId": "ef5617f5-7a35-4126-bc0d-db4126fe217c"
      },
      "execution_count": 2,
      "outputs": [
        {
          "output_type": "stream",
          "name": "stdout",
          "text": [
            "Looking in indexes: https://pypi.org/simple, https://us-python.pkg.dev/colab-wheels/public/simple/\n",
            "Requirement already satisfied: dill==0.3.5.1 in /usr/local/lib/python3.10/dist-packages (from -r requirements.txt (line 1)) (0.3.5.1)\n",
            "Collecting pandas==1.4.3 (from -r requirements.txt (line 2))\n",
            "  Using cached pandas-1.4.3-cp310-cp310-manylinux_2_17_x86_64.manylinux2014_x86_64.whl (11.6 MB)\n",
            "Requirement already satisfied: omegaconf==2.2.2 in /usr/local/lib/python3.10/dist-packages (from -r requirements.txt (line 3)) (2.2.2)\n",
            "Collecting hydra-core==1.2.0 (from -r requirements.txt (line 4))\n",
            "  Using cached hydra_core-1.2.0-py3-none-any.whl (151 kB)\n",
            "Requirement already satisfied: nltk==3.7.0 in /usr/local/lib/python3.10/dist-packages (from -r requirements.txt (line 5)) (3.7)\n",
            "Collecting pytest==6.2.2 (from -r requirements.txt (line 6))\n",
            "  Using cached pytest-6.2.2-py3-none-any.whl (280 kB)\n",
            "Collecting leidenalg==0.8.10 (from -r requirements.txt (line 7))\n",
            "  Using cached leidenalg-0.8.10-cp310-cp310-manylinux_2_17_x86_64.manylinux2014_x86_64.whl (1.3 MB)\n",
            "Collecting cairocffi==1.3.0 (from -r requirements.txt (line 8))\n",
            "  Using cached cairocffi-1.3.0-py3-none-any.whl\n",
            "Collecting chart-studio==1.1.0 (from -r requirements.txt (line 9))\n",
            "  Using cached chart_studio-1.1.0-py3-none-any.whl (64 kB)\n",
            "Collecting dash==2.7.1 (from -r requirements.txt (line 10))\n",
            "  Using cached dash-2.7.1-py3-none-any.whl (9.9 MB)\n",
            "Requirement already satisfied: dash-html-components==2.0.0 in /usr/local/lib/python3.10/dist-packages (from -r requirements.txt (line 11)) (2.0.0)\n",
            "Requirement already satisfied: dash-core-components==2.0.0 in /usr/local/lib/python3.10/dist-packages (from -r requirements.txt (line 12)) (2.0.0)\n",
            "Requirement already satisfied: dash-table==5.0.0 in /usr/local/lib/python3.10/dist-packages (from -r requirements.txt (line 13)) (5.0.0)\n",
            "Requirement already satisfied: python-dateutil>=2.8.1 in /usr/local/lib/python3.10/dist-packages (from pandas==1.4.3->-r requirements.txt (line 2)) (2.8.2)\n",
            "Requirement already satisfied: pytz>=2020.1 in /usr/local/lib/python3.10/dist-packages (from pandas==1.4.3->-r requirements.txt (line 2)) (2022.7.1)\n",
            "Requirement already satisfied: numpy>=1.21.0 in /usr/local/lib/python3.10/dist-packages (from pandas==1.4.3->-r requirements.txt (line 2)) (1.22.4)\n",
            "Requirement already satisfied: antlr4-python3-runtime==4.9.* in /usr/local/lib/python3.10/dist-packages (from omegaconf==2.2.2->-r requirements.txt (line 3)) (4.9.3)\n",
            "Requirement already satisfied: PyYAML>=5.1.0 in /usr/local/lib/python3.10/dist-packages (from omegaconf==2.2.2->-r requirements.txt (line 3)) (6.0)\n",
            "Requirement already satisfied: packaging in /usr/local/lib/python3.10/dist-packages (from hydra-core==1.2.0->-r requirements.txt (line 4)) (23.1)\n",
            "Requirement already satisfied: click in /usr/local/lib/python3.10/dist-packages (from nltk==3.7.0->-r requirements.txt (line 5)) (8.1.3)\n",
            "Requirement already satisfied: joblib in /usr/local/lib/python3.10/dist-packages (from nltk==3.7.0->-r requirements.txt (line 5)) (1.2.0)\n",
            "Requirement already satisfied: regex>=2021.8.3 in /usr/local/lib/python3.10/dist-packages (from nltk==3.7.0->-r requirements.txt (line 5)) (2022.10.31)\n",
            "Requirement already satisfied: tqdm in /usr/local/lib/python3.10/dist-packages (from nltk==3.7.0->-r requirements.txt (line 5)) (4.65.0)\n",
            "Requirement already satisfied: attrs>=19.2.0 in /usr/local/lib/python3.10/dist-packages (from pytest==6.2.2->-r requirements.txt (line 6)) (23.1.0)\n",
            "Requirement already satisfied: iniconfig in /usr/local/lib/python3.10/dist-packages (from pytest==6.2.2->-r requirements.txt (line 6)) (2.0.0)\n",
            "Requirement already satisfied: pluggy<1.0.0a1,>=0.12 in /usr/local/lib/python3.10/dist-packages (from pytest==6.2.2->-r requirements.txt (line 6)) (0.13.1)\n",
            "Requirement already satisfied: py>=1.8.2 in /usr/local/lib/python3.10/dist-packages (from pytest==6.2.2->-r requirements.txt (line 6)) (1.11.0)\n",
            "Requirement already satisfied: toml in /usr/local/lib/python3.10/dist-packages (from pytest==6.2.2->-r requirements.txt (line 6)) (0.10.2)\n",
            "Requirement already satisfied: igraph<0.10,>=0.9.0 in /usr/local/lib/python3.10/dist-packages (from leidenalg==0.8.10->-r requirements.txt (line 7)) (0.9.11)\n",
            "Requirement already satisfied: cffi>=1.1.0 in /usr/local/lib/python3.10/dist-packages (from cairocffi==1.3.0->-r requirements.txt (line 8)) (1.15.1)\n",
            "Requirement already satisfied: plotly in /usr/local/lib/python3.10/dist-packages (from chart-studio==1.1.0->-r requirements.txt (line 9)) (5.13.1)\n",
            "Requirement already satisfied: requests in /usr/local/lib/python3.10/dist-packages (from chart-studio==1.1.0->-r requirements.txt (line 9)) (2.27.1)\n",
            "Requirement already satisfied: retrying>=1.3.3 in /usr/local/lib/python3.10/dist-packages (from chart-studio==1.1.0->-r requirements.txt (line 9)) (1.3.4)\n",
            "Requirement already satisfied: six in /usr/local/lib/python3.10/dist-packages (from chart-studio==1.1.0->-r requirements.txt (line 9)) (1.16.0)\n",
            "Requirement already satisfied: Flask>=1.0.4 in /usr/local/lib/python3.10/dist-packages (from dash==2.7.1->-r requirements.txt (line 10)) (2.2.4)\n",
            "Requirement already satisfied: pycparser in /usr/local/lib/python3.10/dist-packages (from cffi>=1.1.0->cairocffi==1.3.0->-r requirements.txt (line 8)) (2.21)\n",
            "Requirement already satisfied: Werkzeug>=2.2.2 in /usr/local/lib/python3.10/dist-packages (from Flask>=1.0.4->dash==2.7.1->-r requirements.txt (line 10)) (2.3.0)\n",
            "Requirement already satisfied: Jinja2>=3.0 in /usr/local/lib/python3.10/dist-packages (from Flask>=1.0.4->dash==2.7.1->-r requirements.txt (line 10)) (3.1.2)\n",
            "Requirement already satisfied: itsdangerous>=2.0 in /usr/local/lib/python3.10/dist-packages (from Flask>=1.0.4->dash==2.7.1->-r requirements.txt (line 10)) (2.1.2)\n",
            "Requirement already satisfied: texttable>=1.6.2 in /usr/local/lib/python3.10/dist-packages (from igraph<0.10,>=0.9.0->leidenalg==0.8.10->-r requirements.txt (line 7)) (1.6.7)\n",
            "Requirement already satisfied: tenacity>=6.2.0 in /usr/local/lib/python3.10/dist-packages (from plotly->chart-studio==1.1.0->-r requirements.txt (line 9)) (8.2.2)\n",
            "Requirement already satisfied: urllib3<1.27,>=1.21.1 in /usr/local/lib/python3.10/dist-packages (from requests->chart-studio==1.1.0->-r requirements.txt (line 9)) (1.26.15)\n",
            "Requirement already satisfied: certifi>=2017.4.17 in /usr/local/lib/python3.10/dist-packages (from requests->chart-studio==1.1.0->-r requirements.txt (line 9)) (2022.12.7)\n",
            "Requirement already satisfied: charset-normalizer~=2.0.0 in /usr/local/lib/python3.10/dist-packages (from requests->chart-studio==1.1.0->-r requirements.txt (line 9)) (2.0.12)\n",
            "Requirement already satisfied: idna<4,>=2.5 in /usr/local/lib/python3.10/dist-packages (from requests->chart-studio==1.1.0->-r requirements.txt (line 9)) (3.4)\n",
            "Requirement already satisfied: MarkupSafe>=2.0 in /usr/local/lib/python3.10/dist-packages (from Jinja2>=3.0->Flask>=1.0.4->dash==2.7.1->-r requirements.txt (line 10)) (2.1.2)\n",
            "Installing collected packages: pytest, pandas, leidenalg, hydra-core, chart-studio, cairocffi, dash\n",
            "  Attempting uninstall: pytest\n",
            "    Found existing installation: pytest 7.2.2\n",
            "    Uninstalling pytest-7.2.2:\n",
            "      Successfully uninstalled pytest-7.2.2\n",
            "  Attempting uninstall: pandas\n",
            "    Found existing installation: pandas 1.5.3\n",
            "    Uninstalling pandas-1.5.3:\n",
            "      Successfully uninstalled pandas-1.5.3\n",
            "\u001b[31mERROR: pip's dependency resolver does not currently take into account all the packages that are installed. This behaviour is the source of the following dependency conflicts.\n",
            "google-colab 1.0.0 requires pandas==1.5.3, but you have pandas 1.4.3 which is incompatible.\u001b[0m\u001b[31m\n",
            "\u001b[0mSuccessfully installed cairocffi-1.3.0 chart-studio-1.1.0 dash-2.7.1 hydra-core-1.2.0 leidenalg-0.8.10 pandas-1.4.3 pytest-6.2.2\n"
          ]
        }
      ]
    },
    {
      "cell_type": "code",
      "source": [
        "!apt-get install graphviz libgraphviz-dev\n",
        "!pip install pygraphviz\n",
        "!pip install dash jupyter-dash"
      ],
      "metadata": {
        "id": "AKwgFnwoe1VQ",
        "colab": {
          "base_uri": "https://localhost:8080/"
        },
        "outputId": "a5fbbd55-e561-40a0-e89f-059bdc2bc113"
      },
      "execution_count": 3,
      "outputs": [
        {
          "output_type": "stream",
          "name": "stdout",
          "text": [
            "Reading package lists... Done\n",
            "Building dependency tree       \n",
            "Reading state information... Done\n",
            "graphviz is already the newest version (2.42.2-3build2).\n",
            "libgraphviz-dev is already the newest version (2.42.2-3build2).\n",
            "0 upgraded, 0 newly installed, 0 to remove and 34 not upgraded.\n",
            "Looking in indexes: https://pypi.org/simple, https://us-python.pkg.dev/colab-wheels/public/simple/\n",
            "Collecting pygraphviz\n",
            "  Downloading pygraphviz-1.10.zip (120 kB)\n",
            "\u001b[2K     \u001b[90m━━━━━━━━━━━━━━━━━━━━━━━━━━━━━━━━━━━━━━━\u001b[0m \u001b[32m120.6/120.6 kB\u001b[0m \u001b[31m8.2 MB/s\u001b[0m eta \u001b[36m0:00:00\u001b[0m\n",
            "\u001b[?25h  Preparing metadata (setup.py) ... \u001b[?25l\u001b[?25hdone\n",
            "Building wheels for collected packages: pygraphviz\n",
            "  Building wheel for pygraphviz (setup.py) ... \u001b[?25l\u001b[?25hdone\n",
            "  Created wheel for pygraphviz: filename=pygraphviz-1.10-cp310-cp310-linux_x86_64.whl size=184030 sha256=fce9f54c59c45ec4ab9a863b7db2e3f7ab8227300be028f34900c2792f82a4e6\n",
            "  Stored in directory: /root/.cache/pip/wheels/e9/50/02/d9d68f6c947a928e517d5cd9af0ab007c1274fdba95fa9cbe3\n",
            "Successfully built pygraphviz\n",
            "Installing collected packages: pygraphviz\n",
            "Successfully installed pygraphviz-1.10\n",
            "Looking in indexes: https://pypi.org/simple, https://us-python.pkg.dev/colab-wheels/public/simple/\n",
            "Requirement already satisfied: dash in /usr/local/lib/python3.10/dist-packages (2.7.1)\n",
            "Collecting jupyter-dash\n",
            "  Downloading jupyter_dash-0.4.2-py3-none-any.whl (23 kB)\n",
            "Requirement already satisfied: Flask>=1.0.4 in /usr/local/lib/python3.10/dist-packages (from dash) (2.2.4)\n",
            "Requirement already satisfied: plotly>=5.0.0 in /usr/local/lib/python3.10/dist-packages (from dash) (5.13.1)\n",
            "Requirement already satisfied: dash-html-components==2.0.0 in /usr/local/lib/python3.10/dist-packages (from dash) (2.0.0)\n",
            "Requirement already satisfied: dash-core-components==2.0.0 in /usr/local/lib/python3.10/dist-packages (from dash) (2.0.0)\n",
            "Requirement already satisfied: dash-table==5.0.0 in /usr/local/lib/python3.10/dist-packages (from dash) (5.0.0)\n",
            "Requirement already satisfied: requests in /usr/local/lib/python3.10/dist-packages (from jupyter-dash) (2.27.1)\n",
            "Requirement already satisfied: retrying in /usr/local/lib/python3.10/dist-packages (from jupyter-dash) (1.3.4)\n",
            "Requirement already satisfied: ipython in /usr/local/lib/python3.10/dist-packages (from jupyter-dash) (7.34.0)\n",
            "Requirement already satisfied: ipykernel in /usr/local/lib/python3.10/dist-packages (from jupyter-dash) (5.5.6)\n",
            "Collecting ansi2html (from jupyter-dash)\n",
            "  Downloading ansi2html-1.8.0-py3-none-any.whl (16 kB)\n",
            "Requirement already satisfied: nest-asyncio in /usr/local/lib/python3.10/dist-packages (from jupyter-dash) (1.5.6)\n",
            "Requirement already satisfied: Werkzeug>=2.2.2 in /usr/local/lib/python3.10/dist-packages (from Flask>=1.0.4->dash) (2.3.0)\n",
            "Requirement already satisfied: Jinja2>=3.0 in /usr/local/lib/python3.10/dist-packages (from Flask>=1.0.4->dash) (3.1.2)\n",
            "Requirement already satisfied: itsdangerous>=2.0 in /usr/local/lib/python3.10/dist-packages (from Flask>=1.0.4->dash) (2.1.2)\n",
            "Requirement already satisfied: click>=8.0 in /usr/local/lib/python3.10/dist-packages (from Flask>=1.0.4->dash) (8.1.3)\n",
            "Requirement already satisfied: tenacity>=6.2.0 in /usr/local/lib/python3.10/dist-packages (from plotly>=5.0.0->dash) (8.2.2)\n",
            "Requirement already satisfied: ipython-genutils in /usr/local/lib/python3.10/dist-packages (from ipykernel->jupyter-dash) (0.2.0)\n",
            "Requirement already satisfied: traitlets>=4.1.0 in /usr/local/lib/python3.10/dist-packages (from ipykernel->jupyter-dash) (5.7.1)\n",
            "Requirement already satisfied: jupyter-client in /usr/local/lib/python3.10/dist-packages (from ipykernel->jupyter-dash) (6.1.12)\n",
            "Requirement already satisfied: tornado>=4.2 in /usr/local/lib/python3.10/dist-packages (from ipykernel->jupyter-dash) (6.3.1)\n",
            "Requirement already satisfied: setuptools>=18.5 in /usr/local/lib/python3.10/dist-packages (from ipython->jupyter-dash) (67.7.2)\n",
            "Collecting jedi>=0.16 (from ipython->jupyter-dash)\n",
            "  Downloading jedi-0.18.2-py2.py3-none-any.whl (1.6 MB)\n",
            "\u001b[2K     \u001b[90m━━━━━━━━━━━━━━━━━━━━━━━━━━━━━━━━━━━━━━━━\u001b[0m \u001b[32m1.6/1.6 MB\u001b[0m \u001b[31m50.8 MB/s\u001b[0m eta \u001b[36m0:00:00\u001b[0m\n",
            "\u001b[?25hRequirement already satisfied: decorator in /usr/local/lib/python3.10/dist-packages (from ipython->jupyter-dash) (4.4.2)\n",
            "Requirement already satisfied: pickleshare in /usr/local/lib/python3.10/dist-packages (from ipython->jupyter-dash) (0.7.5)\n",
            "Requirement already satisfied: prompt-toolkit!=3.0.0,!=3.0.1,<3.1.0,>=2.0.0 in /usr/local/lib/python3.10/dist-packages (from ipython->jupyter-dash) (3.0.38)\n",
            "Requirement already satisfied: pygments in /usr/local/lib/python3.10/dist-packages (from ipython->jupyter-dash) (2.14.0)\n",
            "Requirement already satisfied: backcall in /usr/local/lib/python3.10/dist-packages (from ipython->jupyter-dash) (0.2.0)\n",
            "Requirement already satisfied: matplotlib-inline in /usr/local/lib/python3.10/dist-packages (from ipython->jupyter-dash) (0.1.6)\n",
            "Requirement already satisfied: pexpect>4.3 in /usr/local/lib/python3.10/dist-packages (from ipython->jupyter-dash) (4.8.0)\n",
            "Requirement already satisfied: urllib3<1.27,>=1.21.1 in /usr/local/lib/python3.10/dist-packages (from requests->jupyter-dash) (1.26.15)\n",
            "Requirement already satisfied: certifi>=2017.4.17 in /usr/local/lib/python3.10/dist-packages (from requests->jupyter-dash) (2022.12.7)\n",
            "Requirement already satisfied: charset-normalizer~=2.0.0 in /usr/local/lib/python3.10/dist-packages (from requests->jupyter-dash) (2.0.12)\n",
            "Requirement already satisfied: idna<4,>=2.5 in /usr/local/lib/python3.10/dist-packages (from requests->jupyter-dash) (3.4)\n",
            "Requirement already satisfied: six>=1.7.0 in /usr/local/lib/python3.10/dist-packages (from retrying->jupyter-dash) (1.16.0)\n",
            "Requirement already satisfied: parso<0.9.0,>=0.8.0 in /usr/local/lib/python3.10/dist-packages (from jedi>=0.16->ipython->jupyter-dash) (0.8.3)\n",
            "Requirement already satisfied: MarkupSafe>=2.0 in /usr/local/lib/python3.10/dist-packages (from Jinja2>=3.0->Flask>=1.0.4->dash) (2.1.2)\n",
            "Requirement already satisfied: ptyprocess>=0.5 in /usr/local/lib/python3.10/dist-packages (from pexpect>4.3->ipython->jupyter-dash) (0.7.0)\n",
            "Requirement already satisfied: wcwidth in /usr/local/lib/python3.10/dist-packages (from prompt-toolkit!=3.0.0,!=3.0.1,<3.1.0,>=2.0.0->ipython->jupyter-dash) (0.2.6)\n",
            "Requirement already satisfied: jupyter-core>=4.6.0 in /usr/local/lib/python3.10/dist-packages (from jupyter-client->ipykernel->jupyter-dash) (5.3.0)\n",
            "Requirement already satisfied: pyzmq>=13 in /usr/local/lib/python3.10/dist-packages (from jupyter-client->ipykernel->jupyter-dash) (23.2.1)\n",
            "Requirement already satisfied: python-dateutil>=2.1 in /usr/local/lib/python3.10/dist-packages (from jupyter-client->ipykernel->jupyter-dash) (2.8.2)\n",
            "Requirement already satisfied: platformdirs>=2.5 in /usr/local/lib/python3.10/dist-packages (from jupyter-core>=4.6.0->jupyter-client->ipykernel->jupyter-dash) (3.3.0)\n",
            "Installing collected packages: jedi, ansi2html, jupyter-dash\n",
            "Successfully installed ansi2html-1.8.0 jedi-0.18.2 jupyter-dash-0.4.2\n"
          ]
        }
      ]
    },
    {
      "cell_type": "code",
      "source": [
        "!make build_bitext  # make bitexts.csv\n",
        "!make build_metacode2lemma_dict  # make metacode2lemma dictionary\n",
        "!make train_save_ibm2  # train and save ibm model 2\n",
        "!make save_db "
      ],
      "metadata": {
        "colab": {
          "base_uri": "https://localhost:8080/"
        },
        "id": "tkZZyhCc3g4z",
        "outputId": "e22c8204-667d-4986-9877-e7e00d0c1e1a"
      },
      "execution_count": null,
      "outputs": [
        {
          "output_type": "stream",
          "name": "stdout",
          "text": [
            "cd src;\tpython make_bitext.py -s ../data/hachidaishu/hachidai.db -t ../data/translations/all_translations.txt -o ../cache/bitexts.csv\n",
            "2023-05-25 17:21:02,700 [INFO] args: Namespace(src_path='../data/hachidaishu/hachidai.db', tar_path='../data/translations/all_translations.txt', out_path='../cache/bitexts.csv')\n",
            "2023-05-25 17:21:02,700 [INFO] Loading ../data/hachidaishu/hachidai.db for Kokinwakashu texts...\n",
            "2023-05-25 17:21:17,177 [INFO] Loading ../data/translations/all_translations.txt for kaneko's traslation...\n",
            "2023-05-25 17:21:42,676 [INFO] Loading ../data/translations/all_translations.txt for katagiri's traslation...\n",
            "2023-05-25 17:22:03,921 [INFO] Loading ../data/translations/all_translations.txt for kojimaarai's traslation...\n",
            "2023-05-25 17:22:24,691 [INFO] Loading ../data/translations/all_translations.txt for komachiya's traslation...\n"
          ]
        }
      ]
    },
    {
      "cell_type": "code",
      "source": [
        "!cp data/metacode2en.pkl cache/metacode2lemma_tar.pkl"
      ],
      "metadata": {
        "id": "0zYtg2OMueKS"
      },
      "execution_count": 4,
      "outputs": []
    },
    {
      "cell_type": "markdown",
      "source": [
        "# 2 | Dashboard"
      ],
      "metadata": {
        "id": "lzFSwoaT5YTq"
      }
    },
    {
      "cell_type": "code",
      "source": [
        "import subprocess\n",
        "os.chdir('/content/misalignVis/src')\n",
        "print(os.getcwd())"
      ],
      "metadata": {
        "colab": {
          "base_uri": "https://localhost:8080/"
        },
        "id": "hFpJOXnTwK5L",
        "outputId": "3d785f29-9a9d-47b7-b852-45da07139587"
      },
      "execution_count": 5,
      "outputs": [
        {
          "output_type": "stream",
          "name": "stdout",
          "text": [
            "/content/misalignVis/src\n"
          ]
        }
      ]
    },
    {
      "cell_type": "code",
      "source": [
        "\"\"\"Dash board.\"\"\"\n",
        "import pandas as pd\n",
        "from plotly.graph_objs import Scatter, Layout, Figure\n",
        "from plotly.graph_objs.layout import XAxis, YAxis, Margin\n",
        "from jupyter_dash import JupyterDash\n",
        "from dash import dcc, html, dash_table\n",
        "from dash.dependencies import Input, Output, State\n",
        "from bitexts import AlignmentInfo\n",
        "from utils import load_pickle, lemma2metacode\n",
        "from visualize_indivisual import draw_plotly_by_translator_by_poem\n",
        "from visualize_aggregate_translator import draw_plotly_by_translator\n",
        "from visualize_alignment import query, alignment_table, visualize_heatmap \n",
        "\n",
        "fullname2id_map = {\n",
        "    \"[KNK/金子] Kaneko, Motoomi (1933)\": \"kaneko\",\n",
        "    \"[KBT/窪田] Kubota, Utsubo (1960)\": \"kubota\",\n",
        "    \"[MTD/松田] Matsuda, Takeo (1968)\": \"matsuda\",\n",
        "    \"[OZW/小沢] Ozawa, Masao (1971)\": \"ozawa\",\n",
        "    \"[TKOK/竹岡] Takeoka, Masao (1976)\": \"takeoka\",  \n",
        "    \"[OKMR/奥村] Okumura, Tsuneya (1978)\": \"okumura\",\n",
        "    \"[KSJ/久曽神] Kyusojin, Hitachi (1979)\": \"kyusojin\",\n",
        "    \"[KMCY/小町谷] Komachiya, Teruhiko (1982)\": \"komachiya\",\n",
        "    \"[K&A/小島・新井] Kojima, Noriyuki and Arai, Eizo (1989)\": \"kojimaarai\",\n",
        "    \"[KTGR/片桐] Katagiri, Yoichi (1998)\": \"katagiri\",\n",
        "}\n",
        "translator_lst = fullname2id_map.keys()\n",
        "metacode2lemma_map_src = load_pickle(\"../cache/metacode2lemma_src.pkl\")\n",
        "word_lst = [k + \":\" + v  for k, v in metacode2lemma_map_src.items() if\n",
        "            v in [\"梅\", \"女郎花\", \"菊\", \"桜\", \"松\", \"山吹\"]]\n",
        "word_lst.sort()\n",
        "with open(\"../README-app.md\", 'r') as f: \n",
        "    readme = f.read()\n",
        "\n",
        "def _blank(width, height, text, font_size): \n",
        "    Xn = [0]\n",
        "    Yn = [0]\n",
        "    trace = Scatter(\n",
        "        x=Xn,\n",
        "        y=Yn,\n",
        "        mode=\"text\",\n",
        "    )\n",
        "    annotation = text\n",
        "    data = [trace]\n",
        "    axis = dict(\n",
        "        showline=False, \n",
        "        zeroline=False,\n",
        "        showgrid=False,\n",
        "        showticklabels=False,\n",
        "        title=\"\",\n",
        "    )\n",
        "    layout = Layout(\n",
        "        # title=title,\n",
        "        paper_bgcolor=\"rgba(0,0,0,0)\",\n",
        "        plot_bgcolor=\"rgba(0,0,0,0)\",\n",
        "        font=dict(size=16),\n",
        "        showlegend=False,\n",
        "        autosize=True,\n",
        "        width=width,\n",
        "        height=height,\n",
        "        xaxis=XAxis(axis),\n",
        "        yaxis=YAxis(axis),\n",
        "        margin=Margin(\n",
        "            l=0,\n",
        "            r=0,\n",
        "            b=85,\n",
        "            t=40,\n",
        "        ),\n",
        "        hovermode=\"closest\",\n",
        "        annotations=\n",
        "[\n",
        "            dict(\n",
        "                showarrow=False,\n",
        "                text=annotation,\n",
        "                xref=\"paper\",\n",
        "                yref=\"paper\",\n",
        "                x=0,\n",
        "                y=0,\n",
        "                xanchor=\"left\",\n",
        "                yanchor=\"bottom\",\n",
        "                font=dict(size=font_size),\n",
        "            )\n",
        "        ],\n",
        "    )\n",
        "\n",
        "    fig = Figure(data=data, layout=layout)\n",
        "    return fig\n",
        "\n",
        "app = JupyterDash(\n",
        "    __name__,\n",
        "    meta_tags=[\n",
        "        {\n",
        "            \"name\": \"viewport\", \n",
        "            \"content\": \"width=device-width, initial-scale=1\"\n",
        "        }\n",
        "    ],\n",
        ")\n",
        "\n",
        "app.layout = html.Div(\n",
        "    children=[\n",
        "        # title\n",
        "        html.H1(\n",
        "            children=\"\"\"\n",
        "            Dashboard for visualizing word alignment and misalignment between \n",
        "            classical poetic Japanese and its contemporary translations\n",
        "            \"\"\",\n",
        "        ),\n",
        "        # query and intro\n",
        "        dcc.Tabs(\n",
        "            id=\"intro-and-query-tabs\",\n",
        "            value=\"what-is\",\n",
        "            parent_className=\"custom-tabs\",\n",
        "            className=\"custom-tabs-container\",\n",
        "            children=[\n",
        "                dcc.Tab(\n",
        "                    label=\"About\",\n",
        "                    value=\"what-is\",\n",
        "                    className=\"custom-tab\",\n",
        "                    selected_className=\"custom-tab--selected\",\n",
        "                    children=html.Div(\n",
        "                        className=\"control-tab\",\n",
        "                        children=[\n",
        "                            dcc.Markdown(readme),\n",
        "                        ],\n",
        "                    ),\n",
        "                ),\n",
        "                dcc.Tab(\n",
        "                    label=\"Query\",\n",
        "                    value=\"alignment-tab-select\",\n",
        "                    className=\"custom-tab\",\n",
        "                    selected_className=\"custom-tab--selected\",\n",
        "                    children=html.Div(\n",
        "                        className=\"app-controls-block\",\n",
        "                        children=[\n",
        "                            # query word and translator\n",
        "                            html.Div(\n",
        "                                [\n",
        "                                    html.Br(),\n",
        "                                    html.Div([\n",
        "                                        html.Label(\"Word:\"),\n",
        "                                        dcc.Dropdown(\n",
        "                                            id=\"target\",\n",
        "                                            options=[\n",
        "                                                {\"label\": i, \"value\": i} \n",
        "                                                for i in word_lst\n",
        "                                            ],\n",
        "                                            value=\"BG-01-5520-05-0106:女郎花\",\n",
        "                                            multi=False,\n",
        "                                        ),\n",
        "                                    ],\n",
        "                                             style={\n",
        "                                                 \"width\": \"45%\", \n",
        "                                                 \"display\": \"inline-block\",\n",
        "                                             }\n",
        "                                             ),\n",
        "\n",
        "                                    html.Div([\n",
        "                                        html.Label(\"Translator:\"),\n",
        "                                        dcc.Dropdown(\n",
        "                                            id=\"translator\",\n",
        "                                            options=[\n",
        "                                                {\"label\": i, \"value\": i} \n",
        "                                                for i in translator_lst\n",
        "                                            ],\n",
        "                                            value=\"[KNK/金子] Kaneko, Motoomi (1933)\",\n",
        "                                            multi=False,\n",
        "                                        ),\n",
        "                                    ],\n",
        "                                             style={\n",
        "                                                 \"width\": \"45%\", \n",
        "                                                 \"float\": \"right\", \n",
        "                                                 \"display\": \"inline-block\",\n",
        "                                             }\n",
        "                                             ),\n",
        "                                ],\n",
        "                            ),\n",
        "                            # query specific poem\n",
        "                            html.Br(),\n",
        "                            html.Div(\n",
        "                                [\n",
        "                                    html.Label(\n",
        "                                        \"\"\"\n",
        "                                        Query results (click cell to visualize \n",
        "                                        alignment and collective misalignment \n",
        "                                        network of the bitext on the selected \n",
        "                                        row):\n",
        "                                        \"\"\"\n",
        "                                    ),\n",
        "                                    dash_table.DataTable(\n",
        "                                        id=\"datatable-paging\",\n",
        "                                        columns=[\n",
        "                                            {\"name\": i, \"id\": i} for i in \n",
        "                                            [\"poem\", \"queried word\", \n",
        "                                             \"source text\", \"target text\"]\n",
        "                                        ],\n",
        "                                        page_current=0,\n",
        "                                        page_size=3,\n",
        "                                        page_action=\"custom\",\n",
        "                                        style_cell_conditional=[\n",
        "                                            {\"if\": {\"column_id\": \"target text\"},                                        \n",
        "                                             \"width\": \"0%\"},\n",
        "                                            {\"if\": {\"column_id\": \"source text\"},                                        \n",
        "                                             \"width\": \"70%\"},\n",
        "                                            {\"if\": {\"column_id\": \"poem\"},                                        \n",
        "                                             \"width\": \"10%\"},\n",
        "                                            {\"if\": {\"column_id\": \"queried word\"},                                        \n",
        "                                             \"width\": \"20%\"},\n",
        "                                        ],\n",
        "                                        style_cell={\n",
        "                                            \"overflow\": \"hidden\",\n",
        "                                            \"textOverflow\": \"ellipsis\",\n",
        "                                            \"maxWidth\": 0,\n",
        "                                        },\n",
        "                                    ),\n",
        "                                ],\n",
        "                            ),\n",
        "                        ],\n",
        "                    ),\n",
        "                ),\n",
        "            ],\n",
        "        ),\n",
        "\n",
        "        html.Br(),\n",
        "        dcc.Tabs(\n",
        "            id=\"result-tabs\",\n",
        "            value=\"network-tab-select\",\n",
        "            parent_className=\"custom-result-tabs\",\n",
        "            className=\"custom-result-tabs-container\",\n",
        "            children=[\n",
        "                dcc.Tab(\n",
        "                    label=\"Word alignment visualization\",\n",
        "                    value=\"alignment-tab-select\",\n",
        "                    className=\"custom-tab\",\n",
        "                    selected_className=\"custom-tab--selected\",\n",
        "                    children=html.Div(\n",
        "                        className=\"result-tab\",\n",
        "                        children=[\n",
        "                            html.Div(\n",
        "                                dcc.Graph(id=\"alignment-graph\"),\n",
        "                                style={\n",
        "                                    \"width\": \"100%\", \n",
        "                                    \"display\": \"inline-block\",\n",
        "                                },\n",
        "                            ),\n",
        "                        ],\n",
        "                    ),\n",
        "                ),\n",
        "\n",
        "                # html.Hr(),\n",
        "                dcc.Tab(\n",
        "                    label=\"Collective misalignment network visualization\",\n",
        "                    value=\"network-tab-select\",\n",
        "                    className=\"custom-tab\",\n",
        "                    selected_className=\"custom-tab--selected\",\n",
        "                    children=html.Div(\n",
        "                        className=\"result-tab\",\n",
        "                        children=[ \n",
        "                            html.Br(),\n",
        "                            html.Div(\n",
        "                                [\n",
        "                                    html.Div(\n",
        "                                        [\n",
        "                                            # html.Label(\"Selected poem\"),\n",
        "                                            dcc.Graph(\n",
        "                                                id=\"individual-network-graph\"\n",
        "                                            ), \n",
        "                                        ],       \n",
        "                                        style={\n",
        "                                            \"width\": \"50%\", \n",
        "                                            \"float\": \"left\", \n",
        "                                            \"display\": \"inline-block\",\n",
        "                                        },\n",
        "                                    ),\n",
        "\n",
        "                                    html.Div(\n",
        "                                        [\n",
        "                                            # html.Label(\"All queried poems\"),\n",
        "                                            dcc.Graph(\n",
        "                                                id=\"translator-network-graph\"\n",
        "                                            ), \n",
        "                                        ],       \n",
        "                                        style={\n",
        "                                            \"width\": \"50%\", \n",
        "                                            \"float\": \"right\", \n",
        "                                            \"display\": \"inline-block\",\n",
        "                                        },\n",
        "                                    ),\n",
        "                                ],\n",
        "                            ),\n",
        "                        ],\n",
        "                    ),\n",
        "                ),\n",
        "            ],\n",
        "        ),\n",
        "    ],\n",
        "                      )\n",
        "\n",
        "\n",
        "# Data table\n",
        "@app.callback(\n",
        "    [Output(\"datatable-paging\", \"page_current\"),\n",
        "     Output(\"datatable-paging\", \"page_count\"),\n",
        "     Output(\"datatable-paging\", \"data\")],\n",
        "    [Input(\"datatable-paging\", \"page_current\"),\n",
        "     Input(\"datatable-paging\", \"page_size\"),\n",
        "     Input(\"target\", \"value\"),\n",
        "     Input(\"translator\", \"value\")],\n",
        "    [State(\"datatable-paging\", \"data\")]\n",
        ")\n",
        "def update_table(page_current, page_size, target, translator, table_data):\n",
        "    target, word = target.split(\":\")\n",
        "    translator = fullname2id_map[translator]\n",
        "    candidates = query(target, translator)\n",
        "    page_count = len(candidates) // page_size + 1\n",
        "    candidate_df = pd.DataFrame({\n",
        "        \"poem\": [candidate.poem for candidate in candidates],\n",
        "        \"source text\": [candidate.source_surface for candidate in candidates],\n",
        "        \"target text\": [candidate.target_surface for candidate in candidates],\n",
        "        \"queried word\": [word for candidate in candidates],\n",
        "    })\n",
        "    data = candidate_df.iloc[\n",
        "        page_current*page_size:(page_current+1)*page_size\n",
        "    ].to_dict(\"records\")\n",
        "    if table_data is not None:\n",
        "        try: \n",
        "            table_data[0]\n",
        "        except:\n",
        "            page_current = page_count - 1\n",
        "    return page_current, page_count, data\n",
        "\n",
        "\n",
        "# Alignment visualization and individual poem network visualization\n",
        "@app.callback(\n",
        "    [Output(\"alignment-graph\", \"figure\"),\n",
        "     Output(\"individual-network-graph\", \"figure\")],\n",
        "    [Input(\"datatable-paging\", \"active_cell\"),\n",
        "     Input(\"datatable-paging\", \"page_current\"),\n",
        "     Input(\"datatable-paging\", \"page_size\"),\n",
        "     Input(\"translator\", \"value\"),\n",
        "     Input(\"target\", \"value\")],\n",
        "    [State(\"datatable-paging\", \"data\")]\n",
        ")\n",
        "def update_alignment_and_individual_network_graph(\n",
        "        active_cell, page_current, page_size, \n",
        "        translator, target, table_data):\n",
        "    try:\n",
        "        target, word = target.split(\":\")\n",
        "        translator = fullname2id_map[translator]\n",
        "        if active_cell:\n",
        "            row = active_cell[\"row\"]\n",
        "            queied_word = table_data[row][\"queried word\"]\n",
        "            if queied_word == word:\n",
        "                idx = table_data[row][\"poem\"]\n",
        "                text = table_data[row][\"source text\"]\n",
        "            else:\n",
        "                candidates = query(target, translator)    \n",
        "                current_candidate = candidates[page_current*page_size]    \n",
        "                idx = current_candidate.poem\n",
        "                text = current_candidate.source_surface\n",
        "        else:\n",
        "            candidates = query(target, translator)    \n",
        "            current_candidate = candidates[page_current*page_size]    \n",
        "            idx = current_candidate.poem\n",
        "            text = current_candidate.source_surface\n",
        "        _, heatmap, targets = alignment_table(idx, translator, target)\n",
        "        fig_alignment = visualize_heatmap(heatmap, targets)\n",
        "        fig_alignment.update_layout(transition_duration=500)\n",
        "        fig_individual_network = draw_plotly_by_translator_by_poem(target, idx)\n",
        "        fig_individual_network.update_layout(\n",
        "            title = f\"<span style='font-size: 14px;'>{target} {word}</span>\" + \n",
        "            \"<br>\" +\n",
        "            f\"<span style='font-size: 10px;'>{text} -古今{idx}</span>\"\n",
        "        )\n",
        "        fig_individual_network.update_layout(transition_duration=500)\n",
        "        return fig_alignment, fig_individual_network\n",
        "    except:\n",
        "        return (_blank(1000, 600, \"Queried word was not found.\", 12),\n",
        "                _blank(500, 600, \"Queried word was not found.\", 12))\n",
        "\n",
        "\n",
        "# Global network visualization\n",
        "@app.callback(\n",
        "    Output(\"translator-network-graph\", \"figure\"),\n",
        "    [Input(\"target\", \"value\")]\n",
        ")\n",
        "def update_translator_network(target):\n",
        "    try:\n",
        "        target = target.split(\":\")[0]\n",
        "        fig = draw_plotly_by_translator(target)\n",
        "        fig.update_layout(transition_duration=500)\n",
        "        return fig\n",
        "    except:\n",
        "        return _blank(500, 600, \"Queried word was not found.\", 12)"
      ],
      "metadata": {
        "id": "OW7U6mVc5gX5",
        "colab": {
          "base_uri": "https://localhost:8080/",
          "height": 988
        },
        "outputId": "bbed9e0f-8fc3-4b1f-ee4c-35a0bde9a25f"
      },
      "execution_count": 6,
      "outputs": [
        {
          "output_type": "error",
          "ename": "AttributeError",
          "evalue": "ignored",
          "traceback": [
            "\u001b[0;31m---------------------------------------------------------------------------\u001b[0m",
            "\u001b[0;31mAttributeError\u001b[0m                            Traceback (most recent call last)",
            "\u001b[0;32m<ipython-input-6-e518979598c3>\u001b[0m in \u001b[0;36m<cell line: 10>\u001b[0;34m()\u001b[0m\n\u001b[1;32m      8\u001b[0m \u001b[0;32mfrom\u001b[0m \u001b[0mbitexts\u001b[0m \u001b[0;32mimport\u001b[0m \u001b[0mAlignmentInfo\u001b[0m\u001b[0;34m\u001b[0m\u001b[0;34m\u001b[0m\u001b[0m\n\u001b[1;32m      9\u001b[0m \u001b[0;32mfrom\u001b[0m \u001b[0mutils\u001b[0m \u001b[0;32mimport\u001b[0m \u001b[0mload_pickle\u001b[0m\u001b[0;34m,\u001b[0m \u001b[0mlemma2metacode\u001b[0m\u001b[0;34m\u001b[0m\u001b[0;34m\u001b[0m\u001b[0m\n\u001b[0;32m---> 10\u001b[0;31m \u001b[0;32mfrom\u001b[0m \u001b[0mvisualize_indivisual\u001b[0m \u001b[0;32mimport\u001b[0m \u001b[0mdraw_plotly_by_translator_by_poem\u001b[0m\u001b[0;34m\u001b[0m\u001b[0;34m\u001b[0m\u001b[0m\n\u001b[0m\u001b[1;32m     11\u001b[0m \u001b[0;32mfrom\u001b[0m \u001b[0mvisualize_aggregate_translator\u001b[0m \u001b[0;32mimport\u001b[0m \u001b[0mdraw_plotly_by_translator\u001b[0m\u001b[0;34m\u001b[0m\u001b[0;34m\u001b[0m\u001b[0m\n\u001b[1;32m     12\u001b[0m \u001b[0;32mfrom\u001b[0m \u001b[0mvisualize_alignment\u001b[0m \u001b[0;32mimport\u001b[0m \u001b[0mquery\u001b[0m\u001b[0;34m,\u001b[0m \u001b[0malignment_table\u001b[0m\u001b[0;34m,\u001b[0m \u001b[0mvisualize_heatmap\u001b[0m\u001b[0;34m\u001b[0m\u001b[0;34m\u001b[0m\u001b[0m\n",
            "\u001b[0;32m/content/misalignVis/src/visualize_indivisual.py\u001b[0m in \u001b[0;36m<module>\u001b[0;34m\u001b[0m\n\u001b[1;32m      8\u001b[0m \u001b[0;32mfrom\u001b[0m \u001b[0mbitexts\u001b[0m \u001b[0;32mimport\u001b[0m \u001b[0mAlignmentInfo\u001b[0m\u001b[0;34m\u001b[0m\u001b[0;34m\u001b[0m\u001b[0m\n\u001b[1;32m      9\u001b[0m \u001b[0;32mimport\u001b[0m \u001b[0mbitexts\u001b[0m\u001b[0;34m\u001b[0m\u001b[0;34m\u001b[0m\u001b[0m\n\u001b[0;32m---> 10\u001b[0;31m \u001b[0;32mfrom\u001b[0m \u001b[0malign2graph\u001b[0m \u001b[0;32mimport\u001b[0m \u001b[0mDB\u001b[0m\u001b[0;34m,\u001b[0m \u001b[0mtranslator_lst\u001b[0m\u001b[0;34m,\u001b[0m \u001b[0mmetacode2lemma_map_src\u001b[0m\u001b[0;34m,\u001b[0m \u001b[0mromaji2kanji_map\u001b[0m\u001b[0;34m,\u001b[0m \u001b[0mretrive_igraph_by_poem_by_translator\u001b[0m\u001b[0;34m\u001b[0m\u001b[0;34m\u001b[0m\u001b[0m\n\u001b[0m\u001b[1;32m     11\u001b[0m \u001b[0;34m\u001b[0m\u001b[0m\n\u001b[1;32m     12\u001b[0m \u001b[0;34m\u001b[0m\u001b[0m\n",
            "\u001b[0;32m/content/misalignVis/src/align2graph.py\u001b[0m in \u001b[0;36m<module>\u001b[0;34m\u001b[0m\n\u001b[1;32m      6\u001b[0m \u001b[0;32mimport\u001b[0m \u001b[0mbitexts\u001b[0m\u001b[0;34m\u001b[0m\u001b[0;34m\u001b[0m\u001b[0m\n\u001b[1;32m      7\u001b[0m \u001b[0;34m\u001b[0m\u001b[0m\n\u001b[0;32m----> 8\u001b[0;31m \u001b[0mDB\u001b[0m \u001b[0;34m=\u001b[0m \u001b[0mload_pickle\u001b[0m\u001b[0;34m(\u001b[0m\u001b[0;34m\"../cache/bitexts.db\"\u001b[0m\u001b[0;34m)\u001b[0m\u001b[0;34m\u001b[0m\u001b[0;34m\u001b[0m\u001b[0m\n\u001b[0m\u001b[1;32m      9\u001b[0m \u001b[0mtranslator_lst\u001b[0m \u001b[0;34m=\u001b[0m \u001b[0mDB\u001b[0m\u001b[0;34m.\u001b[0m\u001b[0mtranslators\u001b[0m\u001b[0;34m\u001b[0m\u001b[0;34m\u001b[0m\u001b[0m\n\u001b[1;32m     10\u001b[0m \u001b[0mmetacode2lemma_map_src\u001b[0m \u001b[0;34m=\u001b[0m \u001b[0mload_pickle\u001b[0m\u001b[0;34m(\u001b[0m\u001b[0;34m\"../cache/metacode2lemma_src.pkl\"\u001b[0m\u001b[0;34m)\u001b[0m\u001b[0;34m\u001b[0m\u001b[0;34m\u001b[0m\u001b[0m\n",
            "\u001b[0;32m/content/misalignVis/src/utils.py\u001b[0m in \u001b[0;36mload_pickle\u001b[0;34m(fname)\u001b[0m\n\u001b[1;32m     14\u001b[0m     \u001b[0;34m\"\"\"Load .pkl files.\"\"\"\u001b[0m\u001b[0;34m\u001b[0m\u001b[0;34m\u001b[0m\u001b[0m\n\u001b[1;32m     15\u001b[0m     \u001b[0mfp\u001b[0m \u001b[0;34m=\u001b[0m \u001b[0mopen\u001b[0m\u001b[0;34m(\u001b[0m\u001b[0mfname\u001b[0m\u001b[0;34m,\u001b[0m \u001b[0;34m\"rb\"\u001b[0m\u001b[0;34m)\u001b[0m\u001b[0;34m\u001b[0m\u001b[0;34m\u001b[0m\u001b[0m\n\u001b[0;32m---> 16\u001b[0;31m     \u001b[0;32mreturn\u001b[0m \u001b[0mpickle\u001b[0m\u001b[0;34m.\u001b[0m\u001b[0mload\u001b[0m\u001b[0;34m(\u001b[0m\u001b[0mfp\u001b[0m\u001b[0;34m)\u001b[0m\u001b[0;34m\u001b[0m\u001b[0;34m\u001b[0m\u001b[0m\n\u001b[0m\u001b[1;32m     17\u001b[0m \u001b[0;34m\u001b[0m\u001b[0m\n\u001b[1;32m     18\u001b[0m \u001b[0;34m\u001b[0m\u001b[0m\n",
            "\u001b[0;32m/usr/local/lib/python3.10/dist-packages/dill/_dill.py\u001b[0m in \u001b[0;36mload\u001b[0;34m(file, ignore, **kwds)\u001b[0m\n\u001b[1;32m    371\u001b[0m     \u001b[0mSee\u001b[0m \u001b[0;34m:\u001b[0m\u001b[0mfunc\u001b[0m\u001b[0;34m:\u001b[0m\u001b[0;31m`\u001b[0m\u001b[0mloads\u001b[0m\u001b[0;31m`\u001b[0m \u001b[0;32mfor\u001b[0m \u001b[0mkeyword\u001b[0m \u001b[0marguments\u001b[0m\u001b[0;34m.\u001b[0m\u001b[0;34m\u001b[0m\u001b[0;34m\u001b[0m\u001b[0m\n\u001b[1;32m    372\u001b[0m     \"\"\"\n\u001b[0;32m--> 373\u001b[0;31m     \u001b[0;32mreturn\u001b[0m \u001b[0mUnpickler\u001b[0m\u001b[0;34m(\u001b[0m\u001b[0mfile\u001b[0m\u001b[0;34m,\u001b[0m \u001b[0mignore\u001b[0m\u001b[0;34m=\u001b[0m\u001b[0mignore\u001b[0m\u001b[0;34m,\u001b[0m \u001b[0;34m**\u001b[0m\u001b[0mkwds\u001b[0m\u001b[0;34m)\u001b[0m\u001b[0;34m.\u001b[0m\u001b[0mload\u001b[0m\u001b[0;34m(\u001b[0m\u001b[0;34m)\u001b[0m\u001b[0;34m\u001b[0m\u001b[0;34m\u001b[0m\u001b[0m\n\u001b[0m\u001b[1;32m    374\u001b[0m \u001b[0;34m\u001b[0m\u001b[0m\n\u001b[1;32m    375\u001b[0m \u001b[0;32mdef\u001b[0m \u001b[0mloads\u001b[0m\u001b[0;34m(\u001b[0m\u001b[0mstr\u001b[0m\u001b[0;34m,\u001b[0m \u001b[0mignore\u001b[0m\u001b[0;34m=\u001b[0m\u001b[0;32mNone\u001b[0m\u001b[0;34m,\u001b[0m \u001b[0;34m**\u001b[0m\u001b[0mkwds\u001b[0m\u001b[0;34m)\u001b[0m\u001b[0;34m:\u001b[0m\u001b[0;34m\u001b[0m\u001b[0;34m\u001b[0m\u001b[0m\n",
            "\u001b[0;32m/usr/local/lib/python3.10/dist-packages/dill/_dill.py\u001b[0m in \u001b[0;36mload\u001b[0;34m(self)\u001b[0m\n\u001b[1;32m    644\u001b[0m \u001b[0;34m\u001b[0m\u001b[0m\n\u001b[1;32m    645\u001b[0m     \u001b[0;32mdef\u001b[0m \u001b[0mload\u001b[0m\u001b[0;34m(\u001b[0m\u001b[0mself\u001b[0m\u001b[0;34m)\u001b[0m\u001b[0;34m:\u001b[0m \u001b[0;31m#NOTE: if settings change, need to update attributes\u001b[0m\u001b[0;34m\u001b[0m\u001b[0;34m\u001b[0m\u001b[0m\n\u001b[0;32m--> 646\u001b[0;31m         \u001b[0mobj\u001b[0m \u001b[0;34m=\u001b[0m \u001b[0mStockUnpickler\u001b[0m\u001b[0;34m.\u001b[0m\u001b[0mload\u001b[0m\u001b[0;34m(\u001b[0m\u001b[0mself\u001b[0m\u001b[0;34m)\u001b[0m\u001b[0;34m\u001b[0m\u001b[0;34m\u001b[0m\u001b[0m\n\u001b[0m\u001b[1;32m    647\u001b[0m         \u001b[0;32mif\u001b[0m \u001b[0mtype\u001b[0m\u001b[0;34m(\u001b[0m\u001b[0mobj\u001b[0m\u001b[0;34m)\u001b[0m\u001b[0;34m.\u001b[0m\u001b[0m__module__\u001b[0m \u001b[0;34m==\u001b[0m \u001b[0mgetattr\u001b[0m\u001b[0;34m(\u001b[0m\u001b[0m_main_module\u001b[0m\u001b[0;34m,\u001b[0m \u001b[0;34m'__name__'\u001b[0m\u001b[0;34m,\u001b[0m \u001b[0;34m'__main__'\u001b[0m\u001b[0;34m)\u001b[0m\u001b[0;34m:\u001b[0m\u001b[0;34m\u001b[0m\u001b[0;34m\u001b[0m\u001b[0m\n\u001b[1;32m    648\u001b[0m             \u001b[0;32mif\u001b[0m \u001b[0;32mnot\u001b[0m \u001b[0mself\u001b[0m\u001b[0;34m.\u001b[0m\u001b[0m_ignore\u001b[0m\u001b[0;34m:\u001b[0m\u001b[0;34m\u001b[0m\u001b[0;34m\u001b[0m\u001b[0m\n",
            "\u001b[0;32m/usr/local/lib/python3.10/dist-packages/dill/_dill.py\u001b[0m in \u001b[0;36mfind_class\u001b[0;34m(self, module, name)\u001b[0m\n\u001b[1;32m    634\u001b[0m             \u001b[0;32mreturn\u001b[0m \u001b[0mtype\u001b[0m\u001b[0;34m(\u001b[0m\u001b[0;32mNone\u001b[0m\u001b[0;34m)\u001b[0m \u001b[0;31m#XXX: special case: NoneType missing\u001b[0m\u001b[0;34m\u001b[0m\u001b[0;34m\u001b[0m\u001b[0m\n\u001b[1;32m    635\u001b[0m         \u001b[0;32mif\u001b[0m \u001b[0mmodule\u001b[0m \u001b[0;34m==\u001b[0m \u001b[0;34m'dill.dill'\u001b[0m\u001b[0;34m:\u001b[0m \u001b[0mmodule\u001b[0m \u001b[0;34m=\u001b[0m \u001b[0;34m'dill._dill'\u001b[0m\u001b[0;34m\u001b[0m\u001b[0;34m\u001b[0m\u001b[0m\n\u001b[0;32m--> 636\u001b[0;31m         \u001b[0;32mreturn\u001b[0m \u001b[0mStockUnpickler\u001b[0m\u001b[0;34m.\u001b[0m\u001b[0mfind_class\u001b[0m\u001b[0;34m(\u001b[0m\u001b[0mself\u001b[0m\u001b[0;34m,\u001b[0m \u001b[0mmodule\u001b[0m\u001b[0;34m,\u001b[0m \u001b[0mname\u001b[0m\u001b[0;34m)\u001b[0m\u001b[0;34m\u001b[0m\u001b[0;34m\u001b[0m\u001b[0m\n\u001b[0m\u001b[1;32m    637\u001b[0m \u001b[0;34m\u001b[0m\u001b[0m\n\u001b[1;32m    638\u001b[0m     \u001b[0;32mdef\u001b[0m \u001b[0m__init__\u001b[0m\u001b[0;34m(\u001b[0m\u001b[0mself\u001b[0m\u001b[0;34m,\u001b[0m \u001b[0;34m*\u001b[0m\u001b[0margs\u001b[0m\u001b[0;34m,\u001b[0m \u001b[0;34m**\u001b[0m\u001b[0mkwds\u001b[0m\u001b[0;34m)\u001b[0m\u001b[0;34m:\u001b[0m\u001b[0;34m\u001b[0m\u001b[0;34m\u001b[0m\u001b[0m\n",
            "\u001b[0;31mAttributeError\u001b[0m: Can't get attribute '_InitVarMeta' on <module 'dataclasses' from '/usr/lib/python3.10/dataclasses.py'>"
          ]
        }
      ]
    },
    {
      "cell_type": "code",
      "source": [
        "app.run_server(mode='inline')"
      ],
      "metadata": {
        "colab": {
          "base_uri": "https://localhost:8080/",
          "height": 672
        },
        "id": "0TOhLXGIBkeS",
        "outputId": "8a2078af-c3af-4ae3-871f-09b5acf78a3c"
      },
      "execution_count": 26,
      "outputs": [
        {
          "output_type": "display_data",
          "data": {
            "text/plain": [
              "<IPython.core.display.Javascript object>"
            ],
            "application/javascript": [
              "(async (port, path, width, height, cache, element) => {\n",
              "    if (!google.colab.kernel.accessAllowed && !cache) {\n",
              "      return;\n",
              "    }\n",
              "    element.appendChild(document.createTextNode(''));\n",
              "    const url = await google.colab.kernel.proxyPort(port, {cache});\n",
              "    const iframe = document.createElement('iframe');\n",
              "    iframe.src = new URL(path, url).toString();\n",
              "    iframe.height = height;\n",
              "    iframe.width = width;\n",
              "    iframe.style.border = 0;\n",
              "    iframe.allow = [\n",
              "        'accelerometer',\n",
              "        'autoplay',\n",
              "        'camera',\n",
              "        'clipboard-read',\n",
              "        'clipboard-write',\n",
              "        'gyroscope',\n",
              "        'magnetometer',\n",
              "        'microphone',\n",
              "        'serial',\n",
              "        'usb',\n",
              "        'xr-spatial-tracking',\n",
              "    ].join('; ');\n",
              "    element.appendChild(iframe);\n",
              "  })(8050, \"/\", \"100%\", 650, false, window.element)"
            ]
          },
          "metadata": {}
        }
      ]
    },
    {
      "cell_type": "markdown",
      "source": [
        "# 3 | Visualization by Graphviz\n"
      ],
      "metadata": {
        "id": "NtM2FuzFOb_4"
      }
    },
    {
      "cell_type": "markdown",
      "source": [
        "## 3.1 | Aggregate Visualization"
      ],
      "metadata": {
        "id": "P9nNC4ILcplc"
      }
    },
    {
      "cell_type": "code",
      "source": [
        "import subprocess\n",
        "\n",
        "os.chdir('/content/misalignVis/src')\n",
        "print(os.getcwd())"
      ],
      "metadata": {
        "colab": {
          "base_uri": "https://localhost:8080/"
        },
        "id": "m8SRVSMPKxA4",
        "outputId": "bdf56c38-f00e-469d-c0b7-55568b0501c5"
      },
      "execution_count": null,
      "outputs": [
        {
          "output_type": "stream",
          "name": "stdout",
          "text": [
            "/content/misalignVis/src\n"
          ]
        }
      ]
    },
    {
      "cell_type": "code",
      "source": [
        "import re\n",
        "import igraph as ig\n",
        "from dataclasses import astuple, asdict\n",
        "from utils import load_pickle, lemma2metacode\n",
        "import bitexts\n",
        "from bitexts import AlignmentInfo\n",
        "import math\n",
        "from IPython.display import SVG"
      ],
      "metadata": {
        "id": "FATSLPQVNEUr"
      },
      "execution_count": null,
      "outputs": []
    },
    {
      "cell_type": "code",
      "source": [
        "DB = load_pickle(\"../cache/bitexts.db\")\n",
        "translator_lst = DB.translators\n",
        "metacode2lemma_map_src = load_pickle(\"../cache/metacode2lemma_src.pkl\")\n",
        "metacode2lemma_map_tar = load_pickle(\"../cache/metacode2lemma_tar.pkl\")\n",
        "romaji2kanji_map = {\n",
        "    \"kaneko\": \"KNK\",\n",
        "    \"katagiri\": \"KTGR\",\n",
        "    \"kojimaarai\": \"K&A\",\n",
        "    \"komachiya\": \"KMCY\",\n",
        "    \"kubota\": \"KBT\",\n",
        "    \"kyusojin\": \"KSJ\",\n",
        "    \"matsuda\": \"MTD\",\n",
        "    \"okumura\": \"OKMR\",\n",
        "    \"ozawa\": \"OZW\",\n",
        "    \"takeoka\": \"TKOK\"\n",
        "}"
      ],
      "metadata": {
        "id": "deEJR9at0MYV"
      },
      "execution_count": 23,
      "outputs": []
    },
    {
      "cell_type": "code",
      "source": [
        "def _gen_graph(alignment_summary, edge_info, source_words, source_word_translator_set, target_word_set):\n",
        "\n",
        "    # Edge by translator generator\n",
        "    def edge_by_translator():\n",
        "        for stat in alignment_summary.summary:\n",
        "            source_word = stat.alignment[0]\n",
        "            target_word = stat.alignment[1]\n",
        "            stat = asdict(stat)\n",
        "            for (key, value) in stat.items():\n",
        "                if (key == \"alignment\") or (key == \"total\"):\n",
        "                    continue\n",
        "                source_node = f\"{source_word}-{key}\"\n",
        "                target_node = target_word\n",
        "                weight = value\n",
        "                if weight == 0:\n",
        "                    continue\n",
        "                yield (source_node, target_node, weight, 8)\n",
        "\n",
        "    # Aligned target word generator\n",
        "    def target_words():\n",
        "        for info in edge_info:\n",
        "            target_word = info.alignment[1]\n",
        "            if target_word in target_word_set:\n",
        "                continue\n",
        "            target_word_set.add(target_word)\n",
        "            yield target_word\n",
        "\n",
        "    # Source word with translator coding generator\n",
        "    def source_words_by_translator():\n",
        "        for word in source_words:\n",
        "            info_lst = alignment_summary.query_details_by_source(word)\n",
        "            for info in info_lst:\n",
        "                word = info.word\n",
        "                translator = info.translator\n",
        "                name = (word, translator)\n",
        "                if name in source_word_translator_set:\n",
        "                    continue\n",
        "                source_word_translator_set.add(name)\n",
        "                yield name\n",
        "\n",
        "    # Source word node generator\n",
        "    def source_nodes():\n",
        "        for row in source_words_by_translator():\n",
        "            source_word = row[0]\n",
        "            translator = row[1]\n",
        "            name = source_word + \"-\" + translator\n",
        "            node_ja = metacode2lemma_map_src[source_word]\n",
        "            node_eng = ja2eng_map.get(node_ja)\n",
        "            # if node_eng is None:\n",
        "            #     print(node_ja)\n",
        "            # else:\n",
        "            #     node_eng = node_eng.replace(\" \", \"\\n\")\n",
        "            node = f\"{node_eng}\\n({romaji2kanji_map[translator]})\"\n",
        "            node_type = 1\n",
        "            type_label = \"source\"\n",
        "            weight = 0\n",
        "            shape = \"ellipse\"\n",
        "            info_lst = alignment_summary.query_details_by_source(row[0])\n",
        "            for info in info_lst:\n",
        "                if info.translator != row[1]:\n",
        "                    continue\n",
        "                weight += 1\n",
        "            yield (name, node, node_type, type_label, weight, shape)\n",
        "\n",
        "    # Target word node generator\n",
        "    def target_nodes():\n",
        "        for word in target_words():\n",
        "            name = word\n",
        "            node = f\"{metacode2lemma_map_tar[word]}\"\n",
        "            node_type = 2\n",
        "            type_label = \"target\"\n",
        "            weight = 0\n",
        "            shape = \"rectangle\"\n",
        "            info_lst = alignment_summary.query_details_by_target(word)\n",
        "            for info in info_lst:\n",
        "                weight += 1\n",
        "                source_metacode = info.alignment[0].split(\"-\")\n",
        "                target_metacode = info.alignment[1].split(\"-\")\n",
        "                if source_metacode[:4] == target_metacode[:4]:\n",
        "                    node_type = 3\n",
        "                    type_label = \"dublicate\"\n",
        "            yield (name, node, node_type, type_label, weight, shape)\n",
        "\n",
        "    # Igraph construction\n",
        "    node_lst = list(source_nodes()) + list(target_nodes())\n",
        "    node_lst = sorted(node_lst, key=lambda x: (x[2], x[4]), reverse=True)\n",
        "    edge_lst = list(edge_by_translator())\n",
        "    edge_lst = sorted(edge_lst, key=lambda x: (x[1], x[2]), reverse=True)\n",
        "    graph = ig.Graph.TupleList(edge_lst, directed=False, edge_attrs=[\"label\", \"fontsize\"])\n",
        "\n",
        "    for node_attr in node_lst:\n",
        "        name, node, node_type, type_label, weight, shape = node_attr\n",
        "        for v in graph.vs:\n",
        "            if v[\"name\"] != name:\n",
        "                continue\n",
        "            v[\"label\"] = node\n",
        "            v[\"node_type\"] = node_type\n",
        "            v[\"type_label\"] = type_label\n",
        "            if weight >= 5:\n",
        "                v[\"style\"] = \"filled\"\n",
        "                v[\"fillcolor\"] = \"lightyellow\"\n",
        "            if node_type == 1:\n",
        "                v[\"style\"] = \"filled\"\n",
        "                v[\"fillcolor\"] = \"lightgrey\"\n",
        "                v[\"width\"] = 0.1\n",
        "                v[\"fontsize\"] = 8\n",
        "            else:\n",
        "                v[\"fontsize\"] = (math.log(weight+7)) * 5\n",
        "            v[\"shape\"] = shape\n",
        "    return graph\n",
        "\n",
        "def _filter(alignment_info_lst):\n",
        "    \"\"\"To remove edges that contain the same nodes with source nodes and stop pos.\"\"\"\n",
        "    for alignment_info in alignment_info_lst:\n",
        "        source, target = alignment_info.alignment\n",
        "        # BG-16: symbols\n",
        "        # BG-0[456789]: words that are not nouns, verbs or adjectives\n",
        "        # BG-03-1000: demonstratives\n",
        "        pattern = re.compile(r'BG-16|BG-0[456789]|BG-03-1000')\n",
        "        if pattern.match(target):\n",
        "            continue\n",
        "        if source[3:15] == target[3:15]:\n",
        "            continue\n",
        "        yield alignment_info\n",
        "\n",
        "\n",
        "def retrive_igraph_by_translator(*source_words):\n",
        "    \"\"\"Retrive igraph format data with translator attension.\n",
        "\n",
        "    :return graph: igraph-converted information.\n",
        "    \"\"\"\n",
        "    target_word_set = set()\n",
        "    source_word_translator_set = set()\n",
        "    alignment_lst = DB.query_improper_alignment_by_word(*source_words)    \n",
        "    alignment_lst = list(_filter(alignment_lst))\n",
        "    alignment_summary = bitexts.AlignmentSummary(alignment_lst)\n",
        "    edge_info = alignment_summary.alignment_info  # For edges' annotation\n",
        "\n",
        "    return _gen_graph(alignment_summary, edge_info, source_words, source_word_translator_set, target_word_set)"
      ],
      "metadata": {
        "id": "RM1WxPRGsOVr"
      },
      "execution_count": 31,
      "outputs": []
    },
    {
      "cell_type": "code",
      "source": [
        "def dot_viz_aggr(word, width=None):\n",
        "    code = lemma2metacode(word, metacode2lemma_map_src)\n",
        "    g = retrive_igraph_by_translator(code)\n",
        "    g.write_dot(f\"../artifacts/{word}.dot\")\n",
        "    if width:\n",
        "        with open(f\"../artifacts/{word}.dot\", \"r\") as file:\n",
        "            lines = file.readlines()\n",
        "\n",
        "        # attr\n",
        "        lines.insert(2, f'  size=\"{width},\";\\n')\n",
        "        lines.insert(3, '  ratio=\"fill\";\\n')\n",
        "\n",
        "        # lines.insert(4, '  mode=\"ipsep\";\\n')\n",
        "        # lines.insert(5, '  sep=1;\\n')\n",
        "        # lines.insert(6, '  overlap=false;\\n')\n",
        "        \n",
        "        with open(f\"../artifacts/{word}.dot\", \"w\") as file:\n",
        "            file.writelines(lines)\n",
        "    neato_command = f\"neato -Tsvg ../artifacts/{word}.dot -o ../artifacts/{word}.svg\"\n",
        "    subprocess.run(neato_command, shell=True, check=True)\n",
        "    display(SVG(filename=f\"../artifacts/{word}.svg\")) "
      ],
      "metadata": {
        "id": "LENoVhwG6hyN"
      },
      "execution_count": 32,
      "outputs": []
    },
    {
      "cell_type": "markdown",
      "source": [
        "### 3.2 | Examples"
      ],
      "metadata": {
        "id": "LfBopaAGOgZh"
      }
    },
    {
      "cell_type": "markdown",
      "source": [
        "#### 3.2.1 | *Ume*, en. plum"
      ],
      "metadata": {
        "id": "IGBZcWmDc5pY"
      }
    },
    {
      "cell_type": "code",
      "source": [
        "dot_viz_aggr(\"梅\")"
      ],
      "metadata": {
        "colab": {
          "base_uri": "https://localhost:8080/",
          "height": 624
        },
        "id": "dKfx8Xsy9ggq",
        "outputId": "f5f783a0-fd4b-4a8c-ac34-ec94c773c532"
      },
      "execution_count": 34,
      "outputs": [
        {
          "name": "stdout",
          "output_type": "stream",
          "text": [
            "Lemma has the following semantic codings:\n",
            " 1: BG-01-5520-20-0401\n",
            " 2: BG-01-5520-20-0402\n",
            "Input one ID to query:1\n"
          ]
        },
        {
          "output_type": "display_data",
          "data": {
            "text/plain": [
              "<IPython.core.display.SVG object>"
            ],
            "image/svg+xml": "<svg xmlns=\"http://www.w3.org/2000/svg\" xmlns:xlink=\"http://www.w3.org/1999/xlink\" width=\"376pt\" height=\"400pt\" viewBox=\"0.00 0.00 376.03 400.10\">\n<g id=\"graph0\" class=\"graph\" transform=\"scale(1 1) rotate(0) translate(4 396.1)\">\n<title>%3</title>\n<polygon fill=\"white\" stroke=\"transparent\" points=\"-4,4 -4,-396.1 372.03,-396.1 372.03,4 -4,4\"/>\n<!-- 0 -->\n<g id=\"node1\" class=\"node\">\n<title>0</title>\n<ellipse fill=\"lightgrey\" stroke=\"black\" cx=\"250.41\" cy=\"-200.47\" rx=\"28.98\" ry=\"18.27\"/>\n<text text-anchor=\"middle\" x=\"250.41\" y=\"-203.07\" font-family=\"Times,serif\" font-size=\"8.00\">plum</text>\n<text text-anchor=\"middle\" x=\"250.41\" y=\"-194.07\" font-family=\"Times,serif\" font-size=\"8.00\">(MTD)</text>\n</g>\n<!-- 1 -->\n<g id=\"node2\" class=\"node\">\n<title>1</title>\n<polygon fill=\"none\" stroke=\"black\" points=\"340.94,-293.62 301.94,-293.62 301.94,-257.62 340.94,-257.62 340.94,-293.62\"/>\n<text text-anchor=\"middle\" x=\"321.44\" y=\"-272.81\" font-family=\"Times,serif\" font-size=\"10.40\">None</text>\n</g>\n<!-- 1&#45;&#45;0 -->\n<g id=\"edge1\" class=\"edge\">\n<title>1--0</title>\n<path fill=\"none\" stroke=\"black\" d=\"M304.25,-257.43C292.42,-244.92 276.87,-228.46 265.52,-216.45\"/>\n<text text-anchor=\"middle\" x=\"282.88\" y=\"-239.54\" font-family=\"Times,serif\" font-size=\"8.00\">1</text>\n</g>\n<!-- 2 -->\n<g id=\"node3\" class=\"node\">\n<title>2</title>\n<ellipse fill=\"lightgrey\" stroke=\"black\" cx=\"98.17\" cy=\"-222.5\" rx=\"33.47\" ry=\"18.27\"/>\n<text text-anchor=\"middle\" x=\"98.17\" y=\"-225.1\" font-family=\"Times,serif\" font-size=\"8.00\">plum</text>\n<text text-anchor=\"middle\" x=\"98.17\" y=\"-216.1\" font-family=\"Times,serif\" font-size=\"8.00\">(OKMR)</text>\n</g>\n<!-- 3 -->\n<g id=\"node4\" class=\"node\">\n<title>3</title>\n<polygon fill=\"lightyellow\" stroke=\"black\" points=\"199.03,-177.13 150.03,-177.13 150.03,-141.13 199.03,-141.13 199.03,-177.13\"/>\n<text text-anchor=\"middle\" x=\"174.53\" y=\"-155.15\" font-family=\"Times,serif\" font-size=\"14.98\">None</text>\n</g>\n<!-- 3&#45;&#45;0 -->\n<g id=\"edge6\" class=\"edge\">\n<title>3--0</title>\n<path fill=\"none\" stroke=\"black\" d=\"M199.37,-172.67C208.71,-177.75 219.25,-183.49 228.32,-188.43\"/>\n<text text-anchor=\"middle\" x=\"211.85\" y=\"-183.15\" font-family=\"Times,serif\" font-size=\"8.00\">1</text>\n</g>\n<!-- 3&#45;&#45;2 -->\n<g id=\"edge2\" class=\"edge\">\n<title>3--2</title>\n<path fill=\"none\" stroke=\"black\" d=\"M152.44,-177.46C141.17,-186.82 127.6,-198.08 116.85,-207\"/>\n<text text-anchor=\"middle\" x=\"136.65\" y=\"-194.83\" font-family=\"Times,serif\" font-size=\"8.00\">5</text>\n</g>\n<!-- 4 -->\n<g id=\"node5\" class=\"node\">\n<title>4</title>\n<ellipse fill=\"lightgrey\" stroke=\"black\" cx=\"180.27\" cy=\"-96.39\" rx=\"28.98\" ry=\"18.27\"/>\n<text text-anchor=\"middle\" x=\"180.27\" y=\"-98.99\" font-family=\"Times,serif\" font-size=\"8.00\">plum</text>\n<text text-anchor=\"middle\" x=\"180.27\" y=\"-89.99\" font-family=\"Times,serif\" font-size=\"8.00\">(KNK)</text>\n</g>\n<!-- 4&#45;&#45;3 -->\n<g id=\"edge3\" class=\"edge\">\n<title>4--3</title>\n<path fill=\"none\" stroke=\"black\" d=\"M178.57,-114.87C177.82,-123.12 176.94,-132.79 176.19,-140.99\"/>\n<text text-anchor=\"middle\" x=\"175.38\" y=\"-130.53\" font-family=\"Times,serif\" font-size=\"8.00\">3</text>\n</g>\n<!-- 5 -->\n<g id=\"node6\" class=\"node\">\n<title>5</title>\n<ellipse fill=\"lightgrey\" stroke=\"black\" cx=\"105.31\" cy=\"-132.01\" rx=\"28.98\" ry=\"18.27\"/>\n<text text-anchor=\"middle\" x=\"105.31\" y=\"-134.61\" font-family=\"Times,serif\" font-size=\"8.00\">plum</text>\n<text text-anchor=\"middle\" x=\"105.31\" y=\"-125.61\" font-family=\"Times,serif\" font-size=\"8.00\">(K&amp;A)</text>\n</g>\n<!-- 5&#45;&#45;3 -->\n<g id=\"edge4\" class=\"edge\">\n<title>5--3</title>\n<path fill=\"none\" stroke=\"black\" d=\"M130.3,-141.8C136.65,-144.29 143.47,-146.96 149.81,-149.45\"/>\n<text text-anchor=\"middle\" x=\"138.05\" y=\"-148.22\" font-family=\"Times,serif\" font-size=\"8.00\">1</text>\n</g>\n<!-- 6 -->\n<g id=\"node7\" class=\"node\">\n<title>6</title>\n<ellipse fill=\"lightgrey\" stroke=\"black\" cx=\"218.95\" cy=\"-223.98\" rx=\"33.47\" ry=\"18.27\"/>\n<text text-anchor=\"middle\" x=\"218.95\" y=\"-226.58\" font-family=\"Times,serif\" font-size=\"8.00\">plum</text>\n<text text-anchor=\"middle\" x=\"218.95\" y=\"-217.58\" font-family=\"Times,serif\" font-size=\"8.00\">(KMCY)</text>\n</g>\n<!-- 6&#45;&#45;3 -->\n<g id=\"edge5\" class=\"edge\">\n<title>6--3</title>\n<path fill=\"none\" stroke=\"black\" d=\"M207.05,-206.6C200.88,-197.6 193.35,-186.6 187.09,-177.46\"/>\n<text text-anchor=\"middle\" x=\"199.07\" y=\"-194.63\" font-family=\"Times,serif\" font-size=\"8.00\">1</text>\n</g>\n<!-- 7 -->\n<g id=\"node8\" class=\"node\">\n<title>7</title>\n<ellipse fill=\"lightgrey\" stroke=\"black\" cx=\"256.33\" cy=\"-155.4\" rx=\"28.98\" ry=\"18.27\"/>\n<text text-anchor=\"middle\" x=\"256.33\" y=\"-158\" font-family=\"Times,serif\" font-size=\"8.00\">plum</text>\n<text text-anchor=\"middle\" x=\"256.33\" y=\"-149\" font-family=\"Times,serif\" font-size=\"8.00\">(OZW)</text>\n</g>\n<!-- 7&#45;&#45;3 -->\n<g id=\"edge7\" class=\"edge\">\n<title>7--3</title>\n<path fill=\"none\" stroke=\"black\" d=\"M227.26,-156.73C218.08,-157.15 208.02,-157.6 199.18,-158.01\"/>\n<text text-anchor=\"middle\" x=\"211.22\" y=\"-159.97\" font-family=\"Times,serif\" font-size=\"8.00\">1</text>\n</g>\n<!-- 8 -->\n<g id=\"node9\" class=\"node\">\n<title>8</title>\n<ellipse fill=\"lightgrey\" stroke=\"black\" cx=\"102.97\" cy=\"-178.45\" rx=\"32.55\" ry=\"18.27\"/>\n<text text-anchor=\"middle\" x=\"102.97\" y=\"-181.05\" font-family=\"Times,serif\" font-size=\"8.00\">plum</text>\n<text text-anchor=\"middle\" x=\"102.97\" y=\"-172.05\" font-family=\"Times,serif\" font-size=\"8.00\">(TKOK)</text>\n</g>\n<!-- 8&#45;&#45;3 -->\n<g id=\"edge8\" class=\"edge\">\n<title>8--3</title>\n<path fill=\"none\" stroke=\"black\" d=\"M132.49,-170.48C138.19,-168.94 144.1,-167.35 149.64,-165.85\"/>\n<text text-anchor=\"middle\" x=\"139.06\" y=\"-170.77\" font-family=\"Times,serif\" font-size=\"8.00\">1</text>\n</g>\n<!-- 9 -->\n<g id=\"node10\" class=\"node\">\n<title>9</title>\n<polygon fill=\"none\" stroke=\"black\" points=\"282.68,-123.67 240.68,-123.67 240.68,-87.67 282.68,-87.67 282.68,-123.67\"/>\n<text text-anchor=\"middle\" x=\"261.68\" y=\"-102.96\" font-family=\"Times,serif\" font-size=\"11.51\">None</text>\n</g>\n<!-- 9&#45;&#45;0 -->\n<g id=\"edge10\" class=\"edge\">\n<title>9--0</title>\n<path fill=\"none\" stroke=\"black\" d=\"M259.51,-123.95C257.52,-140.63 254.61,-165.16 252.62,-181.92\"/>\n<text text-anchor=\"middle\" x=\"254.06\" y=\"-155.54\" font-family=\"Times,serif\" font-size=\"8.00\">1</text>\n</g>\n<!-- 9&#45;&#45;4 -->\n<g id=\"edge9\" class=\"edge\">\n<title>9--4</title>\n<path fill=\"none\" stroke=\"black\" d=\"M240.29,-103.23C230.68,-102.14 219.2,-100.83 208.86,-99.65\"/>\n<text text-anchor=\"middle\" x=\"222.57\" y=\"-104.04\" font-family=\"Times,serif\" font-size=\"8.00\">1</text>\n</g>\n<!-- 9&#45;&#45;7 -->\n<g id=\"edge11\" class=\"edge\">\n<title>9--7</title>\n<path fill=\"none\" stroke=\"black\" d=\"M259.72,-123.91C259.26,-128.12 258.78,-132.61 258.33,-136.84\"/>\n<text text-anchor=\"middle\" x=\"257.02\" y=\"-132.97\" font-family=\"Times,serif\" font-size=\"8.00\">1</text>\n</g>\n<!-- 10 -->\n<g id=\"node11\" class=\"node\">\n<title>10</title>\n<polygon fill=\"none\" stroke=\"black\" points=\"52.79,-109.78 11.79,-109.78 11.79,-73.78 52.79,-73.78 52.79,-109.78\"/>\n<text text-anchor=\"middle\" x=\"32.29\" y=\"-88.99\" font-family=\"Times,serif\" font-size=\"10.99\">None</text>\n</g>\n<!-- 10&#45;&#45;5 -->\n<g id=\"edge12\" class=\"edge\">\n<title>10--5</title>\n<path fill=\"none\" stroke=\"black\" d=\"M53.02,-103.2C62.46,-108.4 73.65,-114.57 83.25,-119.86\"/>\n<text text-anchor=\"middle\" x=\"66.13\" y=\"-114.13\" font-family=\"Times,serif\" font-size=\"8.00\">2</text>\n</g>\n<!-- 11 -->\n<g id=\"node12\" class=\"node\">\n<title>11</title>\n<ellipse fill=\"lightgrey\" stroke=\"black\" cx=\"181.97\" cy=\"-294.34\" rx=\"25.41\" ry=\"18.27\"/>\n<text text-anchor=\"middle\" x=\"181.97\" y=\"-296.94\" font-family=\"Times,serif\" font-size=\"8.00\">plum</text>\n<text text-anchor=\"middle\" x=\"181.97\" y=\"-287.94\" font-family=\"Times,serif\" font-size=\"8.00\">(KSJ)</text>\n</g>\n<!-- 12 -->\n<g id=\"node13\" class=\"node\">\n<title>12</title>\n<polygon fill=\"none\" stroke=\"black\" points=\"185.71,-392.1 141.71,-392.1 141.71,-356.1 185.71,-356.1 185.71,-392.1\"/>\n<text text-anchor=\"middle\" x=\"163.71\" y=\"-371.29\" font-family=\"Times,serif\" font-size=\"10.40\">end up</text>\n</g>\n<!-- 12&#45;&#45;11 -->\n<g id=\"edge13\" class=\"edge\">\n<title>12--11</title>\n<path fill=\"none\" stroke=\"black\" d=\"M167.85,-356C170.82,-343.04 174.8,-325.65 177.78,-312.64\"/>\n<text text-anchor=\"middle\" x=\"170.82\" y=\"-336.92\" font-family=\"Times,serif\" font-size=\"8.00\">1</text>\n</g>\n<!-- 13 -->\n<g id=\"node14\" class=\"node\">\n<title>13</title>\n<polygon fill=\"lightyellow\" stroke=\"black\" points=\"272.46,-278.75 227.46,-278.75 227.46,-242.75 272.46,-242.75 272.46,-278.75\"/>\n<text text-anchor=\"middle\" x=\"249.96\" y=\"-257.49\" font-family=\"Times,serif\" font-size=\"12.82\">None</text>\n</g>\n<!-- 13&#45;&#45;0 -->\n<g id=\"edge17\" class=\"edge\">\n<title>13--0</title>\n<path fill=\"none\" stroke=\"black\" d=\"M250.09,-242.66C250.15,-235.17 250.22,-226.49 250.27,-218.96\"/>\n<text text-anchor=\"middle\" x=\"252.18\" y=\"-233.41\" font-family=\"Times,serif\" font-size=\"8.00\">1</text>\n</g>\n<!-- 13&#45;&#45;6 -->\n<g id=\"edge14\" class=\"edge\">\n<title>13--6</title>\n<path fill=\"none\" stroke=\"black\" d=\"M234.46,-242.36C233.97,-241.79 233.49,-241.21 233,-240.64\"/>\n<text text-anchor=\"middle\" x=\"231.73\" y=\"-235.1\" font-family=\"Times,serif\" font-size=\"8.00\">2</text>\n</g>\n<!-- 13&#45;&#45;7 -->\n<g id=\"edge18\" class=\"edge\">\n<title>13--7</title>\n<path fill=\"none\" stroke=\"black\" d=\"M251.07,-242.4C252.23,-223.18 254.05,-193.17 255.21,-173.89\"/>\n<text text-anchor=\"middle\" x=\"255.14\" y=\"-210.75\" font-family=\"Times,serif\" font-size=\"8.00\">1</text>\n</g>\n<!-- 13&#45;&#45;11 -->\n<g id=\"edge16\" class=\"edge\">\n<title>13--11</title>\n<path fill=\"none\" stroke=\"black\" d=\"M227.32,-271.93C219.59,-275.75 210.98,-280 203.36,-283.77\"/>\n<text text-anchor=\"middle\" x=\"213.34\" y=\"-280.45\" font-family=\"Times,serif\" font-size=\"8.00\">1</text>\n</g>\n<!-- 14 -->\n<g id=\"node15\" class=\"node\">\n<title>14</title>\n<ellipse fill=\"lightgrey\" stroke=\"black\" cx=\"158.1\" cy=\"-266.01\" rx=\"27.65\" ry=\"18.27\"/>\n<text text-anchor=\"middle\" x=\"158.1\" y=\"-268.61\" font-family=\"Times,serif\" font-size=\"8.00\">plum</text>\n<text text-anchor=\"middle\" x=\"158.1\" y=\"-259.61\" font-family=\"Times,serif\" font-size=\"8.00\">(KBT)</text>\n</g>\n<!-- 14&#45;&#45;13 -->\n<g id=\"edge15\" class=\"edge\">\n<title>14--13</title>\n<path fill=\"none\" stroke=\"black\" d=\"M185.66,-264.43C198.98,-263.67 214.76,-262.76 227.36,-262.04\"/>\n<text text-anchor=\"middle\" x=\"204.51\" y=\"-265.84\" font-family=\"Times,serif\" font-size=\"8.00\">1</text>\n</g>\n<!-- 15 -->\n<g id=\"node16\" class=\"node\">\n<title>15</title>\n<polygon fill=\"none\" stroke=\"black\" points=\"265.45,-77.1 224.45,-77.1 224.45,-41.1 265.45,-41.1 265.45,-77.1\"/>\n<text text-anchor=\"middle\" x=\"244.95\" y=\"-56.31\" font-family=\"Times,serif\" font-size=\"10.99\">None</text>\n</g>\n<!-- 15&#45;&#45;4 -->\n<g id=\"edge19\" class=\"edge\">\n<title>15--4</title>\n<path fill=\"none\" stroke=\"black\" d=\"M224.13,-71.1C217.04,-75.19 209.1,-79.77 201.94,-83.89\"/>\n<text text-anchor=\"middle\" x=\"211.04\" y=\"-80.1\" font-family=\"Times,serif\" font-size=\"8.00\">1</text>\n</g>\n<!-- 15&#45;&#45;7 -->\n<g id=\"edge20\" class=\"edge\">\n<title>15--7</title>\n<path fill=\"none\" stroke=\"black\" d=\"M247.09,-77.22C249.12,-94.32 252.13,-119.85 254.16,-137.04\"/>\n<text text-anchor=\"middle\" x=\"248.63\" y=\"-109.73\" font-family=\"Times,serif\" font-size=\"8.00\">1</text>\n</g>\n<!-- 16 -->\n<g id=\"node17\" class=\"node\">\n<title>16</title>\n<polygon fill=\"lightyellow\" stroke=\"black\" points=\"196.42,-210.79 146.42,-210.79 146.42,-174.79 196.42,-174.79 196.42,-210.79\"/>\n<text text-anchor=\"middle\" x=\"171.42\" y=\"-189.11\" font-family=\"Times,serif\" font-size=\"15.22\">None</text>\n</g>\n<!-- 16&#45;&#45;0 -->\n<g id=\"edge24\" class=\"edge\">\n<title>16--0</title>\n<path fill=\"none\" stroke=\"black\" d=\"M196.85,-195.26C204.79,-196.03 213.6,-196.89 221.74,-197.68\"/>\n<text text-anchor=\"middle\" x=\"207.29\" y=\"-199.07\" font-family=\"Times,serif\" font-size=\"8.00\">2</text>\n</g>\n<!-- 16&#45;&#45;2 -->\n<g id=\"edge28\" class=\"edge\">\n<title>16--2</title>\n<path fill=\"none\" stroke=\"black\" d=\"M146.21,-203.01C139.42,-205.77 132.06,-208.76 125.18,-211.55\"/>\n<text text-anchor=\"middle\" x=\"133.69\" y=\"-209.88\" font-family=\"Times,serif\" font-size=\"8.00\">1</text>\n</g>\n<!-- 16&#45;&#45;4 -->\n<g id=\"edge26\" class=\"edge\">\n<title>16--4</title>\n<path fill=\"none\" stroke=\"black\" d=\"M173.08,-174.66C174.65,-157.53 177,-131.97 178.58,-114.77\"/>\n<text text-anchor=\"middle\" x=\"173.83\" y=\"-138.31\" font-family=\"Times,serif\" font-size=\"8.00\">1</text>\n</g>\n<!-- 16&#45;&#45;5 -->\n<g id=\"edge21\" class=\"edge\">\n<title>16--5</title>\n<path fill=\"none\" stroke=\"black\" d=\"M151.58,-174.55C142.15,-165.88 131,-155.63 122.01,-147.36\"/>\n<text text-anchor=\"middle\" x=\"134.79\" y=\"-154.56\" font-family=\"Times,serif\" font-size=\"8.00\">2</text>\n</g>\n<!-- 16&#45;&#45;6 -->\n<g id=\"edge27\" class=\"edge\">\n<title>16--6</title>\n<path fill=\"none\" stroke=\"black\" d=\"M196.58,-209.3C196.84,-209.47 197.11,-209.65 197.38,-209.82\"/>\n<text text-anchor=\"middle\" x=\"198.98\" y=\"-203.16\" font-family=\"Times,serif\" font-size=\"8.00\">1</text>\n</g>\n<!-- 16&#45;&#45;7 -->\n<g id=\"edge25\" class=\"edge\">\n<title>16--7</title>\n<path fill=\"none\" stroke=\"black\" d=\"M196.44,-181.77C207.79,-176.78 221.15,-170.89 232.37,-165.95\"/>\n<text text-anchor=\"middle\" x=\"216.4\" y=\"-176.46\" font-family=\"Times,serif\" font-size=\"8.00\">2</text>\n</g>\n<!-- 16&#45;&#45;8 -->\n<g id=\"edge29\" class=\"edge\">\n<title>16--8</title>\n<path fill=\"none\" stroke=\"black\" d=\"M146.32,-187.53C142.2,-186.67 137.89,-185.77 133.65,-184.88\"/>\n<text text-anchor=\"middle\" x=\"137.98\" y=\"-179.81\" font-family=\"Times,serif\" font-size=\"8.00\">1</text>\n</g>\n<!-- 16&#45;&#45;11 -->\n<g id=\"edge23\" class=\"edge\">\n<title>16--11</title>\n<path fill=\"none\" stroke=\"black\" d=\"M173.3,-210.94C175.21,-229.31 178.15,-257.56 180.06,-276\"/>\n<text text-anchor=\"middle\" x=\"174.68\" y=\"-237.07\" font-family=\"Times,serif\" font-size=\"8.00\">2</text>\n</g>\n<!-- 16&#45;&#45;14 -->\n<g id=\"edge22\" class=\"edge\">\n<title>16--14</title>\n<path fill=\"none\" stroke=\"black\" d=\"M168.13,-210.89C166.1,-222.07 163.49,-236.38 161.45,-247.61\"/>\n<text text-anchor=\"middle\" x=\"162.79\" y=\"-231.85\" font-family=\"Times,serif\" font-size=\"8.00\">2</text>\n</g>\n<!-- 17 -->\n<g id=\"node18\" class=\"node\">\n<title>17</title>\n<polygon fill=\"none\" stroke=\"black\" points=\"39,-269.64 0,-269.64 0,-233.64 39,-233.64 39,-269.64\"/>\n<text text-anchor=\"middle\" x=\"19.5\" y=\"-248.83\" font-family=\"Times,serif\" font-size=\"10.40\">None</text>\n</g>\n<!-- 17&#45;&#45;2 -->\n<g id=\"edge30\" class=\"edge\">\n<title>17--2</title>\n<path fill=\"none\" stroke=\"black\" d=\"M39.35,-244.29C48.73,-240.82 60.08,-236.61 70.3,-232.83\"/>\n<text text-anchor=\"middle\" x=\"52.83\" y=\"-241.16\" font-family=\"Times,serif\" font-size=\"8.00\">1</text>\n</g>\n<!-- 18 -->\n<g id=\"node19\" class=\"node\">\n<title>18</title>\n<polygon fill=\"none\" stroke=\"black\" points=\"166.03,-36 127.03,-36 127.03,0 166.03,0 166.03,-36\"/>\n<text text-anchor=\"middle\" x=\"146.53\" y=\"-15.18\" font-family=\"Times,serif\" font-size=\"10.40\">None</text>\n</g>\n<!-- 18&#45;&#45;4 -->\n<g id=\"edge31\" class=\"edge\">\n<title>18--4</title>\n<path fill=\"none\" stroke=\"black\" d=\"M154.36,-36.18C159.84,-48.94 167.15,-65.9 172.6,-78.58\"/>\n<text text-anchor=\"middle\" x=\"161.48\" y=\"-59.98\" font-family=\"Times,serif\" font-size=\"8.00\">1</text>\n</g>\n<!-- 19 -->\n<g id=\"node20\" class=\"node\">\n<title>19</title>\n<polygon fill=\"none\" stroke=\"black\" points=\"334.17,-221.87 292.17,-221.87 292.17,-185.87 334.17,-185.87 334.17,-221.87\"/>\n<text text-anchor=\"middle\" x=\"313.17\" y=\"-201.16\" font-family=\"Times,serif\" font-size=\"11.51\">None</text>\n</g>\n<!-- 19&#45;&#45;0 -->\n<g id=\"edge33\" class=\"edge\">\n<title>19--0</title>\n<path fill=\"none\" stroke=\"black\" d=\"M291.93,-202.71C287.94,-202.5 283.72,-202.27 279.54,-202.04\"/>\n<text text-anchor=\"middle\" x=\"283.73\" y=\"-204.98\" font-family=\"Times,serif\" font-size=\"8.00\">1</text>\n</g>\n<!-- 19&#45;&#45;6 -->\n<g id=\"edge32\" class=\"edge\">\n<title>19--6</title>\n<path fill=\"none\" stroke=\"black\" d=\"M291.79,-208.43C279.52,-211.05 263.89,-214.39 250.26,-217.3\"/>\n<text text-anchor=\"middle\" x=\"269.03\" y=\"-215.46\" font-family=\"Times,serif\" font-size=\"8.00\">1</text>\n</g>\n<!-- 19&#45;&#45;7 -->\n<g id=\"edge34\" class=\"edge\">\n<title>19--7</title>\n<path fill=\"none\" stroke=\"black\" d=\"M292.01,-185.82C286.07,-180.76 279.69,-175.31 273.98,-170.45\"/>\n<text text-anchor=\"middle\" x=\"284.99\" y=\"-180.73\" font-family=\"Times,serif\" font-size=\"8.00\">1</text>\n</g>\n<!-- 20 -->\n<g id=\"node21\" class=\"node\">\n<title>20</title>\n<polygon fill=\"none\" stroke=\"black\" points=\"368.03,-167.52 329.03,-167.52 329.03,-131.52 368.03,-131.52 368.03,-167.52\"/>\n<text text-anchor=\"middle\" x=\"348.53\" y=\"-146.71\" font-family=\"Times,serif\" font-size=\"10.40\">None</text>\n</g>\n<!-- 20&#45;&#45;7 -->\n<g id=\"edge35\" class=\"edge\">\n<title>20--7</title>\n<path fill=\"none\" stroke=\"black\" d=\"M328.98,-150.77C316.29,-151.58 299.54,-152.65 285.31,-153.55\"/>\n<text text-anchor=\"middle\" x=\"305.15\" y=\"-154.76\" font-family=\"Times,serif\" font-size=\"8.00\">1</text>\n</g>\n<!-- 21 -->\n<g id=\"node22\" class=\"node\">\n<title>21</title>\n<polygon fill=\"none\" stroke=\"black\" points=\"343.72,-110.33 304.72,-110.33 304.72,-74.33 343.72,-74.33 343.72,-110.33\"/>\n<text text-anchor=\"middle\" x=\"324.22\" y=\"-89.51\" font-family=\"Times,serif\" font-size=\"10.40\">DEM</text>\n</g>\n<!-- 21&#45;&#45;7 -->\n<g id=\"edge36\" class=\"edge\">\n<title>21--7</title>\n<path fill=\"none\" stroke=\"black\" d=\"M304.58,-110.57C294.56,-119.89 282.5,-131.09 272.94,-139.97\"/>\n<text text-anchor=\"middle\" x=\"286.76\" y=\"-127.87\" font-family=\"Times,serif\" font-size=\"8.00\">1</text>\n</g>\n</g>\n</svg>"
          },
          "metadata": {}
        }
      ]
    },
    {
      "cell_type": "markdown",
      "source": [
        "#### 3.2.2 | *Ominaeshi*, en. golden valerian"
      ],
      "metadata": {
        "id": "sUlHidO1dFq8"
      }
    },
    {
      "cell_type": "code",
      "source": [
        "dot_viz_aggr(\"女郎花\")"
      ],
      "metadata": {
        "colab": {
          "base_uri": "https://localhost:8080/",
          "height": 550
        },
        "id": "Uwb9F6aO9jMh",
        "outputId": "594a6535-4221-4564-e90a-a133327b073b"
      },
      "execution_count": null,
      "outputs": [
        {
          "output_type": "display_data",
          "data": {
            "text/plain": [
              "<IPython.core.display.SVG object>"
            ],
            "image/svg+xml": "<svg xmlns=\"http://www.w3.org/2000/svg\" xmlns:xlink=\"http://www.w3.org/1999/xlink\" width=\"300pt\" height=\"396pt\" viewBox=\"0.00 0.00 299.53 395.96\">\n<g id=\"graph0\" class=\"graph\" transform=\"scale(1 1) rotate(0) translate(4 391.96)\">\n<title>%3</title>\n<polygon fill=\"white\" stroke=\"transparent\" points=\"-4,4 -4,-391.96 295.53,-391.96 295.53,4 -4,4\"/>\n<!-- 0 -->\n<g id=\"node1\" class=\"node\">\n<title>0</title>\n<ellipse fill=\"lightgrey\" stroke=\"black\" cx=\"124.81\" cy=\"-130.85\" rx=\"36.12\" ry=\"18.27\"/>\n<text text-anchor=\"middle\" x=\"124.81\" y=\"-133.45\" font-family=\"Times,serif\" font-size=\"8.00\">Ominaeshi</text>\n<text text-anchor=\"middle\" x=\"124.81\" y=\"-124.45\" font-family=\"Times,serif\" font-size=\"8.00\">(OZW)</text>\n</g>\n<!-- 1 -->\n<g id=\"node2\" class=\"node\">\n<title>1</title>\n<polygon fill=\"lightyellow\" stroke=\"black\" points=\"223.73,-242.32 169.73,-242.32 169.73,-202.32 223.73,-202.32 223.73,-242.32\"/>\n<text text-anchor=\"middle\" x=\"196.73\" y=\"-226.76\" font-family=\"Times,serif\" font-size=\"14.45\">咲く</text>\n<text text-anchor=\"middle\" x=\"196.73\" y=\"-210.76\" font-family=\"Times,serif\" font-size=\"14.45\">bloom</text>\n</g>\n<!-- 1&#45;&#45;0 -->\n<g id=\"edge1\" class=\"edge\">\n<title>1--0</title>\n<path fill=\"none\" stroke=\"black\" d=\"M180.77,-202.02C168.03,-185.81 150.37,-163.35 138.32,-148.02\"/>\n<text text-anchor=\"middle\" x=\"157.54\" y=\"-168.62\" font-family=\"Times,serif\" font-size=\"8.00\">4</text>\n</g>\n<!-- 2 -->\n<g id=\"node3\" class=\"node\">\n<title>2</title>\n<ellipse fill=\"lightgrey\" stroke=\"black\" cx=\"212.73\" cy=\"-151.49\" rx=\"36.12\" ry=\"18.27\"/>\n<text text-anchor=\"middle\" x=\"212.73\" y=\"-154.09\" font-family=\"Times,serif\" font-size=\"8.00\">Ominaeshi</text>\n<text text-anchor=\"middle\" x=\"212.73\" y=\"-145.09\" font-family=\"Times,serif\" font-size=\"8.00\">(KMCY)</text>\n</g>\n<!-- 2&#45;&#45;1 -->\n<g id=\"edge2\" class=\"edge\">\n<title>2--1</title>\n<path fill=\"none\" stroke=\"black\" d=\"M208.53,-170.1C206.31,-179.94 203.58,-192.03 201.3,-202.1\"/>\n<text text-anchor=\"middle\" x=\"206.91\" y=\"-188.7\" font-family=\"Times,serif\" font-size=\"8.00\">3</text>\n</g>\n<!-- 3 -->\n<g id=\"node4\" class=\"node\">\n<title>3</title>\n<ellipse fill=\"lightgrey\" stroke=\"black\" cx=\"199.85\" cy=\"-283.83\" rx=\"36.12\" ry=\"18.27\"/>\n<text text-anchor=\"middle\" x=\"199.85\" y=\"-286.43\" font-family=\"Times,serif\" font-size=\"8.00\">Ominaeshi</text>\n<text text-anchor=\"middle\" x=\"199.85\" y=\"-277.43\" font-family=\"Times,serif\" font-size=\"8.00\">(KSJ)</text>\n</g>\n<!-- 3&#45;&#45;1 -->\n<g id=\"edge3\" class=\"edge\">\n<title>3--1</title>\n<path fill=\"none\" stroke=\"black\" d=\"M198.92,-265.38C198.55,-258.16 198.13,-249.86 197.76,-242.48\"/>\n<text text-anchor=\"middle\" x=\"196.34\" y=\"-256.53\" font-family=\"Times,serif\" font-size=\"8.00\">3</text>\n</g>\n<!-- 4 -->\n<g id=\"node5\" class=\"node\">\n<title>4</title>\n<ellipse fill=\"lightgrey\" stroke=\"black\" cx=\"154.1\" cy=\"-288.57\" rx=\"36.12\" ry=\"18.27\"/>\n<text text-anchor=\"middle\" x=\"154.1\" y=\"-291.17\" font-family=\"Times,serif\" font-size=\"8.00\">Ominaeshi</text>\n<text text-anchor=\"middle\" x=\"154.1\" y=\"-282.17\" font-family=\"Times,serif\" font-size=\"8.00\">(OKMR)</text>\n</g>\n<!-- 4&#45;&#45;1 -->\n<g id=\"edge4\" class=\"edge\">\n<title>4--1</title>\n<path fill=\"none\" stroke=\"black\" d=\"M165.53,-270.82C171.15,-262.08 177.95,-251.51 183.77,-242.47\"/>\n<text text-anchor=\"middle\" x=\"172.65\" y=\"-259.24\" font-family=\"Times,serif\" font-size=\"8.00\">1</text>\n</g>\n<!-- 5 -->\n<g id=\"node6\" class=\"node\">\n<title>5</title>\n<ellipse fill=\"lightgrey\" stroke=\"black\" cx=\"127.24\" cy=\"-173.05\" rx=\"36.12\" ry=\"18.27\"/>\n<text text-anchor=\"middle\" x=\"127.24\" y=\"-175.65\" font-family=\"Times,serif\" font-size=\"8.00\">Ominaeshi</text>\n<text text-anchor=\"middle\" x=\"127.24\" y=\"-166.65\" font-family=\"Times,serif\" font-size=\"8.00\">(KNK)</text>\n</g>\n<!-- 6 -->\n<g id=\"node7\" class=\"node\">\n<title>6</title>\n<polygon fill=\"none\" stroke=\"black\" points=\"68,-183.68 0,-183.68 0,-147.68 68,-147.68 68,-183.68\"/>\n<text text-anchor=\"middle\" x=\"34\" y=\"-168.36\" font-family=\"Times,serif\" font-size=\"10.40\">吹き越す</text>\n<text text-anchor=\"middle\" x=\"34\" y=\"-157.36\" font-family=\"Times,serif\" font-size=\"10.40\">blow over</text>\n</g>\n<!-- 6&#45;&#45;5 -->\n<g id=\"edge5\" class=\"edge\">\n<title>6--5</title>\n<path fill=\"none\" stroke=\"black\" d=\"M68.19,-168.38C75.78,-168.98 83.84,-169.62 91.49,-170.23\"/>\n<text text-anchor=\"middle\" x=\"77.84\" y=\"-171.9\" font-family=\"Times,serif\" font-size=\"8.00\">1</text>\n</g>\n<!-- 7 -->\n<g id=\"node8\" class=\"node\">\n<title>7</title>\n<ellipse fill=\"lightgrey\" stroke=\"black\" cx=\"255.47\" cy=\"-142.09\" rx=\"36.12\" ry=\"18.27\"/>\n<text text-anchor=\"middle\" x=\"255.47\" y=\"-144.69\" font-family=\"Times,serif\" font-size=\"8.00\">Ominaeshi</text>\n<text text-anchor=\"middle\" x=\"255.47\" y=\"-135.69\" font-family=\"Times,serif\" font-size=\"8.00\">(KBT)</text>\n</g>\n<!-- 8 -->\n<g id=\"node9\" class=\"node\">\n<title>8</title>\n<polygon fill=\"lightyellow\" stroke=\"black\" points=\"290.17,-102.4 245.17,-102.4 245.17,-62.4 290.17,-62.4 290.17,-102.4\"/>\n<text text-anchor=\"middle\" x=\"267.67\" y=\"-86.84\" font-family=\"Times,serif\" font-size=\"14.45\">持つ</text>\n<text text-anchor=\"middle\" x=\"267.67\" y=\"-70.84\" font-family=\"Times,serif\" font-size=\"14.45\">have</text>\n</g>\n<!-- 8&#45;&#45;2 -->\n<g id=\"edge8\" class=\"edge\">\n<title>8--2</title>\n<path fill=\"none\" stroke=\"black\" d=\"M251.48,-102.76C243.51,-112.79 234,-124.75 226.39,-134.31\"/>\n<text text-anchor=\"middle\" x=\"236.94\" y=\"-112.13\" font-family=\"Times,serif\" font-size=\"8.00\">2</text>\n</g>\n<!-- 8&#45;&#45;7 -->\n<g id=\"edge6\" class=\"edge\">\n<title>8--7</title>\n<path fill=\"none\" stroke=\"black\" d=\"M263.54,-102.61C262.16,-109.37 260.62,-116.87 259.27,-123.51\"/>\n<text text-anchor=\"middle\" x=\"259.4\" y=\"-115.66\" font-family=\"Times,serif\" font-size=\"8.00\">6</text>\n</g>\n<!-- 9 -->\n<g id=\"node10\" class=\"node\">\n<title>9</title>\n<ellipse fill=\"lightgrey\" stroke=\"black\" cx=\"188.6\" cy=\"-23.86\" rx=\"36.12\" ry=\"18.27\"/>\n<text text-anchor=\"middle\" x=\"188.6\" y=\"-26.46\" font-family=\"Times,serif\" font-size=\"8.00\">Ominaeshi</text>\n<text text-anchor=\"middle\" x=\"188.6\" y=\"-17.46\" font-family=\"Times,serif\" font-size=\"8.00\">(MTD)</text>\n</g>\n<!-- 9&#45;&#45;8 -->\n<g id=\"edge7\" class=\"edge\">\n<title>9--8</title>\n<path fill=\"none\" stroke=\"black\" d=\"M209.38,-39.24C220.36,-47.37 233.85,-57.36 245.09,-65.68\"/>\n<text text-anchor=\"middle\" x=\"225.23\" y=\"-55.06\" font-family=\"Times,serif\" font-size=\"8.00\">3</text>\n</g>\n<!-- 10 -->\n<g id=\"node11\" class=\"node\">\n<title>10</title>\n<polygon fill=\"none\" stroke=\"black\" points=\"78.79,-96.28 23.79,-96.28 23.79,-60.28 78.79,-60.28 78.79,-96.28\"/>\n<text text-anchor=\"middle\" x=\"51.29\" y=\"-80.96\" font-family=\"Times,serif\" font-size=\"10.40\">できる</text>\n<text text-anchor=\"middle\" x=\"51.29\" y=\"-69.96\" font-family=\"Times,serif\" font-size=\"10.40\">enable</text>\n</g>\n<!-- 10&#45;&#45;0 -->\n<g id=\"edge9\" class=\"edge\">\n<title>10--0</title>\n<path fill=\"none\" stroke=\"black\" d=\"M76.6,-96.37C85.4,-102.66 95.18,-109.66 103.62,-115.69\"/>\n<text text-anchor=\"middle\" x=\"88.11\" y=\"-99.63\" font-family=\"Times,serif\" font-size=\"8.00\">1</text>\n</g>\n<!-- 11 -->\n<g id=\"node12\" class=\"node\">\n<title>11</title>\n<polygon fill=\"none\" stroke=\"black\" points=\"182.86,-239.82 75.86,-239.82 75.86,-203.82 182.86,-203.82 182.86,-239.82\"/>\n<text text-anchor=\"middle\" x=\"129.36\" y=\"-225.03\" font-family=\"Times,serif\" font-size=\"10.99\">られる</text>\n<text text-anchor=\"middle\" x=\"129.36\" y=\"-213.03\" font-family=\"Times,serif\" font-size=\"10.99\">potential/passive.sfx</text>\n</g>\n<!-- 11&#45;&#45;2 -->\n<g id=\"edge10\" class=\"edge\">\n<title>11--2</title>\n<path fill=\"none\" stroke=\"black\" d=\"M150.83,-203.71C164.15,-192.47 181.09,-178.18 193.89,-167.38\"/>\n<text text-anchor=\"middle\" x=\"170.36\" y=\"-179.15\" font-family=\"Times,serif\" font-size=\"8.00\">1</text>\n</g>\n<!-- 11&#45;&#45;4 -->\n<g id=\"edge11\" class=\"edge\">\n<title>11--4</title>\n<path fill=\"none\" stroke=\"black\" d=\"M136.12,-240.06C139.61,-249.48 143.86,-260.94 147.35,-270.35\"/>\n<text text-anchor=\"middle\" x=\"139.74\" y=\"-257.81\" font-family=\"Times,serif\" font-size=\"8.00\">1</text>\n</g>\n<!-- 12 -->\n<g id=\"node13\" class=\"node\">\n<title>12</title>\n<polygon fill=\"none\" stroke=\"black\" points=\"199.29,-387.96 117.29,-387.96 117.29,-351.96 199.29,-351.96 199.29,-387.96\"/>\n<text text-anchor=\"middle\" x=\"158.29\" y=\"-372.64\" font-family=\"Times,serif\" font-size=\"10.40\">れる</text>\n<text text-anchor=\"middle\" x=\"158.29\" y=\"-361.64\" font-family=\"Times,serif\" font-size=\"10.40\">able/passive.sfx</text>\n</g>\n<!-- 12&#45;&#45;4 -->\n<g id=\"edge12\" class=\"edge\">\n<title>12--4</title>\n<path fill=\"none\" stroke=\"black\" d=\"M157.36,-351.9C156.68,-338.6 155.75,-320.57 155.06,-307.15\"/>\n<text text-anchor=\"middle\" x=\"154.21\" y=\"-332.12\" font-family=\"Times,serif\" font-size=\"8.00\">1</text>\n</g>\n<!-- 13 -->\n<g id=\"node14\" class=\"node\">\n<title>13</title>\n<polygon fill=\"lightyellow\" stroke=\"black\" points=\"202.13,-222.55 149.13,-222.55 149.13,-182.55 202.13,-182.55 202.13,-222.55\"/>\n<text text-anchor=\"middle\" x=\"175.63\" y=\"-207.22\" font-family=\"Times,serif\" font-size=\"14.17\">花</text>\n<text text-anchor=\"middle\" x=\"175.63\" y=\"-191.22\" font-family=\"Times,serif\" font-size=\"14.17\">flower</text>\n</g>\n<!-- 13&#45;&#45;0 -->\n<g id=\"edge15\" class=\"edge\">\n<title>13--0</title>\n<path fill=\"none\" stroke=\"black\" d=\"M161.2,-182.2C153.69,-171.6 144.59,-158.76 137.37,-148.57\"/>\n<text text-anchor=\"middle\" x=\"147.29\" y=\"-167.98\" font-family=\"Times,serif\" font-size=\"8.00\">2</text>\n</g>\n<!-- 13&#45;&#45;3 -->\n<g id=\"edge17\" class=\"edge\">\n<title>13--3</title>\n<path fill=\"none\" stroke=\"black\" d=\"M181.61,-222.65C185.54,-235.81 190.63,-252.87 194.43,-265.64\"/>\n<text text-anchor=\"middle\" x=\"186.02\" y=\"-246.74\" font-family=\"Times,serif\" font-size=\"8.00\">1</text>\n</g>\n<!-- 13&#45;&#45;4 -->\n<g id=\"edge14\" class=\"edge\">\n<title>13--4</title>\n<path fill=\"none\" stroke=\"black\" d=\"M170.53,-222.94C166.95,-237.25 162.2,-256.23 158.73,-270.09\"/>\n<text text-anchor=\"middle\" x=\"162.63\" y=\"-249.12\" font-family=\"Times,serif\" font-size=\"8.00\">2</text>\n</g>\n<!-- 13&#45;&#45;5 -->\n<g id=\"edge16\" class=\"edge\">\n<title>13--5</title>\n<path fill=\"none\" stroke=\"black\" d=\"M148.88,-186.25C148.8,-186.2 148.71,-186.14 148.62,-186.09\"/>\n<text text-anchor=\"middle\" x=\"146.75\" y=\"-188.77\" font-family=\"Times,serif\" font-size=\"8.00\">1</text>\n</g>\n<!-- 13&#45;&#45;7 -->\n<g id=\"edge13\" class=\"edge\">\n<title>13--7</title>\n<path fill=\"none\" stroke=\"black\" d=\"M202.21,-182.42C213.01,-174.24 225.28,-164.95 235.31,-157.35\"/>\n<text text-anchor=\"middle\" x=\"216.76\" y=\"-172.48\" font-family=\"Times,serif\" font-size=\"8.00\">4</text>\n</g>\n<!-- 14 -->\n<g id=\"node15\" class=\"node\">\n<title>14</title>\n<polygon fill=\"lightyellow\" stroke=\"black\" points=\"273.04,-217.36 228.04,-217.36 228.04,-181.36 273.04,-181.36 273.04,-217.36\"/>\n<text text-anchor=\"middle\" x=\"250.54\" y=\"-203.11\" font-family=\"Times,serif\" font-size=\"12.82\">名</text>\n<text text-anchor=\"middle\" x=\"250.54\" y=\"-189.11\" font-family=\"Times,serif\" font-size=\"12.82\">name</text>\n</g>\n<!-- 14&#45;&#45;2 -->\n<g id=\"edge19\" class=\"edge\">\n<title>14--2</title>\n<path fill=\"none\" stroke=\"black\" d=\"M236.25,-181.27C232.98,-177.13 229.53,-172.76 226.3,-168.67\"/>\n<text text-anchor=\"middle\" x=\"229.27\" y=\"-177.57\" font-family=\"Times,serif\" font-size=\"8.00\">2</text>\n</g>\n<!-- 14&#45;&#45;5 -->\n<g id=\"edge18\" class=\"edge\">\n<title>14--5</title>\n<path fill=\"none\" stroke=\"black\" d=\"M227.93,-194.54C209.15,-190.53 182.18,-184.78 160.88,-180.23\"/>\n<text text-anchor=\"middle\" x=\"192.4\" y=\"-180.98\" font-family=\"Times,serif\" font-size=\"8.00\">2</text>\n</g>\n<!-- 14&#45;&#45;7 -->\n<g id=\"edge20\" class=\"edge\">\n<title>14--7</title>\n<path fill=\"none\" stroke=\"black\" d=\"M252.1,-181.24C252.66,-174.69 253.3,-167.28 253.87,-160.68\"/>\n<text text-anchor=\"middle\" x=\"250.98\" y=\"-173.56\" font-family=\"Times,serif\" font-size=\"8.00\">2</text>\n</g>\n<!-- 15 -->\n<g id=\"node16\" class=\"node\">\n<title>15</title>\n<polygon fill=\"lightyellow\" stroke=\"black\" points=\"210.58,-116.48 143.58,-116.48 143.58,-70.48 210.58,-70.48 210.58,-116.48\"/>\n<text text-anchor=\"middle\" x=\"177.08\" y=\"-98.75\" font-family=\"Times,serif\" font-size=\"17.17\">女</text>\n<text text-anchor=\"middle\" x=\"177.08\" y=\"-79.75\" font-family=\"Times,serif\" font-size=\"17.17\">woman</text>\n</g>\n<!-- 15&#45;&#45;0 -->\n<g id=\"edge25\" class=\"edge\">\n<title>15--0</title>\n<path fill=\"none\" stroke=\"black\" d=\"M144.87,-116.51C144.79,-116.57 144.7,-116.63 144.62,-116.69\"/>\n<text text-anchor=\"middle\" x=\"142.75\" y=\"-110.2\" font-family=\"Times,serif\" font-size=\"8.00\">1</text>\n</g>\n<!-- 15&#45;&#45;2 -->\n<g id=\"edge22\" class=\"edge\">\n<title>15--2</title>\n<path fill=\"none\" stroke=\"black\" d=\"M191.38,-116.74C194.86,-122.42 198.54,-128.4 201.84,-133.76\"/>\n<text text-anchor=\"middle\" x=\"194.61\" y=\"-118.85\" font-family=\"Times,serif\" font-size=\"8.00\">4</text>\n</g>\n<!-- 15&#45;&#45;5 -->\n<g id=\"edge21\" class=\"edge\">\n<title>15--5</title>\n<path fill=\"none\" stroke=\"black\" d=\"M162.66,-116.5C154.9,-128.89 145.47,-143.94 138.3,-155.4\"/>\n<text text-anchor=\"middle\" x=\"146.48\" y=\"-138.55\" font-family=\"Times,serif\" font-size=\"8.00\">11</text>\n</g>\n<!-- 15&#45;&#45;7 -->\n<g id=\"edge23\" class=\"edge\">\n<title>15--7</title>\n<path fill=\"none\" stroke=\"black\" d=\"M210.78,-114.38C218.08,-118.91 225.65,-123.59 232.43,-127.8\"/>\n<text text-anchor=\"middle\" x=\"219.6\" y=\"-114.69\" font-family=\"Times,serif\" font-size=\"8.00\">4</text>\n</g>\n<!-- 15&#45;&#45;9 -->\n<g id=\"edge24\" class=\"edge\">\n<title>15--9</title>\n<path fill=\"none\" stroke=\"black\" d=\"M180.92,-70.3C182.41,-61.28 184.1,-51.08 185.51,-42.55\"/>\n<text text-anchor=\"middle\" x=\"181.21\" y=\"-59.02\" font-family=\"Times,serif\" font-size=\"8.00\">3</text>\n</g>\n<!-- 16 -->\n<g id=\"node17\" class=\"node\">\n<title>16</title>\n<ellipse fill=\"lightgrey\" stroke=\"black\" cx=\"225.88\" cy=\"-18.38\" rx=\"36.12\" ry=\"18.27\"/>\n<text text-anchor=\"middle\" x=\"225.88\" y=\"-20.98\" font-family=\"Times,serif\" font-size=\"8.00\">Ominaeshi</text>\n<text text-anchor=\"middle\" x=\"225.88\" y=\"-11.98\" font-family=\"Times,serif\" font-size=\"8.00\">(TKOK)</text>\n</g>\n<!-- 16&#45;&#45;15 -->\n<g id=\"edge26\" class=\"edge\">\n<title>16--15</title>\n<path fill=\"none\" stroke=\"black\" d=\"M214.32,-36.18C207.67,-46.42 199.24,-59.39 192.08,-70.41\"/>\n<text text-anchor=\"middle\" x=\"201.2\" y=\"-55.89\" font-family=\"Times,serif\" font-size=\"8.00\">1</text>\n</g>\n<!-- 17 -->\n<g id=\"node18\" class=\"node\">\n<title>17</title>\n<polygon fill=\"none\" stroke=\"black\" points=\"122.56,-286.36 78.56,-286.36 78.56,-250.36 122.56,-250.36 122.56,-286.36\"/>\n<text text-anchor=\"middle\" x=\"100.56\" y=\"-272.15\" font-family=\"Times,serif\" font-size=\"11.51\">お前</text>\n<text text-anchor=\"middle\" x=\"100.56\" y=\"-259.15\" font-family=\"Times,serif\" font-size=\"11.51\">you.2</text>\n</g>\n<!-- 17&#45;&#45;3 -->\n<g id=\"edge28\" class=\"edge\">\n<title>17--3</title>\n<path fill=\"none\" stroke=\"black\" d=\"M122.6,-271.79C135.05,-273.74 150.91,-276.21 165.01,-278.4\"/>\n<text text-anchor=\"middle\" x=\"141.8\" y=\"-268.7\" font-family=\"Times,serif\" font-size=\"8.00\">1</text>\n</g>\n<!-- 17&#45;&#45;4 -->\n<g id=\"edge29\" class=\"edge\">\n<title>17--4</title>\n<path fill=\"none\" stroke=\"black\" d=\"M122.65,-276.7C123.45,-277 124.27,-277.31 125.08,-277.62\"/>\n<text text-anchor=\"middle\" x=\"125.87\" y=\"-270.76\" font-family=\"Times,serif\" font-size=\"8.00\">1</text>\n</g>\n<!-- 17&#45;&#45;5 -->\n<g id=\"edge27\" class=\"edge\">\n<title>17--5</title>\n<path fill=\"none\" stroke=\"black\" d=\"M105.71,-249.98C110.43,-233.11 117.39,-208.23 122.11,-191.37\"/>\n<text text-anchor=\"middle\" x=\"111.91\" y=\"-223.28\" font-family=\"Times,serif\" font-size=\"8.00\">1</text>\n</g>\n</g>\n</svg>"
          },
          "metadata": {}
        }
      ]
    },
    {
      "cell_type": "markdown",
      "source": [
        "#### 3.2.3 | *Kiku*, en. chrysanthemum"
      ],
      "metadata": {
        "id": "p7kJ52X1dXZQ"
      }
    },
    {
      "cell_type": "code",
      "source": [
        "dot_viz_aggr(\"菊\")"
      ],
      "metadata": {
        "colab": {
          "base_uri": "https://localhost:8080/",
          "height": 530
        },
        "id": "yvm8B8gf-MkO",
        "outputId": "704ce6ef-02b0-4f11-b126-e0055c9c98c3"
      },
      "execution_count": null,
      "outputs": [
        {
          "output_type": "display_data",
          "data": {
            "text/plain": [
              "<IPython.core.display.SVG object>"
            ],
            "image/svg+xml": "<svg xmlns=\"http://www.w3.org/2000/svg\" xmlns:xlink=\"http://www.w3.org/1999/xlink\" width=\"425pt\" height=\"381pt\" viewBox=\"0.00 0.00 424.99 380.70\">\n<g id=\"graph0\" class=\"graph\" transform=\"scale(1 1) rotate(0) translate(4 376.7)\">\n<title>%3</title>\n<polygon fill=\"white\" stroke=\"transparent\" points=\"-4,4 -4,-376.7 420.99,-376.7 420.99,4 -4,4\"/>\n<!-- 0 -->\n<g id=\"node1\" class=\"node\">\n<title>0</title>\n<ellipse fill=\"lightgrey\" stroke=\"black\" cx=\"204.98\" cy=\"-106.22\" rx=\"28.98\" ry=\"18.27\"/>\n<text text-anchor=\"middle\" x=\"204.98\" y=\"-108.82\" font-family=\"Times,serif\" font-size=\"8.00\">chry..</text>\n<text text-anchor=\"middle\" x=\"204.98\" y=\"-99.82\" font-family=\"Times,serif\" font-size=\"8.00\">(OZW)</text>\n</g>\n<!-- 1 -->\n<g id=\"node2\" class=\"node\">\n<title>1</title>\n<polygon fill=\"none\" stroke=\"black\" points=\"258.26,-42.88 203.26,-42.88 203.26,-6.88 258.26,-6.88 258.26,-42.88\"/>\n<text text-anchor=\"middle\" x=\"230.76\" y=\"-27.56\" font-family=\"Times,serif\" font-size=\"10.40\">美しい</text>\n<text text-anchor=\"middle\" x=\"230.76\" y=\"-16.56\" font-family=\"Times,serif\" font-size=\"10.40\">beautiful</text>\n</g>\n<!-- 1&#45;&#45;0 -->\n<g id=\"edge1\" class=\"edge\">\n<title>1--0</title>\n<path fill=\"none\" stroke=\"black\" d=\"M225.04,-42.93C220.8,-56.32 215.04,-74.5 210.78,-87.94\"/>\n<text text-anchor=\"middle\" x=\"215.91\" y=\"-68.04\" font-family=\"Times,serif\" font-size=\"8.00\">1</text>\n</g>\n<!-- 2 -->\n<g id=\"node3\" class=\"node\">\n<title>2</title>\n<ellipse fill=\"lightgrey\" stroke=\"black\" cx=\"103.69\" cy=\"-206.06\" rx=\"28.98\" ry=\"18.27\"/>\n<text text-anchor=\"middle\" x=\"103.69\" y=\"-208.66\" font-family=\"Times,serif\" font-size=\"8.00\">chry..</text>\n<text text-anchor=\"middle\" x=\"103.69\" y=\"-199.66\" font-family=\"Times,serif\" font-size=\"8.00\">(MTD)</text>\n</g>\n<!-- 3 -->\n<g id=\"node4\" class=\"node\">\n<title>3</title>\n<polygon fill=\"none\" stroke=\"black\" points=\"68,-277.35 0,-277.35 0,-241.35 68,-241.35 68,-277.35\"/>\n<text text-anchor=\"middle\" x=\"34\" y=\"-262.03\" font-family=\"Times,serif\" font-size=\"10.40\">つやつや</text>\n<text text-anchor=\"middle\" x=\"34\" y=\"-251.03\" font-family=\"Times,serif\" font-size=\"10.40\">shiny</text>\n</g>\n<!-- 3&#45;&#45;2 -->\n<g id=\"edge2\" class=\"edge\">\n<title>3--2</title>\n<path fill=\"none\" stroke=\"black\" d=\"M57.59,-241.31C66.44,-234.54 76.37,-226.95 84.74,-220.55\"/>\n<text text-anchor=\"middle\" x=\"69.17\" y=\"-233.53\" font-family=\"Times,serif\" font-size=\"8.00\">1</text>\n</g>\n<!-- 4 -->\n<g id=\"node5\" class=\"node\">\n<title>4</title>\n<polygon fill=\"none\" stroke=\"black\" points=\"302.22,-62.86 234.22,-62.86 234.22,-26.86 302.22,-26.86 302.22,-62.86\"/>\n<text text-anchor=\"middle\" x=\"268.22\" y=\"-47.54\" font-family=\"Times,serif\" font-size=\"10.40\">情けない</text>\n<text text-anchor=\"middle\" x=\"268.22\" y=\"-36.54\" font-family=\"Times,serif\" font-size=\"10.40\">pathetic</text>\n</g>\n<!-- 4&#45;&#45;0 -->\n<g id=\"edge3\" class=\"edge\">\n<title>4--0</title>\n<path fill=\"none\" stroke=\"black\" d=\"M249.59,-62.94C240.56,-71.71 229.81,-82.14 221.13,-90.56\"/>\n<text text-anchor=\"middle\" x=\"233.36\" y=\"-79.35\" font-family=\"Times,serif\" font-size=\"8.00\">1</text>\n</g>\n<!-- 5 -->\n<g id=\"node6\" class=\"node\">\n<title>5</title>\n<polygon fill=\"none\" stroke=\"black\" points=\"221.71,-36 153.71,-36 153.71,0 221.71,0 221.71,-36\"/>\n<text text-anchor=\"middle\" x=\"187.71\" y=\"-20.68\" font-family=\"Times,serif\" font-size=\"10.40\">すっかり</text>\n<text text-anchor=\"middle\" x=\"187.71\" y=\"-9.68\" font-family=\"Times,serif\" font-size=\"10.40\">thoroughly</text>\n</g>\n<!-- 5&#45;&#45;0 -->\n<g id=\"edge4\" class=\"edge\">\n<title>5--0</title>\n<path fill=\"none\" stroke=\"black\" d=\"M191.29,-36.28C194.26,-51.42 198.45,-72.83 201.41,-87.97\"/>\n<text text-anchor=\"middle\" x=\"194.35\" y=\"-64.72\" font-family=\"Times,serif\" font-size=\"8.00\">1</text>\n</g>\n<!-- 6 -->\n<g id=\"node7\" class=\"node\">\n<title>6</title>\n<ellipse fill=\"lightgrey\" stroke=\"black\" cx=\"313\" cy=\"-192.99\" rx=\"28.98\" ry=\"18.27\"/>\n<text text-anchor=\"middle\" x=\"313\" y=\"-195.59\" font-family=\"Times,serif\" font-size=\"8.00\">chry..</text>\n<text text-anchor=\"middle\" x=\"313\" y=\"-186.59\" font-family=\"Times,serif\" font-size=\"8.00\">(K&amp;A)</text>\n</g>\n<!-- 7 -->\n<g id=\"node8\" class=\"node\">\n<title>7</title>\n<polygon fill=\"none\" stroke=\"black\" points=\"416.99,-213.17 374.99,-213.17 374.99,-177.17 416.99,-177.17 416.99,-213.17\"/>\n<text text-anchor=\"middle\" x=\"395.99\" y=\"-197.85\" font-family=\"Times,serif\" font-size=\"10.40\">短い</text>\n<text text-anchor=\"middle\" x=\"395.99\" y=\"-186.85\" font-family=\"Times,serif\" font-size=\"10.40\">short</text>\n</g>\n<!-- 7&#45;&#45;6 -->\n<g id=\"edge5\" class=\"edge\">\n<title>7--6</title>\n<path fill=\"none\" stroke=\"black\" d=\"M374.62,-194.61C364.72,-194.35 352.82,-194.03 342.12,-193.75\"/>\n<text text-anchor=\"middle\" x=\"356.37\" y=\"-196.78\" font-family=\"Times,serif\" font-size=\"8.00\">1</text>\n</g>\n<!-- 8 -->\n<g id=\"node9\" class=\"node\">\n<title>8</title>\n<polygon fill=\"none\" stroke=\"black\" points=\"125.81,-123.39 83.81,-123.39 83.81,-87.39 125.81,-87.39 125.81,-123.39\"/>\n<text text-anchor=\"middle\" x=\"104.81\" y=\"-108.6\" font-family=\"Times,serif\" font-size=\"10.99\">まだ</text>\n<text text-anchor=\"middle\" x=\"104.81\" y=\"-96.6\" font-family=\"Times,serif\" font-size=\"10.99\">yet.1</text>\n</g>\n<!-- 8&#45;&#45;0 -->\n<g id=\"edge7\" class=\"edge\">\n<title>8--0</title>\n<path fill=\"none\" stroke=\"black\" d=\"M126.05,-105.57C140.53,-105.69 159.87,-105.85 175.79,-105.98\"/>\n<text text-anchor=\"middle\" x=\"148.92\" y=\"-108.37\" font-family=\"Times,serif\" font-size=\"8.00\">1</text>\n</g>\n<!-- 8&#45;&#45;2 -->\n<g id=\"edge6\" class=\"edge\">\n<title>8--2</title>\n<path fill=\"none\" stroke=\"black\" d=\"M104.6,-123.85C104.4,-141.9 104.1,-169.24 103.9,-187.37\"/>\n<text text-anchor=\"middle\" x=\"102.25\" y=\"-158.21\" font-family=\"Times,serif\" font-size=\"8.00\">1</text>\n</g>\n<!-- 9 -->\n<g id=\"node10\" class=\"node\">\n<title>9</title>\n<ellipse fill=\"lightgrey\" stroke=\"black\" cx=\"112\" cy=\"-144.93\" rx=\"28.98\" ry=\"18.27\"/>\n<text text-anchor=\"middle\" x=\"112\" y=\"-147.53\" font-family=\"Times,serif\" font-size=\"8.00\">chry..</text>\n<text text-anchor=\"middle\" x=\"112\" y=\"-138.53\" font-family=\"Times,serif\" font-size=\"8.00\">(KNK)</text>\n</g>\n<!-- 10 -->\n<g id=\"node11\" class=\"node\">\n<title>10</title>\n<polygon fill=\"none\" stroke=\"black\" points=\"54.73,-119.89 12.73,-119.89 12.73,-83.89 54.73,-83.89 54.73,-119.89\"/>\n<text text-anchor=\"middle\" x=\"33.73\" y=\"-105.1\" font-family=\"Times,serif\" font-size=\"10.99\">また</text>\n<text text-anchor=\"middle\" x=\"33.73\" y=\"-93.1\" font-family=\"Times,serif\" font-size=\"10.99\">again</text>\n</g>\n<!-- 10&#45;&#45;9 -->\n<g id=\"edge8\" class=\"edge\">\n<title>10--9</title>\n<path fill=\"none\" stroke=\"black\" d=\"M55.12,-113.65C65.98,-119.63 79.16,-126.87 90.1,-132.88\"/>\n<text text-anchor=\"middle\" x=\"70.61\" y=\"-125.87\" font-family=\"Times,serif\" font-size=\"8.00\">2</text>\n</g>\n<!-- 11 -->\n<g id=\"node12\" class=\"node\">\n<title>11</title>\n<polygon fill=\"none\" stroke=\"black\" points=\"181.96,-113.22 134.96,-113.22 134.96,-77.22 181.96,-77.22 181.96,-113.22\"/>\n<text text-anchor=\"middle\" x=\"158.46\" y=\"-99.01\" font-family=\"Times,serif\" font-size=\"11.51\">咲く</text>\n<text text-anchor=\"middle\" x=\"158.46\" y=\"-86.01\" font-family=\"Times,serif\" font-size=\"11.51\">bloom</text>\n</g>\n<!-- 11&#45;&#45;0 -->\n<g id=\"edge11\" class=\"edge\">\n<title>11--0</title>\n<path fill=\"none\" stroke=\"black\" d=\"M181.99,-100.79C182.08,-100.81 182.17,-100.83 182.26,-100.85\"/>\n<text text-anchor=\"middle\" x=\"184.13\" y=\"-103.42\" font-family=\"Times,serif\" font-size=\"8.00\">1</text>\n</g>\n<!-- 11&#45;&#45;9 -->\n<g id=\"edge9\" class=\"edge\">\n<title>11--9</title>\n<path fill=\"none\" stroke=\"black\" d=\"M141.42,-113.45C136.66,-118.55 131.52,-124.05 126.89,-129\"/>\n<text text-anchor=\"middle\" x=\"132.16\" y=\"-114.83\" font-family=\"Times,serif\" font-size=\"8.00\">1</text>\n</g>\n<!-- 12 -->\n<g id=\"node13\" class=\"node\">\n<title>12</title>\n<ellipse fill=\"lightgrey\" stroke=\"black\" cx=\"219.38\" cy=\"-204.19\" rx=\"25.41\" ry=\"18.27\"/>\n<text text-anchor=\"middle\" x=\"219.38\" y=\"-206.79\" font-family=\"Times,serif\" font-size=\"8.00\">chry..</text>\n<text text-anchor=\"middle\" x=\"219.38\" y=\"-197.79\" font-family=\"Times,serif\" font-size=\"8.00\">(KSJ)</text>\n</g>\n<!-- 12&#45;&#45;11 -->\n<g id=\"edge10\" class=\"edge\">\n<title>12--11</title>\n<path fill=\"none\" stroke=\"black\" d=\"M209.59,-186.68C198.36,-166.59 180.02,-133.79 168.63,-113.41\"/>\n<text text-anchor=\"middle\" x=\"191.11\" y=\"-143.65\" font-family=\"Times,serif\" font-size=\"8.00\">1</text>\n</g>\n<!-- 13 -->\n<g id=\"node14\" class=\"node\">\n<title>13</title>\n<ellipse fill=\"lightgrey\" stroke=\"black\" cx=\"169.22\" cy=\"-263.1\" rx=\"27.65\" ry=\"18.27\"/>\n<text text-anchor=\"middle\" x=\"169.22\" y=\"-265.7\" font-family=\"Times,serif\" font-size=\"8.00\">chry..</text>\n<text text-anchor=\"middle\" x=\"169.22\" y=\"-256.7\" font-family=\"Times,serif\" font-size=\"8.00\">(KBT)</text>\n</g>\n<!-- 14 -->\n<g id=\"node15\" class=\"node\">\n<title>14</title>\n<polygon fill=\"none\" stroke=\"black\" points=\"152.11,-295.27 110.11,-295.27 110.11,-259.27 152.11,-259.27 152.11,-295.27\"/>\n<text text-anchor=\"middle\" x=\"131.11\" y=\"-280.68\" font-family=\"Times,serif\" font-size=\"11.99\">聞く</text>\n<text text-anchor=\"middle\" x=\"131.11\" y=\"-267.68\" font-family=\"Times,serif\" font-size=\"11.99\">hear</text>\n</g>\n<!-- 14&#45;&#45;2 -->\n<g id=\"edge14\" class=\"edge\">\n<title>14--2</title>\n<path fill=\"none\" stroke=\"black\" d=\"M124.05,-258.93C119.93,-248.22 114.74,-234.75 110.64,-224.09\"/>\n<text text-anchor=\"middle\" x=\"115.34\" y=\"-244.11\" font-family=\"Times,serif\" font-size=\"8.00\">1</text>\n</g>\n<!-- 14&#45;&#45;12 -->\n<g id=\"edge13\" class=\"edge\">\n<title>14--12</title>\n<path fill=\"none\" stroke=\"black\" d=\"M152.48,-259.58C167.89,-246.82 188.4,-229.84 202.63,-218.06\"/>\n<text text-anchor=\"middle\" x=\"175.55\" y=\"-232.42\" font-family=\"Times,serif\" font-size=\"8.00\">1</text>\n</g>\n<!-- 14&#45;&#45;13 -->\n<g id=\"edge12\" class=\"edge\">\n<title>14--13</title>\n<path fill=\"none\" stroke=\"black\" d=\"M152.39,-269.36C152.53,-269.31 152.67,-269.26 152.8,-269.21\"/>\n<text text-anchor=\"middle\" x=\"154.6\" y=\"-271.88\" font-family=\"Times,serif\" font-size=\"8.00\">1</text>\n</g>\n<!-- 15 -->\n<g id=\"node16\" class=\"node\">\n<title>15</title>\n<ellipse fill=\"lightgrey\" stroke=\"black\" cx=\"215.19\" cy=\"-260.89\" rx=\"33.47\" ry=\"18.27\"/>\n<text text-anchor=\"middle\" x=\"215.19\" y=\"-263.49\" font-family=\"Times,serif\" font-size=\"8.00\">chry..</text>\n<text text-anchor=\"middle\" x=\"215.19\" y=\"-254.49\" font-family=\"Times,serif\" font-size=\"8.00\">(OKMR)</text>\n</g>\n<!-- 15&#45;&#45;14 -->\n<g id=\"edge15\" class=\"edge\">\n<title>15--14</title>\n<path fill=\"none\" stroke=\"black\" d=\"M183.4,-267.08C172.99,-269.11 161.68,-271.32 152.25,-273.15\"/>\n<text text-anchor=\"middle\" x=\"165.82\" y=\"-272.72\" font-family=\"Times,serif\" font-size=\"8.00\">1</text>\n</g>\n<!-- 16 -->\n<g id=\"node17\" class=\"node\">\n<title>16</title>\n<polygon fill=\"lightyellow\" stroke=\"black\" points=\"192.72,-184.44 137.72,-184.44 137.72,-146.44 192.72,-146.44 192.72,-184.44\"/>\n<text text-anchor=\"middle\" x=\"165.22\" y=\"-169.6\" font-family=\"Times,serif\" font-size=\"13.54\">思う</text>\n<text text-anchor=\"middle\" x=\"165.22\" y=\"-154.6\" font-family=\"Times,serif\" font-size=\"13.54\">think.2</text>\n</g>\n<!-- 16&#45;&#45;0 -->\n<g id=\"edge21\" class=\"edge\">\n<title>16--0</title>\n<path fill=\"none\" stroke=\"black\" d=\"M178.02,-146.37C183.01,-138.94 188.7,-130.48 193.55,-123.25\"/>\n<text text-anchor=\"middle\" x=\"183.78\" y=\"-137.41\" font-family=\"Times,serif\" font-size=\"8.00\">1</text>\n</g>\n<!-- 16&#45;&#45;2 -->\n<g id=\"edge17\" class=\"edge\">\n<title>16--2</title>\n<path fill=\"none\" stroke=\"black\" d=\"M137.69,-183.61C133.09,-186.65 128.38,-189.76 124,-192.65\"/>\n<text text-anchor=\"middle\" x=\"132.85\" y=\"-181.73\" font-family=\"Times,serif\" font-size=\"8.00\">2</text>\n</g>\n<!-- 16&#45;&#45;9 -->\n<g id=\"edge16\" class=\"edge\">\n<title>16--9</title>\n<path fill=\"none\" stroke=\"black\" d=\"M137.67,-154.82C137.47,-154.74 137.27,-154.67 137.07,-154.59\"/>\n<text text-anchor=\"middle\" x=\"135.37\" y=\"-157.31\" font-family=\"Times,serif\" font-size=\"8.00\">2</text>\n</g>\n<!-- 16&#45;&#45;12 -->\n<g id=\"edge20\" class=\"edge\">\n<title>16--12</title>\n<path fill=\"none\" stroke=\"black\" d=\"M191.98,-184.59C195.07,-186.8 198.17,-189.01 201.11,-191.12\"/>\n<text text-anchor=\"middle\" x=\"194.55\" y=\"-190.45\" font-family=\"Times,serif\" font-size=\"8.00\">1</text>\n</g>\n<!-- 16&#45;&#45;13 -->\n<g id=\"edge19\" class=\"edge\">\n<title>16--13</title>\n<path fill=\"none\" stroke=\"black\" d=\"M166.01,-184.73C166.72,-202.08 167.76,-227.38 168.46,-244.51\"/>\n<text text-anchor=\"middle\" x=\"165.23\" y=\"-217.22\" font-family=\"Times,serif\" font-size=\"8.00\">1</text>\n</g>\n<!-- 17 -->\n<g id=\"node18\" class=\"node\">\n<title>17</title>\n<ellipse fill=\"lightgrey\" stroke=\"black\" cx=\"262.97\" cy=\"-194.96\" rx=\"33.47\" ry=\"18.27\"/>\n<text text-anchor=\"middle\" x=\"262.97\" y=\"-197.56\" font-family=\"Times,serif\" font-size=\"8.00\">chry..</text>\n<text text-anchor=\"middle\" x=\"262.97\" y=\"-188.56\" font-family=\"Times,serif\" font-size=\"8.00\">(KMCY)</text>\n</g>\n<!-- 17&#45;&#45;16 -->\n<g id=\"edge18\" class=\"edge\">\n<title>17--16</title>\n<path fill=\"none\" stroke=\"black\" d=\"M233.64,-186.1C220.71,-182.2 205.59,-177.63 192.85,-173.78\"/>\n<text text-anchor=\"middle\" x=\"211.25\" y=\"-173.54\" font-family=\"Times,serif\" font-size=\"8.00\">1</text>\n</g>\n<!-- 18 -->\n<g id=\"node19\" class=\"node\">\n<title>18</title>\n<polygon fill=\"none\" stroke=\"black\" points=\"188.48,-372.7 104.48,-372.7 104.48,-336.7 188.48,-336.7 188.48,-372.7\"/>\n<text text-anchor=\"middle\" x=\"146.48\" y=\"-357.39\" font-family=\"Times,serif\" font-size=\"10.40\">ともなう</text>\n<text text-anchor=\"middle\" x=\"146.48\" y=\"-346.39\" font-family=\"Times,serif\" font-size=\"10.40\">accompanied by</text>\n</g>\n<!-- 18&#45;&#45;13 -->\n<g id=\"edge22\" class=\"edge\">\n<title>18--13</title>\n<path fill=\"none\" stroke=\"black\" d=\"M150.97,-336.61C154.93,-320.65 160.68,-297.51 164.66,-281.48\"/>\n<text text-anchor=\"middle\" x=\"155.81\" y=\"-311.64\" font-family=\"Times,serif\" font-size=\"8.00\">1</text>\n</g>\n<!-- 19 -->\n<g id=\"node20\" class=\"node\">\n<title>19</title>\n<polygon fill=\"none\" stroke=\"black\" points=\"60.94,-195.1 4.94,-195.1 4.94,-159.1 60.94,-159.1 60.94,-195.1\"/>\n<text text-anchor=\"middle\" x=\"32.94\" y=\"-180.88\" font-family=\"Times,serif\" font-size=\"11.51\">すぎる</text>\n<text text-anchor=\"middle\" x=\"32.94\" y=\"-167.88\" font-family=\"Times,serif\" font-size=\"11.51\">excess.v</text>\n</g>\n<!-- 19&#45;&#45;2 -->\n<g id=\"edge23\" class=\"edge\">\n<title>19--2</title>\n<path fill=\"none\" stroke=\"black\" d=\"M61.31,-188.71C67.15,-191.1 73.26,-193.6 78.97,-195.93\"/>\n<text text-anchor=\"middle\" x=\"68.14\" y=\"-194.92\" font-family=\"Times,serif\" font-size=\"8.00\">2</text>\n</g>\n<!-- 19&#45;&#45;9 -->\n<g id=\"edge24\" class=\"edge\">\n<title>19--9</title>\n<path fill=\"none\" stroke=\"black\" d=\"M61.04,-165.66C69.65,-162.16 79.05,-158.34 87.41,-154.94\"/>\n<text text-anchor=\"middle\" x=\"72.22\" y=\"-162.9\" font-family=\"Times,serif\" font-size=\"8.00\">1</text>\n</g>\n<!-- 20 -->\n<g id=\"node21\" class=\"node\">\n<title>20</title>\n<polygon fill=\"none\" stroke=\"black\" points=\"310.22,-120.02 268.22,-120.02 268.22,-84.02 310.22,-84.02 310.22,-120.02\"/>\n<text text-anchor=\"middle\" x=\"289.22\" y=\"-105.23\" font-family=\"Times,serif\" font-size=\"10.99\">移る</text>\n<text text-anchor=\"middle\" x=\"289.22\" y=\"-93.23\" font-family=\"Times,serif\" font-size=\"10.99\">move</text>\n</g>\n<!-- 20&#45;&#45;0 -->\n<g id=\"edge26\" class=\"edge\">\n<title>20--0</title>\n<path fill=\"none\" stroke=\"black\" d=\"M267.96,-103.08C257.73,-103.59 245.29,-104.21 234.19,-104.77\"/>\n<text text-anchor=\"middle\" x=\"249.07\" y=\"-106.52\" font-family=\"Times,serif\" font-size=\"8.00\">1</text>\n</g>\n<!-- 20&#45;&#45;17 -->\n<g id=\"edge25\" class=\"edge\">\n<title>20--17</title>\n<path fill=\"none\" stroke=\"black\" d=\"M284.03,-120.38C279.43,-136.68 272.74,-160.35 268.15,-176.64\"/>\n<text text-anchor=\"middle\" x=\"274.09\" y=\"-151.11\" font-family=\"Times,serif\" font-size=\"8.00\">1</text>\n</g>\n<!-- 21 -->\n<g id=\"node22\" class=\"node\">\n<title>21</title>\n<polygon fill=\"lightyellow\" stroke=\"black\" points=\"198.97,-206.44 144.97,-206.44 144.97,-166.44 198.97,-166.44 198.97,-206.44\"/>\n<text text-anchor=\"middle\" x=\"171.97\" y=\"-190.88\" font-family=\"Times,serif\" font-size=\"14.45\">花</text>\n<text text-anchor=\"middle\" x=\"171.97\" y=\"-174.88\" font-family=\"Times,serif\" font-size=\"14.45\">flower</text>\n</g>\n<!-- 21&#45;&#45;0 -->\n<g id=\"edge30\" class=\"edge\">\n<title>21--0</title>\n<path fill=\"none\" stroke=\"black\" d=\"M180.3,-166.2C185.61,-153.3 192.43,-136.72 197.56,-124.27\"/>\n<text text-anchor=\"middle\" x=\"187.93\" y=\"-138.83\" font-family=\"Times,serif\" font-size=\"8.00\">2</text>\n</g>\n<!-- 21&#45;&#45;2 -->\n<g id=\"edge32\" class=\"edge\">\n<title>21--2</title>\n<path fill=\"none\" stroke=\"black\" d=\"M144.59,-194.31C139.84,-195.67 134.91,-197.09 130.19,-198.44\"/>\n<text text-anchor=\"middle\" x=\"135.39\" y=\"-198.97\" font-family=\"Times,serif\" font-size=\"8.00\">1</text>\n</g>\n<!-- 21&#45;&#45;9 -->\n<g id=\"edge27\" class=\"edge\">\n<title>21--9</title>\n<path fill=\"none\" stroke=\"black\" d=\"M144.79,-167.63C140.45,-164.63 136.04,-161.57 131.91,-158.71\"/>\n<text text-anchor=\"middle\" x=\"136.35\" y=\"-165.77\" font-family=\"Times,serif\" font-size=\"8.00\">2</text>\n</g>\n<!-- 21&#45;&#45;12 -->\n<g id=\"edge31\" class=\"edge\">\n<title>21--12</title>\n<path fill=\"none\" stroke=\"black\" d=\"M199,-196.56C199.17,-196.62 199.33,-196.68 199.5,-196.75\"/>\n<text text-anchor=\"middle\" x=\"201.25\" y=\"-199.25\" font-family=\"Times,serif\" font-size=\"8.00\">1</text>\n</g>\n<!-- 21&#45;&#45;13 -->\n<g id=\"edge29\" class=\"edge\">\n<title>21--13</title>\n<path fill=\"none\" stroke=\"black\" d=\"M171.25,-206.58C170.82,-218.38 170.29,-233.18 169.88,-244.67\"/>\n<text text-anchor=\"middle\" x=\"168.56\" y=\"-228.23\" font-family=\"Times,serif\" font-size=\"8.00\">2</text>\n</g>\n<!-- 21&#45;&#45;15 -->\n<g id=\"edge33\" class=\"edge\">\n<title>21--15</title>\n<path fill=\"none\" stroke=\"black\" d=\"M183.78,-206.78C190.38,-218.15 198.52,-232.18 204.86,-243.1\"/>\n<text text-anchor=\"middle\" x=\"192.32\" y=\"-227.54\" font-family=\"Times,serif\" font-size=\"8.00\">1</text>\n</g>\n<!-- 21&#45;&#45;17 -->\n<g id=\"edge28\" class=\"edge\">\n<title>21--17</title>\n<path fill=\"none\" stroke=\"black\" d=\"M199.27,-189C208.91,-189.9 219.84,-190.92 229.9,-191.87\"/>\n<text text-anchor=\"middle\" x=\"212.59\" y=\"-184.03\" font-family=\"Times,serif\" font-size=\"8.00\">2</text>\n</g>\n<!-- 22 -->\n<g id=\"node23\" class=\"node\">\n<title>22</title>\n<polygon fill=\"none\" stroke=\"black\" points=\"151.46,-69.58 109.46,-69.58 109.46,-33.58 151.46,-33.58 151.46,-69.58\"/>\n<text text-anchor=\"middle\" x=\"130.46\" y=\"-54.79\" font-family=\"Times,serif\" font-size=\"10.99\">場所</text>\n<text text-anchor=\"middle\" x=\"130.46\" y=\"-42.79\" font-family=\"Times,serif\" font-size=\"10.99\">place</text>\n</g>\n<!-- 22&#45;&#45;0 -->\n<g id=\"edge35\" class=\"edge\">\n<title>22--0</title>\n<path fill=\"none\" stroke=\"black\" d=\"M151.61,-67.09C162.37,-74.98 175.35,-84.5 185.81,-92.17\"/>\n<text text-anchor=\"middle\" x=\"166.71\" y=\"-73.23\" font-family=\"Times,serif\" font-size=\"8.00\">1</text>\n</g>\n<!-- 22&#45;&#45;9 -->\n<g id=\"edge34\" class=\"edge\">\n<title>22--9</title>\n<path fill=\"none\" stroke=\"black\" d=\"M126.81,-70.02C123.57,-86.39 118.87,-110.17 115.64,-126.53\"/>\n<text text-anchor=\"middle\" x=\"119.23\" y=\"-100.87\" font-family=\"Times,serif\" font-size=\"8.00\">1</text>\n</g>\n<!-- 23 -->\n<g id=\"node24\" class=\"node\">\n<title>23</title>\n<polygon fill=\"none\" stroke=\"black\" points=\"320.12,-302.56 258.12,-302.56 258.12,-266.56 320.12,-266.56 320.12,-302.56\"/>\n<text text-anchor=\"middle\" x=\"289.12\" y=\"-288.35\" font-family=\"Times,serif\" font-size=\"11.51\">花盛り</text>\n<text text-anchor=\"middle\" x=\"289.12\" y=\"-275.35\" font-family=\"Times,serif\" font-size=\"11.51\">flowering</text>\n</g>\n<!-- 23&#45;&#45;15 -->\n<g id=\"edge37\" class=\"edge\">\n<title>23--15</title>\n<path fill=\"none\" stroke=\"black\" d=\"M257.76,-274.52C253.2,-273.06 248.52,-271.56 244.01,-270.11\"/>\n<text text-anchor=\"middle\" x=\"252.88\" y=\"-274.92\" font-family=\"Times,serif\" font-size=\"8.00\">1</text>\n</g>\n<!-- 23&#45;&#45;17 -->\n<g id=\"edge36\" class=\"edge\">\n<title>23--17</title>\n<path fill=\"none\" stroke=\"black\" d=\"M283.83,-266.43C279.32,-250.99 272.87,-228.9 268.35,-213.37\"/>\n<text text-anchor=\"middle\" x=\"274.09\" y=\"-242.5\" font-family=\"Times,serif\" font-size=\"8.00\">1</text>\n</g>\n<!-- 24 -->\n<g id=\"node25\" class=\"node\">\n<title>24</title>\n<ellipse fill=\"lightgrey\" stroke=\"black\" cx=\"219.56\" cy=\"-304.4\" rx=\"32.55\" ry=\"18.27\"/>\n<text text-anchor=\"middle\" x=\"219.56\" y=\"-307\" font-family=\"Times,serif\" font-size=\"8.00\">chry..</text>\n<text text-anchor=\"middle\" x=\"219.56\" y=\"-298\" font-family=\"Times,serif\" font-size=\"8.00\">(TKOK)</text>\n</g>\n<!-- 24&#45;&#45;23 -->\n<g id=\"edge38\" class=\"edge\">\n<title>24--23</title>\n<path fill=\"none\" stroke=\"black\" d=\"M248.65,-296.1C251.63,-295.25 254.67,-294.38 257.67,-293.53\"/>\n<text text-anchor=\"middle\" x=\"255.16\" y=\"-297.41\" font-family=\"Times,serif\" font-size=\"8.00\">1</text>\n</g>\n<!-- 25 -->\n<g id=\"node26\" class=\"node\">\n<title>25</title>\n<polygon fill=\"lightyellow\" stroke=\"black\" points=\"228.52,-197.75 175.52,-197.75 175.52,-157.75 228.52,-157.75 228.52,-197.75\"/>\n<text text-anchor=\"middle\" x=\"202.02\" y=\"-181.77\" font-family=\"Times,serif\" font-size=\"14.98\">盛り</text>\n<text text-anchor=\"middle\" x=\"202.02\" y=\"-165.77\" font-family=\"Times,serif\" font-size=\"14.98\">prime</text>\n</g>\n<!-- 25&#45;&#45;0 -->\n<g id=\"edge46\" class=\"edge\">\n<title>25--0</title>\n<path fill=\"none\" stroke=\"black\" d=\"M202.86,-157.45C203.29,-147.2 203.8,-134.87 204.21,-124.87\"/>\n<text text-anchor=\"middle\" x=\"201.54\" y=\"-143.76\" font-family=\"Times,serif\" font-size=\"8.00\">1</text>\n</g>\n<!-- 25&#45;&#45;2 -->\n<g id=\"edge39\" class=\"edge\">\n<title>25--2</title>\n<path fill=\"none\" stroke=\"black\" d=\"M175.41,-185.41C161.42,-189.44 144.32,-194.36 130.32,-198.39\"/>\n<text text-anchor=\"middle\" x=\"150.87\" y=\"-194.5\" font-family=\"Times,serif\" font-size=\"8.00\">3</text>\n</g>\n<!-- 25&#45;&#45;6 -->\n<g id=\"edge41\" class=\"edge\">\n<title>25--6</title>\n<path fill=\"none\" stroke=\"black\" d=\"M228.6,-181.4C245.4,-183.71 267.11,-186.69 284.3,-189.05\"/>\n<text text-anchor=\"middle\" x=\"254.45\" y=\"-187.83\" font-family=\"Times,serif\" font-size=\"8.00\">2</text>\n</g>\n<!-- 25&#45;&#45;9 -->\n<g id=\"edge40\" class=\"edge\">\n<title>25--9</title>\n<path fill=\"none\" stroke=\"black\" d=\"M175.5,-168.08C163.47,-163.7 149.3,-158.53 137.41,-154.19\"/>\n<text text-anchor=\"middle\" x=\"154.45\" y=\"-154.74\" font-family=\"Times,serif\" font-size=\"8.00\">2</text>\n</g>\n<!-- 25&#45;&#45;12 -->\n<g id=\"edge44\" class=\"edge\">\n<title>25--12</title>\n<path fill=\"none\" stroke=\"black\" d=\"M215.18,-197.79C215.25,-197.91 215.33,-198.02 215.4,-198.13\"/>\n<text text-anchor=\"middle\" x=\"213.29\" y=\"-200.56\" font-family=\"Times,serif\" font-size=\"8.00\">1</text>\n</g>\n<!-- 25&#45;&#45;13 -->\n<g id=\"edge42\" class=\"edge\">\n<title>25--13</title>\n<path fill=\"none\" stroke=\"black\" d=\"M194.25,-197.98C188.75,-212.28 181.45,-231.27 176.16,-245.05\"/>\n<text text-anchor=\"middle\" x=\"187.2\" y=\"-224.12\" font-family=\"Times,serif\" font-size=\"8.00\">2</text>\n</g>\n<!-- 25&#45;&#45;15 -->\n<g id=\"edge45\" class=\"edge\">\n<title>25--15</title>\n<path fill=\"none\" stroke=\"black\" d=\"M205.21,-197.88C207.35,-211.43 210.16,-229.17 212.25,-242.37\"/>\n<text text-anchor=\"middle\" x=\"206.73\" y=\"-222.72\" font-family=\"Times,serif\" font-size=\"8.00\">1</text>\n</g>\n<!-- 25&#45;&#45;17 -->\n<g id=\"edge43\" class=\"edge\">\n<title>25--17</title>\n<path fill=\"none\" stroke=\"black\" d=\"M228.58,-185.25C230.12,-185.69 231.67,-186.13 233.22,-186.56\"/>\n<text text-anchor=\"middle\" x=\"228.9\" y=\"-179.51\" font-family=\"Times,serif\" font-size=\"8.00\">1</text>\n</g>\n<!-- 26 -->\n<g id=\"node27\" class=\"node\">\n<title>26</title>\n<polygon fill=\"lightyellow\" stroke=\"black\" points=\"329.98,-157.9 229.98,-157.9 229.98,-121.9 329.98,-121.9 329.98,-157.9\"/>\n<text text-anchor=\"middle\" x=\"279.98\" y=\"-143.64\" font-family=\"Times,serif\" font-size=\"12.82\">色変わり</text>\n<text text-anchor=\"middle\" x=\"279.98\" y=\"-129.64\" font-family=\"Times,serif\" font-size=\"12.82\">change of color</text>\n</g>\n<!-- 26&#45;&#45;0 -->\n<g id=\"edge48\" class=\"edge\">\n<title>26--0</title>\n<path fill=\"none\" stroke=\"black\" d=\"M239.85,-121.88C236.09,-120.19 232.36,-118.52 228.82,-116.93\"/>\n<text text-anchor=\"middle\" x=\"236.34\" y=\"-113\" font-family=\"Times,serif\" font-size=\"8.00\">2</text>\n</g>\n<!-- 26&#45;&#45;6 -->\n<g id=\"edge47\" class=\"edge\">\n<title>26--6</title>\n<path fill=\"none\" stroke=\"black\" d=\"M291.35,-158.17C294.85,-163.81 298.71,-170 302.18,-175.58\"/>\n<text text-anchor=\"middle\" x=\"294.76\" y=\"-160.47\" font-family=\"Times,serif\" font-size=\"8.00\">2</text>\n</g>\n<!-- 26&#45;&#45;12 -->\n<g id=\"edge50\" class=\"edge\">\n<title>26--12</title>\n<path fill=\"none\" stroke=\"black\" d=\"M262.78,-158.15C253.68,-167.8 242.63,-179.52 233.96,-188.72\"/>\n<text text-anchor=\"middle\" x=\"246.37\" y=\"-167.04\" font-family=\"Times,serif\" font-size=\"8.00\">1</text>\n</g>\n<!-- 26&#45;&#45;17 -->\n<g id=\"edge49\" class=\"edge\">\n<title>26--17</title>\n<path fill=\"none\" stroke=\"black\" d=\"M274.41,-157.93C272.55,-163.95 270.48,-170.66 268.61,-176.7\"/>\n<text text-anchor=\"middle\" x=\"269.51\" y=\"-169.91\" font-family=\"Times,serif\" font-size=\"8.00\">1</text>\n</g>\n<!-- 27 -->\n<g id=\"node28\" class=\"node\">\n<title>27</title>\n<polygon fill=\"lightyellow\" stroke=\"black\" points=\"184.22,-228.91 139.22,-228.91 139.22,-188.91 184.22,-188.91 184.22,-228.91\"/>\n<text text-anchor=\"middle\" x=\"161.72\" y=\"-213.35\" font-family=\"Times,serif\" font-size=\"14.45\">それ</text>\n<text text-anchor=\"middle\" x=\"161.72\" y=\"-197.35\" font-family=\"Times,serif\" font-size=\"14.45\">that</text>\n</g>\n<!-- 27&#45;&#45;0 -->\n<g id=\"edge53\" class=\"edge\">\n<title>27--0</title>\n<path fill=\"none\" stroke=\"black\" d=\"M170.27,-188.62C178.2,-169.8 189.89,-142.06 197.47,-124.07\"/>\n<text text-anchor=\"middle\" x=\"181.87\" y=\"-149.95\" font-family=\"Times,serif\" font-size=\"8.00\">2</text>\n</g>\n<!-- 27&#45;&#45;2 -->\n<g id=\"edge56\" class=\"edge\">\n<title>27--2</title>\n<path fill=\"none\" stroke=\"black\" d=\"M139.12,-207.8C137.08,-207.7 135,-207.6 132.92,-207.49\"/>\n<text text-anchor=\"middle\" x=\"134.02\" y=\"-210.25\" font-family=\"Times,serif\" font-size=\"8.00\">1</text>\n</g>\n<!-- 27&#45;&#45;9 -->\n<g id=\"edge54\" class=\"edge\">\n<title>27--9</title>\n<path fill=\"none\" stroke=\"black\" d=\"M145.99,-188.67C139.28,-180.03 131.53,-170.06 125.13,-161.82\"/>\n<text text-anchor=\"middle\" x=\"133.56\" y=\"-168.84\" font-family=\"Times,serif\" font-size=\"8.00\">1</text>\n</g>\n<!-- 27&#45;&#45;12 -->\n<g id=\"edge55\" class=\"edge\">\n<title>27--12</title>\n<path fill=\"none\" stroke=\"black\" d=\"M184.51,-207.04C187.53,-206.8 190.65,-206.54 193.71,-206.29\"/>\n<text text-anchor=\"middle\" x=\"187.11\" y=\"-209.27\" font-family=\"Times,serif\" font-size=\"8.00\">1</text>\n</g>\n<!-- 27&#45;&#45;13 -->\n<g id=\"edge51\" class=\"edge\">\n<title>27--13</title>\n<path fill=\"none\" stroke=\"black\" d=\"M164.51,-229.09C165.21,-234.14 165.96,-239.54 166.65,-244.52\"/>\n<text text-anchor=\"middle\" x=\"163.58\" y=\"-239.4\" font-family=\"Times,serif\" font-size=\"8.00\">3</text>\n</g>\n<!-- 27&#45;&#45;15 -->\n<g id=\"edge52\" class=\"edge\">\n<title>27--15</title>\n<path fill=\"none\" stroke=\"black\" d=\"M182.55,-229.15C187.82,-234.28 193.43,-239.73 198.47,-244.63\"/>\n<text text-anchor=\"middle\" x=\"188.51\" y=\"-230.49\" font-family=\"Times,serif\" font-size=\"8.00\">2</text>\n</g>\n<!-- 27&#45;&#45;24 -->\n<g id=\"edge57\" class=\"edge\">\n<title>27--24</title>\n<path fill=\"none\" stroke=\"black\" d=\"M173.99,-229.16C184.33,-246.24 198.99,-270.44 208.87,-286.74\"/>\n<text text-anchor=\"middle\" x=\"189.43\" y=\"-260.55\" font-family=\"Times,serif\" font-size=\"8.00\">1</text>\n</g>\n</g>\n</svg>"
          },
          "metadata": {}
        }
      ]
    },
    {
      "cell_type": "markdown",
      "source": [
        "#### 3.2.4 | *Sakura*, en. cherry"
      ],
      "metadata": {
        "id": "N8GAnxIgeC4k"
      }
    },
    {
      "cell_type": "code",
      "source": [
        "dot_viz_aggr(\"桜\")"
      ],
      "metadata": {
        "colab": {
          "base_uri": "https://localhost:8080/",
          "height": 474
        },
        "id": "v74lioVp9ynh",
        "outputId": "422f61c8-c5a2-49f2-ddbc-27ac8b0b43c4"
      },
      "execution_count": null,
      "outputs": [
        {
          "output_type": "display_data",
          "data": {
            "text/plain": [
              "<IPython.core.display.SVG object>"
            ],
            "image/svg+xml": "<svg xmlns=\"http://www.w3.org/2000/svg\" xmlns:xlink=\"http://www.w3.org/1999/xlink\" width=\"403pt\" height=\"339pt\" viewBox=\"0.00 0.00 403.08 338.78\">\n<g id=\"graph0\" class=\"graph\" transform=\"scale(1 1) rotate(0) translate(4 334.78)\">\n<title>%3</title>\n<polygon fill=\"white\" stroke=\"transparent\" points=\"-4,4 -4,-334.78 399.08,-334.78 399.08,4 -4,4\"/>\n<!-- 0 -->\n<g id=\"node1\" class=\"node\">\n<title>0</title>\n<ellipse fill=\"lightgrey\" stroke=\"black\" cx=\"213.77\" cy=\"-215.61\" rx=\"28.98\" ry=\"18.27\"/>\n<text text-anchor=\"middle\" x=\"213.77\" y=\"-218.21\" font-family=\"Times,serif\" font-size=\"8.00\">cherry</text>\n<text text-anchor=\"middle\" x=\"213.77\" y=\"-209.21\" font-family=\"Times,serif\" font-size=\"8.00\">(OZW)</text>\n</g>\n<!-- 1 -->\n<g id=\"node2\" class=\"node\">\n<title>1</title>\n<polygon fill=\"none\" stroke=\"black\" points=\"327.2,-243.06 280.2,-243.06 280.2,-207.06 327.2,-207.06 327.2,-243.06\"/>\n<text text-anchor=\"middle\" x=\"303.7\" y=\"-228.28\" font-family=\"Times,serif\" font-size=\"10.99\">たい</text>\n<text text-anchor=\"middle\" x=\"303.7\" y=\"-216.28\" font-family=\"Times,serif\" font-size=\"10.99\">want.v</text>\n</g>\n<!-- 1&#45;&#45;0 -->\n<g id=\"edge1\" class=\"edge\">\n<title>1--0</title>\n<path fill=\"none\" stroke=\"black\" d=\"M280.07,-222.58C268.63,-221.38 254.77,-219.92 242.7,-218.65\"/>\n<text text-anchor=\"middle\" x=\"259.39\" y=\"-223.22\" font-family=\"Times,serif\" font-size=\"8.00\">2</text>\n</g>\n<!-- 2 -->\n<g id=\"node3\" class=\"node\">\n<title>2</title>\n<polygon fill=\"none\" stroke=\"black\" points=\"218.2,-320.02 159.2,-320.02 159.2,-284.02 218.2,-284.02 218.2,-320.02\"/>\n<text text-anchor=\"middle\" x=\"188.7\" y=\"-305.81\" font-family=\"Times,serif\" font-size=\"11.51\">早い</text>\n<text text-anchor=\"middle\" x=\"188.7\" y=\"-292.81\" font-family=\"Times,serif\" font-size=\"11.51\">fast/early</text>\n</g>\n<!-- 2&#45;&#45;0 -->\n<g id=\"edge2\" class=\"edge\">\n<title>2--0</title>\n<path fill=\"none\" stroke=\"black\" d=\"M194.01,-283.7C198.27,-269.03 204.21,-248.57 208.46,-233.91\"/>\n<text text-anchor=\"middle\" x=\"199.24\" y=\"-261.4\" font-family=\"Times,serif\" font-size=\"8.00\">2</text>\n</g>\n<!-- 3 -->\n<g id=\"node4\" class=\"node\">\n<title>3</title>\n<ellipse fill=\"lightgrey\" stroke=\"black\" cx=\"149.81\" cy=\"-241.68\" rx=\"28.98\" ry=\"18.27\"/>\n<text text-anchor=\"middle\" x=\"149.81\" y=\"-244.28\" font-family=\"Times,serif\" font-size=\"8.00\">cherry</text>\n<text text-anchor=\"middle\" x=\"149.81\" y=\"-235.28\" font-family=\"Times,serif\" font-size=\"8.00\">(KNK)</text>\n</g>\n<!-- 3&#45;&#45;2 -->\n<g id=\"edge3\" class=\"edge\">\n<title>3--2</title>\n<path fill=\"none\" stroke=\"black\" d=\"M160.85,-258.81C165.88,-266.61 171.84,-275.86 176.95,-283.79\"/>\n<text text-anchor=\"middle\" x=\"170.9\" y=\"-273.9\" font-family=\"Times,serif\" font-size=\"8.00\">1</text>\n</g>\n<!-- 4 -->\n<g id=\"node5\" class=\"node\">\n<title>4</title>\n<polygon fill=\"none\" stroke=\"black\" points=\"328.51,-277.44 248.51,-277.44 248.51,-241.44 328.51,-241.44 328.51,-277.44\"/>\n<text text-anchor=\"middle\" x=\"288.51\" y=\"-262.12\" font-family=\"Times,serif\" font-size=\"10.40\">降りしきる</text>\n<text text-anchor=\"middle\" x=\"288.51\" y=\"-251.12\" font-family=\"Times,serif\" font-size=\"10.40\">fall steadily.2</text>\n</g>\n<!-- 4&#45;&#45;0 -->\n<g id=\"edge4\" class=\"edge\">\n<title>4--0</title>\n<path fill=\"none\" stroke=\"black\" d=\"M257.68,-241.36C250.12,-236.93 242.19,-232.28 235.19,-228.17\"/>\n<text text-anchor=\"middle\" x=\"244.43\" y=\"-237.37\" font-family=\"Times,serif\" font-size=\"8.00\">1</text>\n</g>\n<!-- 5 -->\n<g id=\"node6\" class=\"node\">\n<title>5</title>\n<polygon fill=\"lightyellow\" stroke=\"black\" points=\"159.2,-204.77 117.2,-204.77 117.2,-168.77 159.2,-168.77 159.2,-204.77\"/>\n<text text-anchor=\"middle\" x=\"138.2\" y=\"-190.51\" font-family=\"Times,serif\" font-size=\"12.82\">言う</text>\n<text text-anchor=\"middle\" x=\"138.2\" y=\"-176.51\" font-family=\"Times,serif\" font-size=\"12.82\">say</text>\n</g>\n<!-- 5&#45;&#45;0 -->\n<g id=\"edge8\" class=\"edge\">\n<title>5--0</title>\n<path fill=\"none\" stroke=\"black\" d=\"M159.25,-194.8C168.42,-198.3 179.24,-202.43 188.82,-206.09\"/>\n<text text-anchor=\"middle\" x=\"172.03\" y=\"-203.05\" font-family=\"Times,serif\" font-size=\"8.00\">1</text>\n</g>\n<!-- 5&#45;&#45;3 -->\n<g id=\"edge5\" class=\"edge\">\n<title>5--3</title>\n<path fill=\"none\" stroke=\"black\" d=\"M142.06,-205.05C143.31,-210.92 144.68,-217.41 145.92,-223.28\"/>\n<text text-anchor=\"middle\" x=\"141.99\" y=\"-216.77\" font-family=\"Times,serif\" font-size=\"8.00\">2</text>\n</g>\n<!-- 6 -->\n<g id=\"node7\" class=\"node\">\n<title>6</title>\n<ellipse fill=\"lightgrey\" stroke=\"black\" cx=\"162.3\" cy=\"-90.51\" rx=\"33.47\" ry=\"18.27\"/>\n<text text-anchor=\"middle\" x=\"162.3\" y=\"-93.11\" font-family=\"Times,serif\" font-size=\"8.00\">cherry</text>\n<text text-anchor=\"middle\" x=\"162.3\" y=\"-84.11\" font-family=\"Times,serif\" font-size=\"8.00\">(KMCY)</text>\n</g>\n<!-- 6&#45;&#45;5 -->\n<g id=\"edge6\" class=\"edge\">\n<title>6--5</title>\n<path fill=\"none\" stroke=\"black\" d=\"M157.65,-109.07C153.36,-126.22 147.01,-151.56 142.75,-168.59\"/>\n<text text-anchor=\"middle\" x=\"148.2\" y=\"-141.43\" font-family=\"Times,serif\" font-size=\"8.00\">1</text>\n</g>\n<!-- 7 -->\n<g id=\"node8\" class=\"node\">\n<title>7</title>\n<ellipse fill=\"lightgrey\" stroke=\"black\" cx=\"185.98\" cy=\"-105.02\" rx=\"33.47\" ry=\"18.27\"/>\n<text text-anchor=\"middle\" x=\"185.98\" y=\"-107.62\" font-family=\"Times,serif\" font-size=\"8.00\">cherry</text>\n<text text-anchor=\"middle\" x=\"185.98\" y=\"-98.62\" font-family=\"Times,serif\" font-size=\"8.00\">(OKMR)</text>\n</g>\n<!-- 7&#45;&#45;5 -->\n<g id=\"edge7\" class=\"edge\">\n<title>7--5</title>\n<path fill=\"none\" stroke=\"black\" d=\"M175.61,-122.76C167.71,-136.28 156.86,-154.85 148.88,-168.5\"/>\n<text text-anchor=\"middle\" x=\"164.25\" y=\"-139.23\" font-family=\"Times,serif\" font-size=\"8.00\">1</text>\n</g>\n<!-- 8 -->\n<g id=\"node9\" class=\"node\">\n<title>8</title>\n<ellipse fill=\"lightgrey\" stroke=\"black\" cx=\"32.53\" cy=\"-187.36\" rx=\"32.55\" ry=\"18.27\"/>\n<text text-anchor=\"middle\" x=\"32.53\" y=\"-189.96\" font-family=\"Times,serif\" font-size=\"8.00\">cherry</text>\n<text text-anchor=\"middle\" x=\"32.53\" y=\"-180.96\" font-family=\"Times,serif\" font-size=\"8.00\">(TKOK)</text>\n</g>\n<!-- 8&#45;&#45;5 -->\n<g id=\"edge9\" class=\"edge\">\n<title>8--5</title>\n<path fill=\"none\" stroke=\"black\" d=\"M65.09,-187.18C81.95,-187.08 102.05,-186.97 116.91,-186.89\"/>\n<text text-anchor=\"middle\" x=\"89\" y=\"-189.63\" font-family=\"Times,serif\" font-size=\"8.00\">1</text>\n</g>\n<!-- 9 -->\n<g id=\"node10\" class=\"node\">\n<title>9</title>\n<polygon fill=\"none\" stroke=\"black\" points=\"255.07,-306.82 175.07,-306.82 175.07,-270.82 255.07,-270.82 255.07,-306.82\"/>\n<text text-anchor=\"middle\" x=\"215.07\" y=\"-292.03\" font-family=\"Times,serif\" font-size=\"10.99\">散り果てる</text>\n<text text-anchor=\"middle\" x=\"215.07\" y=\"-280.03\" font-family=\"Times,serif\" font-size=\"10.99\">fall all</text>\n</g>\n<!-- 9&#45;&#45;0 -->\n<g id=\"edge11\" class=\"edge\">\n<title>9--0</title>\n<path fill=\"none\" stroke=\"black\" d=\"M214.75,-270.72C214.55,-259.55 214.3,-245.24 214.1,-234.01\"/>\n<text text-anchor=\"middle\" x=\"212.43\" y=\"-254.97\" font-family=\"Times,serif\" font-size=\"8.00\">1</text>\n</g>\n<!-- 9&#45;&#45;3 -->\n<g id=\"edge10\" class=\"edge\">\n<title>9--3</title>\n<path fill=\"none\" stroke=\"black\" d=\"M190.03,-270.73C183.13,-265.74 175.75,-260.41 169.22,-255.69\"/>\n<text text-anchor=\"middle\" x=\"181.62\" y=\"-256.81\" font-family=\"Times,serif\" font-size=\"8.00\">1</text>\n</g>\n<!-- 10 -->\n<g id=\"node11\" class=\"node\">\n<title>10</title>\n<ellipse fill=\"lightgrey\" stroke=\"black\" cx=\"101.6\" cy=\"-94.45\" rx=\"27.65\" ry=\"18.27\"/>\n<text text-anchor=\"middle\" x=\"101.6\" y=\"-97.05\" font-family=\"Times,serif\" font-size=\"8.00\">cherry</text>\n<text text-anchor=\"middle\" x=\"101.6\" y=\"-88.05\" font-family=\"Times,serif\" font-size=\"8.00\">(KBT)</text>\n</g>\n<!-- 11 -->\n<g id=\"node12\" class=\"node\">\n<title>11</title>\n<polygon fill=\"none\" stroke=\"black\" points=\"66.74,-54.92 16.74,-54.92 16.74,-18.92 66.74,-18.92 66.74,-54.92\"/>\n<text text-anchor=\"middle\" x=\"41.74\" y=\"-39.6\" font-family=\"Times,serif\" font-size=\"10.40\">散る</text>\n<text text-anchor=\"middle\" x=\"41.74\" y=\"-28.6\" font-family=\"Times,serif\" font-size=\"10.40\">scatter.1</text>\n</g>\n<!-- 11&#45;&#45;10 -->\n<g id=\"edge12\" class=\"edge\">\n<title>11--10</title>\n<path fill=\"none\" stroke=\"black\" d=\"M60.68,-55.12C68.76,-62.89 78.08,-71.86 85.79,-79.26\"/>\n<text text-anchor=\"middle\" x=\"71.23\" y=\"-69.79\" font-family=\"Times,serif\" font-size=\"8.00\">1</text>\n</g>\n<!-- 12 -->\n<g id=\"node13\" class=\"node\">\n<title>12</title>\n<ellipse fill=\"lightgrey\" stroke=\"black\" cx=\"301.09\" cy=\"-96.38\" rx=\"26.74\" ry=\"18.27\"/>\n<text text-anchor=\"middle\" x=\"301.09\" y=\"-98.98\" font-family=\"Times,serif\" font-size=\"8.00\">cherry</text>\n<text text-anchor=\"middle\" x=\"301.09\" y=\"-89.98\" font-family=\"Times,serif\" font-size=\"8.00\">(KSJ)</text>\n</g>\n<!-- 13 -->\n<g id=\"node14\" class=\"node\">\n<title>13</title>\n<polygon fill=\"none\" stroke=\"black\" points=\"395.08,-72.75 340.08,-72.75 340.08,-36.75 395.08,-36.75 395.08,-72.75\"/>\n<text text-anchor=\"middle\" x=\"367.58\" y=\"-57.43\" font-family=\"Times,serif\" font-size=\"10.40\">すぎる</text>\n<text text-anchor=\"middle\" x=\"367.58\" y=\"-46.43\" font-family=\"Times,serif\" font-size=\"10.40\">excess.v</text>\n</g>\n<!-- 13&#45;&#45;12 -->\n<g id=\"edge13\" class=\"edge\">\n<title>13--12</title>\n<path fill=\"none\" stroke=\"black\" d=\"M339.77,-72.16C333.5,-76.08 326.97,-80.17 321.1,-83.84\"/>\n<text text-anchor=\"middle\" x=\"332.44\" y=\"-80.6\" font-family=\"Times,serif\" font-size=\"8.00\">1</text>\n</g>\n<!-- 14 -->\n<g id=\"node15\" class=\"node\">\n<title>14</title>\n<polygon fill=\"lightyellow\" stroke=\"black\" points=\"235.54,-165.3 176.54,-165.3 176.54,-121.3 235.54,-121.3 235.54,-165.3\"/>\n<text text-anchor=\"middle\" x=\"206.04\" y=\"-148.12\" font-family=\"Times,serif\" font-size=\"16.48\">花</text>\n<text text-anchor=\"middle\" x=\"206.04\" y=\"-130.12\" font-family=\"Times,serif\" font-size=\"16.48\">flower</text>\n</g>\n<!-- 14&#45;&#45;0 -->\n<g id=\"edge19\" class=\"edge\">\n<title>14--0</title>\n<path fill=\"none\" stroke=\"black\" d=\"M208.4,-165.39C209.49,-175.53 210.76,-187.41 211.79,-197.07\"/>\n<text text-anchor=\"middle\" x=\"208.1\" y=\"-183.83\" font-family=\"Times,serif\" font-size=\"8.00\">2</text>\n</g>\n<!-- 14&#45;&#45;3 -->\n<g id=\"edge17\" class=\"edge\">\n<title>14--3</title>\n<path fill=\"none\" stroke=\"black\" d=\"M193.28,-165.62C183.11,-183.42 169.06,-208 159.72,-224.34\"/>\n<text text-anchor=\"middle\" x=\"174.5\" y=\"-188.58\" font-family=\"Times,serif\" font-size=\"8.00\">2</text>\n</g>\n<!-- 14&#45;&#45;6 -->\n<g id=\"edge16\" class=\"edge\">\n<title>14--6</title>\n<path fill=\"none\" stroke=\"black\" d=\"M187.74,-121.22C183.9,-116.59 179.91,-111.77 176.26,-107.36\"/>\n<text text-anchor=\"middle\" x=\"180\" y=\"-116.89\" font-family=\"Times,serif\" font-size=\"8.00\">3</text>\n</g>\n<!-- 14&#45;&#45;10 -->\n<g id=\"edge18\" class=\"edge\">\n<title>14--10</title>\n<path fill=\"none\" stroke=\"black\" d=\"M176.39,-129.43C159.87,-121.71 139.61,-112.23 124.34,-105.09\"/>\n<text text-anchor=\"middle\" x=\"148.37\" y=\"-110.86\" font-family=\"Times,serif\" font-size=\"8.00\">2</text>\n</g>\n<!-- 14&#45;&#45;12 -->\n<g id=\"edge14\" class=\"edge\">\n<title>14--12</title>\n<path fill=\"none\" stroke=\"black\" d=\"M235.59,-128.71C249.65,-121.77 266.17,-113.61 279.1,-107.23\"/>\n<text text-anchor=\"middle\" x=\"255.35\" y=\"-111.57\" font-family=\"Times,serif\" font-size=\"8.00\">6</text>\n</g>\n<!-- 15 -->\n<g id=\"node16\" class=\"node\">\n<title>15</title>\n<ellipse fill=\"lightgrey\" stroke=\"black\" cx=\"242.04\" cy=\"-85.1\" rx=\"28.98\" ry=\"18.27\"/>\n<text text-anchor=\"middle\" x=\"242.04\" y=\"-87.7\" font-family=\"Times,serif\" font-size=\"8.00\">cherry</text>\n<text text-anchor=\"middle\" x=\"242.04\" y=\"-78.7\" font-family=\"Times,serif\" font-size=\"8.00\">(MTD)</text>\n</g>\n<!-- 15&#45;&#45;14 -->\n<g id=\"edge15\" class=\"edge\">\n<title>15--14</title>\n<path fill=\"none\" stroke=\"black\" d=\"M231.43,-102.25C227.78,-108.15 223.64,-114.85 219.78,-121.09\"/>\n<text text-anchor=\"middle\" x=\"223.61\" y=\"-114.27\" font-family=\"Times,serif\" font-size=\"8.00\">5</text>\n</g>\n<!-- 16 -->\n<g id=\"node17\" class=\"node\">\n<title>16</title>\n<polygon fill=\"lightyellow\" stroke=\"black\" points=\"299.11,-172.84 254.11,-172.84 254.11,-136.84 299.11,-136.84 299.11,-172.84\"/>\n<text text-anchor=\"middle\" x=\"276.61\" y=\"-158.9\" font-family=\"Times,serif\" font-size=\"12.42\">以上</text>\n<text text-anchor=\"middle\" x=\"276.61\" y=\"-144.9\" font-family=\"Times,serif\" font-size=\"12.42\">above</text>\n</g>\n<!-- 16&#45;&#45;0 -->\n<g id=\"edge20\" class=\"edge\">\n<title>16--0</title>\n<path fill=\"none\" stroke=\"black\" d=\"M257.76,-173.07C248.94,-181.6 238.53,-191.67 230.06,-199.86\"/>\n<text text-anchor=\"middle\" x=\"241.91\" y=\"-189.07\" font-family=\"Times,serif\" font-size=\"8.00\">2</text>\n</g>\n<!-- 16&#45;&#45;7 -->\n<g id=\"edge23\" class=\"edge\">\n<title>16--7</title>\n<path fill=\"none\" stroke=\"black\" d=\"M253.74,-142.27C240.32,-134.89 223.38,-125.58 209.79,-118.11\"/>\n<text text-anchor=\"middle\" x=\"229.77\" y=\"-132.79\" font-family=\"Times,serif\" font-size=\"8.00\">1</text>\n</g>\n<!-- 16&#45;&#45;12 -->\n<g id=\"edge21\" class=\"edge\">\n<title>16--12</title>\n<path fill=\"none\" stroke=\"black\" d=\"M284.22,-136.66C287.2,-129.55 290.6,-121.43 293.56,-114.34\"/>\n<text text-anchor=\"middle\" x=\"286.89\" y=\"-128.1\" font-family=\"Times,serif\" font-size=\"8.00\">1</text>\n</g>\n<!-- 16&#45;&#45;15 -->\n<g id=\"edge22\" class=\"edge\">\n<title>16--15</title>\n<path fill=\"none\" stroke=\"black\" d=\"M267.53,-136.52C262.41,-126.19 256.04,-113.33 250.94,-103.06\"/>\n<text text-anchor=\"middle\" x=\"261.24\" y=\"-113.39\" font-family=\"Times,serif\" font-size=\"8.00\">1</text>\n</g>\n<!-- 17 -->\n<g id=\"node18\" class=\"node\">\n<title>17</title>\n<polygon fill=\"none\" stroke=\"black\" points=\"283.62,-307.76 241.62,-307.76 241.62,-271.76 283.62,-271.76 283.62,-307.76\"/>\n<text text-anchor=\"middle\" x=\"262.62\" y=\"-292.44\" font-family=\"Times,serif\" font-size=\"10.40\">ここ</text>\n<text text-anchor=\"middle\" x=\"262.62\" y=\"-281.44\" font-family=\"Times,serif\" font-size=\"10.40\">here</text>\n</g>\n<!-- 17&#45;&#45;0 -->\n<g id=\"edge24\" class=\"edge\">\n<title>17--0</title>\n<path fill=\"none\" stroke=\"black\" d=\"M250.55,-271.43C242.75,-259.6 232.67,-244.3 225.04,-232.72\"/>\n<text text-anchor=\"middle\" x=\"235.79\" y=\"-254.67\" font-family=\"Times,serif\" font-size=\"8.00\">1</text>\n</g>\n<!-- 18 -->\n<g id=\"node19\" class=\"node\">\n<title>18</title>\n<polygon fill=\"lightyellow\" stroke=\"black\" points=\"203.29,-185.99 162.29,-185.99 162.29,-149.99 203.29,-149.99 203.29,-185.99\"/>\n<text text-anchor=\"middle\" x=\"182.79\" y=\"-171.73\" font-family=\"Times,serif\" font-size=\"12.82\">後</text>\n<text text-anchor=\"middle\" x=\"182.79\" y=\"-157.73\" font-family=\"Times,serif\" font-size=\"12.82\">after</text>\n</g>\n<!-- 18&#45;&#45;0 -->\n<g id=\"edge26\" class=\"edge\">\n<title>18--0</title>\n<path fill=\"none\" stroke=\"black\" d=\"M194.5,-185.99C197.18,-190.1 200.01,-194.46 202.66,-198.53\"/>\n<text text-anchor=\"middle\" x=\"196.58\" y=\"-185.86\" font-family=\"Times,serif\" font-size=\"8.00\">2</text>\n</g>\n<!-- 18&#45;&#45;6 -->\n<g id=\"edge28\" class=\"edge\">\n<title>18--6</title>\n<path fill=\"none\" stroke=\"black\" d=\"M177.93,-149.62C174.67,-137.27 170.38,-121.06 167.12,-108.74\"/>\n<text text-anchor=\"middle\" x=\"170.53\" y=\"-131.78\" font-family=\"Times,serif\" font-size=\"8.00\">1</text>\n</g>\n<!-- 18&#45;&#45;15 -->\n<g id=\"edge25\" class=\"edge\">\n<title>18--15</title>\n<path fill=\"none\" stroke=\"black\" d=\"M195.94,-149.59C206.1,-135.38 220.05,-115.86 229.94,-102.03\"/>\n<text text-anchor=\"middle\" x=\"210.94\" y=\"-128.41\" font-family=\"Times,serif\" font-size=\"8.00\">2</text>\n</g>\n<!-- 19 -->\n<g id=\"node20\" class=\"node\">\n<title>19</title>\n<ellipse fill=\"lightgrey\" stroke=\"black\" cx=\"78.37\" cy=\"-216.12\" rx=\"28.98\" ry=\"18.27\"/>\n<text text-anchor=\"middle\" x=\"78.37\" y=\"-218.72\" font-family=\"Times,serif\" font-size=\"8.00\">cherry</text>\n<text text-anchor=\"middle\" x=\"78.37\" y=\"-209.72\" font-family=\"Times,serif\" font-size=\"8.00\">(K&amp;A)</text>\n</g>\n<!-- 19&#45;&#45;18 -->\n<g id=\"edge27\" class=\"edge\">\n<title>19--18</title>\n<path fill=\"none\" stroke=\"black\" d=\"M102.06,-205.2C120.12,-196.88 144.73,-185.53 162.02,-177.56\"/>\n<text text-anchor=\"middle\" x=\"130.04\" y=\"-193.98\" font-family=\"Times,serif\" font-size=\"8.00\">1</text>\n</g>\n<!-- 20 -->\n<g id=\"node21\" class=\"node\">\n<title>20</title>\n<polygon fill=\"none\" stroke=\"black\" points=\"199.4,-36 137.4,-36 137.4,0 199.4,0 199.4,-36\"/>\n<text text-anchor=\"middle\" x=\"168.4\" y=\"-21.79\" font-family=\"Times,serif\" font-size=\"11.51\">花盛り</text>\n<text text-anchor=\"middle\" x=\"168.4\" y=\"-8.79\" font-family=\"Times,serif\" font-size=\"11.51\">flowering</text>\n</g>\n<!-- 20&#45;&#45;6 -->\n<g id=\"edge29\" class=\"edge\">\n<title>20--6</title>\n<path fill=\"none\" stroke=\"black\" d=\"M166.86,-36.3C165.94,-47.21 164.78,-61.02 163.86,-71.97\"/>\n<text text-anchor=\"middle\" x=\"163.36\" y=\"-56.73\" font-family=\"Times,serif\" font-size=\"8.00\">2</text>\n</g>\n<!-- 20&#45;&#45;7 -->\n<g id=\"edge30\" class=\"edge\">\n<title>20--7</title>\n<path fill=\"none\" stroke=\"black\" d=\"M172.04,-36.03C175.04,-50.87 179.27,-71.8 182.28,-86.71\"/>\n<text text-anchor=\"middle\" x=\"175.16\" y=\"-63.97\" font-family=\"Times,serif\" font-size=\"8.00\">1</text>\n</g>\n<!-- 21 -->\n<g id=\"node22\" class=\"node\">\n<title>21</title>\n<polygon fill=\"lightyellow\" stroke=\"black\" points=\"141.68,-193.82 102.68,-193.82 102.68,-157.82 141.68,-157.82 141.68,-193.82\"/>\n<text text-anchor=\"middle\" x=\"122.18\" y=\"-179.56\" font-family=\"Times,serif\" font-size=\"12.82\">今</text>\n<text text-anchor=\"middle\" x=\"122.18\" y=\"-165.56\" font-family=\"Times,serif\" font-size=\"12.82\">now</text>\n</g>\n<!-- 21&#45;&#45;0 -->\n<g id=\"edge35\" class=\"edge\">\n<title>21--0</title>\n<path fill=\"none\" stroke=\"black\" d=\"M142.05,-184.46C156.05,-190.54 174.86,-198.71 189.71,-205.16\"/>\n<text text-anchor=\"middle\" x=\"163.88\" y=\"-197.41\" font-family=\"Times,serif\" font-size=\"8.00\">1</text>\n</g>\n<!-- 21&#45;&#45;3 -->\n<g id=\"edge32\" class=\"edge\">\n<title>21--3</title>\n<path fill=\"none\" stroke=\"black\" d=\"M129.88,-194.17C133.77,-203.45 138.48,-214.68 142.35,-223.88\"/>\n<text text-anchor=\"middle\" x=\"134.11\" y=\"-211.63\" font-family=\"Times,serif\" font-size=\"8.00\">1</text>\n</g>\n<!-- 21&#45;&#45;7 -->\n<g id=\"edge31\" class=\"edge\">\n<title>21--7</title>\n<path fill=\"none\" stroke=\"black\" d=\"M138.61,-157.59C148.65,-146.45 161.4,-132.31 171.14,-121.5\"/>\n<text text-anchor=\"middle\" x=\"152.87\" y=\"-142.14\" font-family=\"Times,serif\" font-size=\"8.00\">2</text>\n</g>\n<!-- 21&#45;&#45;10 -->\n<g id=\"edge34\" class=\"edge\">\n<title>21--10</title>\n<path fill=\"none\" stroke=\"black\" d=\"M117.61,-157.77C114.22,-144.37 109.62,-126.19 106.22,-112.74\"/>\n<text text-anchor=\"middle\" x=\"109.92\" y=\"-137.85\" font-family=\"Times,serif\" font-size=\"8.00\">1</text>\n</g>\n<!-- 21&#45;&#45;19 -->\n<g id=\"edge33\" class=\"edge\">\n<title>21--19</title>\n<path fill=\"none\" stroke=\"black\" d=\"M102.58,-193.85C100.03,-196.2 97.44,-198.58 94.94,-200.88\"/>\n<text text-anchor=\"middle\" x=\"96.76\" y=\"-190.97\" font-family=\"Times,serif\" font-size=\"8.00\">1</text>\n</g>\n<!-- 22 -->\n<g id=\"node23\" class=\"node\">\n<title>22</title>\n<polygon fill=\"none\" stroke=\"black\" points=\"165.45,-161.09 117.45,-161.09 117.45,-125.09 165.45,-125.09 165.45,-161.09\"/>\n<text text-anchor=\"middle\" x=\"141.45\" y=\"-146.88\" font-family=\"Times,serif\" font-size=\"11.51\">季節</text>\n<text text-anchor=\"middle\" x=\"141.45\" y=\"-133.88\" font-family=\"Times,serif\" font-size=\"11.51\">season</text>\n</g>\n<!-- 22&#45;&#45;0 -->\n<g id=\"edge38\" class=\"edge\">\n<title>22--0</title>\n<path fill=\"none\" stroke=\"black\" d=\"M159.7,-161.39C171.59,-173.31 186.92,-188.69 198.23,-200.02\"/>\n<text text-anchor=\"middle\" x=\"180.96\" y=\"-183.31\" font-family=\"Times,serif\" font-size=\"8.00\">1</text>\n</g>\n<!-- 22&#45;&#45;6 -->\n<g id=\"edge36\" class=\"edge\">\n<title>22--6</title>\n<path fill=\"none\" stroke=\"black\" d=\"M148.63,-125C150.7,-119.77 152.96,-114.06 155.04,-108.82\"/>\n<text text-anchor=\"middle\" x=\"149.83\" y=\"-119.51\" font-family=\"Times,serif\" font-size=\"8.00\">1</text>\n</g>\n<!-- 22&#45;&#45;10 -->\n<g id=\"edge37\" class=\"edge\">\n<title>22--10</title>\n<path fill=\"none\" stroke=\"black\" d=\"M126.61,-124.98C122.8,-120.34 118.73,-115.37 115,-110.81\"/>\n<text text-anchor=\"middle\" x=\"118.81\" y=\"-120.5\" font-family=\"Times,serif\" font-size=\"8.00\">1</text>\n</g>\n<!-- 23 -->\n<g id=\"node24\" class=\"node\">\n<title>23</title>\n<polygon fill=\"none\" stroke=\"black\" points=\"107.67,-330.78 54.67,-330.78 54.67,-294.78 107.67,-294.78 107.67,-330.78\"/>\n<text text-anchor=\"middle\" x=\"81.17\" y=\"-315.46\" font-family=\"Times,serif\" font-size=\"10.40\">様子</text>\n<text text-anchor=\"middle\" x=\"81.17\" y=\"-304.46\" font-family=\"Times,serif\" font-size=\"10.40\">situation</text>\n</g>\n<!-- 23&#45;&#45;3 -->\n<g id=\"edge39\" class=\"edge\">\n<title>23--3</title>\n<path fill=\"none\" stroke=\"black\" d=\"M98.85,-294.47C109.81,-283.11 123.77,-268.66 134.3,-257.75\"/>\n<text text-anchor=\"middle\" x=\"114.58\" y=\"-278.71\" font-family=\"Times,serif\" font-size=\"8.00\">1</text>\n</g>\n<!-- 24 -->\n<g id=\"node25\" class=\"node\">\n<title>24</title>\n<polygon fill=\"none\" stroke=\"black\" points=\"167.77,-296.32 114.77,-296.32 114.77,-260.32 167.77,-260.32 167.77,-296.32\"/>\n<text text-anchor=\"middle\" x=\"141.27\" y=\"-281.53\" font-family=\"Times,serif\" font-size=\"10.99\">ため</text>\n<text text-anchor=\"middle\" x=\"141.27\" y=\"-269.53\" font-family=\"Times,serif\" font-size=\"10.99\">because</text>\n</g>\n<!-- 24&#45;&#45;0 -->\n<g id=\"edge41\" class=\"edge\">\n<title>24--0</title>\n<path fill=\"none\" stroke=\"black\" d=\"M162.24,-260.18C173.12,-250.78 186.24,-239.43 196.52,-230.54\"/>\n<text text-anchor=\"middle\" x=\"181.38\" y=\"-247.96\" font-family=\"Times,serif\" font-size=\"8.00\">1</text>\n</g>\n<!-- 24&#45;&#45;19 -->\n<g id=\"edge40\" class=\"edge\">\n<title>24--19</title>\n<path fill=\"none\" stroke=\"black\" d=\"M122.74,-259.99C113.75,-251.11 103.06,-240.54 94.43,-232\"/>\n<text text-anchor=\"middle\" x=\"106.58\" y=\"-248.6\" font-family=\"Times,serif\" font-size=\"8.00\">1</text>\n</g>\n<!-- 25 -->\n<g id=\"node26\" class=\"node\">\n<title>25</title>\n<polygon fill=\"lightyellow\" stroke=\"black\" points=\"276.68,-152.39 225.68,-152.39 225.68,-116.39 276.68,-116.39 276.68,-152.39\"/>\n<text text-anchor=\"middle\" x=\"251.18\" y=\"-138.45\" font-family=\"Times,serif\" font-size=\"12.42\">もの</text>\n<text text-anchor=\"middle\" x=\"251.18\" y=\"-124.45\" font-family=\"Times,serif\" font-size=\"12.42\">thing.2</text>\n</g>\n<!-- 25&#45;&#45;0 -->\n<g id=\"edge42\" class=\"edge\">\n<title>25--0</title>\n<path fill=\"none\" stroke=\"black\" d=\"M242.88,-152.41C236.64,-165.97 228.13,-184.44 221.93,-197.92\"/>\n<text text-anchor=\"middle\" x=\"230.4\" y=\"-177.77\" font-family=\"Times,serif\" font-size=\"8.00\">2</text>\n</g>\n<!-- 25&#45;&#45;6 -->\n<g id=\"edge43\" class=\"edge\">\n<title>25--6</title>\n<path fill=\"none\" stroke=\"black\" d=\"M225.47,-121.7C213.48,-115.77 199.25,-108.75 187.34,-102.87\"/>\n<text text-anchor=\"middle\" x=\"204.41\" y=\"-114.88\" font-family=\"Times,serif\" font-size=\"8.00\">1</text>\n</g>\n<!-- 25&#45;&#45;7 -->\n<g id=\"edge45\" class=\"edge\">\n<title>25--7</title>\n<path fill=\"none\" stroke=\"black\" d=\"M225.42,-122.78C221,-120.79 216.41,-118.73 211.99,-116.74\"/>\n<text text-anchor=\"middle\" x=\"220.7\" y=\"-113.36\" font-family=\"Times,serif\" font-size=\"8.00\">1</text>\n</g>\n<!-- 25&#45;&#45;12 -->\n<g id=\"edge44\" class=\"edge\">\n<title>25--12</title>\n<path fill=\"none\" stroke=\"black\" d=\"M274.97,-116.27C277.68,-114.21 280.41,-112.13 283.03,-110.13\"/>\n<text text-anchor=\"middle\" x=\"281\" y=\"-115.8\" font-family=\"Times,serif\" font-size=\"8.00\">1</text>\n</g>\n</g>\n</svg>"
          },
          "metadata": {}
        }
      ]
    },
    {
      "cell_type": "markdown",
      "source": [
        "#### 3.2.5 | *Matsu*, en. pine"
      ],
      "metadata": {
        "id": "SXKaz9UldjAs"
      }
    },
    {
      "cell_type": "code",
      "source": [
        "dot_viz_aggr(\"松\")"
      ],
      "metadata": {
        "colab": {
          "base_uri": "https://localhost:8080/",
          "height": 466
        },
        "id": "ZSoc1GIV91M-",
        "outputId": "e06deceb-daf3-43dd-917a-80d46354d5fd"
      },
      "execution_count": null,
      "outputs": [
        {
          "output_type": "display_data",
          "data": {
            "text/plain": [
              "<IPython.core.display.SVG object>"
            ],
            "image/svg+xml": "<svg xmlns=\"http://www.w3.org/2000/svg\" xmlns:xlink=\"http://www.w3.org/1999/xlink\" width=\"307pt\" height=\"333pt\" viewBox=\"0.00 0.00 306.53 333.10\">\n<g id=\"graph0\" class=\"graph\" transform=\"scale(1 1) rotate(0) translate(4 329.1)\">\n<title>%3</title>\n<polygon fill=\"white\" stroke=\"transparent\" points=\"-4,4 -4,-329.1 302.53,-329.1 302.53,4 -4,4\"/>\n<!-- 0 -->\n<g id=\"node1\" class=\"node\">\n<title>0</title>\n<ellipse fill=\"lightgrey\" stroke=\"black\" cx=\"107.59\" cy=\"-109.73\" rx=\"28.98\" ry=\"18.27\"/>\n<text text-anchor=\"middle\" x=\"107.59\" y=\"-112.33\" font-family=\"Times,serif\" font-size=\"8.00\">pine</text>\n<text text-anchor=\"middle\" x=\"107.59\" y=\"-103.33\" font-family=\"Times,serif\" font-size=\"8.00\">(KNK)</text>\n</g>\n<!-- 1 -->\n<g id=\"node2\" class=\"node\">\n<title>1</title>\n<polygon fill=\"none\" stroke=\"black\" points=\"225.66,-56.42 183.66,-56.42 183.66,-20.42 225.66,-20.42 225.66,-56.42\"/>\n<text text-anchor=\"middle\" x=\"204.66\" y=\"-41.63\" font-family=\"Times,serif\" font-size=\"10.99\">寒い</text>\n<text text-anchor=\"middle\" x=\"204.66\" y=\"-29.63\" font-family=\"Times,serif\" font-size=\"10.99\">cold</text>\n</g>\n<!-- 1&#45;&#45;0 -->\n<g id=\"edge1\" class=\"edge\">\n<title>1--0</title>\n<path fill=\"none\" stroke=\"black\" d=\"M183.6,-53.9C166.65,-66.35 143.03,-83.7 126.64,-95.74\"/>\n<text text-anchor=\"middle\" x=\"153.12\" y=\"-77.42\" font-family=\"Times,serif\" font-size=\"8.00\">1</text>\n</g>\n<!-- 2 -->\n<g id=\"node3\" class=\"node\">\n<title>2</title>\n<ellipse fill=\"lightgrey\" stroke=\"black\" cx=\"243.04\" cy=\"-126.29\" rx=\"25.41\" ry=\"18.27\"/>\n<text text-anchor=\"middle\" x=\"243.04\" y=\"-128.89\" font-family=\"Times,serif\" font-size=\"8.00\">pine</text>\n<text text-anchor=\"middle\" x=\"243.04\" y=\"-119.89\" font-family=\"Times,serif\" font-size=\"8.00\">(KSJ)</text>\n</g>\n<!-- 2&#45;&#45;1 -->\n<g id=\"edge2\" class=\"edge\">\n<title>2--1</title>\n<path fill=\"none\" stroke=\"black\" d=\"M235.28,-108.51C228.66,-93.37 219.2,-71.7 212.55,-56.48\"/>\n<text text-anchor=\"middle\" x=\"221.91\" y=\"-76.1\" font-family=\"Times,serif\" font-size=\"8.00\">1</text>\n</g>\n<!-- 3 -->\n<g id=\"node4\" class=\"node\">\n<title>3</title>\n<ellipse fill=\"lightgrey\" stroke=\"black\" cx=\"207.06\" cy=\"-237.32\" rx=\"33.47\" ry=\"18.27\"/>\n<text text-anchor=\"middle\" x=\"207.06\" y=\"-239.92\" font-family=\"Times,serif\" font-size=\"8.00\">pine</text>\n<text text-anchor=\"middle\" x=\"207.06\" y=\"-230.92\" font-family=\"Times,serif\" font-size=\"8.00\">(OKMR)</text>\n</g>\n<!-- 4 -->\n<g id=\"node5\" class=\"node\">\n<title>4</title>\n<polygon fill=\"none\" stroke=\"black\" points=\"272.17,-325.1 230.17,-325.1 230.17,-289.1 272.17,-289.1 272.17,-325.1\"/>\n<text text-anchor=\"middle\" x=\"251.17\" y=\"-309.78\" font-family=\"Times,serif\" font-size=\"10.40\">偉大</text>\n<text text-anchor=\"middle\" x=\"251.17\" y=\"-298.78\" font-family=\"Times,serif\" font-size=\"10.40\">great</text>\n</g>\n<!-- 4&#45;&#45;3 -->\n<g id=\"edge3\" class=\"edge\">\n<title>4--3</title>\n<path fill=\"none\" stroke=\"black\" d=\"M239.58,-288.76C232.95,-278.26 224.66,-265.16 218.12,-254.81\"/>\n<text text-anchor=\"middle\" x=\"226.85\" y=\"-274.38\" font-family=\"Times,serif\" font-size=\"8.00\">1</text>\n</g>\n<!-- 5 -->\n<g id=\"node6\" class=\"node\">\n<title>5</title>\n<ellipse fill=\"lightgrey\" stroke=\"black\" cx=\"96.06\" cy=\"-85.44\" rx=\"28.98\" ry=\"18.27\"/>\n<text text-anchor=\"middle\" x=\"96.06\" y=\"-88.04\" font-family=\"Times,serif\" font-size=\"8.00\">pine</text>\n<text text-anchor=\"middle\" x=\"96.06\" y=\"-79.04\" font-family=\"Times,serif\" font-size=\"8.00\">(OZW)</text>\n</g>\n<!-- 6 -->\n<g id=\"node7\" class=\"node\">\n<title>6</title>\n<polygon fill=\"none\" stroke=\"black\" points=\"71.1,-36 23.1,-36 23.1,0 71.1,0 71.1,-36\"/>\n<text text-anchor=\"middle\" x=\"47.1\" y=\"-20.68\" font-family=\"Times,serif\" font-size=\"10.40\">すぐ</text>\n<text text-anchor=\"middle\" x=\"47.1\" y=\"-9.68\" font-family=\"Times,serif\" font-size=\"10.40\">quickly</text>\n</g>\n<!-- 6&#45;&#45;5 -->\n<g id=\"edge4\" class=\"edge\">\n<title>6--5</title>\n<path fill=\"none\" stroke=\"black\" d=\"M60.22,-36.07C67.58,-46.22 76.71,-58.79 83.91,-68.71\"/>\n<text text-anchor=\"middle\" x=\"70.07\" y=\"-54.99\" font-family=\"Times,serif\" font-size=\"8.00\">1</text>\n</g>\n<!-- 7 -->\n<g id=\"node8\" class=\"node\">\n<title>7</title>\n<ellipse fill=\"lightgrey\" stroke=\"black\" cx=\"128.97\" cy=\"-77.74\" rx=\"32.55\" ry=\"18.27\"/>\n<text text-anchor=\"middle\" x=\"128.97\" y=\"-80.34\" font-family=\"Times,serif\" font-size=\"8.00\">pine</text>\n<text text-anchor=\"middle\" x=\"128.97\" y=\"-71.34\" font-family=\"Times,serif\" font-size=\"8.00\">(TKOK)</text>\n</g>\n<!-- 8 -->\n<g id=\"node9\" class=\"node\">\n<title>8</title>\n<polygon fill=\"lightyellow\" stroke=\"black\" points=\"198.77,-168.89 153.77,-168.89 153.77,-126.89 198.77,-126.89 198.77,-168.89\"/>\n<text text-anchor=\"middle\" x=\"176.27\" y=\"-152.53\" font-family=\"Times,serif\" font-size=\"15.46\">言う</text>\n<text text-anchor=\"middle\" x=\"176.27\" y=\"-135.53\" font-family=\"Times,serif\" font-size=\"15.46\">say</text>\n</g>\n<!-- 8&#45;&#45;0 -->\n<g id=\"edge6\" class=\"edge\">\n<title>8--0</title>\n<path fill=\"none\" stroke=\"black\" d=\"M153.4,-135.18C145.75,-130.93 137.25,-126.21 129.66,-121.99\"/>\n<text text-anchor=\"middle\" x=\"139.53\" y=\"-131.19\" font-family=\"Times,serif\" font-size=\"8.00\">3</text>\n</g>\n<!-- 8&#45;&#45;2 -->\n<g id=\"edge11\" class=\"edge\">\n<title>8--2</title>\n<path fill=\"none\" stroke=\"black\" d=\"M198.87,-140.58C205.53,-138.42 212.83,-136.06 219.55,-133.89\"/>\n<text text-anchor=\"middle\" x=\"207.21\" y=\"-139.83\" font-family=\"Times,serif\" font-size=\"8.00\">1</text>\n</g>\n<!-- 8&#45;&#45;3 -->\n<g id=\"edge7\" class=\"edge\">\n<title>8--3</title>\n<path fill=\"none\" stroke=\"black\" d=\"M183.56,-169.08C188.79,-184.27 195.76,-204.51 200.75,-219\"/>\n<text text-anchor=\"middle\" x=\"190.16\" y=\"-196.64\" font-family=\"Times,serif\" font-size=\"8.00\">2</text>\n</g>\n<!-- 8&#45;&#45;5 -->\n<g id=\"edge8\" class=\"edge\">\n<title>8--5</title>\n<path fill=\"none\" stroke=\"black\" d=\"M153.5,-130.16C141.18,-120.57 126.15,-108.88 114.56,-99.85\"/>\n<text text-anchor=\"middle\" x=\"136.03\" y=\"-108.61\" font-family=\"Times,serif\" font-size=\"8.00\">2</text>\n</g>\n<!-- 8&#45;&#45;7 -->\n<g id=\"edge5\" class=\"edge\">\n<title>8--7</title>\n<path fill=\"none\" stroke=\"black\" d=\"M162.07,-126.84C155.22,-116.67 147.09,-104.62 140.6,-95\"/>\n<text text-anchor=\"middle\" x=\"149.34\" y=\"-104.52\" font-family=\"Times,serif\" font-size=\"8.00\">4</text>\n</g>\n<!-- 9 -->\n<g id=\"node10\" class=\"node\">\n<title>9</title>\n<ellipse fill=\"lightgrey\" stroke=\"black\" cx=\"224.27\" cy=\"-103\" rx=\"28.98\" ry=\"18.27\"/>\n<text text-anchor=\"middle\" x=\"224.27\" y=\"-105.6\" font-family=\"Times,serif\" font-size=\"8.00\">pine</text>\n<text text-anchor=\"middle\" x=\"224.27\" y=\"-96.6\" font-family=\"Times,serif\" font-size=\"8.00\">(K&amp;A)</text>\n</g>\n<!-- 9&#45;&#45;8 -->\n<g id=\"edge9\" class=\"edge\">\n<title>9--8</title>\n<path fill=\"none\" stroke=\"black\" d=\"M207.75,-118.45C204.93,-121.08 201.96,-123.87 199.01,-126.62\"/>\n<text text-anchor=\"middle\" x=\"201.38\" y=\"-125.13\" font-family=\"Times,serif\" font-size=\"8.00\">1</text>\n</g>\n<!-- 10 -->\n<g id=\"node11\" class=\"node\">\n<title>10</title>\n<ellipse fill=\"lightgrey\" stroke=\"black\" cx=\"105.95\" cy=\"-207\" rx=\"33.47\" ry=\"18.27\"/>\n<text text-anchor=\"middle\" x=\"105.95\" y=\"-209.6\" font-family=\"Times,serif\" font-size=\"8.00\">pine</text>\n<text text-anchor=\"middle\" x=\"105.95\" y=\"-200.6\" font-family=\"Times,serif\" font-size=\"8.00\">(KMCY)</text>\n</g>\n<!-- 10&#45;&#45;8 -->\n<g id=\"edge10\" class=\"edge\">\n<title>10--8</title>\n<path fill=\"none\" stroke=\"black\" d=\"M124.43,-191.47C133.38,-183.95 144.21,-174.84 153.65,-166.9\"/>\n<text text-anchor=\"middle\" x=\"137.04\" y=\"-181.79\" font-family=\"Times,serif\" font-size=\"8.00\">1</text>\n</g>\n<!-- 11 -->\n<g id=\"node12\" class=\"node\">\n<title>11</title>\n<ellipse fill=\"lightgrey\" stroke=\"black\" cx=\"175.77\" cy=\"-197.6\" rx=\"28.98\" ry=\"18.27\"/>\n<text text-anchor=\"middle\" x=\"175.77\" y=\"-200.2\" font-family=\"Times,serif\" font-size=\"8.00\">pine</text>\n<text text-anchor=\"middle\" x=\"175.77\" y=\"-191.2\" font-family=\"Times,serif\" font-size=\"8.00\">(MTD)</text>\n</g>\n<!-- 11&#45;&#45;8 -->\n<g id=\"edge12\" class=\"edge\">\n<title>11--8</title>\n<path fill=\"none\" stroke=\"black\" d=\"M175.95,-179.09C175.99,-175.78 176.02,-172.3 176.05,-168.93\"/>\n<text text-anchor=\"middle\" x=\"178\" y=\"-167.61\" font-family=\"Times,serif\" font-size=\"8.00\">1</text>\n</g>\n<!-- 12 -->\n<g id=\"node13\" class=\"node\">\n<title>12</title>\n<polygon fill=\"lightyellow\" stroke=\"black\" points=\"174.09,-185.72 126.09,-185.72 126.09,-139.72 174.09,-139.72 174.09,-185.72\"/>\n<text text-anchor=\"middle\" x=\"150.09\" y=\"-167.61\" font-family=\"Times,serif\" font-size=\"17.63\">待つ</text>\n<text text-anchor=\"middle\" x=\"150.09\" y=\"-148.61\" font-family=\"Times,serif\" font-size=\"17.63\">wait</text>\n</g>\n<!-- 12&#45;&#45;0 -->\n<g id=\"edge15\" class=\"edge\">\n<title>12--0</title>\n<path fill=\"none\" stroke=\"black\" d=\"M131.57,-139.63C127.99,-135.17 124.31,-130.58 120.94,-126.37\"/>\n<text text-anchor=\"middle\" x=\"124.26\" y=\"-135.6\" font-family=\"Times,serif\" font-size=\"8.00\">3</text>\n</g>\n<!-- 12&#45;&#45;2 -->\n<g id=\"edge16\" class=\"edge\">\n<title>12--2</title>\n<path fill=\"none\" stroke=\"black\" d=\"M174.51,-153.15C188.71,-147.58 206.49,-140.62 220.38,-135.17\"/>\n<text text-anchor=\"middle\" x=\"199.45\" y=\"-146.76\" font-family=\"Times,serif\" font-size=\"8.00\">3</text>\n</g>\n<!-- 12&#45;&#45;3 -->\n<g id=\"edge18\" class=\"edge\">\n<title>12--3</title>\n<path fill=\"none\" stroke=\"black\" d=\"M167.8,-185.91C176.3,-197.03 186.29,-210.11 194.06,-220.3\"/>\n<text text-anchor=\"middle\" x=\"178.93\" y=\"-205.71\" font-family=\"Times,serif\" font-size=\"8.00\">3</text>\n</g>\n<!-- 12&#45;&#45;5 -->\n<g id=\"edge19\" class=\"edge\">\n<title>12--5</title>\n<path fill=\"none\" stroke=\"black\" d=\"M133.88,-139.53C125.55,-127.62 115.58,-113.36 107.96,-102.47\"/>\n<text text-anchor=\"middle\" x=\"118.92\" y=\"-123.6\" font-family=\"Times,serif\" font-size=\"8.00\">3</text>\n</g>\n<!-- 12&#45;&#45;7 -->\n<g id=\"edge20\" class=\"edge\">\n<title>12--7</title>\n<path fill=\"none\" stroke=\"black\" d=\"M144.32,-139.5C140.92,-125.84 136.69,-108.8 133.53,-96.09\"/>\n<text text-anchor=\"middle\" x=\"140.92\" y=\"-120.39\" font-family=\"Times,serif\" font-size=\"8.00\">3</text>\n</g>\n<!-- 12&#45;&#45;9 -->\n<g id=\"edge21\" class=\"edge\">\n<title>12--9</title>\n<path fill=\"none\" stroke=\"black\" d=\"M174.38,-143.16C184.69,-134.86 196.51,-125.35 206.05,-117.67\"/>\n<text text-anchor=\"middle\" x=\"188.22\" y=\"-124.02\" font-family=\"Times,serif\" font-size=\"8.00\">1</text>\n</g>\n<!-- 12&#45;&#45;10 -->\n<g id=\"edge13\" class=\"edge\">\n<title>12--10</title>\n<path fill=\"none\" stroke=\"black\" d=\"M126.99,-185.9C125.32,-187.57 123.66,-189.24 122.04,-190.86\"/>\n<text text-anchor=\"middle\" x=\"122.52\" y=\"-181.98\" font-family=\"Times,serif\" font-size=\"8.00\">4</text>\n</g>\n<!-- 12&#45;&#45;11 -->\n<g id=\"edge17\" class=\"edge\">\n<title>12--11</title>\n<path fill=\"none\" stroke=\"black\" d=\"M167.07,-185.79C167.15,-185.89 167.22,-185.99 167.3,-186.1\"/>\n<text text-anchor=\"middle\" x=\"165.19\" y=\"-188.54\" font-family=\"Times,serif\" font-size=\"8.00\">3</text>\n</g>\n<!-- 13 -->\n<g id=\"node14\" class=\"node\">\n<title>13</title>\n<ellipse fill=\"lightgrey\" stroke=\"black\" cx=\"72.57\" cy=\"-227.77\" rx=\"27.65\" ry=\"18.27\"/>\n<text text-anchor=\"middle\" x=\"72.57\" y=\"-230.37\" font-family=\"Times,serif\" font-size=\"8.00\">pine</text>\n<text text-anchor=\"middle\" x=\"72.57\" y=\"-221.37\" font-family=\"Times,serif\" font-size=\"8.00\">(KBT)</text>\n</g>\n<!-- 13&#45;&#45;12 -->\n<g id=\"edge14\" class=\"edge\">\n<title>13--12</title>\n<path fill=\"none\" stroke=\"black\" d=\"M89.77,-213.33C100.39,-204.42 114.17,-192.86 125.88,-183.04\"/>\n<text text-anchor=\"middle\" x=\"105.82\" y=\"-200.78\" font-family=\"Times,serif\" font-size=\"8.00\">4</text>\n</g>\n<!-- 14 -->\n<g id=\"node15\" class=\"node\">\n<title>14</title>\n<polygon fill=\"none\" stroke=\"black\" points=\"298.53,-217.02 236.53,-217.02 236.53,-181.02 298.53,-181.02 298.53,-217.02\"/>\n<text text-anchor=\"middle\" x=\"267.53\" y=\"-202.43\" font-family=\"Times,serif\" font-size=\"11.99\">変える</text>\n<text text-anchor=\"middle\" x=\"267.53\" y=\"-189.43\" font-family=\"Times,serif\" font-size=\"11.99\">change.vt</text>\n</g>\n<!-- 14&#45;&#45;2 -->\n<g id=\"edge23\" class=\"edge\">\n<title>14--2</title>\n<path fill=\"none\" stroke=\"black\" d=\"M261.35,-180.67C257.61,-169.56 252.86,-155.45 249.13,-144.39\"/>\n<text text-anchor=\"middle\" x=\"253.24\" y=\"-165.13\" font-family=\"Times,serif\" font-size=\"8.00\">1</text>\n</g>\n<!-- 14&#45;&#45;3 -->\n<g id=\"edge22\" class=\"edge\">\n<title>14--3</title>\n<path fill=\"none\" stroke=\"black\" d=\"M239.06,-217.05C235.76,-219.14 232.42,-221.25 229.21,-223.28\"/>\n<text text-anchor=\"middle\" x=\"232.14\" y=\"-213.77\" font-family=\"Times,serif\" font-size=\"8.00\">2</text>\n</g>\n<!-- 14&#45;&#45;11 -->\n<g id=\"edge24\" class=\"edge\">\n<title>14--11</title>\n<path fill=\"none\" stroke=\"black\" d=\"M236.46,-198.54C226.27,-198.38 214.99,-198.21 204.94,-198.05\"/>\n<text text-anchor=\"middle\" x=\"218.7\" y=\"-200.9\" font-family=\"Times,serif\" font-size=\"8.00\">1</text>\n</g>\n<!-- 15 -->\n<g id=\"node16\" class=\"node\">\n<title>15</title>\n<polygon fill=\"lightyellow\" stroke=\"black\" points=\"183.96,-148.5 109.96,-148.5 109.96,-108.5 183.96,-108.5 183.96,-148.5\"/>\n<text text-anchor=\"middle\" x=\"146.96\" y=\"-132.93\" font-family=\"Times,serif\" font-size=\"14.45\">変わる</text>\n<text text-anchor=\"middle\" x=\"146.96\" y=\"-116.93\" font-family=\"Times,serif\" font-size=\"14.45\">change.vi</text>\n</g>\n<!-- 15&#45;&#45;0 -->\n<g id=\"edge25\" class=\"edge\">\n<title>15--0</title>\n<path fill=\"none\" stroke=\"black\" d=\"M109.71,-110.74C109.54,-110.66 109.38,-110.58 109.23,-110.51\"/>\n<text text-anchor=\"middle\" x=\"107.47\" y=\"-113.23\" font-family=\"Times,serif\" font-size=\"8.00\">2</text>\n</g>\n<!-- 15&#45;&#45;5 -->\n<g id=\"edge28\" class=\"edge\">\n<title>15--5</title>\n<path fill=\"none\" stroke=\"black\" d=\"M123.3,-108.48C120.08,-105.76 116.82,-103 113.73,-100.39\"/>\n<text text-anchor=\"middle\" x=\"116.51\" y=\"-107.04\" font-family=\"Times,serif\" font-size=\"8.00\">2</text>\n</g>\n<!-- 15&#45;&#45;7 -->\n<g id=\"edge29\" class=\"edge\">\n<title>15--7</title>\n<path fill=\"none\" stroke=\"black\" d=\"M139.85,-108.44C138.39,-104.33 136.87,-100.04 135.44,-96.01\"/>\n<text text-anchor=\"middle\" x=\"139.64\" y=\"-95.82\" font-family=\"Times,serif\" font-size=\"8.00\">2</text>\n</g>\n<!-- 15&#45;&#45;9 -->\n<g id=\"edge30\" class=\"edge\">\n<title>15--9</title>\n<path fill=\"none\" stroke=\"black\" d=\"M184.26,-116.19C189.05,-114.62 193.86,-113.03 198.41,-111.53\"/>\n<text text-anchor=\"middle\" x=\"189.34\" y=\"-107.46\" font-family=\"Times,serif\" font-size=\"8.00\">1</text>\n</g>\n<!-- 15&#45;&#45;10 -->\n<g id=\"edge26\" class=\"edge\">\n<title>15--10</title>\n<path fill=\"none\" stroke=\"black\" d=\"M136.4,-148.71C129.85,-161.25 121.51,-177.21 115.22,-189.26\"/>\n<text text-anchor=\"middle\" x=\"123.81\" y=\"-162.59\" font-family=\"Times,serif\" font-size=\"8.00\">2</text>\n</g>\n<!-- 15&#45;&#45;11 -->\n<g id=\"edge27\" class=\"edge\">\n<title>15--11</title>\n<path fill=\"none\" stroke=\"black\" d=\"M155.45,-148.86C159.5,-158.57 164.3,-170.1 168.22,-179.5\"/>\n<text text-anchor=\"middle\" x=\"159.83\" y=\"-166.78\" font-family=\"Times,serif\" font-size=\"8.00\">2</text>\n</g>\n<!-- 16 -->\n<g id=\"node17\" class=\"node\">\n<title>16</title>\n<polygon fill=\"lightyellow\" stroke=\"black\" points=\"96.95,-168.1 48.95,-168.1 48.95,-132.1 96.95,-132.1 96.95,-168.1\"/>\n<text text-anchor=\"middle\" x=\"72.95\" y=\"-154.16\" font-family=\"Times,serif\" font-size=\"12.42\">色</text>\n<text text-anchor=\"middle\" x=\"72.95\" y=\"-140.16\" font-family=\"Times,serif\" font-size=\"12.42\">colour</text>\n</g>\n<!-- 16&#45;&#45;0 -->\n<g id=\"edge31\" class=\"edge\">\n<title>16--0</title>\n<path fill=\"none\" stroke=\"black\" d=\"M88.65,-131.81C90.23,-129.97 91.82,-128.11 93.38,-126.3\"/>\n<text text-anchor=\"middle\" x=\"89.01\" y=\"-131.65\" font-family=\"Times,serif\" font-size=\"8.00\">1</text>\n</g>\n<!-- 16&#45;&#45;5 -->\n<g id=\"edge34\" class=\"edge\">\n<title>16--5</title>\n<path fill=\"none\" stroke=\"black\" d=\"M79.39,-132.09C82.54,-123.27 86.33,-112.67 89.5,-103.81\"/>\n<text text-anchor=\"middle\" x=\"82.44\" y=\"-120.55\" font-family=\"Times,serif\" font-size=\"8.00\">1</text>\n</g>\n<!-- 16&#45;&#45;7 -->\n<g id=\"edge35\" class=\"edge\">\n<title>16--7</title>\n<path fill=\"none\" stroke=\"black\" d=\"M87.09,-131.84C95.9,-120.45 107.17,-105.9 115.8,-94.75\"/>\n<text text-anchor=\"middle\" x=\"99.44\" y=\"-115.9\" font-family=\"Times,serif\" font-size=\"8.00\">1</text>\n</g>\n<!-- 16&#45;&#45;11 -->\n<g id=\"edge33\" class=\"edge\">\n<title>16--11</title>\n<path fill=\"none\" stroke=\"black\" d=\"M97.06,-161.24C113.68,-168.92 135.66,-179.07 152.17,-186.7\"/>\n<text text-anchor=\"middle\" x=\"122.61\" y=\"-176.57\" font-family=\"Times,serif\" font-size=\"8.00\">1</text>\n</g>\n<!-- 16&#45;&#45;13 -->\n<g id=\"edge32\" class=\"edge\">\n<title>16--13</title>\n<path fill=\"none\" stroke=\"black\" d=\"M72.86,-168.12C72.8,-180.48 72.72,-196.85 72.66,-209.31\"/>\n<text text-anchor=\"middle\" x=\"70.76\" y=\"-191.32\" font-family=\"Times,serif\" font-size=\"8.00\">1</text>\n</g>\n<!-- 17 -->\n<g id=\"node18\" class=\"node\">\n<title>17</title>\n<polygon fill=\"lightyellow\" stroke=\"black\" points=\"56,-194.86 0,-194.86 0,-156.86 56,-156.86 56,-194.86\"/>\n<text text-anchor=\"middle\" x=\"28\" y=\"-179.77\" font-family=\"Times,serif\" font-size=\"13.86\">自分</text>\n<text text-anchor=\"middle\" x=\"28\" y=\"-164.77\" font-family=\"Times,serif\" font-size=\"13.86\">oneself</text>\n</g>\n<!-- 17&#45;&#45;0 -->\n<g id=\"edge36\" class=\"edge\">\n<title>17--0</title>\n<path fill=\"none\" stroke=\"black\" d=\"M51.02,-156.73C63.42,-146.43 78.47,-133.92 89.93,-124.4\"/>\n<text text-anchor=\"middle\" x=\"68.48\" y=\"-134.17\" font-family=\"Times,serif\" font-size=\"8.00\">7</text>\n</g>\n<!-- 17&#45;&#45;10 -->\n<g id=\"edge37\" class=\"edge\">\n<title>17--10</title>\n<path fill=\"none\" stroke=\"black\" d=\"M56.14,-187.1C63.56,-190.06 71.54,-193.25 78.89,-196.19\"/>\n<text text-anchor=\"middle\" x=\"65.52\" y=\"-194.25\" font-family=\"Times,serif\" font-size=\"8.00\">1</text>\n</g>\n<!-- 17&#45;&#45;13 -->\n<g id=\"edge38\" class=\"edge\">\n<title>17--13</title>\n<path fill=\"none\" stroke=\"black\" d=\"M44.34,-194.89C49.11,-200.45 54.27,-206.46 58.86,-211.81\"/>\n<text text-anchor=\"middle\" x=\"49.6\" y=\"-196.95\" font-family=\"Times,serif\" font-size=\"8.00\">1</text>\n</g>\n<!-- 18 -->\n<g id=\"node19\" class=\"node\">\n<title>18</title>\n<polygon fill=\"lightyellow\" stroke=\"black\" points=\"203.49,-102.89 153.49,-102.89 153.49,-66.89 203.49,-66.89 203.49,-102.89\"/>\n<text text-anchor=\"middle\" x=\"178.49\" y=\"-88.95\" font-family=\"Times,serif\" font-size=\"12.42\">私</text>\n<text text-anchor=\"middle\" x=\"178.49\" y=\"-74.95\" font-family=\"Times,serif\" font-size=\"12.42\">myself</text>\n</g>\n<!-- 18&#45;&#45;0 -->\n<g id=\"edge39\" class=\"edge\">\n<title>18--0</title>\n<path fill=\"none\" stroke=\"black\" d=\"M153.3,-93.72C146.77,-96.01 139.73,-98.47 133.19,-100.76\"/>\n<text text-anchor=\"middle\" x=\"145.24\" y=\"-99.84\" font-family=\"Times,serif\" font-size=\"8.00\">1</text>\n</g>\n<!-- 18&#45;&#45;2 -->\n<g id=\"edge40\" class=\"edge\">\n<title>18--2</title>\n<path fill=\"none\" stroke=\"black\" d=\"M203.63,-101.02C210.29,-105.29 217.37,-109.83 223.67,-113.87\"/>\n<text text-anchor=\"middle\" x=\"211.65\" y=\"-110.04\" font-family=\"Times,serif\" font-size=\"8.00\">1</text>\n</g>\n<!-- 18&#45;&#45;5 -->\n<g id=\"edge42\" class=\"edge\">\n<title>18--5</title>\n<path fill=\"none\" stroke=\"black\" d=\"M153.31,-85.06C144.41,-85.12 134.33,-85.19 125.13,-85.25\"/>\n<text text-anchor=\"middle\" x=\"137.22\" y=\"-78.76\" font-family=\"Times,serif\" font-size=\"8.00\">1</text>\n</g>\n<!-- 18&#45;&#45;7 -->\n<g id=\"edge43\" class=\"edge\">\n<title>18--7</title>\n<path fill=\"none\" stroke=\"black\" d=\"M153.44,-81.27C153.34,-81.26 153.25,-81.25 153.15,-81.23\"/>\n<text text-anchor=\"middle\" x=\"151.3\" y=\"-83.85\" font-family=\"Times,serif\" font-size=\"8.00\">1</text>\n</g>\n<!-- 18&#45;&#45;11 -->\n<g id=\"edge41\" class=\"edge\">\n<title>18--11</title>\n<path fill=\"none\" stroke=\"black\" d=\"M178.06,-103C177.55,-123.91 176.72,-158.12 176.21,-179.16\"/>\n<text text-anchor=\"middle\" x=\"179.13\" y=\"-143.68\" font-family=\"Times,serif\" font-size=\"8.00\">1</text>\n</g>\n<!-- 19 -->\n<g id=\"node20\" class=\"node\">\n<title>19</title>\n<polygon fill=\"none\" stroke=\"black\" points=\"151.48,-290.57 122.48,-290.57 122.48,-254.57 151.48,-254.57 151.48,-290.57\"/>\n<text text-anchor=\"middle\" x=\"136.98\" y=\"-275.98\" font-family=\"Times,serif\" font-size=\"11.99\">上</text>\n<text text-anchor=\"middle\" x=\"136.98\" y=\"-262.98\" font-family=\"Times,serif\" font-size=\"11.99\">up</text>\n</g>\n<!-- 19&#45;&#45;3 -->\n<g id=\"edge47\" class=\"edge\">\n<title>19--3</title>\n<path fill=\"none\" stroke=\"black\" d=\"M151.5,-265.27C160.4,-260.79 172.03,-254.94 182.35,-249.75\"/>\n<text text-anchor=\"middle\" x=\"164.92\" y=\"-260.11\" font-family=\"Times,serif\" font-size=\"8.00\">1</text>\n</g>\n<!-- 19&#45;&#45;10 -->\n<g id=\"edge44\" class=\"edge\">\n<title>19--10</title>\n<path fill=\"none\" stroke=\"black\" d=\"M128.34,-254.31C124.03,-245.21 118.85,-234.25 114.55,-225.17\"/>\n<text text-anchor=\"middle\" x=\"119.44\" y=\"-242.34\" font-family=\"Times,serif\" font-size=\"8.00\">1</text>\n</g>\n<!-- 19&#45;&#45;11 -->\n<g id=\"edge46\" class=\"edge\">\n<title>19--11</title>\n<path fill=\"none\" stroke=\"black\" d=\"M146.37,-254.42C152.51,-242.55 160.5,-227.11 166.6,-215.32\"/>\n<text text-anchor=\"middle\" x=\"154.48\" y=\"-237.47\" font-family=\"Times,serif\" font-size=\"8.00\">1</text>\n</g>\n<!-- 19&#45;&#45;13 -->\n<g id=\"edge45\" class=\"edge\">\n<title>19--13</title>\n<path fill=\"none\" stroke=\"black\" d=\"M122.36,-262.4C113.31,-256.11 101.57,-247.94 91.77,-241.13\"/>\n<text text-anchor=\"middle\" x=\"105.07\" y=\"-254.37\" font-family=\"Times,serif\" font-size=\"8.00\">1</text>\n</g>\n</g>\n</svg>"
          },
          "metadata": {}
        }
      ]
    },
    {
      "cell_type": "markdown",
      "source": [
        "#### 3.2.6 | *Yamabuki*, en. kerria"
      ],
      "metadata": {
        "id": "zjvjqiEpdyEs"
      }
    },
    {
      "cell_type": "code",
      "source": [
        "dot_viz(\"山吹\")"
      ],
      "metadata": {
        "colab": {
          "base_uri": "https://localhost:8080/",
          "height": 776
        },
        "id": "WqVkus9t8C5h",
        "outputId": "bbb278f8-603c-4ccc-c1e8-1033977508ba"
      },
      "execution_count": null,
      "outputs": [
        {
          "output_type": "display_data",
          "data": {
            "text/plain": [
              "<IPython.core.display.SVG object>"
            ],
            "image/svg+xml": "<svg xmlns=\"http://www.w3.org/2000/svg\" xmlns:xlink=\"http://www.w3.org/1999/xlink\" width=\"544pt\" height=\"566pt\" viewBox=\"0.00 0.00 544.15 566.22\">\n<g id=\"graph0\" class=\"graph\" transform=\"scale(1 1) rotate(0) translate(4 562.22)\">\n<title>%3</title>\n<polygon fill=\"white\" stroke=\"transparent\" points=\"-4,4 -4,-562.22 540.15,-562.22 540.15,4 -4,4\"/>\n<!-- 0 -->\n<g id=\"node1\" class=\"node\">\n<title>0</title>\n<ellipse fill=\"lightgrey\" stroke=\"black\" cx=\"257.17\" cy=\"-310.23\" rx=\"28.98\" ry=\"18.27\"/>\n<text text-anchor=\"middle\" x=\"257.17\" y=\"-312.83\" font-family=\"Times,serif\" font-size=\"8.00\">Kerria</text>\n<text text-anchor=\"middle\" x=\"257.17\" y=\"-303.83\" font-family=\"Times,serif\" font-size=\"8.00\">(OZW)</text>\n</g>\n<!-- 1 -->\n<g id=\"node2\" class=\"node\">\n<title>1</title>\n<polygon fill=\"none\" stroke=\"black\" points=\"323.18,-263.18 281.18,-263.18 281.18,-227.18 323.18,-227.18 323.18,-263.18\"/>\n<text text-anchor=\"middle\" x=\"302.18\" y=\"-247.86\" font-family=\"Times,serif\" font-size=\"10.40\">無駄</text>\n<text text-anchor=\"middle\" x=\"302.18\" y=\"-236.86\" font-family=\"Times,serif\" font-size=\"10.40\">waste</text>\n</g>\n<!-- 1&#45;&#45;0 -->\n<g id=\"edge1\" class=\"edge\">\n<title>1--0</title>\n<path fill=\"none\" stroke=\"black\" d=\"M289.64,-263.3C283.19,-272.62 275.37,-283.93 269.02,-293.1\"/>\n<text text-anchor=\"middle\" x=\"277.33\" y=\"-280.8\" font-family=\"Times,serif\" font-size=\"8.00\">1</text>\n</g>\n<!-- 2 -->\n<g id=\"node3\" class=\"node\">\n<title>2</title>\n<ellipse fill=\"lightgrey\" stroke=\"black\" cx=\"114.83\" cy=\"-343.13\" rx=\"33.47\" ry=\"18.27\"/>\n<text text-anchor=\"middle\" x=\"114.83\" y=\"-345.73\" font-family=\"Times,serif\" font-size=\"8.00\">Kerria</text>\n<text text-anchor=\"middle\" x=\"114.83\" y=\"-336.73\" font-family=\"Times,serif\" font-size=\"8.00\">(OKMR)</text>\n</g>\n<!-- 3 -->\n<g id=\"node4\" class=\"node\">\n<title>3</title>\n<polygon fill=\"none\" stroke=\"black\" points=\"68,-382.32 0,-382.32 0,-346.32 68,-346.32 68,-382.32\"/>\n<text text-anchor=\"middle\" x=\"34\" y=\"-367\" font-family=\"Times,serif\" font-size=\"10.40\">無意味</text>\n<text text-anchor=\"middle\" x=\"34\" y=\"-356\" font-family=\"Times,serif\" font-size=\"10.40\">meaningless</text>\n</g>\n<!-- 3&#45;&#45;2 -->\n<g id=\"edge2\" class=\"edge\">\n<title>3--2</title>\n<path fill=\"none\" stroke=\"black\" d=\"M68.28,-355.33C73.7,-353.91 79.27,-352.45 84.59,-351.06\"/>\n<text text-anchor=\"middle\" x=\"74.44\" y=\"-355.79\" font-family=\"Times,serif\" font-size=\"8.00\">1</text>\n</g>\n<!-- 4 -->\n<g id=\"node5\" class=\"node\">\n<title>4</title>\n<ellipse fill=\"lightgrey\" stroke=\"black\" cx=\"173.91\" cy=\"-459.87\" rx=\"28.98\" ry=\"18.27\"/>\n<text text-anchor=\"middle\" x=\"173.91\" y=\"-462.47\" font-family=\"Times,serif\" font-size=\"8.00\">Kerria</text>\n<text text-anchor=\"middle\" x=\"173.91\" y=\"-453.47\" font-family=\"Times,serif\" font-size=\"8.00\">(K&amp;A)</text>\n</g>\n<!-- 5 -->\n<g id=\"node6\" class=\"node\">\n<title>5</title>\n<polygon fill=\"none\" stroke=\"black\" points=\"234.04,-558.22 166.04,-558.22 166.04,-522.22 234.04,-522.22 234.04,-558.22\"/>\n<text text-anchor=\"middle\" x=\"200.04\" y=\"-542.91\" font-family=\"Times,serif\" font-size=\"10.40\">次々</text>\n<text text-anchor=\"middle\" x=\"200.04\" y=\"-531.91\" font-family=\"Times,serif\" font-size=\"10.40\">successively</text>\n</g>\n<!-- 5&#45;&#45;4 -->\n<g id=\"edge3\" class=\"edge\">\n<title>5--4</title>\n<path fill=\"none\" stroke=\"black\" d=\"M194.11,-521.99C189.83,-508.84 184.09,-491.17 179.82,-478.03\"/>\n<text text-anchor=\"middle\" x=\"184.96\" y=\"-502.61\" font-family=\"Times,serif\" font-size=\"8.00\">1</text>\n</g>\n<!-- 6 -->\n<g id=\"node7\" class=\"node\">\n<title>6</title>\n<ellipse fill=\"lightgrey\" stroke=\"black\" cx=\"123.34\" cy=\"-187.84\" rx=\"28.98\" ry=\"18.27\"/>\n<text text-anchor=\"middle\" x=\"123.34\" y=\"-190.44\" font-family=\"Times,serif\" font-size=\"8.00\">Kerria</text>\n<text text-anchor=\"middle\" x=\"123.34\" y=\"-181.44\" font-family=\"Times,serif\" font-size=\"8.00\">(KNK)</text>\n</g>\n<!-- 7 -->\n<g id=\"node8\" class=\"node\">\n<title>7</title>\n<polygon fill=\"none\" stroke=\"black\" points=\"125.49,-129.05 70.49,-129.05 70.49,-93.05 125.49,-93.05 125.49,-129.05\"/>\n<text text-anchor=\"middle\" x=\"97.99\" y=\"-113.74\" font-family=\"Times,serif\" font-size=\"10.40\">決して</text>\n<text text-anchor=\"middle\" x=\"97.99\" y=\"-102.74\" font-family=\"Times,serif\" font-size=\"10.40\">never</text>\n</g>\n<!-- 7&#45;&#45;6 -->\n<g id=\"edge4\" class=\"edge\">\n<title>7--6</title>\n<path fill=\"none\" stroke=\"black\" d=\"M103.99,-129.25C108.04,-141.49 113.34,-157.56 117.37,-169.77\"/>\n<text text-anchor=\"middle\" x=\"108.68\" y=\"-152.11\" font-family=\"Times,serif\" font-size=\"8.00\">1</text>\n</g>\n<!-- 8 -->\n<g id=\"node9\" class=\"node\">\n<title>8</title>\n<polygon fill=\"none\" stroke=\"black\" points=\"219.49,-194.73 166.49,-194.73 166.49,-158.73 219.49,-158.73 219.49,-194.73\"/>\n<text text-anchor=\"middle\" x=\"192.99\" y=\"-180.52\" font-family=\"Times,serif\" font-size=\"11.51\">ない</text>\n<text text-anchor=\"middle\" x=\"192.99\" y=\"-167.52\" font-family=\"Times,serif\" font-size=\"11.51\">nothing</text>\n</g>\n<!-- 8&#45;&#45;6 -->\n<g id=\"edge5\" class=\"edge\">\n<title>8--6</title>\n<path fill=\"none\" stroke=\"black\" d=\"M166.26,-180.99C161.5,-181.75 156.53,-182.54 151.73,-183.31\"/>\n<text text-anchor=\"middle\" x=\"157\" y=\"-184.75\" font-family=\"Times,serif\" font-size=\"8.00\">1</text>\n</g>\n<!-- 9 -->\n<g id=\"node10\" class=\"node\">\n<title>9</title>\n<ellipse fill=\"lightgrey\" stroke=\"black\" cx=\"200.87\" cy=\"-269.08\" rx=\"33.47\" ry=\"18.27\"/>\n<text text-anchor=\"middle\" x=\"200.87\" y=\"-271.68\" font-family=\"Times,serif\" font-size=\"8.00\">Kerria</text>\n<text text-anchor=\"middle\" x=\"200.87\" y=\"-262.68\" font-family=\"Times,serif\" font-size=\"8.00\">(KMCY)</text>\n</g>\n<!-- 9&#45;&#45;8 -->\n<g id=\"edge6\" class=\"edge\">\n<title>9--8</title>\n<path fill=\"none\" stroke=\"black\" d=\"M199.28,-250.39C197.89,-234.16 195.9,-210.8 194.53,-194.76\"/>\n<text text-anchor=\"middle\" x=\"194.9\" y=\"-225.18\" font-family=\"Times,serif\" font-size=\"8.00\">1</text>\n</g>\n<!-- 10 -->\n<g id=\"node11\" class=\"node\">\n<title>10</title>\n<ellipse fill=\"lightgrey\" stroke=\"black\" cx=\"219.22\" cy=\"-95.7\" rx=\"32.55\" ry=\"18.27\"/>\n<text text-anchor=\"middle\" x=\"219.22\" y=\"-98.3\" font-family=\"Times,serif\" font-size=\"8.00\">Kerria</text>\n<text text-anchor=\"middle\" x=\"219.22\" y=\"-89.3\" font-family=\"Times,serif\" font-size=\"8.00\">(TKOK)</text>\n</g>\n<!-- 10&#45;&#45;8 -->\n<g id=\"edge7\" class=\"edge\">\n<title>10--8</title>\n<path fill=\"none\" stroke=\"black\" d=\"M213.27,-114.09C208.95,-127.44 203.13,-145.42 198.83,-158.69\"/>\n<text text-anchor=\"middle\" x=\"204.05\" y=\"-138.99\" font-family=\"Times,serif\" font-size=\"8.00\">1</text>\n</g>\n<!-- 11 -->\n<g id=\"node12\" class=\"node\">\n<title>11</title>\n<polygon fill=\"none\" stroke=\"black\" points=\"59.36,-329.28 17.36,-329.28 17.36,-293.28 59.36,-293.28 59.36,-329.28\"/>\n<text text-anchor=\"middle\" x=\"38.36\" y=\"-313.96\" font-family=\"Times,serif\" font-size=\"10.40\">同じ</text>\n<text text-anchor=\"middle\" x=\"38.36\" y=\"-302.96\" font-family=\"Times,serif\" font-size=\"10.40\">same</text>\n</g>\n<!-- 11&#45;&#45;2 -->\n<g id=\"edge8\" class=\"edge\">\n<title>11--2</title>\n<path fill=\"none\" stroke=\"black\" d=\"M59.66,-320.15C68.5,-323.83 78.85,-328.15 88.18,-332.03\"/>\n<text text-anchor=\"middle\" x=\"71.92\" y=\"-328.69\" font-family=\"Times,serif\" font-size=\"8.00\">1</text>\n</g>\n<!-- 12 -->\n<g id=\"node13\" class=\"node\">\n<title>12</title>\n<ellipse fill=\"lightgrey\" stroke=\"black\" cx=\"252.68\" cy=\"-412.05\" rx=\"26.74\" ry=\"18.27\"/>\n<text text-anchor=\"middle\" x=\"252.68\" y=\"-414.65\" font-family=\"Times,serif\" font-size=\"8.00\">Kerria</text>\n<text text-anchor=\"middle\" x=\"252.68\" y=\"-405.65\" font-family=\"Times,serif\" font-size=\"8.00\">(KSJ)</text>\n</g>\n<!-- 13 -->\n<g id=\"node14\" class=\"node\">\n<title>13</title>\n<polygon fill=\"none\" stroke=\"black\" points=\"326.16,-384.93 273.16,-384.93 273.16,-348.93 326.16,-348.93 326.16,-384.93\"/>\n<text text-anchor=\"middle\" x=\"299.66\" y=\"-370.14\" font-family=\"Times,serif\" font-size=\"10.99\">一緒</text>\n<text text-anchor=\"middle\" x=\"299.66\" y=\"-358.14\" font-family=\"Times,serif\" font-size=\"10.99\">together</text>\n</g>\n<!-- 13&#45;&#45;0 -->\n<g id=\"edge10\" class=\"edge\">\n<title>13--0</title>\n<path fill=\"none\" stroke=\"black\" d=\"M285.98,-348.68C280.74,-341.69 274.8,-333.75 269.67,-326.91\"/>\n<text text-anchor=\"middle\" x=\"275.83\" y=\"-340.4\" font-family=\"Times,serif\" font-size=\"8.00\">1</text>\n</g>\n<!-- 13&#45;&#45;12 -->\n<g id=\"edge9\" class=\"edge\">\n<title>13--12</title>\n<path fill=\"none\" stroke=\"black\" d=\"M280.82,-385.02C276.74,-388.95 272.46,-393.06 268.5,-396.86\"/>\n<text text-anchor=\"middle\" x=\"272.66\" y=\"-384.54\" font-family=\"Times,serif\" font-size=\"8.00\">1</text>\n</g>\n<!-- 14 -->\n<g id=\"node15\" class=\"node\">\n<title>14</title>\n<polygon fill=\"none\" stroke=\"black\" points=\"353.05,-471.59 309.05,-471.59 309.05,-435.59 353.05,-435.59 353.05,-471.59\"/>\n<text text-anchor=\"middle\" x=\"331.05\" y=\"-456.8\" font-family=\"Times,serif\" font-size=\"10.99\">咲く</text>\n<text text-anchor=\"middle\" x=\"331.05\" y=\"-444.8\" font-family=\"Times,serif\" font-size=\"10.99\">bloom</text>\n</g>\n<!-- 14&#45;&#45;12 -->\n<g id=\"edge11\" class=\"edge\">\n<title>14--12</title>\n<path fill=\"none\" stroke=\"black\" d=\"M308.8,-441.8C297.94,-436.04 284.93,-429.15 274.17,-423.45\"/>\n<text text-anchor=\"middle\" x=\"289.49\" y=\"-435.22\" font-family=\"Times,serif\" font-size=\"8.00\">1</text>\n</g>\n<!-- 15 -->\n<g id=\"node16\" class=\"node\">\n<title>15</title>\n<ellipse fill=\"lightgrey\" stroke=\"black\" cx=\"392.79\" cy=\"-402.24\" rx=\"28.98\" ry=\"18.27\"/>\n<text text-anchor=\"middle\" x=\"392.79\" y=\"-404.84\" font-family=\"Times,serif\" font-size=\"8.00\">Kerria</text>\n<text text-anchor=\"middle\" x=\"392.79\" y=\"-395.84\" font-family=\"Times,serif\" font-size=\"8.00\">(MTD)</text>\n</g>\n<!-- 15&#45;&#45;14 -->\n<g id=\"edge12\" class=\"edge\">\n<title>15--14</title>\n<path fill=\"none\" stroke=\"black\" d=\"M374.93,-417.09C368.09,-422.78 360.21,-429.33 353.03,-435.31\"/>\n<text text-anchor=\"middle\" x=\"361.98\" y=\"-428.8\" font-family=\"Times,serif\" font-size=\"8.00\">1</text>\n</g>\n<!-- 16 -->\n<g id=\"node17\" class=\"node\">\n<title>16</title>\n<ellipse fill=\"lightgrey\" stroke=\"black\" cx=\"428.25\" cy=\"-291.01\" rx=\"27.65\" ry=\"18.27\"/>\n<text text-anchor=\"middle\" x=\"428.25\" y=\"-293.61\" font-family=\"Times,serif\" font-size=\"8.00\">Kerria</text>\n<text text-anchor=\"middle\" x=\"428.25\" y=\"-284.61\" font-family=\"Times,serif\" font-size=\"8.00\">(KBT)</text>\n</g>\n<!-- 17 -->\n<g id=\"node18\" class=\"node\">\n<title>17</title>\n<polygon fill=\"none\" stroke=\"black\" points=\"536.15,-287.56 468.15,-287.56 468.15,-251.56 536.15,-251.56 536.15,-287.56\"/>\n<text text-anchor=\"middle\" x=\"502.15\" y=\"-272.24\" font-family=\"Times,serif\" font-size=\"10.40\">吹き来る</text>\n<text text-anchor=\"middle\" x=\"502.15\" y=\"-261.24\" font-family=\"Times,serif\" font-size=\"10.40\">blow.v</text>\n</g>\n<!-- 17&#45;&#45;16 -->\n<g id=\"edge13\" class=\"edge\">\n<title>17--16</title>\n<path fill=\"none\" stroke=\"black\" d=\"M467.79,-279.53C463.12,-280.89 458.39,-282.26 453.9,-283.56\"/>\n<text text-anchor=\"middle\" x=\"458.85\" y=\"-284.15\" font-family=\"Times,serif\" font-size=\"8.00\">1</text>\n</g>\n<!-- 18 -->\n<g id=\"node19\" class=\"node\">\n<title>18</title>\n<polygon fill=\"none\" stroke=\"black\" points=\"81.25,-178.5 8.25,-178.5 8.25,-142.5 81.25,-142.5 81.25,-178.5\"/>\n<text text-anchor=\"middle\" x=\"44.75\" y=\"-163.18\" font-family=\"Times,serif\" font-size=\"10.40\">せられる</text>\n<text text-anchor=\"middle\" x=\"44.75\" y=\"-152.18\" font-family=\"Times,serif\" font-size=\"10.40\">allowed to do</text>\n</g>\n<!-- 18&#45;&#45;6 -->\n<g id=\"edge14\" class=\"edge\">\n<title>18--6</title>\n<path fill=\"none\" stroke=\"black\" d=\"M81.28,-173.21C86.89,-175.16 92.58,-177.14 97.88,-178.99\"/>\n<text text-anchor=\"middle\" x=\"87.58\" y=\"-178.7\" font-family=\"Times,serif\" font-size=\"8.00\">1</text>\n</g>\n<!-- 19 -->\n<g id=\"node20\" class=\"node\">\n<title>19</title>\n<polygon fill=\"lightyellow\" stroke=\"black\" points=\"208.24,-288.35 106.24,-288.35 106.24,-250.35 208.24,-250.35 208.24,-288.35\"/>\n<text text-anchor=\"middle\" x=\"157.24\" y=\"-273.8\" font-family=\"Times,serif\" font-size=\"13.20\">れる</text>\n<text text-anchor=\"middle\" x=\"157.24\" y=\"-258.8\" font-family=\"Times,serif\" font-size=\"13.20\">able/passive.sfx</text>\n</g>\n<!-- 19&#45;&#45;0 -->\n<g id=\"edge17\" class=\"edge\">\n<title>19--0</title>\n<path fill=\"none\" stroke=\"black\" d=\"M203.69,-288.36C213.68,-292.44 223.86,-296.61 232.62,-300.19\"/>\n<text text-anchor=\"middle\" x=\"216.16\" y=\"-296.87\" font-family=\"Times,serif\" font-size=\"8.00\">2</text>\n</g>\n<!-- 19&#45;&#45;2 -->\n<g id=\"edge18\" class=\"edge\">\n<title>19--2</title>\n<path fill=\"none\" stroke=\"black\" d=\"M146.1,-288.74C139.62,-300.01 131.51,-314.12 125.17,-325.14\"/>\n<text text-anchor=\"middle\" x=\"133.63\" y=\"-309.54\" font-family=\"Times,serif\" font-size=\"8.00\">1</text>\n</g>\n<!-- 19&#45;&#45;6 -->\n<g id=\"edge15\" class=\"edge\">\n<title>19--6</title>\n<path fill=\"none\" stroke=\"black\" d=\"M149.2,-250.04C143.6,-236.57 136.19,-218.74 130.73,-205.63\"/>\n<text text-anchor=\"middle\" x=\"137.97\" y=\"-230.43\" font-family=\"Times,serif\" font-size=\"8.00\">2</text>\n</g>\n<!-- 19&#45;&#45;9 -->\n<g id=\"edge16\" class=\"edge\">\n<title>19--9</title>\n<path fill=\"none\" stroke=\"black\" d=\"M200.74,-269.08C200.79,-269.08 200.82,-269.08 200.84,-269.08\"/>\n<text text-anchor=\"middle\" x=\"198.79\" y=\"-271.68\" font-family=\"Times,serif\" font-size=\"8.00\">2</text>\n</g>\n<!-- 20 -->\n<g id=\"node21\" class=\"node\">\n<title>20</title>\n<polygon fill=\"lightyellow\" stroke=\"black\" points=\"218.82,-388.66 166.82,-388.66 166.82,-350.66 218.82,-350.66 218.82,-388.66\"/>\n<text text-anchor=\"middle\" x=\"192.82\" y=\"-374.11\" font-family=\"Times,serif\" font-size=\"13.20\">花</text>\n<text text-anchor=\"middle\" x=\"192.82\" y=\"-359.11\" font-family=\"Times,serif\" font-size=\"13.20\">flower</text>\n</g>\n<!-- 20&#45;&#45;0 -->\n<g id=\"edge23\" class=\"edge\">\n<title>20--0</title>\n<path fill=\"none\" stroke=\"black\" d=\"M213.54,-350.53C222.21,-342.52 232.15,-333.33 240.36,-325.76\"/>\n<text text-anchor=\"middle\" x=\"224.95\" y=\"-340.74\" font-family=\"Times,serif\" font-size=\"8.00\">1</text>\n</g>\n<!-- 20&#45;&#45;2 -->\n<g id=\"edge20\" class=\"edge\">\n<title>20--2</title>\n<path fill=\"none\" stroke=\"black\" d=\"M166.42,-360.68C158.99,-358.15 150.89,-355.4 143.34,-352.83\"/>\n<text text-anchor=\"middle\" x=\"152.88\" y=\"-359.36\" font-family=\"Times,serif\" font-size=\"8.00\">2</text>\n</g>\n<!-- 20&#45;&#45;4 -->\n<g id=\"edge21\" class=\"edge\">\n<title>20--4</title>\n<path fill=\"none\" stroke=\"black\" d=\"M188.81,-388.79C185.56,-404.31 181,-426.05 177.79,-441.39\"/>\n<text text-anchor=\"middle\" x=\"181.3\" y=\"-417.69\" font-family=\"Times,serif\" font-size=\"8.00\">1</text>\n</g>\n<!-- 20&#45;&#45;9 -->\n<g id=\"edge19\" class=\"edge\">\n<title>20--9</title>\n<path fill=\"none\" stroke=\"black\" d=\"M194.37,-350.27C195.82,-332.23 197.95,-305.53 199.38,-287.73\"/>\n<text text-anchor=\"middle\" x=\"194.88\" y=\"-312.6\" font-family=\"Times,serif\" font-size=\"8.00\">2</text>\n</g>\n<!-- 20&#45;&#45;12 -->\n<g id=\"edge22\" class=\"edge\">\n<title>20--12</title>\n<path fill=\"none\" stroke=\"black\" d=\"M218.9,-388.13C223.94,-391.7 229.13,-395.38 233.88,-398.74\"/>\n<text text-anchor=\"middle\" x=\"224.39\" y=\"-387.04\" font-family=\"Times,serif\" font-size=\"8.00\">1</text>\n</g>\n<!-- 21 -->\n<g id=\"node22\" class=\"node\">\n<title>21</title>\n<polygon fill=\"none\" stroke=\"black\" points=\"161.49,-540.54 76.49,-540.54 76.49,-504.54 161.49,-504.54 161.49,-540.54\"/>\n<text text-anchor=\"middle\" x=\"118.99\" y=\"-525.22\" font-family=\"Times,serif\" font-size=\"10.40\">花蔭</text>\n<text text-anchor=\"middle\" x=\"118.99\" y=\"-514.22\" font-family=\"Times,serif\" font-size=\"10.40\">shade of flowers</text>\n</g>\n<!-- 21&#45;&#45;4 -->\n<g id=\"edge24\" class=\"edge\">\n<title>21--4</title>\n<path fill=\"none\" stroke=\"black\" d=\"M134.88,-504.41C142.73,-495.45 152.14,-484.72 159.75,-476.04\"/>\n<text text-anchor=\"middle\" x=\"145.31\" y=\"-492.83\" font-family=\"Times,serif\" font-size=\"8.00\">1</text>\n</g>\n<!-- 22 -->\n<g id=\"node23\" class=\"node\">\n<title>22</title>\n<polygon fill=\"none\" stroke=\"black\" points=\"260.17,-36 205.17,-36 205.17,0 260.17,0 260.17,-36\"/>\n<text text-anchor=\"middle\" x=\"232.67\" y=\"-20.68\" font-family=\"Times,serif\" font-size=\"10.40\">不義理</text>\n<text text-anchor=\"middle\" x=\"232.67\" y=\"-9.68\" font-family=\"Times,serif\" font-size=\"10.40\">injustice</text>\n</g>\n<!-- 22&#45;&#45;10 -->\n<g id=\"edge25\" class=\"edge\">\n<title>22--10</title>\n<path fill=\"none\" stroke=\"black\" d=\"M229.55,-36.02C227.41,-48.4 224.57,-64.77 222.41,-77.24\"/>\n<text text-anchor=\"middle\" x=\"223.98\" y=\"-59.23\" font-family=\"Times,serif\" font-size=\"8.00\">1</text>\n</g>\n<!-- 23 -->\n<g id=\"node24\" class=\"node\">\n<title>23</title>\n<polygon fill=\"none\" stroke=\"black\" points=\"235.56,-353.79 164.56,-353.79 164.56,-317.79 235.56,-317.79 235.56,-353.79\"/>\n<text text-anchor=\"middle\" x=\"200.06\" y=\"-339.2\" font-family=\"Times,serif\" font-size=\"11.99\">方</text>\n<text text-anchor=\"middle\" x=\"200.06\" y=\"-326.2\" font-family=\"Times,serif\" font-size=\"11.99\">person/way</text>\n</g>\n<!-- 23&#45;&#45;0 -->\n<g id=\"edge29\" class=\"edge\">\n<title>23--0</title>\n<path fill=\"none\" stroke=\"black\" d=\"M235.58,-319.89C235.67,-319.85 235.76,-319.81 235.85,-319.77\"/>\n<text text-anchor=\"middle\" x=\"237.72\" y=\"-322.43\" font-family=\"Times,serif\" font-size=\"8.00\">1</text>\n</g>\n<!-- 23&#45;&#45;2 -->\n<g id=\"edge28\" class=\"edge\">\n<title>23--2</title>\n<path fill=\"none\" stroke=\"black\" d=\"M164.41,-338.86C158.94,-339.33 153.31,-339.82 147.89,-340.28\"/>\n<text text-anchor=\"middle\" x=\"154.15\" y=\"-342.17\" font-family=\"Times,serif\" font-size=\"8.00\">1</text>\n</g>\n<!-- 23&#45;&#45;9 -->\n<g id=\"edge26\" class=\"edge\">\n<title>23--9</title>\n<path fill=\"none\" stroke=\"black\" d=\"M200.28,-317.56C200.4,-308.3 200.53,-297.07 200.64,-287.75\"/>\n<text text-anchor=\"middle\" x=\"198.46\" y=\"-305.26\" font-family=\"Times,serif\" font-size=\"8.00\">1</text>\n</g>\n<!-- 23&#45;&#45;12 -->\n<g id=\"edge27\" class=\"edge\">\n<title>23--12</title>\n<path fill=\"none\" stroke=\"black\" d=\"M212.53,-353.86C221.22,-366.46 232.73,-383.14 241.2,-395.41\"/>\n<text text-anchor=\"middle\" x=\"224.87\" y=\"-377.24\" font-family=\"Times,serif\" font-size=\"8.00\">1</text>\n</g>\n<!-- 24 -->\n<g id=\"node25\" class=\"node\">\n<title>24</title>\n<polygon fill=\"none\" stroke=\"black\" points=\"85.38,-426.77 41.38,-426.77 41.38,-390.77 85.38,-390.77 85.38,-426.77\"/>\n<text text-anchor=\"middle\" x=\"63.38\" y=\"-411.45\" font-family=\"Times,serif\" font-size=\"10.40\">せい</text>\n<text text-anchor=\"middle\" x=\"63.38\" y=\"-400.45\" font-family=\"Times,serif\" font-size=\"10.40\">reason</text>\n</g>\n<!-- 24&#45;&#45;2 -->\n<g id=\"edge30\" class=\"edge\">\n<title>24--2</title>\n<path fill=\"none\" stroke=\"black\" d=\"M77.71,-390.48C85.08,-381.08 94.02,-369.67 101.28,-360.41\"/>\n<text text-anchor=\"middle\" x=\"87.49\" y=\"-378.05\" font-family=\"Times,serif\" font-size=\"8.00\">1</text>\n</g>\n<!-- 25 -->\n<g id=\"node26\" class=\"node\">\n<title>25</title>\n<polygon fill=\"none\" stroke=\"black\" points=\"376.88,-341.02 326.88,-341.02 326.88,-305.02 376.88,-305.02 376.88,-341.02\"/>\n<text text-anchor=\"middle\" x=\"351.88\" y=\"-326.81\" font-family=\"Times,serif\" font-size=\"11.51\">こと</text>\n<text text-anchor=\"middle\" x=\"351.88\" y=\"-313.81\" font-family=\"Times,serif\" font-size=\"11.51\">thing.1</text>\n</g>\n<!-- 25&#45;&#45;0 -->\n<g id=\"edge33\" class=\"edge\">\n<title>25--0</title>\n<path fill=\"none\" stroke=\"black\" d=\"M326.5,-319.59C313.89,-317.89 298.62,-315.83 285.63,-314.07\"/>\n<text text-anchor=\"middle\" x=\"304.06\" y=\"-319.43\" font-family=\"Times,serif\" font-size=\"8.00\">1</text>\n</g>\n<!-- 25&#45;&#45;15 -->\n<g id=\"edge32\" class=\"edge\">\n<title>25--15</title>\n<path fill=\"none\" stroke=\"black\" d=\"M361.36,-341.39C368.07,-354.37 377,-371.68 383.63,-384.51\"/>\n<text text-anchor=\"middle\" x=\"370.5\" y=\"-365.55\" font-family=\"Times,serif\" font-size=\"8.00\">1</text>\n</g>\n<!-- 25&#45;&#45;16 -->\n<g id=\"edge31\" class=\"edge\">\n<title>25--16</title>\n<path fill=\"none\" stroke=\"black\" d=\"M376.88,-312.54C385.84,-308.78 395.91,-304.56 404.74,-300.86\"/>\n<text text-anchor=\"middle\" x=\"388.81\" y=\"-309.3\" font-family=\"Times,serif\" font-size=\"8.00\">1</text>\n</g>\n</g>\n</svg>"
          },
          "metadata": {}
        }
      ]
    },
    {
      "cell_type": "markdown",
      "source": [
        "## 3.2 | Breakdown Visualization"
      ],
      "metadata": {
        "id": "ZHpL6qZMfh5t"
      }
    },
    {
      "cell_type": "code",
      "source": [
        "def retrive_igraph_by_poem_by_translator(idx: str, *source_words):\n",
        "    \"\"\"Retrive igraph format data from one poem with a translator attension.\n",
        "\n",
        "    :return graph: igraph-converted information.\n",
        "    \"\"\"\n",
        "    target_word_set = set()\n",
        "    source_word_translator_set = set()\n",
        "    alignment_lst = DB.query_improper_alignment_by_word_in_poem(idx, *source_words)    \n",
        "    alignment_lst = list(_filter(alignment_lst))\n",
        "    alignment_summary = bitexts.AlignmentSummary(alignment_lst)\n",
        "    edge_info = alignment_summary.alignment_info  # For edges\" annotation\n",
        "    \n",
        "    return _gen_graph(alignment_summary, edge_info, source_words, source_word_translator_set, target_word_set)"
      ],
      "metadata": {
        "id": "lCAvtmmHwaUU"
      },
      "execution_count": null,
      "outputs": []
    },
    {
      "cell_type": "code",
      "source": [
        "def dot_viz_brkd(word, width=None):\n",
        "    code = lemma2metacode(word, metacode2lemma_map_src)\n",
        "    candidates = DB.query_bitext_by_word(code)\n",
        "    poems = {}\n",
        "    candidates = DB.query_bitext_by_word(code)\n",
        "    for candidate in candidates:\n",
        "        if candidate.poem in poems.keys():\n",
        "            break\n",
        "        poems[candidate.poem] = candidate.source_surface\n",
        "        print(candidate.poem, candidate.source_surface)\n",
        "    idx = str(input(\"Input poem id: \"))\n",
        "    print(idx, poems[idx])\n",
        "    query = DB.query_by_poem(idx)\n",
        "    for candidate in query:\n",
        "        print(candidate.translator, candidate.target_surface)\n",
        "\n",
        "    g = retrive_igraph_by_poem_by_translator(idx, code)\n",
        "    g.write_dot(f\"../artifacts/{idx}-{word}.dot\")\n",
        "    if width:\n",
        "        with open(f\"../artifacts/{idx}-{word}.dot\", \"r\") as file:\n",
        "            lines = file.readlines()\n",
        "\n",
        "        # attr\n",
        "        lines.insert(2, f'  size=\"{width},\";\\n')\n",
        "        lines.insert(3, '  ratio=\"fill\";\\n')\n",
        "        # lines.insert(4, '  mode=\"ipsep\";\\n')\n",
        "        # lines.insert(5, '  sep=1;\\n')\n",
        "        # lines.insert(6, '  overlap=false;\\n')\n",
        "\n",
        "        with open(f\"../artifacts/{word}.dot\", \"w\") as file:\n",
        "            file.writelines(lines)\n",
        "\n",
        "    neato_command = f\"neato -Tsvg ../artifacts/{idx}-{word}.dot -o ../artifacts/{idx}-{word}.svg\"\n",
        "    subprocess.run(neato_command, shell=True, check=True)\n",
        "    display(SVG(filename=f\"../artifacts/{idx}-{word}.svg\")) "
      ],
      "metadata": {
        "id": "Gl-AFN5KiHyA"
      },
      "execution_count": null,
      "outputs": []
    },
    {
      "cell_type": "markdown",
      "source": [
        "#### 3.2.1 | Example"
      ],
      "metadata": {
        "id": "XpQIZOiT1voj"
      }
    },
    {
      "cell_type": "code",
      "source": [
        "dot_viz_brkd(\"女郎花\")"
      ],
      "metadata": {
        "colab": {
          "base_uri": "https://localhost:8080/",
          "height": 674
        },
        "id": "BGi4Qy9XkVb8",
        "outputId": "01eb892a-28f7-4c3e-b0c1-091352c92d7e"
      },
      "execution_count": null,
      "outputs": [
        {
          "output_type": "stream",
          "name": "stdout",
          "text": [
            "226 なにめてゝおれるはかりそ女郎花われおちにきと人にかたるな\n",
            "227 女郎花うしと見つゝそゆきすくるおとこ山にしたてりと思へは\n",
            "228 秋のゝにやとりはすへし女郎花なをむつましみたひならなくに\n",
            "229 女郎花おほかる野邊にやとりせはあやなくあたの名をやたちなん\n",
            "230 女郎花秋のゝ風にうちなひき心ひとつをたれによすらん\n",
            "231 秋ならてあふことかたき女郎花あまのかはらにおひぬ物ゆへ\n",
            "232 たか秋にあらぬ物ゆへ女郎花なそ色に出てまたきうつろふ\n",
            "233 妻こふる鹿そ鳴なるをみなへしをのかすむのゝ花としらすや\n",
            "234 をみなへし吹過てくる秋風はめにはみえねとかこそしるけれ\n",
            "235 人のみることやくるしき女郎花秋霧にのみ立かくるらん\n",
            "236 ひとりのみなかむるよりはをみなへしわかすむやとにうへてみましを\n",
            "237 女郎花うしろめたくもみゆるかなあれたる宿にひとりたてれは\n",
            "238 花にあかてなにかへるらん女郎花おほかるのへにねなましものを\n",
            "Input poem id: 226\n",
            "226 なにめてゝおれるはかりそ女郎花われおちにきと人にかたるな\n",
            "kaneko お前の若い女という名に愛でて、折っておいただけの事ぞ、これや女郎花よ、必ず拙僧が女に手を掛けて堕落してしまったなど、人に噂してくれるなよ。\n",
            "kojimaarai 名前にひかれて折っただけのことだほんとに、おみなえしよ。わたしが堕落してしまったと人に言うなよ。\n",
            "komachiya 女という名前に心ひかれて折り取っただけだ。女郎花よ、私が堕落したなどと人に話してはいけないよ。\n",
            "kubota 女郎花という、その名によって愛でて、折り取ったばかりであるぞ。女郎花よ、僧である自分が堕落したと、世間の人に話すなよ。\n",
            "kyusojin 名前が気に入って折ったまでのことである。おみなえしよ、私が堕落してしまったなどと、他の人に語ってくれるな。\n",
            "matsuda 女というその名を愛して折り取っただけだ。女郎花よ、自分が堕落してしまったと、人々に話してくれるな。\n",
            "okumura 名前が気に入って折っただけのことだよ。女郎花よ、この私が堕落したなどと、他人にしゃべってはいけないよ。\n",
            "ozawa いい名前がついていると思って感心したから折ってみただけなのだ。おみなえしよ。私が女性に近づいて堕落したなどと、人に話してはならないぞ。\n",
            "takeoka 名に心ひかれて折っただけで他に何もしていないんだぞ、おみなえしよ。わたしがあのとき女色に堕落してしもうたと人に語るな。\n"
          ]
        },
        {
          "output_type": "display_data",
          "data": {
            "text/plain": [
              "<IPython.core.display.SVG object>"
            ],
            "image/svg+xml": "<svg xmlns=\"http://www.w3.org/2000/svg\" xmlns:xlink=\"http://www.w3.org/1999/xlink\" width=\"202pt\" height=\"177pt\" viewBox=\"0.00 0.00 202.43 176.95\">\n<g id=\"graph0\" class=\"graph\" transform=\"scale(1 1) rotate(0) translate(4 172.95)\">\n<title>%3</title>\n<polygon fill=\"white\" stroke=\"transparent\" points=\"-4,4 -4,-172.95 198.43,-172.95 198.43,4 -4,4\"/>\n<!-- 0 -->\n<g id=\"node1\" class=\"node\">\n<title>0</title>\n<ellipse fill=\"lightgrey\" stroke=\"black\" cx=\"36.06\" cy=\"-70.19\" rx=\"36.12\" ry=\"18.27\"/>\n<text text-anchor=\"middle\" x=\"36.06\" y=\"-72.79\" font-family=\"Times,serif\" font-size=\"8.00\">Ominaeshi</text>\n<text text-anchor=\"middle\" x=\"36.06\" y=\"-63.79\" font-family=\"Times,serif\" font-size=\"8.00\">(KNK)</text>\n</g>\n<!-- 1 -->\n<g id=\"node2\" class=\"node\">\n<title>1</title>\n<polygon fill=\"none\" stroke=\"black\" points=\"138.25,-97.73 86.25,-97.73 86.25,-61.73 138.25,-61.73 138.25,-97.73\"/>\n<text text-anchor=\"middle\" x=\"112.25\" y=\"-83.13\" font-family=\"Times,serif\" font-size=\"11.99\">女</text>\n<text text-anchor=\"middle\" x=\"112.25\" y=\"-70.13\" font-family=\"Times,serif\" font-size=\"11.99\">woman</text>\n</g>\n<!-- 1&#45;&#45;0 -->\n<g id=\"edge1\" class=\"edge\">\n<title>1--0</title>\n<path fill=\"none\" stroke=\"black\" d=\"M86.03,-76.44C81.3,-75.85 76.29,-75.22 71.35,-74.61\"/>\n<text text-anchor=\"middle\" x=\"76.69\" y=\"-78.12\" font-family=\"Times,serif\" font-size=\"8.00\">2</text>\n</g>\n<!-- 2 -->\n<g id=\"node3\" class=\"node\">\n<title>2</title>\n<ellipse fill=\"lightgrey\" stroke=\"black\" cx=\"158.37\" cy=\"-18.38\" rx=\"36.12\" ry=\"18.27\"/>\n<text text-anchor=\"middle\" x=\"158.37\" y=\"-20.98\" font-family=\"Times,serif\" font-size=\"8.00\">Ominaeshi</text>\n<text text-anchor=\"middle\" x=\"158.37\" y=\"-11.98\" font-family=\"Times,serif\" font-size=\"8.00\">(KMCY)</text>\n</g>\n<!-- 2&#45;&#45;1 -->\n<g id=\"edge2\" class=\"edge\">\n<title>2--1</title>\n<path fill=\"none\" stroke=\"black\" d=\"M145.28,-35.8C139.21,-43.87 131.99,-53.47 125.86,-61.63\"/>\n<text text-anchor=\"middle\" x=\"133.57\" y=\"-51.31\" font-family=\"Times,serif\" font-size=\"8.00\">1</text>\n</g>\n<!-- 3 -->\n<g id=\"node4\" class=\"node\">\n<title>3</title>\n<ellipse fill=\"lightgrey\" stroke=\"black\" cx=\"141.78\" cy=\"-150.57\" rx=\"36.12\" ry=\"18.27\"/>\n<text text-anchor=\"middle\" x=\"141.78\" y=\"-153.17\" font-family=\"Times,serif\" font-size=\"8.00\">Ominaeshi</text>\n<text text-anchor=\"middle\" x=\"141.78\" y=\"-144.17\" font-family=\"Times,serif\" font-size=\"8.00\">(MTD)</text>\n</g>\n<!-- 3&#45;&#45;1 -->\n<g id=\"edge3\" class=\"edge\">\n<title>3--1</title>\n<path fill=\"none\" stroke=\"black\" d=\"M134.17,-132.32C129.8,-121.83 124.32,-108.68 119.93,-98.15\"/>\n<text text-anchor=\"middle\" x=\"125.05\" y=\"-117.84\" font-family=\"Times,serif\" font-size=\"8.00\">1</text>\n</g>\n</g>\n</svg>"
          },
          "metadata": {}
        }
      ]
    }
  ]
}