{
  "nbformat": 4,
  "nbformat_minor": 0,
  "metadata": {
    "colab": {
      "provenance": [],
      "authorship_tag": "ABX9TyMXJD6hG7X+61XopozGVA+p",
      "include_colab_link": true
    },
    "kernelspec": {
      "name": "python3",
      "display_name": "Python 3"
    },
    "language_info": {
      "name": "python"
    }
  },
  "cells": [
    {
      "cell_type": "markdown",
      "metadata": {
        "id": "view-in-github",
        "colab_type": "text"
      },
      "source": [
        "<a href=\"https://colab.research.google.com/github/nehcx/misalignVis/blob/master/ccls_replication.ipynb\" target=\"_parent\"><img src=\"https://colab.research.google.com/assets/colab-badge.svg\" alt=\"Open In Colab\"/></a>"
      ]
    },
    {
      "cell_type": "markdown",
      "source": [
        "# 1 | Requirements"
      ],
      "metadata": {
        "id": "qolxmfu1OP2o"
      }
    },
    {
      "cell_type": "code",
      "execution_count": 16,
      "metadata": {
        "colab": {
          "base_uri": "https://localhost:8080/"
        },
        "id": "gjn5Yi2hR-zV",
        "outputId": "bdfdb887-75dd-4b16-e260-8e689ef07520"
      },
      "outputs": [
        {
          "output_type": "stream",
          "name": "stdout",
          "text": [
            "Cloning into 'misalignVis'...\n",
            "remote: Enumerating objects: 58, done.\u001b[K\n",
            "remote: Counting objects: 100% (58/58), done.\u001b[K\n",
            "remote: Compressing objects: 100% (50/50), done.\u001b[K\n",
            "remote: Total 58 (delta 5), reused 36 (delta 2), pack-reused 0\u001b[K\n",
            "Unpacking objects: 100% (58/58), 23.52 MiB | 3.43 MiB/s, done.\n",
            "Updating files: 100% (49/49), done.\n",
            "Submodule 'data/hachidaishu' (https://github.com/yamagen/hachidaishu) registered for path 'data/hachidaishu'\n",
            "Cloning into '/content/misalignVis/src/misalignVis/data/hachidaishu'...\n",
            "remote: Enumerating objects: 64, done.        \n",
            "remote: Counting objects: 100% (64/64), done.        \n",
            "remote: Compressing objects: 100% (53/53), done.        \n",
            "remote: Total 64 (delta 17), reused 52 (delta 10), pack-reused 0        \n",
            "Submodule path 'data/hachidaishu': checked out 'a0aaf7e0a42689db7ad2a78ab2eef9d5ac22341c'\n"
          ]
        }
      ],
      "source": [
        "!git clone -b master --depth=1 --recursive https://github.com/nehcx/misalignVis"
      ]
    },
    {
      "cell_type": "code",
      "source": [
        "import os\n",
        "os.chdir('/content/misalignVis')\n",
        "print(os.getcwd())"
      ],
      "metadata": {
        "colab": {
          "base_uri": "https://localhost:8080/"
        },
        "id": "To7HbyARVhiX",
        "outputId": "c15f7276-9bf1-414a-9f7b-8cc2dd27e4bf"
      },
      "execution_count": 17,
      "outputs": [
        {
          "output_type": "stream",
          "name": "stdout",
          "text": [
            "/content/misalignVis\n"
          ]
        }
      ]
    },
    {
      "cell_type": "code",
      "source": [
        "# !apt-get install -y python-igraph \n",
        "!pip install -r requirements.txt"
      ],
      "metadata": {
        "id": "5dOLzuh7WbRN",
        "colab": {
          "base_uri": "https://localhost:8080/"
        },
        "outputId": "d79d90d9-e862-492e-efd1-63a036f6ea39"
      },
      "execution_count": 18,
      "outputs": [
        {
          "output_type": "stream",
          "name": "stdout",
          "text": [
            "Looking in indexes: https://pypi.org/simple, https://us-python.pkg.dev/colab-wheels/public/simple/\n",
            "Requirement already satisfied: dill==0.3.5.1 in /usr/local/lib/python3.10/dist-packages (from -r requirements.txt (line 1)) (0.3.5.1)\n",
            "Requirement already satisfied: pandas==1.4.3 in /usr/local/lib/python3.10/dist-packages (from -r requirements.txt (line 2)) (1.4.3)\n",
            "Requirement already satisfied: omegaconf==2.2.2 in /usr/local/lib/python3.10/dist-packages (from -r requirements.txt (line 3)) (2.2.2)\n",
            "Requirement already satisfied: hydra-core==1.2.0 in /usr/local/lib/python3.10/dist-packages (from -r requirements.txt (line 4)) (1.2.0)\n",
            "Requirement already satisfied: nltk==3.7.0 in /usr/local/lib/python3.10/dist-packages (from -r requirements.txt (line 5)) (3.7)\n",
            "Requirement already satisfied: pytest==6.2.2 in /usr/local/lib/python3.10/dist-packages (from -r requirements.txt (line 6)) (6.2.2)\n",
            "Requirement already satisfied: leidenalg==0.8.10 in /usr/local/lib/python3.10/dist-packages (from -r requirements.txt (line 7)) (0.8.10)\n",
            "Requirement already satisfied: cairocffi==1.3.0 in /usr/local/lib/python3.10/dist-packages (from -r requirements.txt (line 8)) (1.3.0)\n",
            "Requirement already satisfied: chart-studio==1.1.0 in /usr/local/lib/python3.10/dist-packages (from -r requirements.txt (line 9)) (1.1.0)\n",
            "Requirement already satisfied: dash==2.7.1 in /usr/local/lib/python3.10/dist-packages (from -r requirements.txt (line 10)) (2.7.1)\n",
            "Requirement already satisfied: dash-html-components==2.0.0 in /usr/local/lib/python3.10/dist-packages (from -r requirements.txt (line 11)) (2.0.0)\n",
            "Requirement already satisfied: dash-core-components==2.0.0 in /usr/local/lib/python3.10/dist-packages (from -r requirements.txt (line 12)) (2.0.0)\n",
            "Requirement already satisfied: dash-table==5.0.0 in /usr/local/lib/python3.10/dist-packages (from -r requirements.txt (line 13)) (5.0.0)\n",
            "Requirement already satisfied: python-dateutil>=2.8.1 in /usr/local/lib/python3.10/dist-packages (from pandas==1.4.3->-r requirements.txt (line 2)) (2.8.2)\n",
            "Requirement already satisfied: pytz>=2020.1 in /usr/local/lib/python3.10/dist-packages (from pandas==1.4.3->-r requirements.txt (line 2)) (2022.7.1)\n",
            "Requirement already satisfied: numpy>=1.21.0 in /usr/local/lib/python3.10/dist-packages (from pandas==1.4.3->-r requirements.txt (line 2)) (1.22.4)\n",
            "Requirement already satisfied: antlr4-python3-runtime==4.9.* in /usr/local/lib/python3.10/dist-packages (from omegaconf==2.2.2->-r requirements.txt (line 3)) (4.9.3)\n",
            "Requirement already satisfied: PyYAML>=5.1.0 in /usr/local/lib/python3.10/dist-packages (from omegaconf==2.2.2->-r requirements.txt (line 3)) (6.0)\n",
            "Requirement already satisfied: packaging in /usr/local/lib/python3.10/dist-packages (from hydra-core==1.2.0->-r requirements.txt (line 4)) (23.1)\n",
            "Requirement already satisfied: click in /usr/local/lib/python3.10/dist-packages (from nltk==3.7.0->-r requirements.txt (line 5)) (8.1.3)\n",
            "Requirement already satisfied: joblib in /usr/local/lib/python3.10/dist-packages (from nltk==3.7.0->-r requirements.txt (line 5)) (1.2.0)\n",
            "Requirement already satisfied: regex>=2021.8.3 in /usr/local/lib/python3.10/dist-packages (from nltk==3.7.0->-r requirements.txt (line 5)) (2022.10.31)\n",
            "Requirement already satisfied: tqdm in /usr/local/lib/python3.10/dist-packages (from nltk==3.7.0->-r requirements.txt (line 5)) (4.65.0)\n",
            "Requirement already satisfied: attrs>=19.2.0 in /usr/local/lib/python3.10/dist-packages (from pytest==6.2.2->-r requirements.txt (line 6)) (23.1.0)\n",
            "Requirement already satisfied: iniconfig in /usr/local/lib/python3.10/dist-packages (from pytest==6.2.2->-r requirements.txt (line 6)) (2.0.0)\n",
            "Requirement already satisfied: pluggy<1.0.0a1,>=0.12 in /usr/local/lib/python3.10/dist-packages (from pytest==6.2.2->-r requirements.txt (line 6)) (0.13.1)\n",
            "Requirement already satisfied: py>=1.8.2 in /usr/local/lib/python3.10/dist-packages (from pytest==6.2.2->-r requirements.txt (line 6)) (1.11.0)\n",
            "Requirement already satisfied: toml in /usr/local/lib/python3.10/dist-packages (from pytest==6.2.2->-r requirements.txt (line 6)) (0.10.2)\n",
            "Requirement already satisfied: igraph<0.10,>=0.9.0 in /usr/local/lib/python3.10/dist-packages (from leidenalg==0.8.10->-r requirements.txt (line 7)) (0.9.11)\n",
            "Requirement already satisfied: cffi>=1.1.0 in /usr/local/lib/python3.10/dist-packages (from cairocffi==1.3.0->-r requirements.txt (line 8)) (1.15.1)\n",
            "Requirement already satisfied: plotly in /usr/local/lib/python3.10/dist-packages (from chart-studio==1.1.0->-r requirements.txt (line 9)) (5.13.1)\n",
            "Requirement already satisfied: requests in /usr/local/lib/python3.10/dist-packages (from chart-studio==1.1.0->-r requirements.txt (line 9)) (2.27.1)\n",
            "Requirement already satisfied: retrying>=1.3.3 in /usr/local/lib/python3.10/dist-packages (from chart-studio==1.1.0->-r requirements.txt (line 9)) (1.3.4)\n",
            "Requirement already satisfied: six in /usr/local/lib/python3.10/dist-packages (from chart-studio==1.1.0->-r requirements.txt (line 9)) (1.16.0)\n",
            "Requirement already satisfied: Flask>=1.0.4 in /usr/local/lib/python3.10/dist-packages (from dash==2.7.1->-r requirements.txt (line 10)) (2.2.4)\n",
            "Requirement already satisfied: pycparser in /usr/local/lib/python3.10/dist-packages (from cffi>=1.1.0->cairocffi==1.3.0->-r requirements.txt (line 8)) (2.21)\n",
            "Requirement already satisfied: Werkzeug>=2.2.2 in /usr/local/lib/python3.10/dist-packages (from Flask>=1.0.4->dash==2.7.1->-r requirements.txt (line 10)) (2.3.0)\n",
            "Requirement already satisfied: Jinja2>=3.0 in /usr/local/lib/python3.10/dist-packages (from Flask>=1.0.4->dash==2.7.1->-r requirements.txt (line 10)) (3.1.2)\n",
            "Requirement already satisfied: itsdangerous>=2.0 in /usr/local/lib/python3.10/dist-packages (from Flask>=1.0.4->dash==2.7.1->-r requirements.txt (line 10)) (2.1.2)\n",
            "Requirement already satisfied: texttable>=1.6.2 in /usr/local/lib/python3.10/dist-packages (from igraph<0.10,>=0.9.0->leidenalg==0.8.10->-r requirements.txt (line 7)) (1.6.7)\n",
            "Requirement already satisfied: tenacity>=6.2.0 in /usr/local/lib/python3.10/dist-packages (from plotly->chart-studio==1.1.0->-r requirements.txt (line 9)) (8.2.2)\n",
            "Requirement already satisfied: urllib3<1.27,>=1.21.1 in /usr/local/lib/python3.10/dist-packages (from requests->chart-studio==1.1.0->-r requirements.txt (line 9)) (1.26.15)\n",
            "Requirement already satisfied: certifi>=2017.4.17 in /usr/local/lib/python3.10/dist-packages (from requests->chart-studio==1.1.0->-r requirements.txt (line 9)) (2022.12.7)\n",
            "Requirement already satisfied: charset-normalizer~=2.0.0 in /usr/local/lib/python3.10/dist-packages (from requests->chart-studio==1.1.0->-r requirements.txt (line 9)) (2.0.12)\n",
            "Requirement already satisfied: idna<4,>=2.5 in /usr/local/lib/python3.10/dist-packages (from requests->chart-studio==1.1.0->-r requirements.txt (line 9)) (3.4)\n",
            "Requirement already satisfied: MarkupSafe>=2.0 in /usr/local/lib/python3.10/dist-packages (from Jinja2>=3.0->Flask>=1.0.4->dash==2.7.1->-r requirements.txt (line 10)) (2.1.2)\n"
          ]
        }
      ]
    },
    {
      "cell_type": "code",
      "source": [
        "!apt-get install graphviz libgraphviz-dev\n",
        "!pip install pygraphviz\n",
        "!pip install dash jupyter-dash"
      ],
      "metadata": {
        "id": "AKwgFnwoe1VQ",
        "colab": {
          "base_uri": "https://localhost:8080/"
        },
        "outputId": "02731989-a81c-4f9d-d558-b8ef7f8d252e"
      },
      "execution_count": 19,
      "outputs": [
        {
          "output_type": "stream",
          "name": "stdout",
          "text": [
            "Reading package lists... Done\n",
            "Building dependency tree       \n",
            "Reading state information... Done\n",
            "graphviz is already the newest version (2.42.2-3build2).\n",
            "libgraphviz-dev is already the newest version (2.42.2-3build2).\n",
            "0 upgraded, 0 newly installed, 0 to remove and 34 not upgraded.\n",
            "Looking in indexes: https://pypi.org/simple, https://us-python.pkg.dev/colab-wheels/public/simple/\n",
            "Requirement already satisfied: pygraphviz in /usr/local/lib/python3.10/dist-packages (1.10)\n",
            "Looking in indexes: https://pypi.org/simple, https://us-python.pkg.dev/colab-wheels/public/simple/\n",
            "Requirement already satisfied: dash in /usr/local/lib/python3.10/dist-packages (2.7.1)\n",
            "Requirement already satisfied: jupyter-dash in /usr/local/lib/python3.10/dist-packages (0.4.2)\n",
            "Requirement already satisfied: Flask>=1.0.4 in /usr/local/lib/python3.10/dist-packages (from dash) (2.2.4)\n",
            "Requirement already satisfied: plotly>=5.0.0 in /usr/local/lib/python3.10/dist-packages (from dash) (5.13.1)\n",
            "Requirement already satisfied: dash-html-components==2.0.0 in /usr/local/lib/python3.10/dist-packages (from dash) (2.0.0)\n",
            "Requirement already satisfied: dash-core-components==2.0.0 in /usr/local/lib/python3.10/dist-packages (from dash) (2.0.0)\n",
            "Requirement already satisfied: dash-table==5.0.0 in /usr/local/lib/python3.10/dist-packages (from dash) (5.0.0)\n",
            "Requirement already satisfied: requests in /usr/local/lib/python3.10/dist-packages (from jupyter-dash) (2.27.1)\n",
            "Requirement already satisfied: retrying in /usr/local/lib/python3.10/dist-packages (from jupyter-dash) (1.3.4)\n",
            "Requirement already satisfied: ipython in /usr/local/lib/python3.10/dist-packages (from jupyter-dash) (7.34.0)\n",
            "Requirement already satisfied: ipykernel in /usr/local/lib/python3.10/dist-packages (from jupyter-dash) (5.5.6)\n",
            "Requirement already satisfied: ansi2html in /usr/local/lib/python3.10/dist-packages (from jupyter-dash) (1.8.0)\n",
            "Requirement already satisfied: nest-asyncio in /usr/local/lib/python3.10/dist-packages (from jupyter-dash) (1.5.6)\n",
            "Requirement already satisfied: Werkzeug>=2.2.2 in /usr/local/lib/python3.10/dist-packages (from Flask>=1.0.4->dash) (2.3.0)\n",
            "Requirement already satisfied: Jinja2>=3.0 in /usr/local/lib/python3.10/dist-packages (from Flask>=1.0.4->dash) (3.1.2)\n",
            "Requirement already satisfied: itsdangerous>=2.0 in /usr/local/lib/python3.10/dist-packages (from Flask>=1.0.4->dash) (2.1.2)\n",
            "Requirement already satisfied: click>=8.0 in /usr/local/lib/python3.10/dist-packages (from Flask>=1.0.4->dash) (8.1.3)\n",
            "Requirement already satisfied: tenacity>=6.2.0 in /usr/local/lib/python3.10/dist-packages (from plotly>=5.0.0->dash) (8.2.2)\n",
            "Requirement already satisfied: ipython-genutils in /usr/local/lib/python3.10/dist-packages (from ipykernel->jupyter-dash) (0.2.0)\n",
            "Requirement already satisfied: traitlets>=4.1.0 in /usr/local/lib/python3.10/dist-packages (from ipykernel->jupyter-dash) (5.7.1)\n",
            "Requirement already satisfied: jupyter-client in /usr/local/lib/python3.10/dist-packages (from ipykernel->jupyter-dash) (6.1.12)\n",
            "Requirement already satisfied: tornado>=4.2 in /usr/local/lib/python3.10/dist-packages (from ipykernel->jupyter-dash) (6.3.1)\n",
            "Requirement already satisfied: setuptools>=18.5 in /usr/local/lib/python3.10/dist-packages (from ipython->jupyter-dash) (67.7.2)\n",
            "Requirement already satisfied: jedi>=0.16 in /usr/local/lib/python3.10/dist-packages (from ipython->jupyter-dash) (0.18.2)\n",
            "Requirement already satisfied: decorator in /usr/local/lib/python3.10/dist-packages (from ipython->jupyter-dash) (4.4.2)\n",
            "Requirement already satisfied: pickleshare in /usr/local/lib/python3.10/dist-packages (from ipython->jupyter-dash) (0.7.5)\n",
            "Requirement already satisfied: prompt-toolkit!=3.0.0,!=3.0.1,<3.1.0,>=2.0.0 in /usr/local/lib/python3.10/dist-packages (from ipython->jupyter-dash) (3.0.38)\n",
            "Requirement already satisfied: pygments in /usr/local/lib/python3.10/dist-packages (from ipython->jupyter-dash) (2.14.0)\n",
            "Requirement already satisfied: backcall in /usr/local/lib/python3.10/dist-packages (from ipython->jupyter-dash) (0.2.0)\n",
            "Requirement already satisfied: matplotlib-inline in /usr/local/lib/python3.10/dist-packages (from ipython->jupyter-dash) (0.1.6)\n",
            "Requirement already satisfied: pexpect>4.3 in /usr/local/lib/python3.10/dist-packages (from ipython->jupyter-dash) (4.8.0)\n",
            "Requirement already satisfied: urllib3<1.27,>=1.21.1 in /usr/local/lib/python3.10/dist-packages (from requests->jupyter-dash) (1.26.15)\n",
            "Requirement already satisfied: certifi>=2017.4.17 in /usr/local/lib/python3.10/dist-packages (from requests->jupyter-dash) (2022.12.7)\n",
            "Requirement already satisfied: charset-normalizer~=2.0.0 in /usr/local/lib/python3.10/dist-packages (from requests->jupyter-dash) (2.0.12)\n",
            "Requirement already satisfied: idna<4,>=2.5 in /usr/local/lib/python3.10/dist-packages (from requests->jupyter-dash) (3.4)\n",
            "Requirement already satisfied: six>=1.7.0 in /usr/local/lib/python3.10/dist-packages (from retrying->jupyter-dash) (1.16.0)\n",
            "Requirement already satisfied: parso<0.9.0,>=0.8.0 in /usr/local/lib/python3.10/dist-packages (from jedi>=0.16->ipython->jupyter-dash) (0.8.3)\n",
            "Requirement already satisfied: MarkupSafe>=2.0 in /usr/local/lib/python3.10/dist-packages (from Jinja2>=3.0->Flask>=1.0.4->dash) (2.1.2)\n",
            "Requirement already satisfied: ptyprocess>=0.5 in /usr/local/lib/python3.10/dist-packages (from pexpect>4.3->ipython->jupyter-dash) (0.7.0)\n",
            "Requirement already satisfied: wcwidth in /usr/local/lib/python3.10/dist-packages (from prompt-toolkit!=3.0.0,!=3.0.1,<3.1.0,>=2.0.0->ipython->jupyter-dash) (0.2.6)\n",
            "Requirement already satisfied: jupyter-core>=4.6.0 in /usr/local/lib/python3.10/dist-packages (from jupyter-client->ipykernel->jupyter-dash) (5.3.0)\n",
            "Requirement already satisfied: pyzmq>=13 in /usr/local/lib/python3.10/dist-packages (from jupyter-client->ipykernel->jupyter-dash) (23.2.1)\n",
            "Requirement already satisfied: python-dateutil>=2.1 in /usr/local/lib/python3.10/dist-packages (from jupyter-client->ipykernel->jupyter-dash) (2.8.2)\n",
            "Requirement already satisfied: platformdirs>=2.5 in /usr/local/lib/python3.10/dist-packages (from jupyter-core>=4.6.0->jupyter-client->ipykernel->jupyter-dash) (3.3.0)\n"
          ]
        }
      ]
    },
    {
      "cell_type": "code",
      "source": [
        "!make build_bitext  # make bitexts.csv\n",
        "#!make build_metacode2lemma_dict  # make metacode2lemma dictionary\n",
        "!make train_save_ibm2  # train and save ibm model 2\n",
        "!make save_db "
      ],
      "metadata": {
        "colab": {
          "base_uri": "https://localhost:8080/"
        },
        "id": "tkZZyhCc3g4z",
        "outputId": "3b6add8c-ed69-40a9-eb6d-605ce7d4fe0c"
      },
      "execution_count": 20,
      "outputs": [
        {
          "output_type": "stream",
          "name": "stdout",
          "text": [
            "cd src;\tpython make_bitext.py -s ../data/hachidaishu/hachidai.db -t ../data/translations/all_translations.txt -o ../cache/bitexts.csv\n",
            "2023-05-25 17:38:38,464 [INFO] args: Namespace(src_path='../data/hachidaishu/hachidai.db', tar_path='../data/translations/all_translations.txt', out_path='../cache/bitexts.csv')\n",
            "2023-05-25 17:38:38,464 [INFO] Loading ../data/hachidaishu/hachidai.db for Kokinwakashu texts...\n",
            "2023-05-25 17:38:52,558 [INFO] Loading ../data/translations/all_translations.txt for kaneko's traslation...\n",
            "2023-05-25 17:39:17,879 [INFO] Loading ../data/translations/all_translations.txt for katagiri's traslation...\n",
            "2023-05-25 17:39:38,404 [INFO] Loading ../data/translations/all_translations.txt for kojimaarai's traslation...\n",
            "2023-05-25 17:39:59,703 [INFO] Loading ../data/translations/all_translations.txt for komachiya's traslation...\n",
            "2023-05-25 17:40:19,820 [INFO] Loading ../data/translations/all_translations.txt for kubota's traslation...\n",
            "2023-05-25 17:40:38,391 [INFO] Loading ../data/translations/all_translations.txt for kyusojin's traslation...\n",
            "2023-05-25 17:40:59,766 [INFO] Loading ../data/translations/all_translations.txt for matsuda's traslation...\n",
            "2023-05-25 17:41:18,325 [INFO] Loading ../data/translations/all_translations.txt for okumura's traslation...\n",
            "2023-05-25 17:41:37,403 [INFO] Loading ../data/translations/all_translations.txt for ozawa's traslation...\n",
            "2023-05-25 17:41:59,045 [INFO] Loading ../data/translations/all_translations.txt for takeoka's traslation...\n",
            "2023-05-25 17:42:16,827 [INFO] Concating bitexts...\n",
            "2023-05-25 17:42:17,158 [INFO] Made bitexts.\n",
            "cd src;\tpython make_metacode2lemma.py -f ../data/hachidaishu/hachidai.db -o ../cache/metacode2lemma_src.pkl -t source; python make_metacode2lemma.py -f ../data/translations/all_translations.txt -o ../cache/metacode2lemma_tar.pkl -t target\n",
            "2023-05-25 17:42:17,997 [INFO] args: Namespace(file_path='../data/hachidaishu/hachidai.db', output_path='../cache/metacode2lemma_src.pkl', db_format='source')\n",
            "2023-05-25 17:42:18,164 [INFO] Saving ../cache/metacode2lemma_src.pkl...\n",
            "2023-05-25 17:42:18,176 [INFO] Done.\n",
            "2023-05-25 17:42:18,942 [INFO] args: Namespace(file_path='../data/translations/all_translations.txt', output_path='../cache/metacode2lemma_tar.pkl', db_format='target')\n",
            "2023-05-25 17:42:19,972 [Debug] No metacode at 'N ozawa 0913 - 02 00 00 --Not ■■■■■ ■■ ■■■■ ■■ ■■ ■■' in target texts.\n",
            "2023-05-25 17:42:19,981 [INFO] Saving ../cache/metacode2lemma_tar.pkl...\n",
            "2023-05-25 17:42:20,035 [INFO] Done.\n",
            "cd src; python train_save_model.py -c ../cache/bitexts.csv -f ibm2_fwd.model -b ibm2_bwd.model -m ibm2\n",
            "2023-05-25 17:42:22,421 [INFO] args: Namespace(fn_bwd='ibm2_bwd.model', corpus_path='../cache/bitexts.csv', fn_fwd='ibm2_fwd.model', method='ibm2')\n",
            "2023-05-25 17:42:22,685 [INFO] Training IBM model 2...\n",
            "2023-05-25 17:42:22,852 Setting JobRuntime:name=UNKNOWN_NAME\n",
            "2023-05-25 17:42:22,852 Setting JobRuntime:name=utils\n",
            "2023-05-25 17:42:23,105 [INFO] Training from source to target...\n",
            "2023-05-25 17:58:23,651 [INFO] Training from target to source...\n",
            "2023-05-25 18:15:33,982 [INFO] Saving models to ../model...\n",
            "2023-05-25 18:15:59,557 [INFO] Done.\n",
            "cd src; python bitexts.py -o ../cache/bitexts.db -m ibm2 -t kaneko katagiri kojimaarai komachiya kubota kyusojin matsuda okumura ozawa takeoka\n",
            "2023-05-25 18:16:02,220 [INFO] args: Namespace(translators=['kaneko', 'katagiri', 'kojimaarai', 'komachiya', 'kubota', 'kyusojin', 'matsuda', 'okumura', 'ozawa', 'takeoka'], method='ibm2', output_path='../cache/bitexts.db')\n",
            "2023-05-25 18:16:02,220 [INFO] Loading DB...\n",
            "2023-05-25 18:16:22,417 [INFO] Saving DB...\n",
            "2023-05-25 18:16:55,798 [INFO] Done.\n"
          ]
        }
      ]
    },
    {
      "cell_type": "code",
      "source": [
        "!cp data/metacode2en.pkl cache/metacode2lemma_tar.pkl"
      ],
      "metadata": {
        "id": "0zYtg2OMueKS"
      },
      "execution_count": 21,
      "outputs": []
    },
    {
      "cell_type": "markdown",
      "source": [
        "# 2 | Dashboard"
      ],
      "metadata": {
        "id": "lzFSwoaT5YTq"
      }
    },
    {
      "cell_type": "code",
      "source": [
        "import subprocess\n",
        "os.chdir('/content/misalignVis/src')\n",
        "print(os.getcwd())"
      ],
      "metadata": {
        "colab": {
          "base_uri": "https://localhost:8080/"
        },
        "id": "hFpJOXnTwK5L",
        "outputId": "3f4d240b-f4ca-49cc-8ad8-7086aca46c20"
      },
      "execution_count": 22,
      "outputs": [
        {
          "output_type": "stream",
          "name": "stdout",
          "text": [
            "/content/misalignVis/src\n"
          ]
        }
      ]
    },
    {
      "cell_type": "code",
      "source": [
        "metacode2lemma_map_tar"
      ],
      "metadata": {
        "id": "vxDWdt5CJBw0"
      },
      "execution_count": null,
      "outputs": []
    },
    {
      "cell_type": "code",
      "source": [
        "\"\"\"Dash board.\"\"\"\n",
        "import pandas as pd\n",
        "from plotly.graph_objs import Scatter, Layout, Figure\n",
        "from plotly.graph_objs.layout import XAxis, YAxis, Margin\n",
        "from jupyter_dash import JupyterDash\n",
        "from dash import dcc, html, dash_table\n",
        "from dash.dependencies import Input, Output, State\n",
        "from bitexts import AlignmentInfo\n",
        "from utils import load_pickle, lemma2metacode\n",
        "from visualize_indivisual import draw_plotly_by_translator_by_poem\n",
        "from visualize_aggregate_translator import draw_plotly_by_translator\n",
        "from visualize_alignment import query, alignment_table, visualize_heatmap \n",
        "\n",
        "fullname2id_map = {\n",
        "    \"[KNK/金子] Kaneko, Motoomi (1933)\": \"kaneko\",\n",
        "    \"[KBT/窪田] Kubota, Utsubo (1960)\": \"kubota\",\n",
        "    \"[MTD/松田] Matsuda, Takeo (1968)\": \"matsuda\",\n",
        "    \"[OZW/小沢] Ozawa, Masao (1971)\": \"ozawa\",\n",
        "    \"[TKOK/竹岡] Takeoka, Masao (1976)\": \"takeoka\",  \n",
        "    \"[OKMR/奥村] Okumura, Tsuneya (1978)\": \"okumura\",\n",
        "    \"[KSJ/久曽神] Kyusojin, Hitachi (1979)\": \"kyusojin\",\n",
        "    \"[KMCY/小町谷] Komachiya, Teruhiko (1982)\": \"komachiya\",\n",
        "    \"[K&A/小島・新井] Kojima, Noriyuki and Arai, Eizo (1989)\": \"kojimaarai\",\n",
        "    \"[KTGR/片桐] Katagiri, Yoichi (1998)\": \"katagiri\",\n",
        "}\n",
        "translator_lst = fullname2id_map.keys()\n",
        "metacode2lemma_map_src = load_pickle(\"../cache/metacode2lemma_src.pkl\")\n",
        "word_lst = [k + \":\" + v  for k, v in metacode2lemma_map_src.items() if\n",
        "            v in [\"梅\", \"女郎花\", \"菊\", \"桜\", \"松\", \"山吹\"]]\n",
        "word_lst.sort()\n",
        "with open(\"../README-app.md\", 'r') as f: \n",
        "    readme = f.read()\n",
        "\n",
        "def _blank(width, height, text, font_size): \n",
        "    Xn = [0]\n",
        "    Yn = [0]\n",
        "    trace = Scatter(\n",
        "        x=Xn,\n",
        "        y=Yn,\n",
        "        mode=\"text\",\n",
        "    )\n",
        "    annotation = text\n",
        "    data = [trace]\n",
        "    axis = dict(\n",
        "        showline=False, \n",
        "        zeroline=False,\n",
        "        showgrid=False,\n",
        "        showticklabels=False,\n",
        "        title=\"\",\n",
        "    )\n",
        "    layout = Layout(\n",
        "        # title=title,\n",
        "        paper_bgcolor=\"rgba(0,0,0,0)\",\n",
        "        plot_bgcolor=\"rgba(0,0,0,0)\",\n",
        "        font=dict(size=16),\n",
        "        showlegend=False,\n",
        "        autosize=True,\n",
        "        width=width,\n",
        "        height=height,\n",
        "        xaxis=XAxis(axis),\n",
        "        yaxis=YAxis(axis),\n",
        "        margin=Margin(\n",
        "            l=0,\n",
        "            r=0,\n",
        "            b=85,\n",
        "            t=40,\n",
        "        ),\n",
        "        hovermode=\"closest\",\n",
        "        annotations=\n",
        "[\n",
        "            dict(\n",
        "                showarrow=False,\n",
        "                text=annotation,\n",
        "                xref=\"paper\",\n",
        "                yref=\"paper\",\n",
        "                x=0,\n",
        "                y=0,\n",
        "                xanchor=\"left\",\n",
        "                yanchor=\"bottom\",\n",
        "                font=dict(size=font_size),\n",
        "            )\n",
        "        ],\n",
        "    )\n",
        "\n",
        "    fig = Figure(data=data, layout=layout)\n",
        "    return fig\n",
        "\n",
        "app = JupyterDash(\n",
        "    __name__,\n",
        "    meta_tags=[\n",
        "        {\n",
        "            \"name\": \"viewport\", \n",
        "            \"content\": \"width=device-width, initial-scale=1\"\n",
        "        }\n",
        "    ],\n",
        ")\n",
        "\n",
        "app.layout = html.Div(\n",
        "    children=[\n",
        "        # title\n",
        "        html.H1(\n",
        "            children=\"\"\"\n",
        "            Dashboard for visualizing word alignment and misalignment between \n",
        "            classical poetic Japanese and its contemporary translations\n",
        "            \"\"\",\n",
        "        ),\n",
        "        # query and intro\n",
        "        dcc.Tabs(\n",
        "            id=\"intro-and-query-tabs\",\n",
        "            value=\"what-is\",\n",
        "            parent_className=\"custom-tabs\",\n",
        "            className=\"custom-tabs-container\",\n",
        "            children=[\n",
        "                dcc.Tab(\n",
        "                    label=\"About\",\n",
        "                    value=\"what-is\",\n",
        "                    className=\"custom-tab\",\n",
        "                    selected_className=\"custom-tab--selected\",\n",
        "                    children=html.Div(\n",
        "                        className=\"control-tab\",\n",
        "                        children=[\n",
        "                            dcc.Markdown(readme),\n",
        "                        ],\n",
        "                    ),\n",
        "                ),\n",
        "                dcc.Tab(\n",
        "                    label=\"Query\",\n",
        "                    value=\"alignment-tab-select\",\n",
        "                    className=\"custom-tab\",\n",
        "                    selected_className=\"custom-tab--selected\",\n",
        "                    children=html.Div(\n",
        "                        className=\"app-controls-block\",\n",
        "                        children=[\n",
        "                            # query word and translator\n",
        "                            html.Div(\n",
        "                                [\n",
        "                                    html.Br(),\n",
        "                                    html.Div([\n",
        "                                        html.Label(\"Word:\"),\n",
        "                                        dcc.Dropdown(\n",
        "                                            id=\"target\",\n",
        "                                            options=[\n",
        "                                                {\"label\": i, \"value\": i} \n",
        "                                                for i in word_lst\n",
        "                                            ],\n",
        "                                            value=\"BG-01-5520-05-0106:女郎花\",\n",
        "                                            multi=False,\n",
        "                                        ),\n",
        "                                    ],\n",
        "                                             style={\n",
        "                                                 \"width\": \"45%\", \n",
        "                                                 \"display\": \"inline-block\",\n",
        "                                             }\n",
        "                                             ),\n",
        "\n",
        "                                    html.Div([\n",
        "                                        html.Label(\"Translator:\"),\n",
        "                                        dcc.Dropdown(\n",
        "                                            id=\"translator\",\n",
        "                                            options=[\n",
        "                                                {\"label\": i, \"value\": i} \n",
        "                                                for i in translator_lst\n",
        "                                            ],\n",
        "                                            value=\"[KNK/金子] Kaneko, Motoomi (1933)\",\n",
        "                                            multi=False,\n",
        "                                        ),\n",
        "                                    ],\n",
        "                                             style={\n",
        "                                                 \"width\": \"45%\", \n",
        "                                                 \"float\": \"right\", \n",
        "                                                 \"display\": \"inline-block\",\n",
        "                                             }\n",
        "                                             ),\n",
        "                                ],\n",
        "                            ),\n",
        "                            # query specific poem\n",
        "                            html.Br(),\n",
        "                            html.Div(\n",
        "                                [\n",
        "                                    html.Label(\n",
        "                                        \"\"\"\n",
        "                                        Query results (click cell to visualize \n",
        "                                        alignment and collective misalignment \n",
        "                                        network of the bitext on the selected \n",
        "                                        row):\n",
        "                                        \"\"\"\n",
        "                                    ),\n",
        "                                    dash_table.DataTable(\n",
        "                                        id=\"datatable-paging\",\n",
        "                                        columns=[\n",
        "                                            {\"name\": i, \"id\": i} for i in \n",
        "                                            [\"poem\", \"queried word\", \n",
        "                                             \"source text\", \"target text\"]\n",
        "                                        ],\n",
        "                                        page_current=0,\n",
        "                                        page_size=3,\n",
        "                                        page_action=\"custom\",\n",
        "                                        style_cell_conditional=[\n",
        "                                            {\"if\": {\"column_id\": \"target text\"},                                        \n",
        "                                             \"width\": \"0%\"},\n",
        "                                            {\"if\": {\"column_id\": \"source text\"},                                        \n",
        "                                             \"width\": \"70%\"},\n",
        "                                            {\"if\": {\"column_id\": \"poem\"},                                        \n",
        "                                             \"width\": \"10%\"},\n",
        "                                            {\"if\": {\"column_id\": \"queried word\"},                                        \n",
        "                                             \"width\": \"20%\"},\n",
        "                                        ],\n",
        "                                        style_cell={\n",
        "                                            \"overflow\": \"hidden\",\n",
        "                                            \"textOverflow\": \"ellipsis\",\n",
        "                                            \"maxWidth\": 0,\n",
        "                                        },\n",
        "                                    ),\n",
        "                                ],\n",
        "                            ),\n",
        "                        ],\n",
        "                    ),\n",
        "                ),\n",
        "            ],\n",
        "        ),\n",
        "\n",
        "        html.Br(),\n",
        "        dcc.Tabs(\n",
        "            id=\"result-tabs\",\n",
        "            value=\"network-tab-select\",\n",
        "            parent_className=\"custom-result-tabs\",\n",
        "            className=\"custom-result-tabs-container\",\n",
        "            children=[\n",
        "                dcc.Tab(\n",
        "                    label=\"Word alignment visualization\",\n",
        "                    value=\"alignment-tab-select\",\n",
        "                    className=\"custom-tab\",\n",
        "                    selected_className=\"custom-tab--selected\",\n",
        "                    children=html.Div(\n",
        "                        className=\"result-tab\",\n",
        "                        children=[\n",
        "                            html.Div(\n",
        "                                dcc.Graph(id=\"alignment-graph\"),\n",
        "                                style={\n",
        "                                    \"width\": \"100%\", \n",
        "                                    \"display\": \"inline-block\",\n",
        "                                },\n",
        "                            ),\n",
        "                        ],\n",
        "                    ),\n",
        "                ),\n",
        "\n",
        "                # html.Hr(),\n",
        "                dcc.Tab(\n",
        "                    label=\"Collective misalignment network visualization\",\n",
        "                    value=\"network-tab-select\",\n",
        "                    className=\"custom-tab\",\n",
        "                    selected_className=\"custom-tab--selected\",\n",
        "                    children=html.Div(\n",
        "                        className=\"result-tab\",\n",
        "                        children=[ \n",
        "                            html.Br(),\n",
        "                            html.Div(\n",
        "                                [\n",
        "                                    html.Div(\n",
        "                                        [\n",
        "                                            # html.Label(\"Selected poem\"),\n",
        "                                            dcc.Graph(\n",
        "                                                id=\"individual-network-graph\"\n",
        "                                            ), \n",
        "                                        ],       \n",
        "                                        style={\n",
        "                                            \"width\": \"50%\", \n",
        "                                            \"float\": \"left\", \n",
        "                                            \"display\": \"inline-block\",\n",
        "                                        },\n",
        "                                    ),\n",
        "\n",
        "                                    html.Div(\n",
        "                                        [\n",
        "                                            # html.Label(\"All queried poems\"),\n",
        "                                            dcc.Graph(\n",
        "                                                id=\"translator-network-graph\"\n",
        "                                            ), \n",
        "                                        ],       \n",
        "                                        style={\n",
        "                                            \"width\": \"50%\", \n",
        "                                            \"float\": \"right\", \n",
        "                                            \"display\": \"inline-block\",\n",
        "                                        },\n",
        "                                    ),\n",
        "                                ],\n",
        "                            ),\n",
        "                        ],\n",
        "                    ),\n",
        "                ),\n",
        "            ],\n",
        "        ),\n",
        "    ],\n",
        "                      )\n",
        "\n",
        "\n",
        "# Data table\n",
        "@app.callback(\n",
        "    [Output(\"datatable-paging\", \"page_current\"),\n",
        "     Output(\"datatable-paging\", \"page_count\"),\n",
        "     Output(\"datatable-paging\", \"data\")],\n",
        "    [Input(\"datatable-paging\", \"page_current\"),\n",
        "     Input(\"datatable-paging\", \"page_size\"),\n",
        "     Input(\"target\", \"value\"),\n",
        "     Input(\"translator\", \"value\")],\n",
        "    [State(\"datatable-paging\", \"data\")]\n",
        ")\n",
        "def update_table(page_current, page_size, target, translator, table_data):\n",
        "    target, word = target.split(\":\")\n",
        "    translator = fullname2id_map[translator]\n",
        "    candidates = query(target, translator)\n",
        "    page_count = len(candidates) // page_size + 1\n",
        "    candidate_df = pd.DataFrame({\n",
        "        \"poem\": [candidate.poem for candidate in candidates],\n",
        "        \"source text\": [candidate.source_surface for candidate in candidates],\n",
        "        \"target text\": [candidate.target_surface for candidate in candidates],\n",
        "        \"queried word\": [word for candidate in candidates],\n",
        "    })\n",
        "    data = candidate_df.iloc[\n",
        "        page_current*page_size:(page_current+1)*page_size\n",
        "    ].to_dict(\"records\")\n",
        "    if table_data is not None:\n",
        "        try: \n",
        "            table_data[0]\n",
        "        except:\n",
        "            page_current = page_count - 1\n",
        "    return page_current, page_count, data\n",
        "\n",
        "\n",
        "# Alignment visualization and individual poem network visualization\n",
        "@app.callback(\n",
        "    [Output(\"alignment-graph\", \"figure\"),\n",
        "     Output(\"individual-network-graph\", \"figure\")],\n",
        "    [Input(\"datatable-paging\", \"active_cell\"),\n",
        "     Input(\"datatable-paging\", \"page_current\"),\n",
        "     Input(\"datatable-paging\", \"page_size\"),\n",
        "     Input(\"translator\", \"value\"),\n",
        "     Input(\"target\", \"value\")],\n",
        "    [State(\"datatable-paging\", \"data\")]\n",
        ")\n",
        "def update_alignment_and_individual_network_graph(\n",
        "        active_cell, page_current, page_size, \n",
        "        translator, target, table_data):\n",
        "    try:\n",
        "        target, word = target.split(\":\")\n",
        "        translator = fullname2id_map[translator]\n",
        "        if active_cell:\n",
        "            row = active_cell[\"row\"]\n",
        "            queied_word = table_data[row][\"queried word\"]\n",
        "            if queied_word == word:\n",
        "                idx = table_data[row][\"poem\"]\n",
        "                text = table_data[row][\"source text\"]\n",
        "            else:\n",
        "                candidates = query(target, translator)    \n",
        "                current_candidate = candidates[page_current*page_size]    \n",
        "                idx = current_candidate.poem\n",
        "                text = current_candidate.source_surface\n",
        "        else:\n",
        "            candidates = query(target, translator)    \n",
        "            current_candidate = candidates[page_current*page_size]    \n",
        "            idx = current_candidate.poem\n",
        "            text = current_candidate.source_surface\n",
        "        _, heatmap, targets = alignment_table(idx, translator, target)\n",
        "        fig_alignment = visualize_heatmap(heatmap, targets)\n",
        "        fig_alignment.update_layout(transition_duration=500)\n",
        "        fig_individual_network = draw_plotly_by_translator_by_poem(target, idx)\n",
        "        fig_individual_network.update_layout(\n",
        "            title = f\"<span style='font-size: 14px;'>{target} {word}</span>\" + \n",
        "            \"<br>\" +\n",
        "            f\"<span style='font-size: 10px;'>{text} -古今{idx}</span>\"\n",
        "        )\n",
        "        fig_individual_network.update_layout(transition_duration=500)\n",
        "        return fig_alignment, fig_individual_network\n",
        "    except:\n",
        "        return (_blank(1000, 600, \"Queried word was not found.\", 12),\n",
        "                _blank(500, 600, \"Queried word was not found.\", 12))\n",
        "\n",
        "\n",
        "# Global network visualization\n",
        "@app.callback(\n",
        "    Output(\"translator-network-graph\", \"figure\"),\n",
        "    [Input(\"target\", \"value\")]\n",
        ")\n",
        "def update_translator_network(target):\n",
        "    try:\n",
        "        target = target.split(\":\")[0]\n",
        "        fig = draw_plotly_by_translator(target)\n",
        "        fig.update_layout(transition_duration=500)\n",
        "        return fig\n",
        "    except:\n",
        "        return _blank(500, 600, \"Queried word was not found.\", 12)"
      ],
      "metadata": {
        "id": "OW7U6mVc5gX5"
      },
      "execution_count": 33,
      "outputs": []
    },
    {
      "cell_type": "code",
      "source": [
        "app.run_server(mode='inline')"
      ],
      "metadata": {
        "colab": {
          "base_uri": "https://localhost:8080/",
          "height": 672
        },
        "id": "0TOhLXGIBkeS",
        "outputId": "c4d54b7d-1eb5-4b7e-f701-503b1c43fe23"
      },
      "execution_count": 34,
      "outputs": [
        {
          "output_type": "display_data",
          "data": {
            "text/plain": [
              "<IPython.core.display.Javascript object>"
            ],
            "application/javascript": [
              "(async (port, path, width, height, cache, element) => {\n",
              "    if (!google.colab.kernel.accessAllowed && !cache) {\n",
              "      return;\n",
              "    }\n",
              "    element.appendChild(document.createTextNode(''));\n",
              "    const url = await google.colab.kernel.proxyPort(port, {cache});\n",
              "    const iframe = document.createElement('iframe');\n",
              "    iframe.src = new URL(path, url).toString();\n",
              "    iframe.height = height;\n",
              "    iframe.width = width;\n",
              "    iframe.style.border = 0;\n",
              "    iframe.allow = [\n",
              "        'accelerometer',\n",
              "        'autoplay',\n",
              "        'camera',\n",
              "        'clipboard-read',\n",
              "        'clipboard-write',\n",
              "        'gyroscope',\n",
              "        'magnetometer',\n",
              "        'microphone',\n",
              "        'serial',\n",
              "        'usb',\n",
              "        'xr-spatial-tracking',\n",
              "    ].join('; ');\n",
              "    element.appendChild(iframe);\n",
              "  })(8050, \"/\", \"100%\", 650, false, window.element)"
            ]
          },
          "metadata": {}
        }
      ]
    },
    {
      "cell_type": "markdown",
      "source": [
        "# 3 | Visualization by Graphviz\n"
      ],
      "metadata": {
        "id": "NtM2FuzFOb_4"
      }
    },
    {
      "cell_type": "markdown",
      "source": [
        "## 3.1 | Aggregate Visualization"
      ],
      "metadata": {
        "id": "P9nNC4ILcplc"
      }
    },
    {
      "cell_type": "code",
      "source": [
        "import subprocess\n",
        "\n",
        "os.chdir('/content/misalignVis/src')\n",
        "print(os.getcwd())"
      ],
      "metadata": {
        "colab": {
          "base_uri": "https://localhost:8080/"
        },
        "id": "m8SRVSMPKxA4",
        "outputId": "a422b890-8da7-4014-de04-cb85d7c3889d"
      },
      "execution_count": 25,
      "outputs": [
        {
          "output_type": "stream",
          "name": "stdout",
          "text": [
            "/content/misalignVis/src\n"
          ]
        }
      ]
    },
    {
      "cell_type": "code",
      "source": [
        "import re\n",
        "import igraph as ig\n",
        "from dataclasses import astuple, asdict\n",
        "from utils import load_pickle, lemma2metacode\n",
        "import bitexts\n",
        "from bitexts import AlignmentInfo\n",
        "import math\n",
        "from IPython.display import SVG"
      ],
      "metadata": {
        "id": "FATSLPQVNEUr"
      },
      "execution_count": 26,
      "outputs": []
    },
    {
      "cell_type": "code",
      "source": [
        "DB = load_pickle(\"../cache/bitexts.db\")\n",
        "translator_lst = DB.translators\n",
        "metacode2lemma_map_src = load_pickle(\"../cache/metacode2lemma_src.pkl\")\n",
        "metacode2lemma_map_tar = load_pickle(\"../cache/metacode2lemma_tar.pkl\")\n",
        "romaji2kanji_map = {\n",
        "    \"kaneko\": \"KNK\",\n",
        "    \"katagiri\": \"KTGR\",\n",
        "    \"kojimaarai\": \"K&A\",\n",
        "    \"komachiya\": \"KMCY\",\n",
        "    \"kubota\": \"KBT\",\n",
        "    \"kyusojin\": \"KSJ\",\n",
        "    \"matsuda\": \"MTD\",\n",
        "    \"okumura\": \"OKMR\",\n",
        "    \"ozawa\": \"OZW\",\n",
        "    \"takeoka\": \"TKOK\"\n",
        "}"
      ],
      "metadata": {
        "id": "deEJR9at0MYV"
      },
      "execution_count": 27,
      "outputs": []
    },
    {
      "cell_type": "code",
      "source": [
        "def _gen_graph(alignment_summary, edge_info, source_words, source_word_translator_set, target_word_set):\n",
        "\n",
        "    # Edge by translator generator\n",
        "    def edge_by_translator():\n",
        "        for stat in alignment_summary.summary:\n",
        "            source_word = stat.alignment[0]\n",
        "            target_word = stat.alignment[1]\n",
        "            stat = asdict(stat)\n",
        "            for (key, value) in stat.items():\n",
        "                if (key == \"alignment\") or (key == \"total\"):\n",
        "                    continue\n",
        "                source_node = f\"{source_word}-{key}\"\n",
        "                target_node = target_word\n",
        "                weight = value\n",
        "                if weight == 0:\n",
        "                    continue\n",
        "                yield (source_node, target_node, weight, 8)\n",
        "\n",
        "    # Aligned target word generator\n",
        "    def target_words():\n",
        "        for info in edge_info:\n",
        "            target_word = info.alignment[1]\n",
        "            if target_word in target_word_set:\n",
        "                continue\n",
        "            target_word_set.add(target_word)\n",
        "            yield target_word\n",
        "\n",
        "    # Source word with translator coding generator\n",
        "    def source_words_by_translator():\n",
        "        for word in source_words:\n",
        "            info_lst = alignment_summary.query_details_by_source(word)\n",
        "            for info in info_lst:\n",
        "                word = info.word\n",
        "                translator = info.translator\n",
        "                name = (word, translator)\n",
        "                if name in source_word_translator_set:\n",
        "                    continue\n",
        "                source_word_translator_set.add(name)\n",
        "                yield name\n",
        "\n",
        "    # Source word node generator\n",
        "    def source_nodes():\n",
        "        for row in source_words_by_translator():\n",
        "            source_word = row[0]\n",
        "            translator = row[1]\n",
        "            name = source_word + \"-\" + translator\n",
        "            node = f\"{metacode2lemma_map_src[source_word]}\\n({romaji2kanji_map[translator]})\"\n",
        "            node_type = 1\n",
        "            type_label = \"source\"\n",
        "            weight = 0\n",
        "            shape = \"ellipse\"\n",
        "            info_lst = alignment_summary.query_details_by_source(row[0])\n",
        "            for info in info_lst:\n",
        "                if info.translator != row[1]:\n",
        "                    continue\n",
        "                weight += 1\n",
        "            yield (name, node, node_type, type_label, weight, shape)\n",
        "\n",
        "    # Target word node generator\n",
        "    def target_nodes():\n",
        "        for word in target_words():\n",
        "            name = word\n",
        "            node = f\"{metacode2lemma_map_tar[word]}\"\n",
        "            node_type = 2\n",
        "            type_label = \"target\"\n",
        "            weight = 0\n",
        "            shape = \"rectangle\"\n",
        "            info_lst = alignment_summary.query_details_by_target(word)\n",
        "            for info in info_lst:\n",
        "                weight += 1\n",
        "                source_metacode = info.alignment[0].split(\"-\")\n",
        "                target_metacode = info.alignment[1].split(\"-\")\n",
        "                if source_metacode[:4] == target_metacode[:4]:\n",
        "                    node_type = 3\n",
        "                    type_label = \"dublicate\"\n",
        "            yield (name, node, node_type, type_label, weight, shape)\n",
        "\n",
        "    # Igraph construction\n",
        "    node_lst = list(source_nodes()) + list(target_nodes())\n",
        "    node_lst = sorted(node_lst, key=lambda x: (x[2], x[4]), reverse=True)\n",
        "    edge_lst = list(edge_by_translator())\n",
        "    edge_lst = sorted(edge_lst, key=lambda x: (x[1], x[2]), reverse=True)\n",
        "    graph = ig.Graph.TupleList(edge_lst, directed=False, edge_attrs=[\"label\", \"fontsize\"])\n",
        "\n",
        "    for node_attr in node_lst:\n",
        "        name, node, node_type, type_label, weight, shape = node_attr\n",
        "        for v in graph.vs:\n",
        "            if v[\"name\"] != name:\n",
        "                continue\n",
        "            v[\"label\"] = node\n",
        "            v[\"node_type\"] = node_type\n",
        "            v[\"type_label\"] = type_label\n",
        "            if weight >= 5:\n",
        "                v[\"style\"] = \"filled\"\n",
        "                v[\"fillcolor\"] = \"lightyellow\"\n",
        "            if node_type == 1:\n",
        "                v[\"style\"] = \"filled\"\n",
        "                v[\"fillcolor\"] = \"lightgrey\"\n",
        "                v[\"width\"] = 0.1\n",
        "                v[\"fontsize\"] = 8\n",
        "            else:\n",
        "                v[\"fontsize\"] = (math.log(weight+7)) * 5\n",
        "            v[\"shape\"] = shape\n",
        "    return graph\n",
        "\n",
        "def _filter(alignment_info_lst):\n",
        "    \"\"\"To remove edges that contain the same nodes with source nodes and stop pos.\"\"\"\n",
        "    for alignment_info in alignment_info_lst:\n",
        "        source, target = alignment_info.alignment\n",
        "        # BG-16: symbols\n",
        "        # BG-0[456789]: words that are not nouns, verbs or adjectives\n",
        "        # BG-03-1000: demonstratives\n",
        "        pattern = re.compile(r'BG-16|BG-0[456789]|BG-03-1000')\n",
        "        if pattern.match(target):\n",
        "            continue\n",
        "        if source[3:15] == target[3:15]:\n",
        "            continue\n",
        "        yield alignment_info\n",
        "\n",
        "\n",
        "def retrive_igraph_by_translator(*source_words):\n",
        "    \"\"\"Retrive igraph format data with translator attension.\n",
        "\n",
        "    :return graph: igraph-converted information.\n",
        "    \"\"\"\n",
        "    target_word_set = set()\n",
        "    source_word_translator_set = set()\n",
        "    alignment_lst = DB.query_improper_alignment_by_word(*source_words)    \n",
        "    alignment_lst = list(_filter(alignment_lst))\n",
        "    alignment_summary = bitexts.AlignmentSummary(alignment_lst)\n",
        "    edge_info = alignment_summary.alignment_info  # For edges' annotation\n",
        "\n",
        "    return _gen_graph(alignment_summary, edge_info, source_words, source_word_translator_set, target_word_set)"
      ],
      "metadata": {
        "id": "RM1WxPRGsOVr"
      },
      "execution_count": 36,
      "outputs": []
    },
    {
      "cell_type": "code",
      "source": [
        "def dot_viz_aggr(word, width=None):\n",
        "    code = lemma2metacode(word, metacode2lemma_map_src)\n",
        "    g = retrive_igraph_by_translator(code)\n",
        "    g.write_dot(f\"../artifacts/{word}.dot\")\n",
        "    if width:\n",
        "        with open(f\"../artifacts/{word}.dot\", \"r\") as file:\n",
        "            lines = file.readlines()\n",
        "\n",
        "        # attr\n",
        "        lines.insert(2, f'  size=\"{width},\";\\n')\n",
        "        lines.insert(3, '  ratio=\"fill\";\\n')\n",
        "\n",
        "        # lines.insert(4, '  mode=\"ipsep\";\\n')\n",
        "        # lines.insert(5, '  sep=1;\\n')\n",
        "        # lines.insert(6, '  overlap=false;\\n')\n",
        "        \n",
        "        with open(f\"../artifacts/{word}.dot\", \"w\") as file:\n",
        "            file.writelines(lines)\n",
        "    neato_command = f\"neato -Tsvg ../artifacts/{word}.dot -o ../artifacts/{word}.svg\"\n",
        "    subprocess.run(neato_command, shell=True, check=True)\n",
        "    display(SVG(filename=f\"../artifacts/{word}.svg\")) "
      ],
      "metadata": {
        "id": "LENoVhwG6hyN"
      },
      "execution_count": 37,
      "outputs": []
    },
    {
      "cell_type": "markdown",
      "source": [
        "### 3.2 | Examples"
      ],
      "metadata": {
        "id": "LfBopaAGOgZh"
      }
    },
    {
      "cell_type": "markdown",
      "source": [
        "#### 3.2.1 | *Ume*, en. plum"
      ],
      "metadata": {
        "id": "IGBZcWmDc5pY"
      }
    },
    {
      "cell_type": "code",
      "source": [
        "dot_viz_aggr(\"梅\")"
      ],
      "metadata": {
        "colab": {
          "base_uri": "https://localhost:8080/",
          "height": 556
        },
        "id": "dKfx8Xsy9ggq",
        "outputId": "5617315e-f146-4a95-a5dc-366bb91dbd2c"
      },
      "execution_count": 38,
      "outputs": [
        {
          "name": "stdout",
          "output_type": "stream",
          "text": [
            "Lemma has the following semantic codings:\n",
            " 1: BG-01-5520-20-0401\n",
            " 2: BG-01-5520-20-0402\n",
            "Input one ID to query:1\n"
          ]
        },
        {
          "output_type": "display_data",
          "data": {
            "text/plain": [
              "<IPython.core.display.SVG object>"
            ],
            "image/svg+xml": "<svg xmlns=\"http://www.w3.org/2000/svg\" xmlns:xlink=\"http://www.w3.org/1999/xlink\" width=\"354pt\" height=\"349pt\" viewBox=\"0.00 0.00 354.43 349.11\">\n<g id=\"graph0\" class=\"graph\" transform=\"scale(1 1) rotate(0) translate(4 345.11)\">\n<title>%3</title>\n<polygon fill=\"white\" stroke=\"transparent\" points=\"-4,4 -4,-345.11 350.43,-345.11 350.43,4 -4,4\"/>\n<!-- 0 -->\n<g id=\"node1\" class=\"node\">\n<title>0</title>\n<ellipse fill=\"lightgrey\" stroke=\"black\" cx=\"231.01\" cy=\"-254.46\" rx=\"28.98\" ry=\"18.27\"/>\n<text text-anchor=\"middle\" x=\"231.01\" y=\"-257.06\" font-family=\"Times,serif\" font-size=\"8.00\">梅</text>\n<text text-anchor=\"middle\" x=\"231.01\" y=\"-248.06\" font-family=\"Times,serif\" font-size=\"8.00\">(MTD)</text>\n</g>\n<!-- 1 -->\n<g id=\"node2\" class=\"node\">\n<title>1</title>\n<polygon fill=\"none\" stroke=\"black\" points=\"346.43,-245.66 307.43,-245.66 307.43,-209.66 346.43,-209.66 346.43,-245.66\"/>\n<text text-anchor=\"middle\" x=\"326.93\" y=\"-224.85\" font-family=\"Times,serif\" font-size=\"10.40\">None</text>\n</g>\n<!-- 1&#45;&#45;0 -->\n<g id=\"edge1\" class=\"edge\">\n<title>1--0</title>\n<path fill=\"none\" stroke=\"black\" d=\"M307.06,-233.22C292.79,-237.2 273.4,-242.62 257.77,-246.98\"/>\n<text text-anchor=\"middle\" x=\"284.41\" y=\"-242.7\" font-family=\"Times,serif\" font-size=\"8.00\">1</text>\n</g>\n<!-- 2 -->\n<g id=\"node3\" class=\"node\">\n<title>2</title>\n<ellipse fill=\"lightgrey\" stroke=\"black\" cx=\"144.53\" cy=\"-136.3\" rx=\"33.47\" ry=\"18.27\"/>\n<text text-anchor=\"middle\" x=\"144.53\" y=\"-138.9\" font-family=\"Times,serif\" font-size=\"8.00\">梅</text>\n<text text-anchor=\"middle\" x=\"144.53\" y=\"-129.9\" font-family=\"Times,serif\" font-size=\"8.00\">(OKMR)</text>\n</g>\n<!-- 3 -->\n<g id=\"node4\" class=\"node\">\n<title>3</title>\n<polygon fill=\"lightyellow\" stroke=\"black\" points=\"207.61,-228.65 158.61,-228.65 158.61,-192.65 207.61,-192.65 207.61,-228.65\"/>\n<text text-anchor=\"middle\" x=\"183.11\" y=\"-206.87\" font-family=\"Times,serif\" font-size=\"14.72\">None</text>\n</g>\n<!-- 3&#45;&#45;0 -->\n<g id=\"edge5\" class=\"edge\">\n<title>3--0</title>\n<path fill=\"none\" stroke=\"black\" d=\"M202.87,-228.72C206.68,-232.21 210.64,-235.83 214.35,-239.22\"/>\n<text text-anchor=\"middle\" x=\"210.61\" y=\"-227.57\" font-family=\"Times,serif\" font-size=\"8.00\">1</text>\n</g>\n<!-- 3&#45;&#45;2 -->\n<g id=\"edge2\" class=\"edge\">\n<title>3--2</title>\n<path fill=\"none\" stroke=\"black\" d=\"M173.57,-192.27C167.55,-180.66 159.8,-165.73 153.82,-154.21\"/>\n<text text-anchor=\"middle\" x=\"161.7\" y=\"-175.84\" font-family=\"Times,serif\" font-size=\"8.00\">5</text>\n</g>\n<!-- 4 -->\n<g id=\"node5\" class=\"node\">\n<title>4</title>\n<ellipse fill=\"lightgrey\" stroke=\"black\" cx=\"120.22\" cy=\"-234.34\" rx=\"28.98\" ry=\"18.27\"/>\n<text text-anchor=\"middle\" x=\"120.22\" y=\"-236.94\" font-family=\"Times,serif\" font-size=\"8.00\">梅</text>\n<text text-anchor=\"middle\" x=\"120.22\" y=\"-227.94\" font-family=\"Times,serif\" font-size=\"8.00\">(KNK)</text>\n</g>\n<!-- 4&#45;&#45;3 -->\n<g id=\"edge3\" class=\"edge\">\n<title>4--3</title>\n<path fill=\"none\" stroke=\"black\" d=\"M145.44,-224.84C149.68,-223.24 154.07,-221.59 158.3,-219.99\"/>\n<text text-anchor=\"middle\" x=\"153.87\" y=\"-225.02\" font-family=\"Times,serif\" font-size=\"8.00\">3</text>\n</g>\n<!-- 5 -->\n<g id=\"node6\" class=\"node\">\n<title>5</title>\n<ellipse fill=\"lightgrey\" stroke=\"black\" cx=\"230.39\" cy=\"-123.78\" rx=\"28.98\" ry=\"18.27\"/>\n<text text-anchor=\"middle\" x=\"230.39\" y=\"-126.38\" font-family=\"Times,serif\" font-size=\"8.00\">梅</text>\n<text text-anchor=\"middle\" x=\"230.39\" y=\"-117.38\" font-family=\"Times,serif\" font-size=\"8.00\">(K&amp;A)</text>\n</g>\n<!-- 5&#45;&#45;3 -->\n<g id=\"edge4\" class=\"edge\">\n<title>5--3</title>\n<path fill=\"none\" stroke=\"black\" d=\"M220.82,-141.36C212.73,-156.23 201.17,-177.46 192.99,-192.5\"/>\n<text text-anchor=\"middle\" x=\"204.91\" y=\"-169.53\" font-family=\"Times,serif\" font-size=\"8.00\">1</text>\n</g>\n<!-- 6 -->\n<g id=\"node7\" class=\"node\">\n<title>6</title>\n<ellipse fill=\"lightgrey\" stroke=\"black\" cx=\"110.41\" cy=\"-256.2\" rx=\"28.98\" ry=\"18.27\"/>\n<text text-anchor=\"middle\" x=\"110.41\" y=\"-258.8\" font-family=\"Times,serif\" font-size=\"8.00\">梅</text>\n<text text-anchor=\"middle\" x=\"110.41\" y=\"-249.8\" font-family=\"Times,serif\" font-size=\"8.00\">(OZW)</text>\n</g>\n<!-- 6&#45;&#45;3 -->\n<g id=\"edge6\" class=\"edge\">\n<title>6--3</title>\n<path fill=\"none\" stroke=\"black\" d=\"M131.05,-243.27C139.61,-237.9 149.62,-231.64 158.55,-226.03\"/>\n<text text-anchor=\"middle\" x=\"142.8\" y=\"-237.25\" font-family=\"Times,serif\" font-size=\"8.00\">1</text>\n</g>\n<!-- 7 -->\n<g id=\"node8\" class=\"node\">\n<title>7</title>\n<ellipse fill=\"lightgrey\" stroke=\"black\" cx=\"237.72\" cy=\"-161.59\" rx=\"32.55\" ry=\"18.27\"/>\n<text text-anchor=\"middle\" x=\"237.72\" y=\"-164.19\" font-family=\"Times,serif\" font-size=\"8.00\">梅</text>\n<text text-anchor=\"middle\" x=\"237.72\" y=\"-155.19\" font-family=\"Times,serif\" font-size=\"8.00\">(TKOK)</text>\n</g>\n<!-- 7&#45;&#45;3 -->\n<g id=\"edge7\" class=\"edge\">\n<title>7--3</title>\n<path fill=\"none\" stroke=\"black\" d=\"M220.14,-177.38C214.78,-182.2 208.84,-187.54 203.32,-192.5\"/>\n<text text-anchor=\"middle\" x=\"209.73\" y=\"-187.54\" font-family=\"Times,serif\" font-size=\"8.00\">1</text>\n</g>\n<!-- 8 -->\n<g id=\"node9\" class=\"node\">\n<title>8</title>\n<polygon fill=\"none\" stroke=\"black\" points=\"186.61,-326.22 144.61,-326.22 144.61,-290.22 186.61,-290.22 186.61,-326.22\"/>\n<text text-anchor=\"middle\" x=\"165.61\" y=\"-305.51\" font-family=\"Times,serif\" font-size=\"11.51\">None</text>\n</g>\n<!-- 8&#45;&#45;0 -->\n<g id=\"edge9\" class=\"edge\">\n<title>8--0</title>\n<path fill=\"none\" stroke=\"black\" d=\"M186.66,-290.91C195.17,-283.91 204.9,-275.92 213.07,-269.21\"/>\n<text text-anchor=\"middle\" x=\"197.86\" y=\"-282.66\" font-family=\"Times,serif\" font-size=\"8.00\">1</text>\n</g>\n<!-- 8&#45;&#45;4 -->\n<g id=\"edge8\" class=\"edge\">\n<title>8--4</title>\n<path fill=\"none\" stroke=\"black\" d=\"M154.39,-289.96C147.25,-278.33 138.05,-263.36 131,-251.88\"/>\n<text text-anchor=\"middle\" x=\"144.69\" y=\"-273.52\" font-family=\"Times,serif\" font-size=\"8.00\">1</text>\n</g>\n<!-- 8&#45;&#45;6 -->\n<g id=\"edge10\" class=\"edge\">\n<title>8--6</title>\n<path fill=\"none\" stroke=\"black\" d=\"M146.3,-290.03C139.96,-284.05 132.97,-277.47 126.86,-271.71\"/>\n<text text-anchor=\"middle\" x=\"134.58\" y=\"-283.47\" font-family=\"Times,serif\" font-size=\"8.00\">1</text>\n</g>\n<!-- 9 -->\n<g id=\"node10\" class=\"node\">\n<title>9</title>\n<polygon fill=\"none\" stroke=\"black\" points=\"306.66,-76.39 265.66,-76.39 265.66,-40.39 306.66,-40.39 306.66,-76.39\"/>\n<text text-anchor=\"middle\" x=\"286.16\" y=\"-55.6\" font-family=\"Times,serif\" font-size=\"10.99\">None</text>\n</g>\n<!-- 9&#45;&#45;5 -->\n<g id=\"edge11\" class=\"edge\">\n<title>9--5</title>\n<path fill=\"none\" stroke=\"black\" d=\"M270.62,-76.6C262.37,-86.28 252.32,-98.07 244.32,-107.45\"/>\n<text text-anchor=\"middle\" x=\"255.47\" y=\"-94.63\" font-family=\"Times,serif\" font-size=\"8.00\">2</text>\n</g>\n<!-- 10 -->\n<g id=\"node11\" class=\"node\">\n<title>10</title>\n<ellipse fill=\"lightgrey\" stroke=\"black\" cx=\"120.85\" cy=\"-92.07\" rx=\"25.41\" ry=\"18.27\"/>\n<text text-anchor=\"middle\" x=\"120.85\" y=\"-94.67\" font-family=\"Times,serif\" font-size=\"8.00\">梅</text>\n<text text-anchor=\"middle\" x=\"120.85\" y=\"-85.67\" font-family=\"Times,serif\" font-size=\"8.00\">(KSJ)</text>\n</g>\n<!-- 11 -->\n<g id=\"node12\" class=\"node\">\n<title>11</title>\n<polygon fill=\"none\" stroke=\"black\" points=\"106.62,-36 67.62,-36 67.62,0 106.62,0 106.62,-36\"/>\n<text text-anchor=\"middle\" x=\"87.12\" y=\"-15.18\" font-family=\"Times,serif\" font-size=\"10.40\">None</text>\n</g>\n<!-- 11&#45;&#45;10 -->\n<g id=\"edge12\" class=\"edge\">\n<title>11--10</title>\n<path fill=\"none\" stroke=\"black\" d=\"M95.46,-36.31C100.77,-47.96 107.6,-62.97 112.84,-74.48\"/>\n<text text-anchor=\"middle\" x=\"102.15\" y=\"-58\" font-family=\"Times,serif\" font-size=\"8.00\">1</text>\n</g>\n<!-- 12 -->\n<g id=\"node13\" class=\"node\">\n<title>12</title>\n<ellipse fill=\"lightgrey\" stroke=\"black\" cx=\"251.13\" cy=\"-228.27\" rx=\"33.47\" ry=\"18.27\"/>\n<text text-anchor=\"middle\" x=\"251.13\" y=\"-230.87\" font-family=\"Times,serif\" font-size=\"8.00\">梅</text>\n<text text-anchor=\"middle\" x=\"251.13\" y=\"-221.87\" font-family=\"Times,serif\" font-size=\"8.00\">(KMCY)</text>\n</g>\n<!-- 13 -->\n<g id=\"node14\" class=\"node\">\n<title>13</title>\n<polygon fill=\"none\" stroke=\"black\" points=\"326.84,-300.57 284.84,-300.57 284.84,-264.57 326.84,-264.57 326.84,-300.57\"/>\n<text text-anchor=\"middle\" x=\"305.84\" y=\"-279.86\" font-family=\"Times,serif\" font-size=\"11.51\">None</text>\n</g>\n<!-- 13&#45;&#45;0 -->\n<g id=\"edge14\" class=\"edge\">\n<title>13--0</title>\n<path fill=\"none\" stroke=\"black\" d=\"M284.6,-274.59C275.7,-271.24 265.28,-267.33 256.01,-263.85\"/>\n<text text-anchor=\"middle\" x=\"268.31\" y=\"-271.82\" font-family=\"Times,serif\" font-size=\"8.00\">1</text>\n</g>\n<!-- 13&#45;&#45;12 -->\n<g id=\"edge13\" class=\"edge\">\n<title>13--12</title>\n<path fill=\"none\" stroke=\"black\" d=\"M287.62,-264.49C281.16,-258.07 273.92,-250.89 267.61,-244.62\"/>\n<text text-anchor=\"middle\" x=\"275.62\" y=\"-257.15\" font-family=\"Times,serif\" font-size=\"8.00\">2</text>\n</g>\n<!-- 14 -->\n<g id=\"node15\" class=\"node\">\n<title>14</title>\n<polygon fill=\"none\" stroke=\"black\" points=\"116.29,-341.11 75.29,-341.11 75.29,-305.11 116.29,-305.11 116.29,-341.11\"/>\n<text text-anchor=\"middle\" x=\"95.79\" y=\"-320.32\" font-family=\"Times,serif\" font-size=\"10.99\">None</text>\n</g>\n<!-- 14&#45;&#45;4 -->\n<g id=\"edge15\" class=\"edge\">\n<title>14--4</title>\n<path fill=\"none\" stroke=\"black\" d=\"M100.86,-304.71C105.05,-289.48 110.98,-267.94 115.17,-252.71\"/>\n<text text-anchor=\"middle\" x=\"106.01\" y=\"-281.31\" font-family=\"Times,serif\" font-size=\"8.00\">1</text>\n</g>\n<!-- 14&#45;&#45;6 -->\n<g id=\"edge16\" class=\"edge\">\n<title>14--6</title>\n<path fill=\"none\" stroke=\"black\" d=\"M99.79,-304.83C101.85,-295.39 104.36,-283.9 106.42,-274.46\"/>\n<text text-anchor=\"middle\" x=\"101.1\" y=\"-292.24\" font-family=\"Times,serif\" font-size=\"8.00\">1</text>\n</g>\n<!-- 15 -->\n<g id=\"node16\" class=\"node\">\n<title>15</title>\n<polygon fill=\"lightyellow\" stroke=\"black\" points=\"194.45,-197.79 144.45,-197.79 144.45,-161.79 194.45,-161.79 194.45,-197.79\"/>\n<text text-anchor=\"middle\" x=\"169.45\" y=\"-176.11\" font-family=\"Times,serif\" font-size=\"15.22\">None</text>\n</g>\n<!-- 15&#45;&#45;0 -->\n<g id=\"edge20\" class=\"edge\">\n<title>15--0</title>\n<path fill=\"none\" stroke=\"black\" d=\"M184.35,-197.87C194.46,-210.12 207.71,-226.2 217.51,-238.08\"/>\n<text text-anchor=\"middle\" x=\"198.93\" y=\"-220.57\" font-family=\"Times,serif\" font-size=\"8.00\">2</text>\n</g>\n<!-- 15&#45;&#45;2 -->\n<g id=\"edge24\" class=\"edge\">\n<title>15--2</title>\n<path fill=\"none\" stroke=\"black\" d=\"M159.03,-161.6C157.59,-159.09 156.11,-156.51 154.67,-154\"/>\n<text text-anchor=\"middle\" x=\"154.85\" y=\"-160.4\" font-family=\"Times,serif\" font-size=\"8.00\">1</text>\n</g>\n<!-- 15&#45;&#45;4 -->\n<g id=\"edge21\" class=\"edge\">\n<title>15--4</title>\n<path fill=\"none\" stroke=\"black\" d=\"M153.06,-197.96C147.13,-204.53 140.48,-211.89 134.73,-218.27\"/>\n<text text-anchor=\"middle\" x=\"141.89\" y=\"-201.71\" font-family=\"Times,serif\" font-size=\"8.00\">1</text>\n</g>\n<!-- 15&#45;&#45;5 -->\n<g id=\"edge17\" class=\"edge\">\n<title>15--5</title>\n<path fill=\"none\" stroke=\"black\" d=\"M189.07,-161.76C197,-154.47 206.06,-146.14 213.68,-139.14\"/>\n<text text-anchor=\"middle\" x=\"199.37\" y=\"-153.05\" font-family=\"Times,serif\" font-size=\"8.00\">2</text>\n</g>\n<!-- 15&#45;&#45;6 -->\n<g id=\"edge25\" class=\"edge\">\n<title>15--6</title>\n<path fill=\"none\" stroke=\"black\" d=\"M155.46,-197.9C145.71,-210.52 132.79,-227.24 123.29,-239.53\"/>\n<text text-anchor=\"middle\" x=\"137.38\" y=\"-212.32\" font-family=\"Times,serif\" font-size=\"8.00\">1</text>\n</g>\n<!-- 15&#45;&#45;7 -->\n<g id=\"edge26\" class=\"edge\">\n<title>15--7</title>\n<path fill=\"none\" stroke=\"black\" d=\"M194.48,-173.12C198.9,-171.94 203.53,-170.71 208.06,-169.5\"/>\n<text text-anchor=\"middle\" x=\"199.27\" y=\"-173.91\" font-family=\"Times,serif\" font-size=\"8.00\">1</text>\n</g>\n<!-- 15&#45;&#45;10 -->\n<g id=\"edge19\" class=\"edge\">\n<title>15--10</title>\n<path fill=\"none\" stroke=\"black\" d=\"M159.38,-161.62C150.87,-146.26 138.77,-124.42 130.41,-109.33\"/>\n<text text-anchor=\"middle\" x=\"142.9\" y=\"-138.07\" font-family=\"Times,serif\" font-size=\"8.00\">2</text>\n</g>\n<!-- 15&#45;&#45;12 -->\n<g id=\"edge23\" class=\"edge\">\n<title>15--12</title>\n<path fill=\"none\" stroke=\"black\" d=\"M194.85,-194.86C205.52,-201.2 217.85,-208.52 228.25,-214.68\"/>\n<text text-anchor=\"middle\" x=\"209.55\" y=\"-207.37\" font-family=\"Times,serif\" font-size=\"8.00\">1</text>\n</g>\n<!-- 16 -->\n<g id=\"node17\" class=\"node\">\n<title>16</title>\n<ellipse fill=\"lightgrey\" stroke=\"black\" cx=\"186.15\" cy=\"-92.68\" rx=\"27.65\" ry=\"18.27\"/>\n<text text-anchor=\"middle\" x=\"186.15\" y=\"-95.28\" font-family=\"Times,serif\" font-size=\"8.00\">梅</text>\n<text text-anchor=\"middle\" x=\"186.15\" y=\"-86.28\" font-family=\"Times,serif\" font-size=\"8.00\">(KBT)</text>\n</g>\n<!-- 16&#45;&#45;15 -->\n<g id=\"edge18\" class=\"edge\">\n<title>16--15</title>\n<path fill=\"none\" stroke=\"black\" d=\"M182.61,-111.15C179.76,-126.03 175.77,-146.85 172.93,-161.64\"/>\n<text text-anchor=\"middle\" x=\"179.77\" y=\"-139\" font-family=\"Times,serif\" font-size=\"8.00\">2</text>\n</g>\n<!-- 17 -->\n<g id=\"node18\" class=\"node\">\n<title>17</title>\n<ellipse fill=\"lightgrey\" stroke=\"black\" cx=\"84.5\" cy=\"-153.96\" rx=\"31.64\" ry=\"18.27\"/>\n<text text-anchor=\"middle\" x=\"84.5\" y=\"-156.56\" font-family=\"Times,serif\" font-size=\"8.00\">梅</text>\n<text text-anchor=\"middle\" x=\"84.5\" y=\"-147.56\" font-family=\"Times,serif\" font-size=\"8.00\">(KTGR)</text>\n</g>\n<!-- 17&#45;&#45;15 -->\n<g id=\"edge22\" class=\"edge\">\n<title>17--15</title>\n<path fill=\"none\" stroke=\"black\" d=\"M112.79,-162.56C123.02,-165.67 134.5,-169.16 144.43,-172.18\"/>\n<text text-anchor=\"middle\" x=\"126.61\" y=\"-169.97\" font-family=\"Times,serif\" font-size=\"8.00\">1</text>\n</g>\n<!-- 18 -->\n<g id=\"node19\" class=\"node\">\n<title>18</title>\n<polygon fill=\"none\" stroke=\"black\" points=\"50.98,-217.3 9.98,-217.3 9.98,-181.3 50.98,-181.3 50.98,-217.3\"/>\n<text text-anchor=\"middle\" x=\"30.48\" y=\"-196.51\" font-family=\"Times,serif\" font-size=\"10.99\">None</text>\n</g>\n<!-- 18&#45;&#45;4 -->\n<g id=\"edge27\" class=\"edge\">\n<title>18--4</title>\n<path fill=\"none\" stroke=\"black\" d=\"M51.3,-207.42C64.45,-212.56 81.52,-219.22 95.38,-224.64\"/>\n<text text-anchor=\"middle\" x=\"71.34\" y=\"-218.63\" font-family=\"Times,serif\" font-size=\"8.00\">1</text>\n</g>\n<!-- 18&#45;&#45;17 -->\n<g id=\"edge28\" class=\"edge\">\n<title>18--17</title>\n<path fill=\"none\" stroke=\"black\" d=\"M51.22,-181.9C56.21,-177.7 61.52,-173.25 66.39,-169.17\"/>\n<text text-anchor=\"middle\" x=\"56.8\" y=\"-178.13\" font-family=\"Times,serif\" font-size=\"8.00\">1</text>\n</g>\n<!-- 19 -->\n<g id=\"node20\" class=\"node\">\n<title>19</title>\n<polygon fill=\"none\" stroke=\"black\" points=\"286.36,-337.38 245.36,-337.38 245.36,-301.38 286.36,-301.38 286.36,-337.38\"/>\n<text text-anchor=\"middle\" x=\"265.86\" y=\"-316.59\" font-family=\"Times,serif\" font-size=\"10.99\">None</text>\n</g>\n<!-- 19&#45;&#45;0 -->\n<g id=\"edge30\" class=\"edge\">\n<title>19--0</title>\n<path fill=\"none\" stroke=\"black\" d=\"M256.15,-301.29C251.24,-292.14 245.3,-281.07 240.43,-272\"/>\n<text text-anchor=\"middle\" x=\"246.29\" y=\"-289.25\" font-family=\"Times,serif\" font-size=\"8.00\">1</text>\n</g>\n<!-- 19&#45;&#45;12 -->\n<g id=\"edge29\" class=\"edge\">\n<title>19--12</title>\n<path fill=\"none\" stroke=\"black\" d=\"M262.95,-301.38C260.4,-285.61 256.71,-262.79 254.14,-246.85\"/>\n<text text-anchor=\"middle\" x=\"256.54\" y=\"-276.72\" font-family=\"Times,serif\" font-size=\"8.00\">1</text>\n</g>\n<!-- 20 -->\n<g id=\"node21\" class=\"node\">\n<title>20</title>\n<polygon fill=\"none\" stroke=\"black\" points=\"65.36,-334.59 26.36,-334.59 26.36,-298.59 65.36,-298.59 65.36,-334.59\"/>\n<text text-anchor=\"middle\" x=\"45.86\" y=\"-313.77\" font-family=\"Times,serif\" font-size=\"10.40\">None</text>\n</g>\n<!-- 20&#45;&#45;6 -->\n<g id=\"edge31\" class=\"edge\">\n<title>20--6</title>\n<path fill=\"none\" stroke=\"black\" d=\"M65.22,-298.47C74.43,-289.85 85.32,-279.67 94.1,-271.46\"/>\n<text text-anchor=\"middle\" x=\"77.66\" y=\"-287.56\" font-family=\"Times,serif\" font-size=\"8.00\">1</text>\n</g>\n<!-- 21 -->\n<g id=\"node22\" class=\"node\">\n<title>21</title>\n<polygon fill=\"none\" stroke=\"black\" points=\"39,-271.59 0,-271.59 0,-235.59 39,-235.59 39,-271.59\"/>\n<text text-anchor=\"middle\" x=\"19.5\" y=\"-250.77\" font-family=\"Times,serif\" font-size=\"10.40\">None</text>\n</g>\n<!-- 21&#45;&#45;6 -->\n<g id=\"edge32\" class=\"edge\">\n<title>21--6</title>\n<path fill=\"none\" stroke=\"black\" d=\"M39.23,-254.16C51.55,-254.51 67.64,-254.97 81.4,-255.37\"/>\n<text text-anchor=\"middle\" x=\"58.31\" y=\"-257.36\" font-family=\"Times,serif\" font-size=\"8.00\">1</text>\n</g>\n</g>\n</svg>"
          },
          "metadata": {}
        }
      ]
    },
    {
      "cell_type": "markdown",
      "source": [
        "#### 3.2.2 | *Ominaeshi*, en. golden valerian"
      ],
      "metadata": {
        "id": "sUlHidO1dFq8"
      }
    },
    {
      "cell_type": "code",
      "source": [
        "dot_viz_aggr(\"女郎花\")"
      ],
      "metadata": {
        "id": "Uwb9F6aO9jMh"
      },
      "execution_count": null,
      "outputs": []
    },
    {
      "cell_type": "markdown",
      "source": [
        "#### 3.2.3 | *Kiku*, en. chrysanthemum"
      ],
      "metadata": {
        "id": "p7kJ52X1dXZQ"
      }
    },
    {
      "cell_type": "code",
      "source": [
        "dot_viz_aggr(\"菊\")"
      ],
      "metadata": {
        "id": "yvm8B8gf-MkO"
      },
      "execution_count": null,
      "outputs": []
    },
    {
      "cell_type": "markdown",
      "source": [
        "#### 3.2.4 | *Sakura*, en. cherry"
      ],
      "metadata": {
        "id": "N8GAnxIgeC4k"
      }
    },
    {
      "cell_type": "code",
      "source": [
        "dot_viz_aggr(\"桜\")"
      ],
      "metadata": {
        "id": "v74lioVp9ynh"
      },
      "execution_count": null,
      "outputs": []
    },
    {
      "cell_type": "markdown",
      "source": [
        "#### 3.2.5 | *Matsu*, en. pine"
      ],
      "metadata": {
        "id": "SXKaz9UldjAs"
      }
    },
    {
      "cell_type": "code",
      "source": [
        "dot_viz_aggr(\"松\")"
      ],
      "metadata": {
        "id": "ZSoc1GIV91M-"
      },
      "execution_count": null,
      "outputs": []
    },
    {
      "cell_type": "markdown",
      "source": [
        "#### 3.2.6 | *Yamabuki*, en. kerria"
      ],
      "metadata": {
        "id": "zjvjqiEpdyEs"
      }
    },
    {
      "cell_type": "code",
      "source": [
        "dot_viz(\"山吹\")"
      ],
      "metadata": {
        "id": "WqVkus9t8C5h"
      },
      "execution_count": null,
      "outputs": []
    },
    {
      "cell_type": "markdown",
      "source": [
        "## 3.2 | Breakdown Visualization"
      ],
      "metadata": {
        "id": "ZHpL6qZMfh5t"
      }
    },
    {
      "cell_type": "code",
      "source": [
        "def retrive_igraph_by_poem_by_translator(idx: str, *source_words):\n",
        "    \"\"\"Retrive igraph format data from one poem with a translator attension.\n",
        "\n",
        "    :return graph: igraph-converted information.\n",
        "    \"\"\"\n",
        "    target_word_set = set()\n",
        "    source_word_translator_set = set()\n",
        "    alignment_lst = DB.query_improper_alignment_by_word_in_poem(idx, *source_words)    \n",
        "    alignment_lst = list(_filter(alignment_lst))\n",
        "    alignment_summary = bitexts.AlignmentSummary(alignment_lst)\n",
        "    edge_info = alignment_summary.alignment_info  # For edges\" annotation\n",
        "    \n",
        "    return _gen_graph(alignment_summary, edge_info, source_words, source_word_translator_set, target_word_set)"
      ],
      "metadata": {
        "id": "lCAvtmmHwaUU"
      },
      "execution_count": null,
      "outputs": []
    },
    {
      "cell_type": "code",
      "source": [
        "def dot_viz_brkd(word, width=None):\n",
        "    code = lemma2metacode(word, metacode2lemma_map_src)\n",
        "    candidates = DB.query_bitext_by_word(code)\n",
        "    poems = {}\n",
        "    candidates = DB.query_bitext_by_word(code)\n",
        "    for candidate in candidates:\n",
        "        if candidate.poem in poems.keys():\n",
        "            break\n",
        "        poems[candidate.poem] = candidate.source_surface\n",
        "        print(candidate.poem, candidate.source_surface)\n",
        "    idx = str(input(\"Input poem id: \"))\n",
        "    print(idx, poems[idx])\n",
        "    query = DB.query_by_poem(idx)\n",
        "    for candidate in query:\n",
        "        print(candidate.translator, candidate.target_surface)\n",
        "\n",
        "    g = retrive_igraph_by_poem_by_translator(idx, code)\n",
        "    g.write_dot(f\"../artifacts/{idx}-{word}.dot\")\n",
        "    if width:\n",
        "        with open(f\"../artifacts/{idx}-{word}.dot\", \"r\") as file:\n",
        "            lines = file.readlines()\n",
        "\n",
        "        # attr\n",
        "        lines.insert(2, f'  size=\"{width},\";\\n')\n",
        "        lines.insert(3, '  ratio=\"fill\";\\n')\n",
        "        # lines.insert(4, '  mode=\"ipsep\";\\n')\n",
        "        # lines.insert(5, '  sep=1;\\n')\n",
        "        # lines.insert(6, '  overlap=false;\\n')\n",
        "\n",
        "        with open(f\"../artifacts/{word}.dot\", \"w\") as file:\n",
        "            file.writelines(lines)\n",
        "\n",
        "    neato_command = f\"neato -Tsvg ../artifacts/{idx}-{word}.dot -o ../artifacts/{idx}-{word}.svg\"\n",
        "    subprocess.run(neato_command, shell=True, check=True)\n",
        "    display(SVG(filename=f\"../artifacts/{idx}-{word}.svg\")) "
      ],
      "metadata": {
        "id": "Gl-AFN5KiHyA"
      },
      "execution_count": null,
      "outputs": []
    },
    {
      "cell_type": "markdown",
      "source": [
        "#### 3.2.1 | Example"
      ],
      "metadata": {
        "id": "XpQIZOiT1voj"
      }
    },
    {
      "cell_type": "code",
      "source": [
        "dot_viz_brkd(\"女郎花\")"
      ],
      "metadata": {
        "id": "BGi4Qy9XkVb8"
      },
      "execution_count": null,
      "outputs": []
    },
    {
      "cell_type": "code",
      "source": [],
      "metadata": {
        "id": "M1BuHUJK_UQG"
      },
      "execution_count": null,
      "outputs": []
    }
  ]
}