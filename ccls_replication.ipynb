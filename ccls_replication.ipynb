{
  "nbformat": 4,
  "nbformat_minor": 0,
  "metadata": {
    "colab": {
      "provenance": [],
      "toc_visible": true,
      "authorship_tag": "ABX9TyNiWzVB1Jbypx7a7T2MOxxF",
      "include_colab_link": true
    },
    "kernelspec": {
      "name": "python3",
      "display_name": "Python 3"
    },
    "language_info": {
      "name": "python"
    }
  },
  "cells": [
    {
      "cell_type": "markdown",
      "metadata": {
        "id": "view-in-github",
        "colab_type": "text"
      },
      "source": [
        "<a href=\"https://colab.research.google.com/github/nehcx/misalignVis/blob/master/ccls_replication.ipynb\" target=\"_parent\"><img src=\"https://colab.research.google.com/assets/colab-badge.svg\" alt=\"Open In Colab\"/></a>"
      ]
    },
    {
      "cell_type": "markdown",
      "source": [
        "# 1 | Requirements"
      ],
      "metadata": {
        "id": "qolxmfu1OP2o"
      }
    },
    {
      "cell_type": "code",
      "execution_count": 1,
      "metadata": {
        "colab": {
          "base_uri": "https://localhost:8080/"
        },
        "id": "gjn5Yi2hR-zV",
        "outputId": "469d2bd0-531c-4617-ee06-8104ee922866"
      },
      "outputs": [
        {
          "output_type": "stream",
          "name": "stdout",
          "text": [
            "Cloning into 'misalignVis'...\n",
            "remote: Enumerating objects: 58, done.\u001b[K\n",
            "remote: Counting objects: 100% (58/58), done.\u001b[K\n",
            "remote: Compressing objects: 100% (50/50), done.\u001b[K\n",
            "remote: Total 58 (delta 5), reused 37 (delta 2), pack-reused 0\u001b[K\n",
            "Unpacking objects: 100% (58/58), 23.52 MiB | 3.45 MiB/s, done.\n",
            "Submodule 'data/hachidaishu' (https://github.com/yamagen/hachidaishu) registered for path 'data/hachidaishu'\n",
            "Cloning into '/content/misalignVis/data/hachidaishu'...\n",
            "remote: Enumerating objects: 64, done.        \n",
            "remote: Counting objects: 100% (64/64), done.        \n",
            "remote: Compressing objects: 100% (53/53), done.        \n",
            "remote: Total 64 (delta 17), reused 52 (delta 10), pack-reused 0        \n",
            "Submodule path 'data/hachidaishu': checked out 'a0aaf7e0a42689db7ad2a78ab2eef9d5ac22341c'\n"
          ]
        }
      ],
      "source": [
        "!git clone -b master --depth=1 --recursive https://github.com/nehcx/misalignVis"
      ]
    },
    {
      "cell_type": "code",
      "source": [
        "import os\n",
        "os.chdir('/content/misalignVis')\n",
        "print(os.getcwd())"
      ],
      "metadata": {
        "colab": {
          "base_uri": "https://localhost:8080/"
        },
        "id": "To7HbyARVhiX",
        "outputId": "5a2e8b48-5315-4521-a33e-a149262c6361"
      },
      "execution_count": 2,
      "outputs": [
        {
          "output_type": "stream",
          "name": "stdout",
          "text": [
            "/content/misalignVis\n"
          ]
        }
      ]
    },
    {
      "cell_type": "code",
      "source": [
        "# !apt-get install -y python-igraph \n",
        "!pip install -r requirements.txt"
      ],
      "metadata": {
        "id": "5dOLzuh7WbRN",
        "colab": {
          "base_uri": "https://localhost:8080/",
          "height": 1000
        },
        "outputId": "353cd1e8-cd78-4ec4-b413-ada3482df873"
      },
      "execution_count": 3,
      "outputs": [
        {
          "output_type": "stream",
          "name": "stdout",
          "text": [
            "Looking in indexes: https://pypi.org/simple, https://us-python.pkg.dev/colab-wheels/public/simple/\n",
            "Collecting dill==0.3.5.1 (from -r requirements.txt (line 1))\n",
            "  Downloading dill-0.3.5.1-py2.py3-none-any.whl (95 kB)\n",
            "\u001b[2K     \u001b[90m━━━━━━━━━━━━━━━━━━━━━━━━━━━━━━━━━━━━━━━━\u001b[0m \u001b[32m95.8/95.8 kB\u001b[0m \u001b[31m4.0 MB/s\u001b[0m eta \u001b[36m0:00:00\u001b[0m\n",
            "\u001b[?25hCollecting pandas==1.4.3 (from -r requirements.txt (line 2))\n",
            "  Downloading pandas-1.4.3-cp310-cp310-manylinux_2_17_x86_64.manylinux2014_x86_64.whl (11.6 MB)\n",
            "\u001b[2K     \u001b[90m━━━━━━━━━━━━━━━━━━━━━━━━━━━━━━━━━━━━━━━\u001b[0m \u001b[32m11.6/11.6 MB\u001b[0m \u001b[31m124.2 MB/s\u001b[0m eta \u001b[36m0:00:00\u001b[0m\n",
            "\u001b[?25hCollecting omegaconf==2.2.2 (from -r requirements.txt (line 3))\n",
            "  Downloading omegaconf-2.2.2-py3-none-any.whl (79 kB)\n",
            "\u001b[2K     \u001b[90m━━━━━━━━━━━━━━━━━━━━━━━━━━━━━━━━━━━━━━━━\u001b[0m \u001b[32m79.1/79.1 kB\u001b[0m \u001b[31m12.7 MB/s\u001b[0m eta \u001b[36m0:00:00\u001b[0m\n",
            "\u001b[?25hCollecting hydra-core==1.2.0 (from -r requirements.txt (line 4))\n",
            "  Downloading hydra_core-1.2.0-py3-none-any.whl (151 kB)\n",
            "\u001b[2K     \u001b[90m━━━━━━━━━━━━━━━━━━━━━━━━━━━━━━━━━━━━━━\u001b[0m \u001b[32m151.1/151.1 kB\u001b[0m \u001b[31m23.5 MB/s\u001b[0m eta \u001b[36m0:00:00\u001b[0m\n",
            "\u001b[?25hCollecting nltk==3.7.0 (from -r requirements.txt (line 5))\n",
            "  Downloading nltk-3.7-py3-none-any.whl (1.5 MB)\n",
            "\u001b[2K     \u001b[90m━━━━━━━━━━━━━━━━━━━━━━━━━━━━━━━━━━━━━━━━\u001b[0m \u001b[32m1.5/1.5 MB\u001b[0m \u001b[31m87.9 MB/s\u001b[0m eta \u001b[36m0:00:00\u001b[0m\n",
            "\u001b[?25hCollecting pytest==6.2.2 (from -r requirements.txt (line 6))\n",
            "  Downloading pytest-6.2.2-py3-none-any.whl (280 kB)\n",
            "\u001b[2K     \u001b[90m━━━━━━━━━━━━━━━━━━━━━━━━━━━━━━━━━━━━━━\u001b[0m \u001b[32m280.1/280.1 kB\u001b[0m \u001b[31m39.9 MB/s\u001b[0m eta \u001b[36m0:00:00\u001b[0m\n",
            "\u001b[?25hCollecting leidenalg==0.8.10 (from -r requirements.txt (line 7))\n",
            "  Downloading leidenalg-0.8.10-cp310-cp310-manylinux_2_17_x86_64.manylinux2014_x86_64.whl (1.3 MB)\n",
            "\u001b[2K     \u001b[90m━━━━━━━━━━━━━━━━━━━━━━━━━━━━━━━━━━━━━━━━\u001b[0m \u001b[32m1.3/1.3 MB\u001b[0m \u001b[31m82.9 MB/s\u001b[0m eta \u001b[36m0:00:00\u001b[0m\n",
            "\u001b[?25hCollecting cairocffi==1.3.0 (from -r requirements.txt (line 8))\n",
            "  Downloading cairocffi-1.3.0.tar.gz (88 kB)\n",
            "\u001b[2K     \u001b[90m━━━━━━━━━━━━━━━━━━━━━━━━━━━━━━━━━━━━━━━━\u001b[0m \u001b[32m88.8/88.8 kB\u001b[0m \u001b[31m15.6 MB/s\u001b[0m eta \u001b[36m0:00:00\u001b[0m\n",
            "\u001b[?25h  Preparing metadata (setup.py) ... \u001b[?25l\u001b[?25hdone\n",
            "Collecting chart-studio==1.1.0 (from -r requirements.txt (line 9))\n",
            "  Downloading chart_studio-1.1.0-py3-none-any.whl (64 kB)\n",
            "\u001b[2K     \u001b[90m━━━━━━━━━━━━━━━━━━━━━━━━━━━━━━━━━━━━━━━━\u001b[0m \u001b[32m64.4/64.4 kB\u001b[0m \u001b[31m9.9 MB/s\u001b[0m eta \u001b[36m0:00:00\u001b[0m\n",
            "\u001b[?25hCollecting dash==2.7.1 (from -r requirements.txt (line 10))\n",
            "  Downloading dash-2.7.1-py3-none-any.whl (9.9 MB)\n",
            "\u001b[2K     \u001b[90m━━━━━━━━━━━━━━━━━━━━━━━━━━━━━━━━━━━━━━━━\u001b[0m \u001b[32m9.9/9.9 MB\u001b[0m \u001b[31m140.2 MB/s\u001b[0m eta \u001b[36m0:00:00\u001b[0m\n",
            "\u001b[?25hCollecting dash-html-components==2.0.0 (from -r requirements.txt (line 11))\n",
            "  Downloading dash_html_components-2.0.0-py3-none-any.whl (4.1 kB)\n",
            "Collecting dash-core-components==2.0.0 (from -r requirements.txt (line 12))\n",
            "  Downloading dash_core_components-2.0.0-py3-none-any.whl (3.8 kB)\n",
            "Collecting dash-table==5.0.0 (from -r requirements.txt (line 13))\n",
            "  Downloading dash_table-5.0.0-py3-none-any.whl (3.9 kB)\n",
            "Requirement already satisfied: python-dateutil>=2.8.1 in /usr/local/lib/python3.10/dist-packages (from pandas==1.4.3->-r requirements.txt (line 2)) (2.8.2)\n",
            "Requirement already satisfied: pytz>=2020.1 in /usr/local/lib/python3.10/dist-packages (from pandas==1.4.3->-r requirements.txt (line 2)) (2022.7.1)\n",
            "Requirement already satisfied: numpy>=1.21.0 in /usr/local/lib/python3.10/dist-packages (from pandas==1.4.3->-r requirements.txt (line 2)) (1.22.4)\n",
            "Collecting antlr4-python3-runtime==4.9.* (from omegaconf==2.2.2->-r requirements.txt (line 3))\n",
            "  Downloading antlr4-python3-runtime-4.9.3.tar.gz (117 kB)\n",
            "\u001b[2K     \u001b[90m━━━━━━━━━━━━━━━━━━━━━━━━━━━━━━━━━━━━━━\u001b[0m \u001b[32m117.0/117.0 kB\u001b[0m \u001b[31m18.1 MB/s\u001b[0m eta \u001b[36m0:00:00\u001b[0m\n",
            "\u001b[?25h  Preparing metadata (setup.py) ... \u001b[?25l\u001b[?25hdone\n",
            "Requirement already satisfied: PyYAML>=5.1.0 in /usr/local/lib/python3.10/dist-packages (from omegaconf==2.2.2->-r requirements.txt (line 3)) (6.0)\n",
            "Requirement already satisfied: packaging in /usr/local/lib/python3.10/dist-packages (from hydra-core==1.2.0->-r requirements.txt (line 4)) (23.1)\n",
            "Requirement already satisfied: click in /usr/local/lib/python3.10/dist-packages (from nltk==3.7.0->-r requirements.txt (line 5)) (8.1.3)\n",
            "Requirement already satisfied: joblib in /usr/local/lib/python3.10/dist-packages (from nltk==3.7.0->-r requirements.txt (line 5)) (1.2.0)\n",
            "Requirement already satisfied: regex>=2021.8.3 in /usr/local/lib/python3.10/dist-packages (from nltk==3.7.0->-r requirements.txt (line 5)) (2022.10.31)\n",
            "Requirement already satisfied: tqdm in /usr/local/lib/python3.10/dist-packages (from nltk==3.7.0->-r requirements.txt (line 5)) (4.65.0)\n",
            "Requirement already satisfied: attrs>=19.2.0 in /usr/local/lib/python3.10/dist-packages (from pytest==6.2.2->-r requirements.txt (line 6)) (23.1.0)\n",
            "Requirement already satisfied: iniconfig in /usr/local/lib/python3.10/dist-packages (from pytest==6.2.2->-r requirements.txt (line 6)) (2.0.0)\n",
            "Collecting pluggy<1.0.0a1,>=0.12 (from pytest==6.2.2->-r requirements.txt (line 6))\n",
            "  Downloading pluggy-0.13.1-py2.py3-none-any.whl (18 kB)\n",
            "Collecting py>=1.8.2 (from pytest==6.2.2->-r requirements.txt (line 6))\n",
            "  Downloading py-1.11.0-py2.py3-none-any.whl (98 kB)\n",
            "\u001b[2K     \u001b[90m━━━━━━━━━━━━━━━━━━━━━━━━━━━━━━━━━━━━━━━━\u001b[0m \u001b[32m98.7/98.7 kB\u001b[0m \u001b[31m15.3 MB/s\u001b[0m eta \u001b[36m0:00:00\u001b[0m\n",
            "\u001b[?25hRequirement already satisfied: toml in /usr/local/lib/python3.10/dist-packages (from pytest==6.2.2->-r requirements.txt (line 6)) (0.10.2)\n",
            "Collecting igraph<0.10,>=0.9.0 (from leidenalg==0.8.10->-r requirements.txt (line 7))\n",
            "  Downloading igraph-0.9.11-cp310-cp310-manylinux_2_17_x86_64.manylinux2014_x86_64.whl (3.2 MB)\n",
            "\u001b[2K     \u001b[90m━━━━━━━━━━━━━━━━━━━━━━━━━━━━━━━━━━━━━━━━\u001b[0m \u001b[32m3.2/3.2 MB\u001b[0m \u001b[31m91.1 MB/s\u001b[0m eta \u001b[36m0:00:00\u001b[0m\n",
            "\u001b[?25hRequirement already satisfied: cffi>=1.1.0 in /usr/local/lib/python3.10/dist-packages (from cairocffi==1.3.0->-r requirements.txt (line 8)) (1.15.1)\n",
            "Requirement already satisfied: plotly in /usr/local/lib/python3.10/dist-packages (from chart-studio==1.1.0->-r requirements.txt (line 9)) (5.13.1)\n",
            "Requirement already satisfied: requests in /usr/local/lib/python3.10/dist-packages (from chart-studio==1.1.0->-r requirements.txt (line 9)) (2.27.1)\n",
            "Collecting retrying>=1.3.3 (from chart-studio==1.1.0->-r requirements.txt (line 9))\n",
            "  Downloading retrying-1.3.4-py3-none-any.whl (11 kB)\n",
            "Requirement already satisfied: six in /usr/local/lib/python3.10/dist-packages (from chart-studio==1.1.0->-r requirements.txt (line 9)) (1.16.0)\n",
            "Requirement already satisfied: Flask>=1.0.4 in /usr/local/lib/python3.10/dist-packages (from dash==2.7.1->-r requirements.txt (line 10)) (2.2.4)\n",
            "Requirement already satisfied: pycparser in /usr/local/lib/python3.10/dist-packages (from cffi>=1.1.0->cairocffi==1.3.0->-r requirements.txt (line 8)) (2.21)\n",
            "Requirement already satisfied: Werkzeug>=2.2.2 in /usr/local/lib/python3.10/dist-packages (from Flask>=1.0.4->dash==2.7.1->-r requirements.txt (line 10)) (2.3.0)\n",
            "Requirement already satisfied: Jinja2>=3.0 in /usr/local/lib/python3.10/dist-packages (from Flask>=1.0.4->dash==2.7.1->-r requirements.txt (line 10)) (3.1.2)\n",
            "Requirement already satisfied: itsdangerous>=2.0 in /usr/local/lib/python3.10/dist-packages (from Flask>=1.0.4->dash==2.7.1->-r requirements.txt (line 10)) (2.1.2)\n",
            "Collecting texttable>=1.6.2 (from igraph<0.10,>=0.9.0->leidenalg==0.8.10->-r requirements.txt (line 7))\n",
            "  Downloading texttable-1.6.7-py2.py3-none-any.whl (10 kB)\n",
            "Requirement already satisfied: tenacity>=6.2.0 in /usr/local/lib/python3.10/dist-packages (from plotly->chart-studio==1.1.0->-r requirements.txt (line 9)) (8.2.2)\n",
            "Requirement already satisfied: urllib3<1.27,>=1.21.1 in /usr/local/lib/python3.10/dist-packages (from requests->chart-studio==1.1.0->-r requirements.txt (line 9)) (1.26.15)\n",
            "Requirement already satisfied: certifi>=2017.4.17 in /usr/local/lib/python3.10/dist-packages (from requests->chart-studio==1.1.0->-r requirements.txt (line 9)) (2022.12.7)\n",
            "Requirement already satisfied: charset-normalizer~=2.0.0 in /usr/local/lib/python3.10/dist-packages (from requests->chart-studio==1.1.0->-r requirements.txt (line 9)) (2.0.12)\n",
            "Requirement already satisfied: idna<4,>=2.5 in /usr/local/lib/python3.10/dist-packages (from requests->chart-studio==1.1.0->-r requirements.txt (line 9)) (3.4)\n",
            "Requirement already satisfied: MarkupSafe>=2.0 in /usr/local/lib/python3.10/dist-packages (from Jinja2>=3.0->Flask>=1.0.4->dash==2.7.1->-r requirements.txt (line 10)) (2.1.2)\n",
            "Building wheels for collected packages: cairocffi, antlr4-python3-runtime\n",
            "  Building wheel for cairocffi (setup.py) ... \u001b[?25l\u001b[?25hdone\n",
            "  Created wheel for cairocffi: filename=cairocffi-1.3.0-py3-none-any.whl size=89665 sha256=aee56e003b64d2d273e79dfc4be6793bfc87258d7d72ead6f69da23af45c89db\n",
            "  Stored in directory: /root/.cache/pip/wheels/c3/77/5d/2392b6f4bc3fa25bdcc58f3b63e23ab0f571a6e807836b22ab\n",
            "  Building wheel for antlr4-python3-runtime (setup.py) ... \u001b[?25l\u001b[?25hdone\n",
            "  Created wheel for antlr4-python3-runtime: filename=antlr4_python3_runtime-4.9.3-py3-none-any.whl size=144554 sha256=677d5cf0ea4c5a05962c6604dae88b45cabec28375f096ac1f1ce66ca2a71729\n",
            "  Stored in directory: /root/.cache/pip/wheels/12/93/dd/1f6a127edc45659556564c5730f6d4e300888f4bca2d4c5a88\n",
            "Successfully built cairocffi antlr4-python3-runtime\n",
            "Installing collected packages: texttable, dash-table, dash-html-components, dash-core-components, antlr4-python3-runtime, retrying, py, pluggy, omegaconf, nltk, igraph, dill, pytest, pandas, leidenalg, hydra-core, chart-studio, cairocffi, dash\n",
            "  Attempting uninstall: pluggy\n",
            "    Found existing installation: pluggy 1.0.0\n",
            "    Uninstalling pluggy-1.0.0:\n",
            "      Successfully uninstalled pluggy-1.0.0\n",
            "  Attempting uninstall: nltk\n",
            "    Found existing installation: nltk 3.8.1\n",
            "    Uninstalling nltk-3.8.1:\n",
            "      Successfully uninstalled nltk-3.8.1\n",
            "  Attempting uninstall: pytest\n",
            "    Found existing installation: pytest 7.2.2\n",
            "    Uninstalling pytest-7.2.2:\n",
            "      Successfully uninstalled pytest-7.2.2\n",
            "  Attempting uninstall: pandas\n",
            "    Found existing installation: pandas 1.5.3\n",
            "    Uninstalling pandas-1.5.3:\n",
            "      Successfully uninstalled pandas-1.5.3\n",
            "\u001b[31mERROR: pip's dependency resolver does not currently take into account all the packages that are installed. This behaviour is the source of the following dependency conflicts.\n",
            "google-colab 1.0.0 requires pandas==1.5.3, but you have pandas 1.4.3 which is incompatible.\u001b[0m\u001b[31m\n",
            "\u001b[0mSuccessfully installed antlr4-python3-runtime-4.9.3 cairocffi-1.3.0 chart-studio-1.1.0 dash-2.7.1 dash-core-components-2.0.0 dash-html-components-2.0.0 dash-table-5.0.0 dill-0.3.5.1 hydra-core-1.2.0 igraph-0.9.11 leidenalg-0.8.10 nltk-3.7 omegaconf-2.2.2 pandas-1.4.3 pluggy-0.13.1 py-1.11.0 pytest-6.2.2 retrying-1.3.4 texttable-1.6.7\n"
          ]
        },
        {
          "output_type": "display_data",
          "data": {
            "application/vnd.colab-display-data+json": {
              "pip_warning": {
                "packages": [
                  "pydevd_plugins"
                ]
              }
            }
          },
          "metadata": {}
        }
      ]
    },
    {
      "cell_type": "code",
      "source": [
        "!apt-get install graphviz libgraphviz-dev\n",
        "!pip install pygraphviz\n",
        "!pip install dash jupyter-dash"
      ],
      "metadata": {
        "id": "AKwgFnwoe1VQ",
        "colab": {
          "base_uri": "https://localhost:8080/"
        },
        "outputId": "38109751-5d97-457e-d7a2-d4a1a896be67"
      },
      "execution_count": 4,
      "outputs": [
        {
          "output_type": "stream",
          "name": "stdout",
          "text": [
            "Reading package lists... Done\n",
            "Building dependency tree       \n",
            "Reading state information... Done\n",
            "graphviz is already the newest version (2.42.2-3build2).\n",
            "The following additional packages will be installed:\n",
            "  libgail-common libgail18 libgtk2.0-0 libgtk2.0-bin libgtk2.0-common\n",
            "  libgvc6-plugins-gtk libxdot4\n",
            "Suggested packages:\n",
            "  gvfs\n",
            "The following NEW packages will be installed:\n",
            "  libgail-common libgail18 libgraphviz-dev libgtk2.0-0 libgtk2.0-bin\n",
            "  libgtk2.0-common libgvc6-plugins-gtk libxdot4\n",
            "0 upgraded, 8 newly installed, 0 to remove and 34 not upgraded.\n",
            "Need to get 2,148 kB of archives.\n",
            "After this operation, 7,427 kB of additional disk space will be used.\n",
            "Get:1 http://archive.ubuntu.com/ubuntu focal/main amd64 libgtk2.0-common all 2.24.32-4ubuntu4 [126 kB]\n",
            "Get:2 http://archive.ubuntu.com/ubuntu focal/main amd64 libgtk2.0-0 amd64 2.24.32-4ubuntu4 [1,791 kB]\n",
            "Get:3 http://archive.ubuntu.com/ubuntu focal/main amd64 libgail18 amd64 2.24.32-4ubuntu4 [14.7 kB]\n",
            "Get:4 http://archive.ubuntu.com/ubuntu focal/main amd64 libgail-common amd64 2.24.32-4ubuntu4 [116 kB]\n",
            "Get:5 http://archive.ubuntu.com/ubuntu focal/universe amd64 libxdot4 amd64 2.42.2-3build2 [15.4 kB]\n",
            "Get:6 http://archive.ubuntu.com/ubuntu focal/universe amd64 libgvc6-plugins-gtk amd64 2.42.2-3build2 [20.6 kB]\n",
            "Get:7 http://archive.ubuntu.com/ubuntu focal/universe amd64 libgraphviz-dev amd64 2.42.2-3build2 [57.2 kB]\n",
            "Get:8 http://archive.ubuntu.com/ubuntu focal/main amd64 libgtk2.0-bin amd64 2.24.32-4ubuntu4 [7,728 B]\n",
            "Fetched 2,148 kB in 1s (1,723 kB/s)\n",
            "Selecting previously unselected package libgtk2.0-common.\n",
            "(Reading database ... 122545 files and directories currently installed.)\n",
            "Preparing to unpack .../0-libgtk2.0-common_2.24.32-4ubuntu4_all.deb ...\n",
            "Unpacking libgtk2.0-common (2.24.32-4ubuntu4) ...\n",
            "Selecting previously unselected package libgtk2.0-0:amd64.\n",
            "Preparing to unpack .../1-libgtk2.0-0_2.24.32-4ubuntu4_amd64.deb ...\n",
            "Unpacking libgtk2.0-0:amd64 (2.24.32-4ubuntu4) ...\n",
            "Selecting previously unselected package libgail18:amd64.\n",
            "Preparing to unpack .../2-libgail18_2.24.32-4ubuntu4_amd64.deb ...\n",
            "Unpacking libgail18:amd64 (2.24.32-4ubuntu4) ...\n",
            "Selecting previously unselected package libgail-common:amd64.\n",
            "Preparing to unpack .../3-libgail-common_2.24.32-4ubuntu4_amd64.deb ...\n",
            "Unpacking libgail-common:amd64 (2.24.32-4ubuntu4) ...\n",
            "Selecting previously unselected package libxdot4:amd64.\n",
            "Preparing to unpack .../4-libxdot4_2.42.2-3build2_amd64.deb ...\n",
            "Unpacking libxdot4:amd64 (2.42.2-3build2) ...\n",
            "Selecting previously unselected package libgvc6-plugins-gtk.\n",
            "Preparing to unpack .../5-libgvc6-plugins-gtk_2.42.2-3build2_amd64.deb ...\n",
            "Unpacking libgvc6-plugins-gtk (2.42.2-3build2) ...\n",
            "Selecting previously unselected package libgraphviz-dev:amd64.\n",
            "Preparing to unpack .../6-libgraphviz-dev_2.42.2-3build2_amd64.deb ...\n",
            "Unpacking libgraphviz-dev:amd64 (2.42.2-3build2) ...\n",
            "Selecting previously unselected package libgtk2.0-bin.\n",
            "Preparing to unpack .../7-libgtk2.0-bin_2.24.32-4ubuntu4_amd64.deb ...\n",
            "Unpacking libgtk2.0-bin (2.24.32-4ubuntu4) ...\n",
            "Setting up libxdot4:amd64 (2.42.2-3build2) ...\n",
            "Setting up libgtk2.0-common (2.24.32-4ubuntu4) ...\n",
            "Setting up libgtk2.0-0:amd64 (2.24.32-4ubuntu4) ...\n",
            "Setting up libgvc6-plugins-gtk (2.42.2-3build2) ...\n",
            "Setting up libgail18:amd64 (2.24.32-4ubuntu4) ...\n",
            "Setting up libgtk2.0-bin (2.24.32-4ubuntu4) ...\n",
            "Setting up libgail-common:amd64 (2.24.32-4ubuntu4) ...\n",
            "Setting up libgraphviz-dev:amd64 (2.42.2-3build2) ...\n",
            "Processing triggers for man-db (2.9.1-1) ...\n",
            "Processing triggers for libc-bin (2.31-0ubuntu9.9) ...\n",
            "Looking in indexes: https://pypi.org/simple, https://us-python.pkg.dev/colab-wheels/public/simple/\n",
            "Collecting pygraphviz\n",
            "  Downloading pygraphviz-1.10.zip (120 kB)\n",
            "\u001b[2K     \u001b[90m━━━━━━━━━━━━━━━━━━━━━━━━━━━━━━━━━━━━━━━\u001b[0m \u001b[32m120.6/120.6 kB\u001b[0m \u001b[31m4.0 MB/s\u001b[0m eta \u001b[36m0:00:00\u001b[0m\n",
            "\u001b[?25h  Preparing metadata (setup.py) ... \u001b[?25l\u001b[?25hdone\n",
            "Building wheels for collected packages: pygraphviz\n",
            "  Building wheel for pygraphviz (setup.py) ... \u001b[?25l\u001b[?25hdone\n",
            "  Created wheel for pygraphviz: filename=pygraphviz-1.10-cp310-cp310-linux_x86_64.whl size=184039 sha256=f761c83ca2190b01f4f97c58bd86f02d3d03412c83817fce2d7d033c99279845\n",
            "  Stored in directory: /root/.cache/pip/wheels/e9/50/02/d9d68f6c947a928e517d5cd9af0ab007c1274fdba95fa9cbe3\n",
            "Successfully built pygraphviz\n",
            "Installing collected packages: pygraphviz\n",
            "Successfully installed pygraphviz-1.10\n",
            "Looking in indexes: https://pypi.org/simple, https://us-python.pkg.dev/colab-wheels/public/simple/\n",
            "Requirement already satisfied: dash in /usr/local/lib/python3.10/dist-packages (2.7.1)\n",
            "Collecting jupyter-dash\n",
            "  Downloading jupyter_dash-0.4.2-py3-none-any.whl (23 kB)\n",
            "Requirement already satisfied: Flask>=1.0.4 in /usr/local/lib/python3.10/dist-packages (from dash) (2.2.4)\n",
            "Requirement already satisfied: plotly>=5.0.0 in /usr/local/lib/python3.10/dist-packages (from dash) (5.13.1)\n",
            "Requirement already satisfied: dash-html-components==2.0.0 in /usr/local/lib/python3.10/dist-packages (from dash) (2.0.0)\n",
            "Requirement already satisfied: dash-core-components==2.0.0 in /usr/local/lib/python3.10/dist-packages (from dash) (2.0.0)\n",
            "Requirement already satisfied: dash-table==5.0.0 in /usr/local/lib/python3.10/dist-packages (from dash) (5.0.0)\n",
            "Requirement already satisfied: requests in /usr/local/lib/python3.10/dist-packages (from jupyter-dash) (2.27.1)\n",
            "Requirement already satisfied: retrying in /usr/local/lib/python3.10/dist-packages (from jupyter-dash) (1.3.4)\n",
            "Requirement already satisfied: ipython in /usr/local/lib/python3.10/dist-packages (from jupyter-dash) (7.34.0)\n",
            "Requirement already satisfied: ipykernel in /usr/local/lib/python3.10/dist-packages (from jupyter-dash) (5.5.6)\n",
            "Collecting ansi2html (from jupyter-dash)\n",
            "  Downloading ansi2html-1.8.0-py3-none-any.whl (16 kB)\n",
            "Requirement already satisfied: nest-asyncio in /usr/local/lib/python3.10/dist-packages (from jupyter-dash) (1.5.6)\n",
            "Requirement already satisfied: Werkzeug>=2.2.2 in /usr/local/lib/python3.10/dist-packages (from Flask>=1.0.4->dash) (2.3.0)\n",
            "Requirement already satisfied: Jinja2>=3.0 in /usr/local/lib/python3.10/dist-packages (from Flask>=1.0.4->dash) (3.1.2)\n",
            "Requirement already satisfied: itsdangerous>=2.0 in /usr/local/lib/python3.10/dist-packages (from Flask>=1.0.4->dash) (2.1.2)\n",
            "Requirement already satisfied: click>=8.0 in /usr/local/lib/python3.10/dist-packages (from Flask>=1.0.4->dash) (8.1.3)\n",
            "Requirement already satisfied: tenacity>=6.2.0 in /usr/local/lib/python3.10/dist-packages (from plotly>=5.0.0->dash) (8.2.2)\n",
            "Requirement already satisfied: ipython-genutils in /usr/local/lib/python3.10/dist-packages (from ipykernel->jupyter-dash) (0.2.0)\n",
            "Requirement already satisfied: traitlets>=4.1.0 in /usr/local/lib/python3.10/dist-packages (from ipykernel->jupyter-dash) (5.7.1)\n",
            "Requirement already satisfied: jupyter-client in /usr/local/lib/python3.10/dist-packages (from ipykernel->jupyter-dash) (6.1.12)\n",
            "Requirement already satisfied: tornado>=4.2 in /usr/local/lib/python3.10/dist-packages (from ipykernel->jupyter-dash) (6.3.1)\n",
            "Requirement already satisfied: setuptools>=18.5 in /usr/local/lib/python3.10/dist-packages (from ipython->jupyter-dash) (67.7.2)\n",
            "Collecting jedi>=0.16 (from ipython->jupyter-dash)\n",
            "  Downloading jedi-0.18.2-py2.py3-none-any.whl (1.6 MB)\n",
            "\u001b[2K     \u001b[90m━━━━━━━━━━━━━━━━━━━━━━━━━━━━━━━━━━━━━━━━\u001b[0m \u001b[32m1.6/1.6 MB\u001b[0m \u001b[31m24.6 MB/s\u001b[0m eta \u001b[36m0:00:00\u001b[0m\n",
            "\u001b[?25hRequirement already satisfied: decorator in /usr/local/lib/python3.10/dist-packages (from ipython->jupyter-dash) (4.4.2)\n",
            "Requirement already satisfied: pickleshare in /usr/local/lib/python3.10/dist-packages (from ipython->jupyter-dash) (0.7.5)\n",
            "Requirement already satisfied: prompt-toolkit!=3.0.0,!=3.0.1,<3.1.0,>=2.0.0 in /usr/local/lib/python3.10/dist-packages (from ipython->jupyter-dash) (3.0.38)\n",
            "Requirement already satisfied: pygments in /usr/local/lib/python3.10/dist-packages (from ipython->jupyter-dash) (2.14.0)\n",
            "Requirement already satisfied: backcall in /usr/local/lib/python3.10/dist-packages (from ipython->jupyter-dash) (0.2.0)\n",
            "Requirement already satisfied: matplotlib-inline in /usr/local/lib/python3.10/dist-packages (from ipython->jupyter-dash) (0.1.6)\n",
            "Requirement already satisfied: pexpect>4.3 in /usr/local/lib/python3.10/dist-packages (from ipython->jupyter-dash) (4.8.0)\n",
            "Requirement already satisfied: urllib3<1.27,>=1.21.1 in /usr/local/lib/python3.10/dist-packages (from requests->jupyter-dash) (1.26.15)\n",
            "Requirement already satisfied: certifi>=2017.4.17 in /usr/local/lib/python3.10/dist-packages (from requests->jupyter-dash) (2022.12.7)\n",
            "Requirement already satisfied: charset-normalizer~=2.0.0 in /usr/local/lib/python3.10/dist-packages (from requests->jupyter-dash) (2.0.12)\n",
            "Requirement already satisfied: idna<4,>=2.5 in /usr/local/lib/python3.10/dist-packages (from requests->jupyter-dash) (3.4)\n",
            "Requirement already satisfied: six>=1.7.0 in /usr/local/lib/python3.10/dist-packages (from retrying->jupyter-dash) (1.16.0)\n",
            "Requirement already satisfied: parso<0.9.0,>=0.8.0 in /usr/local/lib/python3.10/dist-packages (from jedi>=0.16->ipython->jupyter-dash) (0.8.3)\n",
            "Requirement already satisfied: MarkupSafe>=2.0 in /usr/local/lib/python3.10/dist-packages (from Jinja2>=3.0->Flask>=1.0.4->dash) (2.1.2)\n",
            "Requirement already satisfied: ptyprocess>=0.5 in /usr/local/lib/python3.10/dist-packages (from pexpect>4.3->ipython->jupyter-dash) (0.7.0)\n",
            "Requirement already satisfied: wcwidth in /usr/local/lib/python3.10/dist-packages (from prompt-toolkit!=3.0.0,!=3.0.1,<3.1.0,>=2.0.0->ipython->jupyter-dash) (0.2.6)\n",
            "Requirement already satisfied: jupyter-core>=4.6.0 in /usr/local/lib/python3.10/dist-packages (from jupyter-client->ipykernel->jupyter-dash) (5.3.0)\n",
            "Requirement already satisfied: pyzmq>=13 in /usr/local/lib/python3.10/dist-packages (from jupyter-client->ipykernel->jupyter-dash) (23.2.1)\n",
            "Requirement already satisfied: python-dateutil>=2.1 in /usr/local/lib/python3.10/dist-packages (from jupyter-client->ipykernel->jupyter-dash) (2.8.2)\n",
            "Requirement already satisfied: platformdirs>=2.5 in /usr/local/lib/python3.10/dist-packages (from jupyter-core>=4.6.0->jupyter-client->ipykernel->jupyter-dash) (3.3.0)\n",
            "Installing collected packages: jedi, ansi2html, jupyter-dash\n",
            "Successfully installed ansi2html-1.8.0 jedi-0.18.2 jupyter-dash-0.4.2\n"
          ]
        }
      ]
    },
    {
      "cell_type": "code",
      "source": [],
      "metadata": {
        "id": "A_lOHfapPh9w"
      },
      "execution_count": null,
      "outputs": []
    },
    {
      "cell_type": "code",
      "source": [
        "!make build_bitext  # make bitexts.csv\n",
        "#!make build_metacode2lemma_dict  # make metacode2lemma dictionary\n",
        "!make train_save_ibm2  # train and save ibm model 2\n",
        "!make save_db "
      ],
      "metadata": {
        "colab": {
          "base_uri": "https://localhost:8080/"
        },
        "id": "tkZZyhCc3g4z",
        "outputId": "eafe2c9b-f2c7-4de3-e226-9b3481589976"
      },
      "execution_count": 5,
      "outputs": [
        {
          "output_type": "stream",
          "name": "stdout",
          "text": [
            "cd src;\tpython make_bitext.py -s ../data/hachidaishu/hachidai.db -t ../data/translations/all_translations.txt -o ../cache/bitexts.csv\n",
            "2023-05-28 16:24:05,742 [INFO] args: Namespace(src_path='../data/hachidaishu/hachidai.db', tar_path='../data/translations/all_translations.txt', out_path='../cache/bitexts.csv')\n",
            "2023-05-28 16:24:05,742 [INFO] Loading ../data/hachidaishu/hachidai.db for Kokinwakashu texts...\n",
            "2023-05-28 16:24:14,098 [INFO] Loading ../data/translations/all_translations.txt for kaneko's traslation...\n",
            "2023-05-28 16:24:29,322 [INFO] Loading ../data/translations/all_translations.txt for katagiri's traslation...\n",
            "2023-05-28 16:24:42,490 [INFO] Loading ../data/translations/all_translations.txt for kojimaarai's traslation...\n",
            "2023-05-28 16:24:55,028 [INFO] Loading ../data/translations/all_translations.txt for komachiya's traslation...\n",
            "2023-05-28 16:25:06,344 [INFO] Loading ../data/translations/all_translations.txt for kubota's traslation...\n",
            "2023-05-28 16:25:18,440 [INFO] Loading ../data/translations/all_translations.txt for kyusojin's traslation...\n",
            "2023-05-28 16:25:31,113 [INFO] Loading ../data/translations/all_translations.txt for matsuda's traslation...\n",
            "2023-05-28 16:25:43,201 [INFO] Loading ../data/translations/all_translations.txt for okumura's traslation...\n",
            "2023-05-28 16:25:55,343 [INFO] Loading ../data/translations/all_translations.txt for ozawa's traslation...\n",
            "2023-05-28 16:26:08,061 [INFO] Loading ../data/translations/all_translations.txt for takeoka's traslation...\n",
            "2023-05-28 16:26:19,419 [INFO] Concating bitexts...\n",
            "2023-05-28 16:26:19,593 [INFO] Made bitexts.\n",
            "cd src; python train_save_model.py -c ../cache/bitexts.csv -f ibm2_fwd.model -b ibm2_bwd.model -m ibm2\n",
            "2023-05-28 16:26:21,178 [INFO] args: Namespace(fn_bwd='ibm2_bwd.model', corpus_path='../cache/bitexts.csv', fn_fwd='ibm2_fwd.model', method='ibm2')\n",
            "2023-05-28 16:26:21,305 [INFO] Training IBM model 2...\n",
            "2023-05-28 16:26:21,371 Setting JobRuntime:name=UNKNOWN_NAME\n",
            "2023-05-28 16:26:21,371 Setting JobRuntime:name=utils\n",
            "2023-05-28 16:26:21,496 [INFO] Training from source to target...\n",
            "2023-05-28 16:36:33,382 [INFO] Training from target to source...\n",
            "2023-05-28 16:47:15,759 [INFO] Saving models to ../model...\n",
            "2023-05-28 16:47:32,159 [INFO] Done.\n",
            "cd src; python bitexts.py -o ../cache/bitexts.db -m ibm2 -t kaneko katagiri kojimaarai komachiya kubota kyusojin matsuda okumura ozawa takeoka\n",
            "2023-05-28 16:47:33,830 [INFO] args: Namespace(translators=['kaneko', 'katagiri', 'kojimaarai', 'komachiya', 'kubota', 'kyusojin', 'matsuda', 'okumura', 'ozawa', 'takeoka'], method='ibm2', output_path='../cache/bitexts.db')\n",
            "2023-05-28 16:47:33,831 [INFO] Loading DB...\n",
            "2023-05-28 16:47:47,175 [INFO] Saving DB...\n",
            "2023-05-28 16:48:08,831 [INFO] Done.\n"
          ]
        }
      ]
    },
    {
      "cell_type": "code",
      "source": [
        "!cp data/metacode2en.pkl cache/metacode2lemma_tar.pkl"
      ],
      "metadata": {
        "id": "0zYtg2OMueKS"
      },
      "execution_count": 6,
      "outputs": []
    },
    {
      "cell_type": "markdown",
      "source": [
        "# 2 | Dashboard"
      ],
      "metadata": {
        "id": "lzFSwoaT5YTq"
      }
    },
    {
      "cell_type": "code",
      "source": [
        "import subprocess\n",
        "os.chdir('/content/misalignVis/src')\n",
        "print(os.getcwd())"
      ],
      "metadata": {
        "colab": {
          "base_uri": "https://localhost:8080/"
        },
        "id": "hFpJOXnTwK5L",
        "outputId": "c602cd68-2b3a-4430-ac53-3b88f77482d6"
      },
      "execution_count": 7,
      "outputs": [
        {
          "output_type": "stream",
          "name": "stdout",
          "text": [
            "/content/misalignVis/src\n"
          ]
        }
      ]
    },
    {
      "cell_type": "code",
      "source": [
        "\"\"\"Dash board.\"\"\"\n",
        "import pandas as pd\n",
        "from plotly.graph_objs import Scatter, Layout, Figure\n",
        "from plotly.graph_objs.layout import XAxis, YAxis, Margin\n",
        "from jupyter_dash import JupyterDash\n",
        "from dash import dcc, html, dash_table\n",
        "from dash.dependencies import Input, Output, State\n",
        "from bitexts import AlignmentInfo\n",
        "from utils import load_pickle, lemma2metacode\n",
        "from visualize_indivisual import draw_plotly_by_translator_by_poem\n",
        "from visualize_aggregate_translator import draw_plotly_by_translator\n",
        "from visualize_alignment import query, alignment_table, visualize_heatmap \n",
        "\n",
        "fullname2id_map = {\n",
        "    \"[KNK/金子] Kaneko, Motoomi (1933)\": \"kaneko\",\n",
        "    \"[KBT/窪田] Kubota, Utsubo (1960)\": \"kubota\",\n",
        "    \"[MTD/松田] Matsuda, Takeo (1968)\": \"matsuda\",\n",
        "    \"[OZW/小沢] Ozawa, Masao (1971)\": \"ozawa\",\n",
        "    \"[TKOK/竹岡] Takeoka, Masao (1976)\": \"takeoka\",  \n",
        "    \"[OKMR/奥村] Okumura, Tsuneya (1978)\": \"okumura\",\n",
        "    \"[KSJ/久曽神] Kyusojin, Hitachi (1979)\": \"kyusojin\",\n",
        "    \"[KMCY/小町谷] Komachiya, Teruhiko (1982)\": \"komachiya\",\n",
        "    \"[K&A/小島・新井] Kojima, Noriyuki and Arai, Eizo (1989)\": \"kojimaarai\",\n",
        "    \"[KTGR/片桐] Katagiri, Yoichi (1998)\": \"katagiri\",\n",
        "}\n",
        "translator_lst = fullname2id_map.keys()\n",
        "metacode2lemma_map_src = load_pickle(\"../cache/metacode2lemma_src.pkl\")\n",
        "word_lst = [k + \":\" + v  for k, v in metacode2lemma_map_src.items() if\n",
        "            v in [\"梅\", \"女郎花\", \"菊\", \"桜\", \"松\", \"山吹\"]]\n",
        "word_lst.sort()\n",
        "with open(\"../README-app.md\", 'r') as f: \n",
        "    readme = f.read()\n",
        "\n",
        "def _blank(width, height, text, font_size): \n",
        "    Xn = [0]\n",
        "    Yn = [0]\n",
        "    trace = Scatter(\n",
        "        x=Xn,\n",
        "        y=Yn,\n",
        "        mode=\"text\",\n",
        "    )\n",
        "    annotation = text\n",
        "    data = [trace]\n",
        "    axis = dict(\n",
        "        showline=False, \n",
        "        zeroline=False,\n",
        "        showgrid=False,\n",
        "        showticklabels=False,\n",
        "        title=\"\",\n",
        "    )\n",
        "    layout = Layout(\n",
        "        # title=title,\n",
        "        paper_bgcolor=\"rgba(0,0,0,0)\",\n",
        "        plot_bgcolor=\"rgba(0,0,0,0)\",\n",
        "        font=dict(size=16),\n",
        "        showlegend=False,\n",
        "        autosize=True,\n",
        "        width=width,\n",
        "        height=height,\n",
        "        xaxis=XAxis(axis),\n",
        "        yaxis=YAxis(axis),\n",
        "        margin=Margin(\n",
        "            l=0,\n",
        "            r=0,\n",
        "            b=85,\n",
        "            t=40,\n",
        "        ),\n",
        "        hovermode=\"closest\",\n",
        "        annotations=\n",
        "[\n",
        "            dict(\n",
        "                showarrow=False,\n",
        "                text=annotation,\n",
        "                xref=\"paper\",\n",
        "                yref=\"paper\",\n",
        "                x=0,\n",
        "                y=0,\n",
        "                xanchor=\"left\",\n",
        "                yanchor=\"bottom\",\n",
        "                font=dict(size=font_size),\n",
        "            )\n",
        "        ],\n",
        "    )\n",
        "\n",
        "    fig = Figure(data=data, layout=layout)\n",
        "    return fig\n",
        "\n",
        "app = JupyterDash(\n",
        "    __name__,\n",
        "    meta_tags=[\n",
        "        {\n",
        "            \"name\": \"viewport\", \n",
        "            \"content\": \"width=device-width, initial-scale=1\"\n",
        "        }\n",
        "    ],\n",
        ")\n",
        "\n",
        "app.layout = html.Div(\n",
        "    children=[\n",
        "        # title\n",
        "        html.H1(\n",
        "            children=\"\"\"\n",
        "            Dashboard for visualizing word alignment and misalignment between \n",
        "            classical poetic Japanese and its contemporary translations\n",
        "            \"\"\",\n",
        "        ),\n",
        "        # query and intro\n",
        "        dcc.Tabs(\n",
        "            id=\"intro-and-query-tabs\",\n",
        "            value=\"what-is\",\n",
        "            parent_className=\"custom-tabs\",\n",
        "            className=\"custom-tabs-container\",\n",
        "            children=[\n",
        "                dcc.Tab(\n",
        "                    label=\"About\",\n",
        "                    value=\"what-is\",\n",
        "                    className=\"custom-tab\",\n",
        "                    selected_className=\"custom-tab--selected\",\n",
        "                    children=html.Div(\n",
        "                        className=\"control-tab\",\n",
        "                        children=[\n",
        "                            dcc.Markdown(readme),\n",
        "                        ],\n",
        "                    ),\n",
        "                ),\n",
        "                dcc.Tab(\n",
        "                    label=\"Query\",\n",
        "                    value=\"alignment-tab-select\",\n",
        "                    className=\"custom-tab\",\n",
        "                    selected_className=\"custom-tab--selected\",\n",
        "                    children=html.Div(\n",
        "                        className=\"app-controls-block\",\n",
        "                        children=[\n",
        "                            # query word and translator\n",
        "                            html.Div(\n",
        "                                [\n",
        "                                    html.Br(),\n",
        "                                    html.Div([\n",
        "                                        html.Label(\"Word:\"),\n",
        "                                        dcc.Dropdown(\n",
        "                                            id=\"target\",\n",
        "                                            options=[\n",
        "                                                {\"label\": i, \"value\": i} \n",
        "                                                for i in word_lst\n",
        "                                            ],\n",
        "                                            value=\"BG-01-5520-05-0106:女郎花\",\n",
        "                                            multi=False,\n",
        "                                        ),\n",
        "                                    ],\n",
        "                                             style={\n",
        "                                                 \"width\": \"45%\", \n",
        "                                                 \"display\": \"inline-block\",\n",
        "                                             }\n",
        "                                             ),\n",
        "\n",
        "                                    html.Div([\n",
        "                                        html.Label(\"Translator:\"),\n",
        "                                        dcc.Dropdown(\n",
        "                                            id=\"translator\",\n",
        "                                            options=[\n",
        "                                                {\"label\": i, \"value\": i} \n",
        "                                                for i in translator_lst\n",
        "                                            ],\n",
        "                                            value=\"[KNK/金子] Kaneko, Motoomi (1933)\",\n",
        "                                            multi=False,\n",
        "                                        ),\n",
        "                                    ],\n",
        "                                             style={\n",
        "                                                 \"width\": \"45%\", \n",
        "                                                 \"float\": \"right\", \n",
        "                                                 \"display\": \"inline-block\",\n",
        "                                             }\n",
        "                                             ),\n",
        "                                ],\n",
        "                            ),\n",
        "                            # query specific poem\n",
        "                            html.Br(),\n",
        "                            html.Div(\n",
        "                                [\n",
        "                                    html.Label(\n",
        "                                        \"\"\"\n",
        "                                        Query results (click cell to visualize \n",
        "                                        alignment and collective misalignment \n",
        "                                        network of the bitext on the selected \n",
        "                                        row):\n",
        "                                        \"\"\"\n",
        "                                    ),\n",
        "                                    dash_table.DataTable(\n",
        "                                        id=\"datatable-paging\",\n",
        "                                        columns=[\n",
        "                                            {\"name\": i, \"id\": i} for i in \n",
        "                                            [\"poem\", \"queried word\", \n",
        "                                             \"source text\", \"target text\"]\n",
        "                                        ],\n",
        "                                        page_current=0,\n",
        "                                        page_size=3,\n",
        "                                        page_action=\"custom\",\n",
        "                                        style_cell_conditional=[\n",
        "                                            {\"if\": {\"column_id\": \"target text\"},                                        \n",
        "                                             \"width\": \"0%\"},\n",
        "                                            {\"if\": {\"column_id\": \"source text\"},                                        \n",
        "                                             \"width\": \"70%\"},\n",
        "                                            {\"if\": {\"column_id\": \"poem\"},                                        \n",
        "                                             \"width\": \"10%\"},\n",
        "                                            {\"if\": {\"column_id\": \"queried word\"},                                        \n",
        "                                             \"width\": \"20%\"},\n",
        "                                        ],\n",
        "                                        style_cell={\n",
        "                                            \"overflow\": \"hidden\",\n",
        "                                            \"textOverflow\": \"ellipsis\",\n",
        "                                            \"maxWidth\": 0,\n",
        "                                        },\n",
        "                                    ),\n",
        "                                ],\n",
        "                            ),\n",
        "                        ],\n",
        "                    ),\n",
        "                ),\n",
        "            ],\n",
        "        ),\n",
        "\n",
        "        html.Br(),\n",
        "        dcc.Tabs(\n",
        "            id=\"result-tabs\",\n",
        "            value=\"network-tab-select\",\n",
        "            parent_className=\"custom-result-tabs\",\n",
        "            className=\"custom-result-tabs-container\",\n",
        "            children=[\n",
        "                dcc.Tab(\n",
        "                    label=\"Word alignment visualization\",\n",
        "                    value=\"alignment-tab-select\",\n",
        "                    className=\"custom-tab\",\n",
        "                    selected_className=\"custom-tab--selected\",\n",
        "                    children=html.Div(\n",
        "                        className=\"result-tab\",\n",
        "                        children=[\n",
        "                            html.Div(\n",
        "                                dcc.Graph(id=\"alignment-graph\"),\n",
        "                                style={\n",
        "                                    \"width\": \"100%\", \n",
        "                                    \"display\": \"inline-block\",\n",
        "                                },\n",
        "                            ),\n",
        "                        ],\n",
        "                    ),\n",
        "                ),\n",
        "\n",
        "                # html.Hr(),\n",
        "                dcc.Tab(\n",
        "                    label=\"Collective misalignment network visualization\",\n",
        "                    value=\"network-tab-select\",\n",
        "                    className=\"custom-tab\",\n",
        "                    selected_className=\"custom-tab--selected\",\n",
        "                    children=html.Div(\n",
        "                        className=\"result-tab\",\n",
        "                        children=[ \n",
        "                            html.Br(),\n",
        "                            html.Div(\n",
        "                                [\n",
        "                                    html.Div(\n",
        "                                        [\n",
        "                                            # html.Label(\"Selected poem\"),\n",
        "                                            dcc.Graph(\n",
        "                                                id=\"individual-network-graph\"\n",
        "                                            ), \n",
        "                                        ],       \n",
        "                                        style={\n",
        "                                            \"width\": \"50%\", \n",
        "                                            \"float\": \"left\", \n",
        "                                            \"display\": \"inline-block\",\n",
        "                                        },\n",
        "                                    ),\n",
        "\n",
        "                                    html.Div(\n",
        "                                        [\n",
        "                                            # html.Label(\"All queried poems\"),\n",
        "                                            dcc.Graph(\n",
        "                                                id=\"translator-network-graph\"\n",
        "                                            ), \n",
        "                                        ],       \n",
        "                                        style={\n",
        "                                            \"width\": \"50%\", \n",
        "                                            \"float\": \"right\", \n",
        "                                            \"display\": \"inline-block\",\n",
        "                                        },\n",
        "                                    ),\n",
        "                                ],\n",
        "                            ),\n",
        "                        ],\n",
        "                    ),\n",
        "                ),\n",
        "            ],\n",
        "        ),\n",
        "    ],\n",
        "                      )\n",
        "\n",
        "\n",
        "# Data table\n",
        "@app.callback(\n",
        "    [Output(\"datatable-paging\", \"page_current\"),\n",
        "     Output(\"datatable-paging\", \"page_count\"),\n",
        "     Output(\"datatable-paging\", \"data\")],\n",
        "    [Input(\"datatable-paging\", \"page_current\"),\n",
        "     Input(\"datatable-paging\", \"page_size\"),\n",
        "     Input(\"target\", \"value\"),\n",
        "     Input(\"translator\", \"value\")],\n",
        "    [State(\"datatable-paging\", \"data\")]\n",
        ")\n",
        "def update_table(page_current, page_size, target, translator, table_data):\n",
        "    target, word = target.split(\":\")\n",
        "    translator = fullname2id_map[translator]\n",
        "    candidates = query(target, translator)\n",
        "    page_count = len(candidates) // page_size + 1\n",
        "    candidate_df = pd.DataFrame({\n",
        "        \"poem\": [candidate.poem for candidate in candidates],\n",
        "        \"source text\": [candidate.source_surface for candidate in candidates],\n",
        "        \"target text\": [candidate.target_surface for candidate in candidates],\n",
        "        \"queried word\": [word for candidate in candidates],\n",
        "    })\n",
        "    data = candidate_df.iloc[\n",
        "        page_current*page_size:(page_current+1)*page_size\n",
        "    ].to_dict(\"records\")\n",
        "    if table_data is not None:\n",
        "        try: \n",
        "            table_data[0]\n",
        "        except:\n",
        "            page_current = page_count - 1\n",
        "    return page_current, page_count, data\n",
        "\n",
        "\n",
        "# Alignment visualization and individual poem network visualization\n",
        "@app.callback(\n",
        "    [Output(\"alignment-graph\", \"figure\"),\n",
        "     Output(\"individual-network-graph\", \"figure\")],\n",
        "    [Input(\"datatable-paging\", \"active_cell\"),\n",
        "     Input(\"datatable-paging\", \"page_current\"),\n",
        "     Input(\"datatable-paging\", \"page_size\"),\n",
        "     Input(\"translator\", \"value\"),\n",
        "     Input(\"target\", \"value\")],\n",
        "    [State(\"datatable-paging\", \"data\")]\n",
        ")\n",
        "def update_alignment_and_individual_network_graph(\n",
        "        active_cell, page_current, page_size, \n",
        "        translator, target, table_data):\n",
        "    try:\n",
        "        target, word = target.split(\":\")\n",
        "        translator = fullname2id_map[translator]\n",
        "        if active_cell:\n",
        "            row = active_cell[\"row\"]\n",
        "            queied_word = table_data[row][\"queried word\"]\n",
        "            if queied_word == word:\n",
        "                idx = table_data[row][\"poem\"]\n",
        "                text = table_data[row][\"source text\"]\n",
        "            else:\n",
        "                candidates = query(target, translator)    \n",
        "                current_candidate = candidates[page_current*page_size]    \n",
        "                idx = current_candidate.poem\n",
        "                text = current_candidate.source_surface\n",
        "        else:\n",
        "            candidates = query(target, translator)    \n",
        "            current_candidate = candidates[page_current*page_size]    \n",
        "            idx = current_candidate.poem\n",
        "            text = current_candidate.source_surface\n",
        "        _, heatmap, targets = alignment_table(idx, translator, target)\n",
        "        fig_alignment = visualize_heatmap(heatmap, targets)\n",
        "        fig_alignment.update_layout(transition_duration=500)\n",
        "        fig_individual_network = draw_plotly_by_translator_by_poem(target, idx)\n",
        "        fig_individual_network.update_layout(\n",
        "            title = f\"<span style='font-size: 14px;'>{target} {word}</span>\" + \n",
        "            \"<br>\" +\n",
        "            f\"<span style='font-size: 10px;'>{text} -古今{idx}</span>\"\n",
        "        )\n",
        "        fig_individual_network.update_layout(transition_duration=500)\n",
        "        return fig_alignment, fig_individual_network\n",
        "    except:\n",
        "        return (_blank(1000, 600, \"Queried word was not found.\", 12),\n",
        "                _blank(500, 600, \"Queried word was not found.\", 12))\n",
        "\n",
        "\n",
        "# Global network visualization\n",
        "@app.callback(\n",
        "    Output(\"translator-network-graph\", \"figure\"),\n",
        "    [Input(\"target\", \"value\")]\n",
        ")\n",
        "def update_translator_network(target):\n",
        "    try:\n",
        "        target = target.split(\":\")[0]\n",
        "        fig = draw_plotly_by_translator(target)\n",
        "        fig.update_layout(transition_duration=500)\n",
        "        return fig\n",
        "    except:\n",
        "        return _blank(500, 600, \"Queried word was not found.\", 12)"
      ],
      "metadata": {
        "id": "OW7U6mVc5gX5"
      },
      "execution_count": 8,
      "outputs": []
    },
    {
      "cell_type": "code",
      "source": [
        "app.run_server(mode='inline')"
      ],
      "metadata": {
        "colab": {
          "base_uri": "https://localhost:8080/",
          "height": 672
        },
        "id": "0TOhLXGIBkeS",
        "outputId": "d3cf053a-1739-438d-91e8-fc5917229980"
      },
      "execution_count": 9,
      "outputs": [
        {
          "output_type": "display_data",
          "data": {
            "text/plain": [
              "<IPython.core.display.Javascript object>"
            ],
            "application/javascript": [
              "(async (port, path, width, height, cache, element) => {\n",
              "    if (!google.colab.kernel.accessAllowed && !cache) {\n",
              "      return;\n",
              "    }\n",
              "    element.appendChild(document.createTextNode(''));\n",
              "    const url = await google.colab.kernel.proxyPort(port, {cache});\n",
              "    const iframe = document.createElement('iframe');\n",
              "    iframe.src = new URL(path, url).toString();\n",
              "    iframe.height = height;\n",
              "    iframe.width = width;\n",
              "    iframe.style.border = 0;\n",
              "    iframe.allow = [\n",
              "        'accelerometer',\n",
              "        'autoplay',\n",
              "        'camera',\n",
              "        'clipboard-read',\n",
              "        'clipboard-write',\n",
              "        'gyroscope',\n",
              "        'magnetometer',\n",
              "        'microphone',\n",
              "        'serial',\n",
              "        'usb',\n",
              "        'xr-spatial-tracking',\n",
              "    ].join('; ');\n",
              "    element.appendChild(iframe);\n",
              "  })(8050, \"/\", \"100%\", 650, false, window.element)"
            ]
          },
          "metadata": {}
        }
      ]
    },
    {
      "cell_type": "markdown",
      "source": [
        "# 3 | Visualization by Graphviz\n"
      ],
      "metadata": {
        "id": "NtM2FuzFOb_4"
      }
    },
    {
      "cell_type": "markdown",
      "source": [
        "## 3.1 | Aggregate Visualization"
      ],
      "metadata": {
        "id": "P9nNC4ILcplc"
      }
    },
    {
      "cell_type": "code",
      "source": [
        "import subprocess\n",
        "\n",
        "os.chdir('/content/misalignVis/src')\n",
        "print(os.getcwd())"
      ],
      "metadata": {
        "colab": {
          "base_uri": "https://localhost:8080/"
        },
        "id": "m8SRVSMPKxA4",
        "outputId": "38ecba53-a52d-4dd8-8521-0d3ad8324c29"
      },
      "execution_count": 8,
      "outputs": [
        {
          "output_type": "stream",
          "name": "stdout",
          "text": [
            "/content/misalignVis/src\n"
          ]
        }
      ]
    },
    {
      "cell_type": "code",
      "source": [
        "import re\n",
        "import igraph as ig\n",
        "from dataclasses import astuple, asdict\n",
        "from utils import load_pickle, lemma2metacode\n",
        "import bitexts\n",
        "from bitexts import AlignmentInfo\n",
        "import math\n",
        "from IPython.display import SVG"
      ],
      "metadata": {
        "id": "FATSLPQVNEUr"
      },
      "execution_count": 9,
      "outputs": []
    },
    {
      "cell_type": "code",
      "source": [
        "DB = load_pickle(\"../cache/bitexts.db\")\n",
        "translator_lst = DB.translators\n",
        "metacode2lemma_map_src = load_pickle(\"../cache/metacode2lemma_src.pkl\")\n",
        "metacode2lemma_map_tar = load_pickle(\"../cache/metacode2lemma_tar.pkl\")\n",
        "romaji2kanji_map = {\n",
        "    \"kaneko\": \"KNK\",\n",
        "    \"katagiri\": \"KTGR\",\n",
        "    \"kojimaarai\": \"K&A\",\n",
        "    \"komachiya\": \"KMCY\",\n",
        "    \"kubota\": \"KBT\",\n",
        "    \"kyusojin\": \"KSJ\",\n",
        "    \"matsuda\": \"MTD\",\n",
        "    \"okumura\": \"OKMR\",\n",
        "    \"ozawa\": \"OZW\",\n",
        "    \"takeoka\": \"TKOK\"\n",
        "}"
      ],
      "metadata": {
        "id": "deEJR9at0MYV"
      },
      "execution_count": 10,
      "outputs": []
    },
    {
      "cell_type": "code",
      "source": [
        "def _gen_graph(alignment_summary, edge_info, source_words, source_word_translator_set, target_word_set):\n",
        "\n",
        "    # Edge by translator generator\n",
        "    def edge_by_translator():\n",
        "        for stat in alignment_summary.summary:\n",
        "            source_word = stat.alignment[0]\n",
        "            target_word = stat.alignment[1]\n",
        "            stat = asdict(stat)\n",
        "            for (key, value) in stat.items():\n",
        "                if (key == \"alignment\") or (key == \"total\"):\n",
        "                    continue\n",
        "                source_node = f\"{source_word}-{key}\"\n",
        "                target_node = target_word\n",
        "                weight = value\n",
        "                if weight == 0:\n",
        "                    continue\n",
        "                yield (source_node, target_node, weight, 8)\n",
        "\n",
        "    # Aligned target word generator\n",
        "    def target_words():\n",
        "        for info in edge_info:\n",
        "            target_word = info.alignment[1]\n",
        "            if target_word in target_word_set:\n",
        "                continue\n",
        "            target_word_set.add(target_word)\n",
        "            yield target_word\n",
        "\n",
        "    # Source word with translator coding generator\n",
        "    def source_words_by_translator():\n",
        "        for word in source_words:\n",
        "            info_lst = alignment_summary.query_details_by_source(word)\n",
        "            for info in info_lst:\n",
        "                word = info.word\n",
        "                translator = info.translator\n",
        "                name = (word, translator)\n",
        "                if name in source_word_translator_set:\n",
        "                    continue\n",
        "                source_word_translator_set.add(name)\n",
        "                yield name\n",
        "\n",
        "    # Source word node generator\n",
        "    def source_nodes():\n",
        "        for row in source_words_by_translator():\n",
        "            source_word = row[0]\n",
        "            translator = row[1]\n",
        "            name = source_word + \"-\" + translator\n",
        "            node = f\"{metacode2lemma_map_src[source_word]}\\n({romaji2kanji_map[translator]})\"\n",
        "            node_type = 1\n",
        "            type_label = \"source\"\n",
        "            weight = 0\n",
        "            shape = \"ellipse\"\n",
        "            info_lst = alignment_summary.query_details_by_source(row[0])\n",
        "            for info in info_lst:\n",
        "                if info.translator != row[1]:\n",
        "                    continue\n",
        "                weight += 1\n",
        "            yield (name, node, node_type, type_label, weight, shape)\n",
        "\n",
        "    # Target word node generator\n",
        "    def target_nodes():\n",
        "        for word in target_words():\n",
        "            name = word\n",
        "            node = f\"{metacode2lemma_map_tar[word]}\"\n",
        "            node_type = 2\n",
        "            type_label = \"target\"\n",
        "            weight = 0\n",
        "            shape = \"rectangle\"\n",
        "            info_lst = alignment_summary.query_details_by_target(word)\n",
        "            for info in info_lst:\n",
        "                weight += 1\n",
        "                source_metacode = info.alignment[0].split(\"-\")\n",
        "                target_metacode = info.alignment[1].split(\"-\")\n",
        "                if source_metacode[:4] == target_metacode[:4]:\n",
        "                    node_type = 3\n",
        "                    type_label = \"dublicate\"\n",
        "            yield (name, node, node_type, type_label, weight, shape)\n",
        "\n",
        "    # Igraph construction\n",
        "    node_lst = list(source_nodes()) + list(target_nodes())\n",
        "    node_lst = sorted(node_lst, key=lambda x: (x[2], x[4]), reverse=True)\n",
        "    edge_lst = list(edge_by_translator())\n",
        "    edge_lst = sorted(edge_lst, key=lambda x: (x[1], x[2]), reverse=True)\n",
        "    graph = ig.Graph.TupleList(edge_lst, directed=False, edge_attrs=[\"label\", \"fontsize\"])\n",
        "\n",
        "    for node_attr in node_lst:\n",
        "        name, node, node_type, type_label, weight, shape = node_attr\n",
        "        for v in graph.vs:\n",
        "            if v[\"name\"] != name:\n",
        "                continue\n",
        "            v[\"label\"] = node\n",
        "            v[\"node_type\"] = node_type\n",
        "            v[\"type_label\"] = type_label\n",
        "            if weight >= 5:\n",
        "                v[\"style\"] = \"filled\"\n",
        "                v[\"fillcolor\"] = \"lightyellow\"\n",
        "            if node_type == 1:\n",
        "                v[\"style\"] = \"filled\"\n",
        "                v[\"fillcolor\"] = \"lightgrey\"\n",
        "                v[\"width\"] = 0.1\n",
        "                v[\"fontsize\"] = 8\n",
        "            else:\n",
        "                v[\"fontsize\"] = (math.log(weight+7)) * 5\n",
        "            v[\"shape\"] = shape\n",
        "    return graph\n",
        "\n",
        "def _filter(alignment_info_lst):\n",
        "    \"\"\"To remove edges that contain the same nodes with source nodes and stop pos.\"\"\"\n",
        "    for alignment_info in alignment_info_lst:\n",
        "        source, target = alignment_info.alignment\n",
        "        # BG-16: symbols\n",
        "        # BG-0[456789]: words that are not nouns, verbs or adjectives\n",
        "        # BG-03-1000: demonstratives\n",
        "        pattern = re.compile(r'BG-16|BG-0[456789]|BG-03-1000')\n",
        "        if pattern.match(target):\n",
        "            continue\n",
        "        if source[3:15] == target[3:15]:\n",
        "            continue\n",
        "        yield alignment_info\n",
        "\n",
        "\n",
        "def retrive_igraph_by_translator(*source_words):\n",
        "    \"\"\"Retrive igraph format data with translator attension.\n",
        "\n",
        "    :return graph: igraph-converted information.\n",
        "    \"\"\"\n",
        "    target_word_set = set()\n",
        "    source_word_translator_set = set()\n",
        "    alignment_lst = DB.query_improper_alignment_by_word(*source_words)    \n",
        "    alignment_lst = list(_filter(alignment_lst))\n",
        "    alignment_summary = bitexts.AlignmentSummary(alignment_lst)\n",
        "    edge_info = alignment_summary.alignment_info  # For edges' annotation\n",
        "\n",
        "    return _gen_graph(alignment_summary, edge_info, source_words, source_word_translator_set, target_word_set)"
      ],
      "metadata": {
        "id": "RM1WxPRGsOVr"
      },
      "execution_count": 11,
      "outputs": []
    },
    {
      "cell_type": "code",
      "source": [
        "def dot_viz_aggr(word, width=None):\n",
        "    code = lemma2metacode(word, metacode2lemma_map_src)\n",
        "    g = retrive_igraph_by_translator(code)\n",
        "    g.write_dot(f\"../artifacts/{word}.dot\")\n",
        "    if width:\n",
        "        with open(f\"../artifacts/{word}.dot\", \"r\") as file:\n",
        "            lines = file.readlines()\n",
        "\n",
        "        # attr\n",
        "        lines.insert(2, f'  size=\"{width},\";\\n')\n",
        "        lines.insert(3, '  ratio=\"fill\";\\n')\n",
        "\n",
        "        # lines.insert(4, '  mode=\"ipsep\";\\n')\n",
        "        # lines.insert(5, '  sep=1;\\n')\n",
        "        # lines.insert(6, '  overlap=false;\\n')\n",
        "        \n",
        "        with open(f\"../artifacts/{word}.dot\", \"w\") as file:\n",
        "            file.writelines(lines)\n",
        "    neato_command = f\"neato -Tsvg ../artifacts/{word}.dot -o ../artifacts/{word}.svg\"\n",
        "    subprocess.run(neato_command, shell=True, check=True)\n",
        "    display(SVG(filename=f\"../artifacts/{word}.svg\")) "
      ],
      "metadata": {
        "id": "LENoVhwG6hyN"
      },
      "execution_count": 12,
      "outputs": []
    },
    {
      "cell_type": "markdown",
      "source": [
        "### 3.2 | Examples"
      ],
      "metadata": {
        "id": "LfBopaAGOgZh"
      }
    },
    {
      "cell_type": "markdown",
      "source": [
        "#### 3.2.1 | *Ume*, en. plum"
      ],
      "metadata": {
        "id": "IGBZcWmDc5pY"
      }
    },
    {
      "cell_type": "code",
      "source": [
        "dot_viz_aggr(\"梅\")"
      ],
      "metadata": {
        "colab": {
          "base_uri": "https://localhost:8080/",
          "height": 556
        },
        "id": "dKfx8Xsy9ggq",
        "outputId": "375d1f91-db0b-4509-ced1-a8ebb29df329"
      },
      "execution_count": 13,
      "outputs": [
        {
          "name": "stdout",
          "output_type": "stream",
          "text": [
            "Lemma has the following semantic codings:\n",
            " 1: BG-01-5520-20-0401\n",
            " 2: BG-01-5520-20-0402\n",
            "Input one ID to query:1\n"
          ]
        },
        {
          "output_type": "display_data",
          "data": {
            "text/plain": [
              "<IPython.core.display.SVG object>"
            ],
            "image/svg+xml": "<svg xmlns=\"http://www.w3.org/2000/svg\" xmlns:xlink=\"http://www.w3.org/1999/xlink\" width=\"350pt\" height=\"349pt\" viewBox=\"0.00 0.00 350.43 349.11\">\n<g id=\"graph0\" class=\"graph\" transform=\"scale(1 1) rotate(0) translate(4 345.11)\">\n<title>%3</title>\n<polygon fill=\"white\" stroke=\"transparent\" points=\"-4,4 -4,-345.11 346.43,-345.11 346.43,4 -4,4\"/>\n<!-- 0 -->\n<g id=\"node1\" class=\"node\">\n<title>0</title>\n<ellipse fill=\"lightgrey\" stroke=\"black\" cx=\"226.01\" cy=\"-254.46\" rx=\"28.98\" ry=\"18.27\"/>\n<text text-anchor=\"middle\" x=\"226.01\" y=\"-257.06\" font-family=\"Times,serif\" font-size=\"8.00\">梅</text>\n<text text-anchor=\"middle\" x=\"226.01\" y=\"-248.06\" font-family=\"Times,serif\" font-size=\"8.00\">(MTD)</text>\n</g>\n<!-- 1 -->\n<g id=\"node2\" class=\"node\">\n<title>1</title>\n<polygon fill=\"none\" stroke=\"black\" points=\"342.43,-245.66 301.43,-245.66 301.43,-209.66 342.43,-209.66 342.43,-245.66\"/>\n<text text-anchor=\"middle\" x=\"321.93\" y=\"-224.85\" font-family=\"Times,serif\" font-size=\"10.40\">■■■■</text>\n</g>\n<!-- 1&#45;&#45;0 -->\n<g id=\"edge1\" class=\"edge\">\n<title>1--0</title>\n<path fill=\"none\" stroke=\"black\" d=\"M301.12,-233.48C286.9,-237.45 267.94,-242.75 252.63,-247.02\"/>\n<text text-anchor=\"middle\" x=\"278.87\" y=\"-242.85\" font-family=\"Times,serif\" font-size=\"8.00\">1</text>\n</g>\n<!-- 2 -->\n<g id=\"node3\" class=\"node\">\n<title>2</title>\n<ellipse fill=\"lightgrey\" stroke=\"black\" cx=\"139.53\" cy=\"-136.3\" rx=\"33.47\" ry=\"18.27\"/>\n<text text-anchor=\"middle\" x=\"139.53\" y=\"-138.9\" font-family=\"Times,serif\" font-size=\"8.00\">梅</text>\n<text text-anchor=\"middle\" x=\"139.53\" y=\"-129.9\" font-family=\"Times,serif\" font-size=\"8.00\">(OKMR)</text>\n</g>\n<!-- 3 -->\n<g id=\"node4\" class=\"node\">\n<title>3</title>\n<polygon fill=\"lightyellow\" stroke=\"black\" points=\"195.61,-228.65 160.61,-228.65 160.61,-192.65 195.61,-192.65 195.61,-228.65\"/>\n<text text-anchor=\"middle\" x=\"178.11\" y=\"-206.87\" font-family=\"Times,serif\" font-size=\"14.72\">■■</text>\n</g>\n<!-- 3&#45;&#45;0 -->\n<g id=\"edge5\" class=\"edge\">\n<title>3--0</title>\n<path fill=\"none\" stroke=\"black\" d=\"M195.67,-226.71C200.16,-230.81 204.97,-235.21 209.4,-239.27\"/>\n<text text-anchor=\"middle\" x=\"200.54\" y=\"-226.59\" font-family=\"Times,serif\" font-size=\"8.00\">1</text>\n</g>\n<!-- 3&#45;&#45;2 -->\n<g id=\"edge2\" class=\"edge\">\n<title>3--2</title>\n<path fill=\"none\" stroke=\"black\" d=\"M168.57,-192.27C162.55,-180.66 154.8,-165.73 148.82,-154.21\"/>\n<text text-anchor=\"middle\" x=\"156.7\" y=\"-175.84\" font-family=\"Times,serif\" font-size=\"8.00\">5</text>\n</g>\n<!-- 4 -->\n<g id=\"node5\" class=\"node\">\n<title>4</title>\n<ellipse fill=\"lightgrey\" stroke=\"black\" cx=\"115.22\" cy=\"-234.34\" rx=\"28.98\" ry=\"18.27\"/>\n<text text-anchor=\"middle\" x=\"115.22\" y=\"-236.94\" font-family=\"Times,serif\" font-size=\"8.00\">梅</text>\n<text text-anchor=\"middle\" x=\"115.22\" y=\"-227.94\" font-family=\"Times,serif\" font-size=\"8.00\">(KNK)</text>\n</g>\n<!-- 4&#45;&#45;3 -->\n<g id=\"edge3\" class=\"edge\">\n<title>4--3</title>\n<path fill=\"none\" stroke=\"black\" d=\"M140.44,-224.84C147.14,-222.32 154.23,-219.64 160.43,-217.31\"/>\n<text text-anchor=\"middle\" x=\"148.43\" y=\"-223.67\" font-family=\"Times,serif\" font-size=\"8.00\">3</text>\n</g>\n<!-- 5 -->\n<g id=\"node6\" class=\"node\">\n<title>5</title>\n<ellipse fill=\"lightgrey\" stroke=\"black\" cx=\"225.39\" cy=\"-123.78\" rx=\"28.98\" ry=\"18.27\"/>\n<text text-anchor=\"middle\" x=\"225.39\" y=\"-126.38\" font-family=\"Times,serif\" font-size=\"8.00\">梅</text>\n<text text-anchor=\"middle\" x=\"225.39\" y=\"-117.38\" font-family=\"Times,serif\" font-size=\"8.00\">(K&amp;A)</text>\n</g>\n<!-- 5&#45;&#45;3 -->\n<g id=\"edge4\" class=\"edge\">\n<title>5--3</title>\n<path fill=\"none\" stroke=\"black\" d=\"M215.82,-141.36C207.73,-156.23 196.17,-177.46 187.99,-192.5\"/>\n<text text-anchor=\"middle\" x=\"199.91\" y=\"-169.53\" font-family=\"Times,serif\" font-size=\"8.00\">1</text>\n</g>\n<!-- 6 -->\n<g id=\"node7\" class=\"node\">\n<title>6</title>\n<ellipse fill=\"lightgrey\" stroke=\"black\" cx=\"105.41\" cy=\"-256.2\" rx=\"28.98\" ry=\"18.27\"/>\n<text text-anchor=\"middle\" x=\"105.41\" y=\"-258.8\" font-family=\"Times,serif\" font-size=\"8.00\">梅</text>\n<text text-anchor=\"middle\" x=\"105.41\" y=\"-249.8\" font-family=\"Times,serif\" font-size=\"8.00\">(OZW)</text>\n</g>\n<!-- 6&#45;&#45;3 -->\n<g id=\"edge6\" class=\"edge\">\n<title>6--3</title>\n<path fill=\"none\" stroke=\"black\" d=\"M126.05,-243.27C136.79,-236.54 149.81,-228.38 160.14,-221.91\"/>\n<text text-anchor=\"middle\" x=\"145.09\" y=\"-235.19\" font-family=\"Times,serif\" font-size=\"8.00\">1</text>\n</g>\n<!-- 7 -->\n<g id=\"node8\" class=\"node\">\n<title>7</title>\n<ellipse fill=\"lightgrey\" stroke=\"black\" cx=\"232.72\" cy=\"-161.59\" rx=\"32.55\" ry=\"18.27\"/>\n<text text-anchor=\"middle\" x=\"232.72\" y=\"-164.19\" font-family=\"Times,serif\" font-size=\"8.00\">梅</text>\n<text text-anchor=\"middle\" x=\"232.72\" y=\"-155.19\" font-family=\"Times,serif\" font-size=\"8.00\">(TKOK)</text>\n</g>\n<!-- 7&#45;&#45;3 -->\n<g id=\"edge7\" class=\"edge\">\n<title>7--3</title>\n<path fill=\"none\" stroke=\"black\" d=\"M215.14,-177.38C208.9,-182.99 201.89,-189.29 195.66,-194.88\"/>\n<text text-anchor=\"middle\" x=\"203.4\" y=\"-188.73\" font-family=\"Times,serif\" font-size=\"8.00\">1</text>\n</g>\n<!-- 8 -->\n<g id=\"node9\" class=\"node\">\n<title>8</title>\n<polygon fill=\"none\" stroke=\"black\" points=\"175.61,-326.22 145.61,-326.22 145.61,-290.22 175.61,-290.22 175.61,-326.22\"/>\n<text text-anchor=\"middle\" x=\"160.61\" y=\"-305.51\" font-family=\"Times,serif\" font-size=\"11.51\">■■</text>\n</g>\n<!-- 8&#45;&#45;0 -->\n<g id=\"edge9\" class=\"edge\">\n<title>8--0</title>\n<path fill=\"none\" stroke=\"black\" d=\"M175.77,-295.75C185.44,-287.81 197.99,-277.49 208.14,-269.15\"/>\n<text text-anchor=\"middle\" x=\"189.96\" y=\"-285.05\" font-family=\"Times,serif\" font-size=\"8.00\">1</text>\n</g>\n<!-- 8&#45;&#45;4 -->\n<g id=\"edge8\" class=\"edge\">\n<title>8--4</title>\n<path fill=\"none\" stroke=\"black\" d=\"M149.39,-289.96C142.25,-278.33 133.05,-263.36 126,-251.88\"/>\n<text text-anchor=\"middle\" x=\"139.69\" y=\"-273.52\" font-family=\"Times,serif\" font-size=\"8.00\">1</text>\n</g>\n<!-- 8&#45;&#45;6 -->\n<g id=\"edge10\" class=\"edge\">\n<title>8--6</title>\n<path fill=\"none\" stroke=\"black\" d=\"M145.52,-294.01C138.12,-287.03 129.19,-278.61 121.63,-271.49\"/>\n<text text-anchor=\"middle\" x=\"131.58\" y=\"-285.35\" font-family=\"Times,serif\" font-size=\"8.00\">1</text>\n</g>\n<!-- 9 -->\n<g id=\"node10\" class=\"node\">\n<title>9</title>\n<polygon fill=\"none\" stroke=\"black\" points=\"296.16,-76.39 266.16,-76.39 266.16,-40.39 296.16,-40.39 296.16,-76.39\"/>\n<text text-anchor=\"middle\" x=\"281.16\" y=\"-55.6\" font-family=\"Times,serif\" font-size=\"10.99\">■■</text>\n</g>\n<!-- 9&#45;&#45;5 -->\n<g id=\"edge11\" class=\"edge\">\n<title>9--5</title>\n<path fill=\"none\" stroke=\"black\" d=\"M265.92,-76.26C257.66,-85.94 247.53,-97.82 239.46,-107.28\"/>\n<text text-anchor=\"middle\" x=\"250.69\" y=\"-94.37\" font-family=\"Times,serif\" font-size=\"8.00\">2</text>\n</g>\n<!-- 10 -->\n<g id=\"node11\" class=\"node\">\n<title>10</title>\n<ellipse fill=\"lightgrey\" stroke=\"black\" cx=\"115.85\" cy=\"-92.07\" rx=\"25.41\" ry=\"18.27\"/>\n<text text-anchor=\"middle\" x=\"115.85\" y=\"-94.67\" font-family=\"Times,serif\" font-size=\"8.00\">梅</text>\n<text text-anchor=\"middle\" x=\"115.85\" y=\"-85.67\" font-family=\"Times,serif\" font-size=\"8.00\">(KSJ)</text>\n</g>\n<!-- 11 -->\n<g id=\"node12\" class=\"node\">\n<title>11</title>\n<polygon fill=\"none\" stroke=\"black\" points=\"99.62,-36 64.62,-36 64.62,0 99.62,0 99.62,-36\"/>\n<text text-anchor=\"middle\" x=\"82.12\" y=\"-15.18\" font-family=\"Times,serif\" font-size=\"10.40\">■■■</text>\n</g>\n<!-- 11&#45;&#45;10 -->\n<g id=\"edge12\" class=\"edge\">\n<title>11--10</title>\n<path fill=\"none\" stroke=\"black\" d=\"M90.46,-36.31C95.77,-47.96 102.6,-62.97 107.84,-74.48\"/>\n<text text-anchor=\"middle\" x=\"97.15\" y=\"-58\" font-family=\"Times,serif\" font-size=\"8.00\">1</text>\n</g>\n<!-- 12 -->\n<g id=\"node13\" class=\"node\">\n<title>12</title>\n<ellipse fill=\"lightgrey\" stroke=\"black\" cx=\"246.13\" cy=\"-228.27\" rx=\"33.47\" ry=\"18.27\"/>\n<text text-anchor=\"middle\" x=\"246.13\" y=\"-230.87\" font-family=\"Times,serif\" font-size=\"8.00\">梅</text>\n<text text-anchor=\"middle\" x=\"246.13\" y=\"-221.87\" font-family=\"Times,serif\" font-size=\"8.00\">(KMCY)</text>\n</g>\n<!-- 13 -->\n<g id=\"node14\" class=\"node\">\n<title>13</title>\n<polygon fill=\"none\" stroke=\"black\" points=\"312.34,-300.57 289.34,-300.57 289.34,-264.57 312.34,-264.57 312.34,-300.57\"/>\n<text text-anchor=\"middle\" x=\"300.84\" y=\"-279.86\" font-family=\"Times,serif\" font-size=\"11.51\">■</text>\n</g>\n<!-- 13&#45;&#45;0 -->\n<g id=\"edge14\" class=\"edge\">\n<title>13--0</title>\n<path fill=\"none\" stroke=\"black\" d=\"M289.15,-278.18C279.04,-274.38 264.07,-268.75 251.24,-263.94\"/>\n<text text-anchor=\"middle\" x=\"268.19\" y=\"-273.66\" font-family=\"Times,serif\" font-size=\"8.00\">1</text>\n</g>\n<!-- 13&#45;&#45;12 -->\n<g id=\"edge13\" class=\"edge\">\n<title>13--12</title>\n<path fill=\"none\" stroke=\"black\" d=\"M289.24,-271.05C281.46,-263.33 271.1,-253.05 262.49,-244.5\"/>\n<text text-anchor=\"middle\" x=\"273.86\" y=\"-260.38\" font-family=\"Times,serif\" font-size=\"8.00\">2</text>\n</g>\n<!-- 14 -->\n<g id=\"node15\" class=\"node\">\n<title>14</title>\n<polygon fill=\"none\" stroke=\"black\" points=\"102.29,-341.11 79.29,-341.11 79.29,-305.11 102.29,-305.11 102.29,-341.11\"/>\n<text text-anchor=\"middle\" x=\"90.79\" y=\"-320.32\" font-family=\"Times,serif\" font-size=\"10.99\">■</text>\n</g>\n<!-- 14&#45;&#45;4 -->\n<g id=\"edge15\" class=\"edge\">\n<title>14--4</title>\n<path fill=\"none\" stroke=\"black\" d=\"M95.86,-304.71C100.05,-289.48 105.98,-267.94 110.17,-252.71\"/>\n<text text-anchor=\"middle\" x=\"101.01\" y=\"-281.31\" font-family=\"Times,serif\" font-size=\"8.00\">1</text>\n</g>\n<!-- 14&#45;&#45;6 -->\n<g id=\"edge16\" class=\"edge\">\n<title>14--6</title>\n<path fill=\"none\" stroke=\"black\" d=\"M94.79,-304.83C96.85,-295.39 99.36,-283.9 101.42,-274.46\"/>\n<text text-anchor=\"middle\" x=\"96.1\" y=\"-292.24\" font-family=\"Times,serif\" font-size=\"8.00\">1</text>\n</g>\n<!-- 15 -->\n<g id=\"node16\" class=\"node\">\n<title>15</title>\n<polygon fill=\"lightyellow\" stroke=\"black\" points=\"186.45,-197.79 142.45,-197.79 142.45,-161.79 186.45,-161.79 186.45,-197.79\"/>\n<text text-anchor=\"middle\" x=\"164.45\" y=\"-176.11\" font-family=\"Times,serif\" font-size=\"15.22\">■■■</text>\n</g>\n<!-- 15&#45;&#45;0 -->\n<g id=\"edge20\" class=\"edge\">\n<title>15--0</title>\n<path fill=\"none\" stroke=\"black\" d=\"M179.35,-197.87C189.46,-210.12 202.71,-226.2 212.51,-238.08\"/>\n<text text-anchor=\"middle\" x=\"197.93\" y=\"-211.57\" font-family=\"Times,serif\" font-size=\"8.00\">2</text>\n</g>\n<!-- 15&#45;&#45;2 -->\n<g id=\"edge24\" class=\"edge\">\n<title>15--2</title>\n<path fill=\"none\" stroke=\"black\" d=\"M154.03,-161.6C152.59,-159.09 151.11,-156.51 149.67,-154\"/>\n<text text-anchor=\"middle\" x=\"149.85\" y=\"-160.4\" font-family=\"Times,serif\" font-size=\"8.00\">1</text>\n</g>\n<!-- 15&#45;&#45;4 -->\n<g id=\"edge21\" class=\"edge\">\n<title>15--4</title>\n<path fill=\"none\" stroke=\"black\" d=\"M148.06,-197.96C142.13,-204.53 135.48,-211.89 129.73,-218.27\"/>\n<text text-anchor=\"middle\" x=\"136.89\" y=\"-201.71\" font-family=\"Times,serif\" font-size=\"8.00\">1</text>\n</g>\n<!-- 15&#45;&#45;5 -->\n<g id=\"edge17\" class=\"edge\">\n<title>15--5</title>\n<path fill=\"none\" stroke=\"black\" d=\"M184.07,-161.76C192,-154.47 201.06,-146.14 208.68,-139.14\"/>\n<text text-anchor=\"middle\" x=\"194.37\" y=\"-153.05\" font-family=\"Times,serif\" font-size=\"8.00\">2</text>\n</g>\n<!-- 15&#45;&#45;6 -->\n<g id=\"edge25\" class=\"edge\">\n<title>15--6</title>\n<path fill=\"none\" stroke=\"black\" d=\"M150.46,-197.9C140.71,-210.52 127.79,-227.24 118.29,-239.53\"/>\n<text text-anchor=\"middle\" x=\"132.38\" y=\"-212.32\" font-family=\"Times,serif\" font-size=\"8.00\">1</text>\n</g>\n<!-- 15&#45;&#45;7 -->\n<g id=\"edge26\" class=\"edge\">\n<title>15--7</title>\n<path fill=\"none\" stroke=\"black\" d=\"M186.8,-173.83C191.94,-172.46 197.47,-170.99 202.87,-169.55\"/>\n<text text-anchor=\"middle\" x=\"192.84\" y=\"-174.29\" font-family=\"Times,serif\" font-size=\"8.00\">1</text>\n</g>\n<!-- 15&#45;&#45;10 -->\n<g id=\"edge19\" class=\"edge\">\n<title>15--10</title>\n<path fill=\"none\" stroke=\"black\" d=\"M154.38,-161.62C145.87,-146.26 133.77,-124.42 125.41,-109.33\"/>\n<text text-anchor=\"middle\" x=\"137.9\" y=\"-138.07\" font-family=\"Times,serif\" font-size=\"8.00\">2</text>\n</g>\n<!-- 15&#45;&#45;12 -->\n<g id=\"edge23\" class=\"edge\">\n<title>15--12</title>\n<path fill=\"none\" stroke=\"black\" d=\"M186.77,-193.04C198.11,-199.77 211.86,-207.93 223.27,-214.7\"/>\n<text text-anchor=\"middle\" x=\"203.02\" y=\"-206.47\" font-family=\"Times,serif\" font-size=\"8.00\">1</text>\n</g>\n<!-- 16 -->\n<g id=\"node17\" class=\"node\">\n<title>16</title>\n<ellipse fill=\"lightgrey\" stroke=\"black\" cx=\"181.15\" cy=\"-92.68\" rx=\"27.65\" ry=\"18.27\"/>\n<text text-anchor=\"middle\" x=\"181.15\" y=\"-95.28\" font-family=\"Times,serif\" font-size=\"8.00\">梅</text>\n<text text-anchor=\"middle\" x=\"181.15\" y=\"-86.28\" font-family=\"Times,serif\" font-size=\"8.00\">(KBT)</text>\n</g>\n<!-- 16&#45;&#45;15 -->\n<g id=\"edge18\" class=\"edge\">\n<title>16--15</title>\n<path fill=\"none\" stroke=\"black\" d=\"M177.61,-111.15C174.76,-126.03 170.77,-146.85 167.93,-161.64\"/>\n<text text-anchor=\"middle\" x=\"174.77\" y=\"-139\" font-family=\"Times,serif\" font-size=\"8.00\">2</text>\n</g>\n<!-- 17 -->\n<g id=\"node18\" class=\"node\">\n<title>17</title>\n<ellipse fill=\"lightgrey\" stroke=\"black\" cx=\"79.5\" cy=\"-153.96\" rx=\"31.64\" ry=\"18.27\"/>\n<text text-anchor=\"middle\" x=\"79.5\" y=\"-156.56\" font-family=\"Times,serif\" font-size=\"8.00\">梅</text>\n<text text-anchor=\"middle\" x=\"79.5\" y=\"-147.56\" font-family=\"Times,serif\" font-size=\"8.00\">(KTGR)</text>\n</g>\n<!-- 17&#45;&#45;15 -->\n<g id=\"edge22\" class=\"edge\">\n<title>17--15</title>\n<path fill=\"none\" stroke=\"black\" d=\"M107.79,-162.56C118.99,-165.97 131.67,-169.82 142.2,-173.02\"/>\n<text text-anchor=\"middle\" x=\"122.99\" y=\"-170.39\" font-family=\"Times,serif\" font-size=\"8.00\">1</text>\n</g>\n<!-- 18 -->\n<g id=\"node19\" class=\"node\">\n<title>18</title>\n<polygon fill=\"none\" stroke=\"black\" points=\"36.98,-217.3 13.98,-217.3 13.98,-181.3 36.98,-181.3 36.98,-217.3\"/>\n<text text-anchor=\"middle\" x=\"25.48\" y=\"-196.51\" font-family=\"Times,serif\" font-size=\"10.99\">■</text>\n</g>\n<!-- 18&#45;&#45;4 -->\n<g id=\"edge27\" class=\"edge\">\n<title>18--4</title>\n<path fill=\"none\" stroke=\"black\" d=\"M37.22,-203.88C50.61,-209.11 72.92,-217.82 90.25,-224.59\"/>\n<text text-anchor=\"middle\" x=\"61.73\" y=\"-216.83\" font-family=\"Times,serif\" font-size=\"8.00\">1</text>\n</g>\n<!-- 18&#45;&#45;17 -->\n<g id=\"edge28\" class=\"edge\">\n<title>18--17</title>\n<path fill=\"none\" stroke=\"black\" d=\"M37.21,-189.46C44.28,-183.52 53.44,-175.83 61.43,-169.13\"/>\n<text text-anchor=\"middle\" x=\"47.32\" y=\"-181.89\" font-family=\"Times,serif\" font-size=\"8.00\">1</text>\n</g>\n<!-- 19 -->\n<g id=\"node20\" class=\"node\">\n<title>19</title>\n<polygon fill=\"none\" stroke=\"black\" points=\"272.36,-337.38 249.36,-337.38 249.36,-301.38 272.36,-301.38 272.36,-337.38\"/>\n<text text-anchor=\"middle\" x=\"260.86\" y=\"-316.59\" font-family=\"Times,serif\" font-size=\"10.99\">■</text>\n</g>\n<!-- 19&#45;&#45;0 -->\n<g id=\"edge30\" class=\"edge\">\n<title>19--0</title>\n<path fill=\"none\" stroke=\"black\" d=\"M251.15,-301.29C246.24,-292.14 240.3,-281.07 235.43,-272\"/>\n<text text-anchor=\"middle\" x=\"241.29\" y=\"-289.25\" font-family=\"Times,serif\" font-size=\"8.00\">1</text>\n</g>\n<!-- 19&#45;&#45;12 -->\n<g id=\"edge29\" class=\"edge\">\n<title>19--12</title>\n<path fill=\"none\" stroke=\"black\" d=\"M257.95,-301.38C255.4,-285.61 251.71,-262.79 249.14,-246.85\"/>\n<text text-anchor=\"middle\" x=\"251.54\" y=\"-276.72\" font-family=\"Times,serif\" font-size=\"8.00\">1</text>\n</g>\n<!-- 20 -->\n<g id=\"node21\" class=\"node\">\n<title>20</title>\n<polygon fill=\"none\" stroke=\"black\" points=\"58.36,-334.59 23.36,-334.59 23.36,-298.59 58.36,-298.59 58.36,-334.59\"/>\n<text text-anchor=\"middle\" x=\"40.86\" y=\"-313.77\" font-family=\"Times,serif\" font-size=\"10.40\">■■■</text>\n</g>\n<!-- 20&#45;&#45;6 -->\n<g id=\"edge31\" class=\"edge\">\n<title>20--6</title>\n<path fill=\"none\" stroke=\"black\" d=\"M58.5,-300.09C68.05,-291.15 79.78,-280.18 89.12,-271.44\"/>\n<text text-anchor=\"middle\" x=\"71.81\" y=\"-288.36\" font-family=\"Times,serif\" font-size=\"8.00\">1</text>\n</g>\n<!-- 21 -->\n<g id=\"node22\" class=\"node\">\n<title>21</title>\n<polygon fill=\"none\" stroke=\"black\" points=\"29,-271.59 0,-271.59 0,-235.59 29,-235.59 29,-271.59\"/>\n<text text-anchor=\"middle\" x=\"14.5\" y=\"-250.77\" font-family=\"Times,serif\" font-size=\"10.40\">■■</text>\n</g>\n<!-- 21&#45;&#45;6 -->\n<g id=\"edge32\" class=\"edge\">\n<title>21--6</title>\n<path fill=\"none\" stroke=\"black\" d=\"M29.11,-254.01C41.75,-254.37 60.44,-254.91 76.15,-255.36\"/>\n<text text-anchor=\"middle\" x=\"50.63\" y=\"-257.29\" font-family=\"Times,serif\" font-size=\"8.00\">1</text>\n</g>\n</g>\n</svg>"
          },
          "metadata": {}
        }
      ]
    },
    {
      "cell_type": "markdown",
      "source": [
        "#### 3.2.2 | *Ominaeshi*, en. golden valerian"
      ],
      "metadata": {
        "id": "sUlHidO1dFq8"
      }
    },
    {
      "cell_type": "code",
      "source": [
        "dot_viz_aggr(\"女郎花\")"
      ],
      "metadata": {
        "id": "Uwb9F6aO9jMh",
        "colab": {
          "base_uri": "https://localhost:8080/",
          "height": 452
        },
        "outputId": "b688b495-b1c9-471e-ec2b-6c0a950ffcb0"
      },
      "execution_count": 23,
      "outputs": [
        {
          "output_type": "display_data",
          "data": {
            "text/plain": [
              "<IPython.core.display.SVG object>"
            ],
            "image/svg+xml": "<svg xmlns=\"http://www.w3.org/2000/svg\" xmlns:xlink=\"http://www.w3.org/1999/xlink\" width=\"419pt\" height=\"323pt\" viewBox=\"0.00 0.00 418.82 322.94\">\n<g id=\"graph0\" class=\"graph\" transform=\"scale(1 1) rotate(0) translate(4 318.94)\">\n<title>%3</title>\n<polygon fill=\"white\" stroke=\"transparent\" points=\"-4,4 -4,-318.94 414.82,-318.94 414.82,4 -4,4\"/>\n<!-- 0 -->\n<g id=\"node1\" class=\"node\">\n<title>0</title>\n<ellipse fill=\"lightgrey\" stroke=\"black\" cx=\"222.31\" cy=\"-105.99\" rx=\"51.74\" ry=\"18.27\"/>\n<text text-anchor=\"middle\" x=\"222.31\" y=\"-108.59\" font-family=\"Times,serif\" font-size=\"8.00\">女郎花</text>\n<text text-anchor=\"middle\" x=\"222.31\" y=\"-99.59\" font-family=\"Times,serif\" font-size=\"8.00\">(KTGR)</text>\n</g>\n<!-- 1 -->\n<g id=\"node2\" class=\"node\">\n<title>1</title>\n<polygon fill=\"none\" stroke=\"black\" points=\"333.65,-129.27 286.65,-129.27 286.65,-93.27 333.65,-93.27 333.65,-129.27\"/>\n<text text-anchor=\"middle\" x=\"310.15\" y=\"-108.18\" font-family=\"Times,serif\" font-size=\"11.99\">■■■■</text>\n</g>\n<!-- 1&#45;&#45;0 -->\n<g id=\"edge1\" class=\"edge\">\n<title>1--0</title>\n<path fill=\"none\" stroke=\"black\" d=\"M286.61,-109.85C282.45,-109.6 277.96,-109.33 273.38,-109.06\"/>\n<text text-anchor=\"middle\" x=\"277.99\" y=\"-112.06\" font-family=\"Times,serif\" font-size=\"8.00\">2</text>\n</g>\n<!-- 2 -->\n<g id=\"node3\" class=\"node\">\n<title>2</title>\n<ellipse fill=\"lightgrey\" stroke=\"black\" cx=\"320.9\" cy=\"-187.62\" rx=\"51.74\" ry=\"18.27\"/>\n<text text-anchor=\"middle\" x=\"320.9\" y=\"-190.22\" font-family=\"Times,serif\" font-size=\"8.00\">女郎花</text>\n<text text-anchor=\"middle\" x=\"320.9\" y=\"-181.22\" font-family=\"Times,serif\" font-size=\"8.00\">(TKOK)</text>\n</g>\n<!-- 2&#45;&#45;1 -->\n<g id=\"edge2\" class=\"edge\">\n<title>2--1</title>\n<path fill=\"none\" stroke=\"black\" d=\"M318.3,-169.14C316.6,-157.05 314.38,-141.32 312.7,-129.32\"/>\n<text text-anchor=\"middle\" x=\"313.5\" y=\"-151.83\" font-family=\"Times,serif\" font-size=\"8.00\">2</text>\n</g>\n<!-- 3 -->\n<g id=\"node4\" class=\"node\">\n<title>3</title>\n<polygon fill=\"none\" stroke=\"black\" points=\"303.13,-65.08 262.13,-65.08 262.13,-29.08 303.13,-29.08 303.13,-65.08\"/>\n<text text-anchor=\"middle\" x=\"282.63\" y=\"-44.26\" font-family=\"Times,serif\" font-size=\"10.40\">■■■■</text>\n</g>\n<!-- 3&#45;&#45;0 -->\n<g id=\"edge3\" class=\"edge\">\n<title>3--0</title>\n<path fill=\"none\" stroke=\"black\" d=\"M263.88,-65.39C256.27,-72.82 247.52,-81.36 240.02,-88.69\"/>\n<text text-anchor=\"middle\" x=\"249.95\" y=\"-79.64\" font-family=\"Times,serif\" font-size=\"8.00\">1</text>\n</g>\n<!-- 4 -->\n<g id=\"node5\" class=\"node\">\n<title>4</title>\n<ellipse fill=\"lightgrey\" stroke=\"black\" cx=\"178.12\" cy=\"-121.01\" rx=\"51.74\" ry=\"18.27\"/>\n<text text-anchor=\"middle\" x=\"178.12\" y=\"-123.61\" font-family=\"Times,serif\" font-size=\"8.00\">女郎花</text>\n<text text-anchor=\"middle\" x=\"178.12\" y=\"-114.61\" font-family=\"Times,serif\" font-size=\"8.00\">(OZW)</text>\n</g>\n<!-- 5 -->\n<g id=\"node6\" class=\"node\">\n<title>5</title>\n<polygon fill=\"lightyellow\" stroke=\"black\" points=\"148.28,-155.58 112.28,-155.58 112.28,-119.58 148.28,-119.58 148.28,-155.58\"/>\n<text text-anchor=\"middle\" x=\"130.28\" y=\"-133.37\" font-family=\"Times,serif\" font-size=\"15.89\">■■</text>\n</g>\n<!-- 5&#45;&#45;0 -->\n<g id=\"edge6\" class=\"edge\">\n<title>5--0</title>\n<path fill=\"none\" stroke=\"black\" d=\"M148.46,-131.34C158.94,-127.74 172.5,-123.09 185.13,-118.75\"/>\n<text text-anchor=\"middle\" x=\"164.8\" y=\"-127.64\" font-family=\"Times,serif\" font-size=\"8.00\">3</text>\n</g>\n<!-- 5&#45;&#45;4 -->\n<g id=\"edge4\" class=\"edge\">\n<title>5--4</title>\n<path fill=\"none\" stroke=\"black\" d=\"M148.37,-131.31C148.47,-131.28 148.58,-131.24 148.69,-131.2\"/>\n<text text-anchor=\"middle\" x=\"150.53\" y=\"-133.86\" font-family=\"Times,serif\" font-size=\"8.00\">5</text>\n</g>\n<!-- 6 -->\n<g id=\"node7\" class=\"node\">\n<title>6</title>\n<ellipse fill=\"lightgrey\" stroke=\"black\" cx=\"63.85\" cy=\"-101.1\" rx=\"51.74\" ry=\"18.27\"/>\n<text text-anchor=\"middle\" x=\"63.85\" y=\"-103.7\" font-family=\"Times,serif\" font-size=\"8.00\">女郎花</text>\n<text text-anchor=\"middle\" x=\"63.85\" y=\"-94.7\" font-family=\"Times,serif\" font-size=\"8.00\">(KSJ)</text>\n</g>\n<!-- 6&#45;&#45;5 -->\n<g id=\"edge5\" class=\"edge\">\n<title>6--5</title>\n<path fill=\"none\" stroke=\"black\" d=\"M92.02,-116.57C98.81,-120.3 105.89,-124.18 112.09,-127.59\"/>\n<text text-anchor=\"middle\" x=\"100.05\" y=\"-124.68\" font-family=\"Times,serif\" font-size=\"8.00\">4</text>\n</g>\n<!-- 7 -->\n<g id=\"node8\" class=\"node\">\n<title>7</title>\n<ellipse fill=\"lightgrey\" stroke=\"black\" cx=\"150.24\" cy=\"-232.07\" rx=\"51.74\" ry=\"18.27\"/>\n<text text-anchor=\"middle\" x=\"150.24\" y=\"-234.67\" font-family=\"Times,serif\" font-size=\"8.00\">女郎花</text>\n<text text-anchor=\"middle\" x=\"150.24\" y=\"-225.67\" font-family=\"Times,serif\" font-size=\"8.00\">(KMCY)</text>\n</g>\n<!-- 7&#45;&#45;5 -->\n<g id=\"edge7\" class=\"edge\">\n<title>7--5</title>\n<path fill=\"none\" stroke=\"black\" d=\"M146.3,-213.4C142.78,-196.73 137.65,-172.45 134.15,-155.89\"/>\n<text text-anchor=\"middle\" x=\"138.22\" y=\"-178.24\" font-family=\"Times,serif\" font-size=\"8.00\">3</text>\n</g>\n<!-- 8 -->\n<g id=\"node9\" class=\"node\">\n<title>8</title>\n<ellipse fill=\"lightgrey\" stroke=\"black\" cx=\"51.62\" cy=\"-159.6\" rx=\"51.74\" ry=\"18.27\"/>\n<text text-anchor=\"middle\" x=\"51.62\" y=\"-162.2\" font-family=\"Times,serif\" font-size=\"8.00\">女郎花</text>\n<text text-anchor=\"middle\" x=\"51.62\" y=\"-153.2\" font-family=\"Times,serif\" font-size=\"8.00\">(OKMR)</text>\n</g>\n<!-- 8&#45;&#45;5 -->\n<g id=\"edge8\" class=\"edge\">\n<title>8--5</title>\n<path fill=\"none\" stroke=\"black\" d=\"M92.33,-148.2C99.23,-146.27 106.07,-144.36 112.01,-142.7\"/>\n<text text-anchor=\"middle\" x=\"104.17\" y=\"-139.05\" font-family=\"Times,serif\" font-size=\"8.00\">2</text>\n</g>\n<!-- 9 -->\n<g id=\"node10\" class=\"node\">\n<title>9</title>\n<polygon fill=\"none\" stroke=\"black\" points=\"256.35,-36 215.35,-36 215.35,0 256.35,0 256.35,-36\"/>\n<text text-anchor=\"middle\" x=\"235.85\" y=\"-15.18\" font-family=\"Times,serif\" font-size=\"10.40\">■■■■</text>\n</g>\n<!-- 9&#45;&#45;0 -->\n<g id=\"edge9\" class=\"edge\">\n<title>9--0</title>\n<path fill=\"none\" stroke=\"black\" d=\"M233.05,-36.23C230.74,-51.23 227.48,-72.4 225.16,-87.48\"/>\n<text text-anchor=\"middle\" x=\"227.1\" y=\"-64.45\" font-family=\"Times,serif\" font-size=\"8.00\">1</text>\n</g>\n<!-- 10 -->\n<g id=\"node11\" class=\"node\">\n<title>10</title>\n<ellipse fill=\"lightgrey\" stroke=\"black\" cx=\"186.31\" cy=\"-253.11\" rx=\"51.74\" ry=\"18.27\"/>\n<text text-anchor=\"middle\" x=\"186.31\" y=\"-255.71\" font-family=\"Times,serif\" font-size=\"8.00\">女郎花</text>\n<text text-anchor=\"middle\" x=\"186.31\" y=\"-246.71\" font-family=\"Times,serif\" font-size=\"8.00\">(KBT)</text>\n</g>\n<!-- 11 -->\n<g id=\"node12\" class=\"node\">\n<title>11</title>\n<polygon fill=\"lightyellow\" stroke=\"black\" points=\"246.28,-223.73 211.28,-223.73 211.28,-187.73 246.28,-187.73 246.28,-223.73\"/>\n<text text-anchor=\"middle\" x=\"228.78\" y=\"-201.95\" font-family=\"Times,serif\" font-size=\"14.72\">■■</text>\n</g>\n<!-- 11&#45;&#45;0 -->\n<g id=\"edge13\" class=\"edge\">\n<title>11--0</title>\n<path fill=\"none\" stroke=\"black\" d=\"M227.59,-187.44C226.43,-169.55 224.68,-142.46 223.51,-124.5\"/>\n<text text-anchor=\"middle\" x=\"223.55\" y=\"-158.57\" font-family=\"Times,serif\" font-size=\"8.00\">1</text>\n</g>\n<!-- 11&#45;&#45;7 -->\n<g id=\"edge11\" class=\"edge\">\n<title>11--7</title>\n<path fill=\"none\" stroke=\"black\" d=\"M210.96,-211.71C204.08,-214.01 195.93,-216.75 187.88,-219.45\"/>\n<text text-anchor=\"middle\" x=\"201.42\" y=\"-218.18\" font-family=\"Times,serif\" font-size=\"8.00\">3</text>\n</g>\n<!-- 11&#45;&#45;10 -->\n<g id=\"edge10\" class=\"edge\">\n<title>11--10</title>\n<path fill=\"none\" stroke=\"black\" d=\"M212.48,-223.91C209.11,-227.67 205.57,-231.63 202.21,-235.37\"/>\n<text text-anchor=\"middle\" x=\"205.35\" y=\"-223.24\" font-family=\"Times,serif\" font-size=\"8.00\">6</text>\n</g>\n<!-- 12 -->\n<g id=\"node13\" class=\"node\">\n<title>12</title>\n<ellipse fill=\"lightgrey\" stroke=\"black\" cx=\"277.38\" cy=\"-259.26\" rx=\"51.74\" ry=\"18.27\"/>\n<text text-anchor=\"middle\" x=\"277.38\" y=\"-261.86\" font-family=\"Times,serif\" font-size=\"8.00\">女郎花</text>\n<text text-anchor=\"middle\" x=\"277.38\" y=\"-252.86\" font-family=\"Times,serif\" font-size=\"8.00\">(MTD)</text>\n</g>\n<!-- 12&#45;&#45;11 -->\n<g id=\"edge12\" class=\"edge\">\n<title>12--11</title>\n<path fill=\"none\" stroke=\"black\" d=\"M261.47,-241.73C256.26,-236 250.47,-229.62 245.23,-223.85\"/>\n<text text-anchor=\"middle\" x=\"251.35\" y=\"-226.39\" font-family=\"Times,serif\" font-size=\"8.00\">2</text>\n</g>\n<!-- 13 -->\n<g id=\"node14\" class=\"node\">\n<title>13</title>\n<polygon fill=\"none\" stroke=\"black\" points=\"200.43,-56.73 163.43,-56.73 163.43,-20.73 200.43,-20.73 200.43,-56.73\"/>\n<text text-anchor=\"middle\" x=\"181.93\" y=\"-35.94\" font-family=\"Times,serif\" font-size=\"10.99\">■■■</text>\n</g>\n<!-- 13&#45;&#45;0 -->\n<g id=\"edge14\" class=\"edge\">\n<title>13--0</title>\n<path fill=\"none\" stroke=\"black\" d=\"M192.75,-56.75C198.55,-66.4 205.66,-78.26 211.46,-87.91\"/>\n<text text-anchor=\"middle\" x=\"200.11\" y=\"-74.93\" font-family=\"Times,serif\" font-size=\"8.00\">1</text>\n</g>\n<!-- 13&#45;&#45;4 -->\n<g id=\"edge15\" class=\"edge\">\n<title>13--4</title>\n<path fill=\"none\" stroke=\"black\" d=\"M181.09,-56.99C180.46,-70.53 179.61,-88.92 178.98,-102.51\"/>\n<text text-anchor=\"middle\" x=\"178.03\" y=\"-73.35\" font-family=\"Times,serif\" font-size=\"8.00\">1</text>\n</g>\n<!-- 14 -->\n<g id=\"node15\" class=\"node\">\n<title>14</title>\n<polygon fill=\"none\" stroke=\"black\" points=\"77.27,-264.67 40.27,-264.67 40.27,-228.67 77.27,-228.67 77.27,-264.67\"/>\n<text text-anchor=\"middle\" x=\"58.77\" y=\"-243.88\" font-family=\"Times,serif\" font-size=\"10.99\">■■■</text>\n</g>\n<!-- 14&#45;&#45;7 -->\n<g id=\"edge16\" class=\"edge\">\n<title>14--7</title>\n<path fill=\"none\" stroke=\"black\" d=\"M77.28,-243.71C84.8,-242.51 93.86,-241.07 103,-239.61\"/>\n<text text-anchor=\"middle\" x=\"88.14\" y=\"-244.26\" font-family=\"Times,serif\" font-size=\"8.00\">1</text>\n</g>\n<!-- 14&#45;&#45;8 -->\n<g id=\"edge17\" class=\"edge\">\n<title>14--8</title>\n<path fill=\"none\" stroke=\"black\" d=\"M57.29,-228.63C56.08,-213.88 54.37,-193.12 53.15,-178.22\"/>\n<text text-anchor=\"middle\" x=\"53.22\" y=\"-206.02\" font-family=\"Times,serif\" font-size=\"8.00\">1</text>\n</g>\n<!-- 15 -->\n<g id=\"node16\" class=\"node\">\n<title>15</title>\n<polygon fill=\"lightyellow\" stroke=\"black\" points=\"114.04,-201.12 89.04,-201.12 89.04,-165.12 114.04,-165.12 114.04,-201.12\"/>\n<text text-anchor=\"middle\" x=\"101.54\" y=\"-179.79\" font-family=\"Times,serif\" font-size=\"14.17\">■</text>\n</g>\n<!-- 15&#45;&#45;4 -->\n<g id=\"edge20\" class=\"edge\">\n<title>15--4</title>\n<path fill=\"none\" stroke=\"black\" d=\"M114.19,-172.86C125.91,-163.35 143.58,-149.03 157.37,-137.84\"/>\n<text text-anchor=\"middle\" x=\"133.78\" y=\"-157.95\" font-family=\"Times,serif\" font-size=\"8.00\">2</text>\n</g>\n<!-- 15&#45;&#45;6 -->\n<g id=\"edge22\" class=\"edge\">\n<title>15--6</title>\n<path fill=\"none\" stroke=\"black\" d=\"M93.18,-164.92C86.93,-151.32 78.44,-132.83 72.19,-119.25\"/>\n<text text-anchor=\"middle\" x=\"80.69\" y=\"-135.68\" font-family=\"Times,serif\" font-size=\"8.00\">1</text>\n</g>\n<!-- 15&#45;&#45;8 -->\n<g id=\"edge19\" class=\"edge\">\n<title>15--8</title>\n<path fill=\"none\" stroke=\"black\" d=\"M88.95,-177.19C87.1,-176.32 85.13,-175.39 83.1,-174.43\"/>\n<text text-anchor=\"middle\" x=\"84.02\" y=\"-178.41\" font-family=\"Times,serif\" font-size=\"8.00\">2</text>\n</g>\n<!-- 15&#45;&#45;10 -->\n<g id=\"edge18\" class=\"edge\">\n<title>15--10</title>\n<path fill=\"none\" stroke=\"black\" d=\"M114.05,-193.45C127.68,-204.7 149.7,-222.89 165.86,-236.22\"/>\n<text text-anchor=\"middle\" x=\"137.96\" y=\"-208.44\" font-family=\"Times,serif\" font-size=\"8.00\">4</text>\n</g>\n<!-- 16 -->\n<g id=\"node17\" class=\"node\">\n<title>16</title>\n<ellipse fill=\"lightgrey\" stroke=\"black\" cx=\"156.53\" cy=\"-201.09\" rx=\"51.74\" ry=\"18.27\"/>\n<text text-anchor=\"middle\" x=\"156.53\" y=\"-203.69\" font-family=\"Times,serif\" font-size=\"8.00\">女郎花</text>\n<text text-anchor=\"middle\" x=\"156.53\" y=\"-194.69\" font-family=\"Times,serif\" font-size=\"8.00\">(KNK)</text>\n</g>\n<!-- 16&#45;&#45;15 -->\n<g id=\"edge21\" class=\"edge\">\n<title>16--15</title>\n<path fill=\"none\" stroke=\"black\" d=\"M118.34,-188.61C116.88,-188.13 115.46,-187.67 114.11,-187.23\"/>\n<text text-anchor=\"middle\" x=\"118.23\" y=\"-181.52\" font-family=\"Times,serif\" font-size=\"8.00\">1</text>\n</g>\n<!-- 17 -->\n<g id=\"node18\" class=\"node\">\n<title>17</title>\n<polygon fill=\"lightyellow\" stroke=\"black\" points=\"150.52,-314.94 125.52,-314.94 125.52,-278.94 150.52,-278.94 150.52,-314.94\"/>\n<text text-anchor=\"middle\" x=\"138.02\" y=\"-293.61\" font-family=\"Times,serif\" font-size=\"13.54\">■</text>\n</g>\n<!-- 17&#45;&#45;7 -->\n<g id=\"edge25\" class=\"edge\">\n<title>17--7</title>\n<path fill=\"none\" stroke=\"black\" d=\"M141.43,-278.87C143.09,-270.02 145.1,-259.39 146.77,-250.49\"/>\n<text text-anchor=\"middle\" x=\"142.1\" y=\"-267.28\" font-family=\"Times,serif\" font-size=\"8.00\">2</text>\n</g>\n<!-- 17&#45;&#45;10 -->\n<g id=\"edge23\" class=\"edge\">\n<title>17--10</title>\n<path fill=\"none\" stroke=\"black\" d=\"M150.71,-285.43C155.74,-280.86 161.63,-275.51 167.16,-270.49\"/>\n<text text-anchor=\"middle\" x=\"156.94\" y=\"-280.56\" font-family=\"Times,serif\" font-size=\"8.00\">4</text>\n</g>\n<!-- 17&#45;&#45;16 -->\n<g id=\"edge24\" class=\"edge\">\n<title>17--16</title>\n<path fill=\"none\" stroke=\"black\" d=\"M141.51,-278.91C144.77,-261.99 149.64,-236.79 152.94,-219.69\"/>\n<text text-anchor=\"middle\" x=\"145.22\" y=\"-251.9\" font-family=\"Times,serif\" font-size=\"8.00\">2</text>\n</g>\n<!-- 18 -->\n<g id=\"node19\" class=\"node\">\n<title>18</title>\n<polygon fill=\"lightyellow\" stroke=\"black\" points=\"245.01,-202.23 218.01,-202.23 218.01,-166.23 245.01,-166.23 245.01,-202.23\"/>\n<text text-anchor=\"middle\" x=\"231.51\" y=\"-180\" font-family=\"Times,serif\" font-size=\"17.17\">■</text>\n</g>\n<!-- 18&#45;&#45;0 -->\n<g id=\"edge30\" class=\"edge\">\n<title>18--0</title>\n<path fill=\"none\" stroke=\"black\" d=\"M229.38,-166.09C227.91,-153.63 225.97,-137.13 224.5,-124.58\"/>\n<text text-anchor=\"middle\" x=\"224.94\" y=\"-147.93\" font-family=\"Times,serif\" font-size=\"8.00\">1</text>\n</g>\n<!-- 18&#45;&#45;2 -->\n<g id=\"edge32\" class=\"edge\">\n<title>18--2</title>\n<path fill=\"none\" stroke=\"black\" d=\"M245.09,-184.75C251.83,-185 260.44,-185.33 269.43,-185.67\"/>\n<text text-anchor=\"middle\" x=\"255.26\" y=\"-187.81\" font-family=\"Times,serif\" font-size=\"8.00\">1</text>\n</g>\n<!-- 18&#45;&#45;4 -->\n<g id=\"edge31\" class=\"edge\">\n<title>18--4</title>\n<path fill=\"none\" stroke=\"black\" d=\"M217.76,-167.95C210.22,-159.02 200.87,-147.94 193.14,-138.79\"/>\n<text text-anchor=\"middle\" x=\"203.45\" y=\"-155.97\" font-family=\"Times,serif\" font-size=\"8.00\">1</text>\n</g>\n<!-- 18&#45;&#45;7 -->\n<g id=\"edge27\" class=\"edge\">\n<title>18--7</title>\n<path fill=\"none\" stroke=\"black\" d=\"M217.72,-192.35C206.67,-198.85 190.83,-208.18 177.27,-216.16\"/>\n<text text-anchor=\"middle\" x=\"195.5\" y=\"-206.85\" font-family=\"Times,serif\" font-size=\"8.00\">4</text>\n</g>\n<!-- 18&#45;&#45;10 -->\n<g id=\"edge28\" class=\"edge\">\n<title>18--10</title>\n<path fill=\"none\" stroke=\"black\" d=\"M219.63,-202.33C213.04,-212.38 204.87,-224.83 198.26,-234.9\"/>\n<text text-anchor=\"middle\" x=\"210.95\" y=\"-221.21\" font-family=\"Times,serif\" font-size=\"8.00\">4</text>\n</g>\n<!-- 18&#45;&#45;12 -->\n<g id=\"edge29\" class=\"edge\">\n<title>18--12</title>\n<path fill=\"none\" stroke=\"black\" d=\"M242.61,-202.4C249.83,-214.19 259.19,-229.5 266.38,-241.26\"/>\n<text text-anchor=\"middle\" x=\"252.5\" y=\"-215.43\" font-family=\"Times,serif\" font-size=\"8.00\">2</text>\n</g>\n<!-- 18&#45;&#45;16 -->\n<g id=\"edge26\" class=\"edge\">\n<title>18--16</title>\n<path fill=\"none\" stroke=\"black\" d=\"M217.76,-187.33C212.69,-188.47 206.63,-189.83 200.32,-191.24\"/>\n<text text-anchor=\"middle\" x=\"213.04\" y=\"-182.88\" font-family=\"Times,serif\" font-size=\"8.00\">11</text>\n</g>\n<!-- 19 -->\n<g id=\"node20\" class=\"node\">\n<title>19</title>\n<polygon fill=\"lightyellow\" stroke=\"black\" points=\"144.47,-123.25 112.47,-123.25 112.47,-87.25 144.47,-87.25 144.47,-123.25\"/>\n<text text-anchor=\"middle\" x=\"128.47\" y=\"-102\" font-family=\"Times,serif\" font-size=\"12.82\">■■</text>\n</g>\n<!-- 19&#45;&#45;0 -->\n<g id=\"edge34\" class=\"edge\">\n<title>19--0</title>\n<path fill=\"none\" stroke=\"black\" d=\"M144.82,-105.38C152.17,-105.44 161.3,-105.51 170.67,-105.58\"/>\n<text text-anchor=\"middle\" x=\"155.75\" y=\"-99.08\" font-family=\"Times,serif\" font-size=\"8.00\">2</text>\n</g>\n<!-- 19&#45;&#45;6 -->\n<g id=\"edge35\" class=\"edge\">\n<title>19--6</title>\n<path fill=\"none\" stroke=\"black\" d=\"M112.17,-104.21C112.02,-104.2 111.87,-104.19 111.72,-104.18\"/>\n<text text-anchor=\"middle\" x=\"109.94\" y=\"-106.79\" font-family=\"Times,serif\" font-size=\"8.00\">1</text>\n</g>\n<!-- 19&#45;&#45;8 -->\n<g id=\"edge36\" class=\"edge\">\n<title>19--8</title>\n<path fill=\"none\" stroke=\"black\" d=\"M112.18,-116.78C101.34,-124.45 86.93,-134.63 74.89,-143.15\"/>\n<text text-anchor=\"middle\" x=\"91.53\" y=\"-132.56\" font-family=\"Times,serif\" font-size=\"8.00\">1</text>\n</g>\n<!-- 19&#45;&#45;16 -->\n<g id=\"edge33\" class=\"edge\">\n<title>19--16</title>\n<path fill=\"none\" stroke=\"black\" d=\"M133.75,-123.28C138.71,-140.2 146.08,-165.39 151.09,-182.49\"/>\n<text text-anchor=\"middle\" x=\"140.42\" y=\"-155.48\" font-family=\"Times,serif\" font-size=\"8.00\">2</text>\n</g>\n<!-- 20 -->\n<g id=\"node21\" class=\"node\">\n<title>20</title>\n<polygon fill=\"none\" stroke=\"black\" points=\"410.82,-234.88 381.82,-234.88 381.82,-198.88 410.82,-198.88 410.82,-234.88\"/>\n<text text-anchor=\"middle\" x=\"396.32\" y=\"-214.07\" font-family=\"Times,serif\" font-size=\"10.40\">■■</text>\n</g>\n<!-- 20&#45;&#45;2 -->\n<g id=\"edge37\" class=\"edge\">\n<title>20--2</title>\n<path fill=\"none\" stroke=\"black\" d=\"M381.77,-211.24C374.41,-208.38 365.13,-204.78 356.04,-201.26\"/>\n<text text-anchor=\"middle\" x=\"366.91\" y=\"-208.85\" font-family=\"Times,serif\" font-size=\"8.00\">1</text>\n</g>\n</g>\n</svg>"
          },
          "metadata": {}
        }
      ]
    },
    {
      "cell_type": "markdown",
      "source": [
        "#### 3.2.3 | *Kiku*, en. chrysanthemum"
      ],
      "metadata": {
        "id": "p7kJ52X1dXZQ"
      }
    },
    {
      "cell_type": "code",
      "source": [
        "dot_viz_aggr(\"菊\")"
      ],
      "metadata": {
        "id": "yvm8B8gf-MkO",
        "colab": {
          "base_uri": "https://localhost:8080/",
          "height": 578
        },
        "outputId": "54b594dd-ebcf-42fe-ac89-013a9a95f888"
      },
      "execution_count": 15,
      "outputs": [
        {
          "output_type": "display_data",
          "data": {
            "text/plain": [
              "<IPython.core.display.SVG object>"
            ],
            "image/svg+xml": "<svg xmlns=\"http://www.w3.org/2000/svg\" xmlns:xlink=\"http://www.w3.org/1999/xlink\" width=\"378pt\" height=\"417pt\" viewBox=\"0.00 0.00 378.01 417.36\">\n<g id=\"graph0\" class=\"graph\" transform=\"scale(1 1) rotate(0) translate(4 413.36)\">\n<title>%3</title>\n<polygon fill=\"white\" stroke=\"transparent\" points=\"-4,4 -4,-413.36 374.01,-413.36 374.01,4 -4,4\"/>\n<!-- 0 -->\n<g id=\"node1\" class=\"node\">\n<title>0</title>\n<ellipse fill=\"lightgrey\" stroke=\"black\" cx=\"109.58\" cy=\"-181.05\" rx=\"28.98\" ry=\"18.27\"/>\n<text text-anchor=\"middle\" x=\"109.58\" y=\"-183.65\" font-family=\"Times,serif\" font-size=\"8.00\">菊</text>\n<text text-anchor=\"middle\" x=\"109.58\" y=\"-174.65\" font-family=\"Times,serif\" font-size=\"8.00\">(OZW)</text>\n</g>\n<!-- 1 -->\n<g id=\"node2\" class=\"node\">\n<title>1</title>\n<polygon fill=\"none\" stroke=\"black\" points=\"77.29,-117.61 42.29,-117.61 42.29,-81.61 77.29,-81.61 77.29,-117.61\"/>\n<text text-anchor=\"middle\" x=\"59.79\" y=\"-96.8\" font-family=\"Times,serif\" font-size=\"10.40\">■■■</text>\n</g>\n<!-- 1&#45;&#45;0 -->\n<g id=\"edge1\" class=\"edge\">\n<title>1--0</title>\n<path fill=\"none\" stroke=\"black\" d=\"M70.84,-117.69C79.26,-131.46 90.79,-150.31 99.07,-163.86\"/>\n<text text-anchor=\"middle\" x=\"86.96\" y=\"-143.38\" font-family=\"Times,serif\" font-size=\"8.00\">1</text>\n</g>\n<!-- 2 -->\n<g id=\"node3\" class=\"node\">\n<title>2</title>\n<ellipse fill=\"lightgrey\" stroke=\"black\" cx=\"261.46\" cy=\"-177.45\" rx=\"28.98\" ry=\"18.27\"/>\n<text text-anchor=\"middle\" x=\"261.46\" y=\"-180.05\" font-family=\"Times,serif\" font-size=\"8.00\">菊</text>\n<text text-anchor=\"middle\" x=\"261.46\" y=\"-171.05\" font-family=\"Times,serif\" font-size=\"8.00\">(MTD)</text>\n</g>\n<!-- 3 -->\n<g id=\"node4\" class=\"node\">\n<title>3</title>\n<polygon fill=\"none\" stroke=\"black\" points=\"365.62,-224.27 336.62,-224.27 336.62,-188.27 365.62,-188.27 365.62,-224.27\"/>\n<text text-anchor=\"middle\" x=\"351.12\" y=\"-203.45\" font-family=\"Times,serif\" font-size=\"10.40\">■■</text>\n</g>\n<!-- 3&#45;&#45;2 -->\n<g id=\"edge2\" class=\"edge\">\n<title>3--2</title>\n<path fill=\"none\" stroke=\"black\" d=\"M336.31,-201.51C323.08,-197.26 303.39,-190.93 287.53,-185.83\"/>\n<text text-anchor=\"middle\" x=\"309.92\" y=\"-196.27\" font-family=\"Times,serif\" font-size=\"8.00\">1</text>\n</g>\n<!-- 4 -->\n<g id=\"node5\" class=\"node\">\n<title>4</title>\n<polygon fill=\"none\" stroke=\"black\" points=\"370.01,-170.76 329.01,-170.76 329.01,-134.76 370.01,-134.76 370.01,-170.76\"/>\n<text text-anchor=\"middle\" x=\"349.51\" y=\"-149.95\" font-family=\"Times,serif\" font-size=\"10.40\">■■■■</text>\n</g>\n<!-- 4&#45;&#45;2 -->\n<g id=\"edge3\" class=\"edge\">\n<title>4--2</title>\n<path fill=\"none\" stroke=\"black\" d=\"M328.64,-158.61C316.54,-162.01 301.17,-166.32 288.19,-169.96\"/>\n<text text-anchor=\"middle\" x=\"306.41\" y=\"-166.89\" font-family=\"Times,serif\" font-size=\"8.00\">1</text>\n</g>\n<!-- 5 -->\n<g id=\"node6\" class=\"node\">\n<title>5</title>\n<polygon fill=\"none\" stroke=\"black\" points=\"41,-180.03 0,-180.03 0,-144.03 41,-144.03 41,-180.03\"/>\n<text text-anchor=\"middle\" x=\"20.5\" y=\"-159.21\" font-family=\"Times,serif\" font-size=\"10.40\">■■■■</text>\n</g>\n<!-- 5&#45;&#45;0 -->\n<g id=\"edge4\" class=\"edge\">\n<title>5--0</title>\n<path fill=\"none\" stroke=\"black\" d=\"M41.16,-166.44C53.29,-169.03 68.78,-172.34 81.95,-175.15\"/>\n<text text-anchor=\"middle\" x=\"59.55\" y=\"-173.4\" font-family=\"Times,serif\" font-size=\"8.00\">1</text>\n</g>\n<!-- 6 -->\n<g id=\"node7\" class=\"node\">\n<title>6</title>\n<ellipse fill=\"lightgrey\" stroke=\"black\" cx=\"129.18\" cy=\"-109.46\" rx=\"28.98\" ry=\"18.27\"/>\n<text text-anchor=\"middle\" x=\"129.18\" y=\"-112.06\" font-family=\"Times,serif\" font-size=\"8.00\">菊</text>\n<text text-anchor=\"middle\" x=\"129.18\" y=\"-103.06\" font-family=\"Times,serif\" font-size=\"8.00\">(K&amp;A)</text>\n</g>\n<!-- 7 -->\n<g id=\"node8\" class=\"node\">\n<title>7</title>\n<polygon fill=\"none\" stroke=\"black\" points=\"128.11,-36 99.11,-36 99.11,0 128.11,0 128.11,-36\"/>\n<text text-anchor=\"middle\" x=\"113.61\" y=\"-15.18\" font-family=\"Times,serif\" font-size=\"10.40\">■■</text>\n</g>\n<!-- 7&#45;&#45;6 -->\n<g id=\"edge5\" class=\"edge\">\n<title>7--6</title>\n<path fill=\"none\" stroke=\"black\" d=\"M116.68,-36.07C119.39,-52 123.33,-75.1 126.06,-91.11\"/>\n<text text-anchor=\"middle\" x=\"119.37\" y=\"-66.19\" font-family=\"Times,serif\" font-size=\"8.00\">1</text>\n</g>\n<!-- 8 -->\n<g id=\"node9\" class=\"node\">\n<title>8</title>\n<polygon fill=\"none\" stroke=\"black\" points=\"201.08,-127.96 171.08,-127.96 171.08,-91.96 201.08,-91.96 201.08,-127.96\"/>\n<text text-anchor=\"middle\" x=\"186.08\" y=\"-107.17\" font-family=\"Times,serif\" font-size=\"10.99\">■■</text>\n</g>\n<!-- 8&#45;&#45;0 -->\n<g id=\"edge7\" class=\"edge\">\n<title>8--0</title>\n<path fill=\"none\" stroke=\"black\" d=\"M170.97,-124.01C157.99,-136.07 139.33,-153.41 125.99,-165.8\"/>\n<text text-anchor=\"middle\" x=\"146.48\" y=\"-147.51\" font-family=\"Times,serif\" font-size=\"8.00\">1</text>\n</g>\n<!-- 8&#45;&#45;2 -->\n<g id=\"edge6\" class=\"edge\">\n<title>8--2</title>\n<path fill=\"none\" stroke=\"black\" d=\"M201.34,-123.62C213.9,-134.87 231.69,-150.79 244.65,-162.41\"/>\n<text text-anchor=\"middle\" x=\"221\" y=\"-136.61\" font-family=\"Times,serif\" font-size=\"8.00\">1</text>\n</g>\n<!-- 9 -->\n<g id=\"node10\" class=\"node\">\n<title>9</title>\n<ellipse fill=\"lightgrey\" stroke=\"black\" cx=\"220.6\" cy=\"-160.24\" rx=\"28.98\" ry=\"18.27\"/>\n<text text-anchor=\"middle\" x=\"220.6\" y=\"-162.84\" font-family=\"Times,serif\" font-size=\"8.00\">菊</text>\n<text text-anchor=\"middle\" x=\"220.6\" y=\"-153.84\" font-family=\"Times,serif\" font-size=\"8.00\">(KNK)</text>\n</g>\n<!-- 10 -->\n<g id=\"node11\" class=\"node\">\n<title>10</title>\n<polygon fill=\"none\" stroke=\"black\" points=\"331.23,-155.41 301.23,-155.41 301.23,-119.41 331.23,-119.41 331.23,-155.41\"/>\n<text text-anchor=\"middle\" x=\"316.23\" y=\"-134.62\" font-family=\"Times,serif\" font-size=\"10.99\">■■</text>\n</g>\n<!-- 10&#45;&#45;9 -->\n<g id=\"edge8\" class=\"edge\">\n<title>10--9</title>\n<path fill=\"none\" stroke=\"black\" d=\"M300.86,-141.08C286.61,-144.48 265.07,-149.63 247.89,-153.73\"/>\n<text text-anchor=\"middle\" x=\"272.38\" y=\"-150\" font-family=\"Times,serif\" font-size=\"8.00\">2</text>\n</g>\n<!-- 11 -->\n<g id=\"node12\" class=\"node\">\n<title>11</title>\n<ellipse fill=\"lightgrey\" stroke=\"black\" cx=\"137.72\" cy=\"-304.72\" rx=\"31.64\" ry=\"18.27\"/>\n<text text-anchor=\"middle\" x=\"137.72\" y=\"-307.32\" font-family=\"Times,serif\" font-size=\"8.00\">菊</text>\n<text text-anchor=\"middle\" x=\"137.72\" y=\"-298.32\" font-family=\"Times,serif\" font-size=\"8.00\">(KTGR)</text>\n</g>\n<!-- 12 -->\n<g id=\"node13\" class=\"node\">\n<title>12</title>\n<polygon fill=\"none\" stroke=\"black\" points=\"162.86,-409.36 115.86,-409.36 115.86,-373.36 162.86,-373.36 162.86,-409.36\"/>\n<text text-anchor=\"middle\" x=\"139.36\" y=\"-388.54\" font-family=\"Times,serif\" font-size=\"10.40\">■■■■■</text>\n</g>\n<!-- 12&#45;&#45;11 -->\n<g id=\"edge9\" class=\"edge\">\n<title>12--11</title>\n<path fill=\"none\" stroke=\"black\" d=\"M139.02,-372.99C138.74,-358.38 138.35,-338.04 138.08,-323.37\"/>\n<text text-anchor=\"middle\" x=\"136.55\" y=\"-350.78\" font-family=\"Times,serif\" font-size=\"8.00\">1</text>\n</g>\n<!-- 13 -->\n<g id=\"node14\" class=\"node\">\n<title>13</title>\n<polygon fill=\"none\" stroke=\"black\" points=\"178.53,-149.46 148.53,-149.46 148.53,-113.46 178.53,-113.46 178.53,-149.46\"/>\n<text text-anchor=\"middle\" x=\"163.53\" y=\"-128.75\" font-family=\"Times,serif\" font-size=\"11.51\">■■</text>\n</g>\n<!-- 13&#45;&#45;0 -->\n<g id=\"edge12\" class=\"edge\">\n<title>13--0</title>\n<path fill=\"none\" stroke=\"black\" d=\"M148.5,-145.27C141.64,-151.58 133.49,-159.07 126.43,-165.57\"/>\n<text text-anchor=\"middle\" x=\"135.47\" y=\"-149.02\" font-family=\"Times,serif\" font-size=\"8.00\">1</text>\n</g>\n<!-- 13&#45;&#45;9 -->\n<g id=\"edge10\" class=\"edge\">\n<title>13--9</title>\n<path fill=\"none\" stroke=\"black\" d=\"M178.83,-139.17C184.64,-142.1 191.39,-145.51 197.75,-148.72\"/>\n<text text-anchor=\"middle\" x=\"186.29\" y=\"-146.54\" font-family=\"Times,serif\" font-size=\"8.00\">1</text>\n</g>\n<!-- 14 -->\n<g id=\"node15\" class=\"node\">\n<title>14</title>\n<ellipse fill=\"lightgrey\" stroke=\"black\" cx=\"239.15\" cy=\"-211.55\" rx=\"25.41\" ry=\"18.27\"/>\n<text text-anchor=\"middle\" x=\"239.15\" y=\"-214.15\" font-family=\"Times,serif\" font-size=\"8.00\">菊</text>\n<text text-anchor=\"middle\" x=\"239.15\" y=\"-205.15\" font-family=\"Times,serif\" font-size=\"8.00\">(KSJ)</text>\n</g>\n<!-- 14&#45;&#45;13 -->\n<g id=\"edge11\" class=\"edge\">\n<title>14--13</title>\n<path fill=\"none\" stroke=\"black\" d=\"M224.57,-196.11C211.35,-182.11 191.95,-161.56 178.58,-147.4\"/>\n<text text-anchor=\"middle\" x=\"199.58\" y=\"-174.36\" font-family=\"Times,serif\" font-size=\"8.00\">1</text>\n</g>\n<!-- 15 -->\n<g id=\"node16\" class=\"node\">\n<title>15</title>\n<ellipse fill=\"lightgrey\" stroke=\"black\" cx=\"213.76\" cy=\"-296.22\" rx=\"27.65\" ry=\"18.27\"/>\n<text text-anchor=\"middle\" x=\"213.76\" y=\"-298.82\" font-family=\"Times,serif\" font-size=\"8.00\">菊</text>\n<text text-anchor=\"middle\" x=\"213.76\" y=\"-289.82\" font-family=\"Times,serif\" font-size=\"8.00\">(KBT)</text>\n</g>\n<!-- 16 -->\n<g id=\"node17\" class=\"node\">\n<title>16</title>\n<polygon fill=\"none\" stroke=\"black\" points=\"316.62,-269.83 286.62,-269.83 286.62,-233.83 316.62,-233.83 316.62,-269.83\"/>\n<text text-anchor=\"middle\" x=\"301.62\" y=\"-249.12\" font-family=\"Times,serif\" font-size=\"11.51\">■■</text>\n</g>\n<!-- 16&#45;&#45;2 -->\n<g id=\"edge15\" class=\"edge\">\n<title>16--2</title>\n<path fill=\"none\" stroke=\"black\" d=\"M291.9,-233.83C285.54,-222.05 277.27,-206.73 270.95,-195.03\"/>\n<text text-anchor=\"middle\" x=\"279.42\" y=\"-217.03\" font-family=\"Times,serif\" font-size=\"8.00\">1</text>\n</g>\n<!-- 16&#45;&#45;14 -->\n<g id=\"edge14\" class=\"edge\">\n<title>16--14</title>\n<path fill=\"none\" stroke=\"black\" d=\"M286.5,-242.08C277.97,-236.59 267.25,-229.67 258.16,-223.81\"/>\n<text text-anchor=\"middle\" x=\"270.33\" y=\"-235.55\" font-family=\"Times,serif\" font-size=\"8.00\">1</text>\n</g>\n<!-- 16&#45;&#45;15 -->\n<g id=\"edge13\" class=\"edge\">\n<title>16--15</title>\n<path fill=\"none\" stroke=\"black\" d=\"M286.32,-259.56C272.35,-266.62 251.56,-277.12 235.81,-285.08\"/>\n<text text-anchor=\"middle\" x=\"263.06\" y=\"-274.92\" font-family=\"Times,serif\" font-size=\"8.00\">1</text>\n</g>\n<!-- 17 -->\n<g id=\"node18\" class=\"node\">\n<title>17</title>\n<polygon fill=\"none\" stroke=\"black\" points=\"275.6,-106.68 245.6,-106.68 245.6,-70.68 275.6,-70.68 275.6,-106.68\"/>\n<text text-anchor=\"middle\" x=\"260.6\" y=\"-85.89\" font-family=\"Times,serif\" font-size=\"10.99\">■■</text>\n</g>\n<!-- 17&#45;&#45;2 -->\n<g id=\"edge17\" class=\"edge\">\n<title>17--2</title>\n<path fill=\"none\" stroke=\"black\" d=\"M260.78,-107.07C260.92,-122.21 261.13,-143.56 261.28,-158.78\"/>\n<text text-anchor=\"middle\" x=\"259.03\" y=\"-135.52\" font-family=\"Times,serif\" font-size=\"8.00\">1</text>\n</g>\n<!-- 17&#45;&#45;9 -->\n<g id=\"edge16\" class=\"edge\">\n<title>17--9</title>\n<path fill=\"none\" stroke=\"black\" d=\"M250.51,-106.74C244.4,-117.67 236.64,-131.55 230.55,-142.44\"/>\n<text text-anchor=\"middle\" x=\"238.53\" y=\"-127.19\" font-family=\"Times,serif\" font-size=\"8.00\">1</text>\n</g>\n<!-- 18 -->\n<g id=\"node19\" class=\"node\">\n<title>18</title>\n<polygon fill=\"none\" stroke=\"black\" points=\"259.68,-400.49 218.68,-400.49 218.68,-364.49 259.68,-364.49 259.68,-400.49\"/>\n<text text-anchor=\"middle\" x=\"239.18\" y=\"-379.67\" font-family=\"Times,serif\" font-size=\"10.40\">■■■■</text>\n</g>\n<!-- 18&#45;&#45;15 -->\n<g id=\"edge18\" class=\"edge\">\n<title>18--15</title>\n<path fill=\"none\" stroke=\"black\" d=\"M233.79,-364.19C229.47,-349.55 223.46,-329.12 219.15,-314.49\"/>\n<text text-anchor=\"middle\" x=\"224.47\" y=\"-341.94\" font-family=\"Times,serif\" font-size=\"8.00\">1</text>\n</g>\n<!-- 19 -->\n<g id=\"node20\" class=\"node\">\n<title>19</title>\n<polygon fill=\"none\" stroke=\"black\" points=\"89.49,-381.74 60.49,-381.74 60.49,-345.74 89.49,-345.74 89.49,-381.74\"/>\n<text text-anchor=\"middle\" x=\"74.99\" y=\"-360.92\" font-family=\"Times,serif\" font-size=\"10.40\">■■</text>\n</g>\n<!-- 19&#45;&#45;11 -->\n<g id=\"edge19\" class=\"edge\">\n<title>19--11</title>\n<path fill=\"none\" stroke=\"black\" d=\"M89.54,-350.05C98.95,-341.2 111.23,-329.64 121.03,-320.42\"/>\n<text text-anchor=\"middle\" x=\"103.29\" y=\"-337.83\" font-family=\"Times,serif\" font-size=\"8.00\">1</text>\n</g>\n<!-- 20 -->\n<g id=\"node21\" class=\"node\">\n<title>20</title>\n<polygon fill=\"none\" stroke=\"black\" points=\"305.67,-124.72 268.67,-124.72 268.67,-88.72 305.67,-88.72 305.67,-124.72\"/>\n<text text-anchor=\"middle\" x=\"287.17\" y=\"-104.01\" font-family=\"Times,serif\" font-size=\"11.51\">■■■</text>\n</g>\n<!-- 20&#45;&#45;2 -->\n<g id=\"edge20\" class=\"edge\">\n<title>20--2</title>\n<path fill=\"none\" stroke=\"black\" d=\"M280.55,-124.94C276.74,-135.41 271.97,-148.54 268.15,-159.05\"/>\n<text text-anchor=\"middle\" x=\"272.35\" y=\"-135.59\" font-family=\"Times,serif\" font-size=\"8.00\">2</text>\n</g>\n<!-- 20&#45;&#45;9 -->\n<g id=\"edge21\" class=\"edge\">\n<title>20--9</title>\n<path fill=\"none\" stroke=\"black\" d=\"M268.63,-121.63C259.24,-129.18 247.89,-138.3 238.59,-145.78\"/>\n<text text-anchor=\"middle\" x=\"251.61\" y=\"-136.31\" font-family=\"Times,serif\" font-size=\"8.00\">1</text>\n</g>\n<!-- 21 -->\n<g id=\"node22\" class=\"node\">\n<title>21</title>\n<ellipse fill=\"lightgrey\" stroke=\"black\" cx=\"97.58\" cy=\"-222.99\" rx=\"33.47\" ry=\"18.27\"/>\n<text text-anchor=\"middle\" x=\"97.58\" y=\"-225.59\" font-family=\"Times,serif\" font-size=\"8.00\">菊</text>\n<text text-anchor=\"middle\" x=\"97.58\" y=\"-216.59\" font-family=\"Times,serif\" font-size=\"8.00\">(KMCY)</text>\n</g>\n<!-- 22 -->\n<g id=\"node23\" class=\"node\">\n<title>22</title>\n<polygon fill=\"none\" stroke=\"black\" points=\"54.9,-266.51 24.9,-266.51 24.9,-230.51 54.9,-230.51 54.9,-266.51\"/>\n<text text-anchor=\"middle\" x=\"39.9\" y=\"-245.72\" font-family=\"Times,serif\" font-size=\"10.99\">■■</text>\n</g>\n<!-- 22&#45;&#45;0 -->\n<g id=\"edge23\" class=\"edge\">\n<title>22--0</title>\n<path fill=\"none\" stroke=\"black\" d=\"M55.02,-233.87C66.39,-222.87 81.93,-207.82 93.52,-196.6\"/>\n<text text-anchor=\"middle\" x=\"72.27\" y=\"-217.83\" font-family=\"Times,serif\" font-size=\"8.00\">1</text>\n</g>\n<!-- 22&#45;&#45;21 -->\n<g id=\"edge22\" class=\"edge\">\n<title>22--21</title>\n<path fill=\"none\" stroke=\"black\" d=\"M55.06,-241.8C60.13,-239.56 65.94,-236.99 71.6,-234.48\"/>\n<text text-anchor=\"middle\" x=\"61.33\" y=\"-240.74\" font-family=\"Times,serif\" font-size=\"8.00\">1</text>\n</g>\n<!-- 23 -->\n<g id=\"node24\" class=\"node\">\n<title>23</title>\n<polygon fill=\"lightyellow\" stroke=\"black\" points=\"201.51,-225.52 176.51,-225.52 176.51,-189.52 201.51,-189.52 201.51,-225.52\"/>\n<text text-anchor=\"middle\" x=\"189.01\" y=\"-203.93\" font-family=\"Times,serif\" font-size=\"13.86\">■</text>\n</g>\n<!-- 23&#45;&#45;0 -->\n<g id=\"edge30\" class=\"edge\">\n<title>23--0</title>\n<path fill=\"none\" stroke=\"black\" d=\"M176.25,-203.27C165.28,-199.61 149.13,-194.23 135.47,-189.68\"/>\n<text text-anchor=\"middle\" x=\"153.86\" y=\"-190.07\" font-family=\"Times,serif\" font-size=\"8.00\">1</text>\n</g>\n<!-- 23&#45;&#45;2 -->\n<g id=\"edge28\" class=\"edge\">\n<title>23--2</title>\n<path fill=\"none\" stroke=\"black\" d=\"M201.63,-202.28C211.36,-198.24 225.11,-192.54 236.98,-187.61\"/>\n<text text-anchor=\"middle\" x=\"217.3\" y=\"-188.55\" font-family=\"Times,serif\" font-size=\"8.00\">1</text>\n</g>\n<!-- 23&#45;&#45;9 -->\n<g id=\"edge26\" class=\"edge\">\n<title>23--9</title>\n<path fill=\"none\" stroke=\"black\" d=\"M201.13,-189.38C203.78,-185.42 206.57,-181.24 209.18,-177.33\"/>\n<text text-anchor=\"middle\" x=\"203.16\" y=\"-185.95\" font-family=\"Times,serif\" font-size=\"8.00\">1</text>\n</g>\n<!-- 23&#45;&#45;14 -->\n<g id=\"edge27\" class=\"edge\">\n<title>23--14</title>\n<path fill=\"none\" stroke=\"black\" d=\"M201.66,-208.54C205.37,-208.84 209.57,-209.17 213.78,-209.51\"/>\n<text text-anchor=\"middle\" x=\"205.72\" y=\"-211.62\" font-family=\"Times,serif\" font-size=\"8.00\">1</text>\n</g>\n<!-- 23&#45;&#45;15 -->\n<g id=\"edge25\" class=\"edge\">\n<title>23--15</title>\n<path fill=\"none\" stroke=\"black\" d=\"M194.14,-225.9C198.39,-241.12 204.39,-262.65 208.64,-277.86\"/>\n<text text-anchor=\"middle\" x=\"199.39\" y=\"-245.48\" font-family=\"Times,serif\" font-size=\"8.00\">2</text>\n</g>\n<!-- 23&#45;&#45;21 -->\n<g id=\"edge24\" class=\"edge\">\n<title>23--21</title>\n<path fill=\"none\" stroke=\"black\" d=\"M176.3,-209.67C164.23,-211.71 145.58,-214.87 129.47,-217.59\"/>\n<text text-anchor=\"middle\" x=\"150.88\" y=\"-216.23\" font-family=\"Times,serif\" font-size=\"8.00\">2</text>\n</g>\n<!-- 24 -->\n<g id=\"node25\" class=\"node\">\n<title>24</title>\n<ellipse fill=\"lightgrey\" stroke=\"black\" cx=\"228.2\" cy=\"-272.74\" rx=\"33.47\" ry=\"18.27\"/>\n<text text-anchor=\"middle\" x=\"228.2\" y=\"-275.34\" font-family=\"Times,serif\" font-size=\"8.00\">菊</text>\n<text text-anchor=\"middle\" x=\"228.2\" y=\"-266.34\" font-family=\"Times,serif\" font-size=\"8.00\">(OKMR)</text>\n</g>\n<!-- 24&#45;&#45;23 -->\n<g id=\"edge29\" class=\"edge\">\n<title>24--23</title>\n<path fill=\"none\" stroke=\"black\" d=\"M217.7,-255.26C212.25,-246.21 205.61,-235.15 200.09,-225.96\"/>\n<text text-anchor=\"middle\" x=\"210.89\" y=\"-243.21\" font-family=\"Times,serif\" font-size=\"8.00\">1</text>\n</g>\n<!-- 25 -->\n<g id=\"node26\" class=\"node\">\n<title>25</title>\n<polygon fill=\"none\" stroke=\"black\" points=\"143.12,-252.32 113.12,-252.32 113.12,-216.32 143.12,-216.32 143.12,-252.32\"/>\n<text text-anchor=\"middle\" x=\"128.12\" y=\"-231.61\" font-family=\"Times,serif\" font-size=\"11.51\">■■</text>\n</g>\n<!-- 25&#45;&#45;0 -->\n<g id=\"edge33\" class=\"edge\">\n<title>25--0</title>\n<path fill=\"none\" stroke=\"black\" d=\"M121.84,-216.29C119.91,-210.73 117.78,-204.62 115.85,-199.07\"/>\n<text text-anchor=\"middle\" x=\"116.85\" y=\"-201.28\" font-family=\"Times,serif\" font-size=\"8.00\">1</text>\n</g>\n<!-- 25&#45;&#45;9 -->\n<g id=\"edge31\" class=\"edge\">\n<title>25--9</title>\n<path fill=\"none\" stroke=\"black\" d=\"M143.39,-222.09C159.6,-209.1 185.21,-188.59 202.45,-174.78\"/>\n<text text-anchor=\"middle\" x=\"170.92\" y=\"-192.04\" font-family=\"Times,serif\" font-size=\"8.00\">1</text>\n</g>\n<!-- 25&#45;&#45;11 -->\n<g id=\"edge32\" class=\"edge\">\n<title>25--11</title>\n<path fill=\"none\" stroke=\"black\" d=\"M130.59,-252.45C131.99,-262.72 133.74,-275.54 135.16,-285.92\"/>\n<text text-anchor=\"middle\" x=\"130.87\" y=\"-271.78\" font-family=\"Times,serif\" font-size=\"8.00\">1</text>\n</g>\n<!-- 26 -->\n<g id=\"node27\" class=\"node\">\n<title>26</title>\n<polygon fill=\"lightyellow\" stroke=\"black\" points=\"188.49,-231.18 153.49,-231.18 153.49,-195.18 188.49,-195.18 188.49,-231.18\"/>\n<text text-anchor=\"middle\" x=\"170.99\" y=\"-209.5\" font-family=\"Times,serif\" font-size=\"15.22\">■■</text>\n</g>\n<!-- 26&#45;&#45;0 -->\n<g id=\"edge42\" class=\"edge\">\n<title>26--0</title>\n<path fill=\"none\" stroke=\"black\" d=\"M153.23,-203.89C146.71,-200.48 139.24,-196.57 132.35,-192.96\"/>\n<text text-anchor=\"middle\" x=\"140.79\" y=\"-201.02\" font-family=\"Times,serif\" font-size=\"8.00\">1</text>\n</g>\n<!-- 26&#45;&#45;2 -->\n<g id=\"edge34\" class=\"edge\">\n<title>26--2</title>\n<path fill=\"none\" stroke=\"black\" d=\"M188.87,-206.12C202.56,-200.71 221.62,-193.18 236.77,-187.2\"/>\n<text text-anchor=\"middle\" x=\"210.82\" y=\"-199.26\" font-family=\"Times,serif\" font-size=\"8.00\">3</text>\n</g>\n<!-- 26&#45;&#45;6 -->\n<g id=\"edge36\" class=\"edge\">\n<title>26--6</title>\n<path fill=\"none\" stroke=\"black\" d=\"M163.71,-195.11C156.04,-176.07 144.02,-146.28 136.38,-127.32\"/>\n<text text-anchor=\"middle\" x=\"148.04\" y=\"-163.81\" font-family=\"Times,serif\" font-size=\"8.00\">2</text>\n</g>\n<!-- 26&#45;&#45;9 -->\n<g id=\"edge35\" class=\"edge\">\n<title>26--9</title>\n<path fill=\"none\" stroke=\"black\" d=\"M188.07,-194.96C193.78,-188.86 200.11,-182.11 205.65,-176.19\"/>\n<text text-anchor=\"middle\" x=\"194.86\" y=\"-179.18\" font-family=\"Times,serif\" font-size=\"8.00\">2</text>\n</g>\n<!-- 26&#45;&#45;11 -->\n<g id=\"edge38\" class=\"edge\">\n<title>26--11</title>\n<path fill=\"none\" stroke=\"black\" d=\"M164.42,-231.26C158.59,-247.31 150.11,-270.63 144.28,-286.67\"/>\n<text text-anchor=\"middle\" x=\"152.35\" y=\"-261.57\" font-family=\"Times,serif\" font-size=\"8.00\">1</text>\n</g>\n<!-- 26&#45;&#45;14 -->\n<g id=\"edge40\" class=\"edge\">\n<title>26--14</title>\n<path fill=\"none\" stroke=\"black\" d=\"M188.55,-212.76C196.2,-212.58 205.32,-212.36 213.69,-212.16\"/>\n<text text-anchor=\"middle\" x=\"203.12\" y=\"-206.06\" font-family=\"Times,serif\" font-size=\"8.00\">1</text>\n</g>\n<!-- 26&#45;&#45;15 -->\n<g id=\"edge37\" class=\"edge\">\n<title>26--15</title>\n<path fill=\"none\" stroke=\"black\" d=\"M180.27,-231.2C187.55,-245.32 197.6,-264.84 204.8,-278.8\"/>\n<text text-anchor=\"middle\" x=\"190.53\" y=\"-257.6\" font-family=\"Times,serif\" font-size=\"8.00\">2</text>\n</g>\n<!-- 26&#45;&#45;21 -->\n<g id=\"edge39\" class=\"edge\">\n<title>26--21</title>\n<path fill=\"none\" stroke=\"black\" d=\"M153.22,-215.55C146.26,-216.48 138.05,-217.58 130.11,-218.64\"/>\n<text text-anchor=\"middle\" x=\"143.67\" y=\"-210.7\" font-family=\"Times,serif\" font-size=\"8.00\">1</text>\n</g>\n<!-- 26&#45;&#45;24 -->\n<g id=\"edge41\" class=\"edge\">\n<title>26--24</title>\n<path fill=\"none\" stroke=\"black\" d=\"M188.47,-231.37C196.09,-239.31 204.96,-248.55 212.39,-256.28\"/>\n<text text-anchor=\"middle\" x=\"198.43\" y=\"-246.42\" font-family=\"Times,serif\" font-size=\"8.00\">1</text>\n</g>\n<!-- 27 -->\n<g id=\"node28\" class=\"node\">\n<title>27</title>\n<polygon fill=\"none\" stroke=\"black\" points=\"32,-226.9 9,-226.9 9,-190.9 32,-190.9 32,-226.9\"/>\n<text text-anchor=\"middle\" x=\"20.5\" y=\"-206.09\" font-family=\"Times,serif\" font-size=\"10.40\">■</text>\n</g>\n<!-- 27&#45;&#45;0 -->\n<g id=\"edge43\" class=\"edge\">\n<title>27--0</title>\n<path fill=\"none\" stroke=\"black\" d=\"M32.14,-205.26C45.07,-201.22 66.33,-194.57 83.32,-189.26\"/>\n<text text-anchor=\"middle\" x=\"55.73\" y=\"-199.86\" font-family=\"Times,serif\" font-size=\"8.00\">1</text>\n</g>\n<!-- 28 -->\n<g id=\"node29\" class=\"node\">\n<title>28</title>\n<polygon fill=\"none\" stroke=\"black\" points=\"84.69,-157.55 37.69,-157.55 37.69,-121.55 84.69,-121.55 84.69,-157.55\"/>\n<text text-anchor=\"middle\" x=\"61.19\" y=\"-136.46\" font-family=\"Times,serif\" font-size=\"11.99\">■■■■</text>\n</g>\n<!-- 28&#45;&#45;0 -->\n<g id=\"edge44\" class=\"edge\">\n<title>28--0</title>\n<path fill=\"none\" stroke=\"black\" d=\"M82.28,-157.63C85.64,-160.52 89.08,-163.47 92.34,-166.26\"/>\n<text text-anchor=\"middle\" x=\"89.31\" y=\"-155.55\" font-family=\"Times,serif\" font-size=\"8.00\">2</text>\n</g>\n<!-- 28&#45;&#45;6 -->\n<g id=\"edge45\" class=\"edge\">\n<title>28--6</title>\n<path fill=\"none\" stroke=\"black\" d=\"M84.97,-129.03C91.56,-126.11 98.71,-122.95 105.3,-120.03\"/>\n<text text-anchor=\"middle\" x=\"93.13\" y=\"-127.13\" font-family=\"Times,serif\" font-size=\"8.00\">1</text>\n</g>\n<!-- 28&#45;&#45;21 -->\n<g id=\"edge46\" class=\"edge\">\n<title>28--21</title>\n<path fill=\"none\" stroke=\"black\" d=\"M69.09,-157.66C75.19,-171.65 83.6,-190.93 89.7,-204.92\"/>\n<text text-anchor=\"middle\" x=\"77.39\" y=\"-183.89\" font-family=\"Times,serif\" font-size=\"8.00\">1</text>\n</g>\n<!-- 29 -->\n<g id=\"node30\" class=\"node\">\n<title>29</title>\n<polygon fill=\"lightyellow\" stroke=\"black\" points=\"211.52,-261.49 176.52,-261.49 176.52,-225.49 211.52,-225.49 211.52,-261.49\"/>\n<text text-anchor=\"middle\" x=\"194.02\" y=\"-239.51\" font-family=\"Times,serif\" font-size=\"14.98\">■■</text>\n</g>\n<!-- 29&#45;&#45;0 -->\n<g id=\"edge48\" class=\"edge\">\n<title>29--0</title>\n<path fill=\"none\" stroke=\"black\" d=\"M176.11,-230.25C162.17,-219.94 142.86,-205.66 128.64,-195.14\"/>\n<text text-anchor=\"middle\" x=\"150.37\" y=\"-206.29\" font-family=\"Times,serif\" font-size=\"8.00\">3</text>\n</g>\n<!-- 29&#45;&#45;2 -->\n<g id=\"edge53\" class=\"edge\">\n<title>29--2</title>\n<path fill=\"none\" stroke=\"black\" d=\"M211.74,-226.14C222.19,-215.9 235.33,-203.04 245.47,-193.11\"/>\n<text text-anchor=\"middle\" x=\"226.6\" y=\"-212.22\" font-family=\"Times,serif\" font-size=\"8.00\">1</text>\n</g>\n<!-- 29&#45;&#45;9 -->\n<g id=\"edge50\" class=\"edge\">\n<title>29--9</title>\n<path fill=\"none\" stroke=\"black\" d=\"M199.78,-225.43C204.24,-211.46 210.39,-192.23 214.84,-178.27\"/>\n<text text-anchor=\"middle\" x=\"205.31\" y=\"-195.45\" font-family=\"Times,serif\" font-size=\"8.00\">1</text>\n</g>\n<!-- 29&#45;&#45;11 -->\n<g id=\"edge51\" class=\"edge\">\n<title>29--11</title>\n<path fill=\"none\" stroke=\"black\" d=\"M177.43,-261.53C169.65,-270 160.43,-280.01 152.84,-288.27\"/>\n<text text-anchor=\"middle\" x=\"163.14\" y=\"-277.5\" font-family=\"Times,serif\" font-size=\"8.00\">1</text>\n</g>\n<!-- 29&#45;&#45;14 -->\n<g id=\"edge52\" class=\"edge\">\n<title>29--14</title>\n<path fill=\"none\" stroke=\"black\" d=\"M211.59,-231.05C214.66,-228.88 217.86,-226.61 220.95,-224.43\"/>\n<text text-anchor=\"middle\" x=\"214.27\" y=\"-230.34\" font-family=\"Times,serif\" font-size=\"8.00\">1</text>\n</g>\n<!-- 29&#45;&#45;15 -->\n<g id=\"edge47\" class=\"edge\">\n<title>29--15</title>\n<path fill=\"none\" stroke=\"black\" d=\"M200.81,-261.63C202.82,-267 205.02,-272.86 207.02,-278.22\"/>\n<text text-anchor=\"middle\" x=\"201.92\" y=\"-272.53\" font-family=\"Times,serif\" font-size=\"8.00\">3</text>\n</g>\n<!-- 29&#45;&#45;24 -->\n<g id=\"edge49\" class=\"edge\">\n<title>29--24</title>\n<path fill=\"none\" stroke=\"black\" d=\"M211.91,-258.8C212.04,-258.91 212.17,-259.02 212.3,-259.13\"/>\n<text text-anchor=\"middle\" x=\"214.1\" y=\"-252.56\" font-family=\"Times,serif\" font-size=\"8.00\">2</text>\n</g>\n<!-- 30 -->\n<g id=\"node31\" class=\"node\">\n<title>30</title>\n<ellipse fill=\"lightgrey\" stroke=\"black\" cx=\"266.05\" cy=\"-320.24\" rx=\"32.55\" ry=\"18.27\"/>\n<text text-anchor=\"middle\" x=\"266.05\" y=\"-322.84\" font-family=\"Times,serif\" font-size=\"8.00\">菊</text>\n<text text-anchor=\"middle\" x=\"266.05\" y=\"-313.84\" font-family=\"Times,serif\" font-size=\"8.00\">(TKOK)</text>\n</g>\n<!-- 30&#45;&#45;29 -->\n<g id=\"edge54\" class=\"edge\">\n<title>30--29</title>\n<path fill=\"none\" stroke=\"black\" d=\"M250.78,-303.96C239.13,-291.55 223.09,-274.47 211.04,-261.62\"/>\n<text text-anchor=\"middle\" x=\"228.91\" y=\"-285.39\" font-family=\"Times,serif\" font-size=\"8.00\">1</text>\n</g>\n</g>\n</svg>"
          },
          "metadata": {}
        }
      ]
    },
    {
      "cell_type": "markdown",
      "source": [
        "#### 3.2.4 | *Sakura*, en. cherry"
      ],
      "metadata": {
        "id": "N8GAnxIgeC4k"
      }
    },
    {
      "cell_type": "code",
      "source": [
        "dot_viz_aggr(\"桜\")"
      ],
      "metadata": {
        "id": "v74lioVp9ynh",
        "colab": {
          "base_uri": "https://localhost:8080/",
          "height": 491
        },
        "outputId": "2105b2a9-8b5d-4c88-a099-cd671e589439"
      },
      "execution_count": 16,
      "outputs": [
        {
          "output_type": "display_data",
          "data": {
            "text/plain": [
              "<IPython.core.display.SVG object>"
            ],
            "image/svg+xml": "<svg xmlns=\"http://www.w3.org/2000/svg\" xmlns:xlink=\"http://www.w3.org/1999/xlink\" width=\"377pt\" height=\"352pt\" viewBox=\"0.00 0.00 376.89 352.24\">\n<g id=\"graph0\" class=\"graph\" transform=\"scale(1 1) rotate(0) translate(4 348.24)\">\n<title>%3</title>\n<polygon fill=\"white\" stroke=\"transparent\" points=\"-4,4 -4,-348.24 372.89,-348.24 372.89,4 -4,4\"/>\n<!-- 0 -->\n<g id=\"node1\" class=\"node\">\n<title>0</title>\n<ellipse fill=\"lightgrey\" stroke=\"black\" cx=\"104.84\" cy=\"-228.06\" rx=\"28.98\" ry=\"18.27\"/>\n<text text-anchor=\"middle\" x=\"104.84\" y=\"-230.66\" font-family=\"Times,serif\" font-size=\"8.00\">桜</text>\n<text text-anchor=\"middle\" x=\"104.84\" y=\"-221.66\" font-family=\"Times,serif\" font-size=\"8.00\">(OZW)</text>\n</g>\n<!-- 1 -->\n<g id=\"node2\" class=\"node\">\n<title>1</title>\n<polygon fill=\"none\" stroke=\"black\" points=\"86.94,-344.24 49.94,-344.24 49.94,-308.24 86.94,-308.24 86.94,-344.24\"/>\n<text text-anchor=\"middle\" x=\"68.44\" y=\"-323.45\" font-family=\"Times,serif\" font-size=\"10.99\">■■■</text>\n</g>\n<!-- 1&#45;&#45;0 -->\n<g id=\"edge1\" class=\"edge\">\n<title>1--0</title>\n<path fill=\"none\" stroke=\"black\" d=\"M75.11,-308.23C81.64,-290.63 91.53,-263.96 98.08,-246.28\"/>\n<text text-anchor=\"middle\" x=\"84.6\" y=\"-279.86\" font-family=\"Times,serif\" font-size=\"8.00\">2</text>\n</g>\n<!-- 2 -->\n<g id=\"node3\" class=\"node\">\n<title>2</title>\n<polygon fill=\"none\" stroke=\"black\" points=\"31.79,-207.01 2.79,-207.01 2.79,-171.01 31.79,-171.01 31.79,-207.01\"/>\n<text text-anchor=\"middle\" x=\"17.29\" y=\"-186.2\" font-family=\"Times,serif\" font-size=\"10.40\">■■</text>\n</g>\n<!-- 2&#45;&#45;0 -->\n<g id=\"edge2\" class=\"edge\">\n<title>2--0</title>\n<path fill=\"none\" stroke=\"black\" d=\"M32.14,-195.64C45.51,-201.6 65.39,-210.46 80.98,-217.42\"/>\n<text text-anchor=\"middle\" x=\"54.56\" y=\"-209.13\" font-family=\"Times,serif\" font-size=\"8.00\">1</text>\n</g>\n<!-- 3 -->\n<g id=\"node4\" class=\"node\">\n<title>3</title>\n<polygon fill=\"none\" stroke=\"black\" points=\"124.09,-144.38 94.09,-144.38 94.09,-108.38 124.09,-108.38 124.09,-144.38\"/>\n<text text-anchor=\"middle\" x=\"109.09\" y=\"-123.67\" font-family=\"Times,serif\" font-size=\"11.51\">■■</text>\n</g>\n<!-- 3&#45;&#45;0 -->\n<g id=\"edge3\" class=\"edge\">\n<title>3--0</title>\n<path fill=\"none\" stroke=\"black\" d=\"M108.33,-144.56C107.57,-162.83 106.39,-190.88 105.62,-209.35\"/>\n<text text-anchor=\"middle\" x=\"104.98\" y=\"-179.55\" font-family=\"Times,serif\" font-size=\"8.00\">2</text>\n</g>\n<!-- 4 -->\n<g id=\"node5\" class=\"node\">\n<title>4</title>\n<ellipse fill=\"lightgrey\" stroke=\"black\" cx=\"206.81\" cy=\"-106.73\" rx=\"28.98\" ry=\"18.27\"/>\n<text text-anchor=\"middle\" x=\"206.81\" y=\"-109.33\" font-family=\"Times,serif\" font-size=\"8.00\">桜</text>\n<text text-anchor=\"middle\" x=\"206.81\" y=\"-100.33\" font-family=\"Times,serif\" font-size=\"8.00\">(KNK)</text>\n</g>\n<!-- 4&#45;&#45;3 -->\n<g id=\"edge4\" class=\"edge\">\n<title>4--3</title>\n<path fill=\"none\" stroke=\"black\" d=\"M179.07,-112.31C161.24,-115.89 138.76,-120.41 124.16,-123.35\"/>\n<text text-anchor=\"middle\" x=\"149.62\" y=\"-120.43\" font-family=\"Times,serif\" font-size=\"8.00\">1</text>\n</g>\n<!-- 5 -->\n<g id=\"node6\" class=\"node\">\n<title>5</title>\n<ellipse fill=\"lightgrey\" stroke=\"black\" cx=\"117.56\" cy=\"-158.3\" rx=\"27.65\" ry=\"18.27\"/>\n<text text-anchor=\"middle\" x=\"117.56\" y=\"-160.9\" font-family=\"Times,serif\" font-size=\"8.00\">桜</text>\n<text text-anchor=\"middle\" x=\"117.56\" y=\"-151.9\" font-family=\"Times,serif\" font-size=\"8.00\">(KBT)</text>\n</g>\n<!-- 6 -->\n<g id=\"node7\" class=\"node\">\n<title>6</title>\n<polygon fill=\"none\" stroke=\"black\" points=\"62.74,-108.16 33.74,-108.16 33.74,-72.16 62.74,-72.16 62.74,-108.16\"/>\n<text text-anchor=\"middle\" x=\"48.24\" y=\"-87.34\" font-family=\"Times,serif\" font-size=\"10.40\">■■</text>\n</g>\n<!-- 6&#45;&#45;5 -->\n<g id=\"edge5\" class=\"edge\">\n<title>6--5</title>\n<path fill=\"none\" stroke=\"black\" d=\"M62.94,-104.61C74.39,-115.86 90.24,-131.44 101.92,-142.92\"/>\n<text text-anchor=\"middle\" x=\"80.43\" y=\"-126.36\" font-family=\"Times,serif\" font-size=\"8.00\">1</text>\n</g>\n<!-- 7 -->\n<g id=\"node8\" class=\"node\">\n<title>7</title>\n<polygon fill=\"none\" stroke=\"black\" points=\"306.59,-151.72 276.59,-151.72 276.59,-115.72 306.59,-115.72 306.59,-151.72\"/>\n<text text-anchor=\"middle\" x=\"291.59\" y=\"-130.93\" font-family=\"Times,serif\" font-size=\"10.99\">■■</text>\n</g>\n<!-- 7&#45;&#45;4 -->\n<g id=\"edge6\" class=\"edge\">\n<title>7--4</title>\n<path fill=\"none\" stroke=\"black\" d=\"M276.43,-128.89C264.34,-125.04 247.11,-119.56 232.81,-115.01\"/>\n<text text-anchor=\"middle\" x=\"252.62\" y=\"-124.55\" font-family=\"Times,serif\" font-size=\"8.00\">1</text>\n</g>\n<!-- 8 -->\n<g id=\"node9\" class=\"node\">\n<title>8</title>\n<ellipse fill=\"lightgrey\" stroke=\"black\" cx=\"250.98\" cy=\"-209.78\" rx=\"33.47\" ry=\"18.27\"/>\n<text text-anchor=\"middle\" x=\"250.98\" y=\"-212.38\" font-family=\"Times,serif\" font-size=\"8.00\">桜</text>\n<text text-anchor=\"middle\" x=\"250.98\" y=\"-203.38\" font-family=\"Times,serif\" font-size=\"8.00\">(OKMR)</text>\n</g>\n<!-- 8&#45;&#45;7 -->\n<g id=\"edge7\" class=\"edge\">\n<title>8--7</title>\n<path fill=\"none\" stroke=\"black\" d=\"M260.4,-192.14C266.87,-180.03 275.43,-164 281.94,-151.79\"/>\n<text text-anchor=\"middle\" x=\"269.17\" y=\"-174.57\" font-family=\"Times,serif\" font-size=\"8.00\">1</text>\n</g>\n<!-- 9 -->\n<g id=\"node10\" class=\"node\">\n<title>9</title>\n<polygon fill=\"none\" stroke=\"black\" points=\"294.1,-76.07 265.1,-76.07 265.1,-40.07 294.1,-40.07 294.1,-76.07\"/>\n<text text-anchor=\"middle\" x=\"279.6\" y=\"-55.25\" font-family=\"Times,serif\" font-size=\"10.40\">■■</text>\n</g>\n<!-- 9&#45;&#45;4 -->\n<g id=\"edge8\" class=\"edge\">\n<title>9--4</title>\n<path fill=\"none\" stroke=\"black\" d=\"M264.87,-67.92C253.98,-75.19 239.03,-85.19 227.03,-93.21\"/>\n<text text-anchor=\"middle\" x=\"243.95\" y=\"-83.16\" font-family=\"Times,serif\" font-size=\"8.00\">1</text>\n</g>\n<!-- 10 -->\n<g id=\"node11\" class=\"node\">\n<title>10</title>\n<polygon fill=\"none\" stroke=\"black\" points=\"198.49,-36 151.49,-36 151.49,0 198.49,0 198.49,-36\"/>\n<text text-anchor=\"middle\" x=\"174.99\" y=\"-15.18\" font-family=\"Times,serif\" font-size=\"10.40\">■■■■■</text>\n</g>\n<!-- 10&#45;&#45;4 -->\n<g id=\"edge9\" class=\"edge\">\n<title>10--4</title>\n<path fill=\"none\" stroke=\"black\" d=\"M181.59,-36.39C187.08,-51.72 194.87,-73.44 200.33,-88.67\"/>\n<text text-anchor=\"middle\" x=\"188.96\" y=\"-65.13\" font-family=\"Times,serif\" font-size=\"8.00\">1</text>\n</g>\n<!-- 11 -->\n<g id=\"node12\" class=\"node\">\n<title>11</title>\n<polygon fill=\"none\" stroke=\"black\" points=\"179.05,-101.8 149.05,-101.8 149.05,-65.8 179.05,-65.8 179.05,-101.8\"/>\n<text text-anchor=\"middle\" x=\"164.05\" y=\"-81.09\" font-family=\"Times,serif\" font-size=\"11.51\">■■</text>\n</g>\n<!-- 11&#45;&#45;4 -->\n<g id=\"edge10\" class=\"edge\">\n<title>11--4</title>\n<path fill=\"none\" stroke=\"black\" d=\"M179.49,-92.08C181.11,-92.95 182.79,-93.85 184.47,-94.75\"/>\n<text text-anchor=\"middle\" x=\"183.98\" y=\"-87.02\" font-family=\"Times,serif\" font-size=\"8.00\">1</text>\n</g>\n<!-- 11&#45;&#45;5 -->\n<g id=\"edge12\" class=\"edge\">\n<title>11--5</title>\n<path fill=\"none\" stroke=\"black\" d=\"M152.8,-101.83C145.33,-113.8 135.58,-129.42 128.23,-141.2\"/>\n<text text-anchor=\"middle\" x=\"138.51\" y=\"-124.11\" font-family=\"Times,serif\" font-size=\"8.00\">1</text>\n</g>\n<!-- 12 -->\n<g id=\"node13\" class=\"node\">\n<title>12</title>\n<ellipse fill=\"lightgrey\" stroke=\"black\" cx=\"233.9\" cy=\"-155.97\" rx=\"31.64\" ry=\"18.27\"/>\n<text text-anchor=\"middle\" x=\"233.9\" y=\"-158.57\" font-family=\"Times,serif\" font-size=\"8.00\">桜</text>\n<text text-anchor=\"middle\" x=\"233.9\" y=\"-149.57\" font-family=\"Times,serif\" font-size=\"8.00\">(KTGR)</text>\n</g>\n<!-- 12&#45;&#45;11 -->\n<g id=\"edge11\" class=\"edge\">\n<title>12--11</title>\n<path fill=\"none\" stroke=\"black\" d=\"M218.05,-139.59C206.46,-127.62 190.82,-111.46 179.36,-99.62\"/>\n<text text-anchor=\"middle\" x=\"196.7\" y=\"-122.21\" font-family=\"Times,serif\" font-size=\"8.00\">1</text>\n</g>\n<!-- 13 -->\n<g id=\"node14\" class=\"node\">\n<title>13</title>\n<ellipse fill=\"lightgrey\" stroke=\"black\" cx=\"270.63\" cy=\"-245.87\" rx=\"25.41\" ry=\"18.27\"/>\n<text text-anchor=\"middle\" x=\"270.63\" y=\"-248.47\" font-family=\"Times,serif\" font-size=\"8.00\">桜</text>\n<text text-anchor=\"middle\" x=\"270.63\" y=\"-239.47\" font-family=\"Times,serif\" font-size=\"8.00\">(KSJ)</text>\n</g>\n<!-- 14 -->\n<g id=\"node15\" class=\"node\">\n<title>14</title>\n<polygon fill=\"none\" stroke=\"black\" points=\"368.89,-292.88 333.89,-292.88 333.89,-256.88 368.89,-256.88 368.89,-292.88\"/>\n<text text-anchor=\"middle\" x=\"351.39\" y=\"-272.06\" font-family=\"Times,serif\" font-size=\"10.40\">■■■</text>\n</g>\n<!-- 14&#45;&#45;13 -->\n<g id=\"edge13\" class=\"edge\">\n<title>14--13</title>\n<path fill=\"none\" stroke=\"black\" d=\"M333.87,-268.58C322.09,-264.35 306.43,-258.73 293.65,-254.14\"/>\n<text text-anchor=\"middle\" x=\"311.76\" y=\"-263.96\" font-family=\"Times,serif\" font-size=\"8.00\">1</text>\n</g>\n<!-- 15 -->\n<g id=\"node16\" class=\"node\">\n<title>15</title>\n<polygon fill=\"lightyellow\" stroke=\"black\" points=\"201.17,-218.87 175.17,-218.87 175.17,-182.87 201.17,-182.87 201.17,-218.87\"/>\n<text text-anchor=\"middle\" x=\"188.17\" y=\"-196.54\" font-family=\"Times,serif\" font-size=\"16.66\">■</text>\n</g>\n<!-- 15&#45;&#45;0 -->\n<g id=\"edge19\" class=\"edge\">\n<title>15--0</title>\n<path fill=\"none\" stroke=\"black\" d=\"M175.15,-205.12C163.34,-208.97 145.58,-214.77 130.86,-219.57\"/>\n<text text-anchor=\"middle\" x=\"151\" y=\"-214.94\" font-family=\"Times,serif\" font-size=\"8.00\">2</text>\n</g>\n<!-- 15&#45;&#45;4 -->\n<g id=\"edge17\" class=\"edge\">\n<title>15--4</title>\n<path fill=\"none\" stroke=\"black\" d=\"M191.76,-182.72C195.04,-166.16 199.87,-141.79 203.16,-125.15\"/>\n<text text-anchor=\"middle\" x=\"195.46\" y=\"-156.53\" font-family=\"Times,serif\" font-size=\"8.00\">2</text>\n</g>\n<!-- 15&#45;&#45;5 -->\n<g id=\"edge18\" class=\"edge\">\n<title>15--5</title>\n<path fill=\"none\" stroke=\"black\" d=\"M174.89,-192.86C164.58,-186.65 150.11,-177.92 138.28,-170.79\"/>\n<text text-anchor=\"middle\" x=\"154.58\" y=\"-184.43\" font-family=\"Times,serif\" font-size=\"8.00\">2</text>\n</g>\n<!-- 15&#45;&#45;12 -->\n<g id=\"edge20\" class=\"edge\">\n<title>15--12</title>\n<path fill=\"none\" stroke=\"black\" d=\"M201.64,-187.64C206.59,-182.78 212.26,-177.22 217.45,-172.13\"/>\n<text text-anchor=\"middle\" x=\"207.54\" y=\"-182.48\" font-family=\"Times,serif\" font-size=\"8.00\">1</text>\n</g>\n<!-- 15&#45;&#45;13 -->\n<g id=\"edge14\" class=\"edge\">\n<title>15--13</title>\n<path fill=\"none\" stroke=\"black\" d=\"M201.42,-208.1C214.53,-215.26 234.79,-226.31 250.01,-234.62\"/>\n<text text-anchor=\"middle\" x=\"223.71\" y=\"-223.96\" font-family=\"Times,serif\" font-size=\"8.00\">6</text>\n</g>\n<!-- 16 -->\n<g id=\"node17\" class=\"node\">\n<title>16</title>\n<ellipse fill=\"lightgrey\" stroke=\"black\" cx=\"185.38\" cy=\"-309.41\" rx=\"28.98\" ry=\"18.27\"/>\n<text text-anchor=\"middle\" x=\"185.38\" y=\"-312.01\" font-family=\"Times,serif\" font-size=\"8.00\">桜</text>\n<text text-anchor=\"middle\" x=\"185.38\" y=\"-303.01\" font-family=\"Times,serif\" font-size=\"8.00\">(MTD)</text>\n</g>\n<!-- 16&#45;&#45;15 -->\n<g id=\"edge15\" class=\"edge\">\n<title>16--15</title>\n<path fill=\"none\" stroke=\"black\" d=\"M185.85,-291C186.37,-270.92 187.19,-238.98 187.7,-219.01\"/>\n<text text-anchor=\"middle\" x=\"184.78\" y=\"-257.6\" font-family=\"Times,serif\" font-size=\"8.00\">5</text>\n</g>\n<!-- 17 -->\n<g id=\"node18\" class=\"node\">\n<title>17</title>\n<ellipse fill=\"lightgrey\" stroke=\"black\" cx=\"192.04\" cy=\"-287.45\" rx=\"33.47\" ry=\"18.27\"/>\n<text text-anchor=\"middle\" x=\"192.04\" y=\"-290.05\" font-family=\"Times,serif\" font-size=\"8.00\">桜</text>\n<text text-anchor=\"middle\" x=\"192.04\" y=\"-281.05\" font-family=\"Times,serif\" font-size=\"8.00\">(KMCY)</text>\n</g>\n<!-- 17&#45;&#45;15 -->\n<g id=\"edge16\" class=\"edge\">\n<title>17--15</title>\n<path fill=\"none\" stroke=\"black\" d=\"M191.2,-268.66C190.54,-253.94 189.63,-233.58 188.98,-219.03\"/>\n<text text-anchor=\"middle\" x=\"192.09\" y=\"-246.45\" font-family=\"Times,serif\" font-size=\"8.00\">3</text>\n</g>\n<!-- 18 -->\n<g id=\"node19\" class=\"node\">\n<title>18</title>\n<polygon fill=\"lightyellow\" stroke=\"black\" points=\"219.98,-268.18 187.98,-268.18 187.98,-232.18 219.98,-232.18 219.98,-268.18\"/>\n<text text-anchor=\"middle\" x=\"203.98\" y=\"-246.92\" font-family=\"Times,serif\" font-size=\"12.82\">■■</text>\n</g>\n<!-- 18&#45;&#45;0 -->\n<g id=\"edge21\" class=\"edge\">\n<title>18--0</title>\n<path fill=\"none\" stroke=\"black\" d=\"M187.61,-246.53C172.65,-243.19 150.23,-238.18 132.49,-234.23\"/>\n<text text-anchor=\"middle\" x=\"158.05\" y=\"-242.98\" font-family=\"Times,serif\" font-size=\"8.00\">2</text>\n</g>\n<!-- 18&#45;&#45;8 -->\n<g id=\"edge25\" class=\"edge\">\n<title>18--8</title>\n<path fill=\"none\" stroke=\"black\" d=\"M220.16,-236.28C224.19,-232.81 228.55,-229.06 232.68,-225.51\"/>\n<text text-anchor=\"middle\" x=\"224.42\" y=\"-233.5\" font-family=\"Times,serif\" font-size=\"8.00\">1</text>\n</g>\n<!-- 18&#45;&#45;12 -->\n<g id=\"edge22\" class=\"edge\">\n<title>18--12</title>\n<path fill=\"none\" stroke=\"black\" d=\"M209.75,-232.02C215.05,-215.33 222.86,-190.74 228.15,-174.08\"/>\n<text text-anchor=\"middle\" x=\"216.95\" y=\"-205.65\" font-family=\"Times,serif\" font-size=\"8.00\">1</text>\n</g>\n<!-- 18&#45;&#45;13 -->\n<g id=\"edge23\" class=\"edge\">\n<title>18--13</title>\n<path fill=\"none\" stroke=\"black\" d=\"M220.12,-249.14C227.59,-248.65 236.66,-248.07 245.03,-247.53\"/>\n<text text-anchor=\"middle\" x=\"230.57\" y=\"-250.93\" font-family=\"Times,serif\" font-size=\"8.00\">1</text>\n</g>\n<!-- 18&#45;&#45;16 -->\n<g id=\"edge24\" class=\"edge\">\n<title>18--16</title>\n<path fill=\"none\" stroke=\"black\" d=\"M198.3,-268.27C196.04,-275.48 193.43,-283.78 191.16,-291.02\"/>\n<text text-anchor=\"middle\" x=\"192.73\" y=\"-282.25\" font-family=\"Times,serif\" font-size=\"8.00\">1</text>\n</g>\n<!-- 19 -->\n<g id=\"node20\" class=\"node\">\n<title>19</title>\n<polygon fill=\"none\" stroke=\"black\" points=\"44.7,-304.81 15.7,-304.81 15.7,-268.81 44.7,-268.81 44.7,-304.81\"/>\n<text text-anchor=\"middle\" x=\"30.2\" y=\"-283.99\" font-family=\"Times,serif\" font-size=\"10.40\">■■</text>\n</g>\n<!-- 19&#45;&#45;0 -->\n<g id=\"edge26\" class=\"edge\">\n<title>19--0</title>\n<path fill=\"none\" stroke=\"black\" d=\"M44.95,-275.2C56.84,-265.84 73.64,-252.61 86.42,-242.56\"/>\n<text text-anchor=\"middle\" x=\"63.68\" y=\"-261.48\" font-family=\"Times,serif\" font-size=\"8.00\">1</text>\n</g>\n<!-- 20 -->\n<g id=\"node21\" class=\"node\">\n<title>20</title>\n<polygon fill=\"lightyellow\" stroke=\"black\" points=\"128.54,-327.89 104.54,-327.89 104.54,-291.89 128.54,-291.89 128.54,-327.89\"/>\n<text text-anchor=\"middle\" x=\"116.54\" y=\"-306.95\" font-family=\"Times,serif\" font-size=\"12.42\">■</text>\n</g>\n<!-- 20&#45;&#45;0 -->\n<g id=\"edge27\" class=\"edge\">\n<title>20--0</title>\n<path fill=\"none\" stroke=\"black\" d=\"M113.94,-291.73C112.02,-278.26 109.4,-259.97 107.47,-246.45\"/>\n<text text-anchor=\"middle\" x=\"108.71\" y=\"-271.69\" font-family=\"Times,serif\" font-size=\"8.00\">2</text>\n</g>\n<!-- 20&#45;&#45;16 -->\n<g id=\"edge30\" class=\"edge\">\n<title>20--16</title>\n<path fill=\"none\" stroke=\"black\" d=\"M128.85,-309.8C136.5,-309.75 146.69,-309.68 156.31,-309.61\"/>\n<text text-anchor=\"middle\" x=\"140.58\" y=\"-312.31\" font-family=\"Times,serif\" font-size=\"8.00\">1</text>\n</g>\n<!-- 20&#45;&#45;17 -->\n<g id=\"edge29\" class=\"edge\">\n<title>20--17</title>\n<path fill=\"none\" stroke=\"black\" d=\"M128.67,-306.28C137.84,-303.56 150.83,-299.7 162.66,-296.18\"/>\n<text text-anchor=\"middle\" x=\"143.67\" y=\"-294.83\" font-family=\"Times,serif\" font-size=\"8.00\">1</text>\n</g>\n<!-- 21 -->\n<g id=\"node22\" class=\"node\">\n<title>21</title>\n<ellipse fill=\"lightgrey\" stroke=\"black\" cx=\"68.88\" cy=\"-212.06\" rx=\"28.98\" ry=\"18.27\"/>\n<text text-anchor=\"middle\" x=\"68.88\" y=\"-214.66\" font-family=\"Times,serif\" font-size=\"8.00\">桜</text>\n<text text-anchor=\"middle\" x=\"68.88\" y=\"-205.66\" font-family=\"Times,serif\" font-size=\"8.00\">(K&amp;A)</text>\n</g>\n<!-- 21&#45;&#45;20 -->\n<g id=\"edge28\" class=\"edge\">\n<title>21--20</title>\n<path fill=\"none\" stroke=\"black\" d=\"M77.62,-230C86.16,-247.54 99.11,-274.11 107.69,-291.73\"/>\n<text text-anchor=\"middle\" x=\"90.65\" y=\"-263.47\" font-family=\"Times,serif\" font-size=\"8.00\">1</text>\n</g>\n<!-- 22 -->\n<g id=\"node23\" class=\"node\">\n<title>22</title>\n<polygon fill=\"none\" stroke=\"black\" points=\"291.45,-325.89 254.45,-325.89 254.45,-289.89 291.45,-289.89 291.45,-325.89\"/>\n<text text-anchor=\"middle\" x=\"272.95\" y=\"-305.18\" font-family=\"Times,serif\" font-size=\"11.51\">■■■</text>\n</g>\n<!-- 22&#45;&#45;8 -->\n<g id=\"edge32\" class=\"edge\">\n<title>22--8</title>\n<path fill=\"none\" stroke=\"black\" d=\"M268.82,-289.44C264.89,-271.9 259.02,-245.67 255.1,-228.15\"/>\n<text text-anchor=\"middle\" x=\"259.96\" y=\"-261.4\" font-family=\"Times,serif\" font-size=\"8.00\">1</text>\n</g>\n<!-- 22&#45;&#45;17 -->\n<g id=\"edge31\" class=\"edge\">\n<title>22--17</title>\n<path fill=\"none\" stroke=\"black\" d=\"M254.19,-303.15C244.76,-300.77 233.09,-297.82 222.43,-295.13\"/>\n<text text-anchor=\"middle\" x=\"236.31\" y=\"-301.74\" font-family=\"Times,serif\" font-size=\"8.00\">2</text>\n</g>\n<!-- 23 -->\n<g id=\"node24\" class=\"node\">\n<title>23</title>\n<polygon fill=\"lightyellow\" stroke=\"black\" points=\"167.73,-185.57 143.73,-185.57 143.73,-149.57 167.73,-149.57 167.73,-185.57\"/>\n<text text-anchor=\"middle\" x=\"155.73\" y=\"-164.31\" font-family=\"Times,serif\" font-size=\"12.82\">■</text>\n</g>\n<!-- 23&#45;&#45;0 -->\n<g id=\"edge37\" class=\"edge\">\n<title>23--0</title>\n<path fill=\"none\" stroke=\"black\" d=\"M143.67,-181.9C136.15,-190.85 126.44,-202.38 118.61,-211.69\"/>\n<text text-anchor=\"middle\" x=\"129.14\" y=\"-199.4\" font-family=\"Times,serif\" font-size=\"8.00\">1</text>\n</g>\n<!-- 23&#45;&#45;4 -->\n<g id=\"edge34\" class=\"edge\">\n<title>23--4</title>\n<path fill=\"none\" stroke=\"black\" d=\"M167.84,-153.15C175.39,-144.16 185.13,-132.55 192.99,-123.2\"/>\n<text text-anchor=\"middle\" x=\"178.41\" y=\"-140.77\" font-family=\"Times,serif\" font-size=\"8.00\">1</text>\n</g>\n<!-- 23&#45;&#45;5 -->\n<g id=\"edge36\" class=\"edge\">\n<title>23--5</title>\n<path fill=\"none\" stroke=\"black\" d=\"M143.66,-164.63C143.57,-164.61 143.48,-164.59 143.39,-164.57\"/>\n<text text-anchor=\"middle\" x=\"141.52\" y=\"-167.2\" font-family=\"Times,serif\" font-size=\"8.00\">1</text>\n</g>\n<!-- 23&#45;&#45;8 -->\n<g id=\"edge33\" class=\"edge\">\n<title>23--8</title>\n<path fill=\"none\" stroke=\"black\" d=\"M167.8,-172.91C182.11,-179.26 206.39,-190.02 225.03,-198.28\"/>\n<text text-anchor=\"middle\" x=\"194.42\" y=\"-179.2\" font-family=\"Times,serif\" font-size=\"8.00\">2</text>\n</g>\n<!-- 23&#45;&#45;21 -->\n<g id=\"edge35\" class=\"edge\">\n<title>23--21</title>\n<path fill=\"none\" stroke=\"black\" d=\"M143.66,-173.75C130.23,-180.63 108.25,-191.89 91.58,-200.43\"/>\n<text text-anchor=\"middle\" x=\"115.62\" y=\"-189.69\" font-family=\"Times,serif\" font-size=\"8.00\">1</text>\n</g>\n<!-- 24 -->\n<g id=\"node25\" class=\"node\">\n<title>24</title>\n<polygon fill=\"none\" stroke=\"black\" points=\"119.8,-281.32 89.8,-281.32 89.8,-245.32 119.8,-245.32 119.8,-281.32\"/>\n<text text-anchor=\"middle\" x=\"104.8\" y=\"-260.61\" font-family=\"Times,serif\" font-size=\"11.51\">■■</text>\n</g>\n<!-- 24&#45;&#45;0 -->\n<g id=\"edge40\" class=\"edge\">\n<title>24--0</title>\n<path fill=\"none\" stroke=\"black\" d=\"M104.82,-245.27C104.82,-245.14 104.82,-245 104.82,-244.87\"/>\n<text text-anchor=\"middle\" x=\"102.82\" y=\"-238.67\" font-family=\"Times,serif\" font-size=\"8.00\">1</text>\n</g>\n<!-- 24&#45;&#45;5 -->\n<g id=\"edge39\" class=\"edge\">\n<title>24--5</title>\n<path fill=\"none\" stroke=\"black\" d=\"M107.03,-245.02C109.35,-225.87 112.99,-195.94 115.32,-176.73\"/>\n<text text-anchor=\"middle\" x=\"109.17\" y=\"-204.48\" font-family=\"Times,serif\" font-size=\"8.00\">1</text>\n</g>\n<!-- 24&#45;&#45;17 -->\n<g id=\"edge38\" class=\"edge\">\n<title>24--17</title>\n<path fill=\"none\" stroke=\"black\" d=\"M120,-267.52C131.62,-270.74 148,-275.27 162.21,-279.2\"/>\n<text text-anchor=\"middle\" x=\"139.1\" y=\"-275.96\" font-family=\"Times,serif\" font-size=\"8.00\">1</text>\n</g>\n<!-- 25 -->\n<g id=\"node26\" class=\"node\">\n<title>25</title>\n<polygon fill=\"none\" stroke=\"black\" points=\"247.92,-44.48 218.92,-44.48 218.92,-8.48 247.92,-8.48 247.92,-44.48\"/>\n<text text-anchor=\"middle\" x=\"233.42\" y=\"-23.67\" font-family=\"Times,serif\" font-size=\"10.40\">■■</text>\n</g>\n<!-- 25&#45;&#45;4 -->\n<g id=\"edge41\" class=\"edge\">\n<title>25--4</title>\n<path fill=\"none\" stroke=\"black\" d=\"M227.38,-44.69C223.03,-57.83 217.17,-75.48 212.82,-88.6\"/>\n<text text-anchor=\"middle\" x=\"218.1\" y=\"-69.24\" font-family=\"Times,serif\" font-size=\"8.00\">1</text>\n</g>\n<!-- 26 -->\n<g id=\"node27\" class=\"node\">\n<title>26</title>\n<polygon fill=\"none\" stroke=\"black\" points=\"30,-256.35 0,-256.35 0,-220.35 30,-220.35 30,-256.35\"/>\n<text text-anchor=\"middle\" x=\"15\" y=\"-235.56\" font-family=\"Times,serif\" font-size=\"10.99\">■■</text>\n</g>\n<!-- 26&#45;&#45;0 -->\n<g id=\"edge43\" class=\"edge\">\n<title>26--0</title>\n<path fill=\"none\" stroke=\"black\" d=\"M30.24,-236.61C42.76,-235.17 60.83,-233.1 76.06,-231.35\"/>\n<text text-anchor=\"middle\" x=\"51.15\" y=\"-236.58\" font-family=\"Times,serif\" font-size=\"8.00\">1</text>\n</g>\n<!-- 26&#45;&#45;21 -->\n<g id=\"edge42\" class=\"edge\">\n<title>26--21</title>\n<path fill=\"none\" stroke=\"black\" d=\"M30.01,-231.03C34.86,-228.66 40.37,-225.97 45.68,-223.38\"/>\n<text text-anchor=\"middle\" x=\"35.84\" y=\"-229.81\" font-family=\"Times,serif\" font-size=\"8.00\">1</text>\n</g>\n<!-- 27 -->\n<g id=\"node28\" class=\"node\">\n<title>27</title>\n<polygon fill=\"lightyellow\" stroke=\"black\" points=\"190.01,-249.15 158.01,-249.15 158.01,-213.15 190.01,-213.15 190.01,-249.15\"/>\n<text text-anchor=\"middle\" x=\"174.01\" y=\"-227.89\" font-family=\"Times,serif\" font-size=\"12.82\">■■</text>\n</g>\n<!-- 27&#45;&#45;0 -->\n<g id=\"edge44\" class=\"edge\">\n<title>27--0</title>\n<path fill=\"none\" stroke=\"black\" d=\"M157.97,-230.43C150.78,-230.11 142.09,-229.72 133.82,-229.35\"/>\n<text text-anchor=\"middle\" x=\"143.9\" y=\"-232.49\" font-family=\"Times,serif\" font-size=\"8.00\">2</text>\n</g>\n<!-- 27&#45;&#45;5 -->\n<g id=\"edge46\" class=\"edge\">\n<title>27--5</title>\n<path fill=\"none\" stroke=\"black\" d=\"M160.06,-213.14C151.05,-201.51 139.4,-186.48 130.58,-175.1\"/>\n<text text-anchor=\"middle\" x=\"143.32\" y=\"-196.72\" font-family=\"Times,serif\" font-size=\"8.00\">1</text>\n</g>\n<!-- 27&#45;&#45;8 -->\n<g id=\"edge48\" class=\"edge\">\n<title>27--8</title>\n<path fill=\"none\" stroke=\"black\" d=\"M190.33,-226.62C199.25,-224.14 210.57,-221 221.01,-218.1\"/>\n<text text-anchor=\"middle\" x=\"203.67\" y=\"-224.96\" font-family=\"Times,serif\" font-size=\"8.00\">1</text>\n</g>\n<!-- 27&#45;&#45;13 -->\n<g id=\"edge47\" class=\"edge\">\n<title>27--13</title>\n<path fill=\"none\" stroke=\"black\" d=\"M190.4,-233.64C205.48,-235.94 228.06,-239.38 245.43,-242.03\"/>\n<text text-anchor=\"middle\" x=\"219.92\" y=\"-231.44\" font-family=\"Times,serif\" font-size=\"8.00\">1</text>\n</g>\n<!-- 27&#45;&#45;17 -->\n<g id=\"edge45\" class=\"edge\">\n<title>27--17</title>\n<path fill=\"none\" stroke=\"black\" d=\"M179.82,-249.27C181.83,-255.57 184.1,-262.64 186.12,-268.97\"/>\n<text text-anchor=\"middle\" x=\"180.97\" y=\"-261.72\" font-family=\"Times,serif\" font-size=\"8.00\">1</text>\n</g>\n</g>\n</svg>"
          },
          "metadata": {}
        }
      ]
    },
    {
      "cell_type": "markdown",
      "source": [
        "#### 3.2.5 | *Matsu*, en. pine"
      ],
      "metadata": {
        "id": "SXKaz9UldjAs"
      }
    },
    {
      "cell_type": "code",
      "source": [
        "dot_viz_aggr(\"松\")"
      ],
      "metadata": {
        "id": "ZSoc1GIV91M-",
        "colab": {
          "base_uri": "https://localhost:8080/",
          "height": 514
        },
        "outputId": "d74822b3-5af1-4d83-aaa8-b9b40184fb25"
      },
      "execution_count": 21,
      "outputs": [
        {
          "output_type": "display_data",
          "data": {
            "text/plain": [
              "<IPython.core.display.SVG object>"
            ],
            "image/svg+xml": "<svg xmlns=\"http://www.w3.org/2000/svg\" xmlns:xlink=\"http://www.w3.org/1999/xlink\" width=\"358pt\" height=\"369pt\" viewBox=\"0.00 0.00 357.80 368.62\">\n<g id=\"graph0\" class=\"graph\" transform=\"scale(1 1) rotate(0) translate(4 364.62)\">\n<title>%3</title>\n<polygon fill=\"white\" stroke=\"transparent\" points=\"-4,4 -4,-364.62 353.8,-364.62 353.8,4 -4,4\"/>\n<!-- 0 -->\n<g id=\"node1\" class=\"node\">\n<title>0</title>\n<ellipse fill=\"lightgrey\" stroke=\"black\" cx=\"191.61\" cy=\"-108.95\" rx=\"28.98\" ry=\"18.27\"/>\n<text text-anchor=\"middle\" x=\"191.61\" y=\"-111.55\" font-family=\"Times,serif\" font-size=\"8.00\">松</text>\n<text text-anchor=\"middle\" x=\"191.61\" y=\"-102.55\" font-family=\"Times,serif\" font-size=\"8.00\">(KNK)</text>\n</g>\n<!-- 1 -->\n<g id=\"node2\" class=\"node\">\n<title>1</title>\n<polygon fill=\"none\" stroke=\"black\" points=\"278.22,-95.41 248.22,-95.41 248.22,-59.41 278.22,-59.41 278.22,-95.41\"/>\n<text text-anchor=\"middle\" x=\"263.22\" y=\"-74.62\" font-family=\"Times,serif\" font-size=\"10.99\">■■</text>\n</g>\n<!-- 1&#45;&#45;0 -->\n<g id=\"edge1\" class=\"edge\">\n<title>1--0</title>\n<path fill=\"none\" stroke=\"black\" d=\"M248.03,-84.1C238.59,-88.26 226.24,-93.7 215.51,-98.42\"/>\n<text text-anchor=\"middle\" x=\"229.77\" y=\"-93.86\" font-family=\"Times,serif\" font-size=\"8.00\">1</text>\n</g>\n<!-- 2 -->\n<g id=\"node3\" class=\"node\">\n<title>2</title>\n<ellipse fill=\"lightgrey\" stroke=\"black\" cx=\"211.7\" cy=\"-141.59\" rx=\"25.41\" ry=\"18.27\"/>\n<text text-anchor=\"middle\" x=\"211.7\" y=\"-144.19\" font-family=\"Times,serif\" font-size=\"8.00\">松</text>\n<text text-anchor=\"middle\" x=\"211.7\" y=\"-135.19\" font-family=\"Times,serif\" font-size=\"8.00\">(KSJ)</text>\n</g>\n<!-- 2&#45;&#45;1 -->\n<g id=\"edge2\" class=\"edge\">\n<title>2--1</title>\n<path fill=\"none\" stroke=\"black\" d=\"M224.7,-125.4C231.97,-116.34 241.06,-105.02 248.58,-95.64\"/>\n<text text-anchor=\"middle\" x=\"234.64\" y=\"-113.12\" font-family=\"Times,serif\" font-size=\"8.00\">1</text>\n</g>\n<!-- 3 -->\n<g id=\"node4\" class=\"node\">\n<title>3</title>\n<ellipse fill=\"lightgrey\" stroke=\"black\" cx=\"235.6\" cy=\"-181.47\" rx=\"33.47\" ry=\"18.27\"/>\n<text text-anchor=\"middle\" x=\"235.6\" y=\"-184.07\" font-family=\"Times,serif\" font-size=\"8.00\">松</text>\n<text text-anchor=\"middle\" x=\"235.6\" y=\"-175.07\" font-family=\"Times,serif\" font-size=\"8.00\">(OKMR)</text>\n</g>\n<!-- 4 -->\n<g id=\"node5\" class=\"node\">\n<title>4</title>\n<polygon fill=\"none\" stroke=\"black\" points=\"349.8,-202.38 320.8,-202.38 320.8,-166.38 349.8,-166.38 349.8,-202.38\"/>\n<text text-anchor=\"middle\" x=\"335.3\" y=\"-181.56\" font-family=\"Times,serif\" font-size=\"10.40\">■■</text>\n</g>\n<!-- 4&#45;&#45;3 -->\n<g id=\"edge3\" class=\"edge\">\n<title>4--3</title>\n<path fill=\"none\" stroke=\"black\" d=\"M320.59,-183.95C307.05,-183.56 286.47,-182.96 268.95,-182.45\"/>\n<text text-anchor=\"middle\" x=\"292.77\" y=\"-185.8\" font-family=\"Times,serif\" font-size=\"8.00\">1</text>\n</g>\n<!-- 5 -->\n<g id=\"node6\" class=\"node\">\n<title>5</title>\n<ellipse fill=\"lightgrey\" stroke=\"black\" cx=\"84.48\" cy=\"-114.2\" rx=\"28.98\" ry=\"18.27\"/>\n<text text-anchor=\"middle\" x=\"84.48\" y=\"-116.8\" font-family=\"Times,serif\" font-size=\"8.00\">松</text>\n<text text-anchor=\"middle\" x=\"84.48\" y=\"-107.8\" font-family=\"Times,serif\" font-size=\"8.00\">(OZW)</text>\n</g>\n<!-- 6 -->\n<g id=\"node7\" class=\"node\">\n<title>6</title>\n<polygon fill=\"none\" stroke=\"black\" points=\"29,-89.45 0,-89.45 0,-53.45 29,-53.45 29,-89.45\"/>\n<text text-anchor=\"middle\" x=\"14.5\" y=\"-68.63\" font-family=\"Times,serif\" font-size=\"10.40\">■■</text>\n</g>\n<!-- 6&#45;&#45;5 -->\n<g id=\"edge4\" class=\"edge\">\n<title>6--5</title>\n<path fill=\"none\" stroke=\"black\" d=\"M29.34,-80.52C39.29,-86.6 52.54,-94.69 63.55,-101.42\"/>\n<text text-anchor=\"middle\" x=\"44.45\" y=\"-93.57\" font-family=\"Times,serif\" font-size=\"8.00\">1</text>\n</g>\n<!-- 7 -->\n<g id=\"node8\" class=\"node\">\n<title>7</title>\n<polygon fill=\"none\" stroke=\"black\" points=\"220.32,-36 197.32,-36 197.32,0 220.32,0 220.32,-36\"/>\n<text text-anchor=\"middle\" x=\"208.82\" y=\"-15.18\" font-family=\"Times,serif\" font-size=\"10.40\">■</text>\n</g>\n<!-- 7&#45;&#45;0 -->\n<g id=\"edge5\" class=\"edge\">\n<title>7--0</title>\n<path fill=\"none\" stroke=\"black\" d=\"M205.34,-36.41C202.35,-52.18 198.07,-74.8 195.08,-90.57\"/>\n<text text-anchor=\"middle\" x=\"198.21\" y=\"-66.09\" font-family=\"Times,serif\" font-size=\"8.00\">1</text>\n</g>\n<!-- 8 -->\n<g id=\"node9\" class=\"node\">\n<title>8</title>\n<ellipse fill=\"lightgrey\" stroke=\"black\" cx=\"117.52\" cy=\"-107.49\" rx=\"32.55\" ry=\"18.27\"/>\n<text text-anchor=\"middle\" x=\"117.52\" y=\"-110.09\" font-family=\"Times,serif\" font-size=\"8.00\">松</text>\n<text text-anchor=\"middle\" x=\"117.52\" y=\"-101.09\" font-family=\"Times,serif\" font-size=\"8.00\">(TKOK)</text>\n</g>\n<!-- 9 -->\n<g id=\"node10\" class=\"node\">\n<title>9</title>\n<polygon fill=\"lightyellow\" stroke=\"black\" points=\"159.84,-184.78 123.84,-184.78 123.84,-148.78 159.84,-148.78 159.84,-184.78\"/>\n<text text-anchor=\"middle\" x=\"141.84\" y=\"-162.73\" font-family=\"Times,serif\" font-size=\"15.68\">■■</text>\n</g>\n<!-- 9&#45;&#45;0 -->\n<g id=\"edge7\" class=\"edge\">\n<title>9--0</title>\n<path fill=\"none\" stroke=\"black\" d=\"M157.58,-148.48C163.96,-141.07 171.27,-132.57 177.48,-125.37\"/>\n<text text-anchor=\"middle\" x=\"165.53\" y=\"-139.52\" font-family=\"Times,serif\" font-size=\"8.00\">3</text>\n</g>\n<!-- 9&#45;&#45;2 -->\n<g id=\"edge13\" class=\"edge\">\n<title>9--2</title>\n<path fill=\"none\" stroke=\"black\" d=\"M160.19,-160.16C168.92,-157.01 179.45,-153.22 188.71,-149.88\"/>\n<text text-anchor=\"middle\" x=\"172.45\" y=\"-157.62\" font-family=\"Times,serif\" font-size=\"8.00\">1</text>\n</g>\n<!-- 9&#45;&#45;3 -->\n<g id=\"edge8\" class=\"edge\">\n<title>9--3</title>\n<path fill=\"none\" stroke=\"black\" d=\"M159.91,-169.61C172.26,-171.54 188.96,-174.16 203.53,-176.45\"/>\n<text text-anchor=\"middle\" x=\"179.72\" y=\"-175.63\" font-family=\"Times,serif\" font-size=\"8.00\">2</text>\n</g>\n<!-- 9&#45;&#45;5 -->\n<g id=\"edge9\" class=\"edge\">\n<title>9--5</title>\n<path fill=\"none\" stroke=\"black\" d=\"M123.69,-150.14C116.47,-143.52 108.21,-135.96 101.14,-129.48\"/>\n<text text-anchor=\"middle\" x=\"110.42\" y=\"-142.41\" font-family=\"Times,serif\" font-size=\"8.00\">2</text>\n</g>\n<!-- 9&#45;&#45;8 -->\n<g id=\"edge6\" class=\"edge\">\n<title>9--8</title>\n<path fill=\"none\" stroke=\"black\" d=\"M134.41,-148.67C131.39,-141.31 127.91,-132.83 124.9,-125.49\"/>\n<text text-anchor=\"middle\" x=\"127.65\" y=\"-139.68\" font-family=\"Times,serif\" font-size=\"8.00\">4</text>\n</g>\n<!-- 10 -->\n<g id=\"node11\" class=\"node\">\n<title>10</title>\n<ellipse fill=\"lightgrey\" stroke=\"black\" cx=\"91.92\" cy=\"-229.58\" rx=\"31.64\" ry=\"18.27\"/>\n<text text-anchor=\"middle\" x=\"91.92\" y=\"-232.18\" font-family=\"Times,serif\" font-size=\"8.00\">松</text>\n<text text-anchor=\"middle\" x=\"91.92\" y=\"-223.18\" font-family=\"Times,serif\" font-size=\"8.00\">(KTGR)</text>\n</g>\n<!-- 10&#45;&#45;9 -->\n<g id=\"edge10\" class=\"edge\">\n<title>10--9</title>\n<path fill=\"none\" stroke=\"black\" d=\"M105.3,-212.75C112.11,-204.17 120.41,-193.73 127.37,-184.97\"/>\n<text text-anchor=\"middle\" x=\"114.33\" y=\"-201.46\" font-family=\"Times,serif\" font-size=\"8.00\">1</text>\n</g>\n<!-- 11 -->\n<g id=\"node12\" class=\"node\">\n<title>11</title>\n<ellipse fill=\"lightgrey\" stroke=\"black\" cx=\"59.24\" cy=\"-196.08\" rx=\"28.98\" ry=\"18.27\"/>\n<text text-anchor=\"middle\" x=\"59.24\" y=\"-198.68\" font-family=\"Times,serif\" font-size=\"8.00\">松</text>\n<text text-anchor=\"middle\" x=\"59.24\" y=\"-189.68\" font-family=\"Times,serif\" font-size=\"8.00\">(K&amp;A)</text>\n</g>\n<!-- 11&#45;&#45;9 -->\n<g id=\"edge11\" class=\"edge\">\n<title>11--9</title>\n<path fill=\"none\" stroke=\"black\" d=\"M84.92,-186.97C97.52,-182.5 112.39,-177.22 123.77,-173.18\"/>\n<text text-anchor=\"middle\" x=\"102.35\" y=\"-182.68\" font-family=\"Times,serif\" font-size=\"8.00\">1</text>\n</g>\n<!-- 12 -->\n<g id=\"node13\" class=\"node\">\n<title>12</title>\n<ellipse fill=\"lightgrey\" stroke=\"black\" cx=\"116.04\" cy=\"-254.7\" rx=\"33.47\" ry=\"18.27\"/>\n<text text-anchor=\"middle\" x=\"116.04\" y=\"-257.3\" font-family=\"Times,serif\" font-size=\"8.00\">松</text>\n<text text-anchor=\"middle\" x=\"116.04\" y=\"-248.3\" font-family=\"Times,serif\" font-size=\"8.00\">(KMCY)</text>\n</g>\n<!-- 12&#45;&#45;9 -->\n<g id=\"edge12\" class=\"edge\">\n<title>12--9</title>\n<path fill=\"none\" stroke=\"black\" d=\"M121.38,-236.48C125.81,-221.39 132.07,-200.05 136.5,-184.97\"/>\n<text text-anchor=\"middle\" x=\"126.94\" y=\"-213.33\" font-family=\"Times,serif\" font-size=\"8.00\">1</text>\n</g>\n<!-- 13 -->\n<g id=\"node14\" class=\"node\">\n<title>13</title>\n<ellipse fill=\"lightgrey\" stroke=\"black\" cx=\"163.59\" cy=\"-246.34\" rx=\"28.98\" ry=\"18.27\"/>\n<text text-anchor=\"middle\" x=\"163.59\" y=\"-248.94\" font-family=\"Times,serif\" font-size=\"8.00\">松</text>\n<text text-anchor=\"middle\" x=\"163.59\" y=\"-239.94\" font-family=\"Times,serif\" font-size=\"8.00\">(MTD)</text>\n</g>\n<!-- 13&#45;&#45;9 -->\n<g id=\"edge14\" class=\"edge\">\n<title>13--9</title>\n<path fill=\"none\" stroke=\"black\" d=\"M158.55,-227.88C155.01,-214.94 150.3,-197.72 146.78,-184.85\"/>\n<text text-anchor=\"middle\" x=\"150.66\" y=\"-208.97\" font-family=\"Times,serif\" font-size=\"8.00\">1</text>\n</g>\n<!-- 14 -->\n<g id=\"node15\" class=\"node\">\n<title>14</title>\n<polygon fill=\"lightyellow\" stroke=\"black\" points=\"173.48,-202.94 135.48,-202.94 135.48,-166.94 173.48,-166.94 173.48,-202.94\"/>\n<text text-anchor=\"middle\" x=\"154.48\" y=\"-180.33\" font-family=\"Times,serif\" font-size=\"17.63\">■■</text>\n</g>\n<!-- 14&#45;&#45;0 -->\n<g id=\"edge17\" class=\"edge\">\n<title>14--0</title>\n<path fill=\"none\" stroke=\"black\" d=\"M163.28,-166.93C169.24,-154.73 177.08,-138.68 183,-126.57\"/>\n<text text-anchor=\"middle\" x=\"171.14\" y=\"-149.35\" font-family=\"Times,serif\" font-size=\"8.00\">3</text>\n</g>\n<!-- 14&#45;&#45;2 -->\n<g id=\"edge22\" class=\"edge\">\n<title>14--2</title>\n<path fill=\"none\" stroke=\"black\" d=\"M173.53,-170.51C180.16,-165.48 187.57,-159.87 194.08,-154.94\"/>\n<text text-anchor=\"middle\" x=\"181.81\" y=\"-165.32\" font-family=\"Times,serif\" font-size=\"8.00\">2</text>\n</g>\n<!-- 14&#45;&#45;3 -->\n<g id=\"edge19\" class=\"edge\">\n<title>14--3</title>\n<path fill=\"none\" stroke=\"black\" d=\"M173.7,-184.12C182.23,-183.75 192.52,-183.31 202.23,-182.9\"/>\n<text text-anchor=\"middle\" x=\"185.97\" y=\"-186.11\" font-family=\"Times,serif\" font-size=\"8.00\">3</text>\n</g>\n<!-- 14&#45;&#45;5 -->\n<g id=\"edge20\" class=\"edge\">\n<title>14--5</title>\n<path fill=\"none\" stroke=\"black\" d=\"M136.45,-166.72C125.27,-155.42 111.04,-141.04 100.3,-130.19\"/>\n<text text-anchor=\"middle\" x=\"116.38\" y=\"-142.06\" font-family=\"Times,serif\" font-size=\"8.00\">3</text>\n</g>\n<!-- 14&#45;&#45;8 -->\n<g id=\"edge23\" class=\"edge\">\n<title>14--8</title>\n<path fill=\"none\" stroke=\"black\" d=\"M145.72,-166.58C139.79,-154.15 131.98,-137.79 126.09,-125.44\"/>\n<text text-anchor=\"middle\" x=\"133.9\" y=\"-139.61\" font-family=\"Times,serif\" font-size=\"8.00\">2</text>\n</g>\n<!-- 14&#45;&#45;10 -->\n<g id=\"edge21\" class=\"edge\">\n<title>14--10</title>\n<path fill=\"none\" stroke=\"black\" d=\"M135.37,-198.57C128.04,-203.8 119.65,-209.79 112.21,-215.09\"/>\n<text text-anchor=\"middle\" x=\"121.79\" y=\"-200.43\" font-family=\"Times,serif\" font-size=\"8.00\">2</text>\n</g>\n<!-- 14&#45;&#45;11 -->\n<g id=\"edge24\" class=\"edge\">\n<title>14--11</title>\n<path fill=\"none\" stroke=\"black\" d=\"M135.21,-187.19C121.62,-188.78 103.19,-190.94 87.88,-192.73\"/>\n<text text-anchor=\"middle\" x=\"109.55\" y=\"-192.56\" font-family=\"Times,serif\" font-size=\"8.00\">1</text>\n</g>\n<!-- 14&#45;&#45;12 -->\n<g id=\"edge15\" class=\"edge\">\n<title>14--12</title>\n<path fill=\"none\" stroke=\"black\" d=\"M144.38,-203.27C138.68,-213.6 131.6,-226.46 125.94,-236.74\"/>\n<text text-anchor=\"middle\" x=\"133.16\" y=\"-213.6\" font-family=\"Times,serif\" font-size=\"8.00\">4</text>\n</g>\n<!-- 14&#45;&#45;13 -->\n<g id=\"edge18\" class=\"edge\">\n<title>14--13</title>\n<path fill=\"none\" stroke=\"black\" d=\"M157.17,-203.03C158.32,-210.81 159.67,-219.9 160.83,-227.74\"/>\n<text text-anchor=\"middle\" x=\"157\" y=\"-217.98\" font-family=\"Times,serif\" font-size=\"8.00\">3</text>\n</g>\n<!-- 15 -->\n<g id=\"node16\" class=\"node\">\n<title>15</title>\n<ellipse fill=\"lightgrey\" stroke=\"black\" cx=\"220.24\" cy=\"-267.2\" rx=\"27.65\" ry=\"18.27\"/>\n<text text-anchor=\"middle\" x=\"220.24\" y=\"-269.8\" font-family=\"Times,serif\" font-size=\"8.00\">松</text>\n<text text-anchor=\"middle\" x=\"220.24\" y=\"-260.8\" font-family=\"Times,serif\" font-size=\"8.00\">(KBT)</text>\n</g>\n<!-- 15&#45;&#45;14 -->\n<g id=\"edge16\" class=\"edge\">\n<title>15--14</title>\n<path fill=\"none\" stroke=\"black\" d=\"M207.25,-250.95C196.25,-237.18 180.48,-217.46 169.05,-203.16\"/>\n<text text-anchor=\"middle\" x=\"186.15\" y=\"-220.66\" font-family=\"Times,serif\" font-size=\"8.00\">4</text>\n</g>\n<!-- 16 -->\n<g id=\"node17\" class=\"node\">\n<title>16</title>\n<polygon fill=\"none\" stroke=\"black\" points=\"209.91,-246.66 179.91,-246.66 179.91,-210.66 209.91,-210.66 209.91,-246.66\"/>\n<text text-anchor=\"middle\" x=\"194.91\" y=\"-225.95\" font-family=\"Times,serif\" font-size=\"11.51\">■■</text>\n</g>\n<!-- 16&#45;&#45;2 -->\n<g id=\"edge26\" class=\"edge\">\n<title>16--2</title>\n<path fill=\"none\" stroke=\"black\" d=\"M198.39,-210.62C201.25,-195.78 205.29,-174.83 208.16,-159.91\"/>\n<text text-anchor=\"middle\" x=\"201.28\" y=\"-187.87\" font-family=\"Times,serif\" font-size=\"8.00\">1</text>\n</g>\n<!-- 16&#45;&#45;3 -->\n<g id=\"edge27\" class=\"edge\">\n<title>16--3</title>\n<path fill=\"none\" stroke=\"black\" d=\"M210.06,-211.09C213.68,-206.9 217.53,-202.43 221.11,-198.28\"/>\n<text text-anchor=\"middle\" x=\"213.59\" y=\"-207.28\" font-family=\"Times,serif\" font-size=\"8.00\">1</text>\n</g>\n<!-- 16&#45;&#45;10 -->\n<g id=\"edge25\" class=\"edge\">\n<title>16--10</title>\n<path fill=\"none\" stroke=\"black\" d=\"M179.72,-228.79C165.05,-228.93 142.41,-229.13 123.79,-229.29\"/>\n<text text-anchor=\"middle\" x=\"149.75\" y=\"-222.64\" font-family=\"Times,serif\" font-size=\"8.00\">1</text>\n</g>\n<!-- 17 -->\n<g id=\"node18\" class=\"node\">\n<title>17</title>\n<polygon fill=\"none\" stroke=\"black\" points=\"283.66,-243.29 244.66,-243.29 244.66,-207.29 283.66,-207.29 283.66,-243.29\"/>\n<text text-anchor=\"middle\" x=\"264.16\" y=\"-222.2\" font-family=\"Times,serif\" font-size=\"11.99\">■■■</text>\n</g>\n<!-- 17&#45;&#45;2 -->\n<g id=\"edge29\" class=\"edge\">\n<title>17--2</title>\n<path fill=\"none\" stroke=\"black\" d=\"M252.78,-207.13C243.74,-192.71 231.19,-172.69 222.34,-158.58\"/>\n<text text-anchor=\"middle\" x=\"235.56\" y=\"-185.46\" font-family=\"Times,serif\" font-size=\"8.00\">1</text>\n</g>\n<!-- 17&#45;&#45;3 -->\n<g id=\"edge28\" class=\"edge\">\n<title>17--3</title>\n<path fill=\"none\" stroke=\"black\" d=\"M252.38,-207.22C250.6,-204.48 248.76,-201.67 246.99,-198.94\"/>\n<text text-anchor=\"middle\" x=\"247.68\" y=\"-205.68\" font-family=\"Times,serif\" font-size=\"8.00\">2</text>\n</g>\n<!-- 17&#45;&#45;13 -->\n<g id=\"edge30\" class=\"edge\">\n<title>17--13</title>\n<path fill=\"none\" stroke=\"black\" d=\"M244.29,-229.45C229.18,-232.61 208.2,-237 191.41,-240.52\"/>\n<text text-anchor=\"middle\" x=\"215.85\" y=\"-237.58\" font-family=\"Times,serif\" font-size=\"8.00\">1</text>\n</g>\n<!-- 18 -->\n<g id=\"node19\" class=\"node\">\n<title>18</title>\n<polygon fill=\"lightyellow\" stroke=\"black\" points=\"129.09,-187.3 85.09,-187.3 85.09,-151.3 129.09,-151.3 129.09,-187.3\"/>\n<text text-anchor=\"middle\" x=\"107.09\" y=\"-165.52\" font-family=\"Times,serif\" font-size=\"14.72\">■■■</text>\n</g>\n<!-- 18&#45;&#45;0 -->\n<g id=\"edge31\" class=\"edge\">\n<title>18--0</title>\n<path fill=\"none\" stroke=\"black\" d=\"M129.3,-153.44C142.6,-143.94 159.35,-131.98 172.14,-122.85\"/>\n<text text-anchor=\"middle\" x=\"148.72\" y=\"-140.75\" font-family=\"Times,serif\" font-size=\"8.00\">2</text>\n</g>\n<!-- 18&#45;&#45;5 -->\n<g id=\"edge34\" class=\"edge\">\n<title>18--5</title>\n<path fill=\"none\" stroke=\"black\" d=\"M99.69,-151.26C97.16,-145.11 94.34,-138.23 91.82,-132.1\"/>\n<text text-anchor=\"middle\" x=\"93.75\" y=\"-144.28\" font-family=\"Times,serif\" font-size=\"8.00\">2</text>\n</g>\n<!-- 18&#45;&#45;8 -->\n<g id=\"edge35\" class=\"edge\">\n<title>18--8</title>\n<path fill=\"none\" stroke=\"black\" d=\"M110.17,-151.09C111.49,-143.25 113.03,-134.1 114.36,-126.21\"/>\n<text text-anchor=\"middle\" x=\"114.26\" y=\"-132.25\" font-family=\"Times,serif\" font-size=\"8.00\">2</text>\n</g>\n<!-- 18&#45;&#45;10 -->\n<g id=\"edge36\" class=\"edge\">\n<title>18--10</title>\n<path fill=\"none\" stroke=\"black\" d=\"M102.54,-187.38C100.66,-194.87 98.47,-203.55 96.57,-211.09\"/>\n<text text-anchor=\"middle\" x=\"97.56\" y=\"-201.84\" font-family=\"Times,serif\" font-size=\"8.00\">1</text>\n</g>\n<!-- 18&#45;&#45;11 -->\n<g id=\"edge37\" class=\"edge\">\n<title>18--11</title>\n<path fill=\"none\" stroke=\"black\" d=\"M84.85,-181.75C83.58,-182.46 82.3,-183.17 81.04,-183.88\"/>\n<text text-anchor=\"middle\" x=\"80.94\" y=\"-176.41\" font-family=\"Times,serif\" font-size=\"8.00\">1</text>\n</g>\n<!-- 18&#45;&#45;12 -->\n<g id=\"edge32\" class=\"edge\">\n<title>18--12</title>\n<path fill=\"none\" stroke=\"black\" d=\"M108.99,-187.41C110.5,-201.81 112.6,-221.86 114.11,-236.32\"/>\n<text text-anchor=\"middle\" x=\"109.55\" y=\"-205.47\" font-family=\"Times,serif\" font-size=\"8.00\">2</text>\n</g>\n<!-- 18&#45;&#45;13 -->\n<g id=\"edge33\" class=\"edge\">\n<title>18--13</title>\n<path fill=\"none\" stroke=\"black\" d=\"M120.48,-187.56C129.82,-200.28 142.17,-217.13 151.26,-229.53\"/>\n<text text-anchor=\"middle\" x=\"133.87\" y=\"-202.14\" font-family=\"Times,serif\" font-size=\"8.00\">2</text>\n</g>\n<!-- 19 -->\n<g id=\"node20\" class=\"node\">\n<title>19</title>\n<polygon fill=\"none\" stroke=\"black\" points=\"23.05,-273.94 0.05,-273.94 0.05,-237.94 23.05,-237.94 23.05,-273.94\"/>\n<text text-anchor=\"middle\" x=\"11.55\" y=\"-253.15\" font-family=\"Times,serif\" font-size=\"10.99\">■</text>\n</g>\n<!-- 19&#45;&#45;10 -->\n<g id=\"edge38\" class=\"edge\">\n<title>19--10</title>\n<path fill=\"none\" stroke=\"black\" d=\"M23.06,-252.16C33.74,-248.66 50.05,-243.31 64.12,-238.69\"/>\n<text text-anchor=\"middle\" x=\"41.59\" y=\"-248.03\" font-family=\"Times,serif\" font-size=\"8.00\">1</text>\n</g>\n<!-- 19&#45;&#45;11 -->\n<g id=\"edge39\" class=\"edge\">\n<title>19--11</title>\n<path fill=\"none\" stroke=\"black\" d=\"M23.09,-241.45C30.04,-232.73 38.91,-221.6 46.12,-212.55\"/>\n<text text-anchor=\"middle\" x=\"32.61\" y=\"-229.6\" font-family=\"Times,serif\" font-size=\"8.00\">1</text>\n</g>\n<!-- 20 -->\n<g id=\"node21\" class=\"node\">\n<title>20</title>\n<polygon fill=\"none\" stroke=\"black\" points=\"273.72,-360.62 250.72,-360.62 250.72,-324.62 273.72,-324.62 273.72,-360.62\"/>\n<text text-anchor=\"middle\" x=\"262.22\" y=\"-339.8\" font-family=\"Times,serif\" font-size=\"10.40\">■</text>\n</g>\n<!-- 20&#45;&#45;15 -->\n<g id=\"edge40\" class=\"edge\">\n<title>20--15</title>\n<path fill=\"none\" stroke=\"black\" d=\"M252.06,-324.36C245.31,-312.25 236.51,-296.43 229.88,-284.51\"/>\n<text text-anchor=\"middle\" x=\"238.97\" y=\"-307.04\" font-family=\"Times,serif\" font-size=\"8.00\">1</text>\n</g>\n<!-- 21 -->\n<g id=\"node22\" class=\"node\">\n<title>21</title>\n<polygon fill=\"lightyellow\" stroke=\"black\" points=\"290.79,-192.66 258.79,-192.66 258.79,-156.66 290.79,-156.66 290.79,-192.66\"/>\n<text text-anchor=\"middle\" x=\"274.79\" y=\"-171.72\" font-family=\"Times,serif\" font-size=\"12.42\">■■</text>\n</g>\n<!-- 21&#45;&#45;0 -->\n<g id=\"edge41\" class=\"edge\">\n<title>21--0</title>\n<path fill=\"none\" stroke=\"black\" d=\"M258.75,-161.99C244.78,-150.95 224.52,-134.95 209.91,-123.41\"/>\n<text text-anchor=\"middle\" x=\"236.33\" y=\"-145.3\" font-family=\"Times,serif\" font-size=\"8.00\">4</text>\n</g>\n<!-- 21&#45;&#45;15 -->\n<g id=\"edge42\" class=\"edge\">\n<title>21--15</title>\n<path fill=\"none\" stroke=\"black\" d=\"M264.01,-192.94C254.26,-209.48 240.01,-233.66 230.44,-249.9\"/>\n<text text-anchor=\"middle\" x=\"245.23\" y=\"-224.02\" font-family=\"Times,serif\" font-size=\"8.00\">1</text>\n</g>\n<!-- 22 -->\n<g id=\"node23\" class=\"node\">\n<title>22</title>\n<polygon fill=\"none\" stroke=\"black\" points=\"165.08,-78.59 141.08,-78.59 141.08,-42.59 165.08,-42.59 165.08,-78.59\"/>\n<text text-anchor=\"middle\" x=\"153.08\" y=\"-57.5\" font-family=\"Times,serif\" font-size=\"11.99\">■</text>\n</g>\n<!-- 22&#45;&#45;0 -->\n<g id=\"edge43\" class=\"edge\">\n<title>22--0</title>\n<path fill=\"none\" stroke=\"black\" d=\"M165.27,-75.89C169.41,-81.09 174.06,-86.93 178.29,-92.24\"/>\n<text text-anchor=\"middle\" x=\"169.78\" y=\"-77.66\" font-family=\"Times,serif\" font-size=\"8.00\">1</text>\n</g>\n<!-- 22&#45;&#45;2 -->\n<g id=\"edge44\" class=\"edge\">\n<title>22--2</title>\n<path fill=\"none\" stroke=\"black\" d=\"M165.22,-77.37C175.35,-91.37 189.7,-111.2 199.77,-125.11\"/>\n<text text-anchor=\"middle\" x=\"180.49\" y=\"-103.84\" font-family=\"Times,serif\" font-size=\"8.00\">1</text>\n</g>\n<!-- 22&#45;&#45;5 -->\n<g id=\"edge45\" class=\"edge\">\n<title>22--5</title>\n<path fill=\"none\" stroke=\"black\" d=\"M140.81,-70.17C130.25,-78.43 114.86,-90.45 102.83,-99.86\"/>\n<text text-anchor=\"middle\" x=\"119.82\" y=\"-78.61\" font-family=\"Times,serif\" font-size=\"8.00\">1</text>\n</g>\n<!-- 22&#45;&#45;8 -->\n<g id=\"edge46\" class=\"edge\">\n<title>22--8</title>\n<path fill=\"none\" stroke=\"black\" d=\"M141.04,-76.47C137.65,-80.93 133.96,-85.8 130.52,-90.34\"/>\n<text text-anchor=\"middle\" x=\"133.78\" y=\"-77\" font-family=\"Times,serif\" font-size=\"8.00\">1</text>\n</g>\n<!-- 23 -->\n<g id=\"node24\" class=\"node\">\n<title>23</title>\n<polygon fill=\"none\" stroke=\"black\" points=\"173.29,-341.79 150.29,-341.79 150.29,-305.79 173.29,-305.79 173.29,-341.79\"/>\n<text text-anchor=\"middle\" x=\"161.79\" y=\"-321.08\" font-family=\"Times,serif\" font-size=\"11.51\">■</text>\n</g>\n<!-- 23&#45;&#45;12 -->\n<g id=\"edge47\" class=\"edge\">\n<title>23--12</title>\n<path fill=\"none\" stroke=\"black\" d=\"M150.24,-306.36C143.36,-295.96 134.65,-282.81 127.74,-272.37\"/>\n<text text-anchor=\"middle\" x=\"136.99\" y=\"-291.96\" font-family=\"Times,serif\" font-size=\"8.00\">1</text>\n</g>\n<!-- 23&#45;&#45;13 -->\n<g id=\"edge49\" class=\"edge\">\n<title>23--13</title>\n<path fill=\"none\" stroke=\"black\" d=\"M162.21,-305.43C162.5,-293.18 162.87,-277.11 163.16,-264.83\"/>\n<text text-anchor=\"middle\" x=\"160.69\" y=\"-287.73\" font-family=\"Times,serif\" font-size=\"8.00\">1</text>\n</g>\n<!-- 23&#45;&#45;15 -->\n<g id=\"edge48\" class=\"edge\">\n<title>23--15</title>\n<path fill=\"none\" stroke=\"black\" d=\"M173.34,-312.61C182.25,-303.98 194.69,-291.94 204.51,-282.43\"/>\n<text text-anchor=\"middle\" x=\"186.93\" y=\"-300.12\" font-family=\"Times,serif\" font-size=\"8.00\">1</text>\n</g>\n</g>\n</svg>"
          },
          "metadata": {}
        }
      ]
    },
    {
      "cell_type": "markdown",
      "source": [
        "#### 3.2.6 | *Yamabuki*, en. kerria"
      ],
      "metadata": {
        "id": "zjvjqiEpdyEs"
      }
    },
    {
      "cell_type": "code",
      "source": [
        "dot_viz_aggr(\"山吹\")"
      ],
      "metadata": {
        "id": "WqVkus9t8C5h",
        "colab": {
          "base_uri": "https://localhost:8080/",
          "height": 606
        },
        "outputId": "9ee2e2d6-2e15-448a-fcb2-0de9e7172110"
      },
      "execution_count": 20,
      "outputs": [
        {
          "output_type": "display_data",
          "data": {
            "text/plain": [
              "<IPython.core.display.SVG object>"
            ],
            "image/svg+xml": "<svg xmlns=\"http://www.w3.org/2000/svg\" xmlns:xlink=\"http://www.w3.org/1999/xlink\" width=\"703pt\" height=\"438pt\" viewBox=\"0.00 0.00 703.13 438.13\">\n<g id=\"graph0\" class=\"graph\" transform=\"scale(1 1) rotate(0) translate(4 434.13)\">\n<title>%3</title>\n<polygon fill=\"white\" stroke=\"transparent\" points=\"-4,4 -4,-434.13 699.13,-434.13 699.13,4 -4,4\"/>\n<!-- 0 -->\n<g id=\"node1\" class=\"node\">\n<title>0</title>\n<ellipse fill=\"lightgrey\" stroke=\"black\" cx=\"386.84\" cy=\"-265.4\" rx=\"38.37\" ry=\"18.27\"/>\n<text text-anchor=\"middle\" x=\"386.84\" y=\"-268\" font-family=\"Times,serif\" font-size=\"8.00\">山吹</text>\n<text text-anchor=\"middle\" x=\"386.84\" y=\"-259\" font-family=\"Times,serif\" font-size=\"8.00\">(OZW)</text>\n</g>\n<!-- 1 -->\n<g id=\"node2\" class=\"node\">\n<title>1</title>\n<polygon fill=\"none\" stroke=\"black\" points=\"418.79,-369.68 389.79,-369.68 389.79,-333.68 418.79,-333.68 418.79,-369.68\"/>\n<text text-anchor=\"middle\" x=\"404.29\" y=\"-348.86\" font-family=\"Times,serif\" font-size=\"10.40\">■■</text>\n</g>\n<!-- 1&#45;&#45;0 -->\n<g id=\"edge1\" class=\"edge\">\n<title>1--0</title>\n<path fill=\"none\" stroke=\"black\" d=\"M400.59,-333.38C397.65,-318.84 393.55,-298.58 390.6,-283.97\"/>\n<text text-anchor=\"middle\" x=\"393.59\" y=\"-311.27\" font-family=\"Times,serif\" font-size=\"8.00\">1</text>\n</g>\n<!-- 2 -->\n<g id=\"node3\" class=\"node\">\n<title>2</title>\n<ellipse fill=\"lightgrey\" stroke=\"black\" cx=\"281.25\" cy=\"-327.53\" rx=\"38.37\" ry=\"18.27\"/>\n<text text-anchor=\"middle\" x=\"281.25\" y=\"-330.13\" font-family=\"Times,serif\" font-size=\"8.00\">山吹</text>\n<text text-anchor=\"middle\" x=\"281.25\" y=\"-321.13\" font-family=\"Times,serif\" font-size=\"8.00\">(KTGR)</text>\n</g>\n<!-- 3 -->\n<g id=\"node4\" class=\"node\">\n<title>3</title>\n<polygon fill=\"none\" stroke=\"black\" points=\"353.73,-298.76 316.73,-298.76 316.73,-262.76 353.73,-262.76 353.73,-298.76\"/>\n<text text-anchor=\"middle\" x=\"335.23\" y=\"-277.98\" font-family=\"Times,serif\" font-size=\"10.99\">■■■</text>\n</g>\n<!-- 3&#45;&#45;2 -->\n<g id=\"edge2\" class=\"edge\">\n<title>3--2</title>\n<path fill=\"none\" stroke=\"black\" d=\"M316.66,-296.86C311.29,-301.51 305.43,-306.59 300.05,-311.25\"/>\n<text text-anchor=\"middle\" x=\"306.35\" y=\"-297.65\" font-family=\"Times,serif\" font-size=\"8.00\">1</text>\n</g>\n<!-- 4 -->\n<g id=\"node5\" class=\"node\">\n<title>4</title>\n<ellipse fill=\"lightgrey\" stroke=\"black\" cx=\"348.67\" cy=\"-181.47\" rx=\"38.37\" ry=\"18.27\"/>\n<text text-anchor=\"middle\" x=\"348.67\" y=\"-184.07\" font-family=\"Times,serif\" font-size=\"8.00\">山吹</text>\n<text text-anchor=\"middle\" x=\"348.67\" y=\"-175.07\" font-family=\"Times,serif\" font-size=\"8.00\">(OKMR)</text>\n</g>\n<!-- 4&#45;&#45;3 -->\n<g id=\"edge3\" class=\"edge\">\n<title>4--3</title>\n<path fill=\"none\" stroke=\"black\" d=\"M346.14,-200.15C343.72,-218.01 340.1,-244.78 337.7,-262.51\"/>\n<text text-anchor=\"middle\" x=\"339.92\" y=\"-233.93\" font-family=\"Times,serif\" font-size=\"8.00\">1</text>\n</g>\n<!-- 5 -->\n<g id=\"node6\" class=\"node\">\n<title>5</title>\n<ellipse fill=\"lightgrey\" stroke=\"black\" cx=\"202.61\" cy=\"-217.89\" rx=\"38.37\" ry=\"18.27\"/>\n<text text-anchor=\"middle\" x=\"202.61\" y=\"-220.49\" font-family=\"Times,serif\" font-size=\"8.00\">山吹</text>\n<text text-anchor=\"middle\" x=\"202.61\" y=\"-211.49\" font-family=\"Times,serif\" font-size=\"8.00\">(KNK)</text>\n</g>\n<!-- 6 -->\n<g id=\"node7\" class=\"node\">\n<title>6</title>\n<polygon fill=\"none\" stroke=\"black\" points=\"153.93,-202.13 100.93,-202.13 100.93,-166.13 153.93,-166.13 153.93,-202.13\"/>\n<text text-anchor=\"middle\" x=\"127.43\" y=\"-181.31\" font-family=\"Times,serif\" font-size=\"10.40\">■■■■■■</text>\n</g>\n<!-- 6&#45;&#45;5 -->\n<g id=\"edge4\" class=\"edge\">\n<title>6--5</title>\n<path fill=\"none\" stroke=\"black\" d=\"M154.14,-196.13C160.73,-199.08 167.8,-202.26 174.45,-205.25\"/>\n<text text-anchor=\"middle\" x=\"162.3\" y=\"-203.29\" font-family=\"Times,serif\" font-size=\"8.00\">1</text>\n</g>\n<!-- 7 -->\n<g id=\"node8\" class=\"node\">\n<title>7</title>\n<ellipse fill=\"lightgrey\" stroke=\"black\" cx=\"473.47\" cy=\"-101.1\" rx=\"38.37\" ry=\"18.27\"/>\n<text text-anchor=\"middle\" x=\"473.47\" y=\"-103.7\" font-family=\"Times,serif\" font-size=\"8.00\">山吹</text>\n<text text-anchor=\"middle\" x=\"473.47\" y=\"-94.7\" font-family=\"Times,serif\" font-size=\"8.00\">(K&amp;A)</text>\n</g>\n<!-- 8 -->\n<g id=\"node9\" class=\"node\">\n<title>8</title>\n<polygon fill=\"none\" stroke=\"black\" points=\"487.32,-36 458.32,-36 458.32,0 487.32,0 487.32,-36\"/>\n<text text-anchor=\"middle\" x=\"472.82\" y=\"-15.18\" font-family=\"Times,serif\" font-size=\"10.40\">■■</text>\n</g>\n<!-- 8&#45;&#45;7 -->\n<g id=\"edge5\" class=\"edge\">\n<title>8--7</title>\n<path fill=\"none\" stroke=\"black\" d=\"M472.96,-36.03C473.07,-49.78 473.22,-68.65 473.33,-82.53\"/>\n<text text-anchor=\"middle\" x=\"471.15\" y=\"-61.88\" font-family=\"Times,serif\" font-size=\"8.00\">1</text>\n</g>\n<!-- 9 -->\n<g id=\"node10\" class=\"node\">\n<title>9</title>\n<polygon fill=\"none\" stroke=\"black\" points=\"211.65,-150.72 182.65,-150.72 182.65,-114.72 211.65,-114.72 211.65,-150.72\"/>\n<text text-anchor=\"middle\" x=\"197.15\" y=\"-129.91\" font-family=\"Times,serif\" font-size=\"10.40\">■■</text>\n</g>\n<!-- 9&#45;&#45;5 -->\n<g id=\"edge6\" class=\"edge\">\n<title>9--5</title>\n<path fill=\"none\" stroke=\"black\" d=\"M198.31,-150.79C199.22,-165.04 200.49,-184.87 201.41,-199.27\"/>\n<text text-anchor=\"middle\" x=\"197.86\" y=\"-177.63\" font-family=\"Times,serif\" font-size=\"8.00\">1</text>\n</g>\n<!-- 10 -->\n<g id=\"node11\" class=\"node\">\n<title>10</title>\n<polygon fill=\"none\" stroke=\"black\" points=\"171.95,-160.64 136.95,-160.64 136.95,-124.64 171.95,-124.64 171.95,-160.64\"/>\n<text text-anchor=\"middle\" x=\"154.45\" y=\"-139.82\" font-family=\"Times,serif\" font-size=\"10.40\">■■■</text>\n</g>\n<!-- 10&#45;&#45;5 -->\n<g id=\"edge7\" class=\"edge\">\n<title>10--5</title>\n<path fill=\"none\" stroke=\"black\" d=\"M166.11,-160.85C173.73,-172.77 183.65,-188.27 191.22,-200.1\"/>\n<text text-anchor=\"middle\" x=\"176.67\" y=\"-183.08\" font-family=\"Times,serif\" font-size=\"8.00\">1</text>\n</g>\n<!-- 11 -->\n<g id=\"node12\" class=\"node\">\n<title>11</title>\n<polygon fill=\"none\" stroke=\"black\" points=\"162.07,-312.28 132.07,-312.28 132.07,-276.28 162.07,-276.28 162.07,-312.28\"/>\n<text text-anchor=\"middle\" x=\"147.07\" y=\"-291.49\" font-family=\"Times,serif\" font-size=\"10.99\">■■</text>\n</g>\n<!-- 11&#45;&#45;5 -->\n<g id=\"edge8\" class=\"edge\">\n<title>11--5</title>\n<path fill=\"none\" stroke=\"black\" d=\"M160.23,-276.18C169.22,-263.82 181.05,-247.55 189.92,-235.34\"/>\n<text text-anchor=\"middle\" x=\"173.08\" y=\"-258.36\" font-family=\"Times,serif\" font-size=\"8.00\">1</text>\n</g>\n<!-- 12 -->\n<g id=\"node13\" class=\"node\">\n<title>12</title>\n<ellipse fill=\"lightgrey\" stroke=\"black\" cx=\"77.11\" cy=\"-337.88\" rx=\"38.37\" ry=\"18.27\"/>\n<text text-anchor=\"middle\" x=\"77.11\" y=\"-340.48\" font-family=\"Times,serif\" font-size=\"8.00\">山吹</text>\n<text text-anchor=\"middle\" x=\"77.11\" y=\"-331.48\" font-family=\"Times,serif\" font-size=\"8.00\">(TKOK)</text>\n</g>\n<!-- 12&#45;&#45;11 -->\n<g id=\"edge9\" class=\"edge\">\n<title>12--11</title>\n<path fill=\"none\" stroke=\"black\" d=\"M100.8,-323.12C111.1,-316.7 122.88,-309.36 131.97,-303.69\"/>\n<text text-anchor=\"middle\" x=\"114.38\" y=\"-307.01\" font-family=\"Times,serif\" font-size=\"8.00\">1</text>\n</g>\n<!-- 13 -->\n<g id=\"node14\" class=\"node\">\n<title>13</title>\n<ellipse fill=\"lightgrey\" stroke=\"black\" cx=\"505.36\" cy=\"-229.08\" rx=\"38.37\" ry=\"18.27\"/>\n<text text-anchor=\"middle\" x=\"505.36\" y=\"-231.68\" font-family=\"Times,serif\" font-size=\"8.00\">山吹</text>\n<text text-anchor=\"middle\" x=\"505.36\" y=\"-222.68\" font-family=\"Times,serif\" font-size=\"8.00\">(KSJ)</text>\n</g>\n<!-- 14 -->\n<g id=\"node15\" class=\"node\">\n<title>14</title>\n<polygon fill=\"none\" stroke=\"black\" points=\"480.79,-318.78 450.79,-318.78 450.79,-282.78 480.79,-282.78 480.79,-318.78\"/>\n<text text-anchor=\"middle\" x=\"465.79\" y=\"-297.99\" font-family=\"Times,serif\" font-size=\"10.99\">■■</text>\n</g>\n<!-- 14&#45;&#45;0 -->\n<g id=\"edge11\" class=\"edge\">\n<title>14--0</title>\n<path fill=\"none\" stroke=\"black\" d=\"M450.57,-293.96C440.44,-289.42 426.84,-283.32 414.8,-277.93\"/>\n<text text-anchor=\"middle\" x=\"430.69\" y=\"-288.54\" font-family=\"Times,serif\" font-size=\"8.00\">1</text>\n</g>\n<!-- 14&#45;&#45;13 -->\n<g id=\"edge10\" class=\"edge\">\n<title>14--13</title>\n<path fill=\"none\" stroke=\"black\" d=\"M475.78,-282.69C481.82,-271.74 489.5,-257.83 495.52,-246.92\"/>\n<text text-anchor=\"middle\" x=\"483.65\" y=\"-267.41\" font-family=\"Times,serif\" font-size=\"8.00\">1</text>\n</g>\n<!-- 15 -->\n<g id=\"node16\" class=\"node\">\n<title>15</title>\n<polygon fill=\"none\" stroke=\"black\" points=\"598.82,-268.16 568.82,-268.16 568.82,-232.16 598.82,-232.16 598.82,-268.16\"/>\n<text text-anchor=\"middle\" x=\"583.82\" y=\"-247.37\" font-family=\"Times,serif\" font-size=\"10.99\">■■</text>\n</g>\n<!-- 15&#45;&#45;13 -->\n<g id=\"edge12\" class=\"edge\">\n<title>15--13</title>\n<path fill=\"none\" stroke=\"black\" d=\"M568.7,-246.09C560.23,-243.82 549.33,-240.89 538.96,-238.11\"/>\n<text text-anchor=\"middle\" x=\"551.83\" y=\"-244.7\" font-family=\"Times,serif\" font-size=\"8.00\">1</text>\n</g>\n<!-- 16 -->\n<g id=\"node17\" class=\"node\">\n<title>16</title>\n<ellipse fill=\"lightgrey\" stroke=\"black\" cx=\"656.95\" cy=\"-272.15\" rx=\"38.37\" ry=\"18.27\"/>\n<text text-anchor=\"middle\" x=\"656.95\" y=\"-274.75\" font-family=\"Times,serif\" font-size=\"8.00\">山吹</text>\n<text text-anchor=\"middle\" x=\"656.95\" y=\"-265.75\" font-family=\"Times,serif\" font-size=\"8.00\">(MTD)</text>\n</g>\n<!-- 16&#45;&#45;15 -->\n<g id=\"edge13\" class=\"edge\">\n<title>16--15</title>\n<path fill=\"none\" stroke=\"black\" d=\"M624.24,-262.31C615.41,-259.66 606.29,-256.91 598.95,-254.71\"/>\n<text text-anchor=\"middle\" x=\"609.59\" y=\"-261.11\" font-family=\"Times,serif\" font-size=\"8.00\">1</text>\n</g>\n<!-- 17 -->\n<g id=\"node18\" class=\"node\">\n<title>17</title>\n<ellipse fill=\"lightgrey\" stroke=\"black\" cx=\"522.18\" cy=\"-380.64\" rx=\"38.37\" ry=\"18.27\"/>\n<text text-anchor=\"middle\" x=\"522.18\" y=\"-383.24\" font-family=\"Times,serif\" font-size=\"8.00\">山吹</text>\n<text text-anchor=\"middle\" x=\"522.18\" y=\"-374.24\" font-family=\"Times,serif\" font-size=\"8.00\">(KBT)</text>\n</g>\n<!-- 18 -->\n<g id=\"node19\" class=\"node\">\n<title>18</title>\n<polygon fill=\"none\" stroke=\"black\" points=\"613.89,-388 572.89,-388 572.89,-352 613.89,-352 613.89,-388\"/>\n<text text-anchor=\"middle\" x=\"593.39\" y=\"-367.18\" font-family=\"Times,serif\" font-size=\"10.40\">■■■■</text>\n</g>\n<!-- 18&#45;&#45;17 -->\n<g id=\"edge14\" class=\"edge\">\n<title>18--17</title>\n<path fill=\"none\" stroke=\"black\" d=\"M572.8,-373.08C568.36,-373.74 563.54,-374.46 558.7,-375.18\"/>\n<text text-anchor=\"middle\" x=\"563.75\" y=\"-376.73\" font-family=\"Times,serif\" font-size=\"8.00\">1</text>\n</g>\n<!-- 19 -->\n<g id=\"node20\" class=\"node\">\n<title>19</title>\n<polygon fill=\"none\" stroke=\"black\" points=\"156.84,-255.02 115.84,-255.02 115.84,-219.02 156.84,-219.02 156.84,-255.02\"/>\n<text text-anchor=\"middle\" x=\"136.34\" y=\"-234.2\" font-family=\"Times,serif\" font-size=\"10.40\">■■■■</text>\n</g>\n<!-- 19&#45;&#45;5 -->\n<g id=\"edge15\" class=\"edge\">\n<title>19--5</title>\n<path fill=\"none\" stroke=\"black\" d=\"M156.95,-231.07C161.05,-229.89 165.45,-228.62 169.85,-227.35\"/>\n<text text-anchor=\"middle\" x=\"161.4\" y=\"-231.81\" font-family=\"Times,serif\" font-size=\"8.00\">1</text>\n</g>\n<!-- 20 -->\n<g id=\"node21\" class=\"node\">\n<title>20</title>\n<polygon fill=\"none\" stroke=\"black\" points=\"293.52,-430.13 258.52,-430.13 258.52,-394.13 293.52,-394.13 293.52,-430.13\"/>\n<text text-anchor=\"middle\" x=\"276.02\" y=\"-409.31\" font-family=\"Times,serif\" font-size=\"10.40\">■■■</text>\n</g>\n<!-- 20&#45;&#45;2 -->\n<g id=\"edge16\" class=\"edge\">\n<title>20--2</title>\n<path fill=\"none\" stroke=\"black\" d=\"M277.15,-393.77C278.02,-379.68 279.22,-360.3 280.1,-346.14\"/>\n<text text-anchor=\"middle\" x=\"276.63\" y=\"-372.56\" font-family=\"Times,serif\" font-size=\"8.00\">1</text>\n</g>\n<!-- 21 -->\n<g id=\"node22\" class=\"node\">\n<title>21</title>\n<polygon fill=\"lightyellow\" stroke=\"black\" points=\"307.7,-257.8 274.7,-257.8 274.7,-221.8 307.7,-221.8 307.7,-257.8\"/>\n<text text-anchor=\"middle\" x=\"291.2\" y=\"-236.47\" font-family=\"Times,serif\" font-size=\"13.54\">■■</text>\n</g>\n<!-- 21&#45;&#45;0 -->\n<g id=\"edge19\" class=\"edge\">\n<title>21--0</title>\n<path fill=\"none\" stroke=\"black\" d=\"M307.86,-244.26C320.38,-247.61 337.96,-252.32 353.35,-256.43\"/>\n<text text-anchor=\"middle\" x=\"328.6\" y=\"-252.95\" font-family=\"Times,serif\" font-size=\"8.00\">2</text>\n</g>\n<!-- 21&#45;&#45;2 -->\n<g id=\"edge20\" class=\"edge\">\n<title>21--2</title>\n<path fill=\"none\" stroke=\"black\" d=\"M289.13,-257.98C287.44,-272.94 285.05,-294.04 283.34,-309.08\"/>\n<text text-anchor=\"middle\" x=\"284.24\" y=\"-286.13\" font-family=\"Times,serif\" font-size=\"8.00\">1</text>\n</g>\n<!-- 21&#45;&#45;4 -->\n<g id=\"edge21\" class=\"edge\">\n<title>21--4</title>\n<path fill=\"none\" stroke=\"black\" d=\"M307.82,-222.93C315.51,-215.13 324.62,-205.88 332.28,-198.1\"/>\n<text text-anchor=\"middle\" x=\"318.05\" y=\"-213.12\" font-family=\"Times,serif\" font-size=\"8.00\">1</text>\n</g>\n<!-- 21&#45;&#45;5 -->\n<g id=\"edge17\" class=\"edge\">\n<title>21--5</title>\n<path fill=\"none\" stroke=\"black\" d=\"M274.53,-235.68C263.91,-233.05 249.75,-229.55 236.81,-226.35\"/>\n<text text-anchor=\"middle\" x=\"253.67\" y=\"-233.62\" font-family=\"Times,serif\" font-size=\"8.00\">2</text>\n</g>\n<!-- 22 -->\n<g id=\"node23\" class=\"node\">\n<title>22</title>\n<ellipse fill=\"lightgrey\" stroke=\"black\" cx=\"361.66\" cy=\"-202.04\" rx=\"38.37\" ry=\"18.27\"/>\n<text text-anchor=\"middle\" x=\"361.66\" y=\"-204.64\" font-family=\"Times,serif\" font-size=\"8.00\">山吹</text>\n<text text-anchor=\"middle\" x=\"361.66\" y=\"-195.64\" font-family=\"Times,serif\" font-size=\"8.00\">(KMCY)</text>\n</g>\n<!-- 22&#45;&#45;21 -->\n<g id=\"edge18\" class=\"edge\">\n<title>22--21</title>\n<path fill=\"none\" stroke=\"black\" d=\"M335.82,-215.89C326.55,-220.85 316.35,-226.32 308.04,-230.78\"/>\n<text text-anchor=\"middle\" x=\"319.93\" y=\"-225.93\" font-family=\"Times,serif\" font-size=\"8.00\">2</text>\n</g>\n<!-- 23 -->\n<g id=\"node24\" class=\"node\">\n<title>23</title>\n<polygon fill=\"lightyellow\" stroke=\"black\" points=\"446.21,-196.73 421.21,-196.73 421.21,-160.73 446.21,-160.73 446.21,-196.73\"/>\n<text text-anchor=\"middle\" x=\"433.71\" y=\"-175.67\" font-family=\"Times,serif\" font-size=\"13.20\">■</text>\n</g>\n<!-- 23&#45;&#45;0 -->\n<g id=\"edge26\" class=\"edge\">\n<title>23--0</title>\n<path fill=\"none\" stroke=\"black\" d=\"M423.77,-197.11C415.77,-211.92 404.57,-232.62 396.61,-247.34\"/>\n<text text-anchor=\"middle\" x=\"408.19\" y=\"-224.83\" font-family=\"Times,serif\" font-size=\"8.00\">1</text>\n</g>\n<!-- 23&#45;&#45;4 -->\n<g id=\"edge23\" class=\"edge\">\n<title>23--4</title>\n<path fill=\"none\" stroke=\"black\" d=\"M421.16,-179.14C412.11,-179.43 399.36,-179.84 387.08,-180.23\"/>\n<text text-anchor=\"middle\" x=\"402.12\" y=\"-182.28\" font-family=\"Times,serif\" font-size=\"8.00\">2</text>\n</g>\n<!-- 23&#45;&#45;7 -->\n<g id=\"edge24\" class=\"edge\">\n<title>23--7</title>\n<path fill=\"none\" stroke=\"black\" d=\"M442.93,-160.73C449.36,-148.18 457.89,-131.53 464.3,-119.01\"/>\n<text text-anchor=\"middle\" x=\"451.62\" y=\"-142.47\" font-family=\"Times,serif\" font-size=\"8.00\">1</text>\n</g>\n<!-- 23&#45;&#45;13 -->\n<g id=\"edge25\" class=\"edge\">\n<title>23--13</title>\n<path fill=\"none\" stroke=\"black\" d=\"M446.52,-187.73C456.83,-194.97 471.53,-205.31 483.67,-213.84\"/>\n<text text-anchor=\"middle\" x=\"463.09\" y=\"-203.39\" font-family=\"Times,serif\" font-size=\"8.00\">1</text>\n</g>\n<!-- 23&#45;&#45;22 -->\n<g id=\"edge22\" class=\"edge\">\n<title>23--22</title>\n<path fill=\"none\" stroke=\"black\" d=\"M421.16,-182.79C413.5,-185.27 403.33,-188.56 393.57,-191.72\"/>\n<text text-anchor=\"middle\" x=\"409.37\" y=\"-189.85\" font-family=\"Times,serif\" font-size=\"8.00\">2</text>\n</g>\n<!-- 24 -->\n<g id=\"node25\" class=\"node\">\n<title>24</title>\n<polygon fill=\"none\" stroke=\"black\" points=\"560.99,-84.95 531.99,-84.95 531.99,-48.95 560.99,-48.95 560.99,-84.95\"/>\n<text text-anchor=\"middle\" x=\"546.49\" y=\"-64.13\" font-family=\"Times,serif\" font-size=\"10.40\">■■</text>\n</g>\n<!-- 24&#45;&#45;7 -->\n<g id=\"edge27\" class=\"edge\">\n<title>24--7</title>\n<path fill=\"none\" stroke=\"black\" d=\"M531.71,-73.86C522.88,-77.99 511.38,-83.37 500.93,-88.26\"/>\n<text text-anchor=\"middle\" x=\"514.32\" y=\"-83.66\" font-family=\"Times,serif\" font-size=\"8.00\">1</text>\n</g>\n<!-- 25 -->\n<g id=\"node26\" class=\"node\">\n<title>25</title>\n<polygon fill=\"none\" stroke=\"black\" points=\"35,-402.74 0,-402.74 0,-366.74 35,-366.74 35,-402.74\"/>\n<text text-anchor=\"middle\" x=\"17.5\" y=\"-381.92\" font-family=\"Times,serif\" font-size=\"10.40\">■■■</text>\n</g>\n<!-- 25&#45;&#45;12 -->\n<g id=\"edge28\" class=\"edge\">\n<title>25--12</title>\n<path fill=\"none\" stroke=\"black\" d=\"M35.06,-370.94C41.93,-365.54 49.85,-359.31 56.95,-353.73\"/>\n<text text-anchor=\"middle\" x=\"44.01\" y=\"-364.93\" font-family=\"Times,serif\" font-size=\"8.00\">1</text>\n</g>\n<!-- 26 -->\n<g id=\"node27\" class=\"node\">\n<title>26</title>\n<polygon fill=\"none\" stroke=\"black\" points=\"440.45,-241.4 416.45,-241.4 416.45,-205.4 440.45,-205.4 440.45,-241.4\"/>\n<text text-anchor=\"middle\" x=\"428.45\" y=\"-220.31\" font-family=\"Times,serif\" font-size=\"11.99\">■</text>\n</g>\n<!-- 26&#45;&#45;0 -->\n<g id=\"edge32\" class=\"edge\">\n<title>26--0</title>\n<path fill=\"none\" stroke=\"black\" d=\"M416.19,-235.77C412.16,-239.84 407.62,-244.42 403.33,-248.75\"/>\n<text text-anchor=\"middle\" x=\"407.76\" y=\"-235.86\" font-family=\"Times,serif\" font-size=\"8.00\">1</text>\n</g>\n<!-- 26&#45;&#45;4 -->\n<g id=\"edge31\" class=\"edge\">\n<title>26--4</title>\n<path fill=\"none\" stroke=\"black\" d=\"M416.33,-217.03C405.35,-211.26 388.78,-202.55 374.79,-195.2\"/>\n<text text-anchor=\"middle\" x=\"393.56\" y=\"-208.72\" font-family=\"Times,serif\" font-size=\"8.00\">1</text>\n</g>\n<!-- 26&#45;&#45;13 -->\n<g id=\"edge30\" class=\"edge\">\n<title>26--13</title>\n<path fill=\"none\" stroke=\"black\" d=\"M440.47,-224.29C447.82,-224.83 457.67,-225.56 467.47,-226.28\"/>\n<text text-anchor=\"middle\" x=\"451.97\" y=\"-227.88\" font-family=\"Times,serif\" font-size=\"8.00\">1</text>\n</g>\n<!-- 26&#45;&#45;22 -->\n<g id=\"edge29\" class=\"edge\">\n<title>26--22</title>\n<path fill=\"none\" stroke=\"black\" d=\"M416.2,-219.48C409.8,-217.43 401.63,-214.82 393.58,-212.25\"/>\n<text text-anchor=\"middle\" x=\"402.89\" y=\"-218.46\" font-family=\"Times,serif\" font-size=\"8.00\">1</text>\n</g>\n<!-- 27 -->\n<g id=\"node28\" class=\"node\">\n<title>27</title>\n<polygon fill=\"none\" stroke=\"black\" points=\"348.05,-116.59 319.05,-116.59 319.05,-80.59 348.05,-80.59 348.05,-116.59\"/>\n<text text-anchor=\"middle\" x=\"333.55\" y=\"-95.77\" font-family=\"Times,serif\" font-size=\"10.40\">■■</text>\n</g>\n<!-- 27&#45;&#45;4 -->\n<g id=\"edge33\" class=\"edge\">\n<title>27--4</title>\n<path fill=\"none\" stroke=\"black\" d=\"M336.9,-116.99C339.41,-130.72 342.82,-149.41 345.32,-163.13\"/>\n<text text-anchor=\"middle\" x=\"339.11\" y=\"-142.66\" font-family=\"Times,serif\" font-size=\"8.00\">1</text>\n</g>\n</g>\n</svg>"
          },
          "metadata": {}
        }
      ]
    },
    {
      "cell_type": "markdown",
      "source": [
        "## 3.2 | Breakdown Visualization"
      ],
      "metadata": {
        "id": "ZHpL6qZMfh5t"
      }
    },
    {
      "cell_type": "code",
      "source": [
        "def retrive_igraph_by_poem_by_translator(idx: str, *source_words):\n",
        "    \"\"\"Retrive igraph format data from one poem with a translator attension.\n",
        "\n",
        "    :return graph: igraph-converted information.\n",
        "    \"\"\"\n",
        "    target_word_set = set()\n",
        "    source_word_translator_set = set()\n",
        "    alignment_lst = DB.query_improper_alignment_by_word_in_poem(idx, *source_words)    \n",
        "    alignment_lst = list(_filter(alignment_lst))\n",
        "    alignment_summary = bitexts.AlignmentSummary(alignment_lst)\n",
        "    edge_info = alignment_summary.alignment_info  # For edges\" annotation\n",
        "    \n",
        "    return _gen_graph(alignment_summary, edge_info, source_words, source_word_translator_set, target_word_set)"
      ],
      "metadata": {
        "id": "lCAvtmmHwaUU"
      },
      "execution_count": 24,
      "outputs": []
    },
    {
      "cell_type": "code",
      "source": [
        "def dot_viz_brkd(word, width=None):\n",
        "    code = lemma2metacode(word, metacode2lemma_map_src)\n",
        "    candidates = DB.query_bitext_by_word(code)\n",
        "    poems = {}\n",
        "    candidates = DB.query_bitext_by_word(code)\n",
        "    for candidate in candidates:\n",
        "        if candidate.poem in poems.keys():\n",
        "            break\n",
        "        poems[candidate.poem] = candidate.source_surface\n",
        "        print(candidate.poem, candidate.source_surface)\n",
        "    idx = str(input(\"Input poem id: \"))\n",
        "    print(idx, poems[idx])\n",
        "    query = DB.query_by_poem(idx)\n",
        "    for candidate in query:\n",
        "        print(candidate.translator, candidate.target_surface)\n",
        "\n",
        "    g = retrive_igraph_by_poem_by_translator(idx, code)\n",
        "    g.write_dot(f\"../artifacts/{idx}-{word}.dot\")\n",
        "    if width:\n",
        "        with open(f\"../artifacts/{idx}-{word}.dot\", \"r\") as file:\n",
        "            lines = file.readlines()\n",
        "\n",
        "        # attr\n",
        "        lines.insert(2, f'  size=\"{width},\";\\n')\n",
        "        lines.insert(3, '  ratio=\"fill\";\\n')\n",
        "        # lines.insert(4, '  mode=\"ipsep\";\\n')\n",
        "        # lines.insert(5, '  sep=1;\\n')\n",
        "        # lines.insert(6, '  overlap=false;\\n')\n",
        "\n",
        "        with open(f\"../artifacts/{word}.dot\", \"w\") as file:\n",
        "            file.writelines(lines)\n",
        "\n",
        "    neato_command = f\"neato -Tsvg ../artifacts/{idx}-{word}.dot -o ../artifacts/{idx}-{word}.svg\"\n",
        "    subprocess.run(neato_command, shell=True, check=True)\n",
        "    display(SVG(filename=f\"../artifacts/{idx}-{word}.svg\")) "
      ],
      "metadata": {
        "id": "Gl-AFN5KiHyA"
      },
      "execution_count": 25,
      "outputs": []
    },
    {
      "cell_type": "markdown",
      "source": [
        "#### 3.2.1 | Example"
      ],
      "metadata": {
        "id": "XpQIZOiT1voj"
      }
    },
    {
      "cell_type": "code",
      "source": [
        "dot_viz_brkd(\"女郎花\")"
      ],
      "metadata": {
        "id": "BGi4Qy9XkVb8",
        "colab": {
          "base_uri": "https://localhost:8080/",
          "height": 693
        },
        "outputId": "d58bcfd7-3d59-4664-d691-6736f7ba3d8d"
      },
      "execution_count": 26,
      "outputs": [
        {
          "output_type": "stream",
          "name": "stdout",
          "text": [
            "226 なにめてゝおれるはかりそ女郎花われおちにきと人にかたるな\n",
            "227 女郎花うしと見つゝそゆきすくるおとこ山にしたてりと思へは\n",
            "228 秋のゝにやとりはすへし女郎花なをむつましみたひならなくに\n",
            "229 女郎花おほかる野邊にやとりせはあやなくあたの名をやたちなん\n",
            "230 女郎花秋のゝ風にうちなひき心ひとつをたれによすらん\n",
            "231 秋ならてあふことかたき女郎花あまのかはらにおひぬ物ゆへ\n",
            "232 たか秋にあらぬ物ゆへ女郎花なそ色に出てまたきうつろふ\n",
            "233 妻こふる鹿そ鳴なるをみなへしをのかすむのゝ花としらすや\n",
            "234 をみなへし吹過てくる秋風はめにはみえねとかこそしるけれ\n",
            "235 人のみることやくるしき女郎花秋霧にのみ立かくるらん\n",
            "236 ひとりのみなかむるよりはをみなへしわかすむやとにうへてみましを\n",
            "237 女郎花うしろめたくもみゆるかなあれたる宿にひとりたてれは\n",
            "238 花にあかてなにかへるらん女郎花おほかるのへにねなましものを\n",
            "Input poem id: 226\n",
            "226 なにめてゝおれるはかりそ女郎花われおちにきと人にかたるな\n",
            "kaneko ■■■■■■■■■■■■■■■■■■■■■■■■■■■■■■■■■■■■■■■■■■■■■■■■■■■■■■■■■■■■■■■■■■■■■\n",
            "katagiri ■■■■■■■■■■■■■■■■■■■■■■■■■■■■■■■■■■■■■■■■■\n",
            "kojimaarai ■■■■■■■■■■■■■■■■■■■■■■■■■■■■■■■■■■■■■■■■■■■■■■■■\n",
            "komachiya ■■■■■■■■■■■■■■■■■■■■■■■■■■■■■■■■■■■■■■■■■■■■■■■\n",
            "kubota ■■■■■■■■■■■■■■■■■■■■■■■■■■■■■■■■■■■■■■■■■■■■■■■■■■■■■■■■■■■\n",
            "kyusojin ■■■■■■■■■■■■■■■■■■■■■■■■■■■■■■■■■■■■■■■■■■■■■■■■■■■■■\n",
            "matsuda ■■■■■■■■■■■■■■■■■■■■■■■■■■■■■■■■■■■■■■■■■■■■■■■■■\n",
            "okumura ■■■■■■■■■■■■■■■■■■■■■■■■■■■■■■■■■■■■■■■■■■■■■■■■■■■\n",
            "ozawa ■■■■■■■■■■■■■■■■■■■■■■■■■■■■■■■■■■■■■■■■■■■■■■■■■■■■■■■■■■■■■■■■■■■\n",
            "takeoka ■■■■■■■■■■■■■■■■■■■■■■■■■■■■■■■■■■■■■■■■■■■■■■■■■■■■■■■■■■■\n"
          ]
        },
        {
          "output_type": "display_data",
          "data": {
            "text/plain": [
              "<IPython.core.display.SVG object>"
            ],
            "image/svg+xml": "<svg xmlns=\"http://www.w3.org/2000/svg\" xmlns:xlink=\"http://www.w3.org/1999/xlink\" width=\"276pt\" height=\"178pt\" viewBox=\"0.00 0.00 275.74 177.82\">\n<g id=\"graph0\" class=\"graph\" transform=\"scale(1 1) rotate(0) translate(4 173.82)\">\n<title>%3</title>\n<polygon fill=\"white\" stroke=\"transparent\" points=\"-4,4 -4,-173.82 271.74,-173.82 271.74,4 -4,4\"/>\n<!-- 0 -->\n<g id=\"node1\" class=\"node\">\n<title>0</title>\n<ellipse fill=\"lightgrey\" stroke=\"black\" cx=\"81.27\" cy=\"-121.75\" rx=\"51.74\" ry=\"18.27\"/>\n<text text-anchor=\"middle\" x=\"81.27\" y=\"-124.35\" font-family=\"Times,serif\" font-size=\"8.00\">女郎花</text>\n<text text-anchor=\"middle\" x=\"81.27\" y=\"-115.35\" font-family=\"Times,serif\" font-size=\"8.00\">(KNK)</text>\n</g>\n<!-- 1 -->\n<g id=\"node2\" class=\"node\">\n<title>1</title>\n<polygon fill=\"none\" stroke=\"black\" points=\"165.05,-112.47 141.05,-112.47 141.05,-76.47 165.05,-76.47 165.05,-112.47\"/>\n<text text-anchor=\"middle\" x=\"153.05\" y=\"-91.37\" font-family=\"Times,serif\" font-size=\"11.99\">■</text>\n</g>\n<!-- 1&#45;&#45;0 -->\n<g id=\"edge1\" class=\"edge\">\n<title>1--0</title>\n<path fill=\"none\" stroke=\"black\" d=\"M140.87,-99.09C134.15,-101.65 125.43,-104.96 116.73,-108.27\"/>\n<text text-anchor=\"middle\" x=\"126.8\" y=\"-97.28\" font-family=\"Times,serif\" font-size=\"8.00\">2</text>\n</g>\n<!-- 2 -->\n<g id=\"node3\" class=\"node\">\n<title>2</title>\n<ellipse fill=\"lightgrey\" stroke=\"black\" cx=\"169.09\" cy=\"-18.38\" rx=\"51.74\" ry=\"18.27\"/>\n<text text-anchor=\"middle\" x=\"169.09\" y=\"-20.98\" font-family=\"Times,serif\" font-size=\"8.00\">女郎花</text>\n<text text-anchor=\"middle\" x=\"169.09\" y=\"-11.98\" font-family=\"Times,serif\" font-size=\"8.00\">(KMCY)</text>\n</g>\n<!-- 2&#45;&#45;1 -->\n<g id=\"edge2\" class=\"edge\">\n<title>2--1</title>\n<path fill=\"none\" stroke=\"black\" d=\"M165.21,-36.8C162.68,-48.76 159.41,-64.29 156.89,-76.22\"/>\n<text text-anchor=\"middle\" x=\"159.05\" y=\"-59.11\" font-family=\"Times,serif\" font-size=\"8.00\">1</text>\n</g>\n<!-- 3 -->\n<g id=\"node4\" class=\"node\">\n<title>3</title>\n<ellipse fill=\"lightgrey\" stroke=\"black\" cx=\"216.12\" cy=\"-139.98\" rx=\"51.74\" ry=\"18.27\"/>\n<text text-anchor=\"middle\" x=\"216.12\" y=\"-142.58\" font-family=\"Times,serif\" font-size=\"8.00\">女郎花</text>\n<text text-anchor=\"middle\" x=\"216.12\" y=\"-133.58\" font-family=\"Times,serif\" font-size=\"8.00\">(MTD)</text>\n</g>\n<!-- 3&#45;&#45;1 -->\n<g id=\"edge3\" class=\"edge\">\n<title>3--1</title>\n<path fill=\"none\" stroke=\"black\" d=\"M192.99,-123.29C183.57,-116.49 173.07,-108.91 165.2,-103.23\"/>\n<text text-anchor=\"middle\" x=\"177.09\" y=\"-106.86\" font-family=\"Times,serif\" font-size=\"8.00\">1</text>\n</g>\n<!-- 4 -->\n<g id=\"node5\" class=\"node\">\n<title>4</title>\n<polygon fill=\"none\" stroke=\"black\" points=\"29,-169.82 0,-169.82 0,-133.82 29,-133.82 29,-169.82\"/>\n<text text-anchor=\"middle\" x=\"14.5\" y=\"-149\" font-family=\"Times,serif\" font-size=\"10.40\">■■</text>\n</g>\n<!-- 4&#45;&#45;0 -->\n<g id=\"edge4\" class=\"edge\">\n<title>4--0</title>\n<path fill=\"none\" stroke=\"black\" d=\"M29.32,-145.14C35.16,-142.51 42.11,-139.38 49,-136.28\"/>\n<text text-anchor=\"middle\" x=\"37.16\" y=\"-143.31\" font-family=\"Times,serif\" font-size=\"8.00\">1</text>\n</g>\n</g>\n</svg>"
          },
          "metadata": {}
        }
      ]
    },
    {
      "cell_type": "markdown",
      "source": [
        "# 4 | Alignment efficiency"
      ],
      "metadata": {
        "id": "ktIEj5sMt0uy"
      }
    },
    {
      "cell_type": "code",
      "source": [
        "os.chdir('/content/misalignVis')\n",
        "print(os.getcwd())"
      ],
      "metadata": {
        "colab": {
          "base_uri": "https://localhost:8080/"
        },
        "id": "hmh4_Bn4uEj2",
        "outputId": "b27c9ac3-9d0a-438d-dcd9-63f7110bff2d"
      },
      "execution_count": 6,
      "outputs": [
        {
          "output_type": "stream",
          "name": "stdout",
          "text": [
            "/content/misalignVis\n"
          ]
        }
      ]
    },
    {
      "cell_type": "code",
      "source": [
        "!make accuracy"
      ],
      "metadata": {
        "id": "M1BuHUJK_UQG",
        "colab": {
          "base_uri": "https://localhost:8080/"
        },
        "outputId": "7868d03c-35a0-4d85-cfd7-db4cdcb2ddd7"
      },
      "execution_count": 7,
      "outputs": [
        {
          "output_type": "stream",
          "name": "stdout",
          "text": [
            "cd src; python accuracy.py; column -s, -t ../artifacts/accuracy.csv\n",
            "2023-05-28 16:48:17,305 [INFO] Loading...\n",
            "2023-05-28 16:48:24,407 [Info] Calculating precision, recall and AER...\n",
            "2023-05-28 16:48:24,408 [Info] Done.\n",
            "model      source → target  target → source  bidirection\n",
            "precision  54.87            37.18            69.77\n",
            "recall     61.24            71.49            55.86\n",
            "AER        42.47            53.85            37.40\n"
          ]
        }
      ]
    },
    {
      "cell_type": "code",
      "source": [],
      "metadata": {
        "id": "-bryY_ASuAI3"
      },
      "execution_count": null,
      "outputs": []
    }
  ]
}