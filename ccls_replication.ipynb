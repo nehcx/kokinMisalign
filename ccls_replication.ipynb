{
  "nbformat": 4,
  "nbformat_minor": 0,
  "metadata": {
    "colab": {
      "provenance": [],
      "toc_visible": true,
      "authorship_tag": "ABX9TyMrTG+FgCW4tDL94byMZyt3",
      "include_colab_link": true
    },
    "kernelspec": {
      "name": "python3",
      "display_name": "Python 3"
    },
    "language_info": {
      "name": "python"
    }
  },
  "cells": [
    {
      "cell_type": "markdown",
      "metadata": {
        "id": "view-in-github",
        "colab_type": "text"
      },
      "source": [
        "<a href=\"https://colab.research.google.com/github/nehcx/misalignVis/blob/master/ccls_replication.ipynb\" target=\"_parent\"><img src=\"https://colab.research.google.com/assets/colab-badge.svg\" alt=\"Open In Colab\"/></a>"
      ]
    },
    {
      "cell_type": "markdown",
      "source": [
        "# 1 | Requirements"
      ],
      "metadata": {
        "id": "qolxmfu1OP2o"
      }
    },
    {
      "cell_type": "code",
      "execution_count": 1,
      "metadata": {
        "colab": {
          "base_uri": "https://localhost:8080/"
        },
        "id": "gjn5Yi2hR-zV",
        "outputId": "97a21df2-7349-4749-9b56-2bd605a940ba"
      },
      "outputs": [
        {
          "output_type": "stream",
          "name": "stdout",
          "text": [
            "Cloning into 'misalignVis'...\n",
            "remote: Enumerating objects: 58, done.\u001b[K\n",
            "remote: Counting objects: 100% (58/58), done.\u001b[K\n",
            "remote: Compressing objects: 100% (50/50), done.\u001b[K\n",
            "remote: Total 58 (delta 5), reused 38 (delta 2), pack-reused 0\u001b[K\n",
            "Unpacking objects: 100% (58/58), 29.50 MiB | 3.19 MiB/s, done.\n",
            "Submodule 'data/hachidaishu' (https://github.com/yamagen/hachidaishu) registered for path 'data/hachidaishu'\n",
            "Cloning into '/content/misalignVis/data/hachidaishu'...\n",
            "remote: Enumerating objects: 64, done.        \n",
            "remote: Counting objects: 100% (64/64), done.        \n",
            "remote: Compressing objects: 100% (53/53), done.        \n",
            "remote: Total 64 (delta 17), reused 52 (delta 10), pack-reused 0        \n",
            "Submodule path 'data/hachidaishu': checked out 'a0aaf7e0a42689db7ad2a78ab2eef9d5ac22341c'\n"
          ]
        }
      ],
      "source": [
        "!git clone -b master --depth=1 --recursive https://github.com/nehcx/misalignVis"
      ]
    },
    {
      "cell_type": "code",
      "source": [
        "import os\n",
        "os.chdir('/content/misalignVis')\n",
        "print(os.getcwd())"
      ],
      "metadata": {
        "colab": {
          "base_uri": "https://localhost:8080/"
        },
        "id": "To7HbyARVhiX",
        "outputId": "a00c986d-bd7a-41df-a412-3f7524b950e1"
      },
      "execution_count": 2,
      "outputs": [
        {
          "output_type": "stream",
          "name": "stdout",
          "text": [
            "/content/misalignVis\n"
          ]
        }
      ]
    },
    {
      "cell_type": "code",
      "source": [
        "# !apt-get install -y python-igraph \n",
        "!pip install -r requirements.txt"
      ],
      "metadata": {
        "id": "5dOLzuh7WbRN",
        "colab": {
          "base_uri": "https://localhost:8080/",
          "height": 1000
        },
        "outputId": "01ef6a21-5c7d-47be-f7d6-4d95836a8f74"
      },
      "execution_count": 3,
      "outputs": [
        {
          "output_type": "stream",
          "name": "stdout",
          "text": [
            "Looking in indexes: https://pypi.org/simple, https://us-python.pkg.dev/colab-wheels/public/simple/\n",
            "Collecting dill==0.3.5.1 (from -r requirements.txt (line 1))\n",
            "  Downloading dill-0.3.5.1-py2.py3-none-any.whl (95 kB)\n",
            "\u001b[2K     \u001b[90m━━━━━━━━━━━━━━━━━━━━━━━━━━━━━━━━━━━━━━━━\u001b[0m \u001b[32m95.8/95.8 kB\u001b[0m \u001b[31m6.9 MB/s\u001b[0m eta \u001b[36m0:00:00\u001b[0m\n",
            "\u001b[?25hCollecting pandas==1.4.3 (from -r requirements.txt (line 2))\n",
            "  Downloading pandas-1.4.3-cp310-cp310-manylinux_2_17_x86_64.manylinux2014_x86_64.whl (11.6 MB)\n",
            "\u001b[2K     \u001b[90m━━━━━━━━━━━━━━━━━━━━━━━━━━━━━━━━━━━━━━━━\u001b[0m \u001b[32m11.6/11.6 MB\u001b[0m \u001b[31m66.8 MB/s\u001b[0m eta \u001b[36m0:00:00\u001b[0m\n",
            "\u001b[?25hCollecting omegaconf==2.2.2 (from -r requirements.txt (line 3))\n",
            "  Downloading omegaconf-2.2.2-py3-none-any.whl (79 kB)\n",
            "\u001b[2K     \u001b[90m━━━━━━━━━━━━━━━━━━━━━━━━━━━━━━━━━━━━━━━━\u001b[0m \u001b[32m79.1/79.1 kB\u001b[0m \u001b[31m10.9 MB/s\u001b[0m eta \u001b[36m0:00:00\u001b[0m\n",
            "\u001b[?25hCollecting hydra-core==1.2.0 (from -r requirements.txt (line 4))\n",
            "  Downloading hydra_core-1.2.0-py3-none-any.whl (151 kB)\n",
            "\u001b[2K     \u001b[90m━━━━━━━━━━━━━━━━━━━━━━━━━━━━━━━━━━━━━━\u001b[0m \u001b[32m151.1/151.1 kB\u001b[0m \u001b[31m18.5 MB/s\u001b[0m eta \u001b[36m0:00:00\u001b[0m\n",
            "\u001b[?25hCollecting nltk==3.7.0 (from -r requirements.txt (line 5))\n",
            "  Downloading nltk-3.7-py3-none-any.whl (1.5 MB)\n",
            "\u001b[2K     \u001b[90m━━━━━━━━━━━━━━━━━━━━━━━━━━━━━━━━━━━━━━━━\u001b[0m \u001b[32m1.5/1.5 MB\u001b[0m \u001b[31m86.3 MB/s\u001b[0m eta \u001b[36m0:00:00\u001b[0m\n",
            "\u001b[?25hCollecting pytest==6.2.2 (from -r requirements.txt (line 6))\n",
            "  Downloading pytest-6.2.2-py3-none-any.whl (280 kB)\n",
            "\u001b[2K     \u001b[90m━━━━━━━━━━━━━━━━━━━━━━━━━━━━━━━━━━━━━━\u001b[0m \u001b[32m280.1/280.1 kB\u001b[0m \u001b[31m32.5 MB/s\u001b[0m eta \u001b[36m0:00:00\u001b[0m\n",
            "\u001b[?25hCollecting leidenalg==0.8.10 (from -r requirements.txt (line 7))\n",
            "  Downloading leidenalg-0.8.10-cp310-cp310-manylinux_2_17_x86_64.manylinux2014_x86_64.whl (1.3 MB)\n",
            "\u001b[2K     \u001b[90m━━━━━━━━━━━━━━━━━━━━━━━━━━━━━━━━━━━━━━━━\u001b[0m \u001b[32m1.3/1.3 MB\u001b[0m \u001b[31m77.1 MB/s\u001b[0m eta \u001b[36m0:00:00\u001b[0m\n",
            "\u001b[?25hCollecting cairocffi==1.3.0 (from -r requirements.txt (line 8))\n",
            "  Downloading cairocffi-1.3.0.tar.gz (88 kB)\n",
            "\u001b[2K     \u001b[90m━━━━━━━━━━━━━━━━━━━━━━━━━━━━━━━━━━━━━━━━\u001b[0m \u001b[32m88.8/88.8 kB\u001b[0m \u001b[31m11.2 MB/s\u001b[0m eta \u001b[36m0:00:00\u001b[0m\n",
            "\u001b[?25h  Preparing metadata (setup.py) ... \u001b[?25l\u001b[?25hdone\n",
            "Collecting chart-studio==1.1.0 (from -r requirements.txt (line 9))\n",
            "  Downloading chart_studio-1.1.0-py3-none-any.whl (64 kB)\n",
            "\u001b[2K     \u001b[90m━━━━━━━━━━━━━━━━━━━━━━━━━━━━━━━━━━━━━━━━\u001b[0m \u001b[32m64.4/64.4 kB\u001b[0m \u001b[31m8.3 MB/s\u001b[0m eta \u001b[36m0:00:00\u001b[0m\n",
            "\u001b[?25hCollecting dash==2.7.1 (from -r requirements.txt (line 10))\n",
            "  Downloading dash-2.7.1-py3-none-any.whl (9.9 MB)\n",
            "\u001b[2K     \u001b[90m━━━━━━━━━━━━━━━━━━━━━━━━━━━━━━━━━━━━━━━━\u001b[0m \u001b[32m9.9/9.9 MB\u001b[0m \u001b[31m89.2 MB/s\u001b[0m eta \u001b[36m0:00:00\u001b[0m\n",
            "\u001b[?25hCollecting dash-html-components==2.0.0 (from -r requirements.txt (line 11))\n",
            "  Downloading dash_html_components-2.0.0-py3-none-any.whl (4.1 kB)\n",
            "Collecting dash-core-components==2.0.0 (from -r requirements.txt (line 12))\n",
            "  Downloading dash_core_components-2.0.0-py3-none-any.whl (3.8 kB)\n",
            "Collecting dash-table==5.0.0 (from -r requirements.txt (line 13))\n",
            "  Downloading dash_table-5.0.0-py3-none-any.whl (3.9 kB)\n",
            "Requirement already satisfied: python-dateutil>=2.8.1 in /usr/local/lib/python3.10/dist-packages (from pandas==1.4.3->-r requirements.txt (line 2)) (2.8.2)\n",
            "Requirement already satisfied: pytz>=2020.1 in /usr/local/lib/python3.10/dist-packages (from pandas==1.4.3->-r requirements.txt (line 2)) (2022.7.1)\n",
            "Requirement already satisfied: numpy>=1.21.0 in /usr/local/lib/python3.10/dist-packages (from pandas==1.4.3->-r requirements.txt (line 2)) (1.22.4)\n",
            "Collecting antlr4-python3-runtime==4.9.* (from omegaconf==2.2.2->-r requirements.txt (line 3))\n",
            "  Downloading antlr4-python3-runtime-4.9.3.tar.gz (117 kB)\n",
            "\u001b[2K     \u001b[90m━━━━━━━━━━━━━━━━━━━━━━━━━━━━━━━━━━━━━━\u001b[0m \u001b[32m117.0/117.0 kB\u001b[0m \u001b[31m12.8 MB/s\u001b[0m eta \u001b[36m0:00:00\u001b[0m\n",
            "\u001b[?25h  Preparing metadata (setup.py) ... \u001b[?25l\u001b[?25hdone\n",
            "Requirement already satisfied: PyYAML>=5.1.0 in /usr/local/lib/python3.10/dist-packages (from omegaconf==2.2.2->-r requirements.txt (line 3)) (6.0)\n",
            "Requirement already satisfied: packaging in /usr/local/lib/python3.10/dist-packages (from hydra-core==1.2.0->-r requirements.txt (line 4)) (23.1)\n",
            "Requirement already satisfied: click in /usr/local/lib/python3.10/dist-packages (from nltk==3.7.0->-r requirements.txt (line 5)) (8.1.3)\n",
            "Requirement already satisfied: joblib in /usr/local/lib/python3.10/dist-packages (from nltk==3.7.0->-r requirements.txt (line 5)) (1.2.0)\n",
            "Requirement already satisfied: regex>=2021.8.3 in /usr/local/lib/python3.10/dist-packages (from nltk==3.7.0->-r requirements.txt (line 5)) (2022.10.31)\n",
            "Requirement already satisfied: tqdm in /usr/local/lib/python3.10/dist-packages (from nltk==3.7.0->-r requirements.txt (line 5)) (4.65.0)\n",
            "Requirement already satisfied: attrs>=19.2.0 in /usr/local/lib/python3.10/dist-packages (from pytest==6.2.2->-r requirements.txt (line 6)) (23.1.0)\n",
            "Requirement already satisfied: iniconfig in /usr/local/lib/python3.10/dist-packages (from pytest==6.2.2->-r requirements.txt (line 6)) (2.0.0)\n",
            "Collecting pluggy<1.0.0a1,>=0.12 (from pytest==6.2.2->-r requirements.txt (line 6))\n",
            "  Downloading pluggy-0.13.1-py2.py3-none-any.whl (18 kB)\n",
            "Collecting py>=1.8.2 (from pytest==6.2.2->-r requirements.txt (line 6))\n",
            "  Downloading py-1.11.0-py2.py3-none-any.whl (98 kB)\n",
            "\u001b[2K     \u001b[90m━━━━━━━━━━━━━━━━━━━━━━━━━━━━━━━━━━━━━━━━\u001b[0m \u001b[32m98.7/98.7 kB\u001b[0m \u001b[31m9.5 MB/s\u001b[0m eta \u001b[36m0:00:00\u001b[0m\n",
            "\u001b[?25hRequirement already satisfied: toml in /usr/local/lib/python3.10/dist-packages (from pytest==6.2.2->-r requirements.txt (line 6)) (0.10.2)\n",
            "Collecting igraph<0.10,>=0.9.0 (from leidenalg==0.8.10->-r requirements.txt (line 7))\n",
            "  Downloading igraph-0.9.11-cp310-cp310-manylinux_2_17_x86_64.manylinux2014_x86_64.whl (3.2 MB)\n",
            "\u001b[2K     \u001b[90m━━━━━━━━━━━━━━━━━━━━━━━━━━━━━━━━━━━━━━━━\u001b[0m \u001b[32m3.2/3.2 MB\u001b[0m \u001b[31m104.7 MB/s\u001b[0m eta \u001b[36m0:00:00\u001b[0m\n",
            "\u001b[?25hRequirement already satisfied: cffi>=1.1.0 in /usr/local/lib/python3.10/dist-packages (from cairocffi==1.3.0->-r requirements.txt (line 8)) (1.15.1)\n",
            "Requirement already satisfied: plotly in /usr/local/lib/python3.10/dist-packages (from chart-studio==1.1.0->-r requirements.txt (line 9)) (5.13.1)\n",
            "Requirement already satisfied: requests in /usr/local/lib/python3.10/dist-packages (from chart-studio==1.1.0->-r requirements.txt (line 9)) (2.27.1)\n",
            "Collecting retrying>=1.3.3 (from chart-studio==1.1.0->-r requirements.txt (line 9))\n",
            "  Downloading retrying-1.3.4-py3-none-any.whl (11 kB)\n",
            "Requirement already satisfied: six in /usr/local/lib/python3.10/dist-packages (from chart-studio==1.1.0->-r requirements.txt (line 9)) (1.16.0)\n",
            "Requirement already satisfied: Flask>=1.0.4 in /usr/local/lib/python3.10/dist-packages (from dash==2.7.1->-r requirements.txt (line 10)) (2.2.4)\n",
            "Requirement already satisfied: pycparser in /usr/local/lib/python3.10/dist-packages (from cffi>=1.1.0->cairocffi==1.3.0->-r requirements.txt (line 8)) (2.21)\n",
            "Requirement already satisfied: Werkzeug>=2.2.2 in /usr/local/lib/python3.10/dist-packages (from Flask>=1.0.4->dash==2.7.1->-r requirements.txt (line 10)) (2.3.0)\n",
            "Requirement already satisfied: Jinja2>=3.0 in /usr/local/lib/python3.10/dist-packages (from Flask>=1.0.4->dash==2.7.1->-r requirements.txt (line 10)) (3.1.2)\n",
            "Requirement already satisfied: itsdangerous>=2.0 in /usr/local/lib/python3.10/dist-packages (from Flask>=1.0.4->dash==2.7.1->-r requirements.txt (line 10)) (2.1.2)\n",
            "Collecting texttable>=1.6.2 (from igraph<0.10,>=0.9.0->leidenalg==0.8.10->-r requirements.txt (line 7))\n",
            "  Downloading texttable-1.6.7-py2.py3-none-any.whl (10 kB)\n",
            "Requirement already satisfied: tenacity>=6.2.0 in /usr/local/lib/python3.10/dist-packages (from plotly->chart-studio==1.1.0->-r requirements.txt (line 9)) (8.2.2)\n",
            "Requirement already satisfied: urllib3<1.27,>=1.21.1 in /usr/local/lib/python3.10/dist-packages (from requests->chart-studio==1.1.0->-r requirements.txt (line 9)) (1.26.15)\n",
            "Requirement already satisfied: certifi>=2017.4.17 in /usr/local/lib/python3.10/dist-packages (from requests->chart-studio==1.1.0->-r requirements.txt (line 9)) (2022.12.7)\n",
            "Requirement already satisfied: charset-normalizer~=2.0.0 in /usr/local/lib/python3.10/dist-packages (from requests->chart-studio==1.1.0->-r requirements.txt (line 9)) (2.0.12)\n",
            "Requirement already satisfied: idna<4,>=2.5 in /usr/local/lib/python3.10/dist-packages (from requests->chart-studio==1.1.0->-r requirements.txt (line 9)) (3.4)\n",
            "Requirement already satisfied: MarkupSafe>=2.0 in /usr/local/lib/python3.10/dist-packages (from Jinja2>=3.0->Flask>=1.0.4->dash==2.7.1->-r requirements.txt (line 10)) (2.1.2)\n",
            "Building wheels for collected packages: cairocffi, antlr4-python3-runtime\n",
            "  Building wheel for cairocffi (setup.py) ... \u001b[?25l\u001b[?25hdone\n",
            "  Created wheel for cairocffi: filename=cairocffi-1.3.0-py3-none-any.whl size=89665 sha256=55a72321f23b16a7d723de839a5679bfde5181f9e7c2a5782c9eaa9e16cb0599\n",
            "  Stored in directory: /root/.cache/pip/wheels/c3/77/5d/2392b6f4bc3fa25bdcc58f3b63e23ab0f571a6e807836b22ab\n",
            "  Building wheel for antlr4-python3-runtime (setup.py) ... \u001b[?25l\u001b[?25hdone\n",
            "  Created wheel for antlr4-python3-runtime: filename=antlr4_python3_runtime-4.9.3-py3-none-any.whl size=144554 sha256=9a2b51332be981e0f8b1ac1c9ca005c6c4ba18d4077bbc772af8759c8edf4bfb\n",
            "  Stored in directory: /root/.cache/pip/wheels/12/93/dd/1f6a127edc45659556564c5730f6d4e300888f4bca2d4c5a88\n",
            "Successfully built cairocffi antlr4-python3-runtime\n",
            "Installing collected packages: texttable, dash-table, dash-html-components, dash-core-components, antlr4-python3-runtime, retrying, py, pluggy, omegaconf, nltk, igraph, dill, pytest, pandas, leidenalg, hydra-core, chart-studio, cairocffi, dash\n",
            "  Attempting uninstall: pluggy\n",
            "    Found existing installation: pluggy 1.0.0\n",
            "    Uninstalling pluggy-1.0.0:\n",
            "      Successfully uninstalled pluggy-1.0.0\n",
            "  Attempting uninstall: nltk\n",
            "    Found existing installation: nltk 3.8.1\n",
            "    Uninstalling nltk-3.8.1:\n",
            "      Successfully uninstalled nltk-3.8.1\n",
            "  Attempting uninstall: pytest\n",
            "    Found existing installation: pytest 7.2.2\n",
            "    Uninstalling pytest-7.2.2:\n",
            "      Successfully uninstalled pytest-7.2.2\n",
            "  Attempting uninstall: pandas\n",
            "    Found existing installation: pandas 1.5.3\n",
            "    Uninstalling pandas-1.5.3:\n",
            "      Successfully uninstalled pandas-1.5.3\n",
            "\u001b[31mERROR: pip's dependency resolver does not currently take into account all the packages that are installed. This behaviour is the source of the following dependency conflicts.\n",
            "google-colab 1.0.0 requires pandas==1.5.3, but you have pandas 1.4.3 which is incompatible.\u001b[0m\u001b[31m\n",
            "\u001b[0mSuccessfully installed antlr4-python3-runtime-4.9.3 cairocffi-1.3.0 chart-studio-1.1.0 dash-2.7.1 dash-core-components-2.0.0 dash-html-components-2.0.0 dash-table-5.0.0 dill-0.3.5.1 hydra-core-1.2.0 igraph-0.9.11 leidenalg-0.8.10 nltk-3.7 omegaconf-2.2.2 pandas-1.4.3 pluggy-0.13.1 py-1.11.0 pytest-6.2.2 retrying-1.3.4 texttable-1.6.7\n"
          ]
        },
        {
          "output_type": "display_data",
          "data": {
            "application/vnd.colab-display-data+json": {
              "pip_warning": {
                "packages": [
                  "pydevd_plugins"
                ]
              }
            }
          },
          "metadata": {}
        }
      ]
    },
    {
      "cell_type": "code",
      "source": [
        "!apt-get install graphviz libgraphviz-dev\n",
        "!pip install pygraphviz\n",
        "!pip install dash jupyter-dash"
      ],
      "metadata": {
        "id": "AKwgFnwoe1VQ",
        "colab": {
          "base_uri": "https://localhost:8080/"
        },
        "outputId": "1f868958-4cfb-44b3-e760-0919029b6b62"
      },
      "execution_count": 4,
      "outputs": [
        {
          "output_type": "stream",
          "name": "stdout",
          "text": [
            "Reading package lists... Done\n",
            "Building dependency tree       \n",
            "Reading state information... Done\n",
            "graphviz is already the newest version (2.42.2-3build2).\n",
            "The following additional packages will be installed:\n",
            "  libgail-common libgail18 libgtk2.0-0 libgtk2.0-bin libgtk2.0-common\n",
            "  libgvc6-plugins-gtk libxdot4\n",
            "Suggested packages:\n",
            "  gvfs\n",
            "The following NEW packages will be installed:\n",
            "  libgail-common libgail18 libgraphviz-dev libgtk2.0-0 libgtk2.0-bin\n",
            "  libgtk2.0-common libgvc6-plugins-gtk libxdot4\n",
            "0 upgraded, 8 newly installed, 0 to remove and 34 not upgraded.\n",
            "Need to get 2,148 kB of archives.\n",
            "After this operation, 7,427 kB of additional disk space will be used.\n",
            "Get:1 http://archive.ubuntu.com/ubuntu focal/main amd64 libgtk2.0-common all 2.24.32-4ubuntu4 [126 kB]\n",
            "Get:2 http://archive.ubuntu.com/ubuntu focal/main amd64 libgtk2.0-0 amd64 2.24.32-4ubuntu4 [1,791 kB]\n",
            "Get:3 http://archive.ubuntu.com/ubuntu focal/main amd64 libgail18 amd64 2.24.32-4ubuntu4 [14.7 kB]\n",
            "Get:4 http://archive.ubuntu.com/ubuntu focal/main amd64 libgail-common amd64 2.24.32-4ubuntu4 [116 kB]\n",
            "Get:5 http://archive.ubuntu.com/ubuntu focal/universe amd64 libxdot4 amd64 2.42.2-3build2 [15.4 kB]\n",
            "Get:6 http://archive.ubuntu.com/ubuntu focal/universe amd64 libgvc6-plugins-gtk amd64 2.42.2-3build2 [20.6 kB]\n",
            "Get:7 http://archive.ubuntu.com/ubuntu focal/universe amd64 libgraphviz-dev amd64 2.42.2-3build2 [57.2 kB]\n",
            "Get:8 http://archive.ubuntu.com/ubuntu focal/main amd64 libgtk2.0-bin amd64 2.24.32-4ubuntu4 [7,728 B]\n",
            "Fetched 2,148 kB in 0s (16.0 MB/s)\n",
            "Selecting previously unselected package libgtk2.0-common.\n",
            "(Reading database ... 122545 files and directories currently installed.)\n",
            "Preparing to unpack .../0-libgtk2.0-common_2.24.32-4ubuntu4_all.deb ...\n",
            "Unpacking libgtk2.0-common (2.24.32-4ubuntu4) ...\n",
            "Selecting previously unselected package libgtk2.0-0:amd64.\n",
            "Preparing to unpack .../1-libgtk2.0-0_2.24.32-4ubuntu4_amd64.deb ...\n",
            "Unpacking libgtk2.0-0:amd64 (2.24.32-4ubuntu4) ...\n",
            "Selecting previously unselected package libgail18:amd64.\n",
            "Preparing to unpack .../2-libgail18_2.24.32-4ubuntu4_amd64.deb ...\n",
            "Unpacking libgail18:amd64 (2.24.32-4ubuntu4) ...\n",
            "Selecting previously unselected package libgail-common:amd64.\n",
            "Preparing to unpack .../3-libgail-common_2.24.32-4ubuntu4_amd64.deb ...\n",
            "Unpacking libgail-common:amd64 (2.24.32-4ubuntu4) ...\n",
            "Selecting previously unselected package libxdot4:amd64.\n",
            "Preparing to unpack .../4-libxdot4_2.42.2-3build2_amd64.deb ...\n",
            "Unpacking libxdot4:amd64 (2.42.2-3build2) ...\n",
            "Selecting previously unselected package libgvc6-plugins-gtk.\n",
            "Preparing to unpack .../5-libgvc6-plugins-gtk_2.42.2-3build2_amd64.deb ...\n",
            "Unpacking libgvc6-plugins-gtk (2.42.2-3build2) ...\n",
            "Selecting previously unselected package libgraphviz-dev:amd64.\n",
            "Preparing to unpack .../6-libgraphviz-dev_2.42.2-3build2_amd64.deb ...\n",
            "Unpacking libgraphviz-dev:amd64 (2.42.2-3build2) ...\n",
            "Selecting previously unselected package libgtk2.0-bin.\n",
            "Preparing to unpack .../7-libgtk2.0-bin_2.24.32-4ubuntu4_amd64.deb ...\n",
            "Unpacking libgtk2.0-bin (2.24.32-4ubuntu4) ...\n",
            "Setting up libxdot4:amd64 (2.42.2-3build2) ...\n",
            "Setting up libgtk2.0-common (2.24.32-4ubuntu4) ...\n",
            "Setting up libgtk2.0-0:amd64 (2.24.32-4ubuntu4) ...\n",
            "Setting up libgvc6-plugins-gtk (2.42.2-3build2) ...\n",
            "Setting up libgail18:amd64 (2.24.32-4ubuntu4) ...\n",
            "Setting up libgtk2.0-bin (2.24.32-4ubuntu4) ...\n",
            "Setting up libgail-common:amd64 (2.24.32-4ubuntu4) ...\n",
            "Setting up libgraphviz-dev:amd64 (2.42.2-3build2) ...\n",
            "Processing triggers for man-db (2.9.1-1) ...\n",
            "Processing triggers for libc-bin (2.31-0ubuntu9.9) ...\n",
            "Looking in indexes: https://pypi.org/simple, https://us-python.pkg.dev/colab-wheels/public/simple/\n",
            "Collecting pygraphviz\n",
            "  Downloading pygraphviz-1.10.zip (120 kB)\n",
            "\u001b[2K     \u001b[90m━━━━━━━━━━━━━━━━━━━━━━━━━━━━━━━━━━━━━━━\u001b[0m \u001b[32m120.6/120.6 kB\u001b[0m \u001b[31m9.1 MB/s\u001b[0m eta \u001b[36m0:00:00\u001b[0m\n",
            "\u001b[?25h  Preparing metadata (setup.py) ... \u001b[?25l\u001b[?25hdone\n",
            "Building wheels for collected packages: pygraphviz\n",
            "  Building wheel for pygraphviz (setup.py) ... \u001b[?25l\u001b[?25hdone\n",
            "  Created wheel for pygraphviz: filename=pygraphviz-1.10-cp310-cp310-linux_x86_64.whl size=184039 sha256=a838d602f8f5cbb071ec30c0c3497453c296c1c010a15bbc7b65be2b4df88ae3\n",
            "  Stored in directory: /root/.cache/pip/wheels/e9/50/02/d9d68f6c947a928e517d5cd9af0ab007c1274fdba95fa9cbe3\n",
            "Successfully built pygraphviz\n",
            "Installing collected packages: pygraphviz\n",
            "Successfully installed pygraphviz-1.10\n",
            "Looking in indexes: https://pypi.org/simple, https://us-python.pkg.dev/colab-wheels/public/simple/\n",
            "Requirement already satisfied: dash in /usr/local/lib/python3.10/dist-packages (2.7.1)\n",
            "Collecting jupyter-dash\n",
            "  Downloading jupyter_dash-0.4.2-py3-none-any.whl (23 kB)\n",
            "Requirement already satisfied: Flask>=1.0.4 in /usr/local/lib/python3.10/dist-packages (from dash) (2.2.4)\n",
            "Requirement already satisfied: plotly>=5.0.0 in /usr/local/lib/python3.10/dist-packages (from dash) (5.13.1)\n",
            "Requirement already satisfied: dash-html-components==2.0.0 in /usr/local/lib/python3.10/dist-packages (from dash) (2.0.0)\n",
            "Requirement already satisfied: dash-core-components==2.0.0 in /usr/local/lib/python3.10/dist-packages (from dash) (2.0.0)\n",
            "Requirement already satisfied: dash-table==5.0.0 in /usr/local/lib/python3.10/dist-packages (from dash) (5.0.0)\n",
            "Requirement already satisfied: requests in /usr/local/lib/python3.10/dist-packages (from jupyter-dash) (2.27.1)\n",
            "Requirement already satisfied: retrying in /usr/local/lib/python3.10/dist-packages (from jupyter-dash) (1.3.4)\n",
            "Requirement already satisfied: ipython in /usr/local/lib/python3.10/dist-packages (from jupyter-dash) (7.34.0)\n",
            "Requirement already satisfied: ipykernel in /usr/local/lib/python3.10/dist-packages (from jupyter-dash) (5.5.6)\n",
            "Collecting ansi2html (from jupyter-dash)\n",
            "  Downloading ansi2html-1.8.0-py3-none-any.whl (16 kB)\n",
            "Requirement already satisfied: nest-asyncio in /usr/local/lib/python3.10/dist-packages (from jupyter-dash) (1.5.6)\n",
            "Requirement already satisfied: Werkzeug>=2.2.2 in /usr/local/lib/python3.10/dist-packages (from Flask>=1.0.4->dash) (2.3.0)\n",
            "Requirement already satisfied: Jinja2>=3.0 in /usr/local/lib/python3.10/dist-packages (from Flask>=1.0.4->dash) (3.1.2)\n",
            "Requirement already satisfied: itsdangerous>=2.0 in /usr/local/lib/python3.10/dist-packages (from Flask>=1.0.4->dash) (2.1.2)\n",
            "Requirement already satisfied: click>=8.0 in /usr/local/lib/python3.10/dist-packages (from Flask>=1.0.4->dash) (8.1.3)\n",
            "Requirement already satisfied: tenacity>=6.2.0 in /usr/local/lib/python3.10/dist-packages (from plotly>=5.0.0->dash) (8.2.2)\n",
            "Requirement already satisfied: ipython-genutils in /usr/local/lib/python3.10/dist-packages (from ipykernel->jupyter-dash) (0.2.0)\n",
            "Requirement already satisfied: traitlets>=4.1.0 in /usr/local/lib/python3.10/dist-packages (from ipykernel->jupyter-dash) (5.7.1)\n",
            "Requirement already satisfied: jupyter-client in /usr/local/lib/python3.10/dist-packages (from ipykernel->jupyter-dash) (6.1.12)\n",
            "Requirement already satisfied: tornado>=4.2 in /usr/local/lib/python3.10/dist-packages (from ipykernel->jupyter-dash) (6.3.1)\n",
            "Requirement already satisfied: setuptools>=18.5 in /usr/local/lib/python3.10/dist-packages (from ipython->jupyter-dash) (67.7.2)\n",
            "Collecting jedi>=0.16 (from ipython->jupyter-dash)\n",
            "  Downloading jedi-0.18.2-py2.py3-none-any.whl (1.6 MB)\n",
            "\u001b[2K     \u001b[90m━━━━━━━━━━━━━━━━━━━━━━━━━━━━━━━━━━━━━━━━\u001b[0m \u001b[32m1.6/1.6 MB\u001b[0m \u001b[31m55.6 MB/s\u001b[0m eta \u001b[36m0:00:00\u001b[0m\n",
            "\u001b[?25hRequirement already satisfied: decorator in /usr/local/lib/python3.10/dist-packages (from ipython->jupyter-dash) (4.4.2)\n",
            "Requirement already satisfied: pickleshare in /usr/local/lib/python3.10/dist-packages (from ipython->jupyter-dash) (0.7.5)\n",
            "Requirement already satisfied: prompt-toolkit!=3.0.0,!=3.0.1,<3.1.0,>=2.0.0 in /usr/local/lib/python3.10/dist-packages (from ipython->jupyter-dash) (3.0.38)\n",
            "Requirement already satisfied: pygments in /usr/local/lib/python3.10/dist-packages (from ipython->jupyter-dash) (2.14.0)\n",
            "Requirement already satisfied: backcall in /usr/local/lib/python3.10/dist-packages (from ipython->jupyter-dash) (0.2.0)\n",
            "Requirement already satisfied: matplotlib-inline in /usr/local/lib/python3.10/dist-packages (from ipython->jupyter-dash) (0.1.6)\n",
            "Requirement already satisfied: pexpect>4.3 in /usr/local/lib/python3.10/dist-packages (from ipython->jupyter-dash) (4.8.0)\n",
            "Requirement already satisfied: urllib3<1.27,>=1.21.1 in /usr/local/lib/python3.10/dist-packages (from requests->jupyter-dash) (1.26.15)\n",
            "Requirement already satisfied: certifi>=2017.4.17 in /usr/local/lib/python3.10/dist-packages (from requests->jupyter-dash) (2022.12.7)\n",
            "Requirement already satisfied: charset-normalizer~=2.0.0 in /usr/local/lib/python3.10/dist-packages (from requests->jupyter-dash) (2.0.12)\n",
            "Requirement already satisfied: idna<4,>=2.5 in /usr/local/lib/python3.10/dist-packages (from requests->jupyter-dash) (3.4)\n",
            "Requirement already satisfied: six>=1.7.0 in /usr/local/lib/python3.10/dist-packages (from retrying->jupyter-dash) (1.16.0)\n",
            "Requirement already satisfied: parso<0.9.0,>=0.8.0 in /usr/local/lib/python3.10/dist-packages (from jedi>=0.16->ipython->jupyter-dash) (0.8.3)\n",
            "Requirement already satisfied: MarkupSafe>=2.0 in /usr/local/lib/python3.10/dist-packages (from Jinja2>=3.0->Flask>=1.0.4->dash) (2.1.2)\n",
            "Requirement already satisfied: ptyprocess>=0.5 in /usr/local/lib/python3.10/dist-packages (from pexpect>4.3->ipython->jupyter-dash) (0.7.0)\n",
            "Requirement already satisfied: wcwidth in /usr/local/lib/python3.10/dist-packages (from prompt-toolkit!=3.0.0,!=3.0.1,<3.1.0,>=2.0.0->ipython->jupyter-dash) (0.2.6)\n",
            "Requirement already satisfied: jupyter-core>=4.6.0 in /usr/local/lib/python3.10/dist-packages (from jupyter-client->ipykernel->jupyter-dash) (5.3.0)\n",
            "Requirement already satisfied: pyzmq>=13 in /usr/local/lib/python3.10/dist-packages (from jupyter-client->ipykernel->jupyter-dash) (23.2.1)\n",
            "Requirement already satisfied: python-dateutil>=2.1 in /usr/local/lib/python3.10/dist-packages (from jupyter-client->ipykernel->jupyter-dash) (2.8.2)\n",
            "Requirement already satisfied: platformdirs>=2.5 in /usr/local/lib/python3.10/dist-packages (from jupyter-core>=4.6.0->jupyter-client->ipykernel->jupyter-dash) (3.3.0)\n",
            "Installing collected packages: jedi, ansi2html, jupyter-dash\n",
            "Successfully installed ansi2html-1.8.0 jedi-0.18.2 jupyter-dash-0.4.2\n"
          ]
        }
      ]
    },
    {
      "cell_type": "code",
      "source": [
        "!make build_bitext  # make bitexts.csv\n",
        "# !make build_metacode2lemma_dict  # make metacode2lemma dictionary\n",
        "# !make train_save_ibm2  # train and save ibm model 2\n",
        "!make save_db "
      ],
      "metadata": {
        "colab": {
          "base_uri": "https://localhost:8080/"
        },
        "id": "tkZZyhCc3g4z",
        "outputId": "0a9d077d-b501-47ed-dd85-51b82e84b304"
      },
      "execution_count": 5,
      "outputs": [
        {
          "output_type": "stream",
          "name": "stdout",
          "text": [
            "cd src;\tpython make_bitext.py -s ../data/hachidaishu/hachidai.db -t ../data/translations/all_translations.txt -o ../cache/bitexts.csv\n",
            "2023-05-29 04:45:54,121 [INFO] args: Namespace(src_path='../data/hachidaishu/hachidai.db', tar_path='../data/translations/all_translations.txt', out_path='../cache/bitexts.csv')\n",
            "2023-05-29 04:45:54,121 [INFO] Loading ../data/hachidaishu/hachidai.db for Kokinwakashu texts...\n",
            "2023-05-29 04:46:06,639 [INFO] Loading ../data/translations/all_translations.txt for kaneko's traslation...\n",
            "2023-05-29 04:46:28,529 [INFO] Loading ../data/translations/all_translations.txt for katagiri's traslation...\n",
            "2023-05-29 04:46:49,207 [INFO] Loading ../data/translations/all_translations.txt for kojimaarai's traslation...\n",
            "2023-05-29 04:47:06,540 [INFO] Loading ../data/translations/all_translations.txt for komachiya's traslation...\n",
            "2023-05-29 04:47:22,897 [INFO] Loading ../data/translations/all_translations.txt for kubota's traslation...\n",
            "2023-05-29 04:47:41,173 [INFO] Loading ../data/translations/all_translations.txt for kyusojin's traslation...\n",
            "2023-05-29 04:47:58,694 [INFO] Loading ../data/translations/all_translations.txt for matsuda's traslation...\n",
            "2023-05-29 04:48:15,620 [INFO] Loading ../data/translations/all_translations.txt for okumura's traslation...\n",
            "2023-05-29 04:48:32,552 [INFO] Loading ../data/translations/all_translations.txt for ozawa's traslation...\n",
            "2023-05-29 04:48:52,226 [INFO] Loading ../data/translations/all_translations.txt for takeoka's traslation...\n",
            "2023-05-29 04:49:08,230 [INFO] Concating bitexts...\n",
            "2023-05-29 04:49:08,522 [INFO] Made bitexts.\n",
            "cd src; python bitexts.py -o ../cache/bitexts.db -m ibm2 -t kaneko katagiri kojimaarai komachiya kubota kyusojin matsuda okumura ozawa takeoka\n",
            "2023-05-29 04:49:10,537 [INFO] args: Namespace(translators=['kaneko', 'katagiri', 'kojimaarai', 'komachiya', 'kubota', 'kyusojin', 'matsuda', 'okumura', 'ozawa', 'takeoka'], method='ibm2', output_path='../cache/bitexts.db')\n",
            "2023-05-29 04:49:10,537 [INFO] Loading DB...\n",
            "2023-05-29 04:49:26,348 [INFO] Saving DB...\n",
            "2023-05-29 04:49:54,100 [INFO] Done.\n"
          ]
        }
      ]
    },
    {
      "cell_type": "code",
      "source": [
        "!cp data/metacode2en.pkl cache/metacode2lemma_tar.pkl"
      ],
      "metadata": {
        "id": "0zYtg2OMueKS"
      },
      "execution_count": 6,
      "outputs": []
    },
    {
      "cell_type": "markdown",
      "source": [
        "# 2 | Dashboard"
      ],
      "metadata": {
        "id": "lzFSwoaT5YTq"
      }
    },
    {
      "cell_type": "code",
      "source": [
        "import subprocess\n",
        "os.chdir('/content/misalignVis/src')\n",
        "print(os.getcwd())"
      ],
      "metadata": {
        "colab": {
          "base_uri": "https://localhost:8080/"
        },
        "id": "hFpJOXnTwK5L",
        "outputId": "5d7c1f8a-daa1-4edc-ae78-d0068157edeb"
      },
      "execution_count": 7,
      "outputs": [
        {
          "output_type": "stream",
          "name": "stdout",
          "text": [
            "/content/misalignVis/src\n"
          ]
        }
      ]
    },
    {
      "cell_type": "code",
      "source": [
        "\"\"\"Dash board.\"\"\"\n",
        "import pandas as pd\n",
        "from plotly.graph_objs import Scatter, Layout, Figure\n",
        "from plotly.graph_objs.layout import XAxis, YAxis, Margin\n",
        "from jupyter_dash import JupyterDash\n",
        "from dash import dcc, html, dash_table\n",
        "from dash.dependencies import Input, Output, State\n",
        "from bitexts import AlignmentInfo\n",
        "from utils import load_pickle, lemma2metacode\n",
        "from visualize_indivisual import draw_plotly_by_translator_by_poem\n",
        "from visualize_aggregate_translator import draw_plotly_by_translator\n",
        "from visualize_alignment import query, alignment_table, visualize_heatmap \n",
        "\n",
        "fullname2id_map = {\n",
        "    \"[KNK/金子] Kaneko, Motoomi (1933)\": \"kaneko\",\n",
        "    \"[KBT/窪田] Kubota, Utsubo (1960)\": \"kubota\",\n",
        "    \"[MTD/松田] Matsuda, Takeo (1968)\": \"matsuda\",\n",
        "    \"[OZW/小沢] Ozawa, Masao (1971)\": \"ozawa\",\n",
        "    \"[TKOK/竹岡] Takeoka, Masao (1976)\": \"takeoka\",  \n",
        "    \"[OKMR/奥村] Okumura, Tsuneya (1978)\": \"okumura\",\n",
        "    \"[KSJ/久曽神] Kyusojin, Hitachi (1979)\": \"kyusojin\",\n",
        "    \"[KMCY/小町谷] Komachiya, Teruhiko (1982)\": \"komachiya\",\n",
        "    \"[K&A/小島・新井] Kojima, Noriyuki and Arai, Eizo (1989)\": \"kojimaarai\",\n",
        "    \"[KTGR/片桐] Katagiri, Yoichi (1998)\": \"katagiri\",\n",
        "}\n",
        "translator_lst = fullname2id_map.keys()\n",
        "metacode2lemma_map_src = load_pickle(\"../cache/metacode2lemma_src.pkl\")\n",
        "word_lst = [k + \":\" + v  for k, v in metacode2lemma_map_src.items() if\n",
        "            v in [\"梅\", \"女郎花\", \"菊\", \"桜\", \"松\", \"山吹\"]]\n",
        "word_lst.sort()\n",
        "with open(\"../README-app.md\", 'r') as f: \n",
        "    readme = f.read()\n",
        "\n",
        "def _blank(width, height, text, font_size): \n",
        "    Xn = [0]\n",
        "    Yn = [0]\n",
        "    trace = Scatter(\n",
        "        x=Xn,\n",
        "        y=Yn,\n",
        "        mode=\"text\",\n",
        "    )\n",
        "    annotation = text\n",
        "    data = [trace]\n",
        "    axis = dict(\n",
        "        showline=False, \n",
        "        zeroline=False,\n",
        "        showgrid=False,\n",
        "        showticklabels=False,\n",
        "        title=\"\",\n",
        "    )\n",
        "    layout = Layout(\n",
        "        # title=title,\n",
        "        paper_bgcolor=\"rgba(0,0,0,0)\",\n",
        "        plot_bgcolor=\"rgba(0,0,0,0)\",\n",
        "        font=dict(size=16),\n",
        "        showlegend=False,\n",
        "        autosize=True,\n",
        "        width=width,\n",
        "        height=height,\n",
        "        xaxis=XAxis(axis),\n",
        "        yaxis=YAxis(axis),\n",
        "        margin=Margin(\n",
        "            l=0,\n",
        "            r=0,\n",
        "            b=85,\n",
        "            t=40,\n",
        "        ),\n",
        "        hovermode=\"closest\",\n",
        "        annotations=\n",
        "[\n",
        "            dict(\n",
        "                showarrow=False,\n",
        "                text=annotation,\n",
        "                xref=\"paper\",\n",
        "                yref=\"paper\",\n",
        "                x=0,\n",
        "                y=0,\n",
        "                xanchor=\"left\",\n",
        "                yanchor=\"bottom\",\n",
        "                font=dict(size=font_size),\n",
        "            )\n",
        "        ],\n",
        "    )\n",
        "\n",
        "    fig = Figure(data=data, layout=layout)\n",
        "    return fig\n",
        "\n",
        "app = JupyterDash(\n",
        "    __name__,\n",
        "    meta_tags=[\n",
        "        {\n",
        "            \"name\": \"viewport\", \n",
        "            \"content\": \"width=device-width, initial-scale=1\"\n",
        "        }\n",
        "    ],\n",
        ")\n",
        "\n",
        "app.layout = html.Div(\n",
        "    children=[\n",
        "        # title\n",
        "        html.H1(\n",
        "            children=\"\"\"\n",
        "            Dashboard for visualizing word alignment and misalignment between \n",
        "            classical poetic Japanese and its contemporary translations\n",
        "            \"\"\",\n",
        "        ),\n",
        "        # query and intro\n",
        "        dcc.Tabs(\n",
        "            id=\"intro-and-query-tabs\",\n",
        "            value=\"what-is\",\n",
        "            parent_className=\"custom-tabs\",\n",
        "            className=\"custom-tabs-container\",\n",
        "            children=[\n",
        "                dcc.Tab(\n",
        "                    label=\"About\",\n",
        "                    value=\"what-is\",\n",
        "                    className=\"custom-tab\",\n",
        "                    selected_className=\"custom-tab--selected\",\n",
        "                    children=html.Div(\n",
        "                        className=\"control-tab\",\n",
        "                        children=[\n",
        "                            dcc.Markdown(readme),\n",
        "                        ],\n",
        "                    ),\n",
        "                ),\n",
        "                dcc.Tab(\n",
        "                    label=\"Query\",\n",
        "                    value=\"alignment-tab-select\",\n",
        "                    className=\"custom-tab\",\n",
        "                    selected_className=\"custom-tab--selected\",\n",
        "                    children=html.Div(\n",
        "                        className=\"app-controls-block\",\n",
        "                        children=[\n",
        "                            # query word and translator\n",
        "                            html.Div(\n",
        "                                [\n",
        "                                    html.Br(),\n",
        "                                    html.Div([\n",
        "                                        html.Label(\"Word:\"),\n",
        "                                        dcc.Dropdown(\n",
        "                                            id=\"target\",\n",
        "                                            options=[\n",
        "                                                {\"label\": i, \"value\": i} \n",
        "                                                for i in word_lst\n",
        "                                            ],\n",
        "                                            value=\"BG-01-5520-05-0106:女郎花\",\n",
        "                                            multi=False,\n",
        "                                        ),\n",
        "                                    ],\n",
        "                                             style={\n",
        "                                                 \"width\": \"45%\", \n",
        "                                                 \"display\": \"inline-block\",\n",
        "                                             }\n",
        "                                             ),\n",
        "\n",
        "                                    html.Div([\n",
        "                                        html.Label(\"Translator:\"),\n",
        "                                        dcc.Dropdown(\n",
        "                                            id=\"translator\",\n",
        "                                            options=[\n",
        "                                                {\"label\": i, \"value\": i} \n",
        "                                                for i in translator_lst\n",
        "                                            ],\n",
        "                                            value=\"[KNK/金子] Kaneko, Motoomi (1933)\",\n",
        "                                            multi=False,\n",
        "                                        ),\n",
        "                                    ],\n",
        "                                             style={\n",
        "                                                 \"width\": \"45%\", \n",
        "                                                 \"float\": \"right\", \n",
        "                                                 \"display\": \"inline-block\",\n",
        "                                             }\n",
        "                                             ),\n",
        "                                ],\n",
        "                            ),\n",
        "                            # query specific poem\n",
        "                            html.Br(),\n",
        "                            html.Div(\n",
        "                                [\n",
        "                                    html.Label(\n",
        "                                        \"\"\"\n",
        "                                        Query results (click cell to visualize \n",
        "                                        alignment and collective misalignment \n",
        "                                        network of the bitext on the selected \n",
        "                                        row):\n",
        "                                        \"\"\"\n",
        "                                    ),\n",
        "                                    dash_table.DataTable(\n",
        "                                        id=\"datatable-paging\",\n",
        "                                        columns=[\n",
        "                                            {\"name\": i, \"id\": i} for i in \n",
        "                                            [\"poem\", \"queried word\", \n",
        "                                             \"source text\", \"target text\"]\n",
        "                                        ],\n",
        "                                        page_current=0,\n",
        "                                        page_size=3,\n",
        "                                        page_action=\"custom\",\n",
        "                                        style_cell_conditional=[\n",
        "                                            {\"if\": {\"column_id\": \"target text\"},                                        \n",
        "                                             \"width\": \"0%\"},\n",
        "                                            {\"if\": {\"column_id\": \"source text\"},                                        \n",
        "                                             \"width\": \"70%\"},\n",
        "                                            {\"if\": {\"column_id\": \"poem\"},                                        \n",
        "                                             \"width\": \"10%\"},\n",
        "                                            {\"if\": {\"column_id\": \"queried word\"},                                        \n",
        "                                             \"width\": \"20%\"},\n",
        "                                        ],\n",
        "                                        style_cell={\n",
        "                                            \"overflow\": \"hidden\",\n",
        "                                            \"textOverflow\": \"ellipsis\",\n",
        "                                            \"maxWidth\": 0,\n",
        "                                        },\n",
        "                                    ),\n",
        "                                ],\n",
        "                            ),\n",
        "                        ],\n",
        "                    ),\n",
        "                ),\n",
        "            ],\n",
        "        ),\n",
        "\n",
        "        html.Br(),\n",
        "        dcc.Tabs(\n",
        "            id=\"result-tabs\",\n",
        "            value=\"network-tab-select\",\n",
        "            parent_className=\"custom-result-tabs\",\n",
        "            className=\"custom-result-tabs-container\",\n",
        "            children=[\n",
        "                dcc.Tab(\n",
        "                    label=\"Word alignment visualization\",\n",
        "                    value=\"alignment-tab-select\",\n",
        "                    className=\"custom-tab\",\n",
        "                    selected_className=\"custom-tab--selected\",\n",
        "                    children=html.Div(\n",
        "                        className=\"result-tab\",\n",
        "                        children=[\n",
        "                            html.Div(\n",
        "                                dcc.Graph(id=\"alignment-graph\"),\n",
        "                                style={\n",
        "                                    \"width\": \"100%\", \n",
        "                                    \"display\": \"inline-block\",\n",
        "                                },\n",
        "                            ),\n",
        "                        ],\n",
        "                    ),\n",
        "                ),\n",
        "\n",
        "                # html.Hr(),\n",
        "                dcc.Tab(\n",
        "                    label=\"Collective misalignment network visualization\",\n",
        "                    value=\"network-tab-select\",\n",
        "                    className=\"custom-tab\",\n",
        "                    selected_className=\"custom-tab--selected\",\n",
        "                    children=html.Div(\n",
        "                        className=\"result-tab\",\n",
        "                        children=[ \n",
        "                            html.Br(),\n",
        "                            html.Div(\n",
        "                                [\n",
        "                                    html.Div(\n",
        "                                        [\n",
        "                                            # html.Label(\"Selected poem\"),\n",
        "                                            dcc.Graph(\n",
        "                                                id=\"individual-network-graph\"\n",
        "                                            ), \n",
        "                                        ],       \n",
        "                                        style={\n",
        "                                            \"width\": \"50%\", \n",
        "                                            \"float\": \"left\", \n",
        "                                            \"display\": \"inline-block\",\n",
        "                                        },\n",
        "                                    ),\n",
        "\n",
        "                                    html.Div(\n",
        "                                        [\n",
        "                                            # html.Label(\"All queried poems\"),\n",
        "                                            dcc.Graph(\n",
        "                                                id=\"translator-network-graph\"\n",
        "                                            ), \n",
        "                                        ],       \n",
        "                                        style={\n",
        "                                            \"width\": \"50%\", \n",
        "                                            \"float\": \"right\", \n",
        "                                            \"display\": \"inline-block\",\n",
        "                                        },\n",
        "                                    ),\n",
        "                                ],\n",
        "                            ),\n",
        "                        ],\n",
        "                    ),\n",
        "                ),\n",
        "            ],\n",
        "        ),\n",
        "    ],\n",
        "                      )\n",
        "\n",
        "\n",
        "# Data table\n",
        "@app.callback(\n",
        "    [Output(\"datatable-paging\", \"page_current\"),\n",
        "     Output(\"datatable-paging\", \"page_count\"),\n",
        "     Output(\"datatable-paging\", \"data\")],\n",
        "    [Input(\"datatable-paging\", \"page_current\"),\n",
        "     Input(\"datatable-paging\", \"page_size\"),\n",
        "     Input(\"target\", \"value\"),\n",
        "     Input(\"translator\", \"value\")],\n",
        "    [State(\"datatable-paging\", \"data\")]\n",
        ")\n",
        "def update_table(page_current, page_size, target, translator, table_data):\n",
        "    target, word = target.split(\":\")\n",
        "    translator = fullname2id_map[translator]\n",
        "    candidates = query(target, translator)\n",
        "    page_count = len(candidates) // page_size + 1\n",
        "    candidate_df = pd.DataFrame({\n",
        "        \"poem\": [candidate.poem for candidate in candidates],\n",
        "        \"source text\": [candidate.source_surface for candidate in candidates],\n",
        "        \"target text\": [candidate.target_surface for candidate in candidates],\n",
        "        \"queried word\": [word for candidate in candidates],\n",
        "    })\n",
        "    data = candidate_df.iloc[\n",
        "        page_current*page_size:(page_current+1)*page_size\n",
        "    ].to_dict(\"records\")\n",
        "    if table_data is not None:\n",
        "        try: \n",
        "            table_data[0]\n",
        "        except:\n",
        "            page_current = page_count - 1\n",
        "    return page_current, page_count, data\n",
        "\n",
        "\n",
        "# Alignment visualization and individual poem network visualization\n",
        "@app.callback(\n",
        "    [Output(\"alignment-graph\", \"figure\"),\n",
        "     Output(\"individual-network-graph\", \"figure\")],\n",
        "    [Input(\"datatable-paging\", \"active_cell\"),\n",
        "     Input(\"datatable-paging\", \"page_current\"),\n",
        "     Input(\"datatable-paging\", \"page_size\"),\n",
        "     Input(\"translator\", \"value\"),\n",
        "     Input(\"target\", \"value\")],\n",
        "    [State(\"datatable-paging\", \"data\")]\n",
        ")\n",
        "def update_alignment_and_individual_network_graph(\n",
        "        active_cell, page_current, page_size, \n",
        "        translator, target, table_data):\n",
        "    try:\n",
        "        target, word = target.split(\":\")\n",
        "        translator = fullname2id_map[translator]\n",
        "        if active_cell:\n",
        "            row = active_cell[\"row\"]\n",
        "            queied_word = table_data[row][\"queried word\"]\n",
        "            if queied_word == word:\n",
        "                idx = table_data[row][\"poem\"]\n",
        "                text = table_data[row][\"source text\"]\n",
        "            else:\n",
        "                candidates = query(target, translator)    \n",
        "                current_candidate = candidates[page_current*page_size]    \n",
        "                idx = current_candidate.poem\n",
        "                text = current_candidate.source_surface\n",
        "        else:\n",
        "            candidates = query(target, translator)    \n",
        "            current_candidate = candidates[page_current*page_size]    \n",
        "            idx = current_candidate.poem\n",
        "            text = current_candidate.source_surface\n",
        "        _, heatmap, targets = alignment_table(idx, translator, target)\n",
        "        fig_alignment = visualize_heatmap(heatmap, targets)\n",
        "        fig_alignment.update_layout(transition_duration=500)\n",
        "        fig_individual_network = draw_plotly_by_translator_by_poem(target, idx)\n",
        "        fig_individual_network.update_layout(\n",
        "            title = f\"<span style='font-size: 14px;'>{target} {word}</span>\" + \n",
        "            \"<br>\" +\n",
        "            f\"<span style='font-size: 10px;'>{text} -古今{idx}</span>\"\n",
        "        )\n",
        "        fig_individual_network.update_layout(transition_duration=500)\n",
        "        return fig_alignment, fig_individual_network\n",
        "    except:\n",
        "        return (_blank(1000, 600, \"Queried word was not found.\", 12),\n",
        "                _blank(500, 600, \"Queried word was not found.\", 12))\n",
        "\n",
        "\n",
        "# Global network visualization\n",
        "@app.callback(\n",
        "    Output(\"translator-network-graph\", \"figure\"),\n",
        "    [Input(\"target\", \"value\")]\n",
        ")\n",
        "def update_translator_network(target):\n",
        "    try:\n",
        "        target = target.split(\":\")[0]\n",
        "        fig = draw_plotly_by_translator(target)\n",
        "        fig.update_layout(transition_duration=500)\n",
        "        return fig\n",
        "    except:\n",
        "        return _blank(500, 600, \"Queried word was not found.\", 12)"
      ],
      "metadata": {
        "id": "OW7U6mVc5gX5"
      },
      "execution_count": 8,
      "outputs": []
    },
    {
      "cell_type": "code",
      "source": [
        "app.run_server(mode='inline')"
      ],
      "metadata": {
        "colab": {
          "base_uri": "https://localhost:8080/",
          "height": 671
        },
        "id": "0TOhLXGIBkeS",
        "outputId": "83177e13-20f8-44ef-f714-ed82ca218342"
      },
      "execution_count": 9,
      "outputs": [
        {
          "output_type": "display_data",
          "data": {
            "text/plain": [
              "<IPython.core.display.Javascript object>"
            ],
            "application/javascript": [
              "(async (port, path, width, height, cache, element) => {\n",
              "    if (!google.colab.kernel.accessAllowed && !cache) {\n",
              "      return;\n",
              "    }\n",
              "    element.appendChild(document.createTextNode(''));\n",
              "    const url = await google.colab.kernel.proxyPort(port, {cache});\n",
              "    const iframe = document.createElement('iframe');\n",
              "    iframe.src = new URL(path, url).toString();\n",
              "    iframe.height = height;\n",
              "    iframe.width = width;\n",
              "    iframe.style.border = 0;\n",
              "    iframe.allow = [\n",
              "        'accelerometer',\n",
              "        'autoplay',\n",
              "        'camera',\n",
              "        'clipboard-read',\n",
              "        'clipboard-write',\n",
              "        'gyroscope',\n",
              "        'magnetometer',\n",
              "        'microphone',\n",
              "        'serial',\n",
              "        'usb',\n",
              "        'xr-spatial-tracking',\n",
              "    ].join('; ');\n",
              "    element.appendChild(iframe);\n",
              "  })(8050, \"/\", \"100%\", 650, false, window.element)"
            ]
          },
          "metadata": {}
        }
      ]
    },
    {
      "cell_type": "markdown",
      "source": [
        "# 3 | Visualization by Graphviz\n"
      ],
      "metadata": {
        "id": "NtM2FuzFOb_4"
      }
    },
    {
      "cell_type": "markdown",
      "source": [
        "## 3.1 | Aggregate Visualization"
      ],
      "metadata": {
        "id": "P9nNC4ILcplc"
      }
    },
    {
      "cell_type": "code",
      "source": [
        "import subprocess\n",
        "\n",
        "os.chdir('/content/misalignVis/src')\n",
        "print(os.getcwd())"
      ],
      "metadata": {
        "colab": {
          "base_uri": "https://localhost:8080/"
        },
        "id": "m8SRVSMPKxA4",
        "outputId": "eee86059-5b85-47fe-9b7f-5e3c96eb594f"
      },
      "execution_count": 10,
      "outputs": [
        {
          "output_type": "stream",
          "name": "stdout",
          "text": [
            "/content/misalignVis/src\n"
          ]
        }
      ]
    },
    {
      "cell_type": "code",
      "source": [
        "import re\n",
        "import igraph as ig\n",
        "from dataclasses import astuple, asdict\n",
        "from utils import load_pickle, lemma2metacode\n",
        "import bitexts\n",
        "from bitexts import AlignmentInfo\n",
        "import math\n",
        "from IPython.display import SVG"
      ],
      "metadata": {
        "id": "FATSLPQVNEUr"
      },
      "execution_count": 11,
      "outputs": []
    },
    {
      "cell_type": "code",
      "source": [
        "DB = load_pickle(\"../cache/bitexts.db\")\n",
        "translator_lst = DB.translators\n",
        "metacode2lemma_map_src = load_pickle(\"../cache/metacode2lemma_src.pkl\")\n",
        "metacode2lemma_map_tar = load_pickle(\"../cache/metacode2lemma_tar.pkl\")\n",
        "romaji2kanji_map = {\n",
        "    \"kaneko\": \"KNK\",\n",
        "    \"katagiri\": \"KTGR\",\n",
        "    \"kojimaarai\": \"K&A\",\n",
        "    \"komachiya\": \"KMCY\",\n",
        "    \"kubota\": \"KBT\",\n",
        "    \"kyusojin\": \"KSJ\",\n",
        "    \"matsuda\": \"MTD\",\n",
        "    \"okumura\": \"OKMR\",\n",
        "    \"ozawa\": \"OZW\",\n",
        "    \"takeoka\": \"TKOK\"\n",
        "}"
      ],
      "metadata": {
        "id": "deEJR9at0MYV"
      },
      "execution_count": 12,
      "outputs": []
    },
    {
      "cell_type": "code",
      "source": [
        "def _gen_graph(alignment_summary, edge_info, source_words, source_word_translator_set, target_word_set):\n",
        "\n",
        "    # Edge by translator generator\n",
        "    def edge_by_translator():\n",
        "        for stat in alignment_summary.summary:\n",
        "            source_word = stat.alignment[0]\n",
        "            target_word = stat.alignment[1]\n",
        "            stat = asdict(stat)\n",
        "            for (key, value) in stat.items():\n",
        "                if (key == \"alignment\") or (key == \"total\"):\n",
        "                    continue\n",
        "                source_node = f\"{source_word}-{key}\"\n",
        "                target_node = target_word\n",
        "                weight = value\n",
        "                if weight == 0:\n",
        "                    continue\n",
        "                yield (source_node, target_node, weight, 8)\n",
        "\n",
        "    # Aligned target word generator\n",
        "    def target_words():\n",
        "        for info in edge_info:\n",
        "            target_word = info.alignment[1]\n",
        "            if target_word in target_word_set:\n",
        "                continue\n",
        "            target_word_set.add(target_word)\n",
        "            yield target_word\n",
        "\n",
        "    # Source word with translator coding generator\n",
        "    def source_words_by_translator():\n",
        "        for word in source_words:\n",
        "            info_lst = alignment_summary.query_details_by_source(word)\n",
        "            for info in info_lst:\n",
        "                word = info.word\n",
        "                translator = info.translator\n",
        "                name = (word, translator)\n",
        "                if name in source_word_translator_set:\n",
        "                    continue\n",
        "                source_word_translator_set.add(name)\n",
        "                yield name\n",
        "\n",
        "    # Source word node generator\n",
        "    def source_nodes():\n",
        "        for row in source_words_by_translator():\n",
        "            source_word = row[0]\n",
        "            translator = row[1]\n",
        "            name = source_word + \"-\" + translator\n",
        "            node = f\"{metacode2lemma_map_src[source_word]}\\n({romaji2kanji_map[translator]})\"\n",
        "            node_type = 1\n",
        "            type_label = \"source\"\n",
        "            weight = 0\n",
        "            shape = \"ellipse\"\n",
        "            info_lst = alignment_summary.query_details_by_source(row[0])\n",
        "            for info in info_lst:\n",
        "                if info.translator != row[1]:\n",
        "                    continue\n",
        "                weight += 1\n",
        "            yield (name, node, node_type, type_label, weight, shape)\n",
        "\n",
        "    # Target word node generator\n",
        "    def target_nodes():\n",
        "        for word in target_words():\n",
        "            name = word\n",
        "            node = f\"{metacode2lemma_map_tar[word]}\"\n",
        "            node_type = 2\n",
        "            type_label = \"target\"\n",
        "            weight = 0\n",
        "            shape = \"rectangle\"\n",
        "            info_lst = alignment_summary.query_details_by_target(word)\n",
        "            for info in info_lst:\n",
        "                weight += 1\n",
        "                source_metacode = info.alignment[0].split(\"-\")\n",
        "                target_metacode = info.alignment[1].split(\"-\")\n",
        "                if source_metacode[:4] == target_metacode[:4]:\n",
        "                    node_type = 3\n",
        "                    type_label = \"dublicate\"\n",
        "            yield (name, node, node_type, type_label, weight, shape)\n",
        "\n",
        "    # Igraph construction\n",
        "    node_lst = list(source_nodes()) + list(target_nodes())\n",
        "    node_lst = sorted(node_lst, key=lambda x: (x[2], x[4]), reverse=True)\n",
        "    edge_lst = list(edge_by_translator())\n",
        "    edge_lst = sorted(edge_lst, key=lambda x: (x[1], x[2]), reverse=True)\n",
        "    graph = ig.Graph.TupleList(edge_lst, directed=False, edge_attrs=[\"label\", \"fontsize\"])\n",
        "\n",
        "    for node_attr in node_lst:\n",
        "        name, node, node_type, type_label, weight, shape = node_attr\n",
        "        for v in graph.vs:\n",
        "            if v[\"name\"] != name:\n",
        "                continue\n",
        "            v[\"label\"] = node\n",
        "            v[\"node_type\"] = node_type\n",
        "            v[\"type_label\"] = type_label\n",
        "            if weight >= 3:\n",
        "                v[\"style\"] = \"filled\"\n",
        "                v[\"fillcolor\"] = \"lightyellow\"\n",
        "            if node_type == 1:\n",
        "                v[\"style\"] = \"filled\"\n",
        "                v[\"fillcolor\"] = \"lightgrey\"\n",
        "                v[\"width\"] = 0.1\n",
        "                v[\"fontsize\"] = 8\n",
        "            else:\n",
        "                v[\"fontsize\"] = (math.log(weight+7)) * 5\n",
        "            v[\"shape\"] = shape\n",
        "    return graph\n",
        "\n",
        "def _filter(alignment_info_lst):\n",
        "    \"\"\"To remove edges that contain the same nodes with source nodes and stop pos.\"\"\"\n",
        "    for alignment_info in alignment_info_lst:\n",
        "        source, target = alignment_info.alignment\n",
        "        # BG-16: symbols\n",
        "        # BG-0[456789]: words that are not nouns, verbs or adjectives\n",
        "        # BG-03-1000: demonstratives\n",
        "        pattern = re.compile(r'BG-16|BG-0[456789]|BG-03-1000')\n",
        "        if pattern.match(target):\n",
        "            continue\n",
        "        if source[3:15] == target[3:15]:\n",
        "            continue\n",
        "        yield alignment_info\n",
        "\n",
        "\n",
        "def retrive_igraph_by_translator(*source_words):\n",
        "    \"\"\"Retrive igraph format data with translator attension.\n",
        "\n",
        "    :return graph: igraph-converted information.\n",
        "    \"\"\"\n",
        "    target_word_set = set()\n",
        "    source_word_translator_set = set()\n",
        "    alignment_lst = DB.query_improper_alignment_by_word(*source_words)    \n",
        "    alignment_lst = list(_filter(alignment_lst))\n",
        "    alignment_summary = bitexts.AlignmentSummary(alignment_lst)\n",
        "    edge_info = alignment_summary.alignment_info  # For edges' annotation\n",
        "\n",
        "    return _gen_graph(alignment_summary, edge_info, source_words, source_word_translator_set, target_word_set)"
      ],
      "metadata": {
        "id": "RM1WxPRGsOVr"
      },
      "execution_count": 19,
      "outputs": []
    },
    {
      "cell_type": "code",
      "source": [
        "def dot_viz_aggr(word, width=None):\n",
        "    code = lemma2metacode(word, metacode2lemma_map_src)\n",
        "    g = retrive_igraph_by_translator(code)\n",
        "    g.write_dot(f\"../artifacts/{word}.dot\")\n",
        "    if width:\n",
        "        with open(f\"../artifacts/{word}.dot\", \"r\") as file:\n",
        "            lines = file.readlines()\n",
        "\n",
        "        # attr\n",
        "        lines.insert(2, f'  size=\"{width},\";\\n')\n",
        "        lines.insert(3, '  ratio=\"fill\";\\n')\n",
        "\n",
        "        # lines.insert(4, '  mode=\"ipsep\";\\n')\n",
        "        # lines.insert(5, '  sep=1;\\n')\n",
        "        # lines.insert(6, '  overlap=false;\\n')\n",
        "        \n",
        "        with open(f\"../artifacts/{word}.dot\", \"w\") as file:\n",
        "            file.writelines(lines)\n",
        "    neato_command = f\"neato -Tsvg ../artifacts/{word}.dot -o ../artifacts/{word}.svg\"\n",
        "    subprocess.run(neato_command, shell=True, check=True)\n",
        "    display(SVG(filename=f\"../artifacts/{word}.svg\")) "
      ],
      "metadata": {
        "id": "LENoVhwG6hyN"
      },
      "execution_count": 20,
      "outputs": []
    },
    {
      "cell_type": "markdown",
      "source": [
        "### 3.2 | Examples"
      ],
      "metadata": {
        "id": "LfBopaAGOgZh"
      }
    },
    {
      "cell_type": "markdown",
      "source": [
        "#### 3.2.1 | *Ume*, en. plum"
      ],
      "metadata": {
        "id": "IGBZcWmDc5pY"
      }
    },
    {
      "cell_type": "code",
      "source": [
        "dot_viz_aggr(\"梅\")"
      ],
      "metadata": {
        "colab": {
          "base_uri": "https://localhost:8080/",
          "height": 624
        },
        "id": "dKfx8Xsy9ggq",
        "outputId": "26401393-90b4-4137-b840-0da2f2174fa4"
      },
      "execution_count": 21,
      "outputs": [
        {
          "name": "stdout",
          "output_type": "stream",
          "text": [
            "Lemma has the following semantic codings:\n",
            " 1: BG-01-5520-20-0401\n",
            " 2: BG-01-5520-20-0402\n",
            "Input one ID to query:1\n"
          ]
        },
        {
          "output_type": "display_data",
          "data": {
            "text/plain": [
              "<IPython.core.display.SVG object>"
            ],
            "image/svg+xml": "<svg xmlns=\"http://www.w3.org/2000/svg\" xmlns:xlink=\"http://www.w3.org/1999/xlink\" width=\"373pt\" height=\"400pt\" viewBox=\"0.00 0.00 372.64 399.88\">\n<g id=\"graph0\" class=\"graph\" transform=\"scale(1 1) rotate(0) translate(4 395.88)\">\n<title>%3</title>\n<polygon fill=\"white\" stroke=\"transparent\" points=\"-4,4 -4,-395.88 368.64,-395.88 368.64,4 -4,4\"/>\n<!-- 0 -->\n<g id=\"node1\" class=\"node\">\n<title>0</title>\n<ellipse fill=\"lightgrey\" stroke=\"black\" cx=\"256.93\" cy=\"-249.08\" rx=\"28.98\" ry=\"18.27\"/>\n<text text-anchor=\"middle\" x=\"256.93\" y=\"-251.68\" font-family=\"Times,serif\" font-size=\"8.00\">梅</text>\n<text text-anchor=\"middle\" x=\"256.93\" y=\"-242.68\" font-family=\"Times,serif\" font-size=\"8.00\">(MTD)</text>\n</g>\n<!-- 1 -->\n<g id=\"node2\" class=\"node\">\n<title>1</title>\n<polygon fill=\"none\" stroke=\"black\" points=\"329.81,-330.58 290.81,-330.58 290.81,-294.58 329.81,-294.58 329.81,-330.58\"/>\n<text text-anchor=\"middle\" x=\"310.31\" y=\"-309.76\" font-family=\"Times,serif\" font-size=\"10.40\">None</text>\n</g>\n<!-- 1&#45;&#45;0 -->\n<g id=\"edge1\" class=\"edge\">\n<title>1--0</title>\n<path fill=\"none\" stroke=\"black\" d=\"M295.15,-294.55C287.51,-285.46 278.3,-274.51 270.84,-265.63\"/>\n<text text-anchor=\"middle\" x=\"281\" y=\"-282.69\" font-family=\"Times,serif\" font-size=\"8.00\">1</text>\n</g>\n<!-- 2 -->\n<g id=\"node3\" class=\"node\">\n<title>2</title>\n<ellipse fill=\"lightgrey\" stroke=\"black\" cx=\"190.08\" cy=\"-143.4\" rx=\"33.47\" ry=\"18.27\"/>\n<text text-anchor=\"middle\" x=\"190.08\" y=\"-146\" font-family=\"Times,serif\" font-size=\"8.00\">梅</text>\n<text text-anchor=\"middle\" x=\"190.08\" y=\"-137\" font-family=\"Times,serif\" font-size=\"8.00\">(OKMR)</text>\n</g>\n<!-- 3 -->\n<g id=\"node4\" class=\"node\">\n<title>3</title>\n<polygon fill=\"lightyellow\" stroke=\"black\" points=\"200.49,-240.79 151.49,-240.79 151.49,-204.79 200.49,-204.79 200.49,-240.79\"/>\n<text text-anchor=\"middle\" x=\"175.99\" y=\"-219.01\" font-family=\"Times,serif\" font-size=\"14.72\">None</text>\n</g>\n<!-- 3&#45;&#45;0 -->\n<g id=\"edge5\" class=\"edge\">\n<title>3--0</title>\n<path fill=\"none\" stroke=\"black\" d=\"M200.71,-230.82C210.29,-233.93 221.26,-237.5 230.95,-240.64\"/>\n<text text-anchor=\"middle\" x=\"213.83\" y=\"-238.33\" font-family=\"Times,serif\" font-size=\"8.00\">1</text>\n</g>\n<!-- 3&#45;&#45;2 -->\n<g id=\"edge2\" class=\"edge\">\n<title>3--2</title>\n<path fill=\"none\" stroke=\"black\" d=\"M179.19,-204.78C181.46,-191.96 184.5,-174.81 186.8,-161.89\"/>\n<text text-anchor=\"middle\" x=\"180.99\" y=\"-176.93\" font-family=\"Times,serif\" font-size=\"8.00\">5</text>\n</g>\n<!-- 4 -->\n<g id=\"node5\" class=\"node\">\n<title>4</title>\n<ellipse fill=\"lightgrey\" stroke=\"black\" cx=\"101.19\" cy=\"-184.75\" rx=\"28.98\" ry=\"18.27\"/>\n<text text-anchor=\"middle\" x=\"101.19\" y=\"-187.35\" font-family=\"Times,serif\" font-size=\"8.00\">梅</text>\n<text text-anchor=\"middle\" x=\"101.19\" y=\"-178.35\" font-family=\"Times,serif\" font-size=\"8.00\">(KNK)</text>\n</g>\n<!-- 4&#45;&#45;3 -->\n<g id=\"edge3\" class=\"edge\">\n<title>4--3</title>\n<path fill=\"none\" stroke=\"black\" d=\"M124.04,-196.37C132.71,-200.78 142.63,-205.83 151.46,-210.32\"/>\n<text text-anchor=\"middle\" x=\"135.75\" y=\"-205.94\" font-family=\"Times,serif\" font-size=\"8.00\">3</text>\n</g>\n<!-- 5 -->\n<g id=\"node6\" class=\"node\">\n<title>5</title>\n<ellipse fill=\"lightgrey\" stroke=\"black\" cx=\"231.77\" cy=\"-136.51\" rx=\"28.98\" ry=\"18.27\"/>\n<text text-anchor=\"middle\" x=\"231.77\" y=\"-139.11\" font-family=\"Times,serif\" font-size=\"8.00\">梅</text>\n<text text-anchor=\"middle\" x=\"231.77\" y=\"-130.11\" font-family=\"Times,serif\" font-size=\"8.00\">(K&amp;A)</text>\n</g>\n<!-- 5&#45;&#45;3 -->\n<g id=\"edge4\" class=\"edge\">\n<title>5--3</title>\n<path fill=\"none\" stroke=\"black\" d=\"M220.75,-153.55C211.22,-168.29 197.49,-189.53 187.76,-204.59\"/>\n<text text-anchor=\"middle\" x=\"202.25\" y=\"-172.67\" font-family=\"Times,serif\" font-size=\"8.00\">1</text>\n</g>\n<!-- 6 -->\n<g id=\"node7\" class=\"node\">\n<title>6</title>\n<ellipse fill=\"lightgrey\" stroke=\"black\" cx=\"104.15\" cy=\"-258.15\" rx=\"28.98\" ry=\"18.27\"/>\n<text text-anchor=\"middle\" x=\"104.15\" y=\"-260.75\" font-family=\"Times,serif\" font-size=\"8.00\">梅</text>\n<text text-anchor=\"middle\" x=\"104.15\" y=\"-251.75\" font-family=\"Times,serif\" font-size=\"8.00\">(OZW)</text>\n</g>\n<!-- 6&#45;&#45;3 -->\n<g id=\"edge6\" class=\"edge\">\n<title>6--3</title>\n<path fill=\"none\" stroke=\"black\" d=\"M127.27,-246.77C134.99,-242.97 143.6,-238.73 151.42,-234.88\"/>\n<text text-anchor=\"middle\" x=\"137.35\" y=\"-243.42\" font-family=\"Times,serif\" font-size=\"8.00\">1</text>\n</g>\n<!-- 7 -->\n<g id=\"node8\" class=\"node\">\n<title>7</title>\n<ellipse fill=\"lightgrey\" stroke=\"black\" cx=\"235.61\" cy=\"-217.61\" rx=\"32.55\" ry=\"18.27\"/>\n<text text-anchor=\"middle\" x=\"235.61\" y=\"-220.21\" font-family=\"Times,serif\" font-size=\"8.00\">梅</text>\n<text text-anchor=\"middle\" x=\"235.61\" y=\"-211.21\" font-family=\"Times,serif\" font-size=\"8.00\">(TKOK)</text>\n</g>\n<!-- 7&#45;&#45;3 -->\n<g id=\"edge7\" class=\"edge\">\n<title>7--3</title>\n<path fill=\"none\" stroke=\"black\" d=\"M203.35,-220.41C202.48,-220.49 201.6,-220.57 200.73,-220.64\"/>\n<text text-anchor=\"middle\" x=\"201.04\" y=\"-214.13\" font-family=\"Times,serif\" font-size=\"8.00\">1</text>\n</g>\n<!-- 8 -->\n<g id=\"node9\" class=\"node\">\n<title>8</title>\n<polygon fill=\"none\" stroke=\"black\" points=\"50.3,-230.98 9.3,-230.98 9.3,-194.98 50.3,-194.98 50.3,-230.98\"/>\n<text text-anchor=\"middle\" x=\"29.8\" y=\"-210.19\" font-family=\"Times,serif\" font-size=\"10.99\">None</text>\n</g>\n<!-- 8&#45;&#45;4 -->\n<g id=\"edge8\" class=\"edge\">\n<title>8--4</title>\n<path fill=\"none\" stroke=\"black\" d=\"M50.45,-204.81C58.6,-201.59 68.04,-197.86 76.54,-194.49\"/>\n<text text-anchor=\"middle\" x=\"61.49\" y=\"-202.25\" font-family=\"Times,serif\" font-size=\"8.00\">1</text>\n</g>\n<!-- 8&#45;&#45;6 -->\n<g id=\"edge9\" class=\"edge\">\n<title>8--6</title>\n<path fill=\"none\" stroke=\"black\" d=\"M50.51,-225.56C60.65,-231.72 72.84,-239.13 83.03,-245.32\"/>\n<text text-anchor=\"middle\" x=\"64.77\" y=\"-238.04\" font-family=\"Times,serif\" font-size=\"8.00\">1</text>\n</g>\n<!-- 9 -->\n<g id=\"node10\" class=\"node\">\n<title>9</title>\n<polygon fill=\"none\" stroke=\"black\" points=\"310.76,-89.87 269.76,-89.87 269.76,-53.87 310.76,-53.87 310.76,-89.87\"/>\n<text text-anchor=\"middle\" x=\"290.26\" y=\"-69.08\" font-family=\"Times,serif\" font-size=\"10.99\">None</text>\n</g>\n<!-- 9&#45;&#45;5 -->\n<g id=\"edge10\" class=\"edge\">\n<title>9--5</title>\n<path fill=\"none\" stroke=\"black\" d=\"M273.97,-89.87C265.31,-99.44 254.76,-111.09 246.38,-120.36\"/>\n<text text-anchor=\"middle\" x=\"258.17\" y=\"-107.72\" font-family=\"Times,serif\" font-size=\"8.00\">2</text>\n</g>\n<!-- 10 -->\n<g id=\"node11\" class=\"node\">\n<title>10</title>\n<ellipse fill=\"lightgrey\" stroke=\"black\" cx=\"144.09\" cy=\"-100.46\" rx=\"25.41\" ry=\"18.27\"/>\n<text text-anchor=\"middle\" x=\"144.09\" y=\"-103.06\" font-family=\"Times,serif\" font-size=\"8.00\">梅</text>\n<text text-anchor=\"middle\" x=\"144.09\" y=\"-94.06\" font-family=\"Times,serif\" font-size=\"8.00\">(KSJ)</text>\n</g>\n<!-- 11 -->\n<g id=\"node12\" class=\"node\">\n<title>11</title>\n<polygon fill=\"none\" stroke=\"black\" points=\"155.48,-36 116.48,-36 116.48,0 155.48,0 155.48,-36\"/>\n<text text-anchor=\"middle\" x=\"135.98\" y=\"-15.18\" font-family=\"Times,serif\" font-size=\"10.40\">None</text>\n</g>\n<!-- 11&#45;&#45;10 -->\n<g id=\"edge11\" class=\"edge\">\n<title>11--10</title>\n<path fill=\"none\" stroke=\"black\" d=\"M137.78,-36.3C139.11,-49.87 140.92,-68.3 142.27,-81.92\"/>\n<text text-anchor=\"middle\" x=\"138.02\" y=\"-61.71\" font-family=\"Times,serif\" font-size=\"8.00\">1</text>\n</g>\n<!-- 12 -->\n<g id=\"node13\" class=\"node\">\n<title>12</title>\n<polygon fill=\"none\" stroke=\"black\" points=\"364.64,-252.92 325.64,-252.92 325.64,-216.92 364.64,-216.92 364.64,-252.92\"/>\n<text text-anchor=\"middle\" x=\"345.14\" y=\"-232.1\" font-family=\"Times,serif\" font-size=\"10.40\">None</text>\n</g>\n<!-- 12&#45;&#45;0 -->\n<g id=\"edge12\" class=\"edge\">\n<title>12--0</title>\n<path fill=\"none\" stroke=\"black\" d=\"M325.56,-238.06C313.69,-239.97 298.33,-242.43 285.15,-244.55\"/>\n<text text-anchor=\"middle\" x=\"303.36\" y=\"-243.9\" font-family=\"Times,serif\" font-size=\"8.00\">1</text>\n</g>\n<!-- 13 -->\n<g id=\"node14\" class=\"node\">\n<title>13</title>\n<polygon fill=\"none\" stroke=\"black\" points=\"124.33,-363.37 85.33,-363.37 85.33,-327.37 124.33,-327.37 124.33,-363.37\"/>\n<text text-anchor=\"middle\" x=\"104.83\" y=\"-342.55\" font-family=\"Times,serif\" font-size=\"10.40\">None</text>\n</g>\n<!-- 13&#45;&#45;6 -->\n<g id=\"edge13\" class=\"edge\">\n<title>13--6</title>\n<path fill=\"none\" stroke=\"black\" d=\"M104.69,-327.3C104.58,-312.53 104.41,-291.72 104.29,-276.8\"/>\n<text text-anchor=\"middle\" x=\"102.49\" y=\"-304.65\" font-family=\"Times,serif\" font-size=\"8.00\">1</text>\n</g>\n<!-- 14 -->\n<g id=\"node15\" class=\"node\">\n<title>14</title>\n<polygon fill=\"lightyellow\" stroke=\"black\" points=\"201.67,-215.03 151.67,-215.03 151.67,-179.03 201.67,-179.03 201.67,-215.03\"/>\n<text text-anchor=\"middle\" x=\"176.67\" y=\"-193.35\" font-family=\"Times,serif\" font-size=\"15.22\">None</text>\n</g>\n<!-- 14&#45;&#45;0 -->\n<g id=\"edge17\" class=\"edge\">\n<title>14--0</title>\n<path fill=\"none\" stroke=\"black\" d=\"M202.06,-213.5C213.18,-220.71 226.04,-229.05 236.52,-235.85\"/>\n<text text-anchor=\"middle\" x=\"217.29\" y=\"-227.27\" font-family=\"Times,serif\" font-size=\"8.00\">2</text>\n</g>\n<!-- 14&#45;&#45;2 -->\n<g id=\"edge21\" class=\"edge\">\n<title>14--2</title>\n<path fill=\"none\" stroke=\"black\" d=\"M181.21,-178.87C182.58,-173.4 184.08,-167.39 185.45,-161.9\"/>\n<text text-anchor=\"middle\" x=\"181.33\" y=\"-163.99\" font-family=\"Times,serif\" font-size=\"8.00\">1</text>\n</g>\n<!-- 14&#45;&#45;4 -->\n<g id=\"edge18\" class=\"edge\">\n<title>14--4</title>\n<path fill=\"none\" stroke=\"black\" d=\"M151.54,-192.94C144.42,-191.78 136.62,-190.51 129.34,-189.33\"/>\n<text text-anchor=\"middle\" x=\"138.44\" y=\"-193.73\" font-family=\"Times,serif\" font-size=\"8.00\">1</text>\n</g>\n<!-- 14&#45;&#45;5 -->\n<g id=\"edge14\" class=\"edge\">\n<title>14--5</title>\n<path fill=\"none\" stroke=\"black\" d=\"M193.2,-178.87C200.81,-170.51 209.76,-160.68 217.12,-152.6\"/>\n<text text-anchor=\"middle\" x=\"207.16\" y=\"-168.33\" font-family=\"Times,serif\" font-size=\"8.00\">2</text>\n</g>\n<!-- 14&#45;&#45;6 -->\n<g id=\"edge22\" class=\"edge\">\n<title>14--6</title>\n<path fill=\"none\" stroke=\"black\" d=\"M155.3,-215.04C144.61,-224.05 131.82,-234.83 121.7,-243.35\"/>\n<text text-anchor=\"middle\" x=\"136.5\" y=\"-231.79\" font-family=\"Times,serif\" font-size=\"8.00\">1</text>\n</g>\n<!-- 14&#45;&#45;7 -->\n<g id=\"edge23\" class=\"edge\">\n<title>14--7</title>\n<path fill=\"none\" stroke=\"black\" d=\"M202.01,-205.88C203.88,-206.53 205.77,-207.19 207.66,-207.85\"/>\n<text text-anchor=\"middle\" x=\"203.83\" y=\"-200.46\" font-family=\"Times,serif\" font-size=\"8.00\">1</text>\n</g>\n<!-- 14&#45;&#45;10 -->\n<g id=\"edge16\" class=\"edge\">\n<title>14--10</title>\n<path fill=\"none\" stroke=\"black\" d=\"M170.54,-178.86C164.72,-161.6 156.01,-135.78 150.19,-118.54\"/>\n<text text-anchor=\"middle\" x=\"158.37\" y=\"-151.3\" font-family=\"Times,serif\" font-size=\"8.00\">2</text>\n</g>\n<!-- 15 -->\n<g id=\"node16\" class=\"node\">\n<title>15</title>\n<ellipse fill=\"lightgrey\" stroke=\"black\" cx=\"263.19\" cy=\"-167.72\" rx=\"27.65\" ry=\"18.27\"/>\n<text text-anchor=\"middle\" x=\"263.19\" y=\"-170.32\" font-family=\"Times,serif\" font-size=\"8.00\">梅</text>\n<text text-anchor=\"middle\" x=\"263.19\" y=\"-161.32\" font-family=\"Times,serif\" font-size=\"8.00\">(KBT)</text>\n</g>\n<!-- 15&#45;&#45;14 -->\n<g id=\"edge15\" class=\"edge\">\n<title>15--14</title>\n<path fill=\"none\" stroke=\"black\" d=\"M238.16,-176.2C226.79,-180.05 213.35,-184.6 201.94,-188.47\"/>\n<text text-anchor=\"middle\" x=\"218.05\" y=\"-184.93\" font-family=\"Times,serif\" font-size=\"8.00\">2</text>\n</g>\n<!-- 16 -->\n<g id=\"node17\" class=\"node\">\n<title>16</title>\n<ellipse fill=\"lightgrey\" stroke=\"black\" cx=\"118.85\" cy=\"-142.13\" rx=\"31.64\" ry=\"18.27\"/>\n<text text-anchor=\"middle\" x=\"118.85\" y=\"-144.73\" font-family=\"Times,serif\" font-size=\"8.00\">梅</text>\n<text text-anchor=\"middle\" x=\"118.85\" y=\"-135.73\" font-family=\"Times,serif\" font-size=\"8.00\">(KTGR)</text>\n</g>\n<!-- 16&#45;&#45;14 -->\n<g id=\"edge19\" class=\"edge\">\n<title>16--14</title>\n<path fill=\"none\" stroke=\"black\" d=\"M135.57,-158.01C142.38,-164.47 150.28,-171.97 157.33,-178.67\"/>\n<text text-anchor=\"middle\" x=\"144.45\" y=\"-170.94\" font-family=\"Times,serif\" font-size=\"8.00\">1</text>\n</g>\n<!-- 17 -->\n<g id=\"node18\" class=\"node\">\n<title>17</title>\n<ellipse fill=\"lightgrey\" stroke=\"black\" cx=\"192.19\" cy=\"-289.5\" rx=\"33.47\" ry=\"18.27\"/>\n<text text-anchor=\"middle\" x=\"192.19\" y=\"-292.1\" font-family=\"Times,serif\" font-size=\"8.00\">梅</text>\n<text text-anchor=\"middle\" x=\"192.19\" y=\"-283.1\" font-family=\"Times,serif\" font-size=\"8.00\">(KMCY)</text>\n</g>\n<!-- 17&#45;&#45;14 -->\n<g id=\"edge20\" class=\"edge\">\n<title>17--14</title>\n<path fill=\"none\" stroke=\"black\" d=\"M189.05,-270.79C186.32,-254.53 182.4,-231.14 179.7,-215.08\"/>\n<text text-anchor=\"middle\" x=\"182.38\" y=\"-245.54\" font-family=\"Times,serif\" font-size=\"8.00\">1</text>\n</g>\n<!-- 18 -->\n<g id=\"node19\" class=\"node\">\n<title>18</title>\n<polygon fill=\"lightyellow\" stroke=\"black\" points=\"84.65,-121.31 42.65,-121.31 42.65,-85.31 84.65,-85.31 84.65,-121.31\"/>\n<text text-anchor=\"middle\" x=\"63.65\" y=\"-100.6\" font-family=\"Times,serif\" font-size=\"11.51\">None</text>\n</g>\n<!-- 18&#45;&#45;4 -->\n<g id=\"edge24\" class=\"edge\">\n<title>18--4</title>\n<path fill=\"none\" stroke=\"black\" d=\"M71.98,-121.38C78.25,-134.97 86.78,-153.5 93.01,-167\"/>\n<text text-anchor=\"middle\" x=\"80.5\" y=\"-146.79\" font-family=\"Times,serif\" font-size=\"8.00\">1</text>\n</g>\n<!-- 18&#45;&#45;10 -->\n<g id=\"edge26\" class=\"edge\">\n<title>18--10</title>\n<path fill=\"none\" stroke=\"black\" d=\"M84.79,-102.56C95.12,-102.19 107.64,-101.75 118.51,-101.37\"/>\n<text text-anchor=\"middle\" x=\"99.65\" y=\"-104.56\" font-family=\"Times,serif\" font-size=\"8.00\">1</text>\n</g>\n<!-- 18&#45;&#45;16 -->\n<g id=\"edge25\" class=\"edge\">\n<title>18--16</title>\n<path fill=\"none\" stroke=\"black\" d=\"M84.84,-118.21C89.34,-121.37 94.08,-124.7 98.54,-127.84\"/>\n<text text-anchor=\"middle\" x=\"89.69\" y=\"-116.62\" font-family=\"Times,serif\" font-size=\"8.00\">1</text>\n</g>\n<!-- 19 -->\n<g id=\"node20\" class=\"node\">\n<title>19</title>\n<polygon fill=\"none\" stroke=\"black\" points=\"236.44,-391.88 197.44,-391.88 197.44,-355.88 236.44,-355.88 236.44,-391.88\"/>\n<text text-anchor=\"middle\" x=\"216.94\" y=\"-371.06\" font-family=\"Times,serif\" font-size=\"10.40\">None</text>\n</g>\n<!-- 19&#45;&#45;17 -->\n<g id=\"edge27\" class=\"edge\">\n<title>19--17</title>\n<path fill=\"none\" stroke=\"black\" d=\"M211.57,-355.57C207.42,-341.42 201.7,-321.92 197.55,-307.77\"/>\n<text text-anchor=\"middle\" x=\"202.56\" y=\"-334.27\" font-family=\"Times,serif\" font-size=\"8.00\">1</text>\n</g>\n<!-- 20 -->\n<g id=\"node21\" class=\"node\">\n<title>20</title>\n<polygon fill=\"none\" stroke=\"black\" points=\"72.93,-340.85 33.93,-340.85 33.93,-304.85 72.93,-304.85 72.93,-340.85\"/>\n<text text-anchor=\"middle\" x=\"53.43\" y=\"-320.03\" font-family=\"Times,serif\" font-size=\"10.40\">None</text>\n</g>\n<!-- 20&#45;&#45;6 -->\n<g id=\"edge28\" class=\"edge\">\n<title>20--6</title>\n<path fill=\"none\" stroke=\"black\" d=\"M67.56,-304.82C74.94,-295.4 83.92,-283.95 91.14,-274.74\"/>\n<text text-anchor=\"middle\" x=\"77.35\" y=\"-292.38\" font-family=\"Times,serif\" font-size=\"8.00\">1</text>\n</g>\n<!-- 21 -->\n<g id=\"node22\" class=\"node\">\n<title>21</title>\n<polygon fill=\"none\" stroke=\"black\" points=\"39,-292.16 0,-292.16 0,-256.16 39,-256.16 39,-292.16\"/>\n<text text-anchor=\"middle\" x=\"19.5\" y=\"-271.34\" font-family=\"Times,serif\" font-size=\"10.40\">None</text>\n</g>\n<!-- 21&#45;&#45;6 -->\n<g id=\"edge29\" class=\"edge\">\n<title>21--6</title>\n<path fill=\"none\" stroke=\"black\" d=\"M39.13,-270.45C50.17,-268.36 64.13,-265.72 76.28,-263.42\"/>\n<text text-anchor=\"middle\" x=\"55.71\" y=\"-269.53\" font-family=\"Times,serif\" font-size=\"8.00\">1</text>\n</g>\n</g>\n</svg>"
          },
          "metadata": {}
        }
      ]
    },
    {
      "cell_type": "markdown",
      "source": [
        "#### 3.2.2 | *Ominaeshi*, en. golden valerian"
      ],
      "metadata": {
        "id": "sUlHidO1dFq8"
      }
    },
    {
      "cell_type": "code",
      "source": [
        "dot_viz_aggr(\"女郎花\")"
      ],
      "metadata": {
        "id": "Uwb9F6aO9jMh",
        "colab": {
          "base_uri": "https://localhost:8080/",
          "height": 428
        },
        "outputId": "00678a83-3e62-4cbd-baad-754f2b8756ca"
      },
      "execution_count": 22,
      "outputs": [
        {
          "output_type": "display_data",
          "data": {
            "text/plain": [
              "<IPython.core.display.SVG object>"
            ],
            "image/svg+xml": "<svg xmlns=\"http://www.w3.org/2000/svg\" xmlns:xlink=\"http://www.w3.org/1999/xlink\" width=\"350pt\" height=\"305pt\" viewBox=\"0.00 0.00 350.23 304.96\">\n<g id=\"graph0\" class=\"graph\" transform=\"scale(1 1) rotate(0) translate(4 300.96)\">\n<title>%3</title>\n<polygon fill=\"white\" stroke=\"transparent\" points=\"-4,4 -4,-300.96 346.23,-300.96 346.23,4 -4,4\"/>\n<!-- 0 -->\n<g id=\"node1\" class=\"node\">\n<title>0</title>\n<ellipse fill=\"lightgrey\" stroke=\"black\" cx=\"104.7\" cy=\"-144.54\" rx=\"51.74\" ry=\"18.27\"/>\n<text text-anchor=\"middle\" x=\"104.7\" y=\"-147.14\" font-family=\"Times,serif\" font-size=\"8.00\">女郎花</text>\n<text text-anchor=\"middle\" x=\"104.7\" y=\"-138.14\" font-family=\"Times,serif\" font-size=\"8.00\">(KTGR)</text>\n</g>\n<!-- 1 -->\n<g id=\"node2\" class=\"node\">\n<title>1</title>\n<polygon fill=\"lightyellow\" stroke=\"black\" points=\"59.65,-101.15 16.65,-101.15 16.65,-65.15 59.65,-65.15 59.65,-101.15\"/>\n<text text-anchor=\"middle\" x=\"38.15\" y=\"-80.06\" font-family=\"Times,serif\" font-size=\"11.99\">None</text>\n</g>\n<!-- 1&#45;&#45;0 -->\n<g id=\"edge1\" class=\"edge\">\n<title>1--0</title>\n<path fill=\"none\" stroke=\"black\" d=\"M57.76,-101.24C66.65,-109.44 77.13,-119.1 85.92,-127.22\"/>\n<text text-anchor=\"middle\" x=\"69.84\" y=\"-116.83\" font-family=\"Times,serif\" font-size=\"8.00\">2</text>\n</g>\n<!-- 2 -->\n<g id=\"node3\" class=\"node\">\n<title>2</title>\n<ellipse fill=\"lightgrey\" stroke=\"black\" cx=\"114.74\" cy=\"-25.33\" rx=\"51.74\" ry=\"18.27\"/>\n<text text-anchor=\"middle\" x=\"114.74\" y=\"-27.93\" font-family=\"Times,serif\" font-size=\"8.00\">女郎花</text>\n<text text-anchor=\"middle\" x=\"114.74\" y=\"-18.93\" font-family=\"Times,serif\" font-size=\"8.00\">(TKOK)</text>\n</g>\n<!-- 2&#45;&#45;1 -->\n<g id=\"edge2\" class=\"edge\">\n<title>2--1</title>\n<path fill=\"none\" stroke=\"black\" d=\"M92.59,-42.05C82.25,-49.86 69.99,-59.11 59.73,-66.86\"/>\n<text text-anchor=\"middle\" x=\"74.16\" y=\"-57.06\" font-family=\"Times,serif\" font-size=\"8.00\">2</text>\n</g>\n<!-- 3 -->\n<g id=\"node4\" class=\"node\">\n<title>3</title>\n<ellipse fill=\"lightgrey\" stroke=\"black\" cx=\"128.91\" cy=\"-277.59\" rx=\"51.74\" ry=\"18.27\"/>\n<text text-anchor=\"middle\" x=\"128.91\" y=\"-280.19\" font-family=\"Times,serif\" font-size=\"8.00\">女郎花</text>\n<text text-anchor=\"middle\" x=\"128.91\" y=\"-271.19\" font-family=\"Times,serif\" font-size=\"8.00\">(KSJ)</text>\n</g>\n<!-- 4 -->\n<g id=\"node5\" class=\"node\">\n<title>4</title>\n<polygon fill=\"lightyellow\" stroke=\"black\" points=\"142.29,-239.25 92.29,-239.25 92.29,-203.25 142.29,-203.25 142.29,-239.25\"/>\n<text text-anchor=\"middle\" x=\"117.29\" y=\"-217.39\" font-family=\"Times,serif\" font-size=\"15.46\">None</text>\n</g>\n<!-- 4&#45;&#45;0 -->\n<g id=\"edge4\" class=\"edge\">\n<title>4--0</title>\n<path fill=\"none\" stroke=\"black\" d=\"M114.31,-203.07C112.33,-191.02 109.74,-175.26 107.75,-163.12\"/>\n<text text-anchor=\"middle\" x=\"109.03\" y=\"-185.7\" font-family=\"Times,serif\" font-size=\"8.00\">3</text>\n</g>\n<!-- 4&#45;&#45;3 -->\n<g id=\"edge3\" class=\"edge\">\n<title>4--3</title>\n<path fill=\"none\" stroke=\"black\" d=\"M121.03,-239.39C122.33,-245.7 123.79,-252.77 125.1,-259.1\"/>\n<text text-anchor=\"middle\" x=\"121.06\" y=\"-251.85\" font-family=\"Times,serif\" font-size=\"8.00\">4</text>\n</g>\n<!-- 5 -->\n<g id=\"node6\" class=\"node\">\n<title>5</title>\n<ellipse fill=\"lightgrey\" stroke=\"black\" cx=\"196.35\" cy=\"-146.64\" rx=\"51.74\" ry=\"18.27\"/>\n<text text-anchor=\"middle\" x=\"196.35\" y=\"-149.24\" font-family=\"Times,serif\" font-size=\"8.00\">女郎花</text>\n<text text-anchor=\"middle\" x=\"196.35\" y=\"-140.24\" font-family=\"Times,serif\" font-size=\"8.00\">(KMCY)</text>\n</g>\n<!-- 5&#45;&#45;4 -->\n<g id=\"edge5\" class=\"edge\">\n<title>5--4</title>\n<path fill=\"none\" stroke=\"black\" d=\"M178.01,-163.94C165.6,-175.65 149.24,-191.1 136.63,-203\"/>\n<text text-anchor=\"middle\" x=\"155.32\" y=\"-177.07\" font-family=\"Times,serif\" font-size=\"8.00\">3</text>\n</g>\n<!-- 6 -->\n<g id=\"node7\" class=\"node\">\n<title>6</title>\n<ellipse fill=\"lightgrey\" stroke=\"black\" cx=\"87.53\" cy=\"-174.02\" rx=\"51.74\" ry=\"18.27\"/>\n<text text-anchor=\"middle\" x=\"87.53\" y=\"-176.62\" font-family=\"Times,serif\" font-size=\"8.00\">女郎花</text>\n<text text-anchor=\"middle\" x=\"87.53\" y=\"-167.62\" font-family=\"Times,serif\" font-size=\"8.00\">(OZW)</text>\n</g>\n<!-- 6&#45;&#45;4 -->\n<g id=\"edge6\" class=\"edge\">\n<title>6--4</title>\n<path fill=\"none\" stroke=\"black\" d=\"M98.95,-192.15C101.18,-195.69 103.52,-199.4 105.75,-202.94\"/>\n<text text-anchor=\"middle\" x=\"100.35\" y=\"-200.15\" font-family=\"Times,serif\" font-size=\"8.00\">3</text>\n</g>\n<!-- 7 -->\n<g id=\"node8\" class=\"node\">\n<title>7</title>\n<ellipse fill=\"lightgrey\" stroke=\"black\" cx=\"176.76\" cy=\"-278.57\" rx=\"51.74\" ry=\"18.27\"/>\n<text text-anchor=\"middle\" x=\"176.76\" y=\"-281.17\" font-family=\"Times,serif\" font-size=\"8.00\">女郎花</text>\n<text text-anchor=\"middle\" x=\"176.76\" y=\"-272.17\" font-family=\"Times,serif\" font-size=\"8.00\">(OKMR)</text>\n</g>\n<!-- 7&#45;&#45;4 -->\n<g id=\"edge7\" class=\"edge\">\n<title>7--4</title>\n<path fill=\"none\" stroke=\"black\" d=\"M158.6,-261.06C151.49,-254.22 143.34,-246.36 136.17,-239.45\"/>\n<text text-anchor=\"middle\" x=\"145.38\" y=\"-252.86\" font-family=\"Times,serif\" font-size=\"8.00\">2</text>\n</g>\n<!-- 8 -->\n<g id=\"node9\" class=\"node\">\n<title>8</title>\n<ellipse fill=\"lightgrey\" stroke=\"black\" cx=\"135.14\" cy=\"-99.73\" rx=\"51.74\" ry=\"18.27\"/>\n<text text-anchor=\"middle\" x=\"135.14\" y=\"-102.33\" font-family=\"Times,serif\" font-size=\"8.00\">女郎花</text>\n<text text-anchor=\"middle\" x=\"135.14\" y=\"-93.33\" font-family=\"Times,serif\" font-size=\"8.00\">(KBT)</text>\n</g>\n<!-- 9 -->\n<g id=\"node10\" class=\"node\">\n<title>9</title>\n<polygon fill=\"lightyellow\" stroke=\"black\" points=\"186.2,-80.91 137.2,-80.91 137.2,-44.91 186.2,-44.91 186.2,-80.91\"/>\n<text text-anchor=\"middle\" x=\"161.7\" y=\"-58.93\" font-family=\"Times,serif\" font-size=\"14.98\">None</text>\n</g>\n<!-- 9&#45;&#45;0 -->\n<g id=\"edge11\" class=\"edge\">\n<title>9--0</title>\n<path fill=\"none\" stroke=\"black\" d=\"M149.05,-81.03C139.61,-94.56 126.76,-112.96 117.32,-126.48\"/>\n<text text-anchor=\"middle\" x=\"131.19\" y=\"-106.35\" font-family=\"Times,serif\" font-size=\"8.00\">1</text>\n</g>\n<!-- 9&#45;&#45;5 -->\n<g id=\"edge9\" class=\"edge\">\n<title>9--5</title>\n<path fill=\"none\" stroke=\"black\" d=\"M169.22,-81.08C174.99,-95.03 182.93,-114.21 188.72,-128.22\"/>\n<text text-anchor=\"middle\" x=\"176.97\" y=\"-107.25\" font-family=\"Times,serif\" font-size=\"8.00\">3</text>\n</g>\n<!-- 9&#45;&#45;8 -->\n<g id=\"edge8\" class=\"edge\">\n<title>9--8</title>\n<path fill=\"none\" stroke=\"black\" d=\"M148.42,-81.32C148.32,-81.46 148.21,-81.61 148.11,-81.75\"/>\n<text text-anchor=\"middle\" x=\"146.26\" y=\"-75.14\" font-family=\"Times,serif\" font-size=\"8.00\">6</text>\n</g>\n<!-- 10 -->\n<g id=\"node11\" class=\"node\">\n<title>10</title>\n<ellipse fill=\"lightgrey\" stroke=\"black\" cx=\"216.67\" cy=\"-21.91\" rx=\"51.74\" ry=\"18.27\"/>\n<text text-anchor=\"middle\" x=\"216.67\" y=\"-24.51\" font-family=\"Times,serif\" font-size=\"8.00\">女郎花</text>\n<text text-anchor=\"middle\" x=\"216.67\" y=\"-15.51\" font-family=\"Times,serif\" font-size=\"8.00\">(MTD)</text>\n</g>\n<!-- 10&#45;&#45;9 -->\n<g id=\"edge10\" class=\"edge\">\n<title>10--9</title>\n<path fill=\"none\" stroke=\"black\" d=\"M194.31,-38.59C191.58,-40.63 188.77,-42.72 186.01,-44.78\"/>\n<text text-anchor=\"middle\" x=\"188.16\" y=\"-44.28\" font-family=\"Times,serif\" font-size=\"8.00\">3</text>\n</g>\n<!-- 11 -->\n<g id=\"node12\" class=\"node\">\n<title>11</title>\n<polygon fill=\"none\" stroke=\"black\" points=\"41,-197.28 0,-197.28 0,-161.28 41,-161.28 41,-197.28\"/>\n<text text-anchor=\"middle\" x=\"20.5\" y=\"-176.49\" font-family=\"Times,serif\" font-size=\"10.99\">None</text>\n</g>\n<!-- 11&#45;&#45;0 -->\n<g id=\"edge12\" class=\"edge\">\n<title>11--0</title>\n<path fill=\"none\" stroke=\"black\" d=\"M41.31,-170.69C50.18,-167.04 60.75,-162.68 70.7,-158.57\"/>\n<text text-anchor=\"middle\" x=\"54.01\" y=\"-167.23\" font-family=\"Times,serif\" font-size=\"8.00\">1</text>\n</g>\n<!-- 11&#45;&#45;6 -->\n<g id=\"edge13\" class=\"edge\">\n<title>11--6</title>\n<path fill=\"none\" stroke=\"black\" d=\"M41.34,-177.65C41.49,-177.63 41.65,-177.62 41.8,-177.61\"/>\n<text text-anchor=\"middle\" x=\"43.57\" y=\"-180.23\" font-family=\"Times,serif\" font-size=\"8.00\">1</text>\n</g>\n<!-- 12 -->\n<g id=\"node13\" class=\"node\">\n<title>12</title>\n<ellipse fill=\"lightgrey\" stroke=\"black\" cx=\"242.52\" cy=\"-168.89\" rx=\"51.74\" ry=\"18.27\"/>\n<text text-anchor=\"middle\" x=\"242.52\" y=\"-171.49\" font-family=\"Times,serif\" font-size=\"8.00\">女郎花</text>\n<text text-anchor=\"middle\" x=\"242.52\" y=\"-162.49\" font-family=\"Times,serif\" font-size=\"8.00\">(KNK)</text>\n</g>\n<!-- 13 -->\n<g id=\"node14\" class=\"node\">\n<title>13</title>\n<polygon fill=\"none\" stroke=\"black\" points=\"342.23,-205.3 303.23,-205.3 303.23,-169.3 342.23,-169.3 342.23,-205.3\"/>\n<text text-anchor=\"middle\" x=\"322.73\" y=\"-184.49\" font-family=\"Times,serif\" font-size=\"10.40\">None</text>\n</g>\n<!-- 13&#45;&#45;12 -->\n<g id=\"edge14\" class=\"edge\">\n<title>13--12</title>\n<path fill=\"none\" stroke=\"black\" d=\"M302.91,-182.75C297.71,-181.56 291.9,-180.23 285.99,-178.87\"/>\n<text text-anchor=\"middle\" x=\"296.45\" y=\"-183.41\" font-family=\"Times,serif\" font-size=\"8.00\">1</text>\n</g>\n<!-- 14 -->\n<g id=\"node15\" class=\"node\">\n<title>14</title>\n<polygon fill=\"lightyellow\" stroke=\"black\" points=\"184.92,-215.79 137.92,-215.79 137.92,-179.79 184.92,-179.79 184.92,-215.79\"/>\n<text text-anchor=\"middle\" x=\"161.42\" y=\"-194.46\" font-family=\"Times,serif\" font-size=\"14.17\">None</text>\n</g>\n<!-- 14&#45;&#45;3 -->\n<g id=\"edge19\" class=\"edge\">\n<title>14--3</title>\n<path fill=\"none\" stroke=\"black\" d=\"M154.04,-215.9C148.76,-228.87 141.67,-246.27 136.37,-259.28\"/>\n<text text-anchor=\"middle\" x=\"147.2\" y=\"-240.19\" font-family=\"Times,serif\" font-size=\"8.00\">1</text>\n</g>\n<!-- 14&#45;&#45;6 -->\n<g id=\"edge17\" class=\"edge\">\n<title>14--6</title>\n<path fill=\"none\" stroke=\"black\" d=\"M137.63,-190.14C133.92,-188.95 130,-187.69 126.06,-186.42\"/>\n<text text-anchor=\"middle\" x=\"129.85\" y=\"-190.88\" font-family=\"Times,serif\" font-size=\"8.00\">2</text>\n</g>\n<!-- 14&#45;&#45;7 -->\n<g id=\"edge16\" class=\"edge\">\n<title>14--7</title>\n<path fill=\"none\" stroke=\"black\" d=\"M164.9,-216.12C167.39,-229.25 170.74,-246.86 173.24,-260.04\"/>\n<text text-anchor=\"middle\" x=\"167.07\" y=\"-240.68\" font-family=\"Times,serif\" font-size=\"8.00\">2</text>\n</g>\n<!-- 14&#45;&#45;8 -->\n<g id=\"edge15\" class=\"edge\">\n<title>14--8</title>\n<path fill=\"none\" stroke=\"black\" d=\"M156.47,-179.35C151.78,-161.82 144.75,-135.6 140.06,-118.09\"/>\n<text text-anchor=\"middle\" x=\"146.27\" y=\"-151.32\" font-family=\"Times,serif\" font-size=\"8.00\">4</text>\n</g>\n<!-- 14&#45;&#45;12 -->\n<g id=\"edge18\" class=\"edge\">\n<title>14--12</title>\n<path fill=\"none\" stroke=\"black\" d=\"M185.31,-189.28C191.76,-186.98 198.89,-184.44 205.86,-181.95\"/>\n<text text-anchor=\"middle\" x=\"193.59\" y=\"-188.22\" font-family=\"Times,serif\" font-size=\"8.00\">1</text>\n</g>\n<!-- 15 -->\n<g id=\"node16\" class=\"node\">\n<title>15</title>\n<polygon fill=\"lightyellow\" stroke=\"black\" points=\"272.06,-118.52 225.06,-118.52 225.06,-82.52 272.06,-82.52 272.06,-118.52\"/>\n<text text-anchor=\"middle\" x=\"248.56\" y=\"-97.19\" font-family=\"Times,serif\" font-size=\"14.17\">None</text>\n</g>\n<!-- 15&#45;&#45;5 -->\n<g id=\"edge21\" class=\"edge\">\n<title>15--5</title>\n<path fill=\"none\" stroke=\"black\" d=\"M227.92,-118.75C223.93,-122.27 219.76,-125.95 215.81,-129.44\"/>\n<text text-anchor=\"middle\" x=\"219.87\" y=\"-117.7\" font-family=\"Times,serif\" font-size=\"8.00\">3</text>\n</g>\n<!-- 15&#45;&#45;8 -->\n<g id=\"edge20\" class=\"edge\">\n<title>15--8</title>\n<path fill=\"none\" stroke=\"black\" d=\"M225.06,-100.36C214.03,-100.28 200.41,-100.18 187.14,-100.09\"/>\n<text text-anchor=\"middle\" x=\"204.1\" y=\"-102.82\" font-family=\"Times,serif\" font-size=\"8.00\">5</text>\n</g>\n<!-- 15&#45;&#45;12 -->\n<g id=\"edge22\" class=\"edge\">\n<title>15--12</title>\n<path fill=\"none\" stroke=\"black\" d=\"M246.94,-118.84C246.09,-128.49 245.05,-140.31 244.19,-150.04\"/>\n<text text-anchor=\"middle\" x=\"247.56\" y=\"-128.04\" font-family=\"Times,serif\" font-size=\"8.00\">2</text>\n</g>\n<!-- 16 -->\n<g id=\"node17\" class=\"node\">\n<title>16</title>\n<polygon fill=\"lightyellow\" stroke=\"black\" points=\"198.7,-119.59 145.7,-119.59 145.7,-83.59 198.7,-83.59 198.7,-119.59\"/>\n<text text-anchor=\"middle\" x=\"172.2\" y=\"-97.36\" font-family=\"Times,serif\" font-size=\"17.17\">None</text>\n</g>\n<!-- 16&#45;&#45;0 -->\n<g id=\"edge27\" class=\"edge\">\n<title>16--0</title>\n<path fill=\"none\" stroke=\"black\" d=\"M145.52,-118.57C140.51,-121.76 135.28,-125.08 130.3,-128.25\"/>\n<text text-anchor=\"middle\" x=\"135.91\" y=\"-117.01\" font-family=\"Times,serif\" font-size=\"8.00\">1</text>\n</g>\n<!-- 16&#45;&#45;2 -->\n<g id=\"edge29\" class=\"edge\">\n<title>16--2</title>\n<path fill=\"none\" stroke=\"black\" d=\"M158.58,-83.52C149.42,-71.36 137.4,-55.4 128.26,-43.27\"/>\n<text text-anchor=\"middle\" x=\"141.42\" y=\"-65.99\" font-family=\"Times,serif\" font-size=\"8.00\">1</text>\n</g>\n<!-- 16&#45;&#45;5 -->\n<g id=\"edge24\" class=\"edge\">\n<title>16--5</title>\n<path fill=\"none\" stroke=\"black\" d=\"M181.88,-119.65C183.45,-122.59 185.09,-125.63 186.66,-128.57\"/>\n<text text-anchor=\"middle\" x=\"182.27\" y=\"-126.71\" font-family=\"Times,serif\" font-size=\"8.00\">4</text>\n</g>\n<!-- 16&#45;&#45;6 -->\n<g id=\"edge28\" class=\"edge\">\n<title>16--6</title>\n<path fill=\"none\" stroke=\"black\" d=\"M150.83,-119.87C137.51,-131.27 120.47,-145.84 107.43,-156.99\"/>\n<text text-anchor=\"middle\" x=\"127.13\" y=\"-141.03\" font-family=\"Times,serif\" font-size=\"8.00\">1</text>\n</g>\n<!-- 16&#45;&#45;8 -->\n<g id=\"edge25\" class=\"edge\">\n<title>16--8</title>\n<path fill=\"none\" stroke=\"black\" d=\"M145.66,-100.26C145.57,-100.25 145.47,-100.25 145.38,-100.24\"/>\n<text text-anchor=\"middle\" x=\"143.52\" y=\"-102.85\" font-family=\"Times,serif\" font-size=\"8.00\">4</text>\n</g>\n<!-- 16&#45;&#45;10 -->\n<g id=\"edge26\" class=\"edge\">\n<title>16--10</title>\n<path fill=\"none\" stroke=\"black\" d=\"M182.29,-83.51C189.51,-70.56 199.21,-53.19 206.46,-40.2\"/>\n<text text-anchor=\"middle\" x=\"192.37\" y=\"-64.45\" font-family=\"Times,serif\" font-size=\"8.00\">2</text>\n</g>\n<!-- 16&#45;&#45;12 -->\n<g id=\"edge23\" class=\"edge\">\n<title>16--12</title>\n<path fill=\"none\" stroke=\"black\" d=\"M191.04,-119.63C201.3,-129.44 213.93,-141.53 224.11,-151.27\"/>\n<text text-anchor=\"middle\" x=\"203.58\" y=\"-129.05\" font-family=\"Times,serif\" font-size=\"8.00\">11</text>\n</g>\n<!-- 17 -->\n<g id=\"node18\" class=\"node\">\n<title>17</title>\n<polygon fill=\"lightyellow\" stroke=\"black\" points=\"211.07,-241.43 166.07,-241.43 166.07,-205.43 211.07,-205.43 211.07,-241.43\"/>\n<text text-anchor=\"middle\" x=\"188.57\" y=\"-220.17\" font-family=\"Times,serif\" font-size=\"12.82\">None</text>\n</g>\n<!-- 17&#45;&#45;0 -->\n<g id=\"edge31\" class=\"edge\">\n<title>17--0</title>\n<path fill=\"none\" stroke=\"black\" d=\"M169.12,-205.13C155.28,-192.11 136.8,-174.73 123.19,-161.93\"/>\n<text text-anchor=\"middle\" x=\"144.15\" y=\"-177.13\" font-family=\"Times,serif\" font-size=\"8.00\">2</text>\n</g>\n<!-- 17&#45;&#45;3 -->\n<g id=\"edge32\" class=\"edge\">\n<title>17--3</title>\n<path fill=\"none\" stroke=\"black\" d=\"M168.7,-241.46C162.06,-247.49 154.67,-254.2 148.08,-260.19\"/>\n<text text-anchor=\"middle\" x=\"156.39\" y=\"-253.42\" font-family=\"Times,serif\" font-size=\"8.00\">1</text>\n</g>\n<!-- 17&#45;&#45;7 -->\n<g id=\"edge33\" class=\"edge\">\n<title>17--7</title>\n<path fill=\"none\" stroke=\"black\" d=\"M184.7,-241.48C183.44,-247.39 182.03,-253.96 180.76,-259.91\"/>\n<text text-anchor=\"middle\" x=\"180.73\" y=\"-253.3\" font-family=\"Times,serif\" font-size=\"8.00\">1</text>\n</g>\n<!-- 17&#45;&#45;12 -->\n<g id=\"edge30\" class=\"edge\">\n<title>17--12</title>\n<path fill=\"none\" stroke=\"black\" d=\"M206.53,-205.27C212.54,-199.19 219.22,-192.44 225.18,-186.41\"/>\n<text text-anchor=\"middle\" x=\"213.86\" y=\"-198.44\" font-family=\"Times,serif\" font-size=\"8.00\">2</text>\n</g>\n<!-- 18 -->\n<g id=\"node19\" class=\"node\">\n<title>18</title>\n<polygon fill=\"none\" stroke=\"black\" points=\"90.15,-36 49.15,-36 49.15,0 90.15,0 90.15,-36\"/>\n<text text-anchor=\"middle\" x=\"69.65\" y=\"-15.21\" font-family=\"Times,serif\" font-size=\"10.99\">None</text>\n</g>\n<!-- 18&#45;&#45;2 -->\n<g id=\"edge35\" class=\"edge\">\n<title>18--2</title>\n<path fill=\"none\" stroke=\"black\" d=\"M90.35,-21.36C90.44,-21.38 90.53,-21.39 90.63,-21.41\"/>\n<text text-anchor=\"middle\" x=\"92.49\" y=\"-23.99\" font-family=\"Times,serif\" font-size=\"8.00\">1</text>\n</g>\n<!-- 18&#45;&#45;8 -->\n<g id=\"edge34\" class=\"edge\">\n<title>18--8</title>\n<path fill=\"none\" stroke=\"black\" d=\"M84.19,-36.14C95.11,-49.78 110.01,-68.37 120.87,-81.92\"/>\n<text text-anchor=\"middle\" x=\"100.53\" y=\"-61.63\" font-family=\"Times,serif\" font-size=\"8.00\">1</text>\n</g>\n</g>\n</svg>"
          },
          "metadata": {}
        }
      ]
    },
    {
      "cell_type": "markdown",
      "source": [
        "#### 3.2.3 | *Kiku*, en. chrysanthemum"
      ],
      "metadata": {
        "id": "p7kJ52X1dXZQ"
      }
    },
    {
      "cell_type": "code",
      "source": [
        "dot_viz_aggr(\"菊\")"
      ],
      "metadata": {
        "id": "yvm8B8gf-MkO",
        "colab": {
          "base_uri": "https://localhost:8080/",
          "height": 563
        },
        "outputId": "4432169e-841c-4520-bfd1-dbfcf2dcccec"
      },
      "execution_count": 23,
      "outputs": [
        {
          "output_type": "display_data",
          "data": {
            "text/plain": [
              "<IPython.core.display.SVG object>"
            ],
            "image/svg+xml": "<svg xmlns=\"http://www.w3.org/2000/svg\" xmlns:xlink=\"http://www.w3.org/1999/xlink\" width=\"355pt\" height=\"406pt\" viewBox=\"0.00 0.00 354.80 406.06\">\n<g id=\"graph0\" class=\"graph\" transform=\"scale(1 1) rotate(0) translate(4 402.06)\">\n<title>%3</title>\n<polygon fill=\"white\" stroke=\"transparent\" points=\"-4,4 -4,-402.06 350.8,-402.06 350.8,4 -4,4\"/>\n<!-- 0 -->\n<g id=\"node1\" class=\"node\">\n<title>0</title>\n<ellipse fill=\"lightgrey\" stroke=\"black\" cx=\"266.32\" cy=\"-180.49\" rx=\"33.47\" ry=\"18.27\"/>\n<text text-anchor=\"middle\" x=\"266.32\" y=\"-183.09\" font-family=\"Times,serif\" font-size=\"8.00\">菊</text>\n<text text-anchor=\"middle\" x=\"266.32\" y=\"-174.09\" font-family=\"Times,serif\" font-size=\"8.00\">(OKMR)</text>\n</g>\n<!-- 1 -->\n<g id=\"node2\" class=\"node\">\n<title>1</title>\n<polygon fill=\"none\" stroke=\"black\" points=\"338.3,-130.62 297.3,-130.62 297.3,-94.62 338.3,-94.62 338.3,-130.62\"/>\n<text text-anchor=\"middle\" x=\"317.8\" y=\"-109.83\" font-family=\"Times,serif\" font-size=\"10.99\">None</text>\n</g>\n<!-- 1&#45;&#45;0 -->\n<g id=\"edge1\" class=\"edge\">\n<title>1--0</title>\n<path fill=\"none\" stroke=\"black\" d=\"M304,-130.81C296.38,-140.86 286.96,-153.28 279.44,-163.19\"/>\n<text text-anchor=\"middle\" x=\"289.72\" y=\"-149.6\" font-family=\"Times,serif\" font-size=\"8.00\">1</text>\n</g>\n<!-- 2 -->\n<g id=\"node3\" class=\"node\">\n<title>2</title>\n<ellipse fill=\"lightgrey\" stroke=\"black\" cx=\"237.92\" cy=\"-114.06\" rx=\"28.98\" ry=\"18.27\"/>\n<text text-anchor=\"middle\" x=\"237.92\" y=\"-116.66\" font-family=\"Times,serif\" font-size=\"8.00\">菊</text>\n<text text-anchor=\"middle\" x=\"237.92\" y=\"-107.66\" font-family=\"Times,serif\" font-size=\"8.00\">(OZW)</text>\n</g>\n<!-- 2&#45;&#45;1 -->\n<g id=\"edge2\" class=\"edge\">\n<title>2--1</title>\n<path fill=\"none\" stroke=\"black\" d=\"M267.21,-113.53C277.18,-113.35 288.11,-113.16 297.25,-112.99\"/>\n<text text-anchor=\"middle\" x=\"280.23\" y=\"-115.86\" font-family=\"Times,serif\" font-size=\"8.00\">1</text>\n</g>\n<!-- 3 -->\n<g id=\"node4\" class=\"node\">\n<title>3</title>\n<polygon fill=\"none\" stroke=\"black\" points=\"250.12,-38.12 211.12,-38.12 211.12,-2.12 250.12,-2.12 250.12,-38.12\"/>\n<text text-anchor=\"middle\" x=\"230.62\" y=\"-17.31\" font-family=\"Times,serif\" font-size=\"10.40\">None</text>\n</g>\n<!-- 3&#45;&#45;2 -->\n<g id=\"edge3\" class=\"edge\">\n<title>3--2</title>\n<path fill=\"none\" stroke=\"black\" d=\"M232.03,-38.24C233.31,-54.76 235.2,-79.08 236.49,-95.69\"/>\n<text text-anchor=\"middle\" x=\"232.26\" y=\"-69.56\" font-family=\"Times,serif\" font-size=\"8.00\">1</text>\n</g>\n<!-- 4 -->\n<g id=\"node5\" class=\"node\">\n<title>4</title>\n<ellipse fill=\"lightgrey\" stroke=\"black\" cx=\"158.73\" cy=\"-293.37\" rx=\"28.98\" ry=\"18.27\"/>\n<text text-anchor=\"middle\" x=\"158.73\" y=\"-295.97\" font-family=\"Times,serif\" font-size=\"8.00\">菊</text>\n<text text-anchor=\"middle\" x=\"158.73\" y=\"-286.97\" font-family=\"Times,serif\" font-size=\"8.00\">(K&amp;A)</text>\n</g>\n<!-- 5 -->\n<g id=\"node6\" class=\"node\">\n<title>5</title>\n<polygon fill=\"none\" stroke=\"black\" points=\"164.52,-398.06 125.52,-398.06 125.52,-362.06 164.52,-362.06 164.52,-398.06\"/>\n<text text-anchor=\"middle\" x=\"145.02\" y=\"-377.24\" font-family=\"Times,serif\" font-size=\"10.40\">None</text>\n</g>\n<!-- 5&#45;&#45;4 -->\n<g id=\"edge4\" class=\"edge\">\n<title>5--4</title>\n<path fill=\"none\" stroke=\"black\" d=\"M147.93,-361.67C150.26,-346.96 153.5,-326.43 155.83,-311.72\"/>\n<text text-anchor=\"middle\" x=\"149.88\" y=\"-339.3\" font-family=\"Times,serif\" font-size=\"8.00\">1</text>\n</g>\n<!-- 6 -->\n<g id=\"node7\" class=\"node\">\n<title>6</title>\n<ellipse fill=\"lightgrey\" stroke=\"black\" cx=\"123.72\" cy=\"-103.33\" rx=\"28.98\" ry=\"18.27\"/>\n<text text-anchor=\"middle\" x=\"123.72\" y=\"-105.93\" font-family=\"Times,serif\" font-size=\"8.00\">菊</text>\n<text text-anchor=\"middle\" x=\"123.72\" y=\"-96.93\" font-family=\"Times,serif\" font-size=\"8.00\">(KNK)</text>\n</g>\n<!-- 7 -->\n<g id=\"node8\" class=\"node\">\n<title>7</title>\n<polygon fill=\"lightyellow\" stroke=\"black\" points=\"181.06,-82.63 139.06,-82.63 139.06,-46.63 181.06,-46.63 181.06,-82.63\"/>\n<text text-anchor=\"middle\" x=\"160.06\" y=\"-61.92\" font-family=\"Times,serif\" font-size=\"11.51\">None</text>\n</g>\n<!-- 7&#45;&#45;2 -->\n<g id=\"edge7\" class=\"edge\">\n<title>7--2</title>\n<path fill=\"none\" stroke=\"black\" d=\"M181.34,-78.14C192.51,-85.23 206.13,-93.88 217.21,-100.91\"/>\n<text text-anchor=\"middle\" x=\"197.28\" y=\"-92.13\" font-family=\"Times,serif\" font-size=\"8.00\">1</text>\n</g>\n<!-- 7&#45;&#45;6 -->\n<g id=\"edge5\" class=\"edge\">\n<title>7--6</title>\n<path fill=\"none\" stroke=\"black\" d=\"M142.75,-83.07C141.43,-84.47 140.11,-85.88 138.81,-87.27\"/>\n<text text-anchor=\"middle\" x=\"138.78\" y=\"-78.77\" font-family=\"Times,serif\" font-size=\"8.00\">1</text>\n</g>\n<!-- 8 -->\n<g id=\"node9\" class=\"node\">\n<title>8</title>\n<ellipse fill=\"lightgrey\" stroke=\"black\" cx=\"113.2\" cy=\"-162.14\" rx=\"28.98\" ry=\"18.27\"/>\n<text text-anchor=\"middle\" x=\"113.2\" y=\"-164.74\" font-family=\"Times,serif\" font-size=\"8.00\">菊</text>\n<text text-anchor=\"middle\" x=\"113.2\" y=\"-155.74\" font-family=\"Times,serif\" font-size=\"8.00\">(MTD)</text>\n</g>\n<!-- 8&#45;&#45;7 -->\n<g id=\"edge6\" class=\"edge\">\n<title>8--7</title>\n<path fill=\"none\" stroke=\"black\" d=\"M121.79,-144.25C130.2,-126.77 142.92,-100.29 151.36,-82.73\"/>\n<text text-anchor=\"middle\" x=\"134.58\" y=\"-107.09\" font-family=\"Times,serif\" font-size=\"8.00\">1</text>\n</g>\n<!-- 9 -->\n<g id=\"node10\" class=\"node\">\n<title>9</title>\n<polygon fill=\"none\" stroke=\"black\" points=\"109.16,-36 68.16,-36 68.16,0 109.16,0 109.16,-36\"/>\n<text text-anchor=\"middle\" x=\"88.66\" y=\"-15.21\" font-family=\"Times,serif\" font-size=\"10.99\">None</text>\n</g>\n<!-- 9&#45;&#45;6 -->\n<g id=\"edge8\" class=\"edge\">\n<title>9--6</title>\n<path fill=\"none\" stroke=\"black\" d=\"M96.1,-36.1C102.05,-50.58 110.35,-70.78 116.3,-85.26\"/>\n<text text-anchor=\"middle\" x=\"104.2\" y=\"-63.28\" font-family=\"Times,serif\" font-size=\"8.00\">2</text>\n</g>\n<!-- 10 -->\n<g id=\"node11\" class=\"node\">\n<title>10</title>\n<ellipse fill=\"lightgrey\" stroke=\"black\" cx=\"106.22\" cy=\"-226.11\" rx=\"31.64\" ry=\"18.27\"/>\n<text text-anchor=\"middle\" x=\"106.22\" y=\"-228.71\" font-family=\"Times,serif\" font-size=\"8.00\">菊</text>\n<text text-anchor=\"middle\" x=\"106.22\" y=\"-219.71\" font-family=\"Times,serif\" font-size=\"8.00\">(KTGR)</text>\n</g>\n<!-- 11 -->\n<g id=\"node12\" class=\"node\">\n<title>11</title>\n<polygon fill=\"none\" stroke=\"black\" points=\"39,-269.38 0,-269.38 0,-233.38 39,-233.38 39,-269.38\"/>\n<text text-anchor=\"middle\" x=\"19.5\" y=\"-248.56\" font-family=\"Times,serif\" font-size=\"10.40\">None</text>\n</g>\n<!-- 11&#45;&#45;10 -->\n<g id=\"edge9\" class=\"edge\">\n<title>11--10</title>\n<path fill=\"none\" stroke=\"black\" d=\"M39.18,-245.65C50.57,-242.33 65.12,-238.09 77.74,-234.41\"/>\n<text text-anchor=\"middle\" x=\"56.46\" y=\"-242.63\" font-family=\"Times,serif\" font-size=\"8.00\">1</text>\n</g>\n<!-- 12 -->\n<g id=\"node13\" class=\"node\">\n<title>12</title>\n<polygon fill=\"lightyellow\" stroke=\"black\" points=\"222.05,-109.46 180.05,-109.46 180.05,-73.46 222.05,-73.46 222.05,-109.46\"/>\n<text text-anchor=\"middle\" x=\"201.05\" y=\"-88.75\" font-family=\"Times,serif\" font-size=\"11.51\">None</text>\n</g>\n<!-- 12&#45;&#45;2 -->\n<g id=\"edge12\" class=\"edge\">\n<title>12--2</title>\n<path fill=\"none\" stroke=\"black\" d=\"M222.07,-104.35C222.2,-104.43 222.33,-104.5 222.46,-104.58\"/>\n<text text-anchor=\"middle\" x=\"224.26\" y=\"-107.06\" font-family=\"Times,serif\" font-size=\"8.00\">1</text>\n</g>\n<!-- 12&#45;&#45;6 -->\n<g id=\"edge10\" class=\"edge\">\n<title>12--6</title>\n<path fill=\"none\" stroke=\"black\" d=\"M179.92,-94.7C171.34,-96.02 161.29,-97.56 152.08,-98.98\"/>\n<text text-anchor=\"middle\" x=\"164\" y=\"-99.44\" font-family=\"Times,serif\" font-size=\"8.00\">1</text>\n</g>\n<!-- 13 -->\n<g id=\"node14\" class=\"node\">\n<title>13</title>\n<ellipse fill=\"lightgrey\" stroke=\"black\" cx=\"228.6\" cy=\"-214.27\" rx=\"25.41\" ry=\"18.27\"/>\n<text text-anchor=\"middle\" x=\"228.6\" y=\"-216.87\" font-family=\"Times,serif\" font-size=\"8.00\">菊</text>\n<text text-anchor=\"middle\" x=\"228.6\" y=\"-207.87\" font-family=\"Times,serif\" font-size=\"8.00\">(KSJ)</text>\n</g>\n<!-- 13&#45;&#45;12 -->\n<g id=\"edge11\" class=\"edge\">\n<title>13--12</title>\n<path fill=\"none\" stroke=\"black\" d=\"M224.48,-195.88C219.25,-172.6 210.31,-132.73 205.11,-109.57\"/>\n<text text-anchor=\"middle\" x=\"212.8\" y=\"-155.33\" font-family=\"Times,serif\" font-size=\"8.00\">1</text>\n</g>\n<!-- 14 -->\n<g id=\"node15\" class=\"node\">\n<title>14</title>\n<ellipse fill=\"lightgrey\" stroke=\"black\" cx=\"198.42\" cy=\"-263.75\" rx=\"27.65\" ry=\"18.27\"/>\n<text text-anchor=\"middle\" x=\"198.42\" y=\"-266.35\" font-family=\"Times,serif\" font-size=\"8.00\">菊</text>\n<text text-anchor=\"middle\" x=\"198.42\" y=\"-257.35\" font-family=\"Times,serif\" font-size=\"8.00\">(KBT)</text>\n</g>\n<!-- 15 -->\n<g id=\"node16\" class=\"node\">\n<title>15</title>\n<polygon fill=\"lightyellow\" stroke=\"black\" points=\"152.1,-265.69 110.1,-265.69 110.1,-229.69 152.1,-229.69 152.1,-265.69\"/>\n<text text-anchor=\"middle\" x=\"131.1\" y=\"-244.98\" font-family=\"Times,serif\" font-size=\"11.51\">None</text>\n</g>\n<!-- 15&#45;&#45;8 -->\n<g id=\"edge15\" class=\"edge\">\n<title>15--8</title>\n<path fill=\"none\" stroke=\"black\" d=\"M127.3,-229.55C124.28,-215.13 120.08,-195.04 117.05,-180.55\"/>\n<text text-anchor=\"middle\" x=\"120.17\" y=\"-198.65\" font-family=\"Times,serif\" font-size=\"8.00\">1</text>\n</g>\n<!-- 15&#45;&#45;13 -->\n<g id=\"edge14\" class=\"edge\">\n<title>15--13</title>\n<path fill=\"none\" stroke=\"black\" d=\"M152.25,-240.44C167.94,-235.06 189.3,-227.74 205.44,-222.21\"/>\n<text text-anchor=\"middle\" x=\"176.85\" y=\"-233.92\" font-family=\"Times,serif\" font-size=\"8.00\">1</text>\n</g>\n<!-- 15&#45;&#45;14 -->\n<g id=\"edge13\" class=\"edge\">\n<title>15--14</title>\n<path fill=\"none\" stroke=\"black\" d=\"M152.4,-252.77C158.71,-254.28 165.71,-255.95 172.29,-257.52\"/>\n<text text-anchor=\"middle\" x=\"160.35\" y=\"-257.75\" font-family=\"Times,serif\" font-size=\"8.00\">1</text>\n</g>\n<!-- 16 -->\n<g id=\"node17\" class=\"node\">\n<title>16</title>\n<polygon fill=\"none\" stroke=\"black\" points=\"79.23,-107.29 38.23,-107.29 38.23,-71.29 79.23,-71.29 79.23,-107.29\"/>\n<text text-anchor=\"middle\" x=\"58.73\" y=\"-86.5\" font-family=\"Times,serif\" font-size=\"10.99\">None</text>\n</g>\n<!-- 16&#45;&#45;6 -->\n<g id=\"edge16\" class=\"edge\">\n<title>16--6</title>\n<path fill=\"none\" stroke=\"black\" d=\"M79.3,-93.73C84.65,-94.89 90.51,-96.15 96.16,-97.37\"/>\n<text text-anchor=\"middle\" x=\"85.73\" y=\"-98.15\" font-family=\"Times,serif\" font-size=\"8.00\">1</text>\n</g>\n<!-- 16&#45;&#45;8 -->\n<g id=\"edge17\" class=\"edge\">\n<title>16--8</title>\n<path fill=\"none\" stroke=\"black\" d=\"M72.2,-107.3C80.89,-118.92 92.12,-133.95 100.63,-145.33\"/>\n<text text-anchor=\"middle\" x=\"84.41\" y=\"-128.91\" font-family=\"Times,serif\" font-size=\"8.00\">1</text>\n</g>\n<!-- 17 -->\n<g id=\"node18\" class=\"node\">\n<title>17</title>\n<polygon fill=\"none\" stroke=\"black\" points=\"252.91,-369.11 213.91,-369.11 213.91,-333.11 252.91,-333.11 252.91,-369.11\"/>\n<text text-anchor=\"middle\" x=\"233.41\" y=\"-348.3\" font-family=\"Times,serif\" font-size=\"10.40\">None</text>\n</g>\n<!-- 17&#45;&#45;14 -->\n<g id=\"edge18\" class=\"edge\">\n<title>17--14</title>\n<path fill=\"none\" stroke=\"black\" d=\"M226.16,-333.01C220.11,-317.92 211.55,-296.53 205.54,-281.53\"/>\n<text text-anchor=\"middle\" x=\"213.85\" y=\"-309.87\" font-family=\"Times,serif\" font-size=\"8.00\">1</text>\n</g>\n<!-- 18 -->\n<g id=\"node19\" class=\"node\">\n<title>18</title>\n<polygon fill=\"none\" stroke=\"black\" points=\"41.46,-199.14 2.46,-199.14 2.46,-163.14 41.46,-163.14 41.46,-199.14\"/>\n<text text-anchor=\"middle\" x=\"21.96\" y=\"-178.32\" font-family=\"Times,serif\" font-size=\"10.40\">None</text>\n</g>\n<!-- 18&#45;&#45;8 -->\n<g id=\"edge19\" class=\"edge\">\n<title>18--8</title>\n<path fill=\"none\" stroke=\"black\" d=\"M41.76,-177.02C54.54,-174.35 71.37,-170.85 85.48,-167.91\"/>\n<text text-anchor=\"middle\" x=\"61.62\" y=\"-175.06\" font-family=\"Times,serif\" font-size=\"8.00\">1</text>\n</g>\n<!-- 19 -->\n<g id=\"node20\" class=\"node\">\n<title>19</title>\n<polygon fill=\"none\" stroke=\"black\" points=\"78.59,-324.38 39.59,-324.38 39.59,-288.38 78.59,-288.38 78.59,-324.38\"/>\n<text text-anchor=\"middle\" x=\"59.09\" y=\"-303.56\" font-family=\"Times,serif\" font-size=\"10.40\">None</text>\n</g>\n<!-- 19&#45;&#45;10 -->\n<g id=\"edge20\" class=\"edge\">\n<title>19--10</title>\n<path fill=\"none\" stroke=\"black\" d=\"M69.79,-288.16C77.61,-274.84 88.16,-256.87 95.9,-243.7\"/>\n<text text-anchor=\"middle\" x=\"80.84\" y=\"-268.53\" font-family=\"Times,serif\" font-size=\"8.00\">1</text>\n</g>\n<!-- 20 -->\n<g id=\"node21\" class=\"node\">\n<title>20</title>\n<polygon fill=\"lightyellow\" stroke=\"black\" points=\"66.5,-140.73 24.5,-140.73 24.5,-104.73 66.5,-104.73 66.5,-140.73\"/>\n<text text-anchor=\"middle\" x=\"45.5\" y=\"-120.02\" font-family=\"Times,serif\" font-size=\"11.51\">None</text>\n</g>\n<!-- 20&#45;&#45;6 -->\n<g id=\"edge22\" class=\"edge\">\n<title>20--6</title>\n<path fill=\"none\" stroke=\"black\" d=\"M66.87,-117.43C76.01,-115.16 86.79,-112.49 96.49,-110.08\"/>\n<text text-anchor=\"middle\" x=\"79.68\" y=\"-116.36\" font-family=\"Times,serif\" font-size=\"8.00\">1</text>\n</g>\n<!-- 20&#45;&#45;8 -->\n<g id=\"edge21\" class=\"edge\">\n<title>20--8</title>\n<path fill=\"none\" stroke=\"black\" d=\"M66.55,-134.98C74.46,-139.59 83.48,-144.84 91.46,-149.48\"/>\n<text text-anchor=\"middle\" x=\"77\" y=\"-144.83\" font-family=\"Times,serif\" font-size=\"8.00\">2</text>\n</g>\n<!-- 21 -->\n<g id=\"node22\" class=\"node\">\n<title>21</title>\n<polygon fill=\"none\" stroke=\"black\" points=\"292.17,-52.46 253.17,-52.46 253.17,-16.46 292.17,-16.46 292.17,-52.46\"/>\n<text text-anchor=\"middle\" x=\"272.67\" y=\"-31.65\" font-family=\"Times,serif\" font-size=\"10.40\">None</text>\n</g>\n<!-- 21&#45;&#45;2 -->\n<g id=\"edge23\" class=\"edge\">\n<title>21--2</title>\n<path fill=\"none\" stroke=\"black\" d=\"M264.78,-52.53C259.1,-65.55 251.45,-83.06 245.78,-96.07\"/>\n<text text-anchor=\"middle\" x=\"253.28\" y=\"-76.9\" font-family=\"Times,serif\" font-size=\"8.00\">1</text>\n</g>\n<!-- 22 -->\n<g id=\"node23\" class=\"node\">\n<title>22</title>\n<ellipse fill=\"lightgrey\" stroke=\"black\" cx=\"271.61\" cy=\"-208.23\" rx=\"33.47\" ry=\"18.27\"/>\n<text text-anchor=\"middle\" x=\"271.61\" y=\"-210.83\" font-family=\"Times,serif\" font-size=\"8.00\">菊</text>\n<text text-anchor=\"middle\" x=\"271.61\" y=\"-201.83\" font-family=\"Times,serif\" font-size=\"8.00\">(KMCY)</text>\n</g>\n<!-- 23 -->\n<g id=\"node24\" class=\"node\">\n<title>23</title>\n<polygon fill=\"lightyellow\" stroke=\"black\" points=\"223.53,-175.29 177.53,-175.29 177.53,-139.29 223.53,-139.29 223.53,-175.29\"/>\n<text text-anchor=\"middle\" x=\"200.53\" y=\"-153.7\" font-family=\"Times,serif\" font-size=\"13.86\">None</text>\n</g>\n<!-- 23&#45;&#45;0 -->\n<g id=\"edge29\" class=\"edge\">\n<title>23--0</title>\n<path fill=\"none\" stroke=\"black\" d=\"M223.54,-165.41C228.28,-167.08 233.33,-168.86 238.23,-170.58\"/>\n<text text-anchor=\"middle\" x=\"228.88\" y=\"-170.59\" font-family=\"Times,serif\" font-size=\"8.00\">1</text>\n</g>\n<!-- 23&#45;&#45;2 -->\n<g id=\"edge30\" class=\"edge\">\n<title>23--2</title>\n<path fill=\"none\" stroke=\"black\" d=\"M216.17,-139.21C218.73,-136.25 221.37,-133.2 223.89,-130.28\"/>\n<text text-anchor=\"middle\" x=\"222.03\" y=\"-137.35\" font-family=\"Times,serif\" font-size=\"8.00\">1</text>\n</g>\n<!-- 23&#45;&#45;6 -->\n<g id=\"edge26\" class=\"edge\">\n<title>23--6</title>\n<path fill=\"none\" stroke=\"black\" d=\"M177.49,-141.1C166.62,-133.46 153.78,-124.45 143.38,-117.14\"/>\n<text text-anchor=\"middle\" x=\"158.43\" y=\"-131.72\" font-family=\"Times,serif\" font-size=\"8.00\">1</text>\n</g>\n<!-- 23&#45;&#45;8 -->\n<g id=\"edge28\" class=\"edge\">\n<title>23--8</title>\n<path fill=\"none\" stroke=\"black\" d=\"M177.13,-158.59C166.41,-159.19 153.61,-159.89 142.29,-160.52\"/>\n<text text-anchor=\"middle\" x=\"157.71\" y=\"-162.16\" font-family=\"Times,serif\" font-size=\"8.00\">1</text>\n</g>\n<!-- 23&#45;&#45;13 -->\n<g id=\"edge27\" class=\"edge\">\n<title>23--13</title>\n<path fill=\"none\" stroke=\"black\" d=\"M209.41,-175.32C212.82,-182.23 216.69,-190.1 220.07,-196.94\"/>\n<text text-anchor=\"middle\" x=\"216.74\" y=\"-179.73\" font-family=\"Times,serif\" font-size=\"8.00\">1</text>\n</g>\n<!-- 23&#45;&#45;14 -->\n<g id=\"edge25\" class=\"edge\">\n<title>23--14</title>\n<path fill=\"none\" stroke=\"black\" d=\"M200.17,-175.35C199.79,-194.81 199.17,-225.62 198.78,-245.25\"/>\n<text text-anchor=\"middle\" x=\"197.48\" y=\"-212.9\" font-family=\"Times,serif\" font-size=\"8.00\">2</text>\n</g>\n<!-- 23&#45;&#45;22 -->\n<g id=\"edge24\" class=\"edge\">\n<title>23--22</title>\n<path fill=\"none\" stroke=\"black\" d=\"M223.8,-173.97C232.55,-180.24 242.42,-187.32 250.92,-193.41\"/>\n<text text-anchor=\"middle\" x=\"235.36\" y=\"-186.29\" font-family=\"Times,serif\" font-size=\"8.00\">2</text>\n</g>\n<!-- 24 -->\n<g id=\"node25\" class=\"node\">\n<title>24</title>\n<polygon fill=\"lightyellow\" stroke=\"black\" points=\"167.18,-150.23 125.18,-150.23 125.18,-114.23 167.18,-114.23 167.18,-150.23\"/>\n<text text-anchor=\"middle\" x=\"146.18\" y=\"-129.52\" font-family=\"Times,serif\" font-size=\"11.51\">None</text>\n</g>\n<!-- 24&#45;&#45;2 -->\n<g id=\"edge33\" class=\"edge\">\n<title>24--2</title>\n<path fill=\"none\" stroke=\"black\" d=\"M167.46,-128.02C180.16,-125.5 196.44,-122.28 210.15,-119.56\"/>\n<text text-anchor=\"middle\" x=\"186.8\" y=\"-126.39\" font-family=\"Times,serif\" font-size=\"8.00\">1</text>\n</g>\n<!-- 24&#45;&#45;6 -->\n<g id=\"edge31\" class=\"edge\">\n<title>24--6</title>\n<path fill=\"none\" stroke=\"black\" d=\"M132.09,-114.09C132.02,-114 131.95,-113.91 131.87,-113.82\"/>\n<text text-anchor=\"middle\" x=\"129.98\" y=\"-107.56\" font-family=\"Times,serif\" font-size=\"8.00\">1</text>\n</g>\n<!-- 24&#45;&#45;10 -->\n<g id=\"edge32\" class=\"edge\">\n<title>24--10</title>\n<path fill=\"none\" stroke=\"black\" d=\"M138.48,-150.34C131.4,-166.96 120.97,-191.46 113.9,-208.07\"/>\n<text text-anchor=\"middle\" x=\"124.19\" y=\"-181.8\" font-family=\"Times,serif\" font-size=\"8.00\">1</text>\n</g>\n<!-- 25 -->\n<g id=\"node26\" class=\"node\">\n<title>25</title>\n<polygon fill=\"lightyellow\" stroke=\"black\" points=\"340.57,-261.65 297.57,-261.65 297.57,-225.65 340.57,-225.65 340.57,-261.65\"/>\n<text text-anchor=\"middle\" x=\"319.07\" y=\"-240.71\" font-family=\"Times,serif\" font-size=\"12.42\">None</text>\n</g>\n<!-- 25&#45;&#45;0 -->\n<g id=\"edge36\" class=\"edge\">\n<title>25--0</title>\n<path fill=\"none\" stroke=\"black\" d=\"M303.81,-225.38C296.39,-216.49 287.52,-205.88 280.28,-197.2\"/>\n<text text-anchor=\"middle\" x=\"290.04\" y=\"-213.89\" font-family=\"Times,serif\" font-size=\"8.00\">1</text>\n</g>\n<!-- 25&#45;&#45;13 -->\n<g id=\"edge35\" class=\"edge\">\n<title>25--13</title>\n<path fill=\"none\" stroke=\"black\" d=\"M297.17,-236.54C283.47,-232.09 265.83,-226.36 251.88,-221.83\"/>\n<text text-anchor=\"middle\" x=\"272.53\" y=\"-231.79\" font-family=\"Times,serif\" font-size=\"8.00\">1</text>\n</g>\n<!-- 25&#45;&#45;22 -->\n<g id=\"edge34\" class=\"edge\">\n<title>25--22</title>\n<path fill=\"none\" stroke=\"black\" d=\"M297.56,-227.6C295.6,-226.14 293.61,-224.66 291.67,-223.2\"/>\n<text text-anchor=\"middle\" x=\"292.61\" y=\"-228\" font-family=\"Times,serif\" font-size=\"8.00\">2</text>\n</g>\n<!-- 26 -->\n<g id=\"node27\" class=\"node\">\n<title>26</title>\n<ellipse fill=\"lightgrey\" stroke=\"black\" cx=\"267.03\" cy=\"-281.51\" rx=\"32.55\" ry=\"18.27\"/>\n<text text-anchor=\"middle\" x=\"267.03\" y=\"-284.11\" font-family=\"Times,serif\" font-size=\"8.00\">菊</text>\n<text text-anchor=\"middle\" x=\"267.03\" y=\"-275.11\" font-family=\"Times,serif\" font-size=\"8.00\">(TKOK)</text>\n</g>\n<!-- 26&#45;&#45;25 -->\n<g id=\"edge37\" class=\"edge\">\n<title>26--25</title>\n<path fill=\"none\" stroke=\"black\" d=\"M287,-266.98C290.44,-264.48 294.03,-261.87 297.51,-259.34\"/>\n<text text-anchor=\"middle\" x=\"290.25\" y=\"-256.76\" font-family=\"Times,serif\" font-size=\"8.00\">1</text>\n</g>\n<!-- 27 -->\n<g id=\"node28\" class=\"node\">\n<title>27</title>\n<polygon fill=\"lightyellow\" stroke=\"black\" points=\"201.17,-206.8 151.17,-206.8 151.17,-170.8 201.17,-170.8 201.17,-206.8\"/>\n<text text-anchor=\"middle\" x=\"176.17\" y=\"-185.12\" font-family=\"Times,serif\" font-size=\"15.22\">None</text>\n</g>\n<!-- 27&#45;&#45;0 -->\n<g id=\"edge45\" class=\"edge\">\n<title>27--0</title>\n<path fill=\"none\" stroke=\"black\" d=\"M201.28,-186.48C211.18,-185.57 222.69,-184.51 233.25,-183.54\"/>\n<text text-anchor=\"middle\" x=\"219.26\" y=\"-187.61\" font-family=\"Times,serif\" font-size=\"8.00\">1</text>\n</g>\n<!-- 27&#45;&#45;2 -->\n<g id=\"edge46\" class=\"edge\">\n<title>27--2</title>\n<path fill=\"none\" stroke=\"black\" d=\"M191.12,-170.71C201.26,-158.44 214.55,-142.35 224.38,-130.46\"/>\n<text text-anchor=\"middle\" x=\"205.75\" y=\"-153.18\" font-family=\"Times,serif\" font-size=\"8.00\">1</text>\n</g>\n<!-- 27&#45;&#45;4 -->\n<g id=\"edge40\" class=\"edge\">\n<title>27--4</title>\n<path fill=\"none\" stroke=\"black\" d=\"M173.13,-207.01C169.95,-226.09 164.98,-255.88 161.79,-275.01\"/>\n<text text-anchor=\"middle\" x=\"165.46\" y=\"-243.61\" font-family=\"Times,serif\" font-size=\"8.00\">2</text>\n</g>\n<!-- 27&#45;&#45;6 -->\n<g id=\"edge39\" class=\"edge\">\n<title>27--6</title>\n<path fill=\"none\" stroke=\"black\" d=\"M165.05,-170.67C155.97,-155.87 143.22,-135.1 134.29,-120.55\"/>\n<text text-anchor=\"middle\" x=\"147.67\" y=\"-148.21\" font-family=\"Times,serif\" font-size=\"8.00\">2</text>\n</g>\n<!-- 27&#45;&#45;8 -->\n<g id=\"edge38\" class=\"edge\">\n<title>27--8</title>\n<path fill=\"none\" stroke=\"black\" d=\"M150.92,-178.11C146.54,-176.25 141.99,-174.33 137.63,-172.48\"/>\n<text text-anchor=\"middle\" x=\"146.28\" y=\"-177.9\" font-family=\"Times,serif\" font-size=\"8.00\">3</text>\n</g>\n<!-- 27&#45;&#45;10 -->\n<g id=\"edge42\" class=\"edge\">\n<title>27--10</title>\n<path fill=\"none\" stroke=\"black\" d=\"M150.92,-202.27C144.03,-205.94 136.6,-209.91 129.81,-213.53\"/>\n<text text-anchor=\"middle\" x=\"138.36\" y=\"-201.5\" font-family=\"Times,serif\" font-size=\"8.00\">1</text>\n</g>\n<!-- 27&#45;&#45;13 -->\n<g id=\"edge44\" class=\"edge\">\n<title>27--13</title>\n<path fill=\"none\" stroke=\"black\" d=\"M201.47,-201.09C203.46,-202.05 205.45,-203.02 207.41,-203.98\"/>\n<text text-anchor=\"middle\" x=\"206.44\" y=\"-205.13\" font-family=\"Times,serif\" font-size=\"8.00\">1</text>\n</g>\n<!-- 27&#45;&#45;14 -->\n<g id=\"edge41\" class=\"edge\">\n<title>27--14</title>\n<path fill=\"none\" stroke=\"black\" d=\"M181.56,-206.94C185.03,-218.64 189.53,-233.8 193,-245.52\"/>\n<text text-anchor=\"middle\" x=\"185.28\" y=\"-228.83\" font-family=\"Times,serif\" font-size=\"8.00\">2</text>\n</g>\n<!-- 27&#45;&#45;22 -->\n<g id=\"edge43\" class=\"edge\">\n<title>27--22</title>\n<path fill=\"none\" stroke=\"black\" d=\"M201.25,-193.91C213.17,-196.34 227.56,-199.26 240.21,-201.84\"/>\n<text text-anchor=\"middle\" x=\"222.73\" y=\"-191.47\" font-family=\"Times,serif\" font-size=\"8.00\">1</text>\n</g>\n<!-- 28 -->\n<g id=\"node29\" class=\"node\">\n<title>28</title>\n<polygon fill=\"none\" stroke=\"black\" points=\"327,-79.68 288,-79.68 288,-43.68 327,-43.68 327,-79.68\"/>\n<text text-anchor=\"middle\" x=\"307.5\" y=\"-58.86\" font-family=\"Times,serif\" font-size=\"10.40\">None</text>\n</g>\n<!-- 28&#45;&#45;2 -->\n<g id=\"edge47\" class=\"edge\">\n<title>28--2</title>\n<path fill=\"none\" stroke=\"black\" d=\"M287.75,-76.55C278.11,-83.81 266.56,-92.51 257,-99.7\"/>\n<text text-anchor=\"middle\" x=\"270.38\" y=\"-90.72\" font-family=\"Times,serif\" font-size=\"8.00\">1</text>\n</g>\n<!-- 29 -->\n<g id=\"node30\" class=\"node\">\n<title>29</title>\n<polygon fill=\"lightyellow\" stroke=\"black\" points=\"346.8,-164.43 304.8,-164.43 304.8,-128.43 346.8,-128.43 346.8,-164.43\"/>\n<text text-anchor=\"middle\" x=\"325.8\" y=\"-143.72\" font-family=\"Times,serif\" font-size=\"11.51\">None</text>\n</g>\n<!-- 29&#45;&#45;2 -->\n<g id=\"edge48\" class=\"edge\">\n<title>29--2</title>\n<path fill=\"none\" stroke=\"black\" d=\"M304.53,-138.6C292.03,-133.99 276.17,-128.15 263.06,-123.32\"/>\n<text text-anchor=\"middle\" x=\"281.79\" y=\"-133.56\" font-family=\"Times,serif\" font-size=\"8.00\">2</text>\n</g>\n<!-- 29&#45;&#45;22 -->\n<g id=\"edge49\" class=\"edge\">\n<title>29--22</title>\n<path fill=\"none\" stroke=\"black\" d=\"M309.83,-164.64C302.34,-173.19 293.47,-183.3 286.17,-191.63\"/>\n<text text-anchor=\"middle\" x=\"300\" y=\"-180.74\" font-family=\"Times,serif\" font-size=\"8.00\">1</text>\n</g>\n<!-- 30 -->\n<g id=\"node31\" class=\"node\">\n<title>30</title>\n<polygon fill=\"lightyellow\" stroke=\"black\" points=\"216.88,-219.66 167.88,-219.66 167.88,-183.66 216.88,-183.66 216.88,-219.66\"/>\n<text text-anchor=\"middle\" x=\"192.38\" y=\"-198.1\" font-family=\"Times,serif\" font-size=\"14.45\">None</text>\n</g>\n<!-- 30&#45;&#45;0 -->\n<g id=\"edge51\" class=\"edge\">\n<title>30--0</title>\n<path fill=\"none\" stroke=\"black\" d=\"M217,-194.61C223.3,-192.81 230.14,-190.85 236.67,-188.98\"/>\n<text text-anchor=\"middle\" x=\"228.84\" y=\"-185.4\" font-family=\"Times,serif\" font-size=\"8.00\">2</text>\n</g>\n<!-- 30&#45;&#45;2 -->\n<g id=\"edge52\" class=\"edge\">\n<title>30--2</title>\n<path fill=\"none\" stroke=\"black\" d=\"M201.82,-183.51C209.74,-168.28 220.98,-146.65 228.81,-131.59\"/>\n<text text-anchor=\"middle\" x=\"217.31\" y=\"-160.15\" font-family=\"Times,serif\" font-size=\"8.00\">2</text>\n</g>\n<!-- 30&#45;&#45;8 -->\n<g id=\"edge55\" class=\"edge\">\n<title>30--8</title>\n<path fill=\"none\" stroke=\"black\" d=\"M167.76,-189.37C157.68,-184.34 146.09,-178.55 136.18,-173.61\"/>\n<text text-anchor=\"middle\" x=\"149.97\" y=\"-184.09\" font-family=\"Times,serif\" font-size=\"8.00\">1</text>\n</g>\n<!-- 30&#45;&#45;10 -->\n<g id=\"edge53\" class=\"edge\">\n<title>30--10</title>\n<path fill=\"none\" stroke=\"black\" d=\"M167.46,-208.74C157.32,-211.61 145.54,-214.95 135.04,-217.94\"/>\n<text text-anchor=\"middle\" x=\"149.25\" y=\"-215.94\" font-family=\"Times,serif\" font-size=\"8.00\">1</text>\n</g>\n<!-- 30&#45;&#45;13 -->\n<g id=\"edge54\" class=\"edge\">\n<title>30--13</title>\n<path fill=\"none\" stroke=\"black\" d=\"M217.14,-210.28C217.24,-210.32 217.34,-210.35 217.44,-210.38\"/>\n<text text-anchor=\"middle\" x=\"219.29\" y=\"-212.93\" font-family=\"Times,serif\" font-size=\"8.00\">1</text>\n</g>\n<!-- 30&#45;&#45;14 -->\n<g id=\"edge50\" class=\"edge\">\n<title>30--14</title>\n<path fill=\"none\" stroke=\"black\" d=\"M194.16,-219.96C194.94,-227.97 195.85,-237.35 196.63,-245.38\"/>\n<text text-anchor=\"middle\" x=\"193.4\" y=\"-235.27\" font-family=\"Times,serif\" font-size=\"8.00\">3</text>\n</g>\n<!-- 30&#45;&#45;26 -->\n<g id=\"edge56\" class=\"edge\">\n<title>30--26</title>\n<path fill=\"none\" stroke=\"black\" d=\"M209.32,-219.78C222.05,-233.4 239.35,-251.91 251.68,-265.09\"/>\n<text text-anchor=\"middle\" x=\"228.5\" y=\"-245.04\" font-family=\"Times,serif\" font-size=\"8.00\">1</text>\n</g>\n</g>\n</svg>"
          },
          "metadata": {}
        }
      ]
    },
    {
      "cell_type": "markdown",
      "source": [
        "#### 3.2.4 | *Sakura*, en. cherry"
      ],
      "metadata": {
        "id": "N8GAnxIgeC4k"
      }
    },
    {
      "cell_type": "code",
      "source": [
        "dot_viz_aggr(\"桜\")"
      ],
      "metadata": {
        "id": "v74lioVp9ynh",
        "colab": {
          "base_uri": "https://localhost:8080/",
          "height": 535
        },
        "outputId": "2af62217-4a6b-4dac-acce-36ac1fd3b709"
      },
      "execution_count": 24,
      "outputs": [
        {
          "output_type": "display_data",
          "data": {
            "text/plain": [
              "<IPython.core.display.SVG object>"
            ],
            "image/svg+xml": "<svg xmlns=\"http://www.w3.org/2000/svg\" xmlns:xlink=\"http://www.w3.org/1999/xlink\" width=\"338pt\" height=\"385pt\" viewBox=\"0.00 0.00 337.70 384.88\">\n<g id=\"graph0\" class=\"graph\" transform=\"scale(1 1) rotate(0) translate(4 380.88)\">\n<title>%3</title>\n<polygon fill=\"white\" stroke=\"transparent\" points=\"-4,4 -4,-380.88 333.7,-380.88 333.7,4 -4,4\"/>\n<!-- 0 -->\n<g id=\"node1\" class=\"node\">\n<title>0</title>\n<ellipse fill=\"lightgrey\" stroke=\"black\" cx=\"153.27\" cy=\"-272.13\" rx=\"28.98\" ry=\"18.27\"/>\n<text text-anchor=\"middle\" x=\"153.27\" y=\"-274.73\" font-family=\"Times,serif\" font-size=\"8.00\">桜</text>\n<text text-anchor=\"middle\" x=\"153.27\" y=\"-265.73\" font-family=\"Times,serif\" font-size=\"8.00\">(OZW)</text>\n</g>\n<!-- 1 -->\n<g id=\"node2\" class=\"node\">\n<title>1</title>\n<polygon fill=\"none\" stroke=\"black\" points=\"230.79,-368.81 189.79,-368.81 189.79,-332.81 230.79,-332.81 230.79,-368.81\"/>\n<text text-anchor=\"middle\" x=\"210.29\" y=\"-348.02\" font-family=\"Times,serif\" font-size=\"10.99\">None</text>\n</g>\n<!-- 1&#45;&#45;0 -->\n<g id=\"edge1\" class=\"edge\">\n<title>1--0</title>\n<path fill=\"none\" stroke=\"black\" d=\"M197.07,-332.56C187.52,-319.4 174.74,-301.76 165.45,-288.93\"/>\n<text text-anchor=\"middle\" x=\"179.26\" y=\"-313.35\" font-family=\"Times,serif\" font-size=\"8.00\">2</text>\n</g>\n<!-- 2 -->\n<g id=\"node3\" class=\"node\">\n<title>2</title>\n<polygon fill=\"none\" stroke=\"black\" points=\"87.76,-334.92 48.76,-334.92 48.76,-298.92 87.76,-298.92 87.76,-334.92\"/>\n<text text-anchor=\"middle\" x=\"68.26\" y=\"-314.1\" font-family=\"Times,serif\" font-size=\"10.40\">None</text>\n</g>\n<!-- 2&#45;&#45;0 -->\n<g id=\"edge2\" class=\"edge\">\n<title>2--0</title>\n<path fill=\"none\" stroke=\"black\" d=\"M87.97,-306.53C100.82,-299.76 117.62,-290.91 130.96,-283.88\"/>\n<text text-anchor=\"middle\" x=\"107.47\" y=\"-297.8\" font-family=\"Times,serif\" font-size=\"8.00\">1</text>\n</g>\n<!-- 3 -->\n<g id=\"node4\" class=\"node\">\n<title>3</title>\n<polygon fill=\"lightyellow\" stroke=\"black\" points=\"78.07,-246.3 36.07,-246.3 36.07,-210.3 78.07,-210.3 78.07,-246.3\"/>\n<text text-anchor=\"middle\" x=\"57.07\" y=\"-225.59\" font-family=\"Times,serif\" font-size=\"11.51\">None</text>\n</g>\n<!-- 3&#45;&#45;0 -->\n<g id=\"edge3\" class=\"edge\">\n<title>3--0</title>\n<path fill=\"none\" stroke=\"black\" d=\"M78.42,-238.03C93.58,-244.94 113.95,-254.22 129.61,-261.35\"/>\n<text text-anchor=\"middle\" x=\"102.02\" y=\"-252.29\" font-family=\"Times,serif\" font-size=\"8.00\">2</text>\n</g>\n<!-- 4 -->\n<g id=\"node5\" class=\"node\">\n<title>4</title>\n<ellipse fill=\"lightgrey\" stroke=\"black\" cx=\"95.86\" cy=\"-137.22\" rx=\"28.98\" ry=\"18.27\"/>\n<text text-anchor=\"middle\" x=\"95.86\" y=\"-139.82\" font-family=\"Times,serif\" font-size=\"8.00\">桜</text>\n<text text-anchor=\"middle\" x=\"95.86\" y=\"-130.82\" font-family=\"Times,serif\" font-size=\"8.00\">(KNK)</text>\n</g>\n<!-- 4&#45;&#45;3 -->\n<g id=\"edge4\" class=\"edge\">\n<title>4--3</title>\n<path fill=\"none\" stroke=\"black\" d=\"M88.2,-155.22C81.44,-171.08 71.64,-194.09 64.85,-210.03\"/>\n<text text-anchor=\"middle\" x=\"74.52\" y=\"-185.23\" font-family=\"Times,serif\" font-size=\"8.00\">1</text>\n</g>\n<!-- 5 -->\n<g id=\"node6\" class=\"node\">\n<title>5</title>\n<polygon fill=\"none\" stroke=\"black\" points=\"41,-150.42 0,-150.42 0,-114.42 41,-114.42 41,-150.42\"/>\n<text text-anchor=\"middle\" x=\"20.5\" y=\"-129.63\" font-family=\"Times,serif\" font-size=\"10.99\">None</text>\n</g>\n<!-- 5&#45;&#45;4 -->\n<g id=\"edge5\" class=\"edge\">\n<title>5--4</title>\n<path fill=\"none\" stroke=\"black\" d=\"M41.09,-133.73C49.02,-134.24 58.24,-134.82 66.82,-135.37\"/>\n<text text-anchor=\"middle\" x=\"51.96\" y=\"-137.15\" font-family=\"Times,serif\" font-size=\"8.00\">1</text>\n</g>\n<!-- 6 -->\n<g id=\"node7\" class=\"node\">\n<title>6</title>\n<ellipse fill=\"lightgrey\" stroke=\"black\" cx=\"106.34\" cy=\"-159.97\" rx=\"27.65\" ry=\"18.27\"/>\n<text text-anchor=\"middle\" x=\"106.34\" y=\"-162.57\" font-family=\"Times,serif\" font-size=\"8.00\">桜</text>\n<text text-anchor=\"middle\" x=\"106.34\" y=\"-153.57\" font-family=\"Times,serif\" font-size=\"8.00\">(KBT)</text>\n</g>\n<!-- 6&#45;&#45;5 -->\n<g id=\"edge6\" class=\"edge\">\n<title>6--5</title>\n<path fill=\"none\" stroke=\"black\" d=\"M81.05,-151.85C68.39,-147.79 53.25,-142.93 41.28,-139.09\"/>\n<text text-anchor=\"middle\" x=\"59.16\" y=\"-148.07\" font-family=\"Times,serif\" font-size=\"8.00\">1</text>\n</g>\n<!-- 7 -->\n<g id=\"node8\" class=\"node\">\n<title>7</title>\n<polygon fill=\"none\" stroke=\"black\" points=\"66.33,-82.05 27.33,-82.05 27.33,-46.05 66.33,-46.05 66.33,-82.05\"/>\n<text text-anchor=\"middle\" x=\"46.83\" y=\"-61.23\" font-family=\"Times,serif\" font-size=\"10.40\">None</text>\n</g>\n<!-- 7&#45;&#45;4 -->\n<g id=\"edge7\" class=\"edge\">\n<title>7--4</title>\n<path fill=\"none\" stroke=\"black\" d=\"M58.95,-82.14C66.66,-93.65 76.6,-108.48 84.22,-119.85\"/>\n<text text-anchor=\"middle\" x=\"69.58\" y=\"-103.59\" font-family=\"Times,serif\" font-size=\"8.00\">1</text>\n</g>\n<!-- 8 -->\n<g id=\"node9\" class=\"node\">\n<title>8</title>\n<polygon fill=\"lightyellow\" stroke=\"black\" points=\"156.55,-95.47 113.55,-95.47 113.55,-59.47 156.55,-59.47 156.55,-95.47\"/>\n<text text-anchor=\"middle\" x=\"135.05\" y=\"-74.38\" font-family=\"Times,serif\" font-size=\"11.99\">None</text>\n</g>\n<!-- 8&#45;&#45;4 -->\n<g id=\"edge8\" class=\"edge\">\n<title>8--4</title>\n<path fill=\"none\" stroke=\"black\" d=\"M123.08,-95.73C118.03,-103.41 112.19,-112.32 107.22,-119.9\"/>\n<text text-anchor=\"middle\" x=\"113.15\" y=\"-110.41\" font-family=\"Times,serif\" font-size=\"8.00\">1</text>\n</g>\n<!-- 8&#45;&#45;6 -->\n<g id=\"edge10\" class=\"edge\">\n<title>8--6</title>\n<path fill=\"none\" stroke=\"black\" d=\"M128.68,-95.78C123.89,-109.55 117.36,-128.31 112.59,-141.99\"/>\n<text text-anchor=\"middle\" x=\"118.64\" y=\"-112.49\" font-family=\"Times,serif\" font-size=\"8.00\">1</text>\n</g>\n<!-- 9 -->\n<g id=\"node10\" class=\"node\">\n<title>9</title>\n<ellipse fill=\"lightgrey\" stroke=\"black\" cx=\"215.39\" cy=\"-109.21\" rx=\"31.64\" ry=\"18.27\"/>\n<text text-anchor=\"middle\" x=\"215.39\" y=\"-111.81\" font-family=\"Times,serif\" font-size=\"8.00\">桜</text>\n<text text-anchor=\"middle\" x=\"215.39\" y=\"-102.81\" font-family=\"Times,serif\" font-size=\"8.00\">(KTGR)</text>\n</g>\n<!-- 9&#45;&#45;8 -->\n<g id=\"edge9\" class=\"edge\">\n<title>9--8</title>\n<path fill=\"none\" stroke=\"black\" d=\"M189.08,-98.82C178.55,-94.66 166.58,-89.93 156.59,-85.98\"/>\n<text text-anchor=\"middle\" x=\"170.83\" y=\"-95\" font-family=\"Times,serif\" font-size=\"8.00\">1</text>\n</g>\n<!-- 10 -->\n<g id=\"node11\" class=\"node\">\n<title>10</title>\n<ellipse fill=\"lightgrey\" stroke=\"black\" cx=\"205.36\" cy=\"-86.91\" rx=\"25.41\" ry=\"18.27\"/>\n<text text-anchor=\"middle\" x=\"205.36\" y=\"-89.51\" font-family=\"Times,serif\" font-size=\"8.00\">桜</text>\n<text text-anchor=\"middle\" x=\"205.36\" y=\"-80.51\" font-family=\"Times,serif\" font-size=\"8.00\">(KSJ)</text>\n</g>\n<!-- 10&#45;&#45;8 -->\n<g id=\"edge11\" class=\"edge\">\n<title>10--8</title>\n<path fill=\"none\" stroke=\"black\" d=\"M179.97,-83.51C172.42,-82.49 164.22,-81.39 156.91,-80.41\"/>\n<text text-anchor=\"middle\" x=\"166.44\" y=\"-84.56\" font-family=\"Times,serif\" font-size=\"8.00\">1</text>\n</g>\n<!-- 11 -->\n<g id=\"node12\" class=\"node\">\n<title>11</title>\n<polygon fill=\"none\" stroke=\"black\" points=\"271.62,-36 232.62,-36 232.62,0 271.62,0 271.62,-36\"/>\n<text text-anchor=\"middle\" x=\"252.12\" y=\"-15.18\" font-family=\"Times,serif\" font-size=\"10.40\">None</text>\n</g>\n<!-- 11&#45;&#45;10 -->\n<g id=\"edge12\" class=\"edge\">\n<title>11--10</title>\n<path fill=\"none\" stroke=\"black\" d=\"M239.84,-36.11C232.69,-46.63 223.75,-59.81 216.76,-70.11\"/>\n<text text-anchor=\"middle\" x=\"226.3\" y=\"-55.71\" font-family=\"Times,serif\" font-size=\"8.00\">1</text>\n</g>\n<!-- 12 -->\n<g id=\"node13\" class=\"node\">\n<title>12</title>\n<polygon fill=\"lightyellow\" stroke=\"black\" points=\"199.57,-188.08 146.57,-188.08 146.57,-152.08 199.57,-152.08 199.57,-188.08\"/>\n<text text-anchor=\"middle\" x=\"173.07\" y=\"-165.89\" font-family=\"Times,serif\" font-size=\"16.48\">None</text>\n</g>\n<!-- 12&#45;&#45;0 -->\n<g id=\"edge19\" class=\"edge\">\n<title>12--0</title>\n<path fill=\"none\" stroke=\"black\" d=\"M169.53,-188.32C165.95,-206.78 160.44,-235.17 156.84,-253.7\"/>\n<text text-anchor=\"middle\" x=\"161.19\" y=\"-223.61\" font-family=\"Times,serif\" font-size=\"8.00\">1</text>\n</g>\n<!-- 12&#45;&#45;4 -->\n<g id=\"edge16\" class=\"edge\">\n<title>12--4</title>\n<path fill=\"none\" stroke=\"black\" d=\"M146.5,-158.77C137.95,-155.13 128.52,-151.12 120.15,-147.56\"/>\n<text text-anchor=\"middle\" x=\"135.32\" y=\"-155.77\" font-family=\"Times,serif\" font-size=\"8.00\">2</text>\n</g>\n<!-- 12&#45;&#45;6 -->\n<g id=\"edge17\" class=\"edge\">\n<title>12--6</title>\n<path fill=\"none\" stroke=\"black\" d=\"M146.31,-166.02C142.11,-165.39 137.75,-164.73 133.54,-164.09\"/>\n<text text-anchor=\"middle\" x=\"137.93\" y=\"-167.66\" font-family=\"Times,serif\" font-size=\"8.00\">2</text>\n</g>\n<!-- 12&#45;&#45;9 -->\n<g id=\"edge18\" class=\"edge\">\n<title>12--9</title>\n<path fill=\"none\" stroke=\"black\" d=\"M185.77,-151.82C191.32,-143.83 197.8,-134.51 203.28,-126.63\"/>\n<text text-anchor=\"middle\" x=\"192.52\" y=\"-141.82\" font-family=\"Times,serif\" font-size=\"8.00\">1</text>\n</g>\n<!-- 12&#45;&#45;10 -->\n<g id=\"edge13\" class=\"edge\">\n<title>12--10</title>\n<path fill=\"none\" stroke=\"black\" d=\"M180.08,-152.03C185.53,-137.99 193.06,-118.6 198.48,-104.64\"/>\n<text text-anchor=\"middle\" x=\"187.28\" y=\"-130.94\" font-family=\"Times,serif\" font-size=\"8.00\">6</text>\n</g>\n<!-- 13 -->\n<g id=\"node14\" class=\"node\">\n<title>13</title>\n<ellipse fill=\"lightgrey\" stroke=\"black\" cx=\"264.32\" cy=\"-214.54\" rx=\"28.98\" ry=\"18.27\"/>\n<text text-anchor=\"middle\" x=\"264.32\" y=\"-217.14\" font-family=\"Times,serif\" font-size=\"8.00\">桜</text>\n<text text-anchor=\"middle\" x=\"264.32\" y=\"-208.14\" font-family=\"Times,serif\" font-size=\"8.00\">(MTD)</text>\n</g>\n<!-- 13&#45;&#45;12 -->\n<g id=\"edge14\" class=\"edge\">\n<title>13--12</title>\n<path fill=\"none\" stroke=\"black\" d=\"M241.29,-203.32C228.62,-197.15 212.84,-189.46 199.65,-183.03\"/>\n<text text-anchor=\"middle\" x=\"218.47\" y=\"-195.77\" font-family=\"Times,serif\" font-size=\"8.00\">5</text>\n</g>\n<!-- 14 -->\n<g id=\"node15\" class=\"node\">\n<title>14</title>\n<ellipse fill=\"lightgrey\" stroke=\"black\" cx=\"200.62\" cy=\"-228.61\" rx=\"33.47\" ry=\"18.27\"/>\n<text text-anchor=\"middle\" x=\"200.62\" y=\"-231.21\" font-family=\"Times,serif\" font-size=\"8.00\">桜</text>\n<text text-anchor=\"middle\" x=\"200.62\" y=\"-222.21\" font-family=\"Times,serif\" font-size=\"8.00\">(KMCY)</text>\n</g>\n<!-- 14&#45;&#45;12 -->\n<g id=\"edge15\" class=\"edge\">\n<title>14--12</title>\n<path fill=\"none\" stroke=\"black\" d=\"M192.2,-210.73C188.85,-203.6 184.99,-195.41 181.62,-188.25\"/>\n<text text-anchor=\"middle\" x=\"184.91\" y=\"-202.09\" font-family=\"Times,serif\" font-size=\"8.00\">3</text>\n</g>\n<!-- 15 -->\n<g id=\"node16\" class=\"node\">\n<title>15</title>\n<polygon fill=\"lightyellow\" stroke=\"black\" points=\"240.6,-200.09 195.6,-200.09 195.6,-164.09 240.6,-164.09 240.6,-200.09\"/>\n<text text-anchor=\"middle\" x=\"218.1\" y=\"-178.83\" font-family=\"Times,serif\" font-size=\"12.82\">None</text>\n</g>\n<!-- 15&#45;&#45;0 -->\n<g id=\"edge20\" class=\"edge\">\n<title>15--0</title>\n<path fill=\"none\" stroke=\"black\" d=\"M204.98,-200.31C193.44,-216.34 176.76,-239.5 165.49,-255.15\"/>\n<text text-anchor=\"middle\" x=\"187.23\" y=\"-230.33\" font-family=\"Times,serif\" font-size=\"8.00\">2</text>\n</g>\n<!-- 15&#45;&#45;9 -->\n<g id=\"edge21\" class=\"edge\">\n<title>15--9</title>\n<path fill=\"none\" stroke=\"black\" d=\"M217.43,-164.08C217.02,-153.03 216.49,-138.92 216.08,-127.78\"/>\n<text text-anchor=\"middle\" x=\"214.75\" y=\"-148.53\" font-family=\"Times,serif\" font-size=\"8.00\">1</text>\n</g>\n<!-- 15&#45;&#45;10 -->\n<g id=\"edge22\" class=\"edge\">\n<title>15--10</title>\n<path fill=\"none\" stroke=\"black\" d=\"M215.64,-163.74C213.4,-146.99 210.1,-122.36 207.85,-105.53\"/>\n<text text-anchor=\"middle\" x=\"209.75\" y=\"-137.24\" font-family=\"Times,serif\" font-size=\"8.00\">1</text>\n</g>\n<!-- 15&#45;&#45;13 -->\n<g id=\"edge23\" class=\"edge\">\n<title>15--13</title>\n<path fill=\"none\" stroke=\"black\" d=\"M240.67,-197.94C242.04,-198.9 243.42,-199.87 244.78,-200.82\"/>\n<text text-anchor=\"middle\" x=\"244.72\" y=\"-192.98\" font-family=\"Times,serif\" font-size=\"8.00\">1</text>\n</g>\n<!-- 16 -->\n<g id=\"node17\" class=\"node\">\n<title>16</title>\n<ellipse fill=\"lightgrey\" stroke=\"black\" cx=\"270.81\" cy=\"-169.18\" rx=\"33.47\" ry=\"18.27\"/>\n<text text-anchor=\"middle\" x=\"270.81\" y=\"-171.78\" font-family=\"Times,serif\" font-size=\"8.00\">桜</text>\n<text text-anchor=\"middle\" x=\"270.81\" y=\"-162.78\" font-family=\"Times,serif\" font-size=\"8.00\">(OKMR)</text>\n</g>\n<!-- 16&#45;&#45;15 -->\n<g id=\"edge24\" class=\"edge\">\n<title>16--15</title>\n<path fill=\"none\" stroke=\"black\" d=\"M240.15,-176.69C240.06,-176.71 239.97,-176.74 239.88,-176.76\"/>\n<text text-anchor=\"middle\" x=\"242.01\" y=\"-179.33\" font-family=\"Times,serif\" font-size=\"8.00\">1</text>\n</g>\n<!-- 17 -->\n<g id=\"node18\" class=\"node\">\n<title>17</title>\n<polygon fill=\"none\" stroke=\"black\" points=\"125.02,-365.45 86.02,-365.45 86.02,-329.45 125.02,-329.45 125.02,-365.45\"/>\n<text text-anchor=\"middle\" x=\"105.52\" y=\"-344.63\" font-family=\"Times,serif\" font-size=\"10.40\">None</text>\n</g>\n<!-- 17&#45;&#45;0 -->\n<g id=\"edge25\" class=\"edge\">\n<title>17--0</title>\n<path fill=\"none\" stroke=\"black\" d=\"M117.07,-329.21C124.75,-317.11 134.76,-301.32 142.31,-289.41\"/>\n<text text-anchor=\"middle\" x=\"127.69\" y=\"-311.91\" font-family=\"Times,serif\" font-size=\"8.00\">1</text>\n</g>\n<!-- 18 -->\n<g id=\"node19\" class=\"node\">\n<title>18</title>\n<polygon fill=\"lightyellow\" stroke=\"black\" points=\"260.96,-307.78 215.96,-307.78 215.96,-271.78 260.96,-271.78 260.96,-307.78\"/>\n<text text-anchor=\"middle\" x=\"238.46\" y=\"-286.52\" font-family=\"Times,serif\" font-size=\"12.82\">None</text>\n</g>\n<!-- 18&#45;&#45;0 -->\n<g id=\"edge27\" class=\"edge\">\n<title>18--0</title>\n<path fill=\"none\" stroke=\"black\" d=\"M215.63,-285.05C204.98,-282.84 192.22,-280.2 181.02,-277.88\"/>\n<text text-anchor=\"middle\" x=\"196.32\" y=\"-284.06\" font-family=\"Times,serif\" font-size=\"8.00\">2</text>\n</g>\n<!-- 18&#45;&#45;13 -->\n<g id=\"edge26\" class=\"edge\">\n<title>18--13</title>\n<path fill=\"none\" stroke=\"black\" d=\"M244.72,-271.56C248.78,-259.74 254.06,-244.38 258.11,-232.58\"/>\n<text text-anchor=\"middle\" x=\"249.42\" y=\"-254.67\" font-family=\"Times,serif\" font-size=\"8.00\">2</text>\n</g>\n<!-- 18&#45;&#45;14 -->\n<g id=\"edge29\" class=\"edge\">\n<title>18--14</title>\n<path fill=\"none\" stroke=\"black\" d=\"M227.31,-271.76C222.34,-263.72 216.5,-254.29 211.56,-246.29\"/>\n<text text-anchor=\"middle\" x=\"217.43\" y=\"-261.62\" font-family=\"Times,serif\" font-size=\"8.00\">1</text>\n</g>\n<!-- 19 -->\n<g id=\"node20\" class=\"node\">\n<title>19</title>\n<ellipse fill=\"lightgrey\" stroke=\"black\" cx=\"190.39\" cy=\"-309.21\" rx=\"28.98\" ry=\"18.27\"/>\n<text text-anchor=\"middle\" x=\"190.39\" y=\"-311.81\" font-family=\"Times,serif\" font-size=\"8.00\">桜</text>\n<text text-anchor=\"middle\" x=\"190.39\" y=\"-302.81\" font-family=\"Times,serif\" font-size=\"8.00\">(K&amp;A)</text>\n</g>\n<!-- 19&#45;&#45;18 -->\n<g id=\"edge28\" class=\"edge\">\n<title>19--18</title>\n<path fill=\"none\" stroke=\"black\" d=\"M214.99,-299.27C215.26,-299.15 215.54,-299.04 215.82,-298.93\"/>\n<text text-anchor=\"middle\" x=\"213.4\" y=\"-301.7\" font-family=\"Times,serif\" font-size=\"8.00\">1</text>\n</g>\n<!-- 20 -->\n<g id=\"node21\" class=\"node\">\n<title>20</title>\n<polygon fill=\"none\" stroke=\"black\" points=\"329.7,-245.72 288.7,-245.72 288.7,-209.72 329.7,-209.72 329.7,-245.72\"/>\n<text text-anchor=\"middle\" x=\"309.2\" y=\"-224.94\" font-family=\"Times,serif\" font-size=\"10.99\">None</text>\n</g>\n<!-- 20&#45;&#45;14 -->\n<g id=\"edge30\" class=\"edge\">\n<title>20--14</title>\n<path fill=\"none\" stroke=\"black\" d=\"M288.52,-227.89C273.14,-228.02 251.82,-228.19 234.03,-228.34\"/>\n<text text-anchor=\"middle\" x=\"259.28\" y=\"-230.72\" font-family=\"Times,serif\" font-size=\"8.00\">1</text>\n</g>\n<!-- 20&#45;&#45;16 -->\n<g id=\"edge31\" class=\"edge\">\n<title>20--16</title>\n<path fill=\"none\" stroke=\"black\" d=\"M297.27,-209.52C292.51,-202.27 287.06,-193.96 282.35,-186.77\"/>\n<text text-anchor=\"middle\" x=\"287.81\" y=\"-191.75\" font-family=\"Times,serif\" font-size=\"8.00\">1</text>\n</g>\n<!-- 21 -->\n<g id=\"node22\" class=\"node\">\n<title>21</title>\n<polygon fill=\"lightyellow\" stroke=\"black\" points=\"182.2,-229.47 137.2,-229.47 137.2,-193.47 182.2,-193.47 182.2,-229.47\"/>\n<text text-anchor=\"middle\" x=\"159.7\" y=\"-208.21\" font-family=\"Times,serif\" font-size=\"12.82\">None</text>\n</g>\n<!-- 21&#45;&#45;0 -->\n<g id=\"edge36\" class=\"edge\">\n<title>21--0</title>\n<path fill=\"none\" stroke=\"black\" d=\"M157.77,-229.67C156.97,-237.21 156.04,-245.94 155.24,-253.52\"/>\n<text text-anchor=\"middle\" x=\"154.5\" y=\"-244.2\" font-family=\"Times,serif\" font-size=\"8.00\">1</text>\n</g>\n<!-- 21&#45;&#45;4 -->\n<g id=\"edge33\" class=\"edge\">\n<title>21--4</title>\n<path fill=\"none\" stroke=\"black\" d=\"M143.92,-193.12C133.58,-181.09 120.18,-165.51 110.15,-153.85\"/>\n<text text-anchor=\"middle\" x=\"125.04\" y=\"-176.08\" font-family=\"Times,serif\" font-size=\"8.00\">1</text>\n</g>\n<!-- 21&#45;&#45;6 -->\n<g id=\"edge35\" class=\"edge\">\n<title>21--6</title>\n<path fill=\"none\" stroke=\"black\" d=\"M141.04,-193.46C134.91,-187.54 128.15,-181.02 122.25,-175.32\"/>\n<text text-anchor=\"middle\" x=\"129.64\" y=\"-186.99\" font-family=\"Times,serif\" font-size=\"8.00\">1</text>\n</g>\n<!-- 21&#45;&#45;16 -->\n<g id=\"edge32\" class=\"edge\">\n<title>21--16</title>\n<path fill=\"none\" stroke=\"black\" d=\"M182.45,-202.81C200.1,-196.09 224.64,-186.76 243.37,-179.63\"/>\n<text text-anchor=\"middle\" x=\"210.91\" y=\"-193.82\" font-family=\"Times,serif\" font-size=\"8.00\">2</text>\n</g>\n<!-- 21&#45;&#45;19 -->\n<g id=\"edge34\" class=\"edge\">\n<title>21--19</title>\n<path fill=\"none\" stroke=\"black\" d=\"M165.47,-229.86C170.96,-247.33 179.17,-273.46 184.64,-290.91\"/>\n<text text-anchor=\"middle\" x=\"173.06\" y=\"-253.98\" font-family=\"Times,serif\" font-size=\"8.00\">1</text>\n</g>\n<!-- 22 -->\n<g id=\"node23\" class=\"node\">\n<title>22</title>\n<polygon fill=\"lightyellow\" stroke=\"black\" points=\"133.35,-264.87 91.35,-264.87 91.35,-228.87 133.35,-228.87 133.35,-264.87\"/>\n<text text-anchor=\"middle\" x=\"112.35\" y=\"-244.16\" font-family=\"Times,serif\" font-size=\"11.51\">None</text>\n</g>\n<!-- 22&#45;&#45;0 -->\n<g id=\"edge39\" class=\"edge\">\n<title>22--0</title>\n<path fill=\"none\" stroke=\"black\" d=\"M133.76,-260.09C133.92,-260.18 134.07,-260.28 134.23,-260.37\"/>\n<text text-anchor=\"middle\" x=\"136\" y=\"-253.83\" font-family=\"Times,serif\" font-size=\"8.00\">1</text>\n</g>\n<!-- 22&#45;&#45;6 -->\n<g id=\"edge38\" class=\"edge\">\n<title>22--6</title>\n<path fill=\"none\" stroke=\"black\" d=\"M111.1,-228.86C110.09,-214.15 108.65,-193.42 107.63,-178.55\"/>\n<text text-anchor=\"middle\" x=\"107.36\" y=\"-206.31\" font-family=\"Times,serif\" font-size=\"8.00\">1</text>\n</g>\n<!-- 22&#45;&#45;14 -->\n<g id=\"edge37\" class=\"edge\">\n<title>22--14</title>\n<path fill=\"none\" stroke=\"black\" d=\"M133.72,-242.45C144.43,-240.23 157.61,-237.51 169.43,-235.06\"/>\n<text text-anchor=\"middle\" x=\"149.57\" y=\"-241.36\" font-family=\"Times,serif\" font-size=\"8.00\">1</text>\n</g>\n<!-- 23 -->\n<g id=\"node24\" class=\"node\">\n<title>23</title>\n<polygon fill=\"none\" stroke=\"black\" points=\"176.53,-376.88 135.53,-376.88 135.53,-340.88 176.53,-340.88 176.53,-376.88\"/>\n<text text-anchor=\"middle\" x=\"156.03\" y=\"-356.09\" font-family=\"Times,serif\" font-size=\"10.99\">None</text>\n</g>\n<!-- 23&#45;&#45;0 -->\n<g id=\"edge41\" class=\"edge\">\n<title>23--0</title>\n<path fill=\"none\" stroke=\"black\" d=\"M155.44,-340.48C154.98,-325.86 154.33,-305.49 153.86,-290.8\"/>\n<text text-anchor=\"middle\" x=\"152.65\" y=\"-318.24\" font-family=\"Times,serif\" font-size=\"8.00\">1</text>\n</g>\n<!-- 23&#45;&#45;19 -->\n<g id=\"edge40\" class=\"edge\">\n<title>23--19</title>\n<path fill=\"none\" stroke=\"black\" d=\"M168.63,-340.66C171.92,-335.9 175.46,-330.79 178.7,-326.1\"/>\n<text text-anchor=\"middle\" x=\"175.67\" y=\"-335.98\" font-family=\"Times,serif\" font-size=\"8.00\">1</text>\n</g>\n<!-- 24 -->\n<g id=\"node25\" class=\"node\">\n<title>24</title>\n<polygon fill=\"none\" stroke=\"black\" points=\"101.32,-230 60.32,-230 60.32,-194 101.32,-194 101.32,-230\"/>\n<text text-anchor=\"middle\" x=\"80.82\" y=\"-209.21\" font-family=\"Times,serif\" font-size=\"10.99\">None</text>\n</g>\n<!-- 24&#45;&#45;6 -->\n<g id=\"edge43\" class=\"edge\">\n<title>24--6</title>\n<path fill=\"none\" stroke=\"black\" d=\"M89.74,-193.8C92.33,-188.53 95.15,-182.78 97.72,-177.54\"/>\n<text text-anchor=\"middle\" x=\"91.73\" y=\"-188.27\" font-family=\"Times,serif\" font-size=\"8.00\">1</text>\n</g>\n<!-- 24&#45;&#45;14 -->\n<g id=\"edge42\" class=\"edge\">\n<title>24--14</title>\n<path fill=\"none\" stroke=\"black\" d=\"M101.41,-214.86C119.74,-217.4 146.87,-221.16 168.12,-224.11\"/>\n<text text-anchor=\"middle\" x=\"132.77\" y=\"-222.08\" font-family=\"Times,serif\" font-size=\"8.00\">1</text>\n</g>\n</g>\n</svg>"
          },
          "metadata": {}
        }
      ]
    },
    {
      "cell_type": "markdown",
      "source": [
        "#### 3.2.5 | *Matsu*, en. pine"
      ],
      "metadata": {
        "id": "SXKaz9UldjAs"
      }
    },
    {
      "cell_type": "code",
      "source": [
        "dot_viz_aggr(\"松\")"
      ],
      "metadata": {
        "id": "ZSoc1GIV91M-",
        "colab": {
          "base_uri": "https://localhost:8080/",
          "height": 464
        },
        "outputId": "c89aba0f-6b0b-4075-f99a-f24e179fd9eb"
      },
      "execution_count": 25,
      "outputs": [
        {
          "output_type": "display_data",
          "data": {
            "text/plain": [
              "<IPython.core.display.SVG object>"
            ],
            "image/svg+xml": "<svg xmlns=\"http://www.w3.org/2000/svg\" xmlns:xlink=\"http://www.w3.org/1999/xlink\" width=\"391pt\" height=\"332pt\" viewBox=\"0.00 0.00 390.72 331.73\">\n<g id=\"graph0\" class=\"graph\" transform=\"scale(1 1) rotate(0) translate(4 327.73)\">\n<title>%3</title>\n<polygon fill=\"white\" stroke=\"transparent\" points=\"-4,4 -4,-327.73 386.72,-327.73 386.72,4 -4,4\"/>\n<!-- 0 -->\n<g id=\"node1\" class=\"node\">\n<title>0</title>\n<ellipse fill=\"lightgrey\" stroke=\"black\" cx=\"123.84\" cy=\"-221.04\" rx=\"28.98\" ry=\"18.27\"/>\n<text text-anchor=\"middle\" x=\"123.84\" y=\"-223.64\" font-family=\"Times,serif\" font-size=\"8.00\">松</text>\n<text text-anchor=\"middle\" x=\"123.84\" y=\"-214.64\" font-family=\"Times,serif\" font-size=\"8.00\">(KNK)</text>\n</g>\n<!-- 1 -->\n<g id=\"node2\" class=\"node\">\n<title>1</title>\n<polygon fill=\"none\" stroke=\"black\" points=\"228.46,-300.48 187.46,-300.48 187.46,-264.48 228.46,-264.48 228.46,-300.48\"/>\n<text text-anchor=\"middle\" x=\"207.96\" y=\"-279.69\" font-family=\"Times,serif\" font-size=\"10.99\">None</text>\n</g>\n<!-- 1&#45;&#45;0 -->\n<g id=\"edge1\" class=\"edge\">\n<title>1--0</title>\n<path fill=\"none\" stroke=\"black\" d=\"M187.16,-267.3C173.64,-257.42 156.13,-244.63 142.95,-235\"/>\n<text text-anchor=\"middle\" x=\"163.06\" y=\"-253.75\" font-family=\"Times,serif\" font-size=\"8.00\">1</text>\n</g>\n<!-- 2 -->\n<g id=\"node3\" class=\"node\">\n<title>2</title>\n<ellipse fill=\"lightgrey\" stroke=\"black\" cx=\"246.42\" cy=\"-171.17\" rx=\"25.41\" ry=\"18.27\"/>\n<text text-anchor=\"middle\" x=\"246.42\" y=\"-173.77\" font-family=\"Times,serif\" font-size=\"8.00\">松</text>\n<text text-anchor=\"middle\" x=\"246.42\" y=\"-164.77\" font-family=\"Times,serif\" font-size=\"8.00\">(KSJ)</text>\n</g>\n<!-- 2&#45;&#45;1 -->\n<g id=\"edge2\" class=\"edge\">\n<title>2--1</title>\n<path fill=\"none\" stroke=\"black\" d=\"M240.24,-189.06C233.11,-209.71 221.43,-243.49 214.25,-264.27\"/>\n<text text-anchor=\"middle\" x=\"225.25\" y=\"-229.27\" font-family=\"Times,serif\" font-size=\"8.00\">1</text>\n</g>\n<!-- 3 -->\n<g id=\"node4\" class=\"node\">\n<title>3</title>\n<ellipse fill=\"lightgrey\" stroke=\"black\" cx=\"278.7\" cy=\"-226.78\" rx=\"33.47\" ry=\"18.27\"/>\n<text text-anchor=\"middle\" x=\"278.7\" y=\"-229.38\" font-family=\"Times,serif\" font-size=\"8.00\">松</text>\n<text text-anchor=\"middle\" x=\"278.7\" y=\"-220.38\" font-family=\"Times,serif\" font-size=\"8.00\">(OKMR)</text>\n</g>\n<!-- 4 -->\n<g id=\"node5\" class=\"node\">\n<title>4</title>\n<polygon fill=\"none\" stroke=\"black\" points=\"382.72,-266.99 343.72,-266.99 343.72,-230.99 382.72,-230.99 382.72,-266.99\"/>\n<text text-anchor=\"middle\" x=\"363.22\" y=\"-246.17\" font-family=\"Times,serif\" font-size=\"10.40\">None</text>\n</g>\n<!-- 4&#45;&#45;3 -->\n<g id=\"edge3\" class=\"edge\">\n<title>4--3</title>\n<path fill=\"none\" stroke=\"black\" d=\"M343.61,-243.84C333.28,-241.12 320.37,-237.73 308.79,-234.69\"/>\n<text text-anchor=\"middle\" x=\"324.2\" y=\"-241.86\" font-family=\"Times,serif\" font-size=\"8.00\">1</text>\n</g>\n<!-- 5 -->\n<g id=\"node6\" class=\"node\">\n<title>5</title>\n<ellipse fill=\"lightgrey\" stroke=\"black\" cx=\"99.56\" cy=\"-184.79\" rx=\"28.98\" ry=\"18.27\"/>\n<text text-anchor=\"middle\" x=\"99.56\" y=\"-187.39\" font-family=\"Times,serif\" font-size=\"8.00\">松</text>\n<text text-anchor=\"middle\" x=\"99.56\" y=\"-178.39\" font-family=\"Times,serif\" font-size=\"8.00\">(OZW)</text>\n</g>\n<!-- 6 -->\n<g id=\"node7\" class=\"node\">\n<title>6</title>\n<polygon fill=\"none\" stroke=\"black\" points=\"39,-174.02 0,-174.02 0,-138.02 39,-138.02 39,-174.02\"/>\n<text text-anchor=\"middle\" x=\"19.5\" y=\"-153.2\" font-family=\"Times,serif\" font-size=\"10.40\">None</text>\n</g>\n<!-- 6&#45;&#45;5 -->\n<g id=\"edge4\" class=\"edge\">\n<title>6--5</title>\n<path fill=\"none\" stroke=\"black\" d=\"M39.29,-163.13C49.85,-166.92 62.95,-171.63 74.25,-175.69\"/>\n<text text-anchor=\"middle\" x=\"54.77\" y=\"-172.01\" font-family=\"Times,serif\" font-size=\"8.00\">1</text>\n</g>\n<!-- 7 -->\n<g id=\"node8\" class=\"node\">\n<title>7</title>\n<ellipse fill=\"lightgrey\" stroke=\"black\" cx=\"219.56\" cy=\"-117.74\" rx=\"32.55\" ry=\"18.27\"/>\n<text text-anchor=\"middle\" x=\"219.56\" y=\"-120.34\" font-family=\"Times,serif\" font-size=\"8.00\">松</text>\n<text text-anchor=\"middle\" x=\"219.56\" y=\"-111.34\" font-family=\"Times,serif\" font-size=\"8.00\">(TKOK)</text>\n</g>\n<!-- 8 -->\n<g id=\"node9\" class=\"node\">\n<title>8</title>\n<polygon fill=\"lightyellow\" stroke=\"black\" points=\"219.94,-189.23 167.94,-189.23 167.94,-153.23 219.94,-153.23 219.94,-189.23\"/>\n<text text-anchor=\"middle\" x=\"193.94\" y=\"-167.36\" font-family=\"Times,serif\" font-size=\"16.09\">None</text>\n</g>\n<!-- 8&#45;&#45;0 -->\n<g id=\"edge6\" class=\"edge\">\n<title>8--0</title>\n<path fill=\"none\" stroke=\"black\" d=\"M168.24,-189.5C159.95,-195.38 150.92,-201.8 143.17,-207.31\"/>\n<text text-anchor=\"middle\" x=\"153.7\" y=\"-192\" font-family=\"Times,serif\" font-size=\"8.00\">3</text>\n</g>\n<!-- 8&#45;&#45;2 -->\n<g id=\"edge12\" class=\"edge\">\n<title>8--2</title>\n<path fill=\"none\" stroke=\"black\" d=\"M220.18,-171.2C220.39,-171.2 220.59,-171.2 220.8,-171.2\"/>\n<text text-anchor=\"middle\" x=\"218.49\" y=\"-173.8\" font-family=\"Times,serif\" font-size=\"8.00\">1</text>\n</g>\n<!-- 8&#45;&#45;3 -->\n<g id=\"edge7\" class=\"edge\">\n<title>8--3</title>\n<path fill=\"none\" stroke=\"black\" d=\"M220.3,-188.5C232.15,-196.27 245.97,-205.33 257.19,-212.68\"/>\n<text text-anchor=\"middle\" x=\"236.74\" y=\"-203.19\" font-family=\"Times,serif\" font-size=\"8.00\">3</text>\n</g>\n<!-- 8&#45;&#45;5 -->\n<g id=\"edge9\" class=\"edge\">\n<title>8--5</title>\n<path fill=\"none\" stroke=\"black\" d=\"M167.9,-174.97C155.57,-176.75 140.81,-178.87 128.17,-180.68\"/>\n<text text-anchor=\"middle\" x=\"146.03\" y=\"-180.43\" font-family=\"Times,serif\" font-size=\"8.00\">2</text>\n</g>\n<!-- 8&#45;&#45;7 -->\n<g id=\"edge5\" class=\"edge\">\n<title>8--7</title>\n<path fill=\"none\" stroke=\"black\" d=\"M202.61,-153.12C205.29,-147.55 208.22,-141.41 210.89,-135.83\"/>\n<text text-anchor=\"middle\" x=\"204.75\" y=\"-147.08\" font-family=\"Times,serif\" font-size=\"8.00\">4</text>\n</g>\n<!-- 9 -->\n<g id=\"node10\" class=\"node\">\n<title>9</title>\n<ellipse fill=\"lightgrey\" stroke=\"black\" cx=\"200.01\" cy=\"-94.65\" rx=\"31.64\" ry=\"18.27\"/>\n<text text-anchor=\"middle\" x=\"200.01\" y=\"-97.25\" font-family=\"Times,serif\" font-size=\"8.00\">松</text>\n<text text-anchor=\"middle\" x=\"200.01\" y=\"-88.25\" font-family=\"Times,serif\" font-size=\"8.00\">(KTGR)</text>\n</g>\n<!-- 9&#45;&#45;8 -->\n<g id=\"edge8\" class=\"edge\">\n<title>9--8</title>\n<path fill=\"none\" stroke=\"black\" d=\"M198.54,-113.19C197.58,-125.32 196.33,-141.09 195.38,-153.13\"/>\n<text text-anchor=\"middle\" x=\"194.96\" y=\"-135.76\" font-family=\"Times,serif\" font-size=\"8.00\">2</text>\n</g>\n<!-- 10 -->\n<g id=\"node11\" class=\"node\">\n<title>10</title>\n<ellipse fill=\"lightgrey\" stroke=\"black\" cx=\"158.68\" cy=\"-97.23\" rx=\"28.98\" ry=\"18.27\"/>\n<text text-anchor=\"middle\" x=\"158.68\" y=\"-99.83\" font-family=\"Times,serif\" font-size=\"8.00\">松</text>\n<text text-anchor=\"middle\" x=\"158.68\" y=\"-90.83\" font-family=\"Times,serif\" font-size=\"8.00\">(K&amp;A)</text>\n</g>\n<!-- 10&#45;&#45;8 -->\n<g id=\"edge10\" class=\"edge\">\n<title>10--8</title>\n<path fill=\"none\" stroke=\"black\" d=\"M167.21,-115.15C172.72,-126.7 179.85,-141.66 185.36,-153.23\"/>\n<text text-anchor=\"middle\" x=\"174.29\" y=\"-136.79\" font-family=\"Times,serif\" font-size=\"8.00\">1</text>\n</g>\n<!-- 11 -->\n<g id=\"node12\" class=\"node\">\n<title>11</title>\n<ellipse fill=\"lightgrey\" stroke=\"black\" cx=\"183.39\" cy=\"-249.18\" rx=\"33.47\" ry=\"18.27\"/>\n<text text-anchor=\"middle\" x=\"183.39\" y=\"-251.78\" font-family=\"Times,serif\" font-size=\"8.00\">松</text>\n<text text-anchor=\"middle\" x=\"183.39\" y=\"-242.78\" font-family=\"Times,serif\" font-size=\"8.00\">(KMCY)</text>\n</g>\n<!-- 11&#45;&#45;8 -->\n<g id=\"edge11\" class=\"edge\">\n<title>11--8</title>\n<path fill=\"none\" stroke=\"black\" d=\"M185.89,-230.71C187.59,-218.19 189.82,-201.74 191.5,-189.31\"/>\n<text text-anchor=\"middle\" x=\"186.7\" y=\"-212.61\" font-family=\"Times,serif\" font-size=\"8.00\">1</text>\n</g>\n<!-- 12 -->\n<g id=\"node13\" class=\"node\">\n<title>12</title>\n<ellipse fill=\"lightgrey\" stroke=\"black\" cx=\"225.42\" cy=\"-233.3\" rx=\"28.98\" ry=\"18.27\"/>\n<text text-anchor=\"middle\" x=\"225.42\" y=\"-235.9\" font-family=\"Times,serif\" font-size=\"8.00\">松</text>\n<text text-anchor=\"middle\" x=\"225.42\" y=\"-226.9\" font-family=\"Times,serif\" font-size=\"8.00\">(MTD)</text>\n</g>\n<!-- 12&#45;&#45;8 -->\n<g id=\"edge13\" class=\"edge\">\n<title>12--8</title>\n<path fill=\"none\" stroke=\"black\" d=\"M216.49,-215.68C212.34,-207.51 207.42,-197.8 203.23,-189.55\"/>\n<text text-anchor=\"middle\" x=\"207.86\" y=\"-205.21\" font-family=\"Times,serif\" font-size=\"8.00\">1</text>\n</g>\n<!-- 13 -->\n<g id=\"node14\" class=\"node\">\n<title>13</title>\n<polygon fill=\"lightyellow\" stroke=\"black\" points=\"215.98,-209.05 159.98,-209.05 159.98,-173.05 215.98,-173.05 215.98,-209.05\"/>\n<text text-anchor=\"middle\" x=\"187.98\" y=\"-186.83\" font-family=\"Times,serif\" font-size=\"17.78\">None</text>\n</g>\n<!-- 13&#45;&#45;0 -->\n<g id=\"edge16\" class=\"edge\">\n<title>13--0</title>\n<path fill=\"none\" stroke=\"black\" d=\"M159.66,-204.29C155.5,-206.24 151.25,-208.22 147.2,-210.12\"/>\n<text text-anchor=\"middle\" x=\"155.43\" y=\"-209.8\" font-family=\"Times,serif\" font-size=\"8.00\">3</text>\n</g>\n<!-- 13&#45;&#45;2 -->\n<g id=\"edge17\" class=\"edge\">\n<title>13--2</title>\n<path fill=\"none\" stroke=\"black\" d=\"M216.17,-181.46C218.51,-180.67 220.85,-179.87 223.15,-179.09\"/>\n<text text-anchor=\"middle\" x=\"221.66\" y=\"-182.88\" font-family=\"Times,serif\" font-size=\"8.00\">3</text>\n</g>\n<!-- 13&#45;&#45;3 -->\n<g id=\"edge19\" class=\"edge\">\n<title>13--3</title>\n<path fill=\"none\" stroke=\"black\" d=\"M216.19,-202.16C227.42,-206.58 240.3,-211.66 251.44,-216.04\"/>\n<text text-anchor=\"middle\" x=\"231.81\" y=\"-202.7\" font-family=\"Times,serif\" font-size=\"8.00\">3</text>\n</g>\n<!-- 13&#45;&#45;5 -->\n<g id=\"edge20\" class=\"edge\">\n<title>13--5</title>\n<path fill=\"none\" stroke=\"black\" d=\"M159.52,-189.04C149.62,-188.34 138.52,-187.55 128.58,-186.85\"/>\n<text text-anchor=\"middle\" x=\"142.05\" y=\"-190.54\" font-family=\"Times,serif\" font-size=\"8.00\">3</text>\n</g>\n<!-- 13&#45;&#45;7 -->\n<g id=\"edge22\" class=\"edge\">\n<title>13--7</title>\n<path fill=\"none\" stroke=\"black\" d=\"M195.79,-172.93C200.68,-161.57 206.96,-146.98 211.84,-135.65\"/>\n<text text-anchor=\"middle\" x=\"201.81\" y=\"-147.89\" font-family=\"Times,serif\" font-size=\"8.00\">2</text>\n</g>\n<!-- 13&#45;&#45;9 -->\n<g id=\"edge21\" class=\"edge\">\n<title>13--9</title>\n<path fill=\"none\" stroke=\"black\" d=\"M190.24,-172.92C192.38,-155.79 195.57,-130.23 197.72,-113.03\"/>\n<text text-anchor=\"middle\" x=\"191.98\" y=\"-145.57\" font-family=\"Times,serif\" font-size=\"8.00\">2</text>\n</g>\n<!-- 13&#45;&#45;10 -->\n<g id=\"edge23\" class=\"edge\">\n<title>13--10</title>\n<path fill=\"none\" stroke=\"black\" d=\"M182.33,-172.96C177.17,-156.46 169.59,-132.18 164.41,-115.59\"/>\n<text text-anchor=\"middle\" x=\"171.37\" y=\"-137.87\" font-family=\"Times,serif\" font-size=\"8.00\">1</text>\n</g>\n<!-- 13&#45;&#45;11 -->\n<g id=\"edge14\" class=\"edge\">\n<title>13--11</title>\n<path fill=\"none\" stroke=\"black\" d=\"M186.55,-209.13C186.02,-215.93 185.41,-223.67 184.87,-230.52\"/>\n<text text-anchor=\"middle\" x=\"183.71\" y=\"-222.42\" font-family=\"Times,serif\" font-size=\"8.00\">4</text>\n</g>\n<!-- 13&#45;&#45;12 -->\n<g id=\"edge18\" class=\"edge\">\n<title>13--12</title>\n<path fill=\"none\" stroke=\"black\" d=\"M204.08,-209.21C206.38,-211.81 208.73,-214.46 210.99,-217.02\"/>\n<text text-anchor=\"middle\" x=\"205.54\" y=\"-215.72\" font-family=\"Times,serif\" font-size=\"8.00\">3</text>\n</g>\n<!-- 14 -->\n<g id=\"node15\" class=\"node\">\n<title>14</title>\n<ellipse fill=\"lightgrey\" stroke=\"black\" cx=\"176.98\" cy=\"-301.9\" rx=\"27.65\" ry=\"18.27\"/>\n<text text-anchor=\"middle\" x=\"176.98\" y=\"-304.5\" font-family=\"Times,serif\" font-size=\"8.00\">松</text>\n<text text-anchor=\"middle\" x=\"176.98\" y=\"-295.5\" font-family=\"Times,serif\" font-size=\"8.00\">(KBT)</text>\n</g>\n<!-- 14&#45;&#45;13 -->\n<g id=\"edge15\" class=\"edge\">\n<title>14--13</title>\n<path fill=\"none\" stroke=\"black\" d=\"M178.84,-283.1C180.89,-262.47 184.15,-229.58 186.18,-209.21\"/>\n<text text-anchor=\"middle\" x=\"180.51\" y=\"-248.75\" font-family=\"Times,serif\" font-size=\"8.00\">4</text>\n</g>\n<!-- 15 -->\n<g id=\"node16\" class=\"node\">\n<title>15</title>\n<polygon fill=\"lightyellow\" stroke=\"black\" points=\"333.97,-203.79 290.97,-203.79 290.97,-167.79 333.97,-167.79 333.97,-203.79\"/>\n<text text-anchor=\"middle\" x=\"312.47\" y=\"-182.7\" font-family=\"Times,serif\" font-size=\"11.99\">None</text>\n</g>\n<!-- 15&#45;&#45;2 -->\n<g id=\"edge25\" class=\"edge\">\n<title>15--2</title>\n<path fill=\"none\" stroke=\"black\" d=\"M290.84,-181C284.52,-179.6 277.57,-178.06 271.07,-176.63\"/>\n<text text-anchor=\"middle\" x=\"278.96\" y=\"-181.41\" font-family=\"Times,serif\" font-size=\"8.00\">1</text>\n</g>\n<!-- 15&#45;&#45;3 -->\n<g id=\"edge24\" class=\"edge\">\n<title>15--3</title>\n<path fill=\"none\" stroke=\"black\" d=\"M297.56,-203.88C295.93,-205.86 294.28,-207.86 292.67,-209.82\"/>\n<text text-anchor=\"middle\" x=\"293.12\" y=\"-200.45\" font-family=\"Times,serif\" font-size=\"8.00\">2</text>\n</g>\n<!-- 15&#45;&#45;12 -->\n<g id=\"edge26\" class=\"edge\">\n<title>15--12</title>\n<path fill=\"none\" stroke=\"black\" d=\"M290.95,-197.53C277.76,-204.73 260.91,-213.93 247.6,-221.2\"/>\n<text text-anchor=\"middle\" x=\"267.28\" y=\"-202.97\" font-family=\"Times,serif\" font-size=\"8.00\">1</text>\n</g>\n<!-- 16 -->\n<g id=\"node17\" class=\"node\">\n<title>16</title>\n<polygon fill=\"lightyellow\" stroke=\"black\" points=\"180.82,-181.78 131.82,-181.78 131.82,-145.78 180.82,-145.78 180.82,-181.78\"/>\n<text text-anchor=\"middle\" x=\"156.32\" y=\"-160\" font-family=\"Times,serif\" font-size=\"14.72\">None</text>\n</g>\n<!-- 16&#45;&#45;0 -->\n<g id=\"edge27\" class=\"edge\">\n<title>16--0</title>\n<path fill=\"none\" stroke=\"black\" d=\"M146.04,-181.9C142.1,-188.84 137.62,-196.75 133.72,-203.63\"/>\n<text text-anchor=\"middle\" x=\"137.88\" y=\"-195.36\" font-family=\"Times,serif\" font-size=\"8.00\">2</text>\n</g>\n<!-- 16&#45;&#45;5 -->\n<g id=\"edge30\" class=\"edge\">\n<title>16--5</title>\n<path fill=\"none\" stroke=\"black\" d=\"M131.59,-172.93C129.32,-173.77 127.02,-174.63 124.74,-175.47\"/>\n<text text-anchor=\"middle\" x=\"130.17\" y=\"-176.8\" font-family=\"Times,serif\" font-size=\"8.00\">2</text>\n</g>\n<!-- 16&#45;&#45;7 -->\n<g id=\"edge31\" class=\"edge\">\n<title>16--7</title>\n<path fill=\"none\" stroke=\"black\" d=\"M180.95,-145.85C187.06,-141.4 193.52,-136.69 199.39,-132.42\"/>\n<text text-anchor=\"middle\" x=\"188.17\" y=\"-141.73\" font-family=\"Times,serif\" font-size=\"8.00\">2</text>\n</g>\n<!-- 16&#45;&#45;9 -->\n<g id=\"edge32\" class=\"edge\">\n<title>16--9</title>\n<path fill=\"none\" stroke=\"black\" d=\"M167.8,-145.61C174.37,-135.21 182.58,-122.23 189.06,-111.98\"/>\n<text text-anchor=\"middle\" x=\"176.43\" y=\"-122.4\" font-family=\"Times,serif\" font-size=\"8.00\">1</text>\n</g>\n<!-- 16&#45;&#45;10 -->\n<g id=\"edge33\" class=\"edge\">\n<title>16--10</title>\n<path fill=\"none\" stroke=\"black\" d=\"M156.97,-145.59C157.29,-136.36 157.69,-125.15 158.02,-115.86\"/>\n<text text-anchor=\"middle\" x=\"155.49\" y=\"-133.33\" font-family=\"Times,serif\" font-size=\"8.00\">1</text>\n</g>\n<!-- 16&#45;&#45;11 -->\n<g id=\"edge28\" class=\"edge\">\n<title>16--11</title>\n<path fill=\"none\" stroke=\"black\" d=\"M162.07,-181.89C166.63,-196.29 172.98,-216.34 177.57,-230.8\"/>\n<text text-anchor=\"middle\" x=\"167.82\" y=\"-208.95\" font-family=\"Times,serif\" font-size=\"8.00\">2</text>\n</g>\n<!-- 16&#45;&#45;12 -->\n<g id=\"edge29\" class=\"edge\">\n<title>16--12</title>\n<path fill=\"none\" stroke=\"black\" d=\"M174.48,-182.04C185.52,-193.15 199.46,-207.18 209.97,-217.75\"/>\n<text text-anchor=\"middle\" x=\"190.22\" y=\"-202.5\" font-family=\"Times,serif\" font-size=\"8.00\">2</text>\n</g>\n<!-- 17 -->\n<g id=\"node18\" class=\"node\">\n<title>17</title>\n<polygon fill=\"none\" stroke=\"black\" points=\"201.84,-36 160.84,-36 160.84,0 201.84,0 201.84,-36\"/>\n<text text-anchor=\"middle\" x=\"181.34\" y=\"-15.21\" font-family=\"Times,serif\" font-size=\"10.99\">None</text>\n</g>\n<!-- 17&#45;&#45;9 -->\n<g id=\"edge34\" class=\"edge\">\n<title>17--9</title>\n<path fill=\"none\" stroke=\"black\" d=\"M185.76,-36.16C188.72,-48.29 192.59,-64.19 195.55,-76.35\"/>\n<text text-anchor=\"middle\" x=\"188.66\" y=\"-58.86\" font-family=\"Times,serif\" font-size=\"8.00\">1</text>\n</g>\n<!-- 17&#45;&#45;10 -->\n<g id=\"edge35\" class=\"edge\">\n<title>17--10</title>\n<path fill=\"none\" stroke=\"black\" d=\"M176.08,-36.38C172.42,-49.18 167.56,-66.18 163.9,-78.96\"/>\n<text text-anchor=\"middle\" x=\"167.99\" y=\"-60.27\" font-family=\"Times,serif\" font-size=\"8.00\">1</text>\n</g>\n<!-- 18 -->\n<g id=\"node19\" class=\"node\">\n<title>18</title>\n<polygon fill=\"lightyellow\" stroke=\"black\" points=\"140.45,-295.87 97.45,-295.87 97.45,-259.87 140.45,-259.87 140.45,-295.87\"/>\n<text text-anchor=\"middle\" x=\"118.95\" y=\"-274.78\" font-family=\"Times,serif\" font-size=\"11.99\">None</text>\n</g>\n<!-- 18&#45;&#45;0 -->\n<g id=\"edge36\" class=\"edge\">\n<title>18--0</title>\n<path fill=\"none\" stroke=\"black\" d=\"M120.52,-259.58C121.07,-253.22 121.68,-246.08 122.23,-239.69\"/>\n<text text-anchor=\"middle\" x=\"119.38\" y=\"-252.23\" font-family=\"Times,serif\" font-size=\"8.00\">1</text>\n</g>\n<!-- 18&#45;&#45;5 -->\n<g id=\"edge39\" class=\"edge\">\n<title>18--5</title>\n<path fill=\"none\" stroke=\"black\" d=\"M115.12,-259.48C111.72,-243.16 106.78,-219.45 103.38,-203.14\"/>\n<text text-anchor=\"middle\" x=\"107.25\" y=\"-233.91\" font-family=\"Times,serif\" font-size=\"8.00\">1</text>\n</g>\n<!-- 18&#45;&#45;12 -->\n<g id=\"edge38\" class=\"edge\">\n<title>18--12</title>\n<path fill=\"none\" stroke=\"black\" d=\"M140.5,-268.85C158,-261.53 182.68,-251.19 200.93,-243.56\"/>\n<text text-anchor=\"middle\" x=\"168.71\" y=\"-258.8\" font-family=\"Times,serif\" font-size=\"8.00\">1</text>\n</g>\n<!-- 18&#45;&#45;14 -->\n<g id=\"edge37\" class=\"edge\">\n<title>18--14</title>\n<path fill=\"none\" stroke=\"black\" d=\"M140.56,-286.82C144.68,-288.53 149.02,-290.32 153.21,-292.06\"/>\n<text text-anchor=\"middle\" x=\"144.88\" y=\"-292.04\" font-family=\"Times,serif\" font-size=\"8.00\">1</text>\n</g>\n<!-- 19 -->\n<g id=\"node20\" class=\"node\">\n<title>19</title>\n<polygon fill=\"lightyellow\" stroke=\"black\" points=\"60.94,-273.95 17.94,-273.95 17.94,-237.95 60.94,-237.95 60.94,-273.95\"/>\n<text text-anchor=\"middle\" x=\"39.44\" y=\"-252.86\" font-family=\"Times,serif\" font-size=\"11.99\">None</text>\n</g>\n<!-- 19&#45;&#45;0 -->\n<g id=\"edge40\" class=\"edge\">\n<title>19--0</title>\n<path fill=\"none\" stroke=\"black\" d=\"M61.18,-246.96C72.9,-242.11 87.4,-236.11 99.5,-231.11\"/>\n<text text-anchor=\"middle\" x=\"78.34\" y=\"-241.63\" font-family=\"Times,serif\" font-size=\"8.00\">4</text>\n</g>\n<!-- 20 -->\n<g id=\"node21\" class=\"node\">\n<title>20</title>\n<polygon fill=\"lightyellow\" stroke=\"black\" points=\"151.95,-148.56 108.95,-148.56 108.95,-112.56 151.95,-112.56 151.95,-148.56\"/>\n<text text-anchor=\"middle\" x=\"130.45\" y=\"-127.62\" font-family=\"Times,serif\" font-size=\"12.42\">None</text>\n</g>\n<!-- 20&#45;&#45;0 -->\n<g id=\"edge42\" class=\"edge\">\n<title>20--0</title>\n<path fill=\"none\" stroke=\"black\" d=\"M129.11,-148.87C127.97,-164.47 126.34,-186.77 125.2,-202.45\"/>\n<text text-anchor=\"middle\" x=\"129.15\" y=\"-169.26\" font-family=\"Times,serif\" font-size=\"8.00\">1</text>\n</g>\n<!-- 20&#45;&#45;2 -->\n<g id=\"edge43\" class=\"edge\">\n<title>20--2</title>\n<path fill=\"none\" stroke=\"black\" d=\"M151.99,-138.1C172.3,-145.22 202.63,-155.84 223.41,-163.11\"/>\n<text text-anchor=\"middle\" x=\"185.7\" y=\"-144.21\" font-family=\"Times,serif\" font-size=\"8.00\">1</text>\n</g>\n<!-- 20&#45;&#45;5 -->\n<g id=\"edge41\" class=\"edge\">\n<title>20--5</title>\n<path fill=\"none\" stroke=\"black\" d=\"M120.16,-148.62C116.72,-154.66 112.9,-161.38 109.49,-167.37\"/>\n<text text-anchor=\"middle\" x=\"112.83\" y=\"-160.59\" font-family=\"Times,serif\" font-size=\"8.00\">2</text>\n</g>\n<!-- 20&#45;&#45;7 -->\n<g id=\"edge44\" class=\"edge\">\n<title>20--7</title>\n<path fill=\"none\" stroke=\"black\" d=\"M152.02,-127.46C162.73,-125.92 175.89,-124.02 187.73,-122.32\"/>\n<text text-anchor=\"middle\" x=\"167.88\" y=\"-127.49\" font-family=\"Times,serif\" font-size=\"8.00\">1</text>\n</g>\n<!-- 21 -->\n<g id=\"node22\" class=\"node\">\n<title>21</title>\n<polygon fill=\"lightyellow\" stroke=\"black\" points=\"276.01,-323.73 233.01,-323.73 233.01,-287.73 276.01,-287.73 276.01,-323.73\"/>\n<text text-anchor=\"middle\" x=\"254.51\" y=\"-302.64\" font-family=\"Times,serif\" font-size=\"11.99\">None</text>\n</g>\n<!-- 21&#45;&#45;3 -->\n<g id=\"edge48\" class=\"edge\">\n<title>21--3</title>\n<path fill=\"none\" stroke=\"black\" d=\"M260.12,-287.42C264.03,-274.66 269.22,-257.72 273.12,-244.99\"/>\n<text text-anchor=\"middle\" x=\"264.62\" y=\"-268.8\" font-family=\"Times,serif\" font-size=\"8.00\">1</text>\n</g>\n<!-- 21&#45;&#45;11 -->\n<g id=\"edge45\" class=\"edge\">\n<title>21--11</title>\n<path fill=\"none\" stroke=\"black\" d=\"M232.79,-288.46C223.15,-280.79 211.9,-271.85 202.57,-264.44\"/>\n<text text-anchor=\"middle\" x=\"215.68\" y=\"-279.05\" font-family=\"Times,serif\" font-size=\"8.00\">1</text>\n</g>\n<!-- 21&#45;&#45;12 -->\n<g id=\"edge47\" class=\"edge\">\n<title>21--12</title>\n<path fill=\"none\" stroke=\"black\" d=\"M247.17,-287.46C242.73,-276.39 237.08,-262.34 232.66,-251.32\"/>\n<text text-anchor=\"middle\" x=\"237.91\" y=\"-271.99\" font-family=\"Times,serif\" font-size=\"8.00\">1</text>\n</g>\n<!-- 21&#45;&#45;14 -->\n<g id=\"edge46\" class=\"edge\">\n<title>21--14</title>\n<path fill=\"none\" stroke=\"black\" d=\"M232.91,-304.67C224.13,-304.23 213.87,-303.72 204.56,-303.26\"/>\n<text text-anchor=\"middle\" x=\"216.74\" y=\"-306.56\" font-family=\"Times,serif\" font-size=\"8.00\">1</text>\n</g>\n</g>\n</svg>"
          },
          "metadata": {}
        }
      ]
    },
    {
      "cell_type": "markdown",
      "source": [
        "#### 3.2.6 | *Yamabuki*, en. kerria"
      ],
      "metadata": {
        "id": "zjvjqiEpdyEs"
      }
    },
    {
      "cell_type": "code",
      "source": [
        "dot_viz_aggr(\"山吹\")"
      ],
      "metadata": {
        "id": "WqVkus9t8C5h",
        "colab": {
          "base_uri": "https://localhost:8080/",
          "height": 928
        },
        "outputId": "0256457a-9147-4500-97e6-021110925551"
      },
      "execution_count": 26,
      "outputs": [
        {
          "output_type": "display_data",
          "data": {
            "text/plain": [
              "<IPython.core.display.SVG object>"
            ],
            "image/svg+xml": "<svg xmlns=\"http://www.w3.org/2000/svg\" xmlns:xlink=\"http://www.w3.org/1999/xlink\" width=\"566pt\" height=\"680pt\" viewBox=\"0.00 0.00 565.89 680.39\">\n<g id=\"graph0\" class=\"graph\" transform=\"scale(1 1) rotate(0) translate(4 676.39)\">\n<title>%3</title>\n<polygon fill=\"white\" stroke=\"transparent\" points=\"-4,4 -4,-676.39 561.89,-676.39 561.89,4 -4,4\"/>\n<!-- 0 -->\n<g id=\"node1\" class=\"node\">\n<title>0</title>\n<ellipse fill=\"lightgrey\" stroke=\"black\" cx=\"261.85\" cy=\"-377.03\" rx=\"38.37\" ry=\"18.27\"/>\n<text text-anchor=\"middle\" x=\"261.85\" y=\"-379.63\" font-family=\"Times,serif\" font-size=\"8.00\">山吹</text>\n<text text-anchor=\"middle\" x=\"261.85\" y=\"-370.63\" font-family=\"Times,serif\" font-size=\"8.00\">(OZW)</text>\n</g>\n<!-- 1 -->\n<g id=\"node2\" class=\"node\">\n<title>1</title>\n<polygon fill=\"none\" stroke=\"black\" points=\"370.86,-410.19 331.86,-410.19 331.86,-374.19 370.86,-374.19 370.86,-410.19\"/>\n<text text-anchor=\"middle\" x=\"351.36\" y=\"-389.37\" font-family=\"Times,serif\" font-size=\"10.40\">None</text>\n</g>\n<!-- 1&#45;&#45;0 -->\n<g id=\"edge1\" class=\"edge\">\n<title>1--0</title>\n<path fill=\"none\" stroke=\"black\" d=\"M331.49,-388.82C321.71,-387.17 309.59,-385.12 298.23,-383.19\"/>\n<text text-anchor=\"middle\" x=\"312.86\" y=\"-388.61\" font-family=\"Times,serif\" font-size=\"8.00\">1</text>\n</g>\n<!-- 2 -->\n<g id=\"node3\" class=\"node\">\n<title>2</title>\n<ellipse fill=\"lightgrey\" stroke=\"black\" cx=\"413.88\" cy=\"-273.3\" rx=\"38.37\" ry=\"18.27\"/>\n<text text-anchor=\"middle\" x=\"413.88\" y=\"-275.9\" font-family=\"Times,serif\" font-size=\"8.00\">山吹</text>\n<text text-anchor=\"middle\" x=\"413.88\" y=\"-266.9\" font-family=\"Times,serif\" font-size=\"8.00\">(KTGR)</text>\n</g>\n<!-- 3 -->\n<g id=\"node4\" class=\"node\">\n<title>3</title>\n<polygon fill=\"none\" stroke=\"black\" points=\"349.9,-314.93 308.9,-314.93 308.9,-278.93 349.9,-278.93 349.9,-314.93\"/>\n<text text-anchor=\"middle\" x=\"329.4\" y=\"-294.14\" font-family=\"Times,serif\" font-size=\"10.99\">None</text>\n</g>\n<!-- 3&#45;&#45;2 -->\n<g id=\"edge2\" class=\"edge\">\n<title>3--2</title>\n<path fill=\"none\" stroke=\"black\" d=\"M350.28,-291.09C359.47,-288.52 370.48,-285.44 380.75,-282.57\"/>\n<text text-anchor=\"middle\" x=\"363.51\" y=\"-289.43\" font-family=\"Times,serif\" font-size=\"8.00\">1</text>\n</g>\n<!-- 4 -->\n<g id=\"node5\" class=\"node\">\n<title>4</title>\n<ellipse fill=\"lightgrey\" stroke=\"black\" cx=\"229.14\" cy=\"-341.5\" rx=\"38.37\" ry=\"18.27\"/>\n<text text-anchor=\"middle\" x=\"229.14\" y=\"-344.1\" font-family=\"Times,serif\" font-size=\"8.00\">山吹</text>\n<text text-anchor=\"middle\" x=\"229.14\" y=\"-335.1\" font-family=\"Times,serif\" font-size=\"8.00\">(OKMR)</text>\n</g>\n<!-- 4&#45;&#45;3 -->\n<g id=\"edge3\" class=\"edge\">\n<title>4--3</title>\n<path fill=\"none\" stroke=\"black\" d=\"M257.33,-328.96C273.67,-321.7 293.87,-312.72 308.72,-306.12\"/>\n<text text-anchor=\"middle\" x=\"281.03\" y=\"-311.14\" font-family=\"Times,serif\" font-size=\"8.00\">1</text>\n</g>\n<!-- 5 -->\n<g id=\"node6\" class=\"node\">\n<title>5</title>\n<ellipse fill=\"lightgrey\" stroke=\"black\" cx=\"154.49\" cy=\"-213.3\" rx=\"38.37\" ry=\"18.27\"/>\n<text text-anchor=\"middle\" x=\"154.49\" y=\"-215.9\" font-family=\"Times,serif\" font-size=\"8.00\">山吹</text>\n<text text-anchor=\"middle\" x=\"154.49\" y=\"-206.9\" font-family=\"Times,serif\" font-size=\"8.00\">(KNK)</text>\n</g>\n<!-- 6 -->\n<g id=\"node7\" class=\"node\">\n<title>6</title>\n<polygon fill=\"none\" stroke=\"black\" points=\"89.44,-264.65 50.44,-264.65 50.44,-228.65 89.44,-228.65 89.44,-264.65\"/>\n<text text-anchor=\"middle\" x=\"69.94\" y=\"-243.84\" font-family=\"Times,serif\" font-size=\"10.40\">None</text>\n</g>\n<!-- 6&#45;&#45;5 -->\n<g id=\"edge4\" class=\"edge\">\n<title>6--5</title>\n<path fill=\"none\" stroke=\"black\" d=\"M89.55,-238.92C99.99,-234.8 113.05,-229.65 124.71,-225.05\"/>\n<text text-anchor=\"middle\" x=\"105.13\" y=\"-234.58\" font-family=\"Times,serif\" font-size=\"8.00\">1</text>\n</g>\n<!-- 7 -->\n<g id=\"node8\" class=\"node\">\n<title>7</title>\n<ellipse fill=\"lightgrey\" stroke=\"black\" cx=\"433.46\" cy=\"-554.21\" rx=\"38.37\" ry=\"18.27\"/>\n<text text-anchor=\"middle\" x=\"433.46\" y=\"-556.81\" font-family=\"Times,serif\" font-size=\"8.00\">山吹</text>\n<text text-anchor=\"middle\" x=\"433.46\" y=\"-547.81\" font-family=\"Times,serif\" font-size=\"8.00\">(K&amp;A)</text>\n</g>\n<!-- 8 -->\n<g id=\"node9\" class=\"node\">\n<title>8</title>\n<polygon fill=\"none\" stroke=\"black\" points=\"496.85,-629.63 457.85,-629.63 457.85,-593.63 496.85,-593.63 496.85,-629.63\"/>\n<text text-anchor=\"middle\" x=\"477.35\" y=\"-608.81\" font-family=\"Times,serif\" font-size=\"10.40\">None</text>\n</g>\n<!-- 8&#45;&#45;7 -->\n<g id=\"edge5\" class=\"edge\">\n<title>8--7</title>\n<path fill=\"none\" stroke=\"black\" d=\"M463.46,-593.46C458.14,-586.49 452.08,-578.57 446.81,-571.67\"/>\n<text text-anchor=\"middle\" x=\"453.13\" y=\"-585.16\" font-family=\"Times,serif\" font-size=\"8.00\">1</text>\n</g>\n<!-- 9 -->\n<g id=\"node10\" class=\"node\">\n<title>9</title>\n<polygon fill=\"none\" stroke=\"black\" points=\"243.07,-175.97 204.07,-175.97 204.07,-139.97 243.07,-139.97 243.07,-175.97\"/>\n<text text-anchor=\"middle\" x=\"223.57\" y=\"-155.15\" font-family=\"Times,serif\" font-size=\"10.40\">None</text>\n</g>\n<!-- 9&#45;&#45;5 -->\n<g id=\"edge6\" class=\"edge\">\n<title>9--5</title>\n<path fill=\"none\" stroke=\"black\" d=\"M203.96,-173.68C194.71,-181.09 183.68,-189.92 174.39,-197.36\"/>\n<text text-anchor=\"middle\" x=\"187.18\" y=\"-188.12\" font-family=\"Times,serif\" font-size=\"8.00\">1</text>\n</g>\n<!-- 10 -->\n<g id=\"node11\" class=\"node\">\n<title>10</title>\n<polygon fill=\"none\" stroke=\"black\" points=\"95.94,-220.52 56.94,-220.52 56.94,-184.52 95.94,-184.52 95.94,-220.52\"/>\n<text text-anchor=\"middle\" x=\"76.44\" y=\"-199.71\" font-family=\"Times,serif\" font-size=\"10.40\">None</text>\n</g>\n<!-- 10&#45;&#45;5 -->\n<g id=\"edge7\" class=\"edge\">\n<title>10--5</title>\n<path fill=\"none\" stroke=\"black\" d=\"M96.14,-205.24C102.73,-206.15 110.31,-207.2 117.77,-208.23\"/>\n<text text-anchor=\"middle\" x=\"104.96\" y=\"-209.34\" font-family=\"Times,serif\" font-size=\"8.00\">1</text>\n</g>\n<!-- 11 -->\n<g id=\"node12\" class=\"node\">\n<title>11</title>\n<polygon fill=\"none\" stroke=\"black\" points=\"130.54,-158.71 89.54,-158.71 89.54,-122.71 130.54,-122.71 130.54,-158.71\"/>\n<text text-anchor=\"middle\" x=\"110.04\" y=\"-137.92\" font-family=\"Times,serif\" font-size=\"10.99\">None</text>\n</g>\n<!-- 11&#45;&#45;5 -->\n<g id=\"edge8\" class=\"edge\">\n<title>11--5</title>\n<path fill=\"none\" stroke=\"black\" d=\"M121.26,-159.03C128.05,-170.12 136.67,-184.2 143.43,-195.24\"/>\n<text text-anchor=\"middle\" x=\"130.35\" y=\"-179.73\" font-family=\"Times,serif\" font-size=\"8.00\">1</text>\n</g>\n<!-- 12 -->\n<g id=\"node13\" class=\"node\">\n<title>12</title>\n<ellipse fill=\"lightgrey\" stroke=\"black\" cx=\"66.45\" cy=\"-75.3\" rx=\"38.37\" ry=\"18.27\"/>\n<text text-anchor=\"middle\" x=\"66.45\" y=\"-77.9\" font-family=\"Times,serif\" font-size=\"8.00\">山吹</text>\n<text text-anchor=\"middle\" x=\"66.45\" y=\"-68.9\" font-family=\"Times,serif\" font-size=\"8.00\">(TKOK)</text>\n</g>\n<!-- 12&#45;&#45;11 -->\n<g id=\"edge9\" class=\"edge\">\n<title>12--11</title>\n<path fill=\"none\" stroke=\"black\" d=\"M78.14,-92.83C84.29,-102.06 91.82,-113.37 98.03,-122.68\"/>\n<text text-anchor=\"middle\" x=\"86.08\" y=\"-110.35\" font-family=\"Times,serif\" font-size=\"8.00\">1</text>\n</g>\n<!-- 13 -->\n<g id=\"node14\" class=\"node\">\n<title>13</title>\n<ellipse fill=\"lightgrey\" stroke=\"black\" cx=\"216.3\" cy=\"-505.76\" rx=\"38.37\" ry=\"18.27\"/>\n<text text-anchor=\"middle\" x=\"216.3\" y=\"-508.36\" font-family=\"Times,serif\" font-size=\"8.00\">山吹</text>\n<text text-anchor=\"middle\" x=\"216.3\" y=\"-499.36\" font-family=\"Times,serif\" font-size=\"8.00\">(KSJ)</text>\n</g>\n<!-- 14 -->\n<g id=\"node15\" class=\"node\">\n<title>14</title>\n<polygon fill=\"none\" stroke=\"black\" points=\"302.04,-484.51 261.04,-484.51 261.04,-448.51 302.04,-448.51 302.04,-484.51\"/>\n<text text-anchor=\"middle\" x=\"281.54\" y=\"-463.72\" font-family=\"Times,serif\" font-size=\"10.99\">None</text>\n</g>\n<!-- 14&#45;&#45;0 -->\n<g id=\"edge11\" class=\"edge\">\n<title>14--0</title>\n<path fill=\"none\" stroke=\"black\" d=\"M277.56,-448.4C274.16,-432.98 269.31,-410.92 265.89,-395.42\"/>\n<text text-anchor=\"middle\" x=\"269.73\" y=\"-424.51\" font-family=\"Times,serif\" font-size=\"8.00\">1</text>\n</g>\n<!-- 14&#45;&#45;13 -->\n<g id=\"edge10\" class=\"edge\">\n<title>14--13</title>\n<path fill=\"none\" stroke=\"black\" d=\"M260.9,-478.93C254.33,-482.88 247,-487.29 240.22,-491.37\"/>\n<text text-anchor=\"middle\" x=\"248.56\" y=\"-478.75\" font-family=\"Times,serif\" font-size=\"8.00\">1</text>\n</g>\n<!-- 15 -->\n<g id=\"node16\" class=\"node\">\n<title>15</title>\n<polygon fill=\"none\" stroke=\"black\" points=\"270.48,-598.64 229.48,-598.64 229.48,-562.64 270.48,-562.64 270.48,-598.64\"/>\n<text text-anchor=\"middle\" x=\"249.98\" y=\"-577.85\" font-family=\"Times,serif\" font-size=\"10.99\">None</text>\n</g>\n<!-- 15&#45;&#45;13 -->\n<g id=\"edge12\" class=\"edge\">\n<title>15--13</title>\n<path fill=\"none\" stroke=\"black\" d=\"M241.83,-562.52C236.57,-550.83 229.76,-535.69 224.49,-523.98\"/>\n<text text-anchor=\"middle\" x=\"231.16\" y=\"-545.85\" font-family=\"Times,serif\" font-size=\"8.00\">1</text>\n</g>\n<!-- 16 -->\n<g id=\"node17\" class=\"node\">\n<title>16</title>\n<ellipse fill=\"lightgrey\" stroke=\"black\" cx=\"268.99\" cy=\"-654\" rx=\"38.37\" ry=\"18.27\"/>\n<text text-anchor=\"middle\" x=\"268.99\" y=\"-656.6\" font-family=\"Times,serif\" font-size=\"8.00\">山吹</text>\n<text text-anchor=\"middle\" x=\"268.99\" y=\"-647.6\" font-family=\"Times,serif\" font-size=\"8.00\">(MTD)</text>\n</g>\n<!-- 16&#45;&#45;15 -->\n<g id=\"edge13\" class=\"edge\">\n<title>16--15</title>\n<path fill=\"none\" stroke=\"black\" d=\"M264.19,-635.49C261.29,-624.29 257.6,-610.05 254.71,-598.9\"/>\n<text text-anchor=\"middle\" x=\"257.45\" y=\"-619.79\" font-family=\"Times,serif\" font-size=\"8.00\">1</text>\n</g>\n<!-- 17 -->\n<g id=\"node18\" class=\"node\">\n<title>17</title>\n<ellipse fill=\"lightgrey\" stroke=\"black\" cx=\"467.18\" cy=\"-379.64\" rx=\"38.37\" ry=\"18.27\"/>\n<text text-anchor=\"middle\" x=\"467.18\" y=\"-382.24\" font-family=\"Times,serif\" font-size=\"8.00\">山吹</text>\n<text text-anchor=\"middle\" x=\"467.18\" y=\"-373.24\" font-family=\"Times,serif\" font-size=\"8.00\">(KBT)</text>\n</g>\n<!-- 18 -->\n<g id=\"node19\" class=\"node\">\n<title>18</title>\n<polygon fill=\"none\" stroke=\"black\" points=\"557.89,-387 518.89,-387 518.89,-351 557.89,-351 557.89,-387\"/>\n<text text-anchor=\"middle\" x=\"538.39\" y=\"-366.18\" font-family=\"Times,serif\" font-size=\"10.40\">None</text>\n</g>\n<!-- 18&#45;&#45;17 -->\n<g id=\"edge14\" class=\"edge\">\n<title>18--17</title>\n<path fill=\"none\" stroke=\"black\" d=\"M518.56,-371.96C513.95,-372.65 508.9,-373.41 503.82,-374.17\"/>\n<text text-anchor=\"middle\" x=\"509.19\" y=\"-375.66\" font-family=\"Times,serif\" font-size=\"8.00\">1</text>\n</g>\n<!-- 19 -->\n<g id=\"node20\" class=\"node\">\n<title>19</title>\n<polygon fill=\"none\" stroke=\"black\" points=\"202.36,-156.63 163.36,-156.63 163.36,-120.63 202.36,-120.63 202.36,-156.63\"/>\n<text text-anchor=\"middle\" x=\"182.86\" y=\"-135.82\" font-family=\"Times,serif\" font-size=\"10.40\">None</text>\n</g>\n<!-- 19&#45;&#45;5 -->\n<g id=\"edge15\" class=\"edge\">\n<title>19--5</title>\n<path fill=\"none\" stroke=\"black\" d=\"M175.99,-156.71C171.57,-168.36 165.83,-183.46 161.39,-195.13\"/>\n<text text-anchor=\"middle\" x=\"166.69\" y=\"-178.52\" font-family=\"Times,serif\" font-size=\"8.00\">1</text>\n</g>\n<!-- 20 -->\n<g id=\"node21\" class=\"node\">\n<title>20</title>\n<polygon fill=\"none\" stroke=\"black\" points=\"510.19,-271.63 471.19,-271.63 471.19,-235.63 510.19,-235.63 510.19,-271.63\"/>\n<text text-anchor=\"middle\" x=\"490.69\" y=\"-250.81\" font-family=\"Times,serif\" font-size=\"10.40\">None</text>\n</g>\n<!-- 20&#45;&#45;2 -->\n<g id=\"edge16\" class=\"edge\">\n<title>20--2</title>\n<path fill=\"none\" stroke=\"black\" d=\"M470.91,-258.7C463.8,-260.52 455.56,-262.63 447.6,-264.67\"/>\n<text text-anchor=\"middle\" x=\"457.25\" y=\"-264.28\" font-family=\"Times,serif\" font-size=\"8.00\">1</text>\n</g>\n<!-- 21 -->\n<g id=\"node22\" class=\"node\">\n<title>21</title>\n<polygon fill=\"none\" stroke=\"black\" points=\"168.01,-572.12 129.01,-572.12 129.01,-536.12 168.01,-536.12 168.01,-572.12\"/>\n<text text-anchor=\"middle\" x=\"148.51\" y=\"-551.3\" font-family=\"Times,serif\" font-size=\"10.40\">None</text>\n</g>\n<!-- 21&#45;&#45;13 -->\n<g id=\"edge17\" class=\"edge\">\n<title>21--13</title>\n<path fill=\"none\" stroke=\"black\" d=\"M168.11,-540.13C176.4,-534.22 186.09,-527.31 194.59,-521.24\"/>\n<text text-anchor=\"middle\" x=\"179.35\" y=\"-533.29\" font-family=\"Times,serif\" font-size=\"8.00\">1</text>\n</g>\n<!-- 22 -->\n<g id=\"node23\" class=\"node\">\n<title>22</title>\n<polygon fill=\"lightyellow\" stroke=\"black\" points=\"225.35,-304.79 182.35,-304.79 182.35,-268.79 225.35,-268.79 225.35,-304.79\"/>\n<text text-anchor=\"middle\" x=\"203.85\" y=\"-283.86\" font-family=\"Times,serif\" font-size=\"12.42\">None</text>\n</g>\n<!-- 22&#45;&#45;0 -->\n<g id=\"edge21\" class=\"edge\">\n<title>22--0</title>\n<path fill=\"none\" stroke=\"black\" d=\"M215.59,-305.06C225.78,-320.92 240.45,-343.74 250.52,-359.41\"/>\n<text text-anchor=\"middle\" x=\"231.06\" y=\"-334.83\" font-family=\"Times,serif\" font-size=\"8.00\">1</text>\n</g>\n<!-- 22&#45;&#45;4 -->\n<g id=\"edge20\" class=\"edge\">\n<title>22--4</title>\n<path fill=\"none\" stroke=\"black\" d=\"M212.27,-305.01C215.03,-310.98 218.09,-317.6 220.84,-323.55\"/>\n<text text-anchor=\"middle\" x=\"214.56\" y=\"-316.88\" font-family=\"Times,serif\" font-size=\"8.00\">1</text>\n</g>\n<!-- 22&#45;&#45;5 -->\n<g id=\"edge18\" class=\"edge\">\n<title>22--5</title>\n<path fill=\"none\" stroke=\"black\" d=\"M191.65,-268.63C183.94,-257.15 174.03,-242.39 166.38,-231\"/>\n<text text-anchor=\"middle\" x=\"177.01\" y=\"-252.42\" font-family=\"Times,serif\" font-size=\"8.00\">2</text>\n</g>\n<!-- 23 -->\n<g id=\"node24\" class=\"node\">\n<title>23</title>\n<ellipse fill=\"lightgrey\" stroke=\"black\" cx=\"188.83\" cy=\"-357.89\" rx=\"38.37\" ry=\"18.27\"/>\n<text text-anchor=\"middle\" x=\"188.83\" y=\"-360.49\" font-family=\"Times,serif\" font-size=\"8.00\">山吹</text>\n<text text-anchor=\"middle\" x=\"188.83\" y=\"-351.49\" font-family=\"Times,serif\" font-size=\"8.00\">(KMCY)</text>\n</g>\n<!-- 23&#45;&#45;22 -->\n<g id=\"edge19\" class=\"edge\">\n<title>23--22</title>\n<path fill=\"none\" stroke=\"black\" d=\"M192.7,-339.58C194.96,-328.88 197.8,-315.44 200.05,-304.79\"/>\n<text text-anchor=\"middle\" x=\"194.37\" y=\"-315.79\" font-family=\"Times,serif\" font-size=\"8.00\">1</text>\n</g>\n<!-- 24 -->\n<g id=\"node25\" class=\"node\">\n<title>24</title>\n<polygon fill=\"lightyellow\" stroke=\"black\" points=\"223.27,-442.52 178.27,-442.52 178.27,-406.52 223.27,-406.52 223.27,-442.52\"/>\n<text text-anchor=\"middle\" x=\"200.77\" y=\"-421.26\" font-family=\"Times,serif\" font-size=\"12.82\">None</text>\n</g>\n<!-- 24&#45;&#45;0 -->\n<g id=\"edge25\" class=\"edge\">\n<title>24--0</title>\n<path fill=\"none\" stroke=\"black\" d=\"M223.51,-406.84C229.48,-402.19 235.88,-397.22 241.7,-392.7\"/>\n<text text-anchor=\"middle\" x=\"230.6\" y=\"-402.37\" font-family=\"Times,serif\" font-size=\"8.00\">1</text>\n</g>\n<!-- 24&#45;&#45;4 -->\n<g id=\"edge23\" class=\"edge\">\n<title>24--4</title>\n<path fill=\"none\" stroke=\"black\" d=\"M206.92,-406.5C211.65,-392.67 218.15,-373.65 222.9,-359.76\"/>\n<text text-anchor=\"middle\" x=\"212.91\" y=\"-385.73\" font-family=\"Times,serif\" font-size=\"8.00\">2</text>\n</g>\n<!-- 24&#45;&#45;13 -->\n<g id=\"edge24\" class=\"edge\">\n<title>24--13</title>\n<path fill=\"none\" stroke=\"black\" d=\"M204.21,-442.55C206.75,-455.82 210.19,-473.82 212.75,-487.22\"/>\n<text text-anchor=\"middle\" x=\"206.48\" y=\"-467.48\" font-family=\"Times,serif\" font-size=\"8.00\">1</text>\n</g>\n<!-- 24&#45;&#45;23 -->\n<g id=\"edge22\" class=\"edge\">\n<title>24--23</title>\n<path fill=\"none\" stroke=\"black\" d=\"M197.5,-406.31C195.85,-397.06 193.84,-385.85 192.17,-376.54\"/>\n<text text-anchor=\"middle\" x=\"192.84\" y=\"-394.02\" font-family=\"Times,serif\" font-size=\"8.00\">2</text>\n</g>\n<!-- 25 -->\n<g id=\"node26\" class=\"node\">\n<title>25</title>\n<polygon fill=\"none\" stroke=\"black\" points=\"429,-504 390,-504 390,-468 429,-468 429,-504\"/>\n<text text-anchor=\"middle\" x=\"409.5\" y=\"-483.18\" font-family=\"Times,serif\" font-size=\"10.40\">None</text>\n</g>\n<!-- 25&#45;&#45;7 -->\n<g id=\"edge26\" class=\"edge\">\n<title>25--7</title>\n<path fill=\"none\" stroke=\"black\" d=\"M415.92,-504.28C419.36,-514.06 423.58,-526.08 427.02,-535.88\"/>\n<text text-anchor=\"middle\" x=\"419.47\" y=\"-522.68\" font-family=\"Times,serif\" font-size=\"8.00\">1</text>\n</g>\n<!-- 26 -->\n<g id=\"node27\" class=\"node\">\n<title>26</title>\n<polygon fill=\"none\" stroke=\"black\" points=\"39,-36 0,-36 0,0 39,0 39,-36\"/>\n<text text-anchor=\"middle\" x=\"19.5\" y=\"-15.18\" font-family=\"Times,serif\" font-size=\"10.40\">None</text>\n</g>\n<!-- 26&#45;&#45;12 -->\n<g id=\"edge27\" class=\"edge\">\n<title>26--12</title>\n<path fill=\"none\" stroke=\"black\" d=\"M34.36,-36.13C40.05,-43.08 46.53,-50.99 52.18,-57.87\"/>\n<text text-anchor=\"middle\" x=\"41.27\" y=\"-49.6\" font-family=\"Times,serif\" font-size=\"8.00\">1</text>\n</g>\n<!-- 27 -->\n<g id=\"node28\" class=\"node\">\n<title>27</title>\n<polygon fill=\"lightyellow\" stroke=\"black\" points=\"253.25,-444.6 210.25,-444.6 210.25,-408.6 253.25,-408.6 253.25,-444.6\"/>\n<text text-anchor=\"middle\" x=\"231.75\" y=\"-423.51\" font-family=\"Times,serif\" font-size=\"11.99\">None</text>\n</g>\n<!-- 27&#45;&#45;0 -->\n<g id=\"edge31\" class=\"edge\">\n<title>27--0</title>\n<path fill=\"none\" stroke=\"black\" d=\"M242.79,-408.43C245.47,-404.01 248.34,-399.28 251.02,-394.88\"/>\n<text text-anchor=\"middle\" x=\"244.9\" y=\"-404.25\" font-family=\"Times,serif\" font-size=\"8.00\">1</text>\n</g>\n<!-- 27&#45;&#45;4 -->\n<g id=\"edge30\" class=\"edge\">\n<title>27--4</title>\n<path fill=\"none\" stroke=\"black\" d=\"M231.2,-408.55C230.76,-394.31 230.15,-374.5 229.71,-360.11\"/>\n<text text-anchor=\"middle\" x=\"228.46\" y=\"-386.93\" font-family=\"Times,serif\" font-size=\"8.00\">1</text>\n</g>\n<!-- 27&#45;&#45;13 -->\n<g id=\"edge29\" class=\"edge\">\n<title>27--13</title>\n<path fill=\"none\" stroke=\"black\" d=\"M228.17,-444.96C225.69,-457.66 222.4,-474.49 219.92,-487.23\"/>\n<text text-anchor=\"middle\" x=\"222.04\" y=\"-468.69\" font-family=\"Times,serif\" font-size=\"8.00\">1</text>\n</g>\n<!-- 27&#45;&#45;23 -->\n<g id=\"edge28\" class=\"edge\">\n<title>27--23</title>\n<path fill=\"none\" stroke=\"black\" d=\"M220.48,-408.55C214.12,-398.37 206.21,-385.7 199.88,-375.58\"/>\n<text text-anchor=\"middle\" x=\"208.18\" y=\"-394.67\" font-family=\"Times,serif\" font-size=\"8.00\">1</text>\n</g>\n<!-- 28 -->\n<g id=\"node29\" class=\"node\">\n<title>28</title>\n<polygon fill=\"none\" stroke=\"black\" points=\"313.42,-350.56 272.42,-350.56 272.42,-314.56 313.42,-314.56 313.42,-350.56\"/>\n<text text-anchor=\"middle\" x=\"292.92\" y=\"-329.78\" font-family=\"Times,serif\" font-size=\"10.99\">None</text>\n</g>\n<!-- 28&#45;&#45;0 -->\n<g id=\"edge33\" class=\"edge\">\n<title>28--0</title>\n<path fill=\"none\" stroke=\"black\" d=\"M280.28,-350.65C278.27,-353.54 276.18,-356.52 274.17,-359.39\"/>\n<text text-anchor=\"middle\" x=\"275.23\" y=\"-348.62\" font-family=\"Times,serif\" font-size=\"8.00\">1</text>\n</g>\n<!-- 28&#45;&#45;23 -->\n<g id=\"edge32\" class=\"edge\">\n<title>28--23</title>\n<path fill=\"none\" stroke=\"black\" d=\"M272.36,-337.57C258.38,-340.97 239.54,-345.55 223.29,-349.51\"/>\n<text text-anchor=\"middle\" x=\"245.82\" y=\"-346.14\" font-family=\"Times,serif\" font-size=\"8.00\">1</text>\n</g>\n<!-- 29 -->\n<g id=\"node30\" class=\"node\">\n<title>29</title>\n<polygon fill=\"none\" stroke=\"black\" points=\"145.92,-382.7 106.92,-382.7 106.92,-346.7 145.92,-346.7 145.92,-382.7\"/>\n<text text-anchor=\"middle\" x=\"126.42\" y=\"-361.88\" font-family=\"Times,serif\" font-size=\"10.40\">None</text>\n</g>\n<!-- 29&#45;&#45;4 -->\n<g id=\"edge34\" class=\"edge\">\n<title>29--4</title>\n<path fill=\"none\" stroke=\"black\" d=\"M146.22,-360.22C159.87,-357.14 178.36,-352.97 194.42,-349.34\"/>\n<text text-anchor=\"middle\" x=\"168.32\" y=\"-348.38\" font-family=\"Times,serif\" font-size=\"8.00\">1</text>\n</g>\n</g>\n</svg>"
          },
          "metadata": {}
        }
      ]
    },
    {
      "cell_type": "markdown",
      "source": [
        "## 3.2 | Breakdown Visualization"
      ],
      "metadata": {
        "id": "ZHpL6qZMfh5t"
      }
    },
    {
      "cell_type": "code",
      "source": [
        "def retrive_igraph_by_poem_by_translator(idx: str, *source_words):\n",
        "    \"\"\"Retrive igraph format data from one poem with a translator attension.\n",
        "\n",
        "    :return graph: igraph-converted information.\n",
        "    \"\"\"\n",
        "    target_word_set = set()\n",
        "    source_word_translator_set = set()\n",
        "    alignment_lst = DB.query_improper_alignment_by_word_in_poem(idx, *source_words)    \n",
        "    alignment_lst = list(_filter(alignment_lst))\n",
        "    alignment_summary = bitexts.AlignmentSummary(alignment_lst)\n",
        "    edge_info = alignment_summary.alignment_info  # For edges\" annotation\n",
        "    \n",
        "    return _gen_graph(alignment_summary, edge_info, source_words, source_word_translator_set, target_word_set)"
      ],
      "metadata": {
        "id": "lCAvtmmHwaUU"
      },
      "execution_count": 27,
      "outputs": []
    },
    {
      "cell_type": "code",
      "source": [
        "def dot_viz_brkd(word, width=None):\n",
        "    code = lemma2metacode(word, metacode2lemma_map_src)\n",
        "    candidates = DB.query_bitext_by_word(code)\n",
        "    poems = {}\n",
        "    candidates = DB.query_bitext_by_word(code)\n",
        "    for candidate in candidates:\n",
        "        if candidate.poem in poems.keys():\n",
        "            break\n",
        "        poems[candidate.poem] = candidate.source_surface\n",
        "        print(candidate.poem, candidate.source_surface)\n",
        "    idx = str(input(\"Input poem id: \"))\n",
        "    print(idx, poems[idx])\n",
        "    query = DB.query_by_poem(idx)\n",
        "    for candidate in query:\n",
        "        print(candidate.translator, candidate.target_surface)\n",
        "\n",
        "    g = retrive_igraph_by_poem_by_translator(idx, code)\n",
        "    g.write_dot(f\"../artifacts/{idx}-{word}.dot\")\n",
        "    if width:\n",
        "        with open(f\"../artifacts/{idx}-{word}.dot\", \"r\") as file:\n",
        "            lines = file.readlines()\n",
        "\n",
        "        # attr\n",
        "        lines.insert(2, f'  size=\"{width},\";\\n')\n",
        "        lines.insert(3, '  ratio=\"fill\";\\n')\n",
        "        # lines.insert(4, '  mode=\"ipsep\";\\n')\n",
        "        # lines.insert(5, '  sep=1;\\n')\n",
        "        # lines.insert(6, '  overlap=false;\\n')\n",
        "\n",
        "        with open(f\"../artifacts/{word}.dot\", \"w\") as file:\n",
        "            file.writelines(lines)\n",
        "\n",
        "    neato_command = f\"neato -Tsvg ../artifacts/{idx}-{word}.dot -o ../artifacts/{idx}-{word}.svg\"\n",
        "    subprocess.run(neato_command, shell=True, check=True)\n",
        "    display(SVG(filename=f\"../artifacts/{idx}-{word}.svg\")) "
      ],
      "metadata": {
        "id": "Gl-AFN5KiHyA"
      },
      "execution_count": 28,
      "outputs": []
    },
    {
      "cell_type": "markdown",
      "source": [
        "#### 3.2.1 | Example"
      ],
      "metadata": {
        "id": "XpQIZOiT1voj"
      }
    },
    {
      "cell_type": "code",
      "source": [
        "dot_viz_brkd(\"女郎花\")"
      ],
      "metadata": {
        "id": "BGi4Qy9XkVb8",
        "colab": {
          "base_uri": "https://localhost:8080/",
          "height": 693
        },
        "outputId": "cd33cd22-a888-4f7d-db09-0ae156afa95a"
      },
      "execution_count": 29,
      "outputs": [
        {
          "output_type": "stream",
          "name": "stdout",
          "text": [
            "226 なにめてゝおれるはかりそ女郎花われおちにきと人にかたるな\n",
            "227 女郎花うしと見つゝそゆきすくるおとこ山にしたてりと思へは\n",
            "228 秋のゝにやとりはすへし女郎花なをむつましみたひならなくに\n",
            "229 女郎花おほかる野邊にやとりせはあやなくあたの名をやたちなん\n",
            "230 女郎花秋のゝ風にうちなひき心ひとつをたれによすらん\n",
            "231 秋ならてあふことかたき女郎花あまのかはらにおひぬ物ゆへ\n",
            "232 たか秋にあらぬ物ゆへ女郎花なそ色に出てまたきうつろふ\n",
            "233 妻こふる鹿そ鳴なるをみなへしをのかすむのゝ花としらすや\n",
            "234 をみなへし吹過てくる秋風はめにはみえねとかこそしるけれ\n",
            "235 人のみることやくるしき女郎花秋霧にのみ立かくるらん\n",
            "236 ひとりのみなかむるよりはをみなへしわかすむやとにうへてみましを\n",
            "237 女郎花うしろめたくもみゆるかなあれたる宿にひとりたてれは\n",
            "238 花にあかてなにかへるらん女郎花おほかるのへにねなましものを\n",
            "Input poem id: 226\n",
            "226 なにめてゝおれるはかりそ女郎花われおちにきと人にかたるな\n",
            "kaneko ■■■■■■■■■■■■■■■■■■■■■■■■■■■■■■■■■■■■■■■■■■■■■■■■■■■■■■■■■■■■■■■■■■■■■\n",
            "katagiri ■■■■■■■■■■■■■■■■■■■■■■■■■■■■■■■■■■■■■■■■■\n",
            "kojimaarai ■■■■■■■■■■■■■■■■■■■■■■■■■■■■■■■■■■■■■■■■■■■■■■■■\n",
            "komachiya ■■■■■■■■■■■■■■■■■■■■■■■■■■■■■■■■■■■■■■■■■■■■■■■\n",
            "kubota ■■■■■■■■■■■■■■■■■■■■■■■■■■■■■■■■■■■■■■■■■■■■■■■■■■■■■■■■■■■\n",
            "kyusojin ■■■■■■■■■■■■■■■■■■■■■■■■■■■■■■■■■■■■■■■■■■■■■■■■■■■■■\n",
            "matsuda ■■■■■■■■■■■■■■■■■■■■■■■■■■■■■■■■■■■■■■■■■■■■■■■■■\n",
            "okumura ■■■■■■■■■■■■■■■■■■■■■■■■■■■■■■■■■■■■■■■■■■■■■■■■■■■\n",
            "ozawa ■■■■■■■■■■■■■■■■■■■■■■■■■■■■■■■■■■■■■■■■■■■■■■■■■■■■■■■■■■■■■■■■■■■\n",
            "takeoka ■■■■■■■■■■■■■■■■■■■■■■■■■■■■■■■■■■■■■■■■■■■■■■■■■■■■■■■■■■■\n"
          ]
        },
        {
          "output_type": "display_data",
          "data": {
            "text/plain": [
              "<IPython.core.display.SVG object>"
            ],
            "image/svg+xml": "<svg xmlns=\"http://www.w3.org/2000/svg\" xmlns:xlink=\"http://www.w3.org/1999/xlink\" width=\"281pt\" height=\"178pt\" viewBox=\"0.00 0.00 280.74 177.82\">\n<g id=\"graph0\" class=\"graph\" transform=\"scale(1 1) rotate(0) translate(4 173.82)\">\n<title>%3</title>\n<polygon fill=\"white\" stroke=\"transparent\" points=\"-4,4 -4,-173.82 276.74,-173.82 276.74,4 -4,4\"/>\n<!-- 0 -->\n<g id=\"node1\" class=\"node\">\n<title>0</title>\n<ellipse fill=\"lightgrey\" stroke=\"black\" cx=\"86.27\" cy=\"-121.75\" rx=\"51.74\" ry=\"18.27\"/>\n<text text-anchor=\"middle\" x=\"86.27\" y=\"-124.35\" font-family=\"Times,serif\" font-size=\"8.00\">女郎花</text>\n<text text-anchor=\"middle\" x=\"86.27\" y=\"-115.35\" font-family=\"Times,serif\" font-size=\"8.00\">(KNK)</text>\n</g>\n<!-- 1 -->\n<g id=\"node2\" class=\"node\">\n<title>1</title>\n<polygon fill=\"lightyellow\" stroke=\"black\" points=\"179.55,-112.47 136.55,-112.47 136.55,-76.47 179.55,-76.47 179.55,-112.47\"/>\n<text text-anchor=\"middle\" x=\"158.05\" y=\"-91.37\" font-family=\"Times,serif\" font-size=\"11.99\">None</text>\n</g>\n<!-- 1&#45;&#45;0 -->\n<g id=\"edge1\" class=\"edge\">\n<title>1--0</title>\n<path fill=\"none\" stroke=\"black\" d=\"M136.51,-102.65C131.8,-104.44 126.7,-106.38 121.62,-108.31\"/>\n<text text-anchor=\"middle\" x=\"127.06\" y=\"-99.08\" font-family=\"Times,serif\" font-size=\"8.00\">2</text>\n</g>\n<!-- 2 -->\n<g id=\"node3\" class=\"node\">\n<title>2</title>\n<ellipse fill=\"lightgrey\" stroke=\"black\" cx=\"174.09\" cy=\"-18.38\" rx=\"51.74\" ry=\"18.27\"/>\n<text text-anchor=\"middle\" x=\"174.09\" y=\"-20.98\" font-family=\"Times,serif\" font-size=\"8.00\">女郎花</text>\n<text text-anchor=\"middle\" x=\"174.09\" y=\"-11.98\" font-family=\"Times,serif\" font-size=\"8.00\">(KMCY)</text>\n</g>\n<!-- 2&#45;&#45;1 -->\n<g id=\"edge2\" class=\"edge\">\n<title>2--1</title>\n<path fill=\"none\" stroke=\"black\" d=\"M170.21,-36.8C167.68,-48.76 164.41,-64.29 161.89,-76.22\"/>\n<text text-anchor=\"middle\" x=\"164.05\" y=\"-59.11\" font-family=\"Times,serif\" font-size=\"8.00\">1</text>\n</g>\n<!-- 3 -->\n<g id=\"node4\" class=\"node\">\n<title>3</title>\n<ellipse fill=\"lightgrey\" stroke=\"black\" cx=\"221.12\" cy=\"-139.98\" rx=\"51.74\" ry=\"18.27\"/>\n<text text-anchor=\"middle\" x=\"221.12\" y=\"-142.58\" font-family=\"Times,serif\" font-size=\"8.00\">女郎花</text>\n<text text-anchor=\"middle\" x=\"221.12\" y=\"-133.58\" font-family=\"Times,serif\" font-size=\"8.00\">(MTD)</text>\n</g>\n<!-- 3&#45;&#45;1 -->\n<g id=\"edge3\" class=\"edge\">\n<title>3--1</title>\n<path fill=\"none\" stroke=\"black\" d=\"M197.99,-123.29C192.09,-119.03 185.75,-114.46 179.91,-110.25\"/>\n<text text-anchor=\"middle\" x=\"186.95\" y=\"-110.37\" font-family=\"Times,serif\" font-size=\"8.00\">1</text>\n</g>\n<!-- 4 -->\n<g id=\"node5\" class=\"node\">\n<title>4</title>\n<polygon fill=\"none\" stroke=\"black\" points=\"39,-169.82 0,-169.82 0,-133.82 39,-133.82 39,-169.82\"/>\n<text text-anchor=\"middle\" x=\"19.5\" y=\"-149\" font-family=\"Times,serif\" font-size=\"10.40\">None</text>\n</g>\n<!-- 4&#45;&#45;0 -->\n<g id=\"edge4\" class=\"edge\">\n<title>4--0</title>\n<path fill=\"none\" stroke=\"black\" d=\"M39.17,-142.96C43.87,-140.84 49,-138.53 54.09,-136.24\"/>\n<text text-anchor=\"middle\" x=\"44.63\" y=\"-142.2\" font-family=\"Times,serif\" font-size=\"8.00\">1</text>\n</g>\n</g>\n</svg>"
          },
          "metadata": {}
        }
      ]
    },
    {
      "cell_type": "markdown",
      "source": [
        "# 4 | Alignment efficiency"
      ],
      "metadata": {
        "id": "ktIEj5sMt0uy"
      }
    },
    {
      "cell_type": "code",
      "source": [
        "os.chdir('/content/misalignVis')\n",
        "print(os.getcwd())"
      ],
      "metadata": {
        "colab": {
          "base_uri": "https://localhost:8080/"
        },
        "id": "hmh4_Bn4uEj2",
        "outputId": "5f39972d-86be-40b9-ff9a-2d42574a2fba"
      },
      "execution_count": 30,
      "outputs": [
        {
          "output_type": "stream",
          "name": "stdout",
          "text": [
            "/content/misalignVis\n"
          ]
        }
      ]
    },
    {
      "cell_type": "code",
      "source": [
        "!make accuracy"
      ],
      "metadata": {
        "id": "M1BuHUJK_UQG",
        "colab": {
          "base_uri": "https://localhost:8080/"
        },
        "outputId": "98025d4d-6424-4d60-d18d-f34238cda1f8"
      },
      "execution_count": 31,
      "outputs": [
        {
          "output_type": "stream",
          "name": "stdout",
          "text": [
            "cd src; python accuracy.py; column -s, -t ../artifacts/accuracy.csv\n",
            "2023-05-29 04:52:56,177 [INFO] Loading...\n",
            "2023-05-29 04:53:08,147 [Info] Calculating precision, recall and AER...\n",
            "2023-05-29 04:53:08,147 [Info] Done.\n",
            "model      source → target  target → source  bidirection\n",
            "precision  55.41            38.25            69.85\n",
            "recall     61.68            72.54            56.43\n",
            "AER        41.97            52.78            37.01\n"
          ]
        }
      ]
    },
    {
      "cell_type": "code",
      "source": [],
      "metadata": {
        "id": "-bryY_ASuAI3"
      },
      "execution_count": null,
      "outputs": []
    }
  ]
}