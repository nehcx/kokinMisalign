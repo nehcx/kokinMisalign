{
  "nbformat": 4,
  "nbformat_minor": 0,
  "metadata": {
    "colab": {
      "provenance": [],
      "authorship_tag": "ABX9TyPLglo6QT9CYPEKFPOm0QMO",
      "include_colab_link": true
    },
    "kernelspec": {
      "name": "python3",
      "display_name": "Python 3"
    },
    "language_info": {
      "name": "python"
    }
  },
  "cells": [
    {
      "cell_type": "markdown",
      "metadata": {
        "id": "view-in-github",
        "colab_type": "text"
      },
      "source": [
        "<a href=\"https://colab.research.google.com/github/nehcx/misalignVis/blob/master/ccls_replication.ipynb\" target=\"_parent\"><img src=\"https://colab.research.google.com/assets/colab-badge.svg\" alt=\"Open In Colab\"/></a>"
      ]
    },
    {
      "cell_type": "markdown",
      "source": [
        "# 1 | Requirements"
      ],
      "metadata": {
        "id": "qolxmfu1OP2o"
      }
    },
    {
      "cell_type": "code",
      "execution_count": 1,
      "metadata": {
        "colab": {
          "base_uri": "https://localhost:8080/"
        },
        "id": "gjn5Yi2hR-zV",
        "outputId": "6b5111b9-2899-4599-e4fe-0868ac0365a9"
      },
      "outputs": [
        {
          "output_type": "stream",
          "name": "stdout",
          "text": [
            "Cloning into 'misalignVis'...\n",
            "remote: Enumerating objects: 58, done.\u001b[K\n",
            "remote: Counting objects: 100% (58/58), done.\u001b[K\n",
            "remote: Compressing objects: 100% (50/50), done.\u001b[K\n",
            "remote: Total 58 (delta 5), reused 35 (delta 2), pack-reused 0\u001b[K\n",
            "Unpacking objects: 100% (58/58), 23.50 MiB | 2.76 MiB/s, done.\n",
            "Submodule 'data/hachidaishu' (https://github.com/nehcx/hachidaishu.git) registered for path 'data/hachidaishu'\n",
            "Cloning into '/content/misalignVis/data/hachidaishu'...\n",
            "remote: Enumerating objects: 70, done.        \n",
            "remote: Counting objects: 100% (70/70), done.        \n",
            "remote: Compressing objects: 100% (57/57), done.        \n",
            "remote: Total 70 (delta 20), reused 54 (delta 12), pack-reused 0        \n",
            "Submodule path 'data/hachidaishu': checked out 'a0aaf7e0a42689db7ad2a78ab2eef9d5ac22341c'\n"
          ]
        }
      ],
      "source": [
        "!git clone -b master --depth=1 --recursive https://github.com/nehcx/misalignVis"
      ]
    },
    {
      "cell_type": "code",
      "source": [
        "import os\n",
        "os.chdir('/content/misalignVis')\n",
        "print(os.getcwd())"
      ],
      "metadata": {
        "colab": {
          "base_uri": "https://localhost:8080/"
        },
        "id": "To7HbyARVhiX",
        "outputId": "a019dd0f-c947-4e8d-d53b-a6e6aaa7b8ce"
      },
      "execution_count": 2,
      "outputs": [
        {
          "output_type": "stream",
          "name": "stdout",
          "text": [
            "/content/misalignVis\n"
          ]
        }
      ]
    },
    {
      "cell_type": "code",
      "source": [
        "# !apt-get install -y python-igraph \n",
        "!pip install -r requirements.txt"
      ],
      "metadata": {
        "id": "5dOLzuh7WbRN",
        "colab": {
          "base_uri": "https://localhost:8080/",
          "height": 1000
        },
        "outputId": "e712ad74-2235-4c35-99d4-933268dd4060"
      },
      "execution_count": 3,
      "outputs": [
        {
          "output_type": "stream",
          "name": "stdout",
          "text": [
            "Looking in indexes: https://pypi.org/simple, https://us-python.pkg.dev/colab-wheels/public/simple/\n",
            "Collecting dill==0.3.5.1 (from -r requirements.txt (line 1))\n",
            "  Downloading dill-0.3.5.1-py2.py3-none-any.whl (95 kB)\n",
            "\u001b[2K     \u001b[90m━━━━━━━━━━━━━━━━━━━━━━━━━━━━━━━━━━━━━━━━\u001b[0m \u001b[32m95.8/95.8 kB\u001b[0m \u001b[31m4.6 MB/s\u001b[0m eta \u001b[36m0:00:00\u001b[0m\n",
            "\u001b[?25hCollecting pandas==1.4.3 (from -r requirements.txt (line 2))\n",
            "  Downloading pandas-1.4.3-cp310-cp310-manylinux_2_17_x86_64.manylinux2014_x86_64.whl (11.6 MB)\n",
            "\u001b[2K     \u001b[90m━━━━━━━━━━━━━━━━━━━━━━━━━━━━━━━━━━━━━━━━\u001b[0m \u001b[32m11.6/11.6 MB\u001b[0m \u001b[31m80.1 MB/s\u001b[0m eta \u001b[36m0:00:00\u001b[0m\n",
            "\u001b[?25hCollecting omegaconf==2.2.2 (from -r requirements.txt (line 3))\n",
            "  Downloading omegaconf-2.2.2-py3-none-any.whl (79 kB)\n",
            "\u001b[2K     \u001b[90m━━━━━━━━━━━━━━━━━━━━━━━━━━━━━━━━━━━━━━━━\u001b[0m \u001b[32m79.1/79.1 kB\u001b[0m \u001b[31m10.2 MB/s\u001b[0m eta \u001b[36m0:00:00\u001b[0m\n",
            "\u001b[?25hCollecting hydra-core==1.2.0 (from -r requirements.txt (line 4))\n",
            "  Downloading hydra_core-1.2.0-py3-none-any.whl (151 kB)\n",
            "\u001b[2K     \u001b[90m━━━━━━━━━━━━━━━━━━━━━━━━━━━━━━━━━━━━━━\u001b[0m \u001b[32m151.1/151.1 kB\u001b[0m \u001b[31m17.6 MB/s\u001b[0m eta \u001b[36m0:00:00\u001b[0m\n",
            "\u001b[?25hCollecting nltk==3.7.0 (from -r requirements.txt (line 5))\n",
            "  Downloading nltk-3.7-py3-none-any.whl (1.5 MB)\n",
            "\u001b[2K     \u001b[90m━━━━━━━━━━━━━━━━━━━━━━━━━━━━━━━━━━━━━━━━\u001b[0m \u001b[32m1.5/1.5 MB\u001b[0m \u001b[31m70.6 MB/s\u001b[0m eta \u001b[36m0:00:00\u001b[0m\n",
            "\u001b[?25hCollecting pytest==6.2.2 (from -r requirements.txt (line 6))\n",
            "  Downloading pytest-6.2.2-py3-none-any.whl (280 kB)\n",
            "\u001b[2K     \u001b[90m━━━━━━━━━━━━━━━━━━━━━━━━━━━━━━━━━━━━━━\u001b[0m \u001b[32m280.1/280.1 kB\u001b[0m \u001b[31m30.5 MB/s\u001b[0m eta \u001b[36m0:00:00\u001b[0m\n",
            "\u001b[?25hCollecting leidenalg==0.8.10 (from -r requirements.txt (line 7))\n",
            "  Downloading leidenalg-0.8.10-cp310-cp310-manylinux_2_17_x86_64.manylinux2014_x86_64.whl (1.3 MB)\n",
            "\u001b[2K     \u001b[90m━━━━━━━━━━━━━━━━━━━━━━━━━━━━━━━━━━━━━━━━\u001b[0m \u001b[32m1.3/1.3 MB\u001b[0m \u001b[31m75.7 MB/s\u001b[0m eta \u001b[36m0:00:00\u001b[0m\n",
            "\u001b[?25hCollecting cairocffi==1.3.0 (from -r requirements.txt (line 8))\n",
            "  Downloading cairocffi-1.3.0.tar.gz (88 kB)\n",
            "\u001b[2K     \u001b[90m━━━━━━━━━━━━━━━━━━━━━━━━━━━━━━━━━━━━━━━━\u001b[0m \u001b[32m88.8/88.8 kB\u001b[0m \u001b[31m11.0 MB/s\u001b[0m eta \u001b[36m0:00:00\u001b[0m\n",
            "\u001b[?25h  Preparing metadata (setup.py) ... \u001b[?25l\u001b[?25hdone\n",
            "Collecting chart-studio==1.1.0 (from -r requirements.txt (line 9))\n",
            "  Downloading chart_studio-1.1.0-py3-none-any.whl (64 kB)\n",
            "\u001b[2K     \u001b[90m━━━━━━━━━━━━━━━━━━━━━━━━━━━━━━━━━━━━━━━━\u001b[0m \u001b[32m64.4/64.4 kB\u001b[0m \u001b[31m8.4 MB/s\u001b[0m eta \u001b[36m0:00:00\u001b[0m\n",
            "\u001b[?25hCollecting dash==2.7.1 (from -r requirements.txt (line 10))\n",
            "  Downloading dash-2.7.1-py3-none-any.whl (9.9 MB)\n",
            "\u001b[2K     \u001b[90m━━━━━━━━━━━━━━━━━━━━━━━━━━━━━━━━━━━━━━━━\u001b[0m \u001b[32m9.9/9.9 MB\u001b[0m \u001b[31m105.5 MB/s\u001b[0m eta \u001b[36m0:00:00\u001b[0m\n",
            "\u001b[?25hCollecting dash-html-components==2.0.0 (from -r requirements.txt (line 11))\n",
            "  Downloading dash_html_components-2.0.0-py3-none-any.whl (4.1 kB)\n",
            "Collecting dash-core-components==2.0.0 (from -r requirements.txt (line 12))\n",
            "  Downloading dash_core_components-2.0.0-py3-none-any.whl (3.8 kB)\n",
            "Collecting dash-table==5.0.0 (from -r requirements.txt (line 13))\n",
            "  Downloading dash_table-5.0.0-py3-none-any.whl (3.9 kB)\n",
            "Requirement already satisfied: python-dateutil>=2.8.1 in /usr/local/lib/python3.10/dist-packages (from pandas==1.4.3->-r requirements.txt (line 2)) (2.8.2)\n",
            "Requirement already satisfied: pytz>=2020.1 in /usr/local/lib/python3.10/dist-packages (from pandas==1.4.3->-r requirements.txt (line 2)) (2022.7.1)\n",
            "Requirement already satisfied: numpy>=1.21.0 in /usr/local/lib/python3.10/dist-packages (from pandas==1.4.3->-r requirements.txt (line 2)) (1.22.4)\n",
            "Collecting antlr4-python3-runtime==4.9.* (from omegaconf==2.2.2->-r requirements.txt (line 3))\n",
            "  Downloading antlr4-python3-runtime-4.9.3.tar.gz (117 kB)\n",
            "\u001b[2K     \u001b[90m━━━━━━━━━━━━━━━━━━━━━━━━━━━━━━━━━━━━━━\u001b[0m \u001b[32m117.0/117.0 kB\u001b[0m \u001b[31m14.3 MB/s\u001b[0m eta \u001b[36m0:00:00\u001b[0m\n",
            "\u001b[?25h  Preparing metadata (setup.py) ... \u001b[?25l\u001b[?25hdone\n",
            "Requirement already satisfied: PyYAML>=5.1.0 in /usr/local/lib/python3.10/dist-packages (from omegaconf==2.2.2->-r requirements.txt (line 3)) (6.0)\n",
            "Requirement already satisfied: packaging in /usr/local/lib/python3.10/dist-packages (from hydra-core==1.2.0->-r requirements.txt (line 4)) (23.1)\n",
            "Requirement already satisfied: click in /usr/local/lib/python3.10/dist-packages (from nltk==3.7.0->-r requirements.txt (line 5)) (8.1.3)\n",
            "Requirement already satisfied: joblib in /usr/local/lib/python3.10/dist-packages (from nltk==3.7.0->-r requirements.txt (line 5)) (1.2.0)\n",
            "Requirement already satisfied: regex>=2021.8.3 in /usr/local/lib/python3.10/dist-packages (from nltk==3.7.0->-r requirements.txt (line 5)) (2022.10.31)\n",
            "Requirement already satisfied: tqdm in /usr/local/lib/python3.10/dist-packages (from nltk==3.7.0->-r requirements.txt (line 5)) (4.65.0)\n",
            "Requirement already satisfied: attrs>=19.2.0 in /usr/local/lib/python3.10/dist-packages (from pytest==6.2.2->-r requirements.txt (line 6)) (23.1.0)\n",
            "Requirement already satisfied: iniconfig in /usr/local/lib/python3.10/dist-packages (from pytest==6.2.2->-r requirements.txt (line 6)) (2.0.0)\n",
            "Collecting pluggy<1.0.0a1,>=0.12 (from pytest==6.2.2->-r requirements.txt (line 6))\n",
            "  Downloading pluggy-0.13.1-py2.py3-none-any.whl (18 kB)\n",
            "Collecting py>=1.8.2 (from pytest==6.2.2->-r requirements.txt (line 6))\n",
            "  Downloading py-1.11.0-py2.py3-none-any.whl (98 kB)\n",
            "\u001b[2K     \u001b[90m━━━━━━━━━━━━━━━━━━━━━━━━━━━━━━━━━━━━━━━━\u001b[0m \u001b[32m98.7/98.7 kB\u001b[0m \u001b[31m12.7 MB/s\u001b[0m eta \u001b[36m0:00:00\u001b[0m\n",
            "\u001b[?25hRequirement already satisfied: toml in /usr/local/lib/python3.10/dist-packages (from pytest==6.2.2->-r requirements.txt (line 6)) (0.10.2)\n",
            "Collecting igraph<0.10,>=0.9.0 (from leidenalg==0.8.10->-r requirements.txt (line 7))\n",
            "  Downloading igraph-0.9.11-cp310-cp310-manylinux_2_17_x86_64.manylinux2014_x86_64.whl (3.2 MB)\n",
            "\u001b[2K     \u001b[90m━━━━━━━━━━━━━━━━━━━━━━━━━━━━━━━━━━━━━━━━\u001b[0m \u001b[32m3.2/3.2 MB\u001b[0m \u001b[31m98.6 MB/s\u001b[0m eta \u001b[36m0:00:00\u001b[0m\n",
            "\u001b[?25hRequirement already satisfied: cffi>=1.1.0 in /usr/local/lib/python3.10/dist-packages (from cairocffi==1.3.0->-r requirements.txt (line 8)) (1.15.1)\n",
            "Requirement already satisfied: plotly in /usr/local/lib/python3.10/dist-packages (from chart-studio==1.1.0->-r requirements.txt (line 9)) (5.13.1)\n",
            "Requirement already satisfied: requests in /usr/local/lib/python3.10/dist-packages (from chart-studio==1.1.0->-r requirements.txt (line 9)) (2.27.1)\n",
            "Collecting retrying>=1.3.3 (from chart-studio==1.1.0->-r requirements.txt (line 9))\n",
            "  Downloading retrying-1.3.4-py3-none-any.whl (11 kB)\n",
            "Requirement already satisfied: six in /usr/local/lib/python3.10/dist-packages (from chart-studio==1.1.0->-r requirements.txt (line 9)) (1.16.0)\n",
            "Requirement already satisfied: Flask>=1.0.4 in /usr/local/lib/python3.10/dist-packages (from dash==2.7.1->-r requirements.txt (line 10)) (2.2.4)\n",
            "Requirement already satisfied: pycparser in /usr/local/lib/python3.10/dist-packages (from cffi>=1.1.0->cairocffi==1.3.0->-r requirements.txt (line 8)) (2.21)\n",
            "Requirement already satisfied: Werkzeug>=2.2.2 in /usr/local/lib/python3.10/dist-packages (from Flask>=1.0.4->dash==2.7.1->-r requirements.txt (line 10)) (2.3.0)\n",
            "Requirement already satisfied: Jinja2>=3.0 in /usr/local/lib/python3.10/dist-packages (from Flask>=1.0.4->dash==2.7.1->-r requirements.txt (line 10)) (3.1.2)\n",
            "Requirement already satisfied: itsdangerous>=2.0 in /usr/local/lib/python3.10/dist-packages (from Flask>=1.0.4->dash==2.7.1->-r requirements.txt (line 10)) (2.1.2)\n",
            "Collecting texttable>=1.6.2 (from igraph<0.10,>=0.9.0->leidenalg==0.8.10->-r requirements.txt (line 7))\n",
            "  Downloading texttable-1.6.7-py2.py3-none-any.whl (10 kB)\n",
            "Requirement already satisfied: tenacity>=6.2.0 in /usr/local/lib/python3.10/dist-packages (from plotly->chart-studio==1.1.0->-r requirements.txt (line 9)) (8.2.2)\n",
            "Requirement already satisfied: urllib3<1.27,>=1.21.1 in /usr/local/lib/python3.10/dist-packages (from requests->chart-studio==1.1.0->-r requirements.txt (line 9)) (1.26.15)\n",
            "Requirement already satisfied: certifi>=2017.4.17 in /usr/local/lib/python3.10/dist-packages (from requests->chart-studio==1.1.0->-r requirements.txt (line 9)) (2022.12.7)\n",
            "Requirement already satisfied: charset-normalizer~=2.0.0 in /usr/local/lib/python3.10/dist-packages (from requests->chart-studio==1.1.0->-r requirements.txt (line 9)) (2.0.12)\n",
            "Requirement already satisfied: idna<4,>=2.5 in /usr/local/lib/python3.10/dist-packages (from requests->chart-studio==1.1.0->-r requirements.txt (line 9)) (3.4)\n",
            "Requirement already satisfied: MarkupSafe>=2.0 in /usr/local/lib/python3.10/dist-packages (from Jinja2>=3.0->Flask>=1.0.4->dash==2.7.1->-r requirements.txt (line 10)) (2.1.2)\n",
            "Building wheels for collected packages: cairocffi, antlr4-python3-runtime\n",
            "  Building wheel for cairocffi (setup.py) ... \u001b[?25l\u001b[?25hdone\n",
            "  Created wheel for cairocffi: filename=cairocffi-1.3.0-py3-none-any.whl size=89665 sha256=4ff4133cbee950ba262570b8d3401fdca7aa82f0f2236ecbe1c1fad1655d3074\n",
            "  Stored in directory: /root/.cache/pip/wheels/c3/77/5d/2392b6f4bc3fa25bdcc58f3b63e23ab0f571a6e807836b22ab\n",
            "  Building wheel for antlr4-python3-runtime (setup.py) ... \u001b[?25l\u001b[?25hdone\n",
            "  Created wheel for antlr4-python3-runtime: filename=antlr4_python3_runtime-4.9.3-py3-none-any.whl size=144554 sha256=1bbfe0fd88dc3320ca797ed9bc2203cb9d1d77e60c5f6393acc140fd2db07037\n",
            "  Stored in directory: /root/.cache/pip/wheels/12/93/dd/1f6a127edc45659556564c5730f6d4e300888f4bca2d4c5a88\n",
            "Successfully built cairocffi antlr4-python3-runtime\n",
            "Installing collected packages: texttable, dash-table, dash-html-components, dash-core-components, antlr4-python3-runtime, retrying, py, pluggy, omegaconf, nltk, igraph, dill, pytest, pandas, leidenalg, hydra-core, chart-studio, cairocffi, dash\n",
            "  Attempting uninstall: pluggy\n",
            "    Found existing installation: pluggy 1.0.0\n",
            "    Uninstalling pluggy-1.0.0:\n",
            "      Successfully uninstalled pluggy-1.0.0\n",
            "  Attempting uninstall: nltk\n",
            "    Found existing installation: nltk 3.8.1\n",
            "    Uninstalling nltk-3.8.1:\n",
            "      Successfully uninstalled nltk-3.8.1\n",
            "  Attempting uninstall: pytest\n",
            "    Found existing installation: pytest 7.2.2\n",
            "    Uninstalling pytest-7.2.2:\n",
            "      Successfully uninstalled pytest-7.2.2\n",
            "  Attempting uninstall: pandas\n",
            "    Found existing installation: pandas 1.5.3\n",
            "    Uninstalling pandas-1.5.3:\n",
            "      Successfully uninstalled pandas-1.5.3\n",
            "\u001b[31mERROR: pip's dependency resolver does not currently take into account all the packages that are installed. This behaviour is the source of the following dependency conflicts.\n",
            "google-colab 1.0.0 requires pandas==1.5.3, but you have pandas 1.4.3 which is incompatible.\u001b[0m\u001b[31m\n",
            "\u001b[0mSuccessfully installed antlr4-python3-runtime-4.9.3 cairocffi-1.3.0 chart-studio-1.1.0 dash-2.7.1 dash-core-components-2.0.0 dash-html-components-2.0.0 dash-table-5.0.0 dill-0.3.5.1 hydra-core-1.2.0 igraph-0.9.11 leidenalg-0.8.10 nltk-3.7 omegaconf-2.2.2 pandas-1.4.3 pluggy-0.13.1 py-1.11.0 pytest-6.2.2 retrying-1.3.4 texttable-1.6.7\n"
          ]
        },
        {
          "output_type": "display_data",
          "data": {
            "application/vnd.colab-display-data+json": {
              "pip_warning": {
                "packages": [
                  "pydevd_plugins"
                ]
              }
            }
          },
          "metadata": {}
        }
      ]
    },
    {
      "cell_type": "code",
      "source": [
        "!apt-get install graphviz libgraphviz-dev\n",
        "!pip install pygraphviz\n",
        "!pip install dash jupyter-dash"
      ],
      "metadata": {
        "id": "AKwgFnwoe1VQ",
        "colab": {
          "base_uri": "https://localhost:8080/"
        },
        "outputId": "23b791ef-6a6c-407a-8a33-459ffccbdd5e"
      },
      "execution_count": 4,
      "outputs": [
        {
          "output_type": "stream",
          "name": "stdout",
          "text": [
            "Reading package lists... Done\n",
            "Building dependency tree       \n",
            "Reading state information... Done\n",
            "graphviz is already the newest version (2.42.2-3build2).\n",
            "The following additional packages will be installed:\n",
            "  libgail-common libgail18 libgtk2.0-0 libgtk2.0-bin libgtk2.0-common\n",
            "  libgvc6-plugins-gtk libxdot4\n",
            "Suggested packages:\n",
            "  gvfs\n",
            "The following NEW packages will be installed:\n",
            "  libgail-common libgail18 libgraphviz-dev libgtk2.0-0 libgtk2.0-bin\n",
            "  libgtk2.0-common libgvc6-plugins-gtk libxdot4\n",
            "0 upgraded, 8 newly installed, 0 to remove and 34 not upgraded.\n",
            "Need to get 2,148 kB of archives.\n",
            "After this operation, 7,427 kB of additional disk space will be used.\n",
            "Get:1 http://archive.ubuntu.com/ubuntu focal/main amd64 libgtk2.0-common all 2.24.32-4ubuntu4 [126 kB]\n",
            "Get:2 http://archive.ubuntu.com/ubuntu focal/main amd64 libgtk2.0-0 amd64 2.24.32-4ubuntu4 [1,791 kB]\n",
            "Get:3 http://archive.ubuntu.com/ubuntu focal/main amd64 libgail18 amd64 2.24.32-4ubuntu4 [14.7 kB]\n",
            "Get:4 http://archive.ubuntu.com/ubuntu focal/main amd64 libgail-common amd64 2.24.32-4ubuntu4 [116 kB]\n",
            "Get:5 http://archive.ubuntu.com/ubuntu focal/universe amd64 libxdot4 amd64 2.42.2-3build2 [15.4 kB]\n",
            "Get:6 http://archive.ubuntu.com/ubuntu focal/universe amd64 libgvc6-plugins-gtk amd64 2.42.2-3build2 [20.6 kB]\n",
            "Get:7 http://archive.ubuntu.com/ubuntu focal/universe amd64 libgraphviz-dev amd64 2.42.2-3build2 [57.2 kB]\n",
            "Get:8 http://archive.ubuntu.com/ubuntu focal/main amd64 libgtk2.0-bin amd64 2.24.32-4ubuntu4 [7,728 B]\n",
            "Fetched 2,148 kB in 1s (2,501 kB/s)\n",
            "Selecting previously unselected package libgtk2.0-common.\n",
            "(Reading database ... 122545 files and directories currently installed.)\n",
            "Preparing to unpack .../0-libgtk2.0-common_2.24.32-4ubuntu4_all.deb ...\n",
            "Unpacking libgtk2.0-common (2.24.32-4ubuntu4) ...\n",
            "Selecting previously unselected package libgtk2.0-0:amd64.\n",
            "Preparing to unpack .../1-libgtk2.0-0_2.24.32-4ubuntu4_amd64.deb ...\n",
            "Unpacking libgtk2.0-0:amd64 (2.24.32-4ubuntu4) ...\n",
            "Selecting previously unselected package libgail18:amd64.\n",
            "Preparing to unpack .../2-libgail18_2.24.32-4ubuntu4_amd64.deb ...\n",
            "Unpacking libgail18:amd64 (2.24.32-4ubuntu4) ...\n",
            "Selecting previously unselected package libgail-common:amd64.\n",
            "Preparing to unpack .../3-libgail-common_2.24.32-4ubuntu4_amd64.deb ...\n",
            "Unpacking libgail-common:amd64 (2.24.32-4ubuntu4) ...\n",
            "Selecting previously unselected package libxdot4:amd64.\n",
            "Preparing to unpack .../4-libxdot4_2.42.2-3build2_amd64.deb ...\n",
            "Unpacking libxdot4:amd64 (2.42.2-3build2) ...\n",
            "Selecting previously unselected package libgvc6-plugins-gtk.\n",
            "Preparing to unpack .../5-libgvc6-plugins-gtk_2.42.2-3build2_amd64.deb ...\n",
            "Unpacking libgvc6-plugins-gtk (2.42.2-3build2) ...\n",
            "Selecting previously unselected package libgraphviz-dev:amd64.\n",
            "Preparing to unpack .../6-libgraphviz-dev_2.42.2-3build2_amd64.deb ...\n",
            "Unpacking libgraphviz-dev:amd64 (2.42.2-3build2) ...\n",
            "Selecting previously unselected package libgtk2.0-bin.\n",
            "Preparing to unpack .../7-libgtk2.0-bin_2.24.32-4ubuntu4_amd64.deb ...\n",
            "Unpacking libgtk2.0-bin (2.24.32-4ubuntu4) ...\n",
            "Setting up libxdot4:amd64 (2.42.2-3build2) ...\n",
            "Setting up libgtk2.0-common (2.24.32-4ubuntu4) ...\n",
            "Setting up libgtk2.0-0:amd64 (2.24.32-4ubuntu4) ...\n",
            "Setting up libgvc6-plugins-gtk (2.42.2-3build2) ...\n",
            "Setting up libgail18:amd64 (2.24.32-4ubuntu4) ...\n",
            "Setting up libgtk2.0-bin (2.24.32-4ubuntu4) ...\n",
            "Setting up libgail-common:amd64 (2.24.32-4ubuntu4) ...\n",
            "Setting up libgraphviz-dev:amd64 (2.42.2-3build2) ...\n",
            "Processing triggers for man-db (2.9.1-1) ...\n",
            "Processing triggers for libc-bin (2.31-0ubuntu9.9) ...\n",
            "Looking in indexes: https://pypi.org/simple, https://us-python.pkg.dev/colab-wheels/public/simple/\n",
            "Collecting pygraphviz\n",
            "  Downloading pygraphviz-1.10.zip (120 kB)\n",
            "\u001b[2K     \u001b[90m━━━━━━━━━━━━━━━━━━━━━━━━━━━━━━━━━━━━━━━\u001b[0m \u001b[32m120.6/120.6 kB\u001b[0m \u001b[31m7.6 MB/s\u001b[0m eta \u001b[36m0:00:00\u001b[0m\n",
            "\u001b[?25h  Preparing metadata (setup.py) ... \u001b[?25l\u001b[?25hdone\n",
            "Building wheels for collected packages: pygraphviz\n",
            "  Building wheel for pygraphviz (setup.py) ... \u001b[?25l\u001b[?25hdone\n",
            "  Created wheel for pygraphviz: filename=pygraphviz-1.10-cp310-cp310-linux_x86_64.whl size=184026 sha256=e97e39b017cc05f4d086bad2d2ccd8679048e0a393eba49d8672f2fcbd2dc7cf\n",
            "  Stored in directory: /root/.cache/pip/wheels/e9/50/02/d9d68f6c947a928e517d5cd9af0ab007c1274fdba95fa9cbe3\n",
            "Successfully built pygraphviz\n",
            "Installing collected packages: pygraphviz\n",
            "Successfully installed pygraphviz-1.10\n",
            "Looking in indexes: https://pypi.org/simple, https://us-python.pkg.dev/colab-wheels/public/simple/\n",
            "Requirement already satisfied: dash in /usr/local/lib/python3.10/dist-packages (2.7.1)\n",
            "Collecting jupyter-dash\n",
            "  Downloading jupyter_dash-0.4.2-py3-none-any.whl (23 kB)\n",
            "Requirement already satisfied: Flask>=1.0.4 in /usr/local/lib/python3.10/dist-packages (from dash) (2.2.4)\n",
            "Requirement already satisfied: plotly>=5.0.0 in /usr/local/lib/python3.10/dist-packages (from dash) (5.13.1)\n",
            "Requirement already satisfied: dash-html-components==2.0.0 in /usr/local/lib/python3.10/dist-packages (from dash) (2.0.0)\n",
            "Requirement already satisfied: dash-core-components==2.0.0 in /usr/local/lib/python3.10/dist-packages (from dash) (2.0.0)\n",
            "Requirement already satisfied: dash-table==5.0.0 in /usr/local/lib/python3.10/dist-packages (from dash) (5.0.0)\n",
            "Requirement already satisfied: requests in /usr/local/lib/python3.10/dist-packages (from jupyter-dash) (2.27.1)\n",
            "Requirement already satisfied: retrying in /usr/local/lib/python3.10/dist-packages (from jupyter-dash) (1.3.4)\n",
            "Requirement already satisfied: ipython in /usr/local/lib/python3.10/dist-packages (from jupyter-dash) (7.34.0)\n",
            "Requirement already satisfied: ipykernel in /usr/local/lib/python3.10/dist-packages (from jupyter-dash) (5.5.6)\n",
            "Collecting ansi2html (from jupyter-dash)\n",
            "  Downloading ansi2html-1.8.0-py3-none-any.whl (16 kB)\n",
            "Requirement already satisfied: nest-asyncio in /usr/local/lib/python3.10/dist-packages (from jupyter-dash) (1.5.6)\n",
            "Requirement already satisfied: Werkzeug>=2.2.2 in /usr/local/lib/python3.10/dist-packages (from Flask>=1.0.4->dash) (2.3.0)\n",
            "Requirement already satisfied: Jinja2>=3.0 in /usr/local/lib/python3.10/dist-packages (from Flask>=1.0.4->dash) (3.1.2)\n",
            "Requirement already satisfied: itsdangerous>=2.0 in /usr/local/lib/python3.10/dist-packages (from Flask>=1.0.4->dash) (2.1.2)\n",
            "Requirement already satisfied: click>=8.0 in /usr/local/lib/python3.10/dist-packages (from Flask>=1.0.4->dash) (8.1.3)\n",
            "Requirement already satisfied: tenacity>=6.2.0 in /usr/local/lib/python3.10/dist-packages (from plotly>=5.0.0->dash) (8.2.2)\n",
            "Requirement already satisfied: ipython-genutils in /usr/local/lib/python3.10/dist-packages (from ipykernel->jupyter-dash) (0.2.0)\n",
            "Requirement already satisfied: traitlets>=4.1.0 in /usr/local/lib/python3.10/dist-packages (from ipykernel->jupyter-dash) (5.7.1)\n",
            "Requirement already satisfied: jupyter-client in /usr/local/lib/python3.10/dist-packages (from ipykernel->jupyter-dash) (6.1.12)\n",
            "Requirement already satisfied: tornado>=4.2 in /usr/local/lib/python3.10/dist-packages (from ipykernel->jupyter-dash) (6.3.1)\n",
            "Requirement already satisfied: setuptools>=18.5 in /usr/local/lib/python3.10/dist-packages (from ipython->jupyter-dash) (67.7.2)\n",
            "Collecting jedi>=0.16 (from ipython->jupyter-dash)\n",
            "  Downloading jedi-0.18.2-py2.py3-none-any.whl (1.6 MB)\n",
            "\u001b[2K     \u001b[90m━━━━━━━━━━━━━━━━━━━━━━━━━━━━━━━━━━━━━━━━\u001b[0m \u001b[32m1.6/1.6 MB\u001b[0m \u001b[31m34.1 MB/s\u001b[0m eta \u001b[36m0:00:00\u001b[0m\n",
            "\u001b[?25hRequirement already satisfied: decorator in /usr/local/lib/python3.10/dist-packages (from ipython->jupyter-dash) (4.4.2)\n",
            "Requirement already satisfied: pickleshare in /usr/local/lib/python3.10/dist-packages (from ipython->jupyter-dash) (0.7.5)\n",
            "Requirement already satisfied: prompt-toolkit!=3.0.0,!=3.0.1,<3.1.0,>=2.0.0 in /usr/local/lib/python3.10/dist-packages (from ipython->jupyter-dash) (3.0.38)\n",
            "Requirement already satisfied: pygments in /usr/local/lib/python3.10/dist-packages (from ipython->jupyter-dash) (2.14.0)\n",
            "Requirement already satisfied: backcall in /usr/local/lib/python3.10/dist-packages (from ipython->jupyter-dash) (0.2.0)\n",
            "Requirement already satisfied: matplotlib-inline in /usr/local/lib/python3.10/dist-packages (from ipython->jupyter-dash) (0.1.6)\n",
            "Requirement already satisfied: pexpect>4.3 in /usr/local/lib/python3.10/dist-packages (from ipython->jupyter-dash) (4.8.0)\n",
            "Requirement already satisfied: urllib3<1.27,>=1.21.1 in /usr/local/lib/python3.10/dist-packages (from requests->jupyter-dash) (1.26.15)\n",
            "Requirement already satisfied: certifi>=2017.4.17 in /usr/local/lib/python3.10/dist-packages (from requests->jupyter-dash) (2022.12.7)\n",
            "Requirement already satisfied: charset-normalizer~=2.0.0 in /usr/local/lib/python3.10/dist-packages (from requests->jupyter-dash) (2.0.12)\n",
            "Requirement already satisfied: idna<4,>=2.5 in /usr/local/lib/python3.10/dist-packages (from requests->jupyter-dash) (3.4)\n",
            "Requirement already satisfied: six>=1.7.0 in /usr/local/lib/python3.10/dist-packages (from retrying->jupyter-dash) (1.16.0)\n",
            "Requirement already satisfied: parso<0.9.0,>=0.8.0 in /usr/local/lib/python3.10/dist-packages (from jedi>=0.16->ipython->jupyter-dash) (0.8.3)\n",
            "Requirement already satisfied: MarkupSafe>=2.0 in /usr/local/lib/python3.10/dist-packages (from Jinja2>=3.0->Flask>=1.0.4->dash) (2.1.2)\n",
            "Requirement already satisfied: ptyprocess>=0.5 in /usr/local/lib/python3.10/dist-packages (from pexpect>4.3->ipython->jupyter-dash) (0.7.0)\n",
            "Requirement already satisfied: wcwidth in /usr/local/lib/python3.10/dist-packages (from prompt-toolkit!=3.0.0,!=3.0.1,<3.1.0,>=2.0.0->ipython->jupyter-dash) (0.2.6)\n",
            "Requirement already satisfied: jupyter-core>=4.6.0 in /usr/local/lib/python3.10/dist-packages (from jupyter-client->ipykernel->jupyter-dash) (5.3.0)\n",
            "Requirement already satisfied: pyzmq>=13 in /usr/local/lib/python3.10/dist-packages (from jupyter-client->ipykernel->jupyter-dash) (23.2.1)\n",
            "Requirement already satisfied: python-dateutil>=2.1 in /usr/local/lib/python3.10/dist-packages (from jupyter-client->ipykernel->jupyter-dash) (2.8.2)\n",
            "Requirement already satisfied: platformdirs>=2.5 in /usr/local/lib/python3.10/dist-packages (from jupyter-core>=4.6.0->jupyter-client->ipykernel->jupyter-dash) (3.3.0)\n",
            "Installing collected packages: jedi, ansi2html, jupyter-dash\n",
            "Successfully installed ansi2html-1.8.0 jedi-0.18.2 jupyter-dash-0.4.2\n"
          ]
        }
      ]
    },
    {
      "cell_type": "code",
      "source": [
        "!make build_bitext  # make bitexts.csv\n",
        "#!make build_metacode2lemma_dict  # make metacode2lemma dictionary\n",
        "!make train_save_ibm2  # train and save ibm model 2\n",
        "!make save_db "
      ],
      "metadata": {
        "colab": {
          "base_uri": "https://localhost:8080/"
        },
        "id": "tkZZyhCc3g4z",
        "outputId": "3c3a2413-d26f-420a-896e-adf546f802a9"
      },
      "execution_count": 5,
      "outputs": [
        {
          "output_type": "stream",
          "name": "stdout",
          "text": [
            "cd src;\tpython make_bitext.py -s ../data/hachidaishu/hachidai.db -t ../data/translations/all_translations.txt -o ../cache/bitexts.csv\n",
            "2023-05-28 13:35:00,573 [INFO] args: Namespace(src_path='../data/hachidaishu/hachidai.db', tar_path='../data/translations/all_translations.txt', out_path='../cache/bitexts.csv')\n",
            "2023-05-28 13:35:00,574 [INFO] Loading ../data/hachidaishu/hachidai.db for Kokinwakashu texts...\n",
            "2023-05-28 13:35:13,559 [INFO] Loading ../data/translations/all_translations.txt for kaneko's traslation...\n",
            "2023-05-28 13:35:36,522 [INFO] Loading ../data/translations/all_translations.txt for katagiri's traslation...\n",
            "2023-05-28 13:35:58,425 [INFO] Loading ../data/translations/all_translations.txt for kojimaarai's traslation...\n",
            "2023-05-28 13:36:17,129 [INFO] Loading ../data/translations/all_translations.txt for komachiya's traslation...\n",
            "2023-05-28 13:36:34,398 [INFO] Loading ../data/translations/all_translations.txt for kubota's traslation...\n",
            "2023-05-28 13:36:54,586 [INFO] Loading ../data/translations/all_translations.txt for kyusojin's traslation...\n",
            "2023-05-28 13:37:13,346 [INFO] Loading ../data/translations/all_translations.txt for matsuda's traslation...\n",
            "2023-05-28 13:37:31,611 [INFO] Loading ../data/translations/all_translations.txt for okumura's traslation...\n",
            "2023-05-28 13:37:51,819 [INFO] Loading ../data/translations/all_translations.txt for ozawa's traslation...\n",
            "2023-05-28 13:38:11,115 [INFO] Loading ../data/translations/all_translations.txt for takeoka's traslation...\n",
            "2023-05-28 13:38:28,533 [INFO] Concating bitexts...\n",
            "2023-05-28 13:38:28,860 [INFO] Made bitexts.\n",
            "cd src; python train_save_model.py -c ../cache/bitexts.csv -f ibm2_fwd.model -b ibm2_bwd.model -m ibm2\n",
            "2023-05-28 13:38:31,093 [INFO] args: Namespace(fn_bwd='ibm2_bwd.model', corpus_path='../cache/bitexts.csv', fn_fwd='ibm2_fwd.model', method='ibm2')\n",
            "2023-05-28 13:38:31,358 [INFO] Training IBM model 2...\n",
            "2023-05-28 13:38:31,523 Setting JobRuntime:name=UNKNOWN_NAME\n",
            "2023-05-28 13:38:31,523 Setting JobRuntime:name=utils\n",
            "2023-05-28 13:38:31,737 [INFO] Training from source to target...\n",
            "2023-05-28 13:53:00,723 [INFO] Training from target to source...\n",
            "2023-05-28 14:08:31,453 [INFO] Saving models to ../model...\n",
            "2023-05-28 14:08:55,792 [INFO] Done.\n",
            "cd src; python bitexts.py -o ../cache/bitexts.db -m ibm2 -t kaneko katagiri kojimaarai komachiya kubota kyusojin matsuda okumura ozawa takeoka\n",
            "2023-05-28 14:08:58,145 [INFO] args: Namespace(translators=['kaneko', 'katagiri', 'kojimaarai', 'komachiya', 'kubota', 'kyusojin', 'matsuda', 'okumura', 'ozawa', 'takeoka'], method='ibm2', output_path='../cache/bitexts.db')\n",
            "2023-05-28 14:08:58,145 [INFO] Loading DB...\n",
            "2023-05-28 14:09:19,324 [INFO] Saving DB...\n",
            "2023-05-28 14:09:50,166 [INFO] Done.\n"
          ]
        }
      ]
    },
    {
      "cell_type": "code",
      "source": [
        "!cp data/metacode2en.pkl cache/metacode2lemma_tar.pkl"
      ],
      "metadata": {
        "id": "0zYtg2OMueKS"
      },
      "execution_count": 6,
      "outputs": []
    },
    {
      "cell_type": "markdown",
      "source": [
        "# 2 | Dashboard"
      ],
      "metadata": {
        "id": "lzFSwoaT5YTq"
      }
    },
    {
      "cell_type": "code",
      "source": [
        "import subprocess\n",
        "os.chdir('/content/misalignVis/src')\n",
        "print(os.getcwd())"
      ],
      "metadata": {
        "colab": {
          "base_uri": "https://localhost:8080/"
        },
        "id": "hFpJOXnTwK5L",
        "outputId": "ce218752-757b-470b-8af7-6bb51b5902e4"
      },
      "execution_count": 7,
      "outputs": [
        {
          "output_type": "stream",
          "name": "stdout",
          "text": [
            "/content/misalignVis/src\n"
          ]
        }
      ]
    },
    {
      "cell_type": "code",
      "source": [
        "\"\"\"Dash board.\"\"\"\n",
        "import pandas as pd\n",
        "from plotly.graph_objs import Scatter, Layout, Figure\n",
        "from plotly.graph_objs.layout import XAxis, YAxis, Margin\n",
        "from jupyter_dash import JupyterDash\n",
        "from dash import dcc, html, dash_table\n",
        "from dash.dependencies import Input, Output, State\n",
        "from bitexts import AlignmentInfo\n",
        "from utils import load_pickle, lemma2metacode\n",
        "from visualize_indivisual import draw_plotly_by_translator_by_poem\n",
        "from visualize_aggregate_translator import draw_plotly_by_translator\n",
        "from visualize_alignment import query, alignment_table, visualize_heatmap \n",
        "\n",
        "fullname2id_map = {\n",
        "    \"[KNK/金子] Kaneko, Motoomi (1933)\": \"kaneko\",\n",
        "    \"[KBT/窪田] Kubota, Utsubo (1960)\": \"kubota\",\n",
        "    \"[MTD/松田] Matsuda, Takeo (1968)\": \"matsuda\",\n",
        "    \"[OZW/小沢] Ozawa, Masao (1971)\": \"ozawa\",\n",
        "    \"[TKOK/竹岡] Takeoka, Masao (1976)\": \"takeoka\",  \n",
        "    \"[OKMR/奥村] Okumura, Tsuneya (1978)\": \"okumura\",\n",
        "    \"[KSJ/久曽神] Kyusojin, Hitachi (1979)\": \"kyusojin\",\n",
        "    \"[KMCY/小町谷] Komachiya, Teruhiko (1982)\": \"komachiya\",\n",
        "    \"[K&A/小島・新井] Kojima, Noriyuki and Arai, Eizo (1989)\": \"kojimaarai\",\n",
        "    \"[KTGR/片桐] Katagiri, Yoichi (1998)\": \"katagiri\",\n",
        "}\n",
        "translator_lst = fullname2id_map.keys()\n",
        "metacode2lemma_map_src = load_pickle(\"../cache/metacode2lemma_src.pkl\")\n",
        "word_lst = [k + \":\" + v  for k, v in metacode2lemma_map_src.items() if\n",
        "            v in [\"梅\", \"女郎花\", \"菊\", \"桜\", \"松\", \"山吹\"]]\n",
        "word_lst.sort()\n",
        "with open(\"../README-app.md\", 'r') as f: \n",
        "    readme = f.read()\n",
        "\n",
        "def _blank(width, height, text, font_size): \n",
        "    Xn = [0]\n",
        "    Yn = [0]\n",
        "    trace = Scatter(\n",
        "        x=Xn,\n",
        "        y=Yn,\n",
        "        mode=\"text\",\n",
        "    )\n",
        "    annotation = text\n",
        "    data = [trace]\n",
        "    axis = dict(\n",
        "        showline=False, \n",
        "        zeroline=False,\n",
        "        showgrid=False,\n",
        "        showticklabels=False,\n",
        "        title=\"\",\n",
        "    )\n",
        "    layout = Layout(\n",
        "        # title=title,\n",
        "        paper_bgcolor=\"rgba(0,0,0,0)\",\n",
        "        plot_bgcolor=\"rgba(0,0,0,0)\",\n",
        "        font=dict(size=16),\n",
        "        showlegend=False,\n",
        "        autosize=True,\n",
        "        width=width,\n",
        "        height=height,\n",
        "        xaxis=XAxis(axis),\n",
        "        yaxis=YAxis(axis),\n",
        "        margin=Margin(\n",
        "            l=0,\n",
        "            r=0,\n",
        "            b=85,\n",
        "            t=40,\n",
        "        ),\n",
        "        hovermode=\"closest\",\n",
        "        annotations=\n",
        "[\n",
        "            dict(\n",
        "                showarrow=False,\n",
        "                text=annotation,\n",
        "                xref=\"paper\",\n",
        "                yref=\"paper\",\n",
        "                x=0,\n",
        "                y=0,\n",
        "                xanchor=\"left\",\n",
        "                yanchor=\"bottom\",\n",
        "                font=dict(size=font_size),\n",
        "            )\n",
        "        ],\n",
        "    )\n",
        "\n",
        "    fig = Figure(data=data, layout=layout)\n",
        "    return fig\n",
        "\n",
        "app = JupyterDash(\n",
        "    __name__,\n",
        "    meta_tags=[\n",
        "        {\n",
        "            \"name\": \"viewport\", \n",
        "            \"content\": \"width=device-width, initial-scale=1\"\n",
        "        }\n",
        "    ],\n",
        ")\n",
        "\n",
        "app.layout = html.Div(\n",
        "    children=[\n",
        "        # title\n",
        "        html.H1(\n",
        "            children=\"\"\"\n",
        "            Dashboard for visualizing word alignment and misalignment between \n",
        "            classical poetic Japanese and its contemporary translations\n",
        "            \"\"\",\n",
        "        ),\n",
        "        # query and intro\n",
        "        dcc.Tabs(\n",
        "            id=\"intro-and-query-tabs\",\n",
        "            value=\"what-is\",\n",
        "            parent_className=\"custom-tabs\",\n",
        "            className=\"custom-tabs-container\",\n",
        "            children=[\n",
        "                dcc.Tab(\n",
        "                    label=\"About\",\n",
        "                    value=\"what-is\",\n",
        "                    className=\"custom-tab\",\n",
        "                    selected_className=\"custom-tab--selected\",\n",
        "                    children=html.Div(\n",
        "                        className=\"control-tab\",\n",
        "                        children=[\n",
        "                            dcc.Markdown(readme),\n",
        "                        ],\n",
        "                    ),\n",
        "                ),\n",
        "                dcc.Tab(\n",
        "                    label=\"Query\",\n",
        "                    value=\"alignment-tab-select\",\n",
        "                    className=\"custom-tab\",\n",
        "                    selected_className=\"custom-tab--selected\",\n",
        "                    children=html.Div(\n",
        "                        className=\"app-controls-block\",\n",
        "                        children=[\n",
        "                            # query word and translator\n",
        "                            html.Div(\n",
        "                                [\n",
        "                                    html.Br(),\n",
        "                                    html.Div([\n",
        "                                        html.Label(\"Word:\"),\n",
        "                                        dcc.Dropdown(\n",
        "                                            id=\"target\",\n",
        "                                            options=[\n",
        "                                                {\"label\": i, \"value\": i} \n",
        "                                                for i in word_lst\n",
        "                                            ],\n",
        "                                            value=\"BG-01-5520-05-0106:女郎花\",\n",
        "                                            multi=False,\n",
        "                                        ),\n",
        "                                    ],\n",
        "                                             style={\n",
        "                                                 \"width\": \"45%\", \n",
        "                                                 \"display\": \"inline-block\",\n",
        "                                             }\n",
        "                                             ),\n",
        "\n",
        "                                    html.Div([\n",
        "                                        html.Label(\"Translator:\"),\n",
        "                                        dcc.Dropdown(\n",
        "                                            id=\"translator\",\n",
        "                                            options=[\n",
        "                                                {\"label\": i, \"value\": i} \n",
        "                                                for i in translator_lst\n",
        "                                            ],\n",
        "                                            value=\"[KNK/金子] Kaneko, Motoomi (1933)\",\n",
        "                                            multi=False,\n",
        "                                        ),\n",
        "                                    ],\n",
        "                                             style={\n",
        "                                                 \"width\": \"45%\", \n",
        "                                                 \"float\": \"right\", \n",
        "                                                 \"display\": \"inline-block\",\n",
        "                                             }\n",
        "                                             ),\n",
        "                                ],\n",
        "                            ),\n",
        "                            # query specific poem\n",
        "                            html.Br(),\n",
        "                            html.Div(\n",
        "                                [\n",
        "                                    html.Label(\n",
        "                                        \"\"\"\n",
        "                                        Query results (click cell to visualize \n",
        "                                        alignment and collective misalignment \n",
        "                                        network of the bitext on the selected \n",
        "                                        row):\n",
        "                                        \"\"\"\n",
        "                                    ),\n",
        "                                    dash_table.DataTable(\n",
        "                                        id=\"datatable-paging\",\n",
        "                                        columns=[\n",
        "                                            {\"name\": i, \"id\": i} for i in \n",
        "                                            [\"poem\", \"queried word\", \n",
        "                                             \"source text\", \"target text\"]\n",
        "                                        ],\n",
        "                                        page_current=0,\n",
        "                                        page_size=3,\n",
        "                                        page_action=\"custom\",\n",
        "                                        style_cell_conditional=[\n",
        "                                            {\"if\": {\"column_id\": \"target text\"},                                        \n",
        "                                             \"width\": \"0%\"},\n",
        "                                            {\"if\": {\"column_id\": \"source text\"},                                        \n",
        "                                             \"width\": \"70%\"},\n",
        "                                            {\"if\": {\"column_id\": \"poem\"},                                        \n",
        "                                             \"width\": \"10%\"},\n",
        "                                            {\"if\": {\"column_id\": \"queried word\"},                                        \n",
        "                                             \"width\": \"20%\"},\n",
        "                                        ],\n",
        "                                        style_cell={\n",
        "                                            \"overflow\": \"hidden\",\n",
        "                                            \"textOverflow\": \"ellipsis\",\n",
        "                                            \"maxWidth\": 0,\n",
        "                                        },\n",
        "                                    ),\n",
        "                                ],\n",
        "                            ),\n",
        "                        ],\n",
        "                    ),\n",
        "                ),\n",
        "            ],\n",
        "        ),\n",
        "\n",
        "        html.Br(),\n",
        "        dcc.Tabs(\n",
        "            id=\"result-tabs\",\n",
        "            value=\"network-tab-select\",\n",
        "            parent_className=\"custom-result-tabs\",\n",
        "            className=\"custom-result-tabs-container\",\n",
        "            children=[\n",
        "                dcc.Tab(\n",
        "                    label=\"Word alignment visualization\",\n",
        "                    value=\"alignment-tab-select\",\n",
        "                    className=\"custom-tab\",\n",
        "                    selected_className=\"custom-tab--selected\",\n",
        "                    children=html.Div(\n",
        "                        className=\"result-tab\",\n",
        "                        children=[\n",
        "                            html.Div(\n",
        "                                dcc.Graph(id=\"alignment-graph\"),\n",
        "                                style={\n",
        "                                    \"width\": \"100%\", \n",
        "                                    \"display\": \"inline-block\",\n",
        "                                },\n",
        "                            ),\n",
        "                        ],\n",
        "                    ),\n",
        "                ),\n",
        "\n",
        "                # html.Hr(),\n",
        "                dcc.Tab(\n",
        "                    label=\"Collective misalignment network visualization\",\n",
        "                    value=\"network-tab-select\",\n",
        "                    className=\"custom-tab\",\n",
        "                    selected_className=\"custom-tab--selected\",\n",
        "                    children=html.Div(\n",
        "                        className=\"result-tab\",\n",
        "                        children=[ \n",
        "                            html.Br(),\n",
        "                            html.Div(\n",
        "                                [\n",
        "                                    html.Div(\n",
        "                                        [\n",
        "                                            # html.Label(\"Selected poem\"),\n",
        "                                            dcc.Graph(\n",
        "                                                id=\"individual-network-graph\"\n",
        "                                            ), \n",
        "                                        ],       \n",
        "                                        style={\n",
        "                                            \"width\": \"50%\", \n",
        "                                            \"float\": \"left\", \n",
        "                                            \"display\": \"inline-block\",\n",
        "                                        },\n",
        "                                    ),\n",
        "\n",
        "                                    html.Div(\n",
        "                                        [\n",
        "                                            # html.Label(\"All queried poems\"),\n",
        "                                            dcc.Graph(\n",
        "                                                id=\"translator-network-graph\"\n",
        "                                            ), \n",
        "                                        ],       \n",
        "                                        style={\n",
        "                                            \"width\": \"50%\", \n",
        "                                            \"float\": \"right\", \n",
        "                                            \"display\": \"inline-block\",\n",
        "                                        },\n",
        "                                    ),\n",
        "                                ],\n",
        "                            ),\n",
        "                        ],\n",
        "                    ),\n",
        "                ),\n",
        "            ],\n",
        "        ),\n",
        "    ],\n",
        "                      )\n",
        "\n",
        "\n",
        "# Data table\n",
        "@app.callback(\n",
        "    [Output(\"datatable-paging\", \"page_current\"),\n",
        "     Output(\"datatable-paging\", \"page_count\"),\n",
        "     Output(\"datatable-paging\", \"data\")],\n",
        "    [Input(\"datatable-paging\", \"page_current\"),\n",
        "     Input(\"datatable-paging\", \"page_size\"),\n",
        "     Input(\"target\", \"value\"),\n",
        "     Input(\"translator\", \"value\")],\n",
        "    [State(\"datatable-paging\", \"data\")]\n",
        ")\n",
        "def update_table(page_current, page_size, target, translator, table_data):\n",
        "    target, word = target.split(\":\")\n",
        "    translator = fullname2id_map[translator]\n",
        "    candidates = query(target, translator)\n",
        "    page_count = len(candidates) // page_size + 1\n",
        "    candidate_df = pd.DataFrame({\n",
        "        \"poem\": [candidate.poem for candidate in candidates],\n",
        "        \"source text\": [candidate.source_surface for candidate in candidates],\n",
        "        \"target text\": [candidate.target_surface for candidate in candidates],\n",
        "        \"queried word\": [word for candidate in candidates],\n",
        "    })\n",
        "    data = candidate_df.iloc[\n",
        "        page_current*page_size:(page_current+1)*page_size\n",
        "    ].to_dict(\"records\")\n",
        "    if table_data is not None:\n",
        "        try: \n",
        "            table_data[0]\n",
        "        except:\n",
        "            page_current = page_count - 1\n",
        "    return page_current, page_count, data\n",
        "\n",
        "\n",
        "# Alignment visualization and individual poem network visualization\n",
        "@app.callback(\n",
        "    [Output(\"alignment-graph\", \"figure\"),\n",
        "     Output(\"individual-network-graph\", \"figure\")],\n",
        "    [Input(\"datatable-paging\", \"active_cell\"),\n",
        "     Input(\"datatable-paging\", \"page_current\"),\n",
        "     Input(\"datatable-paging\", \"page_size\"),\n",
        "     Input(\"translator\", \"value\"),\n",
        "     Input(\"target\", \"value\")],\n",
        "    [State(\"datatable-paging\", \"data\")]\n",
        ")\n",
        "def update_alignment_and_individual_network_graph(\n",
        "        active_cell, page_current, page_size, \n",
        "        translator, target, table_data):\n",
        "    try:\n",
        "        target, word = target.split(\":\")\n",
        "        translator = fullname2id_map[translator]\n",
        "        if active_cell:\n",
        "            row = active_cell[\"row\"]\n",
        "            queied_word = table_data[row][\"queried word\"]\n",
        "            if queied_word == word:\n",
        "                idx = table_data[row][\"poem\"]\n",
        "                text = table_data[row][\"source text\"]\n",
        "            else:\n",
        "                candidates = query(target, translator)    \n",
        "                current_candidate = candidates[page_current*page_size]    \n",
        "                idx = current_candidate.poem\n",
        "                text = current_candidate.source_surface\n",
        "        else:\n",
        "            candidates = query(target, translator)    \n",
        "            current_candidate = candidates[page_current*page_size]    \n",
        "            idx = current_candidate.poem\n",
        "            text = current_candidate.source_surface\n",
        "        _, heatmap, targets = alignment_table(idx, translator, target)\n",
        "        fig_alignment = visualize_heatmap(heatmap, targets)\n",
        "        fig_alignment.update_layout(transition_duration=500)\n",
        "        fig_individual_network = draw_plotly_by_translator_by_poem(target, idx)\n",
        "        fig_individual_network.update_layout(\n",
        "            title = f\"<span style='font-size: 14px;'>{target} {word}</span>\" + \n",
        "            \"<br>\" +\n",
        "            f\"<span style='font-size: 10px;'>{text} -古今{idx}</span>\"\n",
        "        )\n",
        "        fig_individual_network.update_layout(transition_duration=500)\n",
        "        return fig_alignment, fig_individual_network\n",
        "    except:\n",
        "        return (_blank(1000, 600, \"Queried word was not found.\", 12),\n",
        "                _blank(500, 600, \"Queried word was not found.\", 12))\n",
        "\n",
        "\n",
        "# Global network visualization\n",
        "@app.callback(\n",
        "    Output(\"translator-network-graph\", \"figure\"),\n",
        "    [Input(\"target\", \"value\")]\n",
        ")\n",
        "def update_translator_network(target):\n",
        "    try:\n",
        "        target = target.split(\":\")[0]\n",
        "        fig = draw_plotly_by_translator(target)\n",
        "        fig.update_layout(transition_duration=500)\n",
        "        return fig\n",
        "    except:\n",
        "        return _blank(500, 600, \"Queried word was not found.\", 12)"
      ],
      "metadata": {
        "id": "OW7U6mVc5gX5"
      },
      "execution_count": 8,
      "outputs": []
    },
    {
      "cell_type": "code",
      "source": [
        "app.run_server(mode='inline')"
      ],
      "metadata": {
        "colab": {
          "base_uri": "https://localhost:8080/",
          "height": 672
        },
        "id": "0TOhLXGIBkeS",
        "outputId": "85c133ce-dccc-4bd1-b90f-dc74a9810077"
      },
      "execution_count": 9,
      "outputs": [
        {
          "output_type": "display_data",
          "data": {
            "text/plain": [
              "<IPython.core.display.Javascript object>"
            ],
            "application/javascript": [
              "(async (port, path, width, height, cache, element) => {\n",
              "    if (!google.colab.kernel.accessAllowed && !cache) {\n",
              "      return;\n",
              "    }\n",
              "    element.appendChild(document.createTextNode(''));\n",
              "    const url = await google.colab.kernel.proxyPort(port, {cache});\n",
              "    const iframe = document.createElement('iframe');\n",
              "    iframe.src = new URL(path, url).toString();\n",
              "    iframe.height = height;\n",
              "    iframe.width = width;\n",
              "    iframe.style.border = 0;\n",
              "    iframe.allow = [\n",
              "        'accelerometer',\n",
              "        'autoplay',\n",
              "        'camera',\n",
              "        'clipboard-read',\n",
              "        'clipboard-write',\n",
              "        'gyroscope',\n",
              "        'magnetometer',\n",
              "        'microphone',\n",
              "        'serial',\n",
              "        'usb',\n",
              "        'xr-spatial-tracking',\n",
              "    ].join('; ');\n",
              "    element.appendChild(iframe);\n",
              "  })(8050, \"/\", \"100%\", 650, false, window.element)"
            ]
          },
          "metadata": {}
        }
      ]
    },
    {
      "cell_type": "markdown",
      "source": [
        "# 3 | Visualization by Graphviz\n"
      ],
      "metadata": {
        "id": "NtM2FuzFOb_4"
      }
    },
    {
      "cell_type": "markdown",
      "source": [
        "## 3.1 | Aggregate Visualization"
      ],
      "metadata": {
        "id": "P9nNC4ILcplc"
      }
    },
    {
      "cell_type": "code",
      "source": [
        "import subprocess\n",
        "\n",
        "os.chdir('/content/misalignVis/src')\n",
        "print(os.getcwd())"
      ],
      "metadata": {
        "colab": {
          "base_uri": "https://localhost:8080/"
        },
        "id": "m8SRVSMPKxA4",
        "outputId": "5fb51447-c9c0-4351-dd2e-7894b312f5dc"
      },
      "execution_count": 10,
      "outputs": [
        {
          "output_type": "stream",
          "name": "stdout",
          "text": [
            "/content/misalignVis/src\n"
          ]
        }
      ]
    },
    {
      "cell_type": "code",
      "source": [
        "import re\n",
        "import igraph as ig\n",
        "from dataclasses import astuple, asdict\n",
        "from utils import load_pickle, lemma2metacode\n",
        "import bitexts\n",
        "from bitexts import AlignmentInfo\n",
        "import math\n",
        "from IPython.display import SVG"
      ],
      "metadata": {
        "id": "FATSLPQVNEUr"
      },
      "execution_count": 11,
      "outputs": []
    },
    {
      "cell_type": "code",
      "source": [
        "DB = load_pickle(\"../cache/bitexts.db\")\n",
        "translator_lst = DB.translators\n",
        "metacode2lemma_map_src = load_pickle(\"../cache/metacode2lemma_src.pkl\")\n",
        "metacode2lemma_map_tar = load_pickle(\"../cache/metacode2lemma_tar.pkl\")\n",
        "romaji2kanji_map = {\n",
        "    \"kaneko\": \"KNK\",\n",
        "    \"katagiri\": \"KTGR\",\n",
        "    \"kojimaarai\": \"K&A\",\n",
        "    \"komachiya\": \"KMCY\",\n",
        "    \"kubota\": \"KBT\",\n",
        "    \"kyusojin\": \"KSJ\",\n",
        "    \"matsuda\": \"MTD\",\n",
        "    \"okumura\": \"OKMR\",\n",
        "    \"ozawa\": \"OZW\",\n",
        "    \"takeoka\": \"TKOK\"\n",
        "}"
      ],
      "metadata": {
        "id": "deEJR9at0MYV"
      },
      "execution_count": 12,
      "outputs": []
    },
    {
      "cell_type": "code",
      "source": [
        "def _gen_graph(alignment_summary, edge_info, source_words, source_word_translator_set, target_word_set):\n",
        "\n",
        "    # Edge by translator generator\n",
        "    def edge_by_translator():\n",
        "        for stat in alignment_summary.summary:\n",
        "            source_word = stat.alignment[0]\n",
        "            target_word = stat.alignment[1]\n",
        "            stat = asdict(stat)\n",
        "            for (key, value) in stat.items():\n",
        "                if (key == \"alignment\") or (key == \"total\"):\n",
        "                    continue\n",
        "                source_node = f\"{source_word}-{key}\"\n",
        "                target_node = target_word\n",
        "                weight = value\n",
        "                if weight == 0:\n",
        "                    continue\n",
        "                yield (source_node, target_node, weight, 8)\n",
        "\n",
        "    # Aligned target word generator\n",
        "    def target_words():\n",
        "        for info in edge_info:\n",
        "            target_word = info.alignment[1]\n",
        "            if target_word in target_word_set:\n",
        "                continue\n",
        "            target_word_set.add(target_word)\n",
        "            yield target_word\n",
        "\n",
        "    # Source word with translator coding generator\n",
        "    def source_words_by_translator():\n",
        "        for word in source_words:\n",
        "            info_lst = alignment_summary.query_details_by_source(word)\n",
        "            for info in info_lst:\n",
        "                word = info.word\n",
        "                translator = info.translator\n",
        "                name = (word, translator)\n",
        "                if name in source_word_translator_set:\n",
        "                    continue\n",
        "                source_word_translator_set.add(name)\n",
        "                yield name\n",
        "\n",
        "    # Source word node generator\n",
        "    def source_nodes():\n",
        "        for row in source_words_by_translator():\n",
        "            source_word = row[0]\n",
        "            translator = row[1]\n",
        "            name = source_word + \"-\" + translator\n",
        "            node = f\"{metacode2lemma_map_src[source_word]}\\n({romaji2kanji_map[translator]})\"\n",
        "            node_type = 1\n",
        "            type_label = \"source\"\n",
        "            weight = 0\n",
        "            shape = \"ellipse\"\n",
        "            info_lst = alignment_summary.query_details_by_source(row[0])\n",
        "            for info in info_lst:\n",
        "                if info.translator != row[1]:\n",
        "                    continue\n",
        "                weight += 1\n",
        "            yield (name, node, node_type, type_label, weight, shape)\n",
        "\n",
        "    # Target word node generator\n",
        "    def target_nodes():\n",
        "        for word in target_words():\n",
        "            name = word\n",
        "            node = f\"{metacode2lemma_map_tar[word]}\"\n",
        "            node_type = 2\n",
        "            type_label = \"target\"\n",
        "            weight = 0\n",
        "            shape = \"rectangle\"\n",
        "            info_lst = alignment_summary.query_details_by_target(word)\n",
        "            for info in info_lst:\n",
        "                weight += 1\n",
        "                source_metacode = info.alignment[0].split(\"-\")\n",
        "                target_metacode = info.alignment[1].split(\"-\")\n",
        "                if source_metacode[:4] == target_metacode[:4]:\n",
        "                    node_type = 3\n",
        "                    type_label = \"dublicate\"\n",
        "            yield (name, node, node_type, type_label, weight, shape)\n",
        "\n",
        "    # Igraph construction\n",
        "    node_lst = list(source_nodes()) + list(target_nodes())\n",
        "    node_lst = sorted(node_lst, key=lambda x: (x[2], x[4]), reverse=True)\n",
        "    edge_lst = list(edge_by_translator())\n",
        "    edge_lst = sorted(edge_lst, key=lambda x: (x[1], x[2]), reverse=True)\n",
        "    graph = ig.Graph.TupleList(edge_lst, directed=False, edge_attrs=[\"label\", \"fontsize\"])\n",
        "\n",
        "    for node_attr in node_lst:\n",
        "        name, node, node_type, type_label, weight, shape = node_attr\n",
        "        for v in graph.vs:\n",
        "            if v[\"name\"] != name:\n",
        "                continue\n",
        "            v[\"label\"] = node\n",
        "            v[\"node_type\"] = node_type\n",
        "            v[\"type_label\"] = type_label\n",
        "            if weight >= 5:\n",
        "                v[\"style\"] = \"filled\"\n",
        "                v[\"fillcolor\"] = \"lightyellow\"\n",
        "            if node_type == 1:\n",
        "                v[\"style\"] = \"filled\"\n",
        "                v[\"fillcolor\"] = \"lightgrey\"\n",
        "                v[\"width\"] = 0.1\n",
        "                v[\"fontsize\"] = 8\n",
        "            else:\n",
        "                v[\"fontsize\"] = (math.log(weight+7)) * 5\n",
        "            v[\"shape\"] = shape\n",
        "    return graph\n",
        "\n",
        "def _filter(alignment_info_lst):\n",
        "    \"\"\"To remove edges that contain the same nodes with source nodes and stop pos.\"\"\"\n",
        "    for alignment_info in alignment_info_lst:\n",
        "        source, target = alignment_info.alignment\n",
        "        # BG-16: symbols\n",
        "        # BG-0[456789]: words that are not nouns, verbs or adjectives\n",
        "        # BG-03-1000: demonstratives\n",
        "        pattern = re.compile(r'BG-16|BG-0[456789]|BG-03-1000')\n",
        "        if pattern.match(target):\n",
        "            continue\n",
        "        if source[3:15] == target[3:15]:\n",
        "            continue\n",
        "        yield alignment_info\n",
        "\n",
        "\n",
        "def retrive_igraph_by_translator(*source_words):\n",
        "    \"\"\"Retrive igraph format data with translator attension.\n",
        "\n",
        "    :return graph: igraph-converted information.\n",
        "    \"\"\"\n",
        "    target_word_set = set()\n",
        "    source_word_translator_set = set()\n",
        "    alignment_lst = DB.query_improper_alignment_by_word(*source_words)    \n",
        "    alignment_lst = list(_filter(alignment_lst))\n",
        "    alignment_summary = bitexts.AlignmentSummary(alignment_lst)\n",
        "    edge_info = alignment_summary.alignment_info  # For edges' annotation\n",
        "\n",
        "    return _gen_graph(alignment_summary, edge_info, source_words, source_word_translator_set, target_word_set)"
      ],
      "metadata": {
        "id": "RM1WxPRGsOVr"
      },
      "execution_count": 13,
      "outputs": []
    },
    {
      "cell_type": "code",
      "source": [
        "def dot_viz_aggr(word, width=None):\n",
        "    code = lemma2metacode(word, metacode2lemma_map_src)\n",
        "    g = retrive_igraph_by_translator(code)\n",
        "    g.write_dot(f\"../artifacts/{word}.dot\")\n",
        "    if width:\n",
        "        with open(f\"../artifacts/{word}.dot\", \"r\") as file:\n",
        "            lines = file.readlines()\n",
        "\n",
        "        # attr\n",
        "        lines.insert(2, f'  size=\"{width},\";\\n')\n",
        "        lines.insert(3, '  ratio=\"fill\";\\n')\n",
        "\n",
        "        # lines.insert(4, '  mode=\"ipsep\";\\n')\n",
        "        # lines.insert(5, '  sep=1;\\n')\n",
        "        # lines.insert(6, '  overlap=false;\\n')\n",
        "        \n",
        "        with open(f\"../artifacts/{word}.dot\", \"w\") as file:\n",
        "            file.writelines(lines)\n",
        "    neato_command = f\"neato -Tsvg ../artifacts/{word}.dot -o ../artifacts/{word}.svg\"\n",
        "    subprocess.run(neato_command, shell=True, check=True)\n",
        "    display(SVG(filename=f\"../artifacts/{word}.svg\")) "
      ],
      "metadata": {
        "id": "LENoVhwG6hyN"
      },
      "execution_count": 14,
      "outputs": []
    },
    {
      "cell_type": "markdown",
      "source": [
        "### 3.2 | Examples"
      ],
      "metadata": {
        "id": "LfBopaAGOgZh"
      }
    },
    {
      "cell_type": "markdown",
      "source": [
        "#### 3.2.1 | *Ume*, en. plum"
      ],
      "metadata": {
        "id": "IGBZcWmDc5pY"
      }
    },
    {
      "cell_type": "code",
      "source": [
        "dot_viz_aggr(\"梅\")"
      ],
      "metadata": {
        "colab": {
          "base_uri": "https://localhost:8080/",
          "height": 556
        },
        "id": "dKfx8Xsy9ggq",
        "outputId": "278728df-4f64-42b9-f6a3-71d0e6e5feac"
      },
      "execution_count": 15,
      "outputs": [
        {
          "name": "stdout",
          "output_type": "stream",
          "text": [
            "Lemma has the following semantic codings:\n",
            " 1: BG-01-5520-20-0401\n",
            " 2: BG-01-5520-20-0402\n",
            "Input one ID to query:1\n"
          ]
        },
        {
          "output_type": "display_data",
          "data": {
            "text/plain": [
              "<IPython.core.display.SVG object>"
            ],
            "image/svg+xml": "<svg xmlns=\"http://www.w3.org/2000/svg\" xmlns:xlink=\"http://www.w3.org/1999/xlink\" width=\"354pt\" height=\"349pt\" viewBox=\"0.00 0.00 354.43 349.11\">\n<g id=\"graph0\" class=\"graph\" transform=\"scale(1 1) rotate(0) translate(4 345.11)\">\n<title>%3</title>\n<polygon fill=\"white\" stroke=\"transparent\" points=\"-4,4 -4,-345.11 350.43,-345.11 350.43,4 -4,4\"/>\n<!-- 0 -->\n<g id=\"node1\" class=\"node\">\n<title>0</title>\n<ellipse fill=\"lightgrey\" stroke=\"black\" cx=\"231.01\" cy=\"-254.46\" rx=\"28.98\" ry=\"18.27\"/>\n<text text-anchor=\"middle\" x=\"231.01\" y=\"-257.06\" font-family=\"Times,serif\" font-size=\"8.00\">梅</text>\n<text text-anchor=\"middle\" x=\"231.01\" y=\"-248.06\" font-family=\"Times,serif\" font-size=\"8.00\">(MTD)</text>\n</g>\n<!-- 1 -->\n<g id=\"node2\" class=\"node\">\n<title>1</title>\n<polygon fill=\"none\" stroke=\"black\" points=\"346.43,-245.66 307.43,-245.66 307.43,-209.66 346.43,-209.66 346.43,-245.66\"/>\n<text text-anchor=\"middle\" x=\"326.93\" y=\"-224.85\" font-family=\"Times,serif\" font-size=\"10.40\">None</text>\n</g>\n<!-- 1&#45;&#45;0 -->\n<g id=\"edge1\" class=\"edge\">\n<title>1--0</title>\n<path fill=\"none\" stroke=\"black\" d=\"M307.06,-233.22C292.79,-237.2 273.4,-242.62 257.77,-246.98\"/>\n<text text-anchor=\"middle\" x=\"284.41\" y=\"-242.7\" font-family=\"Times,serif\" font-size=\"8.00\">1</text>\n</g>\n<!-- 2 -->\n<g id=\"node3\" class=\"node\">\n<title>2</title>\n<ellipse fill=\"lightgrey\" stroke=\"black\" cx=\"144.53\" cy=\"-136.3\" rx=\"33.47\" ry=\"18.27\"/>\n<text text-anchor=\"middle\" x=\"144.53\" y=\"-138.9\" font-family=\"Times,serif\" font-size=\"8.00\">梅</text>\n<text text-anchor=\"middle\" x=\"144.53\" y=\"-129.9\" font-family=\"Times,serif\" font-size=\"8.00\">(OKMR)</text>\n</g>\n<!-- 3 -->\n<g id=\"node4\" class=\"node\">\n<title>3</title>\n<polygon fill=\"lightyellow\" stroke=\"black\" points=\"207.61,-228.65 158.61,-228.65 158.61,-192.65 207.61,-192.65 207.61,-228.65\"/>\n<text text-anchor=\"middle\" x=\"183.11\" y=\"-206.87\" font-family=\"Times,serif\" font-size=\"14.72\">None</text>\n</g>\n<!-- 3&#45;&#45;0 -->\n<g id=\"edge5\" class=\"edge\">\n<title>3--0</title>\n<path fill=\"none\" stroke=\"black\" d=\"M202.87,-228.72C206.68,-232.21 210.64,-235.83 214.35,-239.22\"/>\n<text text-anchor=\"middle\" x=\"210.61\" y=\"-227.57\" font-family=\"Times,serif\" font-size=\"8.00\">1</text>\n</g>\n<!-- 3&#45;&#45;2 -->\n<g id=\"edge2\" class=\"edge\">\n<title>3--2</title>\n<path fill=\"none\" stroke=\"black\" d=\"M173.57,-192.27C167.55,-180.66 159.8,-165.73 153.82,-154.21\"/>\n<text text-anchor=\"middle\" x=\"161.7\" y=\"-175.84\" font-family=\"Times,serif\" font-size=\"8.00\">5</text>\n</g>\n<!-- 4 -->\n<g id=\"node5\" class=\"node\">\n<title>4</title>\n<ellipse fill=\"lightgrey\" stroke=\"black\" cx=\"120.22\" cy=\"-234.34\" rx=\"28.98\" ry=\"18.27\"/>\n<text text-anchor=\"middle\" x=\"120.22\" y=\"-236.94\" font-family=\"Times,serif\" font-size=\"8.00\">梅</text>\n<text text-anchor=\"middle\" x=\"120.22\" y=\"-227.94\" font-family=\"Times,serif\" font-size=\"8.00\">(KNK)</text>\n</g>\n<!-- 4&#45;&#45;3 -->\n<g id=\"edge3\" class=\"edge\">\n<title>4--3</title>\n<path fill=\"none\" stroke=\"black\" d=\"M145.44,-224.84C149.68,-223.24 154.07,-221.59 158.3,-219.99\"/>\n<text text-anchor=\"middle\" x=\"153.87\" y=\"-225.02\" font-family=\"Times,serif\" font-size=\"8.00\">3</text>\n</g>\n<!-- 5 -->\n<g id=\"node6\" class=\"node\">\n<title>5</title>\n<ellipse fill=\"lightgrey\" stroke=\"black\" cx=\"230.39\" cy=\"-123.78\" rx=\"28.98\" ry=\"18.27\"/>\n<text text-anchor=\"middle\" x=\"230.39\" y=\"-126.38\" font-family=\"Times,serif\" font-size=\"8.00\">梅</text>\n<text text-anchor=\"middle\" x=\"230.39\" y=\"-117.38\" font-family=\"Times,serif\" font-size=\"8.00\">(K&amp;A)</text>\n</g>\n<!-- 5&#45;&#45;3 -->\n<g id=\"edge4\" class=\"edge\">\n<title>5--3</title>\n<path fill=\"none\" stroke=\"black\" d=\"M220.82,-141.36C212.73,-156.23 201.17,-177.46 192.99,-192.5\"/>\n<text text-anchor=\"middle\" x=\"204.91\" y=\"-169.53\" font-family=\"Times,serif\" font-size=\"8.00\">1</text>\n</g>\n<!-- 6 -->\n<g id=\"node7\" class=\"node\">\n<title>6</title>\n<ellipse fill=\"lightgrey\" stroke=\"black\" cx=\"110.41\" cy=\"-256.2\" rx=\"28.98\" ry=\"18.27\"/>\n<text text-anchor=\"middle\" x=\"110.41\" y=\"-258.8\" font-family=\"Times,serif\" font-size=\"8.00\">梅</text>\n<text text-anchor=\"middle\" x=\"110.41\" y=\"-249.8\" font-family=\"Times,serif\" font-size=\"8.00\">(OZW)</text>\n</g>\n<!-- 6&#45;&#45;3 -->\n<g id=\"edge6\" class=\"edge\">\n<title>6--3</title>\n<path fill=\"none\" stroke=\"black\" d=\"M131.05,-243.27C139.61,-237.9 149.62,-231.64 158.55,-226.03\"/>\n<text text-anchor=\"middle\" x=\"142.8\" y=\"-237.25\" font-family=\"Times,serif\" font-size=\"8.00\">1</text>\n</g>\n<!-- 7 -->\n<g id=\"node8\" class=\"node\">\n<title>7</title>\n<ellipse fill=\"lightgrey\" stroke=\"black\" cx=\"237.72\" cy=\"-161.59\" rx=\"32.55\" ry=\"18.27\"/>\n<text text-anchor=\"middle\" x=\"237.72\" y=\"-164.19\" font-family=\"Times,serif\" font-size=\"8.00\">梅</text>\n<text text-anchor=\"middle\" x=\"237.72\" y=\"-155.19\" font-family=\"Times,serif\" font-size=\"8.00\">(TKOK)</text>\n</g>\n<!-- 7&#45;&#45;3 -->\n<g id=\"edge7\" class=\"edge\">\n<title>7--3</title>\n<path fill=\"none\" stroke=\"black\" d=\"M220.14,-177.38C214.78,-182.2 208.84,-187.54 203.32,-192.5\"/>\n<text text-anchor=\"middle\" x=\"209.73\" y=\"-187.54\" font-family=\"Times,serif\" font-size=\"8.00\">1</text>\n</g>\n<!-- 8 -->\n<g id=\"node9\" class=\"node\">\n<title>8</title>\n<polygon fill=\"none\" stroke=\"black\" points=\"186.61,-326.22 144.61,-326.22 144.61,-290.22 186.61,-290.22 186.61,-326.22\"/>\n<text text-anchor=\"middle\" x=\"165.61\" y=\"-305.51\" font-family=\"Times,serif\" font-size=\"11.51\">None</text>\n</g>\n<!-- 8&#45;&#45;0 -->\n<g id=\"edge9\" class=\"edge\">\n<title>8--0</title>\n<path fill=\"none\" stroke=\"black\" d=\"M186.66,-290.91C195.17,-283.91 204.9,-275.92 213.07,-269.21\"/>\n<text text-anchor=\"middle\" x=\"197.86\" y=\"-282.66\" font-family=\"Times,serif\" font-size=\"8.00\">1</text>\n</g>\n<!-- 8&#45;&#45;4 -->\n<g id=\"edge8\" class=\"edge\">\n<title>8--4</title>\n<path fill=\"none\" stroke=\"black\" d=\"M154.39,-289.96C147.25,-278.33 138.05,-263.36 131,-251.88\"/>\n<text text-anchor=\"middle\" x=\"144.69\" y=\"-273.52\" font-family=\"Times,serif\" font-size=\"8.00\">1</text>\n</g>\n<!-- 8&#45;&#45;6 -->\n<g id=\"edge10\" class=\"edge\">\n<title>8--6</title>\n<path fill=\"none\" stroke=\"black\" d=\"M146.3,-290.03C139.96,-284.05 132.97,-277.47 126.86,-271.71\"/>\n<text text-anchor=\"middle\" x=\"134.58\" y=\"-283.47\" font-family=\"Times,serif\" font-size=\"8.00\">1</text>\n</g>\n<!-- 9 -->\n<g id=\"node10\" class=\"node\">\n<title>9</title>\n<polygon fill=\"none\" stroke=\"black\" points=\"306.66,-76.39 265.66,-76.39 265.66,-40.39 306.66,-40.39 306.66,-76.39\"/>\n<text text-anchor=\"middle\" x=\"286.16\" y=\"-55.6\" font-family=\"Times,serif\" font-size=\"10.99\">None</text>\n</g>\n<!-- 9&#45;&#45;5 -->\n<g id=\"edge11\" class=\"edge\">\n<title>9--5</title>\n<path fill=\"none\" stroke=\"black\" d=\"M270.62,-76.6C262.37,-86.28 252.32,-98.07 244.32,-107.45\"/>\n<text text-anchor=\"middle\" x=\"255.47\" y=\"-94.63\" font-family=\"Times,serif\" font-size=\"8.00\">2</text>\n</g>\n<!-- 10 -->\n<g id=\"node11\" class=\"node\">\n<title>10</title>\n<ellipse fill=\"lightgrey\" stroke=\"black\" cx=\"120.85\" cy=\"-92.07\" rx=\"25.41\" ry=\"18.27\"/>\n<text text-anchor=\"middle\" x=\"120.85\" y=\"-94.67\" font-family=\"Times,serif\" font-size=\"8.00\">梅</text>\n<text text-anchor=\"middle\" x=\"120.85\" y=\"-85.67\" font-family=\"Times,serif\" font-size=\"8.00\">(KSJ)</text>\n</g>\n<!-- 11 -->\n<g id=\"node12\" class=\"node\">\n<title>11</title>\n<polygon fill=\"none\" stroke=\"black\" points=\"106.62,-36 67.62,-36 67.62,0 106.62,0 106.62,-36\"/>\n<text text-anchor=\"middle\" x=\"87.12\" y=\"-15.18\" font-family=\"Times,serif\" font-size=\"10.40\">None</text>\n</g>\n<!-- 11&#45;&#45;10 -->\n<g id=\"edge12\" class=\"edge\">\n<title>11--10</title>\n<path fill=\"none\" stroke=\"black\" d=\"M95.46,-36.31C100.77,-47.96 107.6,-62.97 112.84,-74.48\"/>\n<text text-anchor=\"middle\" x=\"102.15\" y=\"-58\" font-family=\"Times,serif\" font-size=\"8.00\">1</text>\n</g>\n<!-- 12 -->\n<g id=\"node13\" class=\"node\">\n<title>12</title>\n<ellipse fill=\"lightgrey\" stroke=\"black\" cx=\"251.13\" cy=\"-228.27\" rx=\"33.47\" ry=\"18.27\"/>\n<text text-anchor=\"middle\" x=\"251.13\" y=\"-230.87\" font-family=\"Times,serif\" font-size=\"8.00\">梅</text>\n<text text-anchor=\"middle\" x=\"251.13\" y=\"-221.87\" font-family=\"Times,serif\" font-size=\"8.00\">(KMCY)</text>\n</g>\n<!-- 13 -->\n<g id=\"node14\" class=\"node\">\n<title>13</title>\n<polygon fill=\"none\" stroke=\"black\" points=\"326.84,-300.57 284.84,-300.57 284.84,-264.57 326.84,-264.57 326.84,-300.57\"/>\n<text text-anchor=\"middle\" x=\"305.84\" y=\"-279.86\" font-family=\"Times,serif\" font-size=\"11.51\">None</text>\n</g>\n<!-- 13&#45;&#45;0 -->\n<g id=\"edge14\" class=\"edge\">\n<title>13--0</title>\n<path fill=\"none\" stroke=\"black\" d=\"M284.6,-274.59C275.7,-271.24 265.28,-267.33 256.01,-263.85\"/>\n<text text-anchor=\"middle\" x=\"268.31\" y=\"-271.82\" font-family=\"Times,serif\" font-size=\"8.00\">1</text>\n</g>\n<!-- 13&#45;&#45;12 -->\n<g id=\"edge13\" class=\"edge\">\n<title>13--12</title>\n<path fill=\"none\" stroke=\"black\" d=\"M287.62,-264.49C281.16,-258.07 273.92,-250.89 267.61,-244.62\"/>\n<text text-anchor=\"middle\" x=\"275.62\" y=\"-257.15\" font-family=\"Times,serif\" font-size=\"8.00\">2</text>\n</g>\n<!-- 14 -->\n<g id=\"node15\" class=\"node\">\n<title>14</title>\n<polygon fill=\"none\" stroke=\"black\" points=\"116.29,-341.11 75.29,-341.11 75.29,-305.11 116.29,-305.11 116.29,-341.11\"/>\n<text text-anchor=\"middle\" x=\"95.79\" y=\"-320.32\" font-family=\"Times,serif\" font-size=\"10.99\">None</text>\n</g>\n<!-- 14&#45;&#45;4 -->\n<g id=\"edge15\" class=\"edge\">\n<title>14--4</title>\n<path fill=\"none\" stroke=\"black\" d=\"M100.86,-304.71C105.05,-289.48 110.98,-267.94 115.17,-252.71\"/>\n<text text-anchor=\"middle\" x=\"106.01\" y=\"-281.31\" font-family=\"Times,serif\" font-size=\"8.00\">1</text>\n</g>\n<!-- 14&#45;&#45;6 -->\n<g id=\"edge16\" class=\"edge\">\n<title>14--6</title>\n<path fill=\"none\" stroke=\"black\" d=\"M99.79,-304.83C101.85,-295.39 104.36,-283.9 106.42,-274.46\"/>\n<text text-anchor=\"middle\" x=\"101.1\" y=\"-292.24\" font-family=\"Times,serif\" font-size=\"8.00\">1</text>\n</g>\n<!-- 15 -->\n<g id=\"node16\" class=\"node\">\n<title>15</title>\n<polygon fill=\"lightyellow\" stroke=\"black\" points=\"194.45,-197.79 144.45,-197.79 144.45,-161.79 194.45,-161.79 194.45,-197.79\"/>\n<text text-anchor=\"middle\" x=\"169.45\" y=\"-176.11\" font-family=\"Times,serif\" font-size=\"15.22\">None</text>\n</g>\n<!-- 15&#45;&#45;0 -->\n<g id=\"edge20\" class=\"edge\">\n<title>15--0</title>\n<path fill=\"none\" stroke=\"black\" d=\"M184.35,-197.87C194.46,-210.12 207.71,-226.2 217.51,-238.08\"/>\n<text text-anchor=\"middle\" x=\"198.93\" y=\"-220.57\" font-family=\"Times,serif\" font-size=\"8.00\">2</text>\n</g>\n<!-- 15&#45;&#45;2 -->\n<g id=\"edge24\" class=\"edge\">\n<title>15--2</title>\n<path fill=\"none\" stroke=\"black\" d=\"M159.03,-161.6C157.59,-159.09 156.11,-156.51 154.67,-154\"/>\n<text text-anchor=\"middle\" x=\"154.85\" y=\"-160.4\" font-family=\"Times,serif\" font-size=\"8.00\">1</text>\n</g>\n<!-- 15&#45;&#45;4 -->\n<g id=\"edge21\" class=\"edge\">\n<title>15--4</title>\n<path fill=\"none\" stroke=\"black\" d=\"M153.06,-197.96C147.13,-204.53 140.48,-211.89 134.73,-218.27\"/>\n<text text-anchor=\"middle\" x=\"141.89\" y=\"-201.71\" font-family=\"Times,serif\" font-size=\"8.00\">1</text>\n</g>\n<!-- 15&#45;&#45;5 -->\n<g id=\"edge17\" class=\"edge\">\n<title>15--5</title>\n<path fill=\"none\" stroke=\"black\" d=\"M189.07,-161.76C197,-154.47 206.06,-146.14 213.68,-139.14\"/>\n<text text-anchor=\"middle\" x=\"199.37\" y=\"-153.05\" font-family=\"Times,serif\" font-size=\"8.00\">2</text>\n</g>\n<!-- 15&#45;&#45;6 -->\n<g id=\"edge25\" class=\"edge\">\n<title>15--6</title>\n<path fill=\"none\" stroke=\"black\" d=\"M155.46,-197.9C145.71,-210.52 132.79,-227.24 123.29,-239.53\"/>\n<text text-anchor=\"middle\" x=\"137.38\" y=\"-212.32\" font-family=\"Times,serif\" font-size=\"8.00\">1</text>\n</g>\n<!-- 15&#45;&#45;7 -->\n<g id=\"edge26\" class=\"edge\">\n<title>15--7</title>\n<path fill=\"none\" stroke=\"black\" d=\"M194.48,-173.12C198.9,-171.94 203.53,-170.71 208.06,-169.5\"/>\n<text text-anchor=\"middle\" x=\"199.27\" y=\"-173.91\" font-family=\"Times,serif\" font-size=\"8.00\">1</text>\n</g>\n<!-- 15&#45;&#45;10 -->\n<g id=\"edge19\" class=\"edge\">\n<title>15--10</title>\n<path fill=\"none\" stroke=\"black\" d=\"M159.38,-161.62C150.87,-146.26 138.77,-124.42 130.41,-109.33\"/>\n<text text-anchor=\"middle\" x=\"142.9\" y=\"-138.07\" font-family=\"Times,serif\" font-size=\"8.00\">2</text>\n</g>\n<!-- 15&#45;&#45;12 -->\n<g id=\"edge23\" class=\"edge\">\n<title>15--12</title>\n<path fill=\"none\" stroke=\"black\" d=\"M194.85,-194.86C205.52,-201.2 217.85,-208.52 228.25,-214.68\"/>\n<text text-anchor=\"middle\" x=\"209.55\" y=\"-207.37\" font-family=\"Times,serif\" font-size=\"8.00\">1</text>\n</g>\n<!-- 16 -->\n<g id=\"node17\" class=\"node\">\n<title>16</title>\n<ellipse fill=\"lightgrey\" stroke=\"black\" cx=\"186.15\" cy=\"-92.68\" rx=\"27.65\" ry=\"18.27\"/>\n<text text-anchor=\"middle\" x=\"186.15\" y=\"-95.28\" font-family=\"Times,serif\" font-size=\"8.00\">梅</text>\n<text text-anchor=\"middle\" x=\"186.15\" y=\"-86.28\" font-family=\"Times,serif\" font-size=\"8.00\">(KBT)</text>\n</g>\n<!-- 16&#45;&#45;15 -->\n<g id=\"edge18\" class=\"edge\">\n<title>16--15</title>\n<path fill=\"none\" stroke=\"black\" d=\"M182.61,-111.15C179.76,-126.03 175.77,-146.85 172.93,-161.64\"/>\n<text text-anchor=\"middle\" x=\"179.77\" y=\"-139\" font-family=\"Times,serif\" font-size=\"8.00\">2</text>\n</g>\n<!-- 17 -->\n<g id=\"node18\" class=\"node\">\n<title>17</title>\n<ellipse fill=\"lightgrey\" stroke=\"black\" cx=\"84.5\" cy=\"-153.96\" rx=\"31.64\" ry=\"18.27\"/>\n<text text-anchor=\"middle\" x=\"84.5\" y=\"-156.56\" font-family=\"Times,serif\" font-size=\"8.00\">梅</text>\n<text text-anchor=\"middle\" x=\"84.5\" y=\"-147.56\" font-family=\"Times,serif\" font-size=\"8.00\">(KTGR)</text>\n</g>\n<!-- 17&#45;&#45;15 -->\n<g id=\"edge22\" class=\"edge\">\n<title>17--15</title>\n<path fill=\"none\" stroke=\"black\" d=\"M112.79,-162.56C123.02,-165.67 134.5,-169.16 144.43,-172.18\"/>\n<text text-anchor=\"middle\" x=\"126.61\" y=\"-169.97\" font-family=\"Times,serif\" font-size=\"8.00\">1</text>\n</g>\n<!-- 18 -->\n<g id=\"node19\" class=\"node\">\n<title>18</title>\n<polygon fill=\"none\" stroke=\"black\" points=\"50.98,-217.3 9.98,-217.3 9.98,-181.3 50.98,-181.3 50.98,-217.3\"/>\n<text text-anchor=\"middle\" x=\"30.48\" y=\"-196.51\" font-family=\"Times,serif\" font-size=\"10.99\">None</text>\n</g>\n<!-- 18&#45;&#45;4 -->\n<g id=\"edge27\" class=\"edge\">\n<title>18--4</title>\n<path fill=\"none\" stroke=\"black\" d=\"M51.3,-207.42C64.45,-212.56 81.52,-219.22 95.38,-224.64\"/>\n<text text-anchor=\"middle\" x=\"71.34\" y=\"-218.63\" font-family=\"Times,serif\" font-size=\"8.00\">1</text>\n</g>\n<!-- 18&#45;&#45;17 -->\n<g id=\"edge28\" class=\"edge\">\n<title>18--17</title>\n<path fill=\"none\" stroke=\"black\" d=\"M51.22,-181.9C56.21,-177.7 61.52,-173.25 66.39,-169.17\"/>\n<text text-anchor=\"middle\" x=\"56.8\" y=\"-178.13\" font-family=\"Times,serif\" font-size=\"8.00\">1</text>\n</g>\n<!-- 19 -->\n<g id=\"node20\" class=\"node\">\n<title>19</title>\n<polygon fill=\"none\" stroke=\"black\" points=\"286.36,-337.38 245.36,-337.38 245.36,-301.38 286.36,-301.38 286.36,-337.38\"/>\n<text text-anchor=\"middle\" x=\"265.86\" y=\"-316.59\" font-family=\"Times,serif\" font-size=\"10.99\">None</text>\n</g>\n<!-- 19&#45;&#45;0 -->\n<g id=\"edge30\" class=\"edge\">\n<title>19--0</title>\n<path fill=\"none\" stroke=\"black\" d=\"M256.15,-301.29C251.24,-292.14 245.3,-281.07 240.43,-272\"/>\n<text text-anchor=\"middle\" x=\"246.29\" y=\"-289.25\" font-family=\"Times,serif\" font-size=\"8.00\">1</text>\n</g>\n<!-- 19&#45;&#45;12 -->\n<g id=\"edge29\" class=\"edge\">\n<title>19--12</title>\n<path fill=\"none\" stroke=\"black\" d=\"M262.95,-301.38C260.4,-285.61 256.71,-262.79 254.14,-246.85\"/>\n<text text-anchor=\"middle\" x=\"256.54\" y=\"-276.72\" font-family=\"Times,serif\" font-size=\"8.00\">1</text>\n</g>\n<!-- 20 -->\n<g id=\"node21\" class=\"node\">\n<title>20</title>\n<polygon fill=\"none\" stroke=\"black\" points=\"65.36,-334.59 26.36,-334.59 26.36,-298.59 65.36,-298.59 65.36,-334.59\"/>\n<text text-anchor=\"middle\" x=\"45.86\" y=\"-313.77\" font-family=\"Times,serif\" font-size=\"10.40\">None</text>\n</g>\n<!-- 20&#45;&#45;6 -->\n<g id=\"edge31\" class=\"edge\">\n<title>20--6</title>\n<path fill=\"none\" stroke=\"black\" d=\"M65.22,-298.47C74.43,-289.85 85.32,-279.67 94.1,-271.46\"/>\n<text text-anchor=\"middle\" x=\"77.66\" y=\"-287.56\" font-family=\"Times,serif\" font-size=\"8.00\">1</text>\n</g>\n<!-- 21 -->\n<g id=\"node22\" class=\"node\">\n<title>21</title>\n<polygon fill=\"none\" stroke=\"black\" points=\"39,-271.59 0,-271.59 0,-235.59 39,-235.59 39,-271.59\"/>\n<text text-anchor=\"middle\" x=\"19.5\" y=\"-250.77\" font-family=\"Times,serif\" font-size=\"10.40\">None</text>\n</g>\n<!-- 21&#45;&#45;6 -->\n<g id=\"edge32\" class=\"edge\">\n<title>21--6</title>\n<path fill=\"none\" stroke=\"black\" d=\"M39.23,-254.16C51.55,-254.51 67.64,-254.97 81.4,-255.37\"/>\n<text text-anchor=\"middle\" x=\"58.31\" y=\"-257.36\" font-family=\"Times,serif\" font-size=\"8.00\">1</text>\n</g>\n</g>\n</svg>"
          },
          "metadata": {}
        }
      ]
    },
    {
      "cell_type": "markdown",
      "source": [
        "#### 3.2.2 | *Ominaeshi*, en. golden valerian"
      ],
      "metadata": {
        "id": "sUlHidO1dFq8"
      }
    },
    {
      "cell_type": "code",
      "source": [
        "dot_viz_aggr(\"女郎花\")"
      ],
      "metadata": {
        "id": "Uwb9F6aO9jMh",
        "colab": {
          "base_uri": "https://localhost:8080/",
          "height": 452
        },
        "outputId": "818a8a1a-d7ef-477e-cd56-ad637c690815"
      },
      "execution_count": 16,
      "outputs": [
        {
          "output_type": "display_data",
          "data": {
            "text/plain": [
              "<IPython.core.display.SVG object>"
            ],
            "image/svg+xml": "<svg xmlns=\"http://www.w3.org/2000/svg\" xmlns:xlink=\"http://www.w3.org/1999/xlink\" width=\"424pt\" height=\"323pt\" viewBox=\"0.00 0.00 423.82 322.94\">\n<g id=\"graph0\" class=\"graph\" transform=\"scale(1 1) rotate(0) translate(4 318.94)\">\n<title>%3</title>\n<polygon fill=\"white\" stroke=\"transparent\" points=\"-4,4 -4,-318.94 419.82,-318.94 419.82,4 -4,4\"/>\n<!-- 0 -->\n<g id=\"node1\" class=\"node\">\n<title>0</title>\n<ellipse fill=\"lightgrey\" stroke=\"black\" cx=\"222.31\" cy=\"-105.99\" rx=\"51.74\" ry=\"18.27\"/>\n<text text-anchor=\"middle\" x=\"222.31\" y=\"-108.59\" font-family=\"Times,serif\" font-size=\"8.00\">女郎花</text>\n<text text-anchor=\"middle\" x=\"222.31\" y=\"-99.59\" font-family=\"Times,serif\" font-size=\"8.00\">(KTGR)</text>\n</g>\n<!-- 1 -->\n<g id=\"node2\" class=\"node\">\n<title>1</title>\n<polygon fill=\"none\" stroke=\"black\" points=\"331.65,-129.27 288.65,-129.27 288.65,-93.27 331.65,-93.27 331.65,-129.27\"/>\n<text text-anchor=\"middle\" x=\"310.15\" y=\"-108.18\" font-family=\"Times,serif\" font-size=\"11.99\">None</text>\n</g>\n<!-- 1&#45;&#45;0 -->\n<g id=\"edge1\" class=\"edge\">\n<title>1--0</title>\n<path fill=\"none\" stroke=\"black\" d=\"M288.44,-109.96C283.77,-109.68 278.64,-109.37 273.37,-109.06\"/>\n<text text-anchor=\"middle\" x=\"278.9\" y=\"-112.11\" font-family=\"Times,serif\" font-size=\"8.00\">2</text>\n</g>\n<!-- 2 -->\n<g id=\"node3\" class=\"node\">\n<title>2</title>\n<ellipse fill=\"lightgrey\" stroke=\"black\" cx=\"320.9\" cy=\"-187.62\" rx=\"51.74\" ry=\"18.27\"/>\n<text text-anchor=\"middle\" x=\"320.9\" y=\"-190.22\" font-family=\"Times,serif\" font-size=\"8.00\">女郎花</text>\n<text text-anchor=\"middle\" x=\"320.9\" y=\"-181.22\" font-family=\"Times,serif\" font-size=\"8.00\">(TKOK)</text>\n</g>\n<!-- 2&#45;&#45;1 -->\n<g id=\"edge2\" class=\"edge\">\n<title>2--1</title>\n<path fill=\"none\" stroke=\"black\" d=\"M318.3,-169.14C316.6,-157.05 314.38,-141.32 312.7,-129.32\"/>\n<text text-anchor=\"middle\" x=\"313.5\" y=\"-151.83\" font-family=\"Times,serif\" font-size=\"8.00\">2</text>\n</g>\n<!-- 3 -->\n<g id=\"node4\" class=\"node\">\n<title>3</title>\n<polygon fill=\"none\" stroke=\"black\" points=\"302.13,-65.08 263.13,-65.08 263.13,-29.08 302.13,-29.08 302.13,-65.08\"/>\n<text text-anchor=\"middle\" x=\"282.63\" y=\"-44.26\" font-family=\"Times,serif\" font-size=\"10.40\">None</text>\n</g>\n<!-- 3&#45;&#45;0 -->\n<g id=\"edge3\" class=\"edge\">\n<title>3--0</title>\n<path fill=\"none\" stroke=\"black\" d=\"M263.88,-65.39C256.27,-72.82 247.52,-81.36 240.02,-88.69\"/>\n<text text-anchor=\"middle\" x=\"249.95\" y=\"-79.64\" font-family=\"Times,serif\" font-size=\"8.00\">1</text>\n</g>\n<!-- 4 -->\n<g id=\"node5\" class=\"node\">\n<title>4</title>\n<ellipse fill=\"lightgrey\" stroke=\"black\" cx=\"178.12\" cy=\"-121.01\" rx=\"51.74\" ry=\"18.27\"/>\n<text text-anchor=\"middle\" x=\"178.12\" y=\"-123.61\" font-family=\"Times,serif\" font-size=\"8.00\">女郎花</text>\n<text text-anchor=\"middle\" x=\"178.12\" y=\"-114.61\" font-family=\"Times,serif\" font-size=\"8.00\">(OZW)</text>\n</g>\n<!-- 5 -->\n<g id=\"node6\" class=\"node\">\n<title>5</title>\n<polygon fill=\"lightyellow\" stroke=\"black\" points=\"155.78,-155.58 104.78,-155.58 104.78,-119.58 155.78,-119.58 155.78,-155.58\"/>\n<text text-anchor=\"middle\" x=\"130.28\" y=\"-133.37\" font-family=\"Times,serif\" font-size=\"15.89\">None</text>\n</g>\n<!-- 5&#45;&#45;0 -->\n<g id=\"edge6\" class=\"edge\">\n<title>5--0</title>\n<path fill=\"none\" stroke=\"black\" d=\"M155.92,-128.78C164.96,-125.67 175.31,-122.12 185.12,-118.75\"/>\n<text text-anchor=\"middle\" x=\"168.52\" y=\"-126.37\" font-family=\"Times,serif\" font-size=\"8.00\">3</text>\n</g>\n<!-- 5&#45;&#45;4 -->\n<g id=\"edge4\" class=\"edge\">\n<title>5--4</title>\n<path fill=\"none\" stroke=\"black\" d=\"M155.88,-128.71C155.97,-128.68 156.06,-128.65 156.15,-128.62\"/>\n<text text-anchor=\"middle\" x=\"158.02\" y=\"-131.26\" font-family=\"Times,serif\" font-size=\"8.00\">5</text>\n</g>\n<!-- 6 -->\n<g id=\"node7\" class=\"node\">\n<title>6</title>\n<ellipse fill=\"lightgrey\" stroke=\"black\" cx=\"63.85\" cy=\"-101.1\" rx=\"51.74\" ry=\"18.27\"/>\n<text text-anchor=\"middle\" x=\"63.85\" y=\"-103.7\" font-family=\"Times,serif\" font-size=\"8.00\">女郎花</text>\n<text text-anchor=\"middle\" x=\"63.85\" y=\"-94.7\" font-family=\"Times,serif\" font-size=\"8.00\">(KSJ)</text>\n</g>\n<!-- 6&#45;&#45;5 -->\n<g id=\"edge5\" class=\"edge\">\n<title>6--5</title>\n<path fill=\"none\" stroke=\"black\" d=\"M92.02,-116.57C96.13,-118.82 100.33,-121.13 104.39,-123.36\"/>\n<text text-anchor=\"middle\" x=\"96.21\" y=\"-122.56\" font-family=\"Times,serif\" font-size=\"8.00\">4</text>\n</g>\n<!-- 7 -->\n<g id=\"node8\" class=\"node\">\n<title>7</title>\n<ellipse fill=\"lightgrey\" stroke=\"black\" cx=\"150.24\" cy=\"-232.07\" rx=\"51.74\" ry=\"18.27\"/>\n<text text-anchor=\"middle\" x=\"150.24\" y=\"-234.67\" font-family=\"Times,serif\" font-size=\"8.00\">女郎花</text>\n<text text-anchor=\"middle\" x=\"150.24\" y=\"-225.67\" font-family=\"Times,serif\" font-size=\"8.00\">(KMCY)</text>\n</g>\n<!-- 7&#45;&#45;5 -->\n<g id=\"edge7\" class=\"edge\">\n<title>7--5</title>\n<path fill=\"none\" stroke=\"black\" d=\"M146.3,-213.4C142.78,-196.73 137.65,-172.45 134.15,-155.89\"/>\n<text text-anchor=\"middle\" x=\"138.22\" y=\"-178.24\" font-family=\"Times,serif\" font-size=\"8.00\">3</text>\n</g>\n<!-- 8 -->\n<g id=\"node9\" class=\"node\">\n<title>8</title>\n<ellipse fill=\"lightgrey\" stroke=\"black\" cx=\"51.62\" cy=\"-159.6\" rx=\"51.74\" ry=\"18.27\"/>\n<text text-anchor=\"middle\" x=\"51.62\" y=\"-162.2\" font-family=\"Times,serif\" font-size=\"8.00\">女郎花</text>\n<text text-anchor=\"middle\" x=\"51.62\" y=\"-153.2\" font-family=\"Times,serif\" font-size=\"8.00\">(OKMR)</text>\n</g>\n<!-- 8&#45;&#45;5 -->\n<g id=\"edge8\" class=\"edge\">\n<title>8--5</title>\n<path fill=\"none\" stroke=\"black\" d=\"M92.33,-148.2C96.53,-147.03 100.71,-145.86 104.67,-144.75\"/>\n<text text-anchor=\"middle\" x=\"96.5\" y=\"-140.08\" font-family=\"Times,serif\" font-size=\"8.00\">2</text>\n</g>\n<!-- 9 -->\n<g id=\"node10\" class=\"node\">\n<title>9</title>\n<polygon fill=\"none\" stroke=\"black\" points=\"255.35,-36 216.35,-36 216.35,0 255.35,0 255.35,-36\"/>\n<text text-anchor=\"middle\" x=\"235.85\" y=\"-15.18\" font-family=\"Times,serif\" font-size=\"10.40\">None</text>\n</g>\n<!-- 9&#45;&#45;0 -->\n<g id=\"edge9\" class=\"edge\">\n<title>9--0</title>\n<path fill=\"none\" stroke=\"black\" d=\"M233.05,-36.23C230.74,-51.23 227.48,-72.4 225.16,-87.48\"/>\n<text text-anchor=\"middle\" x=\"227.1\" y=\"-64.45\" font-family=\"Times,serif\" font-size=\"8.00\">1</text>\n</g>\n<!-- 10 -->\n<g id=\"node11\" class=\"node\">\n<title>10</title>\n<ellipse fill=\"lightgrey\" stroke=\"black\" cx=\"186.31\" cy=\"-253.11\" rx=\"51.74\" ry=\"18.27\"/>\n<text text-anchor=\"middle\" x=\"186.31\" y=\"-255.71\" font-family=\"Times,serif\" font-size=\"8.00\">女郎花</text>\n<text text-anchor=\"middle\" x=\"186.31\" y=\"-246.71\" font-family=\"Times,serif\" font-size=\"8.00\">(KBT)</text>\n</g>\n<!-- 11 -->\n<g id=\"node12\" class=\"node\">\n<title>11</title>\n<polygon fill=\"lightyellow\" stroke=\"black\" points=\"253.28,-223.73 204.28,-223.73 204.28,-187.73 253.28,-187.73 253.28,-223.73\"/>\n<text text-anchor=\"middle\" x=\"228.78\" y=\"-201.95\" font-family=\"Times,serif\" font-size=\"14.72\">None</text>\n</g>\n<!-- 11&#45;&#45;0 -->\n<g id=\"edge13\" class=\"edge\">\n<title>11--0</title>\n<path fill=\"none\" stroke=\"black\" d=\"M227.59,-187.44C226.43,-169.55 224.68,-142.46 223.51,-124.5\"/>\n<text text-anchor=\"middle\" x=\"223.55\" y=\"-158.57\" font-family=\"Times,serif\" font-size=\"8.00\">1</text>\n</g>\n<!-- 11&#45;&#45;7 -->\n<g id=\"edge11\" class=\"edge\">\n<title>11--7</title>\n<path fill=\"none\" stroke=\"black\" d=\"M203.93,-214.06C198.81,-215.78 193.3,-217.63 187.84,-219.46\"/>\n<text text-anchor=\"middle\" x=\"193.89\" y=\"-210.36\" font-family=\"Times,serif\" font-size=\"8.00\">3</text>\n</g>\n<!-- 11&#45;&#45;10 -->\n<g id=\"edge10\" class=\"edge\">\n<title>11--10</title>\n<path fill=\"none\" stroke=\"black\" d=\"M212.48,-223.91C209.11,-227.67 205.57,-231.63 202.21,-235.37\"/>\n<text text-anchor=\"middle\" x=\"205.35\" y=\"-223.24\" font-family=\"Times,serif\" font-size=\"8.00\">6</text>\n</g>\n<!-- 12 -->\n<g id=\"node13\" class=\"node\">\n<title>12</title>\n<ellipse fill=\"lightgrey\" stroke=\"black\" cx=\"277.38\" cy=\"-259.26\" rx=\"51.74\" ry=\"18.27\"/>\n<text text-anchor=\"middle\" x=\"277.38\" y=\"-261.86\" font-family=\"Times,serif\" font-size=\"8.00\">女郎花</text>\n<text text-anchor=\"middle\" x=\"277.38\" y=\"-252.86\" font-family=\"Times,serif\" font-size=\"8.00\">(MTD)</text>\n</g>\n<!-- 12&#45;&#45;11 -->\n<g id=\"edge12\" class=\"edge\">\n<title>12--11</title>\n<path fill=\"none\" stroke=\"black\" d=\"M261.47,-241.73C256.26,-236 250.47,-229.62 245.23,-223.85\"/>\n<text text-anchor=\"middle\" x=\"251.35\" y=\"-226.39\" font-family=\"Times,serif\" font-size=\"8.00\">2</text>\n</g>\n<!-- 13 -->\n<g id=\"node14\" class=\"node\">\n<title>13</title>\n<polygon fill=\"none\" stroke=\"black\" points=\"202.43,-56.73 161.43,-56.73 161.43,-20.73 202.43,-20.73 202.43,-56.73\"/>\n<text text-anchor=\"middle\" x=\"181.93\" y=\"-35.94\" font-family=\"Times,serif\" font-size=\"10.99\">None</text>\n</g>\n<!-- 13&#45;&#45;0 -->\n<g id=\"edge14\" class=\"edge\">\n<title>13--0</title>\n<path fill=\"none\" stroke=\"black\" d=\"M192.75,-56.75C198.55,-66.4 205.66,-78.26 211.46,-87.91\"/>\n<text text-anchor=\"middle\" x=\"200.11\" y=\"-74.93\" font-family=\"Times,serif\" font-size=\"8.00\">1</text>\n</g>\n<!-- 13&#45;&#45;4 -->\n<g id=\"edge15\" class=\"edge\">\n<title>13--4</title>\n<path fill=\"none\" stroke=\"black\" d=\"M181.09,-56.99C180.46,-70.53 179.61,-88.92 178.98,-102.51\"/>\n<text text-anchor=\"middle\" x=\"178.03\" y=\"-73.35\" font-family=\"Times,serif\" font-size=\"8.00\">1</text>\n</g>\n<!-- 14 -->\n<g id=\"node15\" class=\"node\">\n<title>14</title>\n<polygon fill=\"none\" stroke=\"black\" points=\"79.27,-264.67 38.27,-264.67 38.27,-228.67 79.27,-228.67 79.27,-264.67\"/>\n<text text-anchor=\"middle\" x=\"58.77\" y=\"-243.88\" font-family=\"Times,serif\" font-size=\"10.99\">None</text>\n</g>\n<!-- 14&#45;&#45;7 -->\n<g id=\"edge16\" class=\"edge\">\n<title>14--7</title>\n<path fill=\"none\" stroke=\"black\" d=\"M79.53,-243.35C86.59,-242.23 94.8,-240.92 103.07,-239.6\"/>\n<text text-anchor=\"middle\" x=\"89.3\" y=\"-244.08\" font-family=\"Times,serif\" font-size=\"8.00\">1</text>\n</g>\n<!-- 14&#45;&#45;8 -->\n<g id=\"edge17\" class=\"edge\">\n<title>14--8</title>\n<path fill=\"none\" stroke=\"black\" d=\"M57.29,-228.63C56.08,-213.88 54.37,-193.12 53.15,-178.22\"/>\n<text text-anchor=\"middle\" x=\"53.22\" y=\"-206.02\" font-family=\"Times,serif\" font-size=\"8.00\">1</text>\n</g>\n<!-- 15 -->\n<g id=\"node16\" class=\"node\">\n<title>15</title>\n<polygon fill=\"lightyellow\" stroke=\"black\" points=\"125.04,-201.12 78.04,-201.12 78.04,-165.12 125.04,-165.12 125.04,-201.12\"/>\n<text text-anchor=\"middle\" x=\"101.54\" y=\"-179.79\" font-family=\"Times,serif\" font-size=\"14.17\">None</text>\n</g>\n<!-- 15&#45;&#45;4 -->\n<g id=\"edge20\" class=\"edge\">\n<title>15--4</title>\n<path fill=\"none\" stroke=\"black\" d=\"M124.11,-164.82C134.61,-156.3 147.02,-146.24 157.29,-137.9\"/>\n<text text-anchor=\"middle\" x=\"138.7\" y=\"-153.96\" font-family=\"Times,serif\" font-size=\"8.00\">2</text>\n</g>\n<!-- 15&#45;&#45;6 -->\n<g id=\"edge22\" class=\"edge\">\n<title>15--6</title>\n<path fill=\"none\" stroke=\"black\" d=\"M93.18,-164.92C86.93,-151.32 78.44,-132.83 72.19,-119.25\"/>\n<text text-anchor=\"middle\" x=\"80.69\" y=\"-135.68\" font-family=\"Times,serif\" font-size=\"8.00\">1</text>\n</g>\n<!-- 15&#45;&#45;8 -->\n<g id=\"edge19\" class=\"edge\">\n<title>15--8</title>\n<path fill=\"none\" stroke=\"black\" d=\"M78.04,-172.05C77.94,-172 77.84,-171.96 77.74,-171.91\"/>\n<text text-anchor=\"middle\" x=\"75.89\" y=\"-174.58\" font-family=\"Times,serif\" font-size=\"8.00\">2</text>\n</g>\n<!-- 15&#45;&#45;10 -->\n<g id=\"edge18\" class=\"edge\">\n<title>15--10</title>\n<path fill=\"none\" stroke=\"black\" d=\"M123.37,-201.15C136.42,-211.92 152.9,-225.52 165.72,-236.11\"/>\n<text text-anchor=\"middle\" x=\"142.55\" y=\"-212.23\" font-family=\"Times,serif\" font-size=\"8.00\">4</text>\n</g>\n<!-- 16 -->\n<g id=\"node17\" class=\"node\">\n<title>16</title>\n<ellipse fill=\"lightgrey\" stroke=\"black\" cx=\"156.53\" cy=\"-201.09\" rx=\"51.74\" ry=\"18.27\"/>\n<text text-anchor=\"middle\" x=\"156.53\" y=\"-203.69\" font-family=\"Times,serif\" font-size=\"8.00\">女郎花</text>\n<text text-anchor=\"middle\" x=\"156.53\" y=\"-194.69\" font-family=\"Times,serif\" font-size=\"8.00\">(KNK)</text>\n</g>\n<!-- 16&#45;&#45;15 -->\n<g id=\"edge21\" class=\"edge\">\n<title>16--15</title>\n<path fill=\"none\" stroke=\"black\" d=\"M118.34,-188.61C118.2,-188.56 118.05,-188.51 117.9,-188.47\"/>\n<text text-anchor=\"middle\" x=\"116.12\" y=\"-191.14\" font-family=\"Times,serif\" font-size=\"8.00\">1</text>\n</g>\n<!-- 17 -->\n<g id=\"node18\" class=\"node\">\n<title>17</title>\n<polygon fill=\"lightyellow\" stroke=\"black\" points=\"161.02,-314.94 115.02,-314.94 115.02,-278.94 161.02,-278.94 161.02,-314.94\"/>\n<text text-anchor=\"middle\" x=\"138.02\" y=\"-293.61\" font-family=\"Times,serif\" font-size=\"13.54\">None</text>\n</g>\n<!-- 17&#45;&#45;7 -->\n<g id=\"edge25\" class=\"edge\">\n<title>17--7</title>\n<path fill=\"none\" stroke=\"black\" d=\"M141.43,-278.87C143.09,-270.02 145.1,-259.39 146.77,-250.49\"/>\n<text text-anchor=\"middle\" x=\"142.1\" y=\"-267.28\" font-family=\"Times,serif\" font-size=\"8.00\">2</text>\n</g>\n<!-- 17&#45;&#45;10 -->\n<g id=\"edge23\" class=\"edge\">\n<title>17--10</title>\n<path fill=\"none\" stroke=\"black\" d=\"M157.94,-278.86C161.06,-276.03 164.27,-273.11 167.37,-270.3\"/>\n<text text-anchor=\"middle\" x=\"164.66\" y=\"-277.18\" font-family=\"Times,serif\" font-size=\"8.00\">4</text>\n</g>\n<!-- 17&#45;&#45;16 -->\n<g id=\"edge24\" class=\"edge\">\n<title>17--16</title>\n<path fill=\"none\" stroke=\"black\" d=\"M141.51,-278.91C144.77,-261.99 149.64,-236.79 152.94,-219.69\"/>\n<text text-anchor=\"middle\" x=\"145.22\" y=\"-251.9\" font-family=\"Times,serif\" font-size=\"8.00\">2</text>\n</g>\n<!-- 18 -->\n<g id=\"node19\" class=\"node\">\n<title>18</title>\n<polygon fill=\"lightyellow\" stroke=\"black\" points=\"258.01,-202.23 205.01,-202.23 205.01,-166.23 258.01,-166.23 258.01,-202.23\"/>\n<text text-anchor=\"middle\" x=\"231.51\" y=\"-180\" font-family=\"Times,serif\" font-size=\"17.17\">None</text>\n</g>\n<!-- 18&#45;&#45;0 -->\n<g id=\"edge30\" class=\"edge\">\n<title>18--0</title>\n<path fill=\"none\" stroke=\"black\" d=\"M229.38,-166.09C227.91,-153.63 225.97,-137.13 224.5,-124.58\"/>\n<text text-anchor=\"middle\" x=\"224.94\" y=\"-147.93\" font-family=\"Times,serif\" font-size=\"8.00\">1</text>\n</g>\n<!-- 18&#45;&#45;2 -->\n<g id=\"edge32\" class=\"edge\">\n<title>18--2</title>\n<path fill=\"none\" stroke=\"black\" d=\"M258.33,-185.25C261.93,-185.39 265.72,-185.53 269.57,-185.68\"/>\n<text text-anchor=\"middle\" x=\"261.95\" y=\"-188.06\" font-family=\"Times,serif\" font-size=\"8.00\">1</text>\n</g>\n<!-- 18&#45;&#45;4 -->\n<g id=\"edge31\" class=\"edge\">\n<title>18--4</title>\n<path fill=\"none\" stroke=\"black\" d=\"M216.07,-165.95C208.92,-157.48 200.46,-147.46 193.35,-139.03\"/>\n<text text-anchor=\"middle\" x=\"202.71\" y=\"-155.09\" font-family=\"Times,serif\" font-size=\"8.00\">1</text>\n</g>\n<!-- 18&#45;&#45;7 -->\n<g id=\"edge27\" class=\"edge\">\n<title>18--7</title>\n<path fill=\"none\" stroke=\"black\" d=\"M204.9,-199.9C196.01,-205.13 186.1,-210.96 177.19,-216.21\"/>\n<text text-anchor=\"middle\" x=\"189.05\" y=\"-201.65\" font-family=\"Times,serif\" font-size=\"8.00\">4</text>\n</g>\n<!-- 18&#45;&#45;10 -->\n<g id=\"edge28\" class=\"edge\">\n<title>18--10</title>\n<path fill=\"none\" stroke=\"black\" d=\"M219.63,-202.33C213.04,-212.38 204.87,-224.83 198.26,-234.9\"/>\n<text text-anchor=\"middle\" x=\"210.95\" y=\"-221.21\" font-family=\"Times,serif\" font-size=\"8.00\">4</text>\n</g>\n<!-- 18&#45;&#45;12 -->\n<g id=\"edge29\" class=\"edge\">\n<title>18--12</title>\n<path fill=\"none\" stroke=\"black\" d=\"M242.61,-202.4C249.83,-214.19 259.19,-229.5 266.38,-241.26\"/>\n<text text-anchor=\"middle\" x=\"256.5\" y=\"-224.43\" font-family=\"Times,serif\" font-size=\"8.00\">2</text>\n</g>\n<!-- 18&#45;&#45;16 -->\n<g id=\"edge26\" class=\"edge\">\n<title>18--16</title>\n<path fill=\"none\" stroke=\"black\" d=\"M204.87,-190.22C203.35,-190.56 201.81,-190.91 200.25,-191.26\"/>\n<text text-anchor=\"middle\" x=\"198.56\" y=\"-184.34\" font-family=\"Times,serif\" font-size=\"8.00\">11</text>\n</g>\n<!-- 19 -->\n<g id=\"node20\" class=\"node\">\n<title>19</title>\n<polygon fill=\"lightyellow\" stroke=\"black\" points=\"150.97,-123.25 105.97,-123.25 105.97,-87.25 150.97,-87.25 150.97,-123.25\"/>\n<text text-anchor=\"middle\" x=\"128.47\" y=\"-102\" font-family=\"Times,serif\" font-size=\"12.82\">None</text>\n</g>\n<!-- 19&#45;&#45;0 -->\n<g id=\"edge34\" class=\"edge\">\n<title>19--0</title>\n<path fill=\"none\" stroke=\"black\" d=\"M151.19,-105.43C157.16,-105.48 163.84,-105.53 170.66,-105.58\"/>\n<text text-anchor=\"middle\" x=\"158.93\" y=\"-99.11\" font-family=\"Times,serif\" font-size=\"8.00\">2</text>\n</g>\n<!-- 19&#45;&#45;6 -->\n<g id=\"edge35\" class=\"edge\">\n<title>19--6</title>\n<path fill=\"none\" stroke=\"black\" d=\"M105.87,-103.8C105.73,-103.79 105.58,-103.78 105.44,-103.77\"/>\n<text text-anchor=\"middle\" x=\"103.65\" y=\"-106.39\" font-family=\"Times,serif\" font-size=\"8.00\">1</text>\n</g>\n<!-- 19&#45;&#45;8 -->\n<g id=\"edge36\" class=\"edge\">\n<title>19--8</title>\n<path fill=\"none\" stroke=\"black\" d=\"M105.83,-121.27C96.09,-128.16 84.71,-136.2 74.9,-143.14\"/>\n<text text-anchor=\"middle\" x=\"88.37\" y=\"-134.8\" font-family=\"Times,serif\" font-size=\"8.00\">1</text>\n</g>\n<!-- 19&#45;&#45;16 -->\n<g id=\"edge33\" class=\"edge\">\n<title>19--16</title>\n<path fill=\"none\" stroke=\"black\" d=\"M133.75,-123.28C138.71,-140.2 146.08,-165.39 151.09,-182.49\"/>\n<text text-anchor=\"middle\" x=\"144.42\" y=\"-155.48\" font-family=\"Times,serif\" font-size=\"8.00\">2</text>\n</g>\n<!-- 20 -->\n<g id=\"node21\" class=\"node\">\n<title>20</title>\n<polygon fill=\"none\" stroke=\"black\" points=\"415.82,-234.88 376.82,-234.88 376.82,-198.88 415.82,-198.88 415.82,-234.88\"/>\n<text text-anchor=\"middle\" x=\"396.32\" y=\"-214.07\" font-family=\"Times,serif\" font-size=\"10.40\">None</text>\n</g>\n<!-- 20&#45;&#45;2 -->\n<g id=\"edge37\" class=\"edge\">\n<title>20--2</title>\n<path fill=\"none\" stroke=\"black\" d=\"M376.5,-209.19C370.22,-206.76 363.07,-203.98 356.04,-201.26\"/>\n<text text-anchor=\"middle\" x=\"364.27\" y=\"-207.83\" font-family=\"Times,serif\" font-size=\"8.00\">1</text>\n</g>\n</g>\n</svg>"
          },
          "metadata": {}
        }
      ]
    },
    {
      "cell_type": "markdown",
      "source": [
        "#### 3.2.3 | *Kiku*, en. chrysanthemum"
      ],
      "metadata": {
        "id": "p7kJ52X1dXZQ"
      }
    },
    {
      "cell_type": "code",
      "source": [
        "dot_viz_aggr(\"菊\")"
      ],
      "metadata": {
        "id": "yvm8B8gf-MkO",
        "colab": {
          "base_uri": "https://localhost:8080/",
          "height": 578
        },
        "outputId": "f0a6d039-750d-4118-f913-447756529987"
      },
      "execution_count": 17,
      "outputs": [
        {
          "output_type": "display_data",
          "data": {
            "text/plain": [
              "<IPython.core.display.SVG object>"
            ],
            "image/svg+xml": "<svg xmlns=\"http://www.w3.org/2000/svg\" xmlns:xlink=\"http://www.w3.org/1999/xlink\" width=\"378pt\" height=\"417pt\" viewBox=\"0.00 0.00 377.62 417.36\">\n<g id=\"graph0\" class=\"graph\" transform=\"scale(1 1) rotate(0) translate(4 413.36)\">\n<title>%3</title>\n<polygon fill=\"white\" stroke=\"transparent\" points=\"-4,4 -4,-413.36 373.62,-413.36 373.62,4 -4,4\"/>\n<!-- 0 -->\n<g id=\"node1\" class=\"node\">\n<title>0</title>\n<ellipse fill=\"lightgrey\" stroke=\"black\" cx=\"108.59\" cy=\"-181.05\" rx=\"28.98\" ry=\"18.27\"/>\n<text text-anchor=\"middle\" x=\"108.59\" y=\"-183.65\" font-family=\"Times,serif\" font-size=\"8.00\">菊</text>\n<text text-anchor=\"middle\" x=\"108.59\" y=\"-174.65\" font-family=\"Times,serif\" font-size=\"8.00\">(OZW)</text>\n</g>\n<!-- 1 -->\n<g id=\"node2\" class=\"node\">\n<title>1</title>\n<polygon fill=\"none\" stroke=\"black\" points=\"78.29,-117.61 39.29,-117.61 39.29,-81.61 78.29,-81.61 78.29,-117.61\"/>\n<text text-anchor=\"middle\" x=\"58.79\" y=\"-96.8\" font-family=\"Times,serif\" font-size=\"10.40\">None</text>\n</g>\n<!-- 1&#45;&#45;0 -->\n<g id=\"edge1\" class=\"edge\">\n<title>1--0</title>\n<path fill=\"none\" stroke=\"black\" d=\"M69.85,-117.69C78.27,-131.46 89.79,-150.31 98.08,-163.86\"/>\n<text text-anchor=\"middle\" x=\"85.96\" y=\"-143.38\" font-family=\"Times,serif\" font-size=\"8.00\">1</text>\n</g>\n<!-- 2 -->\n<g id=\"node3\" class=\"node\">\n<title>2</title>\n<ellipse fill=\"lightgrey\" stroke=\"black\" cx=\"260.46\" cy=\"-177.45\" rx=\"28.98\" ry=\"18.27\"/>\n<text text-anchor=\"middle\" x=\"260.46\" y=\"-180.05\" font-family=\"Times,serif\" font-size=\"8.00\">菊</text>\n<text text-anchor=\"middle\" x=\"260.46\" y=\"-171.05\" font-family=\"Times,serif\" font-size=\"8.00\">(MTD)</text>\n</g>\n<!-- 3 -->\n<g id=\"node4\" class=\"node\">\n<title>3</title>\n<polygon fill=\"none\" stroke=\"black\" points=\"369.62,-224.27 330.62,-224.27 330.62,-188.27 369.62,-188.27 369.62,-224.27\"/>\n<text text-anchor=\"middle\" x=\"350.12\" y=\"-203.45\" font-family=\"Times,serif\" font-size=\"10.40\">None</text>\n</g>\n<!-- 3&#45;&#45;2 -->\n<g id=\"edge2\" class=\"edge\">\n<title>3--2</title>\n<path fill=\"none\" stroke=\"black\" d=\"M330.22,-199.87C317.32,-195.73 300.39,-190.29 286.44,-185.8\"/>\n<text text-anchor=\"middle\" x=\"306.33\" y=\"-195.44\" font-family=\"Times,serif\" font-size=\"8.00\">1</text>\n</g>\n<!-- 4 -->\n<g id=\"node5\" class=\"node\">\n<title>4</title>\n<polygon fill=\"none\" stroke=\"black\" points=\"368.01,-170.76 329.01,-170.76 329.01,-134.76 368.01,-134.76 368.01,-170.76\"/>\n<text text-anchor=\"middle\" x=\"348.51\" y=\"-149.95\" font-family=\"Times,serif\" font-size=\"10.40\">None</text>\n</g>\n<!-- 4&#45;&#45;2 -->\n<g id=\"edge3\" class=\"edge\">\n<title>4--2</title>\n<path fill=\"none\" stroke=\"black\" d=\"M328.97,-158.24C316.71,-161.68 300.73,-166.16 287.29,-169.93\"/>\n<text text-anchor=\"middle\" x=\"306.13\" y=\"-166.69\" font-family=\"Times,serif\" font-size=\"8.00\">1</text>\n</g>\n<!-- 5 -->\n<g id=\"node6\" class=\"node\">\n<title>5</title>\n<polygon fill=\"none\" stroke=\"black\" points=\"39,-180.03 0,-180.03 0,-144.03 39,-144.03 39,-180.03\"/>\n<text text-anchor=\"middle\" x=\"19.5\" y=\"-159.21\" font-family=\"Times,serif\" font-size=\"10.40\">None</text>\n</g>\n<!-- 5&#45;&#45;0 -->\n<g id=\"edge4\" class=\"edge\">\n<title>5--0</title>\n<path fill=\"none\" stroke=\"black\" d=\"M39.27,-166.25C51.58,-168.88 67.58,-172.29 81.1,-175.18\"/>\n<text text-anchor=\"middle\" x=\"58.19\" y=\"-173.32\" font-family=\"Times,serif\" font-size=\"8.00\">1</text>\n</g>\n<!-- 6 -->\n<g id=\"node7\" class=\"node\">\n<title>6</title>\n<ellipse fill=\"lightgrey\" stroke=\"black\" cx=\"128.18\" cy=\"-109.46\" rx=\"28.98\" ry=\"18.27\"/>\n<text text-anchor=\"middle\" x=\"128.18\" y=\"-112.06\" font-family=\"Times,serif\" font-size=\"8.00\">菊</text>\n<text text-anchor=\"middle\" x=\"128.18\" y=\"-103.06\" font-family=\"Times,serif\" font-size=\"8.00\">(K&amp;A)</text>\n</g>\n<!-- 7 -->\n<g id=\"node8\" class=\"node\">\n<title>7</title>\n<polygon fill=\"none\" stroke=\"black\" points=\"132.11,-36 93.11,-36 93.11,0 132.11,0 132.11,-36\"/>\n<text text-anchor=\"middle\" x=\"112.61\" y=\"-15.18\" font-family=\"Times,serif\" font-size=\"10.40\">None</text>\n</g>\n<!-- 7&#45;&#45;6 -->\n<g id=\"edge5\" class=\"edge\">\n<title>7--6</title>\n<path fill=\"none\" stroke=\"black\" d=\"M115.69,-36.07C118.4,-52 122.33,-75.1 125.06,-91.11\"/>\n<text text-anchor=\"middle\" x=\"118.37\" y=\"-66.19\" font-family=\"Times,serif\" font-size=\"8.00\">1</text>\n</g>\n<!-- 8 -->\n<g id=\"node9\" class=\"node\">\n<title>8</title>\n<polygon fill=\"none\" stroke=\"black\" points=\"205.59,-127.96 164.59,-127.96 164.59,-91.96 205.59,-91.96 205.59,-127.96\"/>\n<text text-anchor=\"middle\" x=\"185.09\" y=\"-107.17\" font-family=\"Times,serif\" font-size=\"10.99\">None</text>\n</g>\n<!-- 8&#45;&#45;0 -->\n<g id=\"edge7\" class=\"edge\">\n<title>8--0</title>\n<path fill=\"none\" stroke=\"black\" d=\"M165.39,-128.27C152.9,-139.87 136.94,-154.7 125.12,-165.69\"/>\n<text text-anchor=\"middle\" x=\"143.25\" y=\"-149.58\" font-family=\"Times,serif\" font-size=\"8.00\">1</text>\n</g>\n<!-- 8&#45;&#45;2 -->\n<g id=\"edge6\" class=\"edge\">\n<title>8--2</title>\n<path fill=\"none\" stroke=\"black\" d=\"M205.29,-128.05C217.15,-138.67 231.98,-151.95 243.28,-162.06\"/>\n<text text-anchor=\"middle\" x=\"222.28\" y=\"-138.66\" font-family=\"Times,serif\" font-size=\"8.00\">1</text>\n</g>\n<!-- 9 -->\n<g id=\"node10\" class=\"node\">\n<title>9</title>\n<ellipse fill=\"lightgrey\" stroke=\"black\" cx=\"219.61\" cy=\"-160.24\" rx=\"28.98\" ry=\"18.27\"/>\n<text text-anchor=\"middle\" x=\"219.61\" y=\"-162.84\" font-family=\"Times,serif\" font-size=\"8.00\">菊</text>\n<text text-anchor=\"middle\" x=\"219.61\" y=\"-153.84\" font-family=\"Times,serif\" font-size=\"8.00\">(KNK)</text>\n</g>\n<!-- 10 -->\n<g id=\"node11\" class=\"node\">\n<title>10</title>\n<polygon fill=\"none\" stroke=\"black\" points=\"335.73,-155.41 294.73,-155.41 294.73,-119.41 335.73,-119.41 335.73,-155.41\"/>\n<text text-anchor=\"middle\" x=\"315.23\" y=\"-134.62\" font-family=\"Times,serif\" font-size=\"10.99\">None</text>\n</g>\n<!-- 10&#45;&#45;9 -->\n<g id=\"edge8\" class=\"edge\">\n<title>10--9</title>\n<path fill=\"none\" stroke=\"black\" d=\"M294.48,-142.36C280.53,-145.7 261.99,-150.12 246.85,-153.74\"/>\n<text text-anchor=\"middle\" x=\"268.67\" y=\"-150.65\" font-family=\"Times,serif\" font-size=\"8.00\">2</text>\n</g>\n<!-- 11 -->\n<g id=\"node12\" class=\"node\">\n<title>11</title>\n<ellipse fill=\"lightgrey\" stroke=\"black\" cx=\"136.73\" cy=\"-304.72\" rx=\"31.64\" ry=\"18.27\"/>\n<text text-anchor=\"middle\" x=\"136.73\" y=\"-307.32\" font-family=\"Times,serif\" font-size=\"8.00\">菊</text>\n<text text-anchor=\"middle\" x=\"136.73\" y=\"-298.32\" font-family=\"Times,serif\" font-size=\"8.00\">(KTGR)</text>\n</g>\n<!-- 12 -->\n<g id=\"node13\" class=\"node\">\n<title>12</title>\n<polygon fill=\"none\" stroke=\"black\" points=\"157.87,-409.36 118.87,-409.36 118.87,-373.36 157.87,-373.36 157.87,-409.36\"/>\n<text text-anchor=\"middle\" x=\"138.37\" y=\"-388.54\" font-family=\"Times,serif\" font-size=\"10.40\">None</text>\n</g>\n<!-- 12&#45;&#45;11 -->\n<g id=\"edge9\" class=\"edge\">\n<title>12--11</title>\n<path fill=\"none\" stroke=\"black\" d=\"M138.02,-372.99C137.74,-358.38 137.36,-338.04 137.08,-323.37\"/>\n<text text-anchor=\"middle\" x=\"135.55\" y=\"-350.78\" font-family=\"Times,serif\" font-size=\"8.00\">1</text>\n</g>\n<!-- 13 -->\n<g id=\"node14\" class=\"node\">\n<title>13</title>\n<polygon fill=\"none\" stroke=\"black\" points=\"183.54,-149.46 141.54,-149.46 141.54,-113.46 183.54,-113.46 183.54,-149.46\"/>\n<text text-anchor=\"middle\" x=\"162.54\" y=\"-128.75\" font-family=\"Times,serif\" font-size=\"11.51\">None</text>\n</g>\n<!-- 13&#45;&#45;0 -->\n<g id=\"edge12\" class=\"edge\">\n<title>13--0</title>\n<path fill=\"none\" stroke=\"black\" d=\"M142.75,-149.64C136.98,-154.95 130.73,-160.69 125.18,-165.8\"/>\n<text text-anchor=\"middle\" x=\"131.97\" y=\"-151.32\" font-family=\"Times,serif\" font-size=\"8.00\">1</text>\n</g>\n<!-- 13&#45;&#45;9 -->\n<g id=\"edge10\" class=\"edge\">\n<title>13--9</title>\n<path fill=\"none\" stroke=\"black\" d=\"M183.79,-142.18C187.97,-144.29 192.38,-146.51 196.61,-148.65\"/>\n<text text-anchor=\"middle\" x=\"188.2\" y=\"-148.01\" font-family=\"Times,serif\" font-size=\"8.00\">1</text>\n</g>\n<!-- 14 -->\n<g id=\"node15\" class=\"node\">\n<title>14</title>\n<ellipse fill=\"lightgrey\" stroke=\"black\" cx=\"238.15\" cy=\"-211.55\" rx=\"25.41\" ry=\"18.27\"/>\n<text text-anchor=\"middle\" x=\"238.15\" y=\"-214.15\" font-family=\"Times,serif\" font-size=\"8.00\">菊</text>\n<text text-anchor=\"middle\" x=\"238.15\" y=\"-205.15\" font-family=\"Times,serif\" font-size=\"8.00\">(KSJ)</text>\n</g>\n<!-- 14&#45;&#45;13 -->\n<g id=\"edge11\" class=\"edge\">\n<title>14--13</title>\n<path fill=\"none\" stroke=\"black\" d=\"M223.57,-196.11C211.04,-182.84 192.95,-163.67 179.72,-149.66\"/>\n<text text-anchor=\"middle\" x=\"199.65\" y=\"-175.48\" font-family=\"Times,serif\" font-size=\"8.00\">1</text>\n</g>\n<!-- 15 -->\n<g id=\"node16\" class=\"node\">\n<title>15</title>\n<ellipse fill=\"lightgrey\" stroke=\"black\" cx=\"212.77\" cy=\"-296.22\" rx=\"27.65\" ry=\"18.27\"/>\n<text text-anchor=\"middle\" x=\"212.77\" y=\"-298.82\" font-family=\"Times,serif\" font-size=\"8.00\">菊</text>\n<text text-anchor=\"middle\" x=\"212.77\" y=\"-289.82\" font-family=\"Times,serif\" font-size=\"8.00\">(KBT)</text>\n</g>\n<!-- 16 -->\n<g id=\"node17\" class=\"node\">\n<title>16</title>\n<polygon fill=\"none\" stroke=\"black\" points=\"321.62,-269.83 279.62,-269.83 279.62,-233.83 321.62,-233.83 321.62,-269.83\"/>\n<text text-anchor=\"middle\" x=\"300.62\" y=\"-249.12\" font-family=\"Times,serif\" font-size=\"11.51\">None</text>\n</g>\n<!-- 16&#45;&#45;2 -->\n<g id=\"edge15\" class=\"edge\">\n<title>16--2</title>\n<path fill=\"none\" stroke=\"black\" d=\"M290.9,-233.83C284.54,-222.05 276.27,-206.73 269.96,-195.03\"/>\n<text text-anchor=\"middle\" x=\"278.43\" y=\"-217.03\" font-family=\"Times,serif\" font-size=\"8.00\">1</text>\n</g>\n<!-- 16&#45;&#45;14 -->\n<g id=\"edge14\" class=\"edge\">\n<title>16--14</title>\n<path fill=\"none\" stroke=\"black\" d=\"M279.47,-238.2C272.25,-233.54 264.23,-228.36 257.18,-223.82\"/>\n<text text-anchor=\"middle\" x=\"266.33\" y=\"-233.61\" font-family=\"Times,serif\" font-size=\"8.00\">1</text>\n</g>\n<!-- 16&#45;&#45;15 -->\n<g id=\"edge13\" class=\"edge\">\n<title>16--15</title>\n<path fill=\"none\" stroke=\"black\" d=\"M279.36,-262.58C265.85,-269.4 248.4,-278.21 234.76,-285.11\"/>\n<text text-anchor=\"middle\" x=\"259.06\" y=\"-276.44\" font-family=\"Times,serif\" font-size=\"8.00\">1</text>\n</g>\n<!-- 17 -->\n<g id=\"node18\" class=\"node\">\n<title>17</title>\n<polygon fill=\"none\" stroke=\"black\" points=\"280.1,-106.68 239.1,-106.68 239.1,-70.68 280.1,-70.68 280.1,-106.68\"/>\n<text text-anchor=\"middle\" x=\"259.6\" y=\"-85.89\" font-family=\"Times,serif\" font-size=\"10.99\">None</text>\n</g>\n<!-- 17&#45;&#45;2 -->\n<g id=\"edge17\" class=\"edge\">\n<title>17--2</title>\n<path fill=\"none\" stroke=\"black\" d=\"M259.78,-107.07C259.93,-122.21 260.13,-143.56 260.28,-158.78\"/>\n<text text-anchor=\"middle\" x=\"258.03\" y=\"-135.52\" font-family=\"Times,serif\" font-size=\"8.00\">1</text>\n</g>\n<!-- 17&#45;&#45;9 -->\n<g id=\"edge16\" class=\"edge\">\n<title>17--9</title>\n<path fill=\"none\" stroke=\"black\" d=\"M249.51,-106.74C243.4,-117.67 235.64,-131.55 229.56,-142.44\"/>\n<text text-anchor=\"middle\" x=\"237.53\" y=\"-127.19\" font-family=\"Times,serif\" font-size=\"8.00\">1</text>\n</g>\n<!-- 18 -->\n<g id=\"node19\" class=\"node\">\n<title>18</title>\n<polygon fill=\"none\" stroke=\"black\" points=\"257.68,-400.49 218.68,-400.49 218.68,-364.49 257.68,-364.49 257.68,-400.49\"/>\n<text text-anchor=\"middle\" x=\"238.18\" y=\"-379.67\" font-family=\"Times,serif\" font-size=\"10.40\">None</text>\n</g>\n<!-- 18&#45;&#45;15 -->\n<g id=\"edge18\" class=\"edge\">\n<title>18--15</title>\n<path fill=\"none\" stroke=\"black\" d=\"M232.79,-364.19C228.48,-349.55 222.46,-329.12 218.15,-314.49\"/>\n<text text-anchor=\"middle\" x=\"223.47\" y=\"-341.94\" font-family=\"Times,serif\" font-size=\"8.00\">1</text>\n</g>\n<!-- 19 -->\n<g id=\"node20\" class=\"node\">\n<title>19</title>\n<polygon fill=\"none\" stroke=\"black\" points=\"93.49,-381.74 54.49,-381.74 54.49,-345.74 93.49,-345.74 93.49,-381.74\"/>\n<text text-anchor=\"middle\" x=\"73.99\" y=\"-360.92\" font-family=\"Times,serif\" font-size=\"10.40\">None</text>\n</g>\n<!-- 19&#45;&#45;11 -->\n<g id=\"edge19\" class=\"edge\">\n<title>19--11</title>\n<path fill=\"none\" stroke=\"black\" d=\"M93.16,-345.71C101.66,-337.71 111.58,-328.38 119.81,-320.64\"/>\n<text text-anchor=\"middle\" x=\"104.48\" y=\"-335.77\" font-family=\"Times,serif\" font-size=\"8.00\">1</text>\n</g>\n<!-- 20 -->\n<g id=\"node21\" class=\"node\">\n<title>20</title>\n<polygon fill=\"none\" stroke=\"black\" points=\"307.17,-124.72 265.17,-124.72 265.17,-88.72 307.17,-88.72 307.17,-124.72\"/>\n<text text-anchor=\"middle\" x=\"286.17\" y=\"-104.01\" font-family=\"Times,serif\" font-size=\"11.51\">None</text>\n</g>\n<!-- 20&#45;&#45;2 -->\n<g id=\"edge20\" class=\"edge\">\n<title>20--2</title>\n<path fill=\"none\" stroke=\"black\" d=\"M279.55,-124.94C275.74,-135.41 270.97,-148.54 267.15,-159.05\"/>\n<text text-anchor=\"middle\" x=\"271.35\" y=\"-135.59\" font-family=\"Times,serif\" font-size=\"8.00\">2</text>\n</g>\n<!-- 20&#45;&#45;9 -->\n<g id=\"edge21\" class=\"edge\">\n<title>20--9</title>\n<path fill=\"none\" stroke=\"black\" d=\"M265.11,-123.66C256.27,-130.76 246.1,-138.94 237.62,-145.76\"/>\n<text text-anchor=\"middle\" x=\"249.37\" y=\"-128.31\" font-family=\"Times,serif\" font-size=\"8.00\">1</text>\n</g>\n<!-- 21 -->\n<g id=\"node22\" class=\"node\">\n<title>21</title>\n<ellipse fill=\"lightgrey\" stroke=\"black\" cx=\"96.59\" cy=\"-222.99\" rx=\"33.47\" ry=\"18.27\"/>\n<text text-anchor=\"middle\" x=\"96.59\" y=\"-225.59\" font-family=\"Times,serif\" font-size=\"8.00\">菊</text>\n<text text-anchor=\"middle\" x=\"96.59\" y=\"-216.59\" font-family=\"Times,serif\" font-size=\"8.00\">(KMCY)</text>\n</g>\n<!-- 22 -->\n<g id=\"node23\" class=\"node\">\n<title>22</title>\n<polygon fill=\"none\" stroke=\"black\" points=\"59.41,-266.51 18.41,-266.51 18.41,-230.51 59.41,-230.51 59.41,-266.51\"/>\n<text text-anchor=\"middle\" x=\"38.91\" y=\"-245.72\" font-family=\"Times,serif\" font-size=\"10.99\">None</text>\n</g>\n<!-- 22&#45;&#45;0 -->\n<g id=\"edge23\" class=\"edge\">\n<title>22--0</title>\n<path fill=\"none\" stroke=\"black\" d=\"M57.58,-230.43C68.54,-219.82 82.25,-206.54 92.7,-196.43\"/>\n<text text-anchor=\"middle\" x=\"73.14\" y=\"-216.03\" font-family=\"Times,serif\" font-size=\"8.00\">1</text>\n</g>\n<!-- 22&#45;&#45;21 -->\n<g id=\"edge22\" class=\"edge\">\n<title>22--21</title>\n<path fill=\"none\" stroke=\"black\" d=\"M59.73,-239.29C63.21,-237.75 66.87,-236.14 70.47,-234.54\"/>\n<text text-anchor=\"middle\" x=\"63.1\" y=\"-239.52\" font-family=\"Times,serif\" font-size=\"8.00\">1</text>\n</g>\n<!-- 23 -->\n<g id=\"node24\" class=\"node\">\n<title>23</title>\n<polygon fill=\"lightyellow\" stroke=\"black\" points=\"211.01,-225.52 165.01,-225.52 165.01,-189.52 211.01,-189.52 211.01,-225.52\"/>\n<text text-anchor=\"middle\" x=\"188.01\" y=\"-203.93\" font-family=\"Times,serif\" font-size=\"13.86\">None</text>\n</g>\n<!-- 23&#45;&#45;0 -->\n<g id=\"edge30\" class=\"edge\">\n<title>23--0</title>\n<path fill=\"none\" stroke=\"black\" d=\"M164.61,-199.72C155.09,-196.55 144.06,-192.87 134.32,-189.63\"/>\n<text text-anchor=\"middle\" x=\"147.47\" y=\"-188.27\" font-family=\"Times,serif\" font-size=\"8.00\">1</text>\n</g>\n<!-- 23&#45;&#45;2 -->\n<g id=\"edge28\" class=\"edge\">\n<title>23--2</title>\n<path fill=\"none\" stroke=\"black\" d=\"M211.34,-197.84C219.28,-194.54 228.17,-190.85 236.19,-187.53\"/>\n<text text-anchor=\"middle\" x=\"221.76\" y=\"-186.28\" font-family=\"Times,serif\" font-size=\"8.00\">1</text>\n</g>\n<!-- 23&#45;&#45;9 -->\n<g id=\"edge26\" class=\"edge\">\n<title>23--9</title>\n<path fill=\"none\" stroke=\"black\" d=\"M200.14,-189.38C202.78,-185.42 205.57,-181.24 208.19,-177.33\"/>\n<text text-anchor=\"middle\" x=\"202.16\" y=\"-185.95\" font-family=\"Times,serif\" font-size=\"8.00\">1</text>\n</g>\n<!-- 23&#45;&#45;14 -->\n<g id=\"edge27\" class=\"edge\">\n<title>23--14</title>\n<path fill=\"none\" stroke=\"black\" d=\"M211.03,-209.37C211.54,-209.41 212.06,-209.45 212.58,-209.49\"/>\n<text text-anchor=\"middle\" x=\"213.8\" y=\"-212.03\" font-family=\"Times,serif\" font-size=\"8.00\">1</text>\n</g>\n<!-- 23&#45;&#45;15 -->\n<g id=\"edge25\" class=\"edge\">\n<title>23--15</title>\n<path fill=\"none\" stroke=\"black\" d=\"M193.14,-225.9C197.39,-241.12 203.4,-262.65 207.65,-277.86\"/>\n<text text-anchor=\"middle\" x=\"198.39\" y=\"-245.48\" font-family=\"Times,serif\" font-size=\"8.00\">2</text>\n</g>\n<!-- 23&#45;&#45;21 -->\n<g id=\"edge24\" class=\"edge\">\n<title>23--21</title>\n<path fill=\"none\" stroke=\"black\" d=\"M164.94,-211.42C153.94,-213.28 140.59,-215.54 128.63,-217.57\"/>\n<text text-anchor=\"middle\" x=\"144.78\" y=\"-208.1\" font-family=\"Times,serif\" font-size=\"8.00\">2</text>\n</g>\n<!-- 24 -->\n<g id=\"node25\" class=\"node\">\n<title>24</title>\n<ellipse fill=\"lightgrey\" stroke=\"black\" cx=\"227.2\" cy=\"-272.74\" rx=\"33.47\" ry=\"18.27\"/>\n<text text-anchor=\"middle\" x=\"227.2\" y=\"-275.34\" font-family=\"Times,serif\" font-size=\"8.00\">菊</text>\n<text text-anchor=\"middle\" x=\"227.2\" y=\"-266.34\" font-family=\"Times,serif\" font-size=\"8.00\">(OKMR)</text>\n</g>\n<!-- 24&#45;&#45;23 -->\n<g id=\"edge29\" class=\"edge\">\n<title>24--23</title>\n<path fill=\"none\" stroke=\"black\" d=\"M216.7,-255.26C211.26,-246.21 204.62,-235.15 199.09,-225.96\"/>\n<text text-anchor=\"middle\" x=\"205.9\" y=\"-243.21\" font-family=\"Times,serif\" font-size=\"8.00\">1</text>\n</g>\n<!-- 25 -->\n<g id=\"node26\" class=\"node\">\n<title>25</title>\n<polygon fill=\"none\" stroke=\"black\" points=\"148.12,-252.32 106.12,-252.32 106.12,-216.32 148.12,-216.32 148.12,-252.32\"/>\n<text text-anchor=\"middle\" x=\"127.12\" y=\"-231.61\" font-family=\"Times,serif\" font-size=\"11.51\">None</text>\n</g>\n<!-- 25&#45;&#45;0 -->\n<g id=\"edge33\" class=\"edge\">\n<title>25--0</title>\n<path fill=\"none\" stroke=\"black\" d=\"M120.85,-216.29C118.92,-210.73 116.79,-204.62 114.86,-199.07\"/>\n<text text-anchor=\"middle\" x=\"115.85\" y=\"-201.28\" font-family=\"Times,serif\" font-size=\"8.00\">1</text>\n</g>\n<!-- 25&#45;&#45;9 -->\n<g id=\"edge31\" class=\"edge\">\n<title>25--9</title>\n<path fill=\"none\" stroke=\"black\" d=\"M148.57,-217.14C164.58,-204.32 186.22,-186.99 201.39,-174.83\"/>\n<text text-anchor=\"middle\" x=\"172.98\" y=\"-189.59\" font-family=\"Times,serif\" font-size=\"8.00\">1</text>\n</g>\n<!-- 25&#45;&#45;11 -->\n<g id=\"edge32\" class=\"edge\">\n<title>25--11</title>\n<path fill=\"none\" stroke=\"black\" d=\"M129.6,-252.45C131,-262.72 132.75,-275.54 134.16,-285.92\"/>\n<text text-anchor=\"middle\" x=\"129.88\" y=\"-271.78\" font-family=\"Times,serif\" font-size=\"8.00\">1</text>\n</g>\n<!-- 26 -->\n<g id=\"node27\" class=\"node\">\n<title>26</title>\n<polygon fill=\"lightyellow\" stroke=\"black\" points=\"195,-231.18 145,-231.18 145,-195.18 195,-195.18 195,-231.18\"/>\n<text text-anchor=\"middle\" x=\"170\" y=\"-209.5\" font-family=\"Times,serif\" font-size=\"15.22\">None</text>\n</g>\n<!-- 26&#45;&#45;0 -->\n<g id=\"edge42\" class=\"edge\">\n<title>26--0</title>\n<path fill=\"none\" stroke=\"black\" d=\"M144.67,-199.92C140.17,-197.57 135.52,-195.14 131.11,-192.83\"/>\n<text text-anchor=\"middle\" x=\"139.89\" y=\"-198.98\" font-family=\"Times,serif\" font-size=\"8.00\">1</text>\n</g>\n<!-- 26&#45;&#45;2 -->\n<g id=\"edge34\" class=\"edge\">\n<title>26--2</title>\n<path fill=\"none\" stroke=\"black\" d=\"M195.2,-203.23C207.85,-198.23 223.12,-192.2 235.71,-187.23\"/>\n<text text-anchor=\"middle\" x=\"213.45\" y=\"-188.83\" font-family=\"Times,serif\" font-size=\"8.00\">3</text>\n</g>\n<!-- 26&#45;&#45;6 -->\n<g id=\"edge36\" class=\"edge\">\n<title>26--6</title>\n<path fill=\"none\" stroke=\"black\" d=\"M162.72,-195.11C155.04,-176.07 143.03,-146.28 135.38,-127.32\"/>\n<text text-anchor=\"middle\" x=\"147.05\" y=\"-163.81\" font-family=\"Times,serif\" font-size=\"8.00\">2</text>\n</g>\n<!-- 26&#45;&#45;9 -->\n<g id=\"edge35\" class=\"edge\">\n<title>26--9</title>\n<path fill=\"none\" stroke=\"black\" d=\"M187.07,-194.96C192.79,-188.86 199.11,-182.11 204.66,-176.19\"/>\n<text text-anchor=\"middle\" x=\"193.86\" y=\"-179.18\" font-family=\"Times,serif\" font-size=\"8.00\">2</text>\n</g>\n<!-- 26&#45;&#45;11 -->\n<g id=\"edge38\" class=\"edge\">\n<title>26--11</title>\n<path fill=\"none\" stroke=\"black\" d=\"M163.43,-231.26C157.59,-247.31 149.11,-270.63 143.29,-286.67\"/>\n<text text-anchor=\"middle\" x=\"151.36\" y=\"-261.57\" font-family=\"Times,serif\" font-size=\"8.00\">1</text>\n</g>\n<!-- 26&#45;&#45;14 -->\n<g id=\"edge40\" class=\"edge\">\n<title>26--14</title>\n<path fill=\"none\" stroke=\"black\" d=\"M195.38,-212.57C200.98,-212.44 206.92,-212.3 212.53,-212.16\"/>\n<text text-anchor=\"middle\" x=\"201.95\" y=\"-214.97\" font-family=\"Times,serif\" font-size=\"8.00\">1</text>\n</g>\n<!-- 26&#45;&#45;15 -->\n<g id=\"edge37\" class=\"edge\">\n<title>26--15</title>\n<path fill=\"none\" stroke=\"black\" d=\"M179.28,-231.2C186.55,-245.32 196.61,-264.84 203.8,-278.8\"/>\n<text text-anchor=\"middle\" x=\"189.54\" y=\"-257.6\" font-family=\"Times,serif\" font-size=\"8.00\">2</text>\n</g>\n<!-- 26&#45;&#45;21 -->\n<g id=\"edge39\" class=\"edge\">\n<title>26--21</title>\n<path fill=\"none\" stroke=\"black\" d=\"M144.73,-216.55C139.67,-217.23 134.29,-217.95 129.03,-218.65\"/>\n<text text-anchor=\"middle\" x=\"134.88\" y=\"-211.2\" font-family=\"Times,serif\" font-size=\"8.00\">1</text>\n</g>\n<!-- 26&#45;&#45;24 -->\n<g id=\"edge41\" class=\"edge\">\n<title>26--24</title>\n<path fill=\"none\" stroke=\"black\" d=\"M187.47,-231.37C195.1,-239.31 203.97,-248.55 211.39,-256.28\"/>\n<text text-anchor=\"middle\" x=\"197.43\" y=\"-246.42\" font-family=\"Times,serif\" font-size=\"8.00\">1</text>\n</g>\n<!-- 27 -->\n<g id=\"node28\" class=\"node\">\n<title>27</title>\n<polygon fill=\"none\" stroke=\"black\" points=\"39,-226.9 0,-226.9 0,-190.9 39,-190.9 39,-226.9\"/>\n<text text-anchor=\"middle\" x=\"19.5\" y=\"-206.09\" font-family=\"Times,serif\" font-size=\"10.40\">None</text>\n</g>\n<!-- 27&#45;&#45;0 -->\n<g id=\"edge43\" class=\"edge\">\n<title>27--0</title>\n<path fill=\"none\" stroke=\"black\" d=\"M39.27,-202.72C51.98,-198.75 68.64,-193.54 82.45,-189.22\"/>\n<text text-anchor=\"middle\" x=\"58.86\" y=\"-198.57\" font-family=\"Times,serif\" font-size=\"8.00\">1</text>\n</g>\n<!-- 28 -->\n<g id=\"node29\" class=\"node\">\n<title>28</title>\n<polygon fill=\"none\" stroke=\"black\" points=\"81.7,-157.55 38.7,-157.55 38.7,-121.55 81.7,-121.55 81.7,-157.55\"/>\n<text text-anchor=\"middle\" x=\"60.2\" y=\"-136.46\" font-family=\"Times,serif\" font-size=\"11.99\">None</text>\n</g>\n<!-- 28&#45;&#45;0 -->\n<g id=\"edge44\" class=\"edge\">\n<title>28--0</title>\n<path fill=\"none\" stroke=\"black\" d=\"M81.28,-157.63C84.64,-160.52 88.09,-163.47 91.35,-166.26\"/>\n<text text-anchor=\"middle\" x=\"84.31\" y=\"-155.55\" font-family=\"Times,serif\" font-size=\"8.00\">2</text>\n</g>\n<!-- 28&#45;&#45;6 -->\n<g id=\"edge45\" class=\"edge\">\n<title>28--6</title>\n<path fill=\"none\" stroke=\"black\" d=\"M81.71,-130.03C88.87,-126.86 96.88,-123.31 104.21,-120.07\"/>\n<text text-anchor=\"middle\" x=\"90.96\" y=\"-127.65\" font-family=\"Times,serif\" font-size=\"8.00\">1</text>\n</g>\n<!-- 28&#45;&#45;21 -->\n<g id=\"edge46\" class=\"edge\">\n<title>28--21</title>\n<path fill=\"none\" stroke=\"black\" d=\"M68.09,-157.66C74.2,-171.65 82.61,-190.93 88.71,-204.92\"/>\n<text text-anchor=\"middle\" x=\"76.4\" y=\"-183.89\" font-family=\"Times,serif\" font-size=\"8.00\">1</text>\n</g>\n<!-- 29 -->\n<g id=\"node30\" class=\"node\">\n<title>29</title>\n<polygon fill=\"lightyellow\" stroke=\"black\" points=\"217.52,-261.49 168.52,-261.49 168.52,-225.49 217.52,-225.49 217.52,-261.49\"/>\n<text text-anchor=\"middle\" x=\"193.02\" y=\"-239.51\" font-family=\"Times,serif\" font-size=\"14.98\">None</text>\n</g>\n<!-- 29&#45;&#45;0 -->\n<g id=\"edge48\" class=\"edge\">\n<title>29--0</title>\n<path fill=\"none\" stroke=\"black\" d=\"M168.6,-225.43C155.55,-215.78 139.72,-204.07 127.59,-195.1\"/>\n<text text-anchor=\"middle\" x=\"150.1\" y=\"-212.87\" font-family=\"Times,serif\" font-size=\"8.00\">3</text>\n</g>\n<!-- 29&#45;&#45;2 -->\n<g id=\"edge53\" class=\"edge\">\n<title>29--2</title>\n<path fill=\"none\" stroke=\"black\" d=\"M211.45,-225.44C221.75,-215.36 234.45,-202.92 244.35,-193.23\"/>\n<text text-anchor=\"middle\" x=\"225.9\" y=\"-211.94\" font-family=\"Times,serif\" font-size=\"8.00\">1</text>\n</g>\n<!-- 29&#45;&#45;9 -->\n<g id=\"edge50\" class=\"edge\">\n<title>29--9</title>\n<path fill=\"none\" stroke=\"black\" d=\"M198.79,-225.43C203.25,-211.46 209.39,-192.23 213.85,-178.27\"/>\n<text text-anchor=\"middle\" x=\"204.32\" y=\"-204.45\" font-family=\"Times,serif\" font-size=\"8.00\">1</text>\n</g>\n<!-- 29&#45;&#45;11 -->\n<g id=\"edge51\" class=\"edge\">\n<title>29--11</title>\n<path fill=\"none\" stroke=\"black\" d=\"M176.43,-261.53C168.65,-270 159.44,-280.01 151.85,-288.27\"/>\n<text text-anchor=\"middle\" x=\"162.14\" y=\"-277.5\" font-family=\"Times,serif\" font-size=\"8.00\">1</text>\n</g>\n<!-- 29&#45;&#45;14 -->\n<g id=\"edge52\" class=\"edge\">\n<title>29--14</title>\n<path fill=\"none\" stroke=\"black\" d=\"M217.7,-226.02C218.36,-225.56 219.01,-225.09 219.67,-224.63\"/>\n<text text-anchor=\"middle\" x=\"220.68\" y=\"-227.93\" font-family=\"Times,serif\" font-size=\"8.00\">1</text>\n</g>\n<!-- 29&#45;&#45;15 -->\n<g id=\"edge47\" class=\"edge\">\n<title>29--15</title>\n<path fill=\"none\" stroke=\"black\" d=\"M199.82,-261.63C201.83,-267 204.02,-272.86 206.03,-278.22\"/>\n<text text-anchor=\"middle\" x=\"200.92\" y=\"-272.53\" font-family=\"Times,serif\" font-size=\"8.00\">3</text>\n</g>\n<!-- 29&#45;&#45;24 -->\n<g id=\"edge49\" class=\"edge\">\n<title>29--24</title>\n<path fill=\"none\" stroke=\"black\" d=\"M214.08,-261.51C214.19,-261.61 214.3,-261.7 214.41,-261.79\"/>\n<text text-anchor=\"middle\" x=\"212.25\" y=\"-264.25\" font-family=\"Times,serif\" font-size=\"8.00\">2</text>\n</g>\n<!-- 30 -->\n<g id=\"node31\" class=\"node\">\n<title>30</title>\n<ellipse fill=\"lightgrey\" stroke=\"black\" cx=\"265.06\" cy=\"-320.24\" rx=\"32.55\" ry=\"18.27\"/>\n<text text-anchor=\"middle\" x=\"265.06\" y=\"-322.84\" font-family=\"Times,serif\" font-size=\"8.00\">菊</text>\n<text text-anchor=\"middle\" x=\"265.06\" y=\"-313.84\" font-family=\"Times,serif\" font-size=\"8.00\">(TKOK)</text>\n</g>\n<!-- 30&#45;&#45;29 -->\n<g id=\"edge54\" class=\"edge\">\n<title>30--29</title>\n<path fill=\"none\" stroke=\"black\" d=\"M249.78,-303.96C238.13,-291.55 222.1,-274.47 210.04,-261.62\"/>\n<text text-anchor=\"middle\" x=\"227.91\" y=\"-285.39\" font-family=\"Times,serif\" font-size=\"8.00\">1</text>\n</g>\n</g>\n</svg>"
          },
          "metadata": {}
        }
      ]
    },
    {
      "cell_type": "markdown",
      "source": [
        "#### 3.2.4 | *Sakura*, en. cherry"
      ],
      "metadata": {
        "id": "N8GAnxIgeC4k"
      }
    },
    {
      "cell_type": "code",
      "source": [
        "dot_viz_aggr(\"桜\")"
      ],
      "metadata": {
        "id": "v74lioVp9ynh",
        "colab": {
          "base_uri": "https://localhost:8080/",
          "height": 491
        },
        "outputId": "1d509943-9b6c-4c94-cf92-83243bedf899"
      },
      "execution_count": 18,
      "outputs": [
        {
          "output_type": "display_data",
          "data": {
            "text/plain": [
              "<IPython.core.display.SVG object>"
            ],
            "image/svg+xml": "<svg xmlns=\"http://www.w3.org/2000/svg\" xmlns:xlink=\"http://www.w3.org/1999/xlink\" width=\"384pt\" height=\"352pt\" viewBox=\"0.00 0.00 384.39 352.24\">\n<g id=\"graph0\" class=\"graph\" transform=\"scale(1 1) rotate(0) translate(4 348.24)\">\n<title>%3</title>\n<polygon fill=\"white\" stroke=\"transparent\" points=\"-4,4 -4,-348.24 380.39,-348.24 380.39,4 -4,4\"/>\n<!-- 0 -->\n<g id=\"node1\" class=\"node\">\n<title>0</title>\n<ellipse fill=\"lightgrey\" stroke=\"black\" cx=\"110.34\" cy=\"-228.06\" rx=\"28.98\" ry=\"18.27\"/>\n<text text-anchor=\"middle\" x=\"110.34\" y=\"-230.66\" font-family=\"Times,serif\" font-size=\"8.00\">桜</text>\n<text text-anchor=\"middle\" x=\"110.34\" y=\"-221.66\" font-family=\"Times,serif\" font-size=\"8.00\">(OZW)</text>\n</g>\n<!-- 1 -->\n<g id=\"node2\" class=\"node\">\n<title>1</title>\n<polygon fill=\"none\" stroke=\"black\" points=\"94.44,-344.24 53.44,-344.24 53.44,-308.24 94.44,-308.24 94.44,-344.24\"/>\n<text text-anchor=\"middle\" x=\"73.94\" y=\"-323.45\" font-family=\"Times,serif\" font-size=\"10.99\">None</text>\n</g>\n<!-- 1&#45;&#45;0 -->\n<g id=\"edge1\" class=\"edge\">\n<title>1--0</title>\n<path fill=\"none\" stroke=\"black\" d=\"M80.61,-308.23C87.14,-290.63 97.03,-263.96 103.58,-246.28\"/>\n<text text-anchor=\"middle\" x=\"90.1\" y=\"-279.86\" font-family=\"Times,serif\" font-size=\"8.00\">2</text>\n</g>\n<!-- 2 -->\n<g id=\"node3\" class=\"node\">\n<title>2</title>\n<polygon fill=\"none\" stroke=\"black\" points=\"42.29,-207.01 3.29,-207.01 3.29,-171.01 42.29,-171.01 42.29,-207.01\"/>\n<text text-anchor=\"middle\" x=\"22.79\" y=\"-186.2\" font-family=\"Times,serif\" font-size=\"10.40\">None</text>\n</g>\n<!-- 2&#45;&#45;0 -->\n<g id=\"edge2\" class=\"edge\">\n<title>2--0</title>\n<path fill=\"none\" stroke=\"black\" d=\"M42.65,-197.87C55.67,-203.68 72.76,-211.3 86.5,-217.43\"/>\n<text text-anchor=\"middle\" x=\"62.58\" y=\"-210.25\" font-family=\"Times,serif\" font-size=\"8.00\">1</text>\n</g>\n<!-- 3 -->\n<g id=\"node4\" class=\"node\">\n<title>3</title>\n<polygon fill=\"none\" stroke=\"black\" points=\"135.59,-144.38 93.59,-144.38 93.59,-108.38 135.59,-108.38 135.59,-144.38\"/>\n<text text-anchor=\"middle\" x=\"114.59\" y=\"-123.67\" font-family=\"Times,serif\" font-size=\"11.51\">None</text>\n</g>\n<!-- 3&#45;&#45;0 -->\n<g id=\"edge3\" class=\"edge\">\n<title>3--0</title>\n<path fill=\"none\" stroke=\"black\" d=\"M113.83,-144.56C113.07,-162.83 111.89,-190.88 111.12,-209.35\"/>\n<text text-anchor=\"middle\" x=\"110.48\" y=\"-179.55\" font-family=\"Times,serif\" font-size=\"8.00\">2</text>\n</g>\n<!-- 4 -->\n<g id=\"node5\" class=\"node\">\n<title>4</title>\n<ellipse fill=\"lightgrey\" stroke=\"black\" cx=\"212.31\" cy=\"-106.73\" rx=\"28.98\" ry=\"18.27\"/>\n<text text-anchor=\"middle\" x=\"212.31\" y=\"-109.33\" font-family=\"Times,serif\" font-size=\"8.00\">桜</text>\n<text text-anchor=\"middle\" x=\"212.31\" y=\"-100.33\" font-family=\"Times,serif\" font-size=\"8.00\">(KNK)</text>\n</g>\n<!-- 4&#45;&#45;3 -->\n<g id=\"edge4\" class=\"edge\">\n<title>4--3</title>\n<path fill=\"none\" stroke=\"black\" d=\"M184.57,-112.31C169.11,-115.42 150.15,-119.23 135.87,-122.1\"/>\n<text text-anchor=\"middle\" x=\"158.22\" y=\"-119.8\" font-family=\"Times,serif\" font-size=\"8.00\">1</text>\n</g>\n<!-- 5 -->\n<g id=\"node6\" class=\"node\">\n<title>5</title>\n<ellipse fill=\"lightgrey\" stroke=\"black\" cx=\"123.06\" cy=\"-158.3\" rx=\"27.65\" ry=\"18.27\"/>\n<text text-anchor=\"middle\" x=\"123.06\" y=\"-160.9\" font-family=\"Times,serif\" font-size=\"8.00\">桜</text>\n<text text-anchor=\"middle\" x=\"123.06\" y=\"-151.9\" font-family=\"Times,serif\" font-size=\"8.00\">(KBT)</text>\n</g>\n<!-- 6 -->\n<g id=\"node7\" class=\"node\">\n<title>6</title>\n<polygon fill=\"none\" stroke=\"black\" points=\"73.24,-108.16 34.24,-108.16 34.24,-72.16 73.24,-72.16 73.24,-108.16\"/>\n<text text-anchor=\"middle\" x=\"53.74\" y=\"-87.34\" font-family=\"Times,serif\" font-size=\"10.40\">None</text>\n</g>\n<!-- 6&#45;&#45;5 -->\n<g id=\"edge5\" class=\"edge\">\n<title>6--5</title>\n<path fill=\"none\" stroke=\"black\" d=\"M72.32,-108.42C83.23,-119.14 96.87,-132.55 107.26,-142.76\"/>\n<text text-anchor=\"middle\" x=\"87.79\" y=\"-128.19\" font-family=\"Times,serif\" font-size=\"8.00\">1</text>\n</g>\n<!-- 7 -->\n<g id=\"node8\" class=\"node\">\n<title>7</title>\n<polygon fill=\"none\" stroke=\"black\" points=\"317.59,-151.72 276.59,-151.72 276.59,-115.72 317.59,-115.72 317.59,-151.72\"/>\n<text text-anchor=\"middle\" x=\"297.09\" y=\"-130.93\" font-family=\"Times,serif\" font-size=\"10.99\">None</text>\n</g>\n<!-- 7&#45;&#45;4 -->\n<g id=\"edge6\" class=\"edge\">\n<title>7--4</title>\n<path fill=\"none\" stroke=\"black\" d=\"M276.57,-127.18C265.1,-123.53 250.69,-118.95 238.43,-115.05\"/>\n<text text-anchor=\"middle\" x=\"255.5\" y=\"-123.71\" font-family=\"Times,serif\" font-size=\"8.00\">1</text>\n</g>\n<!-- 8 -->\n<g id=\"node9\" class=\"node\">\n<title>8</title>\n<ellipse fill=\"lightgrey\" stroke=\"black\" cx=\"256.48\" cy=\"-209.78\" rx=\"33.47\" ry=\"18.27\"/>\n<text text-anchor=\"middle\" x=\"256.48\" y=\"-212.38\" font-family=\"Times,serif\" font-size=\"8.00\">桜</text>\n<text text-anchor=\"middle\" x=\"256.48\" y=\"-203.38\" font-family=\"Times,serif\" font-size=\"8.00\">(OKMR)</text>\n</g>\n<!-- 8&#45;&#45;7 -->\n<g id=\"edge7\" class=\"edge\">\n<title>8--7</title>\n<path fill=\"none\" stroke=\"black\" d=\"M265.9,-192.14C272.37,-180.03 280.93,-164 287.44,-151.79\"/>\n<text text-anchor=\"middle\" x=\"274.67\" y=\"-174.57\" font-family=\"Times,serif\" font-size=\"8.00\">1</text>\n</g>\n<!-- 9 -->\n<g id=\"node10\" class=\"node\">\n<title>9</title>\n<polygon fill=\"none\" stroke=\"black\" points=\"304.6,-76.07 265.6,-76.07 265.6,-40.07 304.6,-40.07 304.6,-76.07\"/>\n<text text-anchor=\"middle\" x=\"285.1\" y=\"-55.25\" font-family=\"Times,serif\" font-size=\"10.40\">None</text>\n</g>\n<!-- 9&#45;&#45;4 -->\n<g id=\"edge8\" class=\"edge\">\n<title>9--4</title>\n<path fill=\"none\" stroke=\"black\" d=\"M265.59,-71.11C255.32,-77.98 242.73,-86.39 232.38,-93.32\"/>\n<text text-anchor=\"middle\" x=\"246.98\" y=\"-84.81\" font-family=\"Times,serif\" font-size=\"8.00\">1</text>\n</g>\n<!-- 10 -->\n<g id=\"node11\" class=\"node\">\n<title>10</title>\n<polygon fill=\"none\" stroke=\"black\" points=\"199.99,-36 160.99,-36 160.99,0 199.99,0 199.99,-36\"/>\n<text text-anchor=\"middle\" x=\"180.49\" y=\"-15.18\" font-family=\"Times,serif\" font-size=\"10.40\">None</text>\n</g>\n<!-- 10&#45;&#45;4 -->\n<g id=\"edge9\" class=\"edge\">\n<title>10--4</title>\n<path fill=\"none\" stroke=\"black\" d=\"M187.09,-36.39C192.58,-51.72 200.37,-73.44 205.83,-88.67\"/>\n<text text-anchor=\"middle\" x=\"194.46\" y=\"-65.13\" font-family=\"Times,serif\" font-size=\"8.00\">1</text>\n</g>\n<!-- 11 -->\n<g id=\"node12\" class=\"node\">\n<title>11</title>\n<polygon fill=\"none\" stroke=\"black\" points=\"190.55,-101.8 148.55,-101.8 148.55,-65.8 190.55,-65.8 190.55,-101.8\"/>\n<text text-anchor=\"middle\" x=\"169.55\" y=\"-81.09\" font-family=\"Times,serif\" font-size=\"11.51\">None</text>\n</g>\n<!-- 11&#45;&#45;4 -->\n<g id=\"edge10\" class=\"edge\">\n<title>11--4</title>\n<path fill=\"none\" stroke=\"black\" d=\"M190.68,-95.13C190.76,-95.18 190.85,-95.22 190.93,-95.27\"/>\n<text text-anchor=\"middle\" x=\"192.8\" y=\"-88.8\" font-family=\"Times,serif\" font-size=\"8.00\">1</text>\n</g>\n<!-- 11&#45;&#45;5 -->\n<g id=\"edge12\" class=\"edge\">\n<title>11--5</title>\n<path fill=\"none\" stroke=\"black\" d=\"M158.3,-101.83C150.83,-113.8 141.08,-129.42 133.73,-141.2\"/>\n<text text-anchor=\"middle\" x=\"144.01\" y=\"-124.11\" font-family=\"Times,serif\" font-size=\"8.00\">1</text>\n</g>\n<!-- 12 -->\n<g id=\"node13\" class=\"node\">\n<title>12</title>\n<ellipse fill=\"lightgrey\" stroke=\"black\" cx=\"239.4\" cy=\"-155.97\" rx=\"31.64\" ry=\"18.27\"/>\n<text text-anchor=\"middle\" x=\"239.4\" y=\"-158.57\" font-family=\"Times,serif\" font-size=\"8.00\">桜</text>\n<text text-anchor=\"middle\" x=\"239.4\" y=\"-149.57\" font-family=\"Times,serif\" font-size=\"8.00\">(KTGR)</text>\n</g>\n<!-- 12&#45;&#45;11 -->\n<g id=\"edge11\" class=\"edge\">\n<title>12--11</title>\n<path fill=\"none\" stroke=\"black\" d=\"M223.55,-139.59C212.68,-128.37 198.26,-113.46 187.05,-101.89\"/>\n<text text-anchor=\"middle\" x=\"203.3\" y=\"-123.34\" font-family=\"Times,serif\" font-size=\"8.00\">1</text>\n</g>\n<!-- 13 -->\n<g id=\"node14\" class=\"node\">\n<title>13</title>\n<ellipse fill=\"lightgrey\" stroke=\"black\" cx=\"276.13\" cy=\"-245.87\" rx=\"25.41\" ry=\"18.27\"/>\n<text text-anchor=\"middle\" x=\"276.13\" y=\"-248.47\" font-family=\"Times,serif\" font-size=\"8.00\">桜</text>\n<text text-anchor=\"middle\" x=\"276.13\" y=\"-239.47\" font-family=\"Times,serif\" font-size=\"8.00\">(KSJ)</text>\n</g>\n<!-- 14 -->\n<g id=\"node15\" class=\"node\">\n<title>14</title>\n<polygon fill=\"none\" stroke=\"black\" points=\"376.39,-292.88 337.39,-292.88 337.39,-256.88 376.39,-256.88 376.39,-292.88\"/>\n<text text-anchor=\"middle\" x=\"356.89\" y=\"-272.06\" font-family=\"Times,serif\" font-size=\"10.40\">None</text>\n</g>\n<!-- 14&#45;&#45;13 -->\n<g id=\"edge13\" class=\"edge\">\n<title>14--13</title>\n<path fill=\"none\" stroke=\"black\" d=\"M337.34,-267.85C325.77,-263.7 311.04,-258.41 298.94,-254.06\"/>\n<text text-anchor=\"middle\" x=\"316.14\" y=\"-263.56\" font-family=\"Times,serif\" font-size=\"8.00\">1</text>\n</g>\n<!-- 15 -->\n<g id=\"node16\" class=\"node\">\n<title>15</title>\n<polygon fill=\"lightyellow\" stroke=\"black\" points=\"220.17,-218.87 167.17,-218.87 167.17,-182.87 220.17,-182.87 220.17,-218.87\"/>\n<text text-anchor=\"middle\" x=\"193.67\" y=\"-196.54\" font-family=\"Times,serif\" font-size=\"16.66\">None</text>\n</g>\n<!-- 15&#45;&#45;0 -->\n<g id=\"edge19\" class=\"edge\">\n<title>15--0</title>\n<path fill=\"none\" stroke=\"black\" d=\"M166.84,-209.62C157.04,-212.82 145.98,-216.43 136.26,-219.6\"/>\n<text text-anchor=\"middle\" x=\"149.55\" y=\"-217.21\" font-family=\"Times,serif\" font-size=\"8.00\">2</text>\n</g>\n<!-- 15&#45;&#45;4 -->\n<g id=\"edge17\" class=\"edge\">\n<title>15--4</title>\n<path fill=\"none\" stroke=\"black\" d=\"M197.26,-182.72C200.54,-166.16 205.37,-141.79 208.66,-125.15\"/>\n<text text-anchor=\"middle\" x=\"200.96\" y=\"-156.53\" font-family=\"Times,serif\" font-size=\"8.00\">2</text>\n</g>\n<!-- 15&#45;&#45;5 -->\n<g id=\"edge18\" class=\"edge\">\n<title>15--5</title>\n<path fill=\"none\" stroke=\"black\" d=\"M166.97,-184.78C159.32,-180.16 151.09,-175.2 143.85,-170.83\"/>\n<text text-anchor=\"middle\" x=\"153.41\" y=\"-180.4\" font-family=\"Times,serif\" font-size=\"8.00\">2</text>\n</g>\n<!-- 15&#45;&#45;12 -->\n<g id=\"edge20\" class=\"edge\">\n<title>15--12</title>\n<path fill=\"none\" stroke=\"black\" d=\"M212.01,-182.87C215.68,-179.26 219.52,-175.49 223.13,-171.95\"/>\n<text text-anchor=\"middle\" x=\"219.57\" y=\"-180.01\" font-family=\"Times,serif\" font-size=\"8.00\">1</text>\n</g>\n<!-- 15&#45;&#45;13 -->\n<g id=\"edge14\" class=\"edge\">\n<title>15--13</title>\n<path fill=\"none\" stroke=\"black\" d=\"M220.21,-215.36C231.7,-221.63 244.94,-228.85 255.65,-234.7\"/>\n<text text-anchor=\"middle\" x=\"235.93\" y=\"-227.63\" font-family=\"Times,serif\" font-size=\"8.00\">6</text>\n</g>\n<!-- 16 -->\n<g id=\"node17\" class=\"node\">\n<title>16</title>\n<ellipse fill=\"lightgrey\" stroke=\"black\" cx=\"190.88\" cy=\"-309.41\" rx=\"28.98\" ry=\"18.27\"/>\n<text text-anchor=\"middle\" x=\"190.88\" y=\"-312.01\" font-family=\"Times,serif\" font-size=\"8.00\">桜</text>\n<text text-anchor=\"middle\" x=\"190.88\" y=\"-303.01\" font-family=\"Times,serif\" font-size=\"8.00\">(MTD)</text>\n</g>\n<!-- 16&#45;&#45;15 -->\n<g id=\"edge15\" class=\"edge\">\n<title>16--15</title>\n<path fill=\"none\" stroke=\"black\" d=\"M191.35,-291C191.87,-270.92 192.69,-238.98 193.2,-219.01\"/>\n<text text-anchor=\"middle\" x=\"190.28\" y=\"-257.6\" font-family=\"Times,serif\" font-size=\"8.00\">5</text>\n</g>\n<!-- 17 -->\n<g id=\"node18\" class=\"node\">\n<title>17</title>\n<ellipse fill=\"lightgrey\" stroke=\"black\" cx=\"197.54\" cy=\"-287.45\" rx=\"33.47\" ry=\"18.27\"/>\n<text text-anchor=\"middle\" x=\"197.54\" y=\"-290.05\" font-family=\"Times,serif\" font-size=\"8.00\">桜</text>\n<text text-anchor=\"middle\" x=\"197.54\" y=\"-281.05\" font-family=\"Times,serif\" font-size=\"8.00\">(KMCY)</text>\n</g>\n<!-- 17&#45;&#45;15 -->\n<g id=\"edge16\" class=\"edge\">\n<title>17--15</title>\n<path fill=\"none\" stroke=\"black\" d=\"M196.7,-268.66C196.04,-253.94 195.13,-233.58 194.48,-219.03\"/>\n<text text-anchor=\"middle\" x=\"193.59\" y=\"-246.45\" font-family=\"Times,serif\" font-size=\"8.00\">3</text>\n</g>\n<!-- 18 -->\n<g id=\"node19\" class=\"node\">\n<title>18</title>\n<polygon fill=\"lightyellow\" stroke=\"black\" points=\"231.98,-268.18 186.98,-268.18 186.98,-232.18 231.98,-232.18 231.98,-268.18\"/>\n<text text-anchor=\"middle\" x=\"209.48\" y=\"-246.92\" font-family=\"Times,serif\" font-size=\"12.82\">None</text>\n</g>\n<!-- 18&#45;&#45;0 -->\n<g id=\"edge21\" class=\"edge\">\n<title>18--0</title>\n<path fill=\"none\" stroke=\"black\" d=\"M186.49,-245.05C171.96,-241.81 153.11,-237.6 137.79,-234.18\"/>\n<text text-anchor=\"middle\" x=\"160.14\" y=\"-242.22\" font-family=\"Times,serif\" font-size=\"8.00\">2</text>\n</g>\n<!-- 18&#45;&#45;8 -->\n<g id=\"edge25\" class=\"edge\">\n<title>18--8</title>\n<path fill=\"none\" stroke=\"black\" d=\"M230.51,-232.11C233.15,-229.84 235.83,-227.54 238.42,-225.31\"/>\n<text text-anchor=\"middle\" x=\"232.46\" y=\"-231.31\" font-family=\"Times,serif\" font-size=\"8.00\">1</text>\n</g>\n<!-- 18&#45;&#45;12 -->\n<g id=\"edge22\" class=\"edge\">\n<title>18--12</title>\n<path fill=\"none\" stroke=\"black\" d=\"M215.25,-232.02C220.55,-215.33 228.36,-190.74 233.65,-174.08\"/>\n<text text-anchor=\"middle\" x=\"222.45\" y=\"-205.65\" font-family=\"Times,serif\" font-size=\"8.00\">1</text>\n</g>\n<!-- 18&#45;&#45;13 -->\n<g id=\"edge23\" class=\"edge\">\n<title>18--13</title>\n<path fill=\"none\" stroke=\"black\" d=\"M232.05,-248.72C237.94,-248.34 244.33,-247.93 250.38,-247.54\"/>\n<text text-anchor=\"middle\" x=\"239.21\" y=\"-250.73\" font-family=\"Times,serif\" font-size=\"8.00\">1</text>\n</g>\n<!-- 18&#45;&#45;16 -->\n<g id=\"edge24\" class=\"edge\">\n<title>18--16</title>\n<path fill=\"none\" stroke=\"black\" d=\"M203.8,-268.27C201.54,-275.48 198.93,-283.78 196.66,-291.02\"/>\n<text text-anchor=\"middle\" x=\"198.23\" y=\"-282.25\" font-family=\"Times,serif\" font-size=\"8.00\">1</text>\n</g>\n<!-- 19 -->\n<g id=\"node20\" class=\"node\">\n<title>19</title>\n<polygon fill=\"none\" stroke=\"black\" points=\"55.2,-304.81 16.2,-304.81 16.2,-268.81 55.2,-268.81 55.2,-304.81\"/>\n<text text-anchor=\"middle\" x=\"35.7\" y=\"-283.99\" font-family=\"Times,serif\" font-size=\"10.40\">None</text>\n</g>\n<!-- 19&#45;&#45;0 -->\n<g id=\"edge26\" class=\"edge\">\n<title>19--0</title>\n<path fill=\"none\" stroke=\"black\" d=\"M55.31,-271.37C66.71,-262.4 80.99,-251.16 92.14,-242.38\"/>\n<text text-anchor=\"middle\" x=\"71.73\" y=\"-259.48\" font-family=\"Times,serif\" font-size=\"8.00\">1</text>\n</g>\n<!-- 20 -->\n<g id=\"node21\" class=\"node\">\n<title>20</title>\n<polygon fill=\"lightyellow\" stroke=\"black\" points=\"143.54,-327.89 100.54,-327.89 100.54,-291.89 143.54,-291.89 143.54,-327.89\"/>\n<text text-anchor=\"middle\" x=\"122.04\" y=\"-306.95\" font-family=\"Times,serif\" font-size=\"12.42\">None</text>\n</g>\n<!-- 20&#45;&#45;0 -->\n<g id=\"edge27\" class=\"edge\">\n<title>20--0</title>\n<path fill=\"none\" stroke=\"black\" d=\"M119.44,-291.73C117.52,-278.26 114.9,-259.97 112.97,-246.45\"/>\n<text text-anchor=\"middle\" x=\"114.21\" y=\"-271.69\" font-family=\"Times,serif\" font-size=\"8.00\">2</text>\n</g>\n<!-- 20&#45;&#45;16 -->\n<g id=\"edge30\" class=\"edge\">\n<title>20--16</title>\n<path fill=\"none\" stroke=\"black\" d=\"M143.82,-309.74C149.49,-309.7 155.7,-309.65 161.69,-309.61\"/>\n<text text-anchor=\"middle\" x=\"150.75\" y=\"-312.27\" font-family=\"Times,serif\" font-size=\"8.00\">1</text>\n</g>\n<!-- 20&#45;&#45;17 -->\n<g id=\"edge29\" class=\"edge\">\n<title>20--17</title>\n<path fill=\"none\" stroke=\"black\" d=\"M143.88,-303.4C151.46,-301.15 160.08,-298.58 168.17,-296.18\"/>\n<text text-anchor=\"middle\" x=\"154.02\" y=\"-302.39\" font-family=\"Times,serif\" font-size=\"8.00\">1</text>\n</g>\n<!-- 21 -->\n<g id=\"node22\" class=\"node\">\n<title>21</title>\n<ellipse fill=\"lightgrey\" stroke=\"black\" cx=\"74.38\" cy=\"-212.06\" rx=\"28.98\" ry=\"18.27\"/>\n<text text-anchor=\"middle\" x=\"74.38\" y=\"-214.66\" font-family=\"Times,serif\" font-size=\"8.00\">桜</text>\n<text text-anchor=\"middle\" x=\"74.38\" y=\"-205.66\" font-family=\"Times,serif\" font-size=\"8.00\">(K&amp;A)</text>\n</g>\n<!-- 21&#45;&#45;20 -->\n<g id=\"edge28\" class=\"edge\">\n<title>21--20</title>\n<path fill=\"none\" stroke=\"black\" d=\"M83.12,-230C91.66,-247.54 104.61,-274.11 113.19,-291.73\"/>\n<text text-anchor=\"middle\" x=\"96.15\" y=\"-263.47\" font-family=\"Times,serif\" font-size=\"8.00\">1</text>\n</g>\n<!-- 22 -->\n<g id=\"node23\" class=\"node\">\n<title>22</title>\n<polygon fill=\"none\" stroke=\"black\" points=\"299.45,-325.89 257.45,-325.89 257.45,-289.89 299.45,-289.89 299.45,-325.89\"/>\n<text text-anchor=\"middle\" x=\"278.45\" y=\"-305.18\" font-family=\"Times,serif\" font-size=\"11.51\">None</text>\n</g>\n<!-- 22&#45;&#45;8 -->\n<g id=\"edge32\" class=\"edge\">\n<title>22--8</title>\n<path fill=\"none\" stroke=\"black\" d=\"M274.32,-289.44C270.39,-271.9 264.52,-245.67 260.6,-228.15\"/>\n<text text-anchor=\"middle\" x=\"265.46\" y=\"-261.4\" font-family=\"Times,serif\" font-size=\"8.00\">1</text>\n</g>\n<!-- 22&#45;&#45;17 -->\n<g id=\"edge31\" class=\"edge\">\n<title>22--17</title>\n<path fill=\"none\" stroke=\"black\" d=\"M257.19,-302.52C248.2,-300.25 237.57,-297.56 227.78,-295.09\"/>\n<text text-anchor=\"middle\" x=\"240.49\" y=\"-301.41\" font-family=\"Times,serif\" font-size=\"8.00\">2</text>\n</g>\n<!-- 23 -->\n<g id=\"node24\" class=\"node\">\n<title>23</title>\n<polygon fill=\"lightyellow\" stroke=\"black\" points=\"183.73,-185.57 138.73,-185.57 138.73,-149.57 183.73,-149.57 183.73,-185.57\"/>\n<text text-anchor=\"middle\" x=\"161.23\" y=\"-164.31\" font-family=\"Times,serif\" font-size=\"12.82\">None</text>\n</g>\n<!-- 23&#45;&#45;0 -->\n<g id=\"edge37\" class=\"edge\">\n<title>23--0</title>\n<path fill=\"none\" stroke=\"black\" d=\"M145.96,-185.72C139.05,-193.93 130.94,-203.57 124.21,-211.57\"/>\n<text text-anchor=\"middle\" x=\"133.09\" y=\"-201.24\" font-family=\"Times,serif\" font-size=\"8.00\">1</text>\n</g>\n<!-- 23&#45;&#45;4 -->\n<g id=\"edge34\" class=\"edge\">\n<title>23--4</title>\n<path fill=\"none\" stroke=\"black\" d=\"M176.56,-149.32C183.49,-141.06 191.63,-131.36 198.39,-123.31\"/>\n<text text-anchor=\"middle\" x=\"185.47\" y=\"-138.91\" font-family=\"Times,serif\" font-size=\"8.00\">1</text>\n</g>\n<!-- 23&#45;&#45;5 -->\n<g id=\"edge36\" class=\"edge\">\n<title>23--5</title>\n<path fill=\"none\" stroke=\"black\" d=\"M138.59,-162.07C138.46,-162.04 138.33,-162.01 138.2,-161.97\"/>\n<text text-anchor=\"middle\" x=\"136.4\" y=\"-164.62\" font-family=\"Times,serif\" font-size=\"8.00\">1</text>\n</g>\n<!-- 23&#45;&#45;8 -->\n<g id=\"edge33\" class=\"edge\">\n<title>23--8</title>\n<path fill=\"none\" stroke=\"black\" d=\"M183.81,-177.57C197.78,-183.77 215.77,-191.74 230.36,-198.21\"/>\n<text text-anchor=\"middle\" x=\"205.08\" y=\"-181.49\" font-family=\"Times,serif\" font-size=\"8.00\">2</text>\n</g>\n<!-- 23&#45;&#45;21 -->\n<g id=\"edge35\" class=\"edge\">\n<title>23--21</title>\n<path fill=\"none\" stroke=\"black\" d=\"M138.41,-179.26C125.65,-185.8 109.79,-193.92 97.04,-200.45\"/>\n<text text-anchor=\"middle\" x=\"115.73\" y=\"-192.45\" font-family=\"Times,serif\" font-size=\"8.00\">1</text>\n</g>\n<!-- 24 -->\n<g id=\"node25\" class=\"node\">\n<title>24</title>\n<polygon fill=\"none\" stroke=\"black\" points=\"131.3,-281.32 89.3,-281.32 89.3,-245.32 131.3,-245.32 131.3,-281.32\"/>\n<text text-anchor=\"middle\" x=\"110.3\" y=\"-260.61\" font-family=\"Times,serif\" font-size=\"11.51\">None</text>\n</g>\n<!-- 24&#45;&#45;0 -->\n<g id=\"edge40\" class=\"edge\">\n<title>24--0</title>\n<path fill=\"none\" stroke=\"black\" d=\"M110.32,-245.27C110.32,-245.14 110.32,-245 110.32,-244.87\"/>\n<text text-anchor=\"middle\" x=\"108.32\" y=\"-238.67\" font-family=\"Times,serif\" font-size=\"8.00\">1</text>\n</g>\n<!-- 24&#45;&#45;5 -->\n<g id=\"edge39\" class=\"edge\">\n<title>24--5</title>\n<path fill=\"none\" stroke=\"black\" d=\"M112.53,-245.02C114.85,-225.87 118.49,-195.94 120.82,-176.73\"/>\n<text text-anchor=\"middle\" x=\"114.67\" y=\"-204.48\" font-family=\"Times,serif\" font-size=\"8.00\">1</text>\n</g>\n<!-- 24&#45;&#45;17 -->\n<g id=\"edge38\" class=\"edge\">\n<title>24--17</title>\n<path fill=\"none\" stroke=\"black\" d=\"M131.42,-269.16C142.31,-272.17 155.78,-275.9 167.72,-279.2\"/>\n<text text-anchor=\"middle\" x=\"147.57\" y=\"-276.78\" font-family=\"Times,serif\" font-size=\"8.00\">1</text>\n</g>\n<!-- 25 -->\n<g id=\"node26\" class=\"node\">\n<title>25</title>\n<polygon fill=\"none\" stroke=\"black\" points=\"258.42,-44.48 219.42,-44.48 219.42,-8.48 258.42,-8.48 258.42,-44.48\"/>\n<text text-anchor=\"middle\" x=\"238.92\" y=\"-23.67\" font-family=\"Times,serif\" font-size=\"10.40\">None</text>\n</g>\n<!-- 25&#45;&#45;4 -->\n<g id=\"edge41\" class=\"edge\">\n<title>25--4</title>\n<path fill=\"none\" stroke=\"black\" d=\"M232.88,-44.69C228.53,-57.83 222.67,-75.48 218.32,-88.6\"/>\n<text text-anchor=\"middle\" x=\"223.6\" y=\"-69.24\" font-family=\"Times,serif\" font-size=\"8.00\">1</text>\n</g>\n<!-- 26 -->\n<g id=\"node27\" class=\"node\">\n<title>26</title>\n<polygon fill=\"none\" stroke=\"black\" points=\"41,-256.35 0,-256.35 0,-220.35 41,-220.35 41,-256.35\"/>\n<text text-anchor=\"middle\" x=\"20.5\" y=\"-235.56\" font-family=\"Times,serif\" font-size=\"10.99\">None</text>\n</g>\n<!-- 26&#45;&#45;0 -->\n<g id=\"edge43\" class=\"edge\">\n<title>26--0</title>\n<path fill=\"none\" stroke=\"black\" d=\"M41.34,-235.96C53.36,-234.59 68.66,-232.83 81.79,-231.33\"/>\n<text text-anchor=\"middle\" x=\"59.56\" y=\"-236.25\" font-family=\"Times,serif\" font-size=\"8.00\">1</text>\n</g>\n<!-- 26&#45;&#45;21 -->\n<g id=\"edge42\" class=\"edge\">\n<title>26--21</title>\n<path fill=\"none\" stroke=\"black\" d=\"M41.18,-228.26C44.5,-226.64 47.96,-224.95 51.33,-223.31\"/>\n<text text-anchor=\"middle\" x=\"44.25\" y=\"-228.38\" font-family=\"Times,serif\" font-size=\"8.00\">1</text>\n</g>\n<!-- 27 -->\n<g id=\"node28\" class=\"node\">\n<title>27</title>\n<polygon fill=\"lightyellow\" stroke=\"black\" points=\"202.01,-249.15 157.01,-249.15 157.01,-213.15 202.01,-213.15 202.01,-249.15\"/>\n<text text-anchor=\"middle\" x=\"179.51\" y=\"-227.89\" font-family=\"Times,serif\" font-size=\"12.82\">None</text>\n</g>\n<!-- 27&#45;&#45;0 -->\n<g id=\"edge44\" class=\"edge\">\n<title>27--0</title>\n<path fill=\"none\" stroke=\"black\" d=\"M156.86,-230.13C151.35,-229.89 145.37,-229.62 139.59,-229.36\"/>\n<text text-anchor=\"middle\" x=\"146.23\" y=\"-232.35\" font-family=\"Times,serif\" font-size=\"8.00\">2</text>\n</g>\n<!-- 27&#45;&#45;5 -->\n<g id=\"edge46\" class=\"edge\">\n<title>27--5</title>\n<path fill=\"none\" stroke=\"black\" d=\"M165.56,-213.14C156.55,-201.51 144.9,-186.48 136.08,-175.1\"/>\n<text text-anchor=\"middle\" x=\"148.82\" y=\"-196.72\" font-family=\"Times,serif\" font-size=\"8.00\">1</text>\n</g>\n<!-- 27&#45;&#45;8 -->\n<g id=\"edge48\" class=\"edge\">\n<title>27--8</title>\n<path fill=\"none\" stroke=\"black\" d=\"M202.19,-224.85C209.82,-222.73 218.45,-220.34 226.54,-218.09\"/>\n<text text-anchor=\"middle\" x=\"212.37\" y=\"-224.07\" font-family=\"Times,serif\" font-size=\"8.00\">1</text>\n</g>\n<!-- 27&#45;&#45;13 -->\n<g id=\"edge47\" class=\"edge\">\n<title>27--13</title>\n<path fill=\"none\" stroke=\"black\" d=\"M202.41,-234.64C217.03,-236.86 235.99,-239.75 251.03,-242.04\"/>\n<text text-anchor=\"middle\" x=\"224.72\" y=\"-231.94\" font-family=\"Times,serif\" font-size=\"8.00\">1</text>\n</g>\n<!-- 27&#45;&#45;17 -->\n<g id=\"edge45\" class=\"edge\">\n<title>27--17</title>\n<path fill=\"none\" stroke=\"black\" d=\"M185.32,-249.27C187.33,-255.57 189.6,-262.64 191.62,-268.97\"/>\n<text text-anchor=\"middle\" x=\"186.47\" y=\"-261.72\" font-family=\"Times,serif\" font-size=\"8.00\">1</text>\n</g>\n</g>\n</svg>"
          },
          "metadata": {}
        }
      ]
    },
    {
      "cell_type": "markdown",
      "source": [
        "#### 3.2.5 | *Matsu*, en. pine"
      ],
      "metadata": {
        "id": "SXKaz9UldjAs"
      }
    },
    {
      "cell_type": "code",
      "source": [
        "dot_viz_aggr(\"松\")"
      ],
      "metadata": {
        "id": "ZSoc1GIV91M-",
        "colab": {
          "base_uri": "https://localhost:8080/",
          "height": 514
        },
        "outputId": "071f249e-f725-4ba0-fdd1-e7cf0246e305"
      },
      "execution_count": 19,
      "outputs": [
        {
          "output_type": "display_data",
          "data": {
            "text/plain": [
              "<IPython.core.display.SVG object>"
            ],
            "image/svg+xml": "<svg xmlns=\"http://www.w3.org/2000/svg\" xmlns:xlink=\"http://www.w3.org/1999/xlink\" width=\"372pt\" height=\"369pt\" viewBox=\"0.00 0.00 371.76 368.62\">\n<g id=\"graph0\" class=\"graph\" transform=\"scale(1 1) rotate(0) translate(4 364.62)\">\n<title>%3</title>\n<polygon fill=\"white\" stroke=\"transparent\" points=\"-4,4 -4,-364.62 367.76,-364.62 367.76,4 -4,4\"/>\n<!-- 0 -->\n<g id=\"node1\" class=\"node\">\n<title>0</title>\n<ellipse fill=\"lightgrey\" stroke=\"black\" cx=\"200.56\" cy=\"-108.95\" rx=\"28.98\" ry=\"18.27\"/>\n<text text-anchor=\"middle\" x=\"200.56\" y=\"-111.55\" font-family=\"Times,serif\" font-size=\"8.00\">松</text>\n<text text-anchor=\"middle\" x=\"200.56\" y=\"-102.55\" font-family=\"Times,serif\" font-size=\"8.00\">(KNK)</text>\n</g>\n<!-- 1 -->\n<g id=\"node2\" class=\"node\">\n<title>1</title>\n<polygon fill=\"none\" stroke=\"black\" points=\"292.67,-95.41 251.67,-95.41 251.67,-59.41 292.67,-59.41 292.67,-95.41\"/>\n<text text-anchor=\"middle\" x=\"272.17\" y=\"-74.62\" font-family=\"Times,serif\" font-size=\"10.99\">None</text>\n</g>\n<!-- 1&#45;&#45;0 -->\n<g id=\"edge1\" class=\"edge\">\n<title>1--0</title>\n<path fill=\"none\" stroke=\"black\" d=\"M251.46,-86.54C243.03,-90.25 233.24,-94.56 224.51,-98.4\"/>\n<text text-anchor=\"middle\" x=\"235.98\" y=\"-95.07\" font-family=\"Times,serif\" font-size=\"8.00\">1</text>\n</g>\n<!-- 2 -->\n<g id=\"node3\" class=\"node\">\n<title>2</title>\n<ellipse fill=\"lightgrey\" stroke=\"black\" cx=\"220.65\" cy=\"-141.59\" rx=\"25.41\" ry=\"18.27\"/>\n<text text-anchor=\"middle\" x=\"220.65\" y=\"-144.19\" font-family=\"Times,serif\" font-size=\"8.00\">松</text>\n<text text-anchor=\"middle\" x=\"220.65\" y=\"-135.19\" font-family=\"Times,serif\" font-size=\"8.00\">(KSJ)</text>\n</g>\n<!-- 2&#45;&#45;1 -->\n<g id=\"edge2\" class=\"edge\">\n<title>2--1</title>\n<path fill=\"none\" stroke=\"black\" d=\"M233.65,-125.4C240.92,-116.34 250.01,-105.02 257.53,-95.64\"/>\n<text text-anchor=\"middle\" x=\"243.59\" y=\"-113.12\" font-family=\"Times,serif\" font-size=\"8.00\">1</text>\n</g>\n<!-- 3 -->\n<g id=\"node4\" class=\"node\">\n<title>3</title>\n<ellipse fill=\"lightgrey\" stroke=\"black\" cx=\"244.55\" cy=\"-181.47\" rx=\"33.47\" ry=\"18.27\"/>\n<text text-anchor=\"middle\" x=\"244.55\" y=\"-184.07\" font-family=\"Times,serif\" font-size=\"8.00\">松</text>\n<text text-anchor=\"middle\" x=\"244.55\" y=\"-175.07\" font-family=\"Times,serif\" font-size=\"8.00\">(OKMR)</text>\n</g>\n<!-- 4 -->\n<g id=\"node5\" class=\"node\">\n<title>4</title>\n<polygon fill=\"none\" stroke=\"black\" points=\"363.76,-202.38 324.76,-202.38 324.76,-166.38 363.76,-166.38 363.76,-202.38\"/>\n<text text-anchor=\"middle\" x=\"344.26\" y=\"-181.56\" font-family=\"Times,serif\" font-size=\"10.40\">None</text>\n</g>\n<!-- 4&#45;&#45;3 -->\n<g id=\"edge3\" class=\"edge\">\n<title>4--3</title>\n<path fill=\"none\" stroke=\"black\" d=\"M324.56,-183.81C311.28,-183.42 293.42,-182.9 277.95,-182.45\"/>\n<text text-anchor=\"middle\" x=\"299.25\" y=\"-185.73\" font-family=\"Times,serif\" font-size=\"8.00\">1</text>\n</g>\n<!-- 5 -->\n<g id=\"node6\" class=\"node\">\n<title>5</title>\n<ellipse fill=\"lightgrey\" stroke=\"black\" cx=\"93.43\" cy=\"-114.2\" rx=\"28.98\" ry=\"18.27\"/>\n<text text-anchor=\"middle\" x=\"93.43\" y=\"-116.8\" font-family=\"Times,serif\" font-size=\"8.00\">松</text>\n<text text-anchor=\"middle\" x=\"93.43\" y=\"-107.8\" font-family=\"Times,serif\" font-size=\"8.00\">(OZW)</text>\n</g>\n<!-- 6 -->\n<g id=\"node7\" class=\"node\">\n<title>6</title>\n<polygon fill=\"none\" stroke=\"black\" points=\"42.95,-89.45 3.95,-89.45 3.95,-53.45 42.95,-53.45 42.95,-89.45\"/>\n<text text-anchor=\"middle\" x=\"23.45\" y=\"-68.63\" font-family=\"Times,serif\" font-size=\"10.40\">None</text>\n</g>\n<!-- 6&#45;&#45;5 -->\n<g id=\"edge4\" class=\"edge\">\n<title>6--5</title>\n<path fill=\"none\" stroke=\"black\" d=\"M43.32,-83.59C52.37,-89.12 63.09,-95.67 72.29,-101.29\"/>\n<text text-anchor=\"middle\" x=\"55.8\" y=\"-95.04\" font-family=\"Times,serif\" font-size=\"8.00\">1</text>\n</g>\n<!-- 7 -->\n<g id=\"node8\" class=\"node\">\n<title>7</title>\n<polygon fill=\"none\" stroke=\"black\" points=\"237.27,-36 198.27,-36 198.27,0 237.27,0 237.27,-36\"/>\n<text text-anchor=\"middle\" x=\"217.77\" y=\"-15.18\" font-family=\"Times,serif\" font-size=\"10.40\">None</text>\n</g>\n<!-- 7&#45;&#45;0 -->\n<g id=\"edge5\" class=\"edge\">\n<title>7--0</title>\n<path fill=\"none\" stroke=\"black\" d=\"M214.29,-36.41C211.3,-52.18 207.02,-74.8 204.04,-90.57\"/>\n<text text-anchor=\"middle\" x=\"207.16\" y=\"-66.09\" font-family=\"Times,serif\" font-size=\"8.00\">1</text>\n</g>\n<!-- 8 -->\n<g id=\"node9\" class=\"node\">\n<title>8</title>\n<ellipse fill=\"lightgrey\" stroke=\"black\" cx=\"126.47\" cy=\"-107.49\" rx=\"32.55\" ry=\"18.27\"/>\n<text text-anchor=\"middle\" x=\"126.47\" y=\"-110.09\" font-family=\"Times,serif\" font-size=\"8.00\">松</text>\n<text text-anchor=\"middle\" x=\"126.47\" y=\"-101.09\" font-family=\"Times,serif\" font-size=\"8.00\">(TKOK)</text>\n</g>\n<!-- 9 -->\n<g id=\"node10\" class=\"node\">\n<title>9</title>\n<polygon fill=\"lightyellow\" stroke=\"black\" points=\"175.79,-184.78 125.79,-184.78 125.79,-148.78 175.79,-148.78 175.79,-184.78\"/>\n<text text-anchor=\"middle\" x=\"150.79\" y=\"-162.73\" font-family=\"Times,serif\" font-size=\"15.68\">None</text>\n</g>\n<!-- 9&#45;&#45;0 -->\n<g id=\"edge7\" class=\"edge\">\n<title>9--0</title>\n<path fill=\"none\" stroke=\"black\" d=\"M166.54,-148.48C172.91,-141.07 180.22,-132.57 186.43,-125.37\"/>\n<text text-anchor=\"middle\" x=\"174.48\" y=\"-139.52\" font-family=\"Times,serif\" font-size=\"8.00\">3</text>\n</g>\n<!-- 9&#45;&#45;2 -->\n<g id=\"edge13\" class=\"edge\">\n<title>9--2</title>\n<path fill=\"none\" stroke=\"black\" d=\"M176.01,-157.68C183.04,-155.15 190.65,-152.41 197.56,-149.92\"/>\n<text text-anchor=\"middle\" x=\"184.78\" y=\"-156.4\" font-family=\"Times,serif\" font-size=\"8.00\">1</text>\n</g>\n<!-- 9&#45;&#45;3 -->\n<g id=\"edge8\" class=\"edge\">\n<title>9--3</title>\n<path fill=\"none\" stroke=\"black\" d=\"M175.91,-170.71C187.09,-172.47 200.38,-174.55 212.28,-176.41\"/>\n<text text-anchor=\"middle\" x=\"192.1\" y=\"-176.16\" font-family=\"Times,serif\" font-size=\"8.00\">2</text>\n</g>\n<!-- 9&#45;&#45;5 -->\n<g id=\"edge9\" class=\"edge\">\n<title>9--5</title>\n<path fill=\"none\" stroke=\"black\" d=\"M131.05,-148.68C124.18,-142.39 116.55,-135.39 109.96,-129.36\"/>\n<text text-anchor=\"middle\" x=\"118.51\" y=\"-141.62\" font-family=\"Times,serif\" font-size=\"8.00\">2</text>\n</g>\n<!-- 9&#45;&#45;8 -->\n<g id=\"edge6\" class=\"edge\">\n<title>9--8</title>\n<path fill=\"none\" stroke=\"black\" d=\"M143.36,-148.67C140.34,-141.31 136.87,-132.83 133.85,-125.49\"/>\n<text text-anchor=\"middle\" x=\"136.61\" y=\"-139.68\" font-family=\"Times,serif\" font-size=\"8.00\">4</text>\n</g>\n<!-- 10 -->\n<g id=\"node11\" class=\"node\">\n<title>10</title>\n<ellipse fill=\"lightgrey\" stroke=\"black\" cx=\"100.87\" cy=\"-229.58\" rx=\"31.64\" ry=\"18.27\"/>\n<text text-anchor=\"middle\" x=\"100.87\" y=\"-232.18\" font-family=\"Times,serif\" font-size=\"8.00\">松</text>\n<text text-anchor=\"middle\" x=\"100.87\" y=\"-223.18\" font-family=\"Times,serif\" font-size=\"8.00\">(KTGR)</text>\n</g>\n<!-- 10&#45;&#45;9 -->\n<g id=\"edge10\" class=\"edge\">\n<title>10--9</title>\n<path fill=\"none\" stroke=\"black\" d=\"M114.25,-212.75C121.06,-204.17 129.36,-193.73 136.32,-184.97\"/>\n<text text-anchor=\"middle\" x=\"123.29\" y=\"-201.46\" font-family=\"Times,serif\" font-size=\"8.00\">1</text>\n</g>\n<!-- 11 -->\n<g id=\"node12\" class=\"node\">\n<title>11</title>\n<ellipse fill=\"lightgrey\" stroke=\"black\" cx=\"68.19\" cy=\"-196.08\" rx=\"28.98\" ry=\"18.27\"/>\n<text text-anchor=\"middle\" x=\"68.19\" y=\"-198.68\" font-family=\"Times,serif\" font-size=\"8.00\">松</text>\n<text text-anchor=\"middle\" x=\"68.19\" y=\"-189.68\" font-family=\"Times,serif\" font-size=\"8.00\">(K&amp;A)</text>\n</g>\n<!-- 11&#45;&#45;9 -->\n<g id=\"edge11\" class=\"edge\">\n<title>11--9</title>\n<path fill=\"none\" stroke=\"black\" d=\"M93.87,-186.97C104.01,-183.37 115.61,-179.25 125.69,-175.68\"/>\n<text text-anchor=\"middle\" x=\"107.78\" y=\"-183.92\" font-family=\"Times,serif\" font-size=\"8.00\">1</text>\n</g>\n<!-- 12 -->\n<g id=\"node13\" class=\"node\">\n<title>12</title>\n<ellipse fill=\"lightgrey\" stroke=\"black\" cx=\"124.99\" cy=\"-254.7\" rx=\"33.47\" ry=\"18.27\"/>\n<text text-anchor=\"middle\" x=\"124.99\" y=\"-257.3\" font-family=\"Times,serif\" font-size=\"8.00\">松</text>\n<text text-anchor=\"middle\" x=\"124.99\" y=\"-248.3\" font-family=\"Times,serif\" font-size=\"8.00\">(KMCY)</text>\n</g>\n<!-- 12&#45;&#45;9 -->\n<g id=\"edge12\" class=\"edge\">\n<title>12--9</title>\n<path fill=\"none\" stroke=\"black\" d=\"M130.33,-236.48C134.76,-221.39 141.02,-200.05 145.45,-184.97\"/>\n<text text-anchor=\"middle\" x=\"135.89\" y=\"-213.33\" font-family=\"Times,serif\" font-size=\"8.00\">1</text>\n</g>\n<!-- 13 -->\n<g id=\"node14\" class=\"node\">\n<title>13</title>\n<ellipse fill=\"lightgrey\" stroke=\"black\" cx=\"172.54\" cy=\"-246.34\" rx=\"28.98\" ry=\"18.27\"/>\n<text text-anchor=\"middle\" x=\"172.54\" y=\"-248.94\" font-family=\"Times,serif\" font-size=\"8.00\">松</text>\n<text text-anchor=\"middle\" x=\"172.54\" y=\"-239.94\" font-family=\"Times,serif\" font-size=\"8.00\">(MTD)</text>\n</g>\n<!-- 13&#45;&#45;9 -->\n<g id=\"edge14\" class=\"edge\">\n<title>13--9</title>\n<path fill=\"none\" stroke=\"black\" d=\"M167.5,-227.88C163.96,-214.94 159.25,-197.72 155.73,-184.85\"/>\n<text text-anchor=\"middle\" x=\"159.61\" y=\"-208.97\" font-family=\"Times,serif\" font-size=\"8.00\">1</text>\n</g>\n<!-- 14 -->\n<g id=\"node15\" class=\"node\">\n<title>14</title>\n<polygon fill=\"lightyellow\" stroke=\"black\" points=\"190.93,-202.94 135.93,-202.94 135.93,-166.94 190.93,-166.94 190.93,-202.94\"/>\n<text text-anchor=\"middle\" x=\"163.43\" y=\"-180.33\" font-family=\"Times,serif\" font-size=\"17.63\">None</text>\n</g>\n<!-- 14&#45;&#45;0 -->\n<g id=\"edge17\" class=\"edge\">\n<title>14--0</title>\n<path fill=\"none\" stroke=\"black\" d=\"M172.23,-166.93C178.19,-154.73 186.03,-138.68 191.95,-126.57\"/>\n<text text-anchor=\"middle\" x=\"180.09\" y=\"-149.35\" font-family=\"Times,serif\" font-size=\"8.00\">3</text>\n</g>\n<!-- 14&#45;&#45;2 -->\n<g id=\"edge22\" class=\"edge\">\n<title>14--2</title>\n<path fill=\"none\" stroke=\"black\" d=\"M187.37,-166.81C192.63,-162.82 198.12,-158.66 203.08,-154.9\"/>\n<text text-anchor=\"middle\" x=\"193.22\" y=\"-163.46\" font-family=\"Times,serif\" font-size=\"8.00\">2</text>\n</g>\n<!-- 14&#45;&#45;3 -->\n<g id=\"edge19\" class=\"edge\">\n<title>14--3</title>\n<path fill=\"none\" stroke=\"black\" d=\"M191.35,-183.75C197.76,-183.47 204.65,-183.18 211.27,-182.89\"/>\n<text text-anchor=\"middle\" x=\"199.31\" y=\"-185.92\" font-family=\"Times,serif\" font-size=\"8.00\">3</text>\n</g>\n<!-- 14&#45;&#45;5 -->\n<g id=\"edge20\" class=\"edge\">\n<title>14--5</title>\n<path fill=\"none\" stroke=\"black\" d=\"M145.4,-166.72C134.22,-155.42 119.99,-141.04 109.25,-130.19\"/>\n<text text-anchor=\"middle\" x=\"125.33\" y=\"-142.06\" font-family=\"Times,serif\" font-size=\"8.00\">3</text>\n</g>\n<!-- 14&#45;&#45;8 -->\n<g id=\"edge23\" class=\"edge\">\n<title>14--8</title>\n<path fill=\"none\" stroke=\"black\" d=\"M154.67,-166.58C148.74,-154.15 140.93,-137.79 135.04,-125.44\"/>\n<text text-anchor=\"middle\" x=\"142.86\" y=\"-139.61\" font-family=\"Times,serif\" font-size=\"8.00\">2</text>\n</g>\n<!-- 14&#45;&#45;10 -->\n<g id=\"edge21\" class=\"edge\">\n<title>14--10</title>\n<path fill=\"none\" stroke=\"black\" d=\"M137.99,-203.09C132.3,-207.15 126.35,-211.39 120.92,-215.27\"/>\n<text text-anchor=\"middle\" x=\"127.46\" y=\"-202.78\" font-family=\"Times,serif\" font-size=\"8.00\">2</text>\n</g>\n<!-- 14&#45;&#45;11 -->\n<g id=\"edge24\" class=\"edge\">\n<title>14--11</title>\n<path fill=\"none\" stroke=\"black\" d=\"M135.89,-188.16C123.69,-189.59 109.34,-191.26 97,-192.71\"/>\n<text text-anchor=\"middle\" x=\"114.44\" y=\"-193.03\" font-family=\"Times,serif\" font-size=\"8.00\">1</text>\n</g>\n<!-- 14&#45;&#45;12 -->\n<g id=\"edge15\" class=\"edge\">\n<title>14--12</title>\n<path fill=\"none\" stroke=\"black\" d=\"M153.33,-203.27C147.64,-213.6 140.55,-226.46 134.89,-236.74\"/>\n<text text-anchor=\"middle\" x=\"142.11\" y=\"-213.6\" font-family=\"Times,serif\" font-size=\"8.00\">4</text>\n</g>\n<!-- 14&#45;&#45;13 -->\n<g id=\"edge18\" class=\"edge\">\n<title>14--13</title>\n<path fill=\"none\" stroke=\"black\" d=\"M166.12,-203.03C167.27,-210.81 168.62,-219.9 169.78,-227.74\"/>\n<text text-anchor=\"middle\" x=\"165.95\" y=\"-217.98\" font-family=\"Times,serif\" font-size=\"8.00\">3</text>\n</g>\n<!-- 15 -->\n<g id=\"node16\" class=\"node\">\n<title>15</title>\n<ellipse fill=\"lightgrey\" stroke=\"black\" cx=\"229.2\" cy=\"-267.2\" rx=\"27.65\" ry=\"18.27\"/>\n<text text-anchor=\"middle\" x=\"229.2\" y=\"-269.8\" font-family=\"Times,serif\" font-size=\"8.00\">松</text>\n<text text-anchor=\"middle\" x=\"229.2\" y=\"-260.8\" font-family=\"Times,serif\" font-size=\"8.00\">(KBT)</text>\n</g>\n<!-- 15&#45;&#45;14 -->\n<g id=\"edge16\" class=\"edge\">\n<title>15--14</title>\n<path fill=\"none\" stroke=\"black\" d=\"M216.2,-250.95C205.2,-237.18 189.43,-217.46 178,-203.16\"/>\n<text text-anchor=\"middle\" x=\"195.1\" y=\"-220.66\" font-family=\"Times,serif\" font-size=\"8.00\">4</text>\n</g>\n<!-- 16 -->\n<g id=\"node17\" class=\"node\">\n<title>16</title>\n<polygon fill=\"none\" stroke=\"black\" points=\"224.86,-246.66 182.86,-246.66 182.86,-210.66 224.86,-210.66 224.86,-246.66\"/>\n<text text-anchor=\"middle\" x=\"203.86\" y=\"-225.95\" font-family=\"Times,serif\" font-size=\"11.51\">None</text>\n</g>\n<!-- 16&#45;&#45;2 -->\n<g id=\"edge26\" class=\"edge\">\n<title>16--2</title>\n<path fill=\"none\" stroke=\"black\" d=\"M207.34,-210.62C210.2,-195.78 214.24,-174.83 217.12,-159.91\"/>\n<text text-anchor=\"middle\" x=\"210.23\" y=\"-187.87\" font-family=\"Times,serif\" font-size=\"8.00\">1</text>\n</g>\n<!-- 16&#45;&#45;3 -->\n<g id=\"edge27\" class=\"edge\">\n<title>16--3</title>\n<path fill=\"none\" stroke=\"black\" d=\"M219.48,-210.55C222.97,-206.5 226.67,-202.21 230.11,-198.22\"/>\n<text text-anchor=\"middle\" x=\"226.79\" y=\"-206.98\" font-family=\"Times,serif\" font-size=\"8.00\">1</text>\n</g>\n<!-- 16&#45;&#45;10 -->\n<g id=\"edge25\" class=\"edge\">\n<title>16--10</title>\n<path fill=\"none\" stroke=\"black\" d=\"M182.52,-228.85C168.15,-228.98 148.93,-229.15 132.75,-229.29\"/>\n<text text-anchor=\"middle\" x=\"155.64\" y=\"-222.67\" font-family=\"Times,serif\" font-size=\"8.00\">1</text>\n</g>\n<!-- 17 -->\n<g id=\"node18\" class=\"node\">\n<title>17</title>\n<polygon fill=\"none\" stroke=\"black\" points=\"294.62,-243.29 251.62,-243.29 251.62,-207.29 294.62,-207.29 294.62,-243.29\"/>\n<text text-anchor=\"middle\" x=\"273.12\" y=\"-222.2\" font-family=\"Times,serif\" font-size=\"11.99\">None</text>\n</g>\n<!-- 17&#45;&#45;2 -->\n<g id=\"edge29\" class=\"edge\">\n<title>17--2</title>\n<path fill=\"none\" stroke=\"black\" d=\"M261.73,-207.13C252.69,-192.71 240.14,-172.69 231.29,-158.58\"/>\n<text text-anchor=\"middle\" x=\"244.51\" y=\"-185.46\" font-family=\"Times,serif\" font-size=\"8.00\">1</text>\n</g>\n<!-- 17&#45;&#45;3 -->\n<g id=\"edge28\" class=\"edge\">\n<title>17--3</title>\n<path fill=\"none\" stroke=\"black\" d=\"M261.33,-207.22C259.55,-204.48 257.71,-201.67 255.94,-198.94\"/>\n<text text-anchor=\"middle\" x=\"256.63\" y=\"-205.68\" font-family=\"Times,serif\" font-size=\"8.00\">2</text>\n</g>\n<!-- 17&#45;&#45;13 -->\n<g id=\"edge30\" class=\"edge\">\n<title>17--13</title>\n<path fill=\"none\" stroke=\"black\" d=\"M251.29,-229.86C236.27,-233 216.2,-237.2 200.08,-240.58\"/>\n<text text-anchor=\"middle\" x=\"227.69\" y=\"-237.82\" font-family=\"Times,serif\" font-size=\"8.00\">1</text>\n</g>\n<!-- 18 -->\n<g id=\"node19\" class=\"node\">\n<title>18</title>\n<polygon fill=\"lightyellow\" stroke=\"black\" points=\"140.55,-187.3 91.55,-187.3 91.55,-151.3 140.55,-151.3 140.55,-187.3\"/>\n<text text-anchor=\"middle\" x=\"116.05\" y=\"-165.52\" font-family=\"Times,serif\" font-size=\"14.72\">None</text>\n</g>\n<!-- 18&#45;&#45;0 -->\n<g id=\"edge31\" class=\"edge\">\n<title>18--0</title>\n<path fill=\"none\" stroke=\"black\" d=\"M140.94,-151.52C153.8,-142.34 169.25,-131.31 181.2,-122.78\"/>\n<text text-anchor=\"middle\" x=\"159.07\" y=\"-139.75\" font-family=\"Times,serif\" font-size=\"8.00\">2</text>\n</g>\n<!-- 18&#45;&#45;5 -->\n<g id=\"edge34\" class=\"edge\">\n<title>18--5</title>\n<path fill=\"none\" stroke=\"black\" d=\"M108.64,-151.26C106.11,-145.11 103.29,-138.23 100.77,-132.1\"/>\n<text text-anchor=\"middle\" x=\"102.71\" y=\"-144.28\" font-family=\"Times,serif\" font-size=\"8.00\">2</text>\n</g>\n<!-- 18&#45;&#45;8 -->\n<g id=\"edge35\" class=\"edge\">\n<title>18--8</title>\n<path fill=\"none\" stroke=\"black\" d=\"M119.12,-151.09C120.44,-143.25 121.98,-134.1 123.31,-126.21\"/>\n<text text-anchor=\"middle\" x=\"123.21\" y=\"-132.25\" font-family=\"Times,serif\" font-size=\"8.00\">2</text>\n</g>\n<!-- 18&#45;&#45;10 -->\n<g id=\"edge36\" class=\"edge\">\n<title>18--10</title>\n<path fill=\"none\" stroke=\"black\" d=\"M111.49,-187.38C109.61,-194.87 107.42,-203.55 105.53,-211.09\"/>\n<text text-anchor=\"middle\" x=\"106.51\" y=\"-201.84\" font-family=\"Times,serif\" font-size=\"8.00\">1</text>\n</g>\n<!-- 18&#45;&#45;11 -->\n<g id=\"edge37\" class=\"edge\">\n<title>18--11</title>\n<path fill=\"none\" stroke=\"black\" d=\"M91.28,-183.16C90.91,-183.36 90.55,-183.57 90.18,-183.77\"/>\n<text text-anchor=\"middle\" x=\"88.73\" y=\"-177.06\" font-family=\"Times,serif\" font-size=\"8.00\">1</text>\n</g>\n<!-- 18&#45;&#45;12 -->\n<g id=\"edge32\" class=\"edge\">\n<title>18--12</title>\n<path fill=\"none\" stroke=\"black\" d=\"M117.94,-187.41C119.45,-201.81 121.55,-221.86 123.06,-236.32\"/>\n<text text-anchor=\"middle\" x=\"118.5\" y=\"-205.47\" font-family=\"Times,serif\" font-size=\"8.00\">2</text>\n</g>\n<!-- 18&#45;&#45;13 -->\n<g id=\"edge33\" class=\"edge\">\n<title>18--13</title>\n<path fill=\"none\" stroke=\"black\" d=\"M129.43,-187.56C138.77,-200.28 151.12,-217.13 160.22,-229.53\"/>\n<text text-anchor=\"middle\" x=\"146.83\" y=\"-211.14\" font-family=\"Times,serif\" font-size=\"8.00\">2</text>\n</g>\n<!-- 19 -->\n<g id=\"node20\" class=\"node\">\n<title>19</title>\n<polygon fill=\"none\" stroke=\"black\" points=\"41,-273.94 0,-273.94 0,-237.94 41,-237.94 41,-273.94\"/>\n<text text-anchor=\"middle\" x=\"20.5\" y=\"-253.15\" font-family=\"Times,serif\" font-size=\"10.99\">None</text>\n</g>\n<!-- 19&#45;&#45;10 -->\n<g id=\"edge38\" class=\"edge\">\n<title>19--10</title>\n<path fill=\"none\" stroke=\"black\" d=\"M41.2,-249.15C50.87,-245.97 62.53,-242.15 72.97,-238.73\"/>\n<text text-anchor=\"middle\" x=\"55.08\" y=\"-246.54\" font-family=\"Times,serif\" font-size=\"8.00\">1</text>\n</g>\n<!-- 19&#45;&#45;11 -->\n<g id=\"edge39\" class=\"edge\">\n<title>19--11</title>\n<path fill=\"none\" stroke=\"black\" d=\"M35.07,-237.65C41.42,-229.68 48.82,-220.39 55.01,-212.62\"/>\n<text text-anchor=\"middle\" x=\"43.04\" y=\"-227.74\" font-family=\"Times,serif\" font-size=\"8.00\">1</text>\n</g>\n<!-- 20 -->\n<g id=\"node21\" class=\"node\">\n<title>20</title>\n<polygon fill=\"none\" stroke=\"black\" points=\"290.67,-360.62 251.67,-360.62 251.67,-324.62 290.67,-324.62 290.67,-360.62\"/>\n<text text-anchor=\"middle\" x=\"271.17\" y=\"-339.8\" font-family=\"Times,serif\" font-size=\"10.40\">None</text>\n</g>\n<!-- 20&#45;&#45;15 -->\n<g id=\"edge40\" class=\"edge\">\n<title>20--15</title>\n<path fill=\"none\" stroke=\"black\" d=\"M261.01,-324.36C254.26,-312.25 245.46,-296.43 238.83,-284.51\"/>\n<text text-anchor=\"middle\" x=\"247.92\" y=\"-307.04\" font-family=\"Times,serif\" font-size=\"8.00\">1</text>\n</g>\n<!-- 21 -->\n<g id=\"node22\" class=\"node\">\n<title>21</title>\n<polygon fill=\"lightyellow\" stroke=\"black\" points=\"305.24,-192.66 262.24,-192.66 262.24,-156.66 305.24,-156.66 305.24,-192.66\"/>\n<text text-anchor=\"middle\" x=\"283.74\" y=\"-171.72\" font-family=\"Times,serif\" font-size=\"12.42\">None</text>\n</g>\n<!-- 21&#45;&#45;0 -->\n<g id=\"edge41\" class=\"edge\">\n<title>21--0</title>\n<path fill=\"none\" stroke=\"black\" d=\"M261.89,-157.39C248.5,-146.82 231.57,-133.45 218.89,-123.43\"/>\n<text text-anchor=\"middle\" x=\"238.39\" y=\"-143.01\" font-family=\"Times,serif\" font-size=\"8.00\">4</text>\n</g>\n<!-- 21&#45;&#45;15 -->\n<g id=\"edge42\" class=\"edge\">\n<title>21--15</title>\n<path fill=\"none\" stroke=\"black\" d=\"M272.96,-192.94C263.22,-209.48 248.96,-233.66 239.4,-249.9\"/>\n<text text-anchor=\"middle\" x=\"254.18\" y=\"-224.02\" font-family=\"Times,serif\" font-size=\"8.00\">1</text>\n</g>\n<!-- 22 -->\n<g id=\"node23\" class=\"node\">\n<title>22</title>\n<polygon fill=\"none\" stroke=\"black\" points=\"183.53,-78.59 140.53,-78.59 140.53,-42.59 183.53,-42.59 183.53,-78.59\"/>\n<text text-anchor=\"middle\" x=\"162.03\" y=\"-57.5\" font-family=\"Times,serif\" font-size=\"11.99\">None</text>\n</g>\n<!-- 22&#45;&#45;0 -->\n<g id=\"edge43\" class=\"edge\">\n<title>22--0</title>\n<path fill=\"none\" stroke=\"black\" d=\"M176.38,-78.6C179.97,-83.11 183.81,-87.93 187.35,-92.37\"/>\n<text text-anchor=\"middle\" x=\"183.86\" y=\"-79.08\" font-family=\"Times,serif\" font-size=\"8.00\">1</text>\n</g>\n<!-- 22&#45;&#45;2 -->\n<g id=\"edge44\" class=\"edge\">\n<title>22--2</title>\n<path fill=\"none\" stroke=\"black\" d=\"M175.33,-78.97C185.4,-92.88 199.1,-111.81 208.79,-125.21\"/>\n<text text-anchor=\"middle\" x=\"190.06\" y=\"-104.69\" font-family=\"Times,serif\" font-size=\"8.00\">1</text>\n</g>\n<!-- 22&#45;&#45;5 -->\n<g id=\"edge45\" class=\"edge\">\n<title>22--5</title>\n<path fill=\"none\" stroke=\"black\" d=\"M140.32,-77.55C131.22,-84.67 120.73,-92.86 111.99,-99.69\"/>\n<text text-anchor=\"middle\" x=\"124.16\" y=\"-82.22\" font-family=\"Times,serif\" font-size=\"8.00\">1</text>\n</g>\n<!-- 22&#45;&#45;8 -->\n<g id=\"edge46\" class=\"edge\">\n<title>22--8</title>\n<path fill=\"none\" stroke=\"black\" d=\"M148.18,-78.85C145.29,-82.66 142.26,-86.66 139.41,-90.42\"/>\n<text text-anchor=\"middle\" x=\"141.79\" y=\"-78.24\" font-family=\"Times,serif\" font-size=\"8.00\">1</text>\n</g>\n<!-- 23 -->\n<g id=\"node24\" class=\"node\">\n<title>23</title>\n<polygon fill=\"none\" stroke=\"black\" points=\"191.74,-341.79 149.74,-341.79 149.74,-305.79 191.74,-305.79 191.74,-341.79\"/>\n<text text-anchor=\"middle\" x=\"170.74\" y=\"-321.08\" font-family=\"Times,serif\" font-size=\"11.51\">None</text>\n</g>\n<!-- 23&#45;&#45;12 -->\n<g id=\"edge47\" class=\"edge\">\n<title>23--12</title>\n<path fill=\"none\" stroke=\"black\" d=\"M158.72,-305.64C151.83,-295.24 143.24,-282.27 136.46,-272.02\"/>\n<text text-anchor=\"middle\" x=\"145.59\" y=\"-291.43\" font-family=\"Times,serif\" font-size=\"8.00\">1</text>\n</g>\n<!-- 23&#45;&#45;13 -->\n<g id=\"edge49\" class=\"edge\">\n<title>23--13</title>\n<path fill=\"none\" stroke=\"black\" d=\"M171.17,-305.43C171.45,-293.18 171.83,-277.11 172.11,-264.83\"/>\n<text text-anchor=\"middle\" x=\"169.64\" y=\"-287.73\" font-family=\"Times,serif\" font-size=\"8.00\">1</text>\n</g>\n<!-- 23&#45;&#45;15 -->\n<g id=\"edge48\" class=\"edge\">\n<title>23--15</title>\n<path fill=\"none\" stroke=\"black\" d=\"M189.56,-305.57C197.3,-298.08 206.16,-289.5 213.54,-282.35\"/>\n<text text-anchor=\"middle\" x=\"199.55\" y=\"-296.56\" font-family=\"Times,serif\" font-size=\"8.00\">1</text>\n</g>\n</g>\n</svg>"
          },
          "metadata": {}
        }
      ]
    },
    {
      "cell_type": "markdown",
      "source": [
        "#### 3.2.6 | *Yamabuki*, en. kerria"
      ],
      "metadata": {
        "id": "zjvjqiEpdyEs"
      }
    },
    {
      "cell_type": "code",
      "source": [
        "dot_viz_aggr(\"山吹\")"
      ],
      "metadata": {
        "id": "WqVkus9t8C5h",
        "colab": {
          "base_uri": "https://localhost:8080/",
          "height": 606
        },
        "outputId": "9abba5ea-608c-4f6d-8c01-a489eebead5e"
      },
      "execution_count": 21,
      "outputs": [
        {
          "output_type": "display_data",
          "data": {
            "text/plain": [
              "<IPython.core.display.SVG object>"
            ],
            "image/svg+xml": "<svg xmlns=\"http://www.w3.org/2000/svg\" xmlns:xlink=\"http://www.w3.org/1999/xlink\" width=\"705pt\" height=\"438pt\" viewBox=\"0.00 0.00 705.13 438.13\">\n<g id=\"graph0\" class=\"graph\" transform=\"scale(1 1) rotate(0) translate(4 434.13)\">\n<title>%3</title>\n<polygon fill=\"white\" stroke=\"transparent\" points=\"-4,4 -4,-434.13 701.13,-434.13 701.13,4 -4,4\"/>\n<!-- 0 -->\n<g id=\"node1\" class=\"node\">\n<title>0</title>\n<ellipse fill=\"lightgrey\" stroke=\"black\" cx=\"388.84\" cy=\"-265.4\" rx=\"38.37\" ry=\"18.27\"/>\n<text text-anchor=\"middle\" x=\"388.84\" y=\"-268\" font-family=\"Times,serif\" font-size=\"8.00\">山吹</text>\n<text text-anchor=\"middle\" x=\"388.84\" y=\"-259\" font-family=\"Times,serif\" font-size=\"8.00\">(OZW)</text>\n</g>\n<!-- 1 -->\n<g id=\"node2\" class=\"node\">\n<title>1</title>\n<polygon fill=\"none\" stroke=\"black\" points=\"425.79,-369.68 386.79,-369.68 386.79,-333.68 425.79,-333.68 425.79,-369.68\"/>\n<text text-anchor=\"middle\" x=\"406.29\" y=\"-348.86\" font-family=\"Times,serif\" font-size=\"10.40\">None</text>\n</g>\n<!-- 1&#45;&#45;0 -->\n<g id=\"edge1\" class=\"edge\">\n<title>1--0</title>\n<path fill=\"none\" stroke=\"black\" d=\"M402.59,-333.38C399.65,-318.84 395.55,-298.58 392.6,-283.97\"/>\n<text text-anchor=\"middle\" x=\"395.59\" y=\"-311.27\" font-family=\"Times,serif\" font-size=\"8.00\">1</text>\n</g>\n<!-- 2 -->\n<g id=\"node3\" class=\"node\">\n<title>2</title>\n<ellipse fill=\"lightgrey\" stroke=\"black\" cx=\"283.25\" cy=\"-327.53\" rx=\"38.37\" ry=\"18.27\"/>\n<text text-anchor=\"middle\" x=\"283.25\" y=\"-330.13\" font-family=\"Times,serif\" font-size=\"8.00\">山吹</text>\n<text text-anchor=\"middle\" x=\"283.25\" y=\"-321.13\" font-family=\"Times,serif\" font-size=\"8.00\">(KTGR)</text>\n</g>\n<!-- 3 -->\n<g id=\"node4\" class=\"node\">\n<title>3</title>\n<polygon fill=\"none\" stroke=\"black\" points=\"357.73,-298.76 316.73,-298.76 316.73,-262.76 357.73,-262.76 357.73,-298.76\"/>\n<text text-anchor=\"middle\" x=\"337.23\" y=\"-277.98\" font-family=\"Times,serif\" font-size=\"10.99\">None</text>\n</g>\n<!-- 3&#45;&#45;2 -->\n<g id=\"edge2\" class=\"edge\">\n<title>3--2</title>\n<path fill=\"none\" stroke=\"black\" d=\"M316.52,-298.71C311.76,-302.83 306.73,-307.19 302.06,-311.24\"/>\n<text text-anchor=\"middle\" x=\"307.29\" y=\"-298.58\" font-family=\"Times,serif\" font-size=\"8.00\">1</text>\n</g>\n<!-- 4 -->\n<g id=\"node5\" class=\"node\">\n<title>4</title>\n<ellipse fill=\"lightgrey\" stroke=\"black\" cx=\"350.67\" cy=\"-181.47\" rx=\"38.37\" ry=\"18.27\"/>\n<text text-anchor=\"middle\" x=\"350.67\" y=\"-184.07\" font-family=\"Times,serif\" font-size=\"8.00\">山吹</text>\n<text text-anchor=\"middle\" x=\"350.67\" y=\"-175.07\" font-family=\"Times,serif\" font-size=\"8.00\">(OKMR)</text>\n</g>\n<!-- 4&#45;&#45;3 -->\n<g id=\"edge3\" class=\"edge\">\n<title>4--3</title>\n<path fill=\"none\" stroke=\"black\" d=\"M348.14,-200.15C345.72,-218.01 342.1,-244.78 339.7,-262.51\"/>\n<text text-anchor=\"middle\" x=\"341.92\" y=\"-233.93\" font-family=\"Times,serif\" font-size=\"8.00\">1</text>\n</g>\n<!-- 5 -->\n<g id=\"node6\" class=\"node\">\n<title>5</title>\n<ellipse fill=\"lightgrey\" stroke=\"black\" cx=\"204.61\" cy=\"-217.89\" rx=\"38.37\" ry=\"18.27\"/>\n<text text-anchor=\"middle\" x=\"204.61\" y=\"-220.49\" font-family=\"Times,serif\" font-size=\"8.00\">山吹</text>\n<text text-anchor=\"middle\" x=\"204.61\" y=\"-211.49\" font-family=\"Times,serif\" font-size=\"8.00\">(KNK)</text>\n</g>\n<!-- 6 -->\n<g id=\"node7\" class=\"node\">\n<title>6</title>\n<polygon fill=\"none\" stroke=\"black\" points=\"148.93,-202.13 109.93,-202.13 109.93,-166.13 148.93,-166.13 148.93,-202.13\"/>\n<text text-anchor=\"middle\" x=\"129.43\" y=\"-181.31\" font-family=\"Times,serif\" font-size=\"10.40\">None</text>\n</g>\n<!-- 6&#45;&#45;5 -->\n<g id=\"edge4\" class=\"edge\">\n<title>6--5</title>\n<path fill=\"none\" stroke=\"black\" d=\"M149.18,-193C157.53,-196.75 167.42,-201.19 176.51,-205.27\"/>\n<text text-anchor=\"middle\" x=\"160.84\" y=\"-201.73\" font-family=\"Times,serif\" font-size=\"8.00\">1</text>\n</g>\n<!-- 7 -->\n<g id=\"node8\" class=\"node\">\n<title>7</title>\n<ellipse fill=\"lightgrey\" stroke=\"black\" cx=\"475.47\" cy=\"-101.1\" rx=\"38.37\" ry=\"18.27\"/>\n<text text-anchor=\"middle\" x=\"475.47\" y=\"-103.7\" font-family=\"Times,serif\" font-size=\"8.00\">山吹</text>\n<text text-anchor=\"middle\" x=\"475.47\" y=\"-94.7\" font-family=\"Times,serif\" font-size=\"8.00\">(K&amp;A)</text>\n</g>\n<!-- 8 -->\n<g id=\"node9\" class=\"node\">\n<title>8</title>\n<polygon fill=\"none\" stroke=\"black\" points=\"494.32,-36 455.32,-36 455.32,0 494.32,0 494.32,-36\"/>\n<text text-anchor=\"middle\" x=\"474.82\" y=\"-15.18\" font-family=\"Times,serif\" font-size=\"10.40\">None</text>\n</g>\n<!-- 8&#45;&#45;7 -->\n<g id=\"edge5\" class=\"edge\">\n<title>8--7</title>\n<path fill=\"none\" stroke=\"black\" d=\"M474.96,-36.03C475.07,-49.78 475.22,-68.65 475.33,-82.53\"/>\n<text text-anchor=\"middle\" x=\"473.15\" y=\"-61.88\" font-family=\"Times,serif\" font-size=\"8.00\">1</text>\n</g>\n<!-- 9 -->\n<g id=\"node10\" class=\"node\">\n<title>9</title>\n<polygon fill=\"none\" stroke=\"black\" points=\"218.65,-150.72 179.65,-150.72 179.65,-114.72 218.65,-114.72 218.65,-150.72\"/>\n<text text-anchor=\"middle\" x=\"199.15\" y=\"-129.91\" font-family=\"Times,serif\" font-size=\"10.40\">None</text>\n</g>\n<!-- 9&#45;&#45;5 -->\n<g id=\"edge6\" class=\"edge\">\n<title>9--5</title>\n<path fill=\"none\" stroke=\"black\" d=\"M200.31,-150.79C201.22,-165.04 202.49,-184.87 203.41,-199.27\"/>\n<text text-anchor=\"middle\" x=\"199.86\" y=\"-177.63\" font-family=\"Times,serif\" font-size=\"8.00\">1</text>\n</g>\n<!-- 10 -->\n<g id=\"node11\" class=\"node\">\n<title>10</title>\n<polygon fill=\"none\" stroke=\"black\" points=\"175.95,-160.64 136.95,-160.64 136.95,-124.64 175.95,-124.64 175.95,-160.64\"/>\n<text text-anchor=\"middle\" x=\"156.45\" y=\"-139.82\" font-family=\"Times,serif\" font-size=\"10.40\">None</text>\n</g>\n<!-- 10&#45;&#45;5 -->\n<g id=\"edge7\" class=\"edge\">\n<title>10--5</title>\n<path fill=\"none\" stroke=\"black\" d=\"M168.11,-160.85C175.73,-172.77 185.65,-188.27 193.22,-200.1\"/>\n<text text-anchor=\"middle\" x=\"178.67\" y=\"-183.08\" font-family=\"Times,serif\" font-size=\"8.00\">1</text>\n</g>\n<!-- 11 -->\n<g id=\"node12\" class=\"node\">\n<title>11</title>\n<polygon fill=\"none\" stroke=\"black\" points=\"169.57,-312.28 128.57,-312.28 128.57,-276.28 169.57,-276.28 169.57,-312.28\"/>\n<text text-anchor=\"middle\" x=\"149.07\" y=\"-291.49\" font-family=\"Times,serif\" font-size=\"10.99\">None</text>\n</g>\n<!-- 11&#45;&#45;5 -->\n<g id=\"edge8\" class=\"edge\">\n<title>11--5</title>\n<path fill=\"none\" stroke=\"black\" d=\"M162.23,-276.18C171.22,-263.82 183.05,-247.55 191.92,-235.34\"/>\n<text text-anchor=\"middle\" x=\"175.08\" y=\"-258.36\" font-family=\"Times,serif\" font-size=\"8.00\">1</text>\n</g>\n<!-- 12 -->\n<g id=\"node13\" class=\"node\">\n<title>12</title>\n<ellipse fill=\"lightgrey\" stroke=\"black\" cx=\"79.11\" cy=\"-337.88\" rx=\"38.37\" ry=\"18.27\"/>\n<text text-anchor=\"middle\" x=\"79.11\" y=\"-340.48\" font-family=\"Times,serif\" font-size=\"8.00\">山吹</text>\n<text text-anchor=\"middle\" x=\"79.11\" y=\"-331.48\" font-family=\"Times,serif\" font-size=\"8.00\">(TKOK)</text>\n</g>\n<!-- 12&#45;&#45;11 -->\n<g id=\"edge9\" class=\"edge\">\n<title>12--11</title>\n<path fill=\"none\" stroke=\"black\" d=\"M102.8,-323.12C111.04,-317.98 120.23,-312.26 128.22,-307.27\"/>\n<text text-anchor=\"middle\" x=\"113.51\" y=\"-308.8\" font-family=\"Times,serif\" font-size=\"8.00\">1</text>\n</g>\n<!-- 13 -->\n<g id=\"node14\" class=\"node\">\n<title>13</title>\n<ellipse fill=\"lightgrey\" stroke=\"black\" cx=\"507.36\" cy=\"-229.08\" rx=\"38.37\" ry=\"18.27\"/>\n<text text-anchor=\"middle\" x=\"507.36\" y=\"-231.68\" font-family=\"Times,serif\" font-size=\"8.00\">山吹</text>\n<text text-anchor=\"middle\" x=\"507.36\" y=\"-222.68\" font-family=\"Times,serif\" font-size=\"8.00\">(KSJ)</text>\n</g>\n<!-- 14 -->\n<g id=\"node15\" class=\"node\">\n<title>14</title>\n<polygon fill=\"none\" stroke=\"black\" points=\"488.29,-318.78 447.29,-318.78 447.29,-282.78 488.29,-282.78 488.29,-318.78\"/>\n<text text-anchor=\"middle\" x=\"467.79\" y=\"-297.99\" font-family=\"Times,serif\" font-size=\"10.99\">None</text>\n</g>\n<!-- 14&#45;&#45;0 -->\n<g id=\"edge11\" class=\"edge\">\n<title>14--0</title>\n<path fill=\"none\" stroke=\"black\" d=\"M447.05,-291.49C437.82,-287.35 426.81,-282.42 416.87,-277.96\"/>\n<text text-anchor=\"middle\" x=\"429.96\" y=\"-287.32\" font-family=\"Times,serif\" font-size=\"8.00\">1</text>\n</g>\n<!-- 14&#45;&#45;13 -->\n<g id=\"edge10\" class=\"edge\">\n<title>14--13</title>\n<path fill=\"none\" stroke=\"black\" d=\"M477.78,-282.69C483.82,-271.74 491.5,-257.83 497.52,-246.92\"/>\n<text text-anchor=\"middle\" x=\"485.65\" y=\"-267.41\" font-family=\"Times,serif\" font-size=\"8.00\">1</text>\n</g>\n<!-- 15 -->\n<g id=\"node16\" class=\"node\">\n<title>15</title>\n<polygon fill=\"none\" stroke=\"black\" points=\"606.32,-268.16 565.32,-268.16 565.32,-232.16 606.32,-232.16 606.32,-268.16\"/>\n<text text-anchor=\"middle\" x=\"585.82\" y=\"-247.37\" font-family=\"Times,serif\" font-size=\"10.99\">None</text>\n</g>\n<!-- 15&#45;&#45;13 -->\n<g id=\"edge12\" class=\"edge\">\n<title>15--13</title>\n<path fill=\"none\" stroke=\"black\" d=\"M565.21,-244.62C557.76,-242.62 549.15,-240.31 540.88,-238.09\"/>\n<text text-anchor=\"middle\" x=\"551.05\" y=\"-243.95\" font-family=\"Times,serif\" font-size=\"8.00\">1</text>\n</g>\n<!-- 16 -->\n<g id=\"node17\" class=\"node\">\n<title>16</title>\n<ellipse fill=\"lightgrey\" stroke=\"black\" cx=\"658.95\" cy=\"-272.15\" rx=\"38.37\" ry=\"18.27\"/>\n<text text-anchor=\"middle\" x=\"658.95\" y=\"-274.75\" font-family=\"Times,serif\" font-size=\"8.00\">山吹</text>\n<text text-anchor=\"middle\" x=\"658.95\" y=\"-265.75\" font-family=\"Times,serif\" font-size=\"8.00\">(MTD)</text>\n</g>\n<!-- 16&#45;&#45;15 -->\n<g id=\"edge13\" class=\"edge\">\n<title>16--15</title>\n<path fill=\"none\" stroke=\"black\" d=\"M626.24,-262.31C619.54,-260.3 612.68,-258.23 606.55,-256.39\"/>\n<text text-anchor=\"middle\" x=\"614.39\" y=\"-261.95\" font-family=\"Times,serif\" font-size=\"8.00\">1</text>\n</g>\n<!-- 17 -->\n<g id=\"node18\" class=\"node\">\n<title>17</title>\n<ellipse fill=\"lightgrey\" stroke=\"black\" cx=\"522.18\" cy=\"-380.64\" rx=\"38.37\" ry=\"18.27\"/>\n<text text-anchor=\"middle\" x=\"522.18\" y=\"-383.24\" font-family=\"Times,serif\" font-size=\"8.00\">山吹</text>\n<text text-anchor=\"middle\" x=\"522.18\" y=\"-374.24\" font-family=\"Times,serif\" font-size=\"8.00\">(KBT)</text>\n</g>\n<!-- 18 -->\n<g id=\"node19\" class=\"node\">\n<title>18</title>\n<polygon fill=\"none\" stroke=\"black\" points=\"612.89,-388 573.89,-388 573.89,-352 612.89,-352 612.89,-388\"/>\n<text text-anchor=\"middle\" x=\"593.39\" y=\"-367.18\" font-family=\"Times,serif\" font-size=\"10.40\">None</text>\n</g>\n<!-- 18&#45;&#45;17 -->\n<g id=\"edge14\" class=\"edge\">\n<title>18--17</title>\n<path fill=\"none\" stroke=\"black\" d=\"M573.56,-372.96C568.95,-373.65 563.9,-374.41 558.82,-375.17\"/>\n<text text-anchor=\"middle\" x=\"564.19\" y=\"-376.66\" font-family=\"Times,serif\" font-size=\"8.00\">1</text>\n</g>\n<!-- 19 -->\n<g id=\"node20\" class=\"node\">\n<title>19</title>\n<polygon fill=\"none\" stroke=\"black\" points=\"157.84,-255.02 118.84,-255.02 118.84,-219.02 157.84,-219.02 157.84,-255.02\"/>\n<text text-anchor=\"middle\" x=\"138.34\" y=\"-234.2\" font-family=\"Times,serif\" font-size=\"10.40\">None</text>\n</g>\n<!-- 19&#45;&#45;5 -->\n<g id=\"edge15\" class=\"edge\">\n<title>19--5</title>\n<path fill=\"none\" stroke=\"black\" d=\"M157.87,-231.39C162.14,-230.15 166.78,-228.81 171.43,-227.47\"/>\n<text text-anchor=\"middle\" x=\"162.65\" y=\"-232.03\" font-family=\"Times,serif\" font-size=\"8.00\">1</text>\n</g>\n<!-- 20 -->\n<g id=\"node21\" class=\"node\">\n<title>20</title>\n<polygon fill=\"none\" stroke=\"black\" points=\"297.52,-430.13 258.52,-430.13 258.52,-394.13 297.52,-394.13 297.52,-430.13\"/>\n<text text-anchor=\"middle\" x=\"278.02\" y=\"-409.31\" font-family=\"Times,serif\" font-size=\"10.40\">None</text>\n</g>\n<!-- 20&#45;&#45;2 -->\n<g id=\"edge16\" class=\"edge\">\n<title>20--2</title>\n<path fill=\"none\" stroke=\"black\" d=\"M279.15,-393.77C280.02,-379.68 281.22,-360.3 282.1,-346.14\"/>\n<text text-anchor=\"middle\" x=\"278.63\" y=\"-372.56\" font-family=\"Times,serif\" font-size=\"8.00\">1</text>\n</g>\n<!-- 21 -->\n<g id=\"node22\" class=\"node\">\n<title>21</title>\n<polygon fill=\"lightyellow\" stroke=\"black\" points=\"316.2,-257.8 270.2,-257.8 270.2,-221.8 316.2,-221.8 316.2,-257.8\"/>\n<text text-anchor=\"middle\" x=\"293.2\" y=\"-236.47\" font-family=\"Times,serif\" font-size=\"13.54\">None</text>\n</g>\n<!-- 21&#45;&#45;0 -->\n<g id=\"edge19\" class=\"edge\">\n<title>21--0</title>\n<path fill=\"none\" stroke=\"black\" d=\"M316.35,-246C328.07,-249.14 342.51,-253 355.42,-256.45\"/>\n<text text-anchor=\"middle\" x=\"333.88\" y=\"-253.83\" font-family=\"Times,serif\" font-size=\"8.00\">2</text>\n</g>\n<!-- 21&#45;&#45;2 -->\n<g id=\"edge20\" class=\"edge\">\n<title>21--2</title>\n<path fill=\"none\" stroke=\"black\" d=\"M291.13,-257.98C289.44,-272.94 287.05,-294.04 285.34,-309.08\"/>\n<text text-anchor=\"middle\" x=\"286.24\" y=\"-286.13\" font-family=\"Times,serif\" font-size=\"8.00\">1</text>\n</g>\n<!-- 21&#45;&#45;4 -->\n<g id=\"edge21\" class=\"edge\">\n<title>21--4</title>\n<path fill=\"none\" stroke=\"black\" d=\"M311.06,-221.67C318.45,-214.18 326.95,-205.55 334.18,-198.21\"/>\n<text text-anchor=\"middle\" x=\"320.62\" y=\"-212.54\" font-family=\"Times,serif\" font-size=\"8.00\">1</text>\n</g>\n<!-- 21&#45;&#45;5 -->\n<g id=\"edge17\" class=\"edge\">\n<title>21--5</title>\n<path fill=\"none\" stroke=\"black\" d=\"M269.92,-234.05C260.38,-231.69 249.16,-228.91 238.73,-226.33\"/>\n<text text-anchor=\"middle\" x=\"252.32\" y=\"-232.79\" font-family=\"Times,serif\" font-size=\"8.00\">2</text>\n</g>\n<!-- 22 -->\n<g id=\"node23\" class=\"node\">\n<title>22</title>\n<ellipse fill=\"lightgrey\" stroke=\"black\" cx=\"363.66\" cy=\"-202.04\" rx=\"38.37\" ry=\"18.27\"/>\n<text text-anchor=\"middle\" x=\"363.66\" y=\"-204.64\" font-family=\"Times,serif\" font-size=\"8.00\">山吹</text>\n<text text-anchor=\"middle\" x=\"363.66\" y=\"-195.64\" font-family=\"Times,serif\" font-size=\"8.00\">(KMCY)</text>\n</g>\n<!-- 22&#45;&#45;21 -->\n<g id=\"edge18\" class=\"edge\">\n<title>22--21</title>\n<path fill=\"none\" stroke=\"black\" d=\"M337.82,-215.89C330.75,-219.68 323.14,-223.76 316.23,-227.46\"/>\n<text text-anchor=\"middle\" x=\"325.03\" y=\"-224.27\" font-family=\"Times,serif\" font-size=\"8.00\">2</text>\n</g>\n<!-- 23 -->\n<g id=\"node24\" class=\"node\">\n<title>23</title>\n<polygon fill=\"lightyellow\" stroke=\"black\" points=\"458.71,-196.73 412.71,-196.73 412.71,-160.73 458.71,-160.73 458.71,-196.73\"/>\n<text text-anchor=\"middle\" x=\"435.71\" y=\"-175.67\" font-family=\"Times,serif\" font-size=\"13.20\">None</text>\n</g>\n<!-- 23&#45;&#45;0 -->\n<g id=\"edge26\" class=\"edge\">\n<title>23--0</title>\n<path fill=\"none\" stroke=\"black\" d=\"M425.77,-197.11C417.77,-211.92 406.57,-232.62 398.61,-247.34\"/>\n<text text-anchor=\"middle\" x=\"410.19\" y=\"-215.83\" font-family=\"Times,serif\" font-size=\"8.00\">1</text>\n</g>\n<!-- 23&#45;&#45;4 -->\n<g id=\"edge23\" class=\"edge\">\n<title>23--4</title>\n<path fill=\"none\" stroke=\"black\" d=\"M412.47,-179.48C405.19,-179.71 396.96,-179.98 388.93,-180.24\"/>\n<text text-anchor=\"middle\" x=\"398.7\" y=\"-173.46\" font-family=\"Times,serif\" font-size=\"8.00\">2</text>\n</g>\n<!-- 23&#45;&#45;7 -->\n<g id=\"edge24\" class=\"edge\">\n<title>23--7</title>\n<path fill=\"none\" stroke=\"black\" d=\"M444.93,-160.73C451.36,-148.18 459.89,-131.53 466.3,-119.01\"/>\n<text text-anchor=\"middle\" x=\"453.62\" y=\"-142.47\" font-family=\"Times,serif\" font-size=\"8.00\">1</text>\n</g>\n<!-- 23&#45;&#45;13 -->\n<g id=\"edge25\" class=\"edge\">\n<title>23--13</title>\n<path fill=\"none\" stroke=\"black\" d=\"M458.78,-194.94C467.28,-200.92 476.9,-207.68 485.31,-213.59\"/>\n<text text-anchor=\"middle\" x=\"470.05\" y=\"-197.87\" font-family=\"Times,serif\" font-size=\"8.00\">1</text>\n</g>\n<!-- 23&#45;&#45;22 -->\n<g id=\"edge22\" class=\"edge\">\n<title>23--22</title>\n<path fill=\"none\" stroke=\"black\" d=\"M412.52,-186.23C407.09,-187.99 401.21,-189.89 395.48,-191.75\"/>\n<text text-anchor=\"middle\" x=\"406\" y=\"-191.59\" font-family=\"Times,serif\" font-size=\"8.00\">2</text>\n</g>\n<!-- 24 -->\n<g id=\"node25\" class=\"node\">\n<title>24</title>\n<polygon fill=\"none\" stroke=\"black\" points=\"567.99,-84.95 528.99,-84.95 528.99,-48.95 567.99,-48.95 567.99,-84.95\"/>\n<text text-anchor=\"middle\" x=\"548.49\" y=\"-64.13\" font-family=\"Times,serif\" font-size=\"10.40\">None</text>\n</g>\n<!-- 24&#45;&#45;7 -->\n<g id=\"edge27\" class=\"edge\">\n<title>24--7</title>\n<path fill=\"none\" stroke=\"black\" d=\"M528.92,-76.1C520.98,-79.81 511.67,-84.17 503.06,-88.2\"/>\n<text text-anchor=\"middle\" x=\"513.99\" y=\"-75.75\" font-family=\"Times,serif\" font-size=\"8.00\">1</text>\n</g>\n<!-- 25 -->\n<g id=\"node26\" class=\"node\">\n<title>25</title>\n<polygon fill=\"none\" stroke=\"black\" points=\"39,-402.74 0,-402.74 0,-366.74 39,-366.74 39,-402.74\"/>\n<text text-anchor=\"middle\" x=\"19.5\" y=\"-381.92\" font-family=\"Times,serif\" font-size=\"10.40\">None</text>\n</g>\n<!-- 25&#45;&#45;12 -->\n<g id=\"edge28\" class=\"edge\">\n<title>25--12</title>\n<path fill=\"none\" stroke=\"black\" d=\"M39.02,-369.4C45.4,-364.38 52.5,-358.8 58.94,-353.74\"/>\n<text text-anchor=\"middle\" x=\"46.98\" y=\"-364.17\" font-family=\"Times,serif\" font-size=\"8.00\">1</text>\n</g>\n<!-- 26 -->\n<g id=\"node27\" class=\"node\">\n<title>26</title>\n<polygon fill=\"none\" stroke=\"black\" points=\"451.95,-241.4 408.95,-241.4 408.95,-205.4 451.95,-205.4 451.95,-241.4\"/>\n<text text-anchor=\"middle\" x=\"430.45\" y=\"-220.31\" font-family=\"Times,serif\" font-size=\"11.99\">None</text>\n</g>\n<!-- 26&#45;&#45;0 -->\n<g id=\"edge32\" class=\"edge\">\n<title>26--0</title>\n<path fill=\"none\" stroke=\"black\" d=\"M412.56,-241.45C410.18,-243.85 407.75,-246.31 405.4,-248.68\"/>\n<text text-anchor=\"middle\" x=\"406.98\" y=\"-238.67\" font-family=\"Times,serif\" font-size=\"8.00\">1</text>\n</g>\n<!-- 26&#45;&#45;4 -->\n<g id=\"edge31\" class=\"edge\">\n<title>26--4</title>\n<path fill=\"none\" stroke=\"black\" d=\"M408.65,-211.94C398.78,-206.75 387.03,-200.58 376.69,-195.15\"/>\n<text text-anchor=\"middle\" x=\"390.67\" y=\"-206.15\" font-family=\"Times,serif\" font-size=\"8.00\">1</text>\n</g>\n<!-- 26&#45;&#45;13 -->\n<g id=\"edge30\" class=\"edge\">\n<title>26--13</title>\n<path fill=\"none\" stroke=\"black\" d=\"M452.28,-225.01C457.7,-225.41 463.66,-225.85 469.61,-226.29\"/>\n<text text-anchor=\"middle\" x=\"458.94\" y=\"-228.25\" font-family=\"Times,serif\" font-size=\"8.00\">1</text>\n</g>\n<!-- 26&#45;&#45;22 -->\n<g id=\"edge29\" class=\"edge\">\n<title>26--22</title>\n<path fill=\"none\" stroke=\"black\" d=\"M408.95,-216.52C404.68,-215.16 400.11,-213.69 395.58,-212.24\"/>\n<text text-anchor=\"middle\" x=\"404.26\" y=\"-216.98\" font-family=\"Times,serif\" font-size=\"8.00\">1</text>\n</g>\n<!-- 27 -->\n<g id=\"node28\" class=\"node\">\n<title>27</title>\n<polygon fill=\"none\" stroke=\"black\" points=\"355.05,-116.59 316.05,-116.59 316.05,-80.59 355.05,-80.59 355.05,-116.59\"/>\n<text text-anchor=\"middle\" x=\"335.55\" y=\"-95.77\" font-family=\"Times,serif\" font-size=\"10.40\">None</text>\n</g>\n<!-- 27&#45;&#45;4 -->\n<g id=\"edge33\" class=\"edge\">\n<title>27--4</title>\n<path fill=\"none\" stroke=\"black\" d=\"M338.9,-116.99C341.41,-130.72 344.82,-149.41 347.32,-163.13\"/>\n<text text-anchor=\"middle\" x=\"341.11\" y=\"-142.66\" font-family=\"Times,serif\" font-size=\"8.00\">1</text>\n</g>\n</g>\n</svg>"
          },
          "metadata": {}
        }
      ]
    },
    {
      "cell_type": "markdown",
      "source": [
        "## 3.2 | Breakdown Visualization"
      ],
      "metadata": {
        "id": "ZHpL6qZMfh5t"
      }
    },
    {
      "cell_type": "code",
      "source": [
        "def retrive_igraph_by_poem_by_translator(idx: str, *source_words):\n",
        "    \"\"\"Retrive igraph format data from one poem with a translator attension.\n",
        "\n",
        "    :return graph: igraph-converted information.\n",
        "    \"\"\"\n",
        "    target_word_set = set()\n",
        "    source_word_translator_set = set()\n",
        "    alignment_lst = DB.query_improper_alignment_by_word_in_poem(idx, *source_words)    \n",
        "    alignment_lst = list(_filter(alignment_lst))\n",
        "    alignment_summary = bitexts.AlignmentSummary(alignment_lst)\n",
        "    edge_info = alignment_summary.alignment_info  # For edges\" annotation\n",
        "    \n",
        "    return _gen_graph(alignment_summary, edge_info, source_words, source_word_translator_set, target_word_set)"
      ],
      "metadata": {
        "id": "lCAvtmmHwaUU"
      },
      "execution_count": 22,
      "outputs": []
    },
    {
      "cell_type": "code",
      "source": [
        "def dot_viz_brkd(word, width=None):\n",
        "    code = lemma2metacode(word, metacode2lemma_map_src)\n",
        "    candidates = DB.query_bitext_by_word(code)\n",
        "    poems = {}\n",
        "    candidates = DB.query_bitext_by_word(code)\n",
        "    for candidate in candidates:\n",
        "        if candidate.poem in poems.keys():\n",
        "            break\n",
        "        poems[candidate.poem] = candidate.source_surface\n",
        "        print(candidate.poem, candidate.source_surface)\n",
        "    idx = str(input(\"Input poem id: \"))\n",
        "    print(idx, poems[idx])\n",
        "    query = DB.query_by_poem(idx)\n",
        "    for candidate in query:\n",
        "        print(candidate.translator, candidate.target_surface)\n",
        "\n",
        "    g = retrive_igraph_by_poem_by_translator(idx, code)\n",
        "    g.write_dot(f\"../artifacts/{idx}-{word}.dot\")\n",
        "    if width:\n",
        "        with open(f\"../artifacts/{idx}-{word}.dot\", \"r\") as file:\n",
        "            lines = file.readlines()\n",
        "\n",
        "        # attr\n",
        "        lines.insert(2, f'  size=\"{width},\";\\n')\n",
        "        lines.insert(3, '  ratio=\"fill\";\\n')\n",
        "        # lines.insert(4, '  mode=\"ipsep\";\\n')\n",
        "        # lines.insert(5, '  sep=1;\\n')\n",
        "        # lines.insert(6, '  overlap=false;\\n')\n",
        "\n",
        "        with open(f\"../artifacts/{word}.dot\", \"w\") as file:\n",
        "            file.writelines(lines)\n",
        "\n",
        "    neato_command = f\"neato -Tsvg ../artifacts/{idx}-{word}.dot -o ../artifacts/{idx}-{word}.svg\"\n",
        "    subprocess.run(neato_command, shell=True, check=True)\n",
        "    display(SVG(filename=f\"../artifacts/{idx}-{word}.svg\")) "
      ],
      "metadata": {
        "id": "Gl-AFN5KiHyA"
      },
      "execution_count": 23,
      "outputs": []
    },
    {
      "cell_type": "markdown",
      "source": [
        "#### 3.2.1 | Example"
      ],
      "metadata": {
        "id": "XpQIZOiT1voj"
      }
    },
    {
      "cell_type": "code",
      "source": [
        "dot_viz_brkd(\"女郎花\")"
      ],
      "metadata": {
        "id": "BGi4Qy9XkVb8",
        "colab": {
          "base_uri": "https://localhost:8080/",
          "height": 693
        },
        "outputId": "90b11ae7-4f8f-4158-de07-593ffa1e5ef0"
      },
      "execution_count": 24,
      "outputs": [
        {
          "output_type": "stream",
          "name": "stdout",
          "text": [
            "226 なにめてゝおれるはかりそ女郎花われおちにきと人にかたるな\n",
            "227 女郎花うしと見つゝそゆきすくるおとこ山にしたてりと思へは\n",
            "228 秋のゝにやとりはすへし女郎花なをむつましみたひならなくに\n",
            "229 女郎花おほかる野邊にやとりせはあやなくあたの名をやたちなん\n",
            "230 女郎花秋のゝ風にうちなひき心ひとつをたれによすらん\n",
            "231 秋ならてあふことかたき女郎花あまのかはらにおひぬ物ゆへ\n",
            "232 たか秋にあらぬ物ゆへ女郎花なそ色に出てまたきうつろふ\n",
            "233 妻こふる鹿そ鳴なるをみなへしをのかすむのゝ花としらすや\n",
            "234 をみなへし吹過てくる秋風はめにはみえねとかこそしるけれ\n",
            "235 人のみることやくるしき女郎花秋霧にのみ立かくるらん\n",
            "236 ひとりのみなかむるよりはをみなへしわかすむやとにうへてみましを\n",
            "237 女郎花うしろめたくもみゆるかなあれたる宿にひとりたてれは\n",
            "238 花にあかてなにかへるらん女郎花おほかるのへにねなましものを\n",
            "Input poem id: 226\n",
            "226 なにめてゝおれるはかりそ女郎花われおちにきと人にかたるな\n",
            "kaneko ■■■■■■■■■■■■■■■■■■■■■■■■■■■■■■■■■■■■■■■■■■■■■■■■■■■■■■■■■■■■■■■■■■■■■\n",
            "katagiri ■■■■■■■■■■■■■■■■■■■■■■■■■■■■■■■■■■■■■■■■■\n",
            "kojimaarai ■■■■■■■■■■■■■■■■■■■■■■■■■■■■■■■■■■■■■■■■■■■■■■■■\n",
            "komachiya ■■■■■■■■■■■■■■■■■■■■■■■■■■■■■■■■■■■■■■■■■■■■■■■\n",
            "kubota ■■■■■■■■■■■■■■■■■■■■■■■■■■■■■■■■■■■■■■■■■■■■■■■■■■■■■■■■■■■\n",
            "kyusojin ■■■■■■■■■■■■■■■■■■■■■■■■■■■■■■■■■■■■■■■■■■■■■■■■■■■■■\n",
            "matsuda ■■■■■■■■■■■■■■■■■■■■■■■■■■■■■■■■■■■■■■■■■■■■■■■■■\n",
            "okumura ■■■■■■■■■■■■■■■■■■■■■■■■■■■■■■■■■■■■■■■■■■■■■■■■■■■\n",
            "ozawa ■■■■■■■■■■■■■■■■■■■■■■■■■■■■■■■■■■■■■■■■■■■■■■■■■■■■■■■■■■■■■■■■■■■\n",
            "takeoka ■■■■■■■■■■■■■■■■■■■■■■■■■■■■■■■■■■■■■■■■■■■■■■■■■■■■■■■■■■■\n"
          ]
        },
        {
          "output_type": "display_data",
          "data": {
            "text/plain": [
              "<IPython.core.display.SVG object>"
            ],
            "image/svg+xml": "<svg xmlns=\"http://www.w3.org/2000/svg\" xmlns:xlink=\"http://www.w3.org/1999/xlink\" width=\"281pt\" height=\"178pt\" viewBox=\"0.00 0.00 280.74 177.82\">\n<g id=\"graph0\" class=\"graph\" transform=\"scale(1 1) rotate(0) translate(4 173.82)\">\n<title>%3</title>\n<polygon fill=\"white\" stroke=\"transparent\" points=\"-4,4 -4,-173.82 276.74,-173.82 276.74,4 -4,4\"/>\n<!-- 0 -->\n<g id=\"node1\" class=\"node\">\n<title>0</title>\n<ellipse fill=\"lightgrey\" stroke=\"black\" cx=\"86.27\" cy=\"-121.75\" rx=\"51.74\" ry=\"18.27\"/>\n<text text-anchor=\"middle\" x=\"86.27\" y=\"-124.35\" font-family=\"Times,serif\" font-size=\"8.00\">女郎花</text>\n<text text-anchor=\"middle\" x=\"86.27\" y=\"-115.35\" font-family=\"Times,serif\" font-size=\"8.00\">(KNK)</text>\n</g>\n<!-- 1 -->\n<g id=\"node2\" class=\"node\">\n<title>1</title>\n<polygon fill=\"none\" stroke=\"black\" points=\"179.55,-112.47 136.55,-112.47 136.55,-76.47 179.55,-76.47 179.55,-112.47\"/>\n<text text-anchor=\"middle\" x=\"158.05\" y=\"-91.37\" font-family=\"Times,serif\" font-size=\"11.99\">None</text>\n</g>\n<!-- 1&#45;&#45;0 -->\n<g id=\"edge1\" class=\"edge\">\n<title>1--0</title>\n<path fill=\"none\" stroke=\"black\" d=\"M136.51,-102.65C131.8,-104.44 126.7,-106.38 121.62,-108.31\"/>\n<text text-anchor=\"middle\" x=\"127.06\" y=\"-99.08\" font-family=\"Times,serif\" font-size=\"8.00\">2</text>\n</g>\n<!-- 2 -->\n<g id=\"node3\" class=\"node\">\n<title>2</title>\n<ellipse fill=\"lightgrey\" stroke=\"black\" cx=\"174.09\" cy=\"-18.38\" rx=\"51.74\" ry=\"18.27\"/>\n<text text-anchor=\"middle\" x=\"174.09\" y=\"-20.98\" font-family=\"Times,serif\" font-size=\"8.00\">女郎花</text>\n<text text-anchor=\"middle\" x=\"174.09\" y=\"-11.98\" font-family=\"Times,serif\" font-size=\"8.00\">(KMCY)</text>\n</g>\n<!-- 2&#45;&#45;1 -->\n<g id=\"edge2\" class=\"edge\">\n<title>2--1</title>\n<path fill=\"none\" stroke=\"black\" d=\"M170.21,-36.8C167.68,-48.76 164.41,-64.29 161.89,-76.22\"/>\n<text text-anchor=\"middle\" x=\"164.05\" y=\"-59.11\" font-family=\"Times,serif\" font-size=\"8.00\">1</text>\n</g>\n<!-- 3 -->\n<g id=\"node4\" class=\"node\">\n<title>3</title>\n<ellipse fill=\"lightgrey\" stroke=\"black\" cx=\"221.12\" cy=\"-139.98\" rx=\"51.74\" ry=\"18.27\"/>\n<text text-anchor=\"middle\" x=\"221.12\" y=\"-142.58\" font-family=\"Times,serif\" font-size=\"8.00\">女郎花</text>\n<text text-anchor=\"middle\" x=\"221.12\" y=\"-133.58\" font-family=\"Times,serif\" font-size=\"8.00\">(MTD)</text>\n</g>\n<!-- 3&#45;&#45;1 -->\n<g id=\"edge3\" class=\"edge\">\n<title>3--1</title>\n<path fill=\"none\" stroke=\"black\" d=\"M197.99,-123.29C192.09,-119.03 185.75,-114.46 179.91,-110.25\"/>\n<text text-anchor=\"middle\" x=\"186.95\" y=\"-110.37\" font-family=\"Times,serif\" font-size=\"8.00\">1</text>\n</g>\n<!-- 4 -->\n<g id=\"node5\" class=\"node\">\n<title>4</title>\n<polygon fill=\"none\" stroke=\"black\" points=\"39,-169.82 0,-169.82 0,-133.82 39,-133.82 39,-169.82\"/>\n<text text-anchor=\"middle\" x=\"19.5\" y=\"-149\" font-family=\"Times,serif\" font-size=\"10.40\">None</text>\n</g>\n<!-- 4&#45;&#45;0 -->\n<g id=\"edge4\" class=\"edge\">\n<title>4--0</title>\n<path fill=\"none\" stroke=\"black\" d=\"M39.17,-142.96C43.87,-140.84 49,-138.53 54.09,-136.24\"/>\n<text text-anchor=\"middle\" x=\"44.63\" y=\"-142.2\" font-family=\"Times,serif\" font-size=\"8.00\">1</text>\n</g>\n</g>\n</svg>"
          },
          "metadata": {}
        }
      ]
    },
    {
      "cell_type": "code",
      "source": [],
      "metadata": {
        "id": "M1BuHUJK_UQG"
      },
      "execution_count": null,
      "outputs": []
    }
  ]
}