{
 "cells": [
  {
   "cell_type": "code",
   "execution_count": 33,
   "id": "87f5ecc6",
   "metadata": {},
   "outputs": [
    {
     "name": "stdout",
     "output_type": "stream",
     "text": [
      "cd src;\tpython make_bitext.py -s ../data/hachidaishu/hachidai.db -t ../data/translations/allTranslations.txt -o ../cache/bitexts.csv\n",
      "2022-12-17 20:44:26,112 [INFO] args: Namespace(out_path='../cache/bitexts.csv', src_path='../data/hachidaishu/hachidai.db', tar_path='../data/translations/allTranslations.txt')\n",
      "2022-12-17 20:44:26,112 [INFO] Loading ../data/hachidaishu/hachidai.db for Kokinwakashu texts...\n",
      "2022-12-17 20:44:31,702 [INFO] Loading ../data/translations/allTranslations.txt for kaneko's traslation...\n",
      "2022-12-17 20:44:42,401 [INFO] Loading ../data/translations/allTranslations.txt for katagiri's traslation...\n",
      "2022-12-17 20:44:51,534 [INFO] Loading ../data/translations/allTranslations.txt for kojimaarai's traslation...\n",
      "2022-12-17 20:45:00,071 [INFO] Loading ../data/translations/allTranslations.txt for komachiya's traslation...\n",
      "2022-12-17 20:45:07,758 [INFO] Loading ../data/translations/allTranslations.txt for kubota's traslation...\n",
      "2022-12-17 20:45:16,022 [INFO] Loading ../data/translations/allTranslations.txt for kyusojin's traslation...\n",
      "2022-12-17 20:45:24,635 [INFO] Loading ../data/translations/allTranslations.txt for matsuda's traslation...\n",
      "2022-12-17 20:45:33,089 [INFO] Loading ../data/translations/allTranslations.txt for okumura's traslation...\n",
      "2022-12-17 20:45:41,495 [INFO] Loading ../data/translations/allTranslations.txt for ozawa's traslation...\n",
      "2022-12-17 20:45:50,552 [INFO] Loading ../data/translations/allTranslations.txt for takeoka's traslation...\n",
      "2022-12-17 20:45:58,443 [INFO] Concating bitexts...\n",
      "2022-12-17 20:45:58,526 [INFO] Made bitexts.\n"
     ]
    }
   ],
   "source": [
    "!make build_bitext"
   ]
  },
  {
   "cell_type": "code",
   "execution_count": 34,
   "id": "59f90ead",
   "metadata": {},
   "outputs": [
    {
     "name": "stdout",
     "output_type": "stream",
     "text": [
      "cd src;\tpython make_metacode2lemma.py -f ../data/hachidaishu/hachidai.db -o ../cache/metacode2lemma_src.pkl -t source; python make_metacode2lemma.py -f ../data/translations/allTranslations.txt -o ../cache/metacode2lemma_tar.pkl -t target\n",
      "2022-12-17 20:45:59,199 [INFO] args: Namespace(db_format='source', file_path='../data/hachidaishu/hachidai.db', output_path='../cache/metacode2lemma_src.pkl')\n",
      "2022-12-17 20:45:59,397 [INFO] Saving ../cache/metacode2lemma_src.pkl...\n",
      "2022-12-17 20:45:59,412 [INFO] Done.\n",
      "2022-12-17 20:45:59,775 [INFO] args: Namespace(db_format='target', file_path='../data/translations/allTranslations.txt', output_path='../cache/metacode2lemma_tar.pkl')\n",
      "2022-12-17 20:46:00,243 [Debug] No metacode at 'N ozawa 0913 - 02 00 00 --Not found in DB-- がら がら がら' in target texts.\n",
      "2022-12-17 20:46:00,247 [INFO] Saving ../cache/metacode2lemma_tar.pkl...\n",
      "2022-12-17 20:46:00,276 [INFO] Done.\n"
     ]
    }
   ],
   "source": [
    "!make build_metacode2lemma_dict"
   ]
  },
  {
   "cell_type": "code",
   "execution_count": 35,
   "id": "f35490ce",
   "metadata": {},
   "outputs": [
    {
     "name": "stdout",
     "output_type": "stream",
     "text": [
      "cd src; python train_save_model.py -c ../cache/bitexts.csv -f ibm2_fwd.model -b ibm2_bwd.model -m ibm2\n",
      "2022-12-17 20:46:01,039 [INFO] args: Namespace(corpus_path='../cache/bitexts.csv', fn_bwd='ibm2_bwd.model', fn_fwd='ibm2_fwd.model', method='ibm2')\n",
      "2022-12-17 20:46:01,097 [INFO] Training IBM model 2...\n",
      "2022-12-17 20:46:01,148 Setting JobRuntime:name=UNKNOWN_NAME\n",
      "2022-12-17 20:46:01,148 Setting JobRuntime:name=utils\n",
      "2022-12-17 20:46:01,188 [INFO] Training from source to target...\n",
      "2022-12-17 20:47:19,569 [INFO] Training from target to source...\n",
      "2022-12-17 20:48:43,471 [INFO] Saving models to ../model...\n",
      "2022-12-17 20:48:45,937 [INFO] Done.\n"
     ]
    }
   ],
   "source": [
    "!make train_save_ibm2"
   ]
  },
  {
   "cell_type": "code",
   "execution_count": 36,
   "id": "031f1406",
   "metadata": {},
   "outputs": [
    {
     "name": "stdout",
     "output_type": "stream",
     "text": [
      "cd src; python bitexts.py -o ../cache/bitexts.db -m ibm2 -t kaneko katagiri kojimaarai komachiya kubota kyusojin matsuda okumura ozawa takeoka\n",
      "2022-12-17 20:48:46,738 [INFO] args: Namespace(method='ibm2', output_path='../cache/bitexts.db', translators=['kaneko', 'katagiri', 'kojimaarai', 'komachiya', 'kubota', 'kyusojin', 'matsuda', 'okumura', 'ozawa', 'takeoka'])\n",
      "2022-12-17 20:48:46,738 [INFO] Loading DB...\n",
      "2022-12-17 20:48:47,990 [INFO] Saving DB...\n",
      "2022-12-17 20:48:52,137 [INFO] Done.\n"
     ]
    }
   ],
   "source": [
    "!make save_db"
   ]
  },
  {
   "cell_type": "code",
   "execution_count": 37,
   "id": "53f1768e",
   "metadata": {},
   "outputs": [
    {
     "name": "stdout",
     "output_type": "stream",
     "text": [
      "cd src; python stat.py; column -s, -t ../artifacts/basic_stat.csv\n",
      "2022-12-17 20:48:52,853 [INFO] Loading...\n",
      "2022-12-17 20:48:53,247 [Info] Done.\n",
      "# of tokens  # of types  # of texts\n",
      "total        158578      7742        10000\n",
      "kaneko       19279       3058        1000\n",
      "katagiri     16857       2646        1000\n",
      "kojimaarai   15656       2705        1000\n",
      "komachiya    14462       2482        1000\n",
      "kubota       15091       2508        1000\n",
      "kyusojin     16541       2549        1000\n",
      "matsuda      15104       2751        1000\n",
      "okumura      15299       2902        1000\n",
      "ozawa        16466       3126        1000\n",
      "takeoka      13823       2605        1000\n",
      "kokin        91250       1382        1000\n"
     ]
    }
   ],
   "source": [
    "!make basic_stat"
   ]
  },
  {
   "cell_type": "code",
   "execution_count": 38,
   "id": "63dfdddf",
   "metadata": {},
   "outputs": [
    {
     "name": "stdout",
     "output_type": "stream",
     "text": [
      "cd src; python accuracy.py; column -s, -t ../artifacts/accuracy.csv\n",
      "2022-12-17 20:48:54,079 [INFO] Loading...\n",
      "2022-12-17 20:48:55,663 [Info] Calculating precision, recall and AER...\n",
      "2022-12-17 20:48:55,665 [Info] Done.\n",
      "model      source → target  target → source  bidirection\n",
      "precision  58.62            39.26            74.27\n",
      "recall     77.12            88.58            74.11\n",
      "AER        33.93            46.95            25.80\n"
     ]
    }
   ],
   "source": [
    "!make accuracy"
   ]
  },
  {
   "cell_type": "code",
   "execution_count": 39,
   "id": "9f1c67b3",
   "metadata": {},
   "outputs": [
    {
     "name": "stdout",
     "output_type": "stream",
     "text": [
      "cd src; python visualize.py -w 女郎花 -b translator\r\n"
     ]
    }
   ],
   "source": [
    "!make plot 女郎花"
   ]
  },
  {
   "cell_type": "code",
   "execution_count": 40,
   "id": "f2fa830e",
   "metadata": {},
   "outputs": [
    {
     "name": "stdout",
     "output_type": "stream",
     "text": [
      "cd src; python visualize.py -w 桜 -b translator\r\n"
     ]
    }
   ],
   "source": [
    "!make plot 桜"
   ]
  },
  {
   "cell_type": "code",
   "execution_count": 41,
   "id": "18772fd4",
   "metadata": {},
   "outputs": [
    {
     "name": "stdout",
     "output_type": "stream",
     "text": [
      "cd src; python visualize.py -w 山吹 -b translator\r\n"
     ]
    }
   ],
   "source": [
    "!make plot 山吹"
   ]
  },
  {
   "cell_type": "code",
   "execution_count": 49,
   "id": "87f61a65",
   "metadata": {},
   "outputs": [
    {
     "name": "stdout",
     "output_type": "stream",
     "text": [
      "cd src; python visualize.py -w 松 -b translator\r\n"
     ]
    }
   ],
   "source": [
    "!make plot 松"
   ]
  },
  {
   "cell_type": "code",
   "execution_count": 52,
   "id": "207fd6a5",
   "metadata": {},
   "outputs": [
    {
     "name": "stdout",
     "output_type": "stream",
     "text": [
      "cd src; python visualize.py -w 花 -b translator\r\n"
     ]
    }
   ],
   "source": [
    "!make plot 花"
   ]
  },
  {
   "cell_type": "code",
   "execution_count": 54,
   "id": "fece29a3",
   "metadata": {},
   "outputs": [
    {
     "name": "stdout",
     "output_type": "stream",
     "text": [
      "cd src; python visualize.py -w 八重葎 -b translator\r\n"
     ]
    }
   ],
   "source": [
    "!make plot 八重葎"
   ]
  },
  {
   "cell_type": "code",
   "execution_count": null,
   "id": "8093c40e",
   "metadata": {},
   "outputs": [],
   "source": [
    "!make plot 八重葎"
   ]
  }
 ],
 "metadata": {
  "kernelspec": {
   "display_name": "Python 3 (ipykernel)",
   "language": "python",
   "name": "python3"
  },
  "language_info": {
   "codemirror_mode": {
    "name": "ipython",
    "version": 3
   },
   "file_extension": ".py",
   "mimetype": "text/x-python",
   "name": "python",
   "nbconvert_exporter": "python",
   "pygments_lexer": "ipython3",
   "version": "3.8.13"
  }
 },
 "nbformat": 4,
 "nbformat_minor": 5
}
